{
 "cells": [
  {
   "cell_type": "markdown",
   "id": "c9447e27-f4c3-4b32-9b38-bea01918d1b5",
   "metadata": {},
   "source": [
    "# Imports"
   ]
  },
  {
   "cell_type": "code",
   "execution_count": 1,
   "id": "aeeb312a-1d8b-40c7-94fb-ac4fe7a0c557",
   "metadata": {
    "execution": {
     "iopub.execute_input": "2021-07-30T11:29:29.814451Z",
     "iopub.status.busy": "2021-07-30T11:29:29.814173Z",
     "iopub.status.idle": "2021-07-30T11:29:30.636996Z",
     "shell.execute_reply": "2021-07-30T11:29:30.636480Z",
     "shell.execute_reply.started": "2021-07-30T11:29:29.814382Z"
    },
    "tags": []
   },
   "outputs": [],
   "source": [
    "from traffic.core import Traffic"
   ]
  },
  {
   "cell_type": "code",
   "execution_count": 2,
   "id": "68648dd0-fcd7-45d5-b6c9-fa79b5aa7397",
   "metadata": {
    "execution": {
     "iopub.execute_input": "2021-07-30T11:29:30.638374Z",
     "iopub.status.busy": "2021-07-30T11:29:30.637988Z",
     "iopub.status.idle": "2021-07-30T11:29:36.869175Z",
     "shell.execute_reply": "2021-07-30T11:29:36.868670Z",
     "shell.execute_reply.started": "2021-07-30T11:29:30.638354Z"
    },
    "tags": []
   },
   "outputs": [],
   "source": [
    "from traffic.data.samples.featured import elal747"
   ]
  },
  {
   "cell_type": "raw",
   "id": "7ab8638d-d357-491e-8f66-af20e55aa909",
   "metadata": {},
   "source": [
    "zurich_airport.to_pickle(\"our_zurich_airport.pkl\")"
   ]
  },
  {
   "cell_type": "code",
   "execution_count": 4,
   "id": "9e303c69-cd36-4853-9931-05d02f546634",
   "metadata": {
    "execution": {
     "iopub.execute_input": "2021-07-30T11:29:36.874664Z",
     "iopub.status.busy": "2021-07-30T11:29:36.874206Z",
     "iopub.status.idle": "2021-07-30T11:29:36.877415Z",
     "shell.execute_reply": "2021-07-30T11:29:36.876950Z",
     "shell.execute_reply.started": "2021-07-30T11:29:36.874640Z"
    },
    "tags": []
   },
   "outputs": [],
   "source": [
    "def add2traf(f):\n",
    "    zurich_airport = Traffic.from_file(\"our_zurich_airport.pkl\")\n",
    "    zurich_airport = zurich_airport + f\n",
    "    zurich_airport.to_pickle(\"our_zurich_airport.pkl\")"
   ]
  },
  {
   "cell_type": "code",
   "execution_count": 5,
   "id": "699a884d-ae84-4004-8ce9-9787b1c28812",
   "metadata": {
    "execution": {
     "iopub.execute_input": "2021-07-30T11:29:36.878286Z",
     "iopub.status.busy": "2021-07-30T11:29:36.877986Z",
     "iopub.status.idle": "2021-07-30T11:29:36.950642Z",
     "shell.execute_reply": "2021-07-30T11:29:36.949798Z",
     "shell.execute_reply.started": "2021-07-30T11:29:36.878268Z"
    },
    "tags": []
   },
   "outputs": [
    {
     "ename": "AttributeError",
     "evalue": "Can't get attribute 'new_block' on <module 'pandas.core.internals.blocks' from '/home/service/miniconda3/envs/traffic/lib/python3.9/site-packages/pandas/core/internals/blocks.py'>",
     "output_type": "error",
     "traceback": [
      "\u001b[0;31m---------------------------------------------------------------------------\u001b[0m",
      "\u001b[0;31mAttributeError\u001b[0m                            Traceback (most recent call last)",
      "\u001b[0;32m/tmp/ipykernel_180546/293665294.py\u001b[0m in \u001b[0;36m<module>\u001b[0;34m\u001b[0m\n\u001b[0;32m----> 1\u001b[0;31m \u001b[0mzurich_airport\u001b[0m \u001b[0;34m=\u001b[0m \u001b[0mTraffic\u001b[0m\u001b[0;34m.\u001b[0m\u001b[0mfrom_file\u001b[0m\u001b[0;34m(\u001b[0m\u001b[0;34m\"our_zurich_airport.pkl\"\u001b[0m\u001b[0;34m)\u001b[0m\u001b[0;34m\u001b[0m\u001b[0;34m\u001b[0m\u001b[0m\n\u001b[0m",
      "\u001b[0;32m~/miniconda3/envs/traffic/lib/python3.9/site-packages/traffic/core/traffic.py\u001b[0m in \u001b[0;36mfrom_file\u001b[0;34m(cls, filename, **kwargs)\u001b[0m\n\u001b[1;32m    110\u001b[0m     ) -> Optional[TrafficTypeVar]:\n\u001b[1;32m    111\u001b[0m \u001b[0;34m\u001b[0m\u001b[0m\n\u001b[0;32m--> 112\u001b[0;31m         \u001b[0mtentative\u001b[0m \u001b[0;34m=\u001b[0m \u001b[0msuper\u001b[0m\u001b[0;34m(\u001b[0m\u001b[0;34m)\u001b[0m\u001b[0;34m.\u001b[0m\u001b[0mfrom_file\u001b[0m\u001b[0;34m(\u001b[0m\u001b[0mfilename\u001b[0m\u001b[0;34m,\u001b[0m \u001b[0;34m**\u001b[0m\u001b[0mkwargs\u001b[0m\u001b[0;34m)\u001b[0m\u001b[0;34m\u001b[0m\u001b[0;34m\u001b[0m\u001b[0m\n\u001b[0m\u001b[1;32m    113\u001b[0m \u001b[0;34m\u001b[0m\u001b[0m\n\u001b[1;32m    114\u001b[0m         \u001b[0;32mif\u001b[0m \u001b[0mtentative\u001b[0m \u001b[0;32mis\u001b[0m \u001b[0;32mnot\u001b[0m \u001b[0;32mNone\u001b[0m\u001b[0;34m:\u001b[0m\u001b[0;34m\u001b[0m\u001b[0;34m\u001b[0m\u001b[0m\n",
      "\u001b[0;32m~/miniconda3/envs/traffic/lib/python3.9/site-packages/traffic/core/mixins.py\u001b[0m in \u001b[0;36mfrom_file\u001b[0;34m(cls, filename, **kwargs)\u001b[0m\n\u001b[1;32m     70\u001b[0m         \u001b[0mpath\u001b[0m \u001b[0;34m=\u001b[0m \u001b[0mPath\u001b[0m\u001b[0;34m(\u001b[0m\u001b[0mfilename\u001b[0m\u001b[0;34m)\u001b[0m\u001b[0;34m\u001b[0m\u001b[0;34m\u001b[0m\u001b[0m\n\u001b[1;32m     71\u001b[0m         \u001b[0;32mif\u001b[0m \u001b[0mpath\u001b[0m\u001b[0;34m.\u001b[0m\u001b[0msuffixes\u001b[0m \u001b[0;32min\u001b[0m \u001b[0;34m[\u001b[0m\u001b[0;34m[\u001b[0m\u001b[0;34m\".pkl\"\u001b[0m\u001b[0;34m]\u001b[0m\u001b[0;34m,\u001b[0m \u001b[0;34m[\u001b[0m\u001b[0;34m\".pkl\"\u001b[0m\u001b[0;34m,\u001b[0m \u001b[0;34m\".gz\"\u001b[0m\u001b[0;34m]\u001b[0m\u001b[0;34m]\u001b[0m\u001b[0;34m:\u001b[0m\u001b[0;34m\u001b[0m\u001b[0;34m\u001b[0m\u001b[0m\n\u001b[0;32m---> 72\u001b[0;31m             \u001b[0;32mreturn\u001b[0m \u001b[0mcls\u001b[0m\u001b[0;34m(\u001b[0m\u001b[0mpd\u001b[0m\u001b[0;34m.\u001b[0m\u001b[0mread_pickle\u001b[0m\u001b[0;34m(\u001b[0m\u001b[0mpath\u001b[0m\u001b[0;34m,\u001b[0m \u001b[0;34m**\u001b[0m\u001b[0mkwargs\u001b[0m\u001b[0;34m)\u001b[0m\u001b[0;34m)\u001b[0m\u001b[0;34m\u001b[0m\u001b[0;34m\u001b[0m\u001b[0m\n\u001b[0m\u001b[1;32m     73\u001b[0m         \u001b[0;32mif\u001b[0m \u001b[0mpath\u001b[0m\u001b[0;34m.\u001b[0m\u001b[0msuffixes\u001b[0m \u001b[0;32min\u001b[0m \u001b[0;34m[\u001b[0m\u001b[0;34m[\u001b[0m\u001b[0;34m\".parquet\"\u001b[0m\u001b[0;34m]\u001b[0m\u001b[0;34m,\u001b[0m \u001b[0;34m[\u001b[0m\u001b[0;34m\".parquet\"\u001b[0m\u001b[0;34m,\u001b[0m \u001b[0;34m\".gz\"\u001b[0m\u001b[0;34m]\u001b[0m\u001b[0;34m]\u001b[0m\u001b[0;34m:\u001b[0m\u001b[0;34m\u001b[0m\u001b[0;34m\u001b[0m\u001b[0m\n\u001b[1;32m     74\u001b[0m             \u001b[0;32mreturn\u001b[0m \u001b[0mcls\u001b[0m\u001b[0;34m(\u001b[0m\u001b[0mpd\u001b[0m\u001b[0;34m.\u001b[0m\u001b[0mread_parquet\u001b[0m\u001b[0;34m(\u001b[0m\u001b[0mpath\u001b[0m\u001b[0;34m,\u001b[0m \u001b[0;34m**\u001b[0m\u001b[0mkwargs\u001b[0m\u001b[0;34m)\u001b[0m\u001b[0;34m)\u001b[0m\u001b[0;34m\u001b[0m\u001b[0;34m\u001b[0m\u001b[0m\n",
      "\u001b[0;32m~/miniconda3/envs/traffic/lib/python3.9/site-packages/pandas/io/pickle.py\u001b[0m in \u001b[0;36mread_pickle\u001b[0;34m(filepath_or_buffer, compression, storage_options)\u001b[0m\n\u001b[1;32m    206\u001b[0m                 \u001b[0;31m#  \"No module named 'pandas.core.sparse.series'\"\u001b[0m\u001b[0;34m\u001b[0m\u001b[0;34m\u001b[0m\u001b[0;34m\u001b[0m\u001b[0m\n\u001b[1;32m    207\u001b[0m                 \u001b[0;31m#  \"Can't get attribute '__nat_unpickle' on <module 'pandas._libs.tslib\"\u001b[0m\u001b[0;34m\u001b[0m\u001b[0;34m\u001b[0m\u001b[0;34m\u001b[0m\u001b[0m\n\u001b[0;32m--> 208\u001b[0;31m                 \u001b[0;32mreturn\u001b[0m \u001b[0mpc\u001b[0m\u001b[0;34m.\u001b[0m\u001b[0mload\u001b[0m\u001b[0;34m(\u001b[0m\u001b[0mhandles\u001b[0m\u001b[0;34m.\u001b[0m\u001b[0mhandle\u001b[0m\u001b[0;34m,\u001b[0m \u001b[0mencoding\u001b[0m\u001b[0;34m=\u001b[0m\u001b[0;32mNone\u001b[0m\u001b[0;34m)\u001b[0m\u001b[0;34m\u001b[0m\u001b[0;34m\u001b[0m\u001b[0m\n\u001b[0m\u001b[1;32m    209\u001b[0m         \u001b[0;32mexcept\u001b[0m \u001b[0mUnicodeDecodeError\u001b[0m\u001b[0;34m:\u001b[0m\u001b[0;34m\u001b[0m\u001b[0;34m\u001b[0m\u001b[0m\n\u001b[1;32m    210\u001b[0m             \u001b[0;31m# e.g. can occur for files written in py27; see GH#28645 and GH#31988\u001b[0m\u001b[0;34m\u001b[0m\u001b[0;34m\u001b[0m\u001b[0;34m\u001b[0m\u001b[0m\n",
      "\u001b[0;32m~/miniconda3/envs/traffic/lib/python3.9/site-packages/pandas/compat/pickle_compat.py\u001b[0m in \u001b[0;36mload\u001b[0;34m(fh, encoding, is_verbose)\u001b[0m\n\u001b[1;32m    247\u001b[0m         \u001b[0mup\u001b[0m\u001b[0;34m.\u001b[0m\u001b[0mis_verbose\u001b[0m \u001b[0;34m=\u001b[0m \u001b[0mis_verbose\u001b[0m\u001b[0;34m\u001b[0m\u001b[0;34m\u001b[0m\u001b[0m\n\u001b[1;32m    248\u001b[0m \u001b[0;34m\u001b[0m\u001b[0m\n\u001b[0;32m--> 249\u001b[0;31m         \u001b[0;32mreturn\u001b[0m \u001b[0mup\u001b[0m\u001b[0;34m.\u001b[0m\u001b[0mload\u001b[0m\u001b[0;34m(\u001b[0m\u001b[0;34m)\u001b[0m\u001b[0;34m\u001b[0m\u001b[0;34m\u001b[0m\u001b[0m\n\u001b[0m\u001b[1;32m    250\u001b[0m     \u001b[0;32mexcept\u001b[0m \u001b[0;34m(\u001b[0m\u001b[0mValueError\u001b[0m\u001b[0;34m,\u001b[0m \u001b[0mTypeError\u001b[0m\u001b[0;34m)\u001b[0m\u001b[0;34m:\u001b[0m\u001b[0;34m\u001b[0m\u001b[0;34m\u001b[0m\u001b[0m\n\u001b[1;32m    251\u001b[0m         \u001b[0;32mraise\u001b[0m\u001b[0;34m\u001b[0m\u001b[0;34m\u001b[0m\u001b[0m\n",
      "\u001b[0;32m~/miniconda3/envs/traffic/lib/python3.9/pickle.py\u001b[0m in \u001b[0;36mload\u001b[0;34m(self)\u001b[0m\n\u001b[1;32m   1210\u001b[0m                     \u001b[0;32mraise\u001b[0m \u001b[0mEOFError\u001b[0m\u001b[0;34m\u001b[0m\u001b[0;34m\u001b[0m\u001b[0m\n\u001b[1;32m   1211\u001b[0m                 \u001b[0;32massert\u001b[0m \u001b[0misinstance\u001b[0m\u001b[0;34m(\u001b[0m\u001b[0mkey\u001b[0m\u001b[0;34m,\u001b[0m \u001b[0mbytes_types\u001b[0m\u001b[0;34m)\u001b[0m\u001b[0;34m\u001b[0m\u001b[0;34m\u001b[0m\u001b[0m\n\u001b[0;32m-> 1212\u001b[0;31m                 \u001b[0mdispatch\u001b[0m\u001b[0;34m[\u001b[0m\u001b[0mkey\u001b[0m\u001b[0;34m[\u001b[0m\u001b[0;36m0\u001b[0m\u001b[0;34m]\u001b[0m\u001b[0;34m]\u001b[0m\u001b[0;34m(\u001b[0m\u001b[0mself\u001b[0m\u001b[0;34m)\u001b[0m\u001b[0;34m\u001b[0m\u001b[0;34m\u001b[0m\u001b[0m\n\u001b[0m\u001b[1;32m   1213\u001b[0m         \u001b[0;32mexcept\u001b[0m \u001b[0m_Stop\u001b[0m \u001b[0;32mas\u001b[0m \u001b[0mstopinst\u001b[0m\u001b[0;34m:\u001b[0m\u001b[0;34m\u001b[0m\u001b[0;34m\u001b[0m\u001b[0m\n\u001b[1;32m   1214\u001b[0m             \u001b[0;32mreturn\u001b[0m \u001b[0mstopinst\u001b[0m\u001b[0;34m.\u001b[0m\u001b[0mvalue\u001b[0m\u001b[0;34m\u001b[0m\u001b[0;34m\u001b[0m\u001b[0m\n",
      "\u001b[0;32m~/miniconda3/envs/traffic/lib/python3.9/pickle.py\u001b[0m in \u001b[0;36mload_stack_global\u001b[0;34m(self)\u001b[0m\n\u001b[1;32m   1535\u001b[0m         \u001b[0;32mif\u001b[0m \u001b[0mtype\u001b[0m\u001b[0;34m(\u001b[0m\u001b[0mname\u001b[0m\u001b[0;34m)\u001b[0m \u001b[0;32mis\u001b[0m \u001b[0;32mnot\u001b[0m \u001b[0mstr\u001b[0m \u001b[0;32mor\u001b[0m \u001b[0mtype\u001b[0m\u001b[0;34m(\u001b[0m\u001b[0mmodule\u001b[0m\u001b[0;34m)\u001b[0m \u001b[0;32mis\u001b[0m \u001b[0;32mnot\u001b[0m \u001b[0mstr\u001b[0m\u001b[0;34m:\u001b[0m\u001b[0;34m\u001b[0m\u001b[0;34m\u001b[0m\u001b[0m\n\u001b[1;32m   1536\u001b[0m             \u001b[0;32mraise\u001b[0m \u001b[0mUnpicklingError\u001b[0m\u001b[0;34m(\u001b[0m\u001b[0;34m\"STACK_GLOBAL requires str\"\u001b[0m\u001b[0;34m)\u001b[0m\u001b[0;34m\u001b[0m\u001b[0;34m\u001b[0m\u001b[0m\n\u001b[0;32m-> 1537\u001b[0;31m         \u001b[0mself\u001b[0m\u001b[0;34m.\u001b[0m\u001b[0mappend\u001b[0m\u001b[0;34m(\u001b[0m\u001b[0mself\u001b[0m\u001b[0;34m.\u001b[0m\u001b[0mfind_class\u001b[0m\u001b[0;34m(\u001b[0m\u001b[0mmodule\u001b[0m\u001b[0;34m,\u001b[0m \u001b[0mname\u001b[0m\u001b[0;34m)\u001b[0m\u001b[0;34m)\u001b[0m\u001b[0;34m\u001b[0m\u001b[0;34m\u001b[0m\u001b[0m\n\u001b[0m\u001b[1;32m   1538\u001b[0m     \u001b[0mdispatch\u001b[0m\u001b[0;34m[\u001b[0m\u001b[0mSTACK_GLOBAL\u001b[0m\u001b[0;34m[\u001b[0m\u001b[0;36m0\u001b[0m\u001b[0;34m]\u001b[0m\u001b[0;34m]\u001b[0m \u001b[0;34m=\u001b[0m \u001b[0mload_stack_global\u001b[0m\u001b[0;34m\u001b[0m\u001b[0;34m\u001b[0m\u001b[0m\n\u001b[1;32m   1539\u001b[0m \u001b[0;34m\u001b[0m\u001b[0m\n",
      "\u001b[0;32m~/miniconda3/envs/traffic/lib/python3.9/site-packages/pandas/compat/pickle_compat.py\u001b[0m in \u001b[0;36mfind_class\u001b[0;34m(self, module, name)\u001b[0m\n\u001b[1;32m    187\u001b[0m         \u001b[0mkey\u001b[0m \u001b[0;34m=\u001b[0m \u001b[0;34m(\u001b[0m\u001b[0mmodule\u001b[0m\u001b[0;34m,\u001b[0m \u001b[0mname\u001b[0m\u001b[0;34m)\u001b[0m\u001b[0;34m\u001b[0m\u001b[0;34m\u001b[0m\u001b[0m\n\u001b[1;32m    188\u001b[0m         \u001b[0mmodule\u001b[0m\u001b[0;34m,\u001b[0m \u001b[0mname\u001b[0m \u001b[0;34m=\u001b[0m \u001b[0m_class_locations_map\u001b[0m\u001b[0;34m.\u001b[0m\u001b[0mget\u001b[0m\u001b[0;34m(\u001b[0m\u001b[0mkey\u001b[0m\u001b[0;34m,\u001b[0m \u001b[0mkey\u001b[0m\u001b[0;34m)\u001b[0m\u001b[0;34m\u001b[0m\u001b[0;34m\u001b[0m\u001b[0m\n\u001b[0;32m--> 189\u001b[0;31m         \u001b[0;32mreturn\u001b[0m \u001b[0msuper\u001b[0m\u001b[0;34m(\u001b[0m\u001b[0;34m)\u001b[0m\u001b[0;34m.\u001b[0m\u001b[0mfind_class\u001b[0m\u001b[0;34m(\u001b[0m\u001b[0mmodule\u001b[0m\u001b[0;34m,\u001b[0m \u001b[0mname\u001b[0m\u001b[0;34m)\u001b[0m\u001b[0;34m\u001b[0m\u001b[0;34m\u001b[0m\u001b[0m\n\u001b[0m\u001b[1;32m    190\u001b[0m \u001b[0;34m\u001b[0m\u001b[0m\n\u001b[1;32m    191\u001b[0m \u001b[0;34m\u001b[0m\u001b[0m\n",
      "\u001b[0;32m~/miniconda3/envs/traffic/lib/python3.9/pickle.py\u001b[0m in \u001b[0;36mfind_class\u001b[0;34m(self, module, name)\u001b[0m\n\u001b[1;32m   1579\u001b[0m         \u001b[0m__import__\u001b[0m\u001b[0;34m(\u001b[0m\u001b[0mmodule\u001b[0m\u001b[0;34m,\u001b[0m \u001b[0mlevel\u001b[0m\u001b[0;34m=\u001b[0m\u001b[0;36m0\u001b[0m\u001b[0;34m)\u001b[0m\u001b[0;34m\u001b[0m\u001b[0;34m\u001b[0m\u001b[0m\n\u001b[1;32m   1580\u001b[0m         \u001b[0;32mif\u001b[0m \u001b[0mself\u001b[0m\u001b[0;34m.\u001b[0m\u001b[0mproto\u001b[0m \u001b[0;34m>=\u001b[0m \u001b[0;36m4\u001b[0m\u001b[0;34m:\u001b[0m\u001b[0;34m\u001b[0m\u001b[0;34m\u001b[0m\u001b[0m\n\u001b[0;32m-> 1581\u001b[0;31m             \u001b[0;32mreturn\u001b[0m \u001b[0m_getattribute\u001b[0m\u001b[0;34m(\u001b[0m\u001b[0msys\u001b[0m\u001b[0;34m.\u001b[0m\u001b[0mmodules\u001b[0m\u001b[0;34m[\u001b[0m\u001b[0mmodule\u001b[0m\u001b[0;34m]\u001b[0m\u001b[0;34m,\u001b[0m \u001b[0mname\u001b[0m\u001b[0;34m)\u001b[0m\u001b[0;34m[\u001b[0m\u001b[0;36m0\u001b[0m\u001b[0;34m]\u001b[0m\u001b[0;34m\u001b[0m\u001b[0;34m\u001b[0m\u001b[0m\n\u001b[0m\u001b[1;32m   1582\u001b[0m         \u001b[0;32melse\u001b[0m\u001b[0;34m:\u001b[0m\u001b[0;34m\u001b[0m\u001b[0;34m\u001b[0m\u001b[0m\n\u001b[1;32m   1583\u001b[0m             \u001b[0;32mreturn\u001b[0m \u001b[0mgetattr\u001b[0m\u001b[0;34m(\u001b[0m\u001b[0msys\u001b[0m\u001b[0;34m.\u001b[0m\u001b[0mmodules\u001b[0m\u001b[0;34m[\u001b[0m\u001b[0mmodule\u001b[0m\u001b[0;34m]\u001b[0m\u001b[0;34m,\u001b[0m \u001b[0mname\u001b[0m\u001b[0;34m)\u001b[0m\u001b[0;34m\u001b[0m\u001b[0;34m\u001b[0m\u001b[0m\n",
      "\u001b[0;32m~/miniconda3/envs/traffic/lib/python3.9/pickle.py\u001b[0m in \u001b[0;36m_getattribute\u001b[0;34m(obj, name)\u001b[0m\n\u001b[1;32m    329\u001b[0m             \u001b[0mobj\u001b[0m \u001b[0;34m=\u001b[0m \u001b[0mgetattr\u001b[0m\u001b[0;34m(\u001b[0m\u001b[0mobj\u001b[0m\u001b[0;34m,\u001b[0m \u001b[0msubpath\u001b[0m\u001b[0;34m)\u001b[0m\u001b[0;34m\u001b[0m\u001b[0;34m\u001b[0m\u001b[0m\n\u001b[1;32m    330\u001b[0m         \u001b[0;32mexcept\u001b[0m \u001b[0mAttributeError\u001b[0m\u001b[0;34m:\u001b[0m\u001b[0;34m\u001b[0m\u001b[0;34m\u001b[0m\u001b[0m\n\u001b[0;32m--> 331\u001b[0;31m             raise AttributeError(\"Can't get attribute {!r} on {!r}\"\n\u001b[0m\u001b[1;32m    332\u001b[0m                                  .format(name, obj)) from None\n\u001b[1;32m    333\u001b[0m     \u001b[0;32mreturn\u001b[0m \u001b[0mobj\u001b[0m\u001b[0;34m,\u001b[0m \u001b[0mparent\u001b[0m\u001b[0;34m\u001b[0m\u001b[0;34m\u001b[0m\u001b[0m\n",
      "\u001b[0;31mAttributeError\u001b[0m: Can't get attribute 'new_block' on <module 'pandas.core.internals.blocks' from '/home/service/miniconda3/envs/traffic/lib/python3.9/site-packages/pandas/core/internals/blocks.py'>"
     ]
    }
   ],
   "source": [
    "zurich_airport = Traffic.from_file(\"our_zurich_airport.pkl\")"
   ]
  },
  {
   "cell_type": "code",
   "execution_count": 35,
   "id": "2fc31439-e63d-4a10-ba26-e74569ea72cf",
   "metadata": {
    "execution": {
     "iopub.execute_input": "2021-07-30T12:30:14.060759Z",
     "iopub.status.busy": "2021-07-30T12:30:14.060268Z",
     "iopub.status.idle": "2021-07-30T12:30:14.088295Z",
     "shell.execute_reply": "2021-07-30T12:30:14.087775Z",
     "shell.execute_reply.started": "2021-07-30T12:30:14.060736Z"
    },
    "tags": []
   },
   "outputs": [
    {
     "data": {
      "text/html": [
       "<b>Traffic with 9 identifiers</b><style  type=\"text/css\" >\n",
       "#T_b61eb_row0_col0{\n",
       "            width:  10em;\n",
       "             height:  80%;\n",
       "            background:  linear-gradient(90deg,#5fba7d 100.0%, transparent 100.0%);\n",
       "        }#T_b61eb_row1_col0{\n",
       "            width:  10em;\n",
       "             height:  80%;\n",
       "            background:  linear-gradient(90deg,#5fba7d 64.1%, transparent 64.1%);\n",
       "        }#T_b61eb_row2_col0{\n",
       "            width:  10em;\n",
       "             height:  80%;\n",
       "            background:  linear-gradient(90deg,#5fba7d 45.6%, transparent 45.6%);\n",
       "        }#T_b61eb_row3_col0{\n",
       "            width:  10em;\n",
       "             height:  80%;\n",
       "            background:  linear-gradient(90deg,#5fba7d 19.7%, transparent 19.7%);\n",
       "        }#T_b61eb_row4_col0{\n",
       "            width:  10em;\n",
       "             height:  80%;\n",
       "            background:  linear-gradient(90deg,#5fba7d 18.9%, transparent 18.9%);\n",
       "        }#T_b61eb_row5_col0{\n",
       "            width:  10em;\n",
       "             height:  80%;\n",
       "            background:  linear-gradient(90deg,#5fba7d 15.5%, transparent 15.5%);\n",
       "        }#T_b61eb_row6_col0{\n",
       "            width:  10em;\n",
       "             height:  80%;\n",
       "            background:  linear-gradient(90deg,#5fba7d 15.2%, transparent 15.2%);\n",
       "        }#T_b61eb_row7_col0{\n",
       "            width:  10em;\n",
       "             height:  80%;\n",
       "            background:  linear-gradient(90deg,#5fba7d 14.3%, transparent 14.3%);\n",
       "        }#T_b61eb_row8_col0{\n",
       "            width:  10em;\n",
       "             height:  80%;\n",
       "            background:  linear-gradient(90deg,#5fba7d 6.0%, transparent 6.0%);\n",
       "        }</style><table id=\"T_b61eb_\" ><thead>    <tr>        <th class=\"blank\" ></th>        <th class=\"blank level0\" ></th>        <th class=\"col_heading level0 col0\" >count</th>    </tr>    <tr>        <th class=\"index_name level0\" >icao24</th>        <th class=\"index_name level1\" >callsign</th>        <th class=\"blank\" ></th>    </tr></thead><tbody>\n",
       "                <tr>\n",
       "                        <th id=\"T_b61eb_level0_row0\" class=\"row_heading level0 row0\" >4d20cd</th>\n",
       "                        <th id=\"T_b61eb_level1_row0\" class=\"row_heading level1 row0\" >VJT796</th>\n",
       "                        <td id=\"T_b61eb_row0_col0\" class=\"data row0 col0\" >4594</td>\n",
       "            </tr>\n",
       "            <tr>\n",
       "                        <th id=\"T_b61eb_level0_row1\" class=\"row_heading level0 row1\" >4b17e5</th>\n",
       "                        <th id=\"T_b61eb_level1_row1\" class=\"row_heading level1 row1\" >SWISS</th>\n",
       "                        <td id=\"T_b61eb_row1_col0\" class=\"data row1 col0\" >2947</td>\n",
       "            </tr>\n",
       "            <tr>\n",
       "                        <th id=\"T_b61eb_level0_row2\" class=\"row_heading level0 row2\" >4b17fd</th>\n",
       "                        <th id=\"T_b61eb_level1_row2\" class=\"row_heading level1 row2\" >SWR75C</th>\n",
       "                        <td id=\"T_b61eb_row2_col0\" class=\"data row2 col0\" >2093</td>\n",
       "            </tr>\n",
       "            <tr>\n",
       "                        <th id=\"T_b61eb_level0_row3\" class=\"row_heading level0 row3\" >0083c3</th>\n",
       "                        <th id=\"T_b61eb_level1_row3\" class=\"row_heading level1 row3\" >CAI3208</th>\n",
       "                        <td id=\"T_b61eb_row3_col0\" class=\"data row3 col0\" >904</td>\n",
       "            </tr>\n",
       "            <tr>\n",
       "                        <th id=\"T_b61eb_level0_row4\" class=\"row_heading level0 row4\" >4891b6</th>\n",
       "                        <th id=\"T_b61eb_level1_row4\" class=\"row_heading level1 row4\" >ENT57BW</th>\n",
       "                        <td id=\"T_b61eb_row4_col0\" class=\"data row4 col0\" >870</td>\n",
       "            </tr>\n",
       "            <tr>\n",
       "                        <th id=\"T_b61eb_level0_row5\" class=\"row_heading level0 row5\" >4690e2</th>\n",
       "                        <th id=\"T_b61eb_level1_row5\" class=\"row_heading level1 row5\" >AEE5ZH</th>\n",
       "                        <td id=\"T_b61eb_row5_col0\" class=\"data row5 col0\" >711</td>\n",
       "            </tr>\n",
       "            <tr>\n",
       "                        <th id=\"T_b61eb_level0_row6\" class=\"row_heading level0 row6\" >c01074</th>\n",
       "                        <th id=\"T_b61eb_level1_row6\" class=\"row_heading level1 row6\" >ACA879</th>\n",
       "                        <td id=\"T_b61eb_row6_col0\" class=\"data row6 col0\" >699</td>\n",
       "            </tr>\n",
       "            <tr>\n",
       "                        <th id=\"T_b61eb_level0_row7\" class=\"row_heading level0 row7\" >4b1614</th>\n",
       "                        <th id=\"T_b61eb_level1_row7\" class=\"row_heading level1 row7\" >SWR137H</th>\n",
       "                        <td id=\"T_b61eb_row7_col0\" class=\"data row7 col0\" >658</td>\n",
       "            </tr>\n",
       "            <tr>\n",
       "                        <th id=\"T_b61eb_level0_row8\" class=\"row_heading level0 row8\" >4b18b8</th>\n",
       "                        <th id=\"T_b61eb_level1_row8\" class=\"row_heading level1 row8\" >EDW229</th>\n",
       "                        <td id=\"T_b61eb_row8_col0\" class=\"data row8 col0\" >275</td>\n",
       "            </tr>\n",
       "    </tbody></table>"
      ],
      "text/plain": [
       "                 count\n",
       "icao24 callsign       \n",
       "4d20cd VJT796     4594\n",
       "4b17e5 SWISS      2947\n",
       "4b17fd SWR75C     2093\n",
       "0083c3 CAI3208     904\n",
       "4891b6 ENT57BW     870\n",
       "4690e2 AEE5ZH      711\n",
       "c01074 ACA879      699\n",
       "4b1614 SWR137H     658\n",
       "4b18b8 EDW229      275"
      ]
     },
     "execution_count": 35,
     "metadata": {},
     "output_type": "execute_result"
    }
   ],
   "source": [
    "zurich_airport"
   ]
  },
  {
   "cell_type": "code",
   "execution_count": 6,
   "id": "04c3c378-d75e-4f65-bf08-a413519975d4",
   "metadata": {
    "execution": {
     "iopub.execute_input": "2021-07-30T11:29:40.399321Z",
     "iopub.status.busy": "2021-07-30T11:29:40.398785Z",
     "iopub.status.idle": "2021-07-30T11:29:40.996579Z",
     "shell.execute_reply": "2021-07-30T11:29:40.995965Z",
     "shell.execute_reply.started": "2021-07-30T11:29:40.399277Z"
    },
    "tags": []
   },
   "outputs": [
    {
     "data": {
      "application/vnd.jupyter.widget-view+json": {
       "model_id": "ee584ffb272c4bccb08c860e41da158c",
       "version_major": 2,
       "version_minor": 0
      },
      "text/plain": [
       "Map(center=[47.4540346098325, 8.557518889394375], controls=(ZoomControl(options=['position', 'zoom_in_text', '…"
      ]
     },
     "metadata": {},
     "output_type": "display_data"
    }
   ],
   "source": [
    "zurich_airport['AEE5ZH'].map_leaflet(zoom=13, highlight=dict(red=lambda x : x.moving(), orange=lambda x : x.moving(filter_dict=dict(compute_gs=3))))"
   ]
  },
  {
   "cell_type": "code",
   "execution_count": null,
   "id": "46efd86b-97bb-4669-8a06-585145e81118",
   "metadata": {},
   "outputs": [],
   "source": []
  },
  {
   "cell_type": "code",
   "execution_count": 7,
   "id": "1804de7e-d38f-46be-8099-f6a829f171ea",
   "metadata": {
    "execution": {
     "iopub.execute_input": "2021-07-30T11:29:40.997740Z",
     "iopub.status.busy": "2021-07-30T11:29:40.997586Z",
     "iopub.status.idle": "2021-07-30T11:29:41.156023Z",
     "shell.execute_reply": "2021-07-30T11:29:41.155404Z",
     "shell.execute_reply.started": "2021-07-30T11:29:40.997724Z"
    },
    "tags": []
   },
   "outputs": [
    {
     "data": {
      "application/vnd.jupyter.widget-view+json": {
       "model_id": "7d373c66530e4d9baa30dced1995b1ba",
       "version_major": 2,
       "version_minor": 0
      },
      "text/plain": [
       "Map(center=[47.45984849837041, 8.555891253770787], controls=(ZoomControl(options=['position', 'zoom_in_text', …"
      ]
     },
     "metadata": {},
     "output_type": "display_data"
    }
   ],
   "source": [
    "zurich_airport['CAI3208'].moving(filter_dict=dict(compute_gs=17)).map_leaflet(zoom=13)"
   ]
  },
  {
   "cell_type": "code",
   "execution_count": 8,
   "id": "f69c124a-3cf9-4a16-a718-ad0ceb4c6afe",
   "metadata": {
    "execution": {
     "iopub.execute_input": "2021-07-30T11:29:41.312685Z",
     "iopub.status.busy": "2021-07-30T11:29:41.311816Z",
     "iopub.status.idle": "2021-07-30T11:29:41.444064Z",
     "shell.execute_reply": "2021-07-30T11:29:41.443481Z",
     "shell.execute_reply.started": "2021-07-30T11:29:41.312637Z"
    },
    "tags": []
   },
   "outputs": [
    {
     "data": {
      "application/vnd.jupyter.widget-view+json": {
       "model_id": "f870680d2bf64bc79db7a39a0fb07b37",
       "version_major": 2,
       "version_minor": 0
      },
      "text/plain": [
       "Map(center=[47.45595508065941, 8.557372493603097], controls=(ZoomControl(options=['position', 'zoom_in_text', …"
      ]
     },
     "metadata": {},
     "output_type": "display_data"
    }
   ],
   "source": [
    "zurich_airport['CAI3208'].map_leaflet(zoom=13)"
   ]
  },
  {
   "cell_type": "markdown",
   "id": "6fff4714-af9f-4497-a369-0d421542847f",
   "metadata": {},
   "source": [
    "# Load"
   ]
  },
  {
   "cell_type": "code",
   "execution_count": 9,
   "id": "eb35d74a-a9ff-44cb-aa81-42a4e3446b91",
   "metadata": {
    "execution": {
     "iopub.execute_input": "2021-07-30T11:29:44.198089Z",
     "iopub.status.busy": "2021-07-30T11:29:44.196798Z",
     "iopub.status.idle": "2021-07-30T11:30:51.677429Z",
     "shell.execute_reply": "2021-07-30T11:30:51.676553Z",
     "shell.execute_reply.started": "2021-07-30T11:29:44.198022Z"
    },
    "tags": []
   },
   "outputs": [],
   "source": [
    "traf = Traffic.from_file(\"../../data/intermediate/taxi_zurich_2019_takeoff.pkl\")"
   ]
  },
  {
   "cell_type": "code",
   "execution_count": null,
   "id": "6dff0b14-7b69-49d3-9f1f-91596384e12d",
   "metadata": {},
   "outputs": [],
   "source": []
  },
  {
   "cell_type": "code",
   "execution_count": 21,
   "id": "ad974139-a58e-4874-bac3-07ed511c0273",
   "metadata": {
    "execution": {
     "iopub.execute_input": "2021-07-30T11:41:36.086629Z",
     "iopub.status.busy": "2021-07-30T11:41:36.085470Z",
     "iopub.status.idle": "2021-07-30T11:41:38.048440Z",
     "shell.execute_reply": "2021-07-30T11:41:38.048001Z",
     "shell.execute_reply.started": "2021-07-30T11:41:36.086565Z"
    },
    "tags": []
   },
   "outputs": [
    {
     "data": {
      "application/vnd.jupyter.widget-view+json": {
       "model_id": "ef720a0848074e4b8417eac8e5b3031d",
       "version_major": 2,
       "version_minor": 0
      },
      "text/plain": [
       "Map(center=[47.45749668488147, 8.558688218483015], controls=(ZoomControl(options=['position', 'zoom_in_text', …"
      ]
     },
     "metadata": {},
     "output_type": "display_data"
    }
   ],
   "source": [
    "f6 = traf['SWR1958_11255']\n",
    "f5=traf['AUA568_3890']\n",
    "f3 = traf['EDW146Z_5711']\n",
    "f3.map_leaflet(zoom=13)\n",
    "\n"
   ]
  },
  {
   "cell_type": "markdown",
   "id": "df4d2467-2580-4f64-a87a-d81f69e02ce8",
   "metadata": {},
   "source": [
    "# Moving"
   ]
  },
  {
   "cell_type": "code",
   "execution_count": 7,
   "id": "6eebf114-e173-4d14-8e67-a8a7df818f73",
   "metadata": {
    "execution": {
     "iopub.execute_input": "2021-07-23T08:43:57.376689Z",
     "iopub.status.busy": "2021-07-23T08:43:57.376533Z",
     "iopub.status.idle": "2021-07-23T08:43:57.743570Z",
     "shell.execute_reply": "2021-07-23T08:43:57.742777Z",
     "shell.execute_reply.started": "2021-07-23T08:43:57.376672Z"
    },
    "tags": []
   },
   "outputs": [
    {
     "data": {
      "application/vnd.jupyter.widget-view+json": {
       "model_id": "99e8a870ff05414196f30f58b05c065c",
       "version_major": 2,
       "version_minor": 0
      },
      "text/plain": [
       "Map(center=[41.79513362777779, 12.242359133333334], controls=(ZoomControl(options=['position', 'zoom_in_text',…"
      ]
     },
     "metadata": {},
     "output_type": "display_data"
    }
   ],
   "source": [
    "elal747.first(\"30T\").map_leaflet(zoom=15, highlight=dict(red = lambda x: x.moving(filter_dict=dict(compute_gs=1))))"
   ]
  },
  {
   "cell_type": "code",
   "execution_count": 8,
   "id": "6b69803a-3b8a-44c7-b8aa-c638d8495887",
   "metadata": {
    "execution": {
     "iopub.execute_input": "2021-07-23T08:43:57.745692Z",
     "iopub.status.busy": "2021-07-23T08:43:57.745120Z",
     "iopub.status.idle": "2021-07-23T08:43:57.904827Z",
     "shell.execute_reply": "2021-07-23T08:43:57.904379Z",
     "shell.execute_reply.started": "2021-07-23T08:43:57.745664Z"
    },
    "tags": []
   },
   "outputs": [
    {
     "data": {
      "application/vnd.jupyter.widget-view+json": {
       "model_id": "2c0ccb68d7074f66be3f7812d98c601c",
       "version_major": 2,
       "version_minor": 0
      },
      "text/plain": [
       "Map(center=[41.79524745689655, 12.242477318965516], controls=(ZoomControl(options=['position', 'zoom_in_text',…"
      ]
     },
     "metadata": {},
     "output_type": "display_data"
    }
   ],
   "source": [
    "elal747.first(\"30T\").moving(filter_dict=dict(compute_gs=3),  speed_threshold=1.5).map_leaflet(zoom=15)"
   ]
  },
  {
   "cell_type": "code",
   "execution_count": 9,
   "id": "eda8af6a-6ed0-4c0a-a5fb-339b41d8302f",
   "metadata": {
    "execution": {
     "iopub.execute_input": "2021-07-23T08:43:57.905941Z",
     "iopub.status.busy": "2021-07-23T08:43:57.905529Z",
     "iopub.status.idle": "2021-07-23T08:43:58.684773Z",
     "shell.execute_reply": "2021-07-23T08:43:58.684289Z",
     "shell.execute_reply.started": "2021-07-23T08:43:57.905921Z"
    },
    "tags": []
   },
   "outputs": [
    {
     "data": {
      "application/vnd.jupyter.widget-view+json": {
       "model_id": "8e35fd70a753423da3074750acb07f62",
       "version_major": 2,
       "version_minor": 0
      },
      "text/plain": [
       "Map(center=[47.4525625252589, 8.55924396710518], controls=(ZoomControl(options=['position', 'zoom_in_text', 'z…"
      ]
     },
     "metadata": {},
     "output_type": "display_data"
    }
   ],
   "source": [
    "traf['EDW146Z_5711'].first(\"15T\").map_leaflet(zoom=14)\n"
   ]
  },
  {
   "cell_type": "code",
   "execution_count": 10,
   "id": "25d8d652-1566-444d-9b73-0f1bd61e2854",
   "metadata": {
    "execution": {
     "iopub.execute_input": "2021-07-23T08:43:58.685685Z",
     "iopub.status.busy": "2021-07-23T08:43:58.685528Z",
     "iopub.status.idle": "2021-07-23T08:43:59.358267Z",
     "shell.execute_reply": "2021-07-23T08:43:59.357800Z",
     "shell.execute_reply.started": "2021-07-23T08:43:58.685668Z"
    },
    "tags": []
   },
   "outputs": [
    {
     "data": {
      "text/plain": [
       "Timestamp('2019-10-05 05:49:01+0000', tz='UTC')"
      ]
     },
     "execution_count": 10,
     "metadata": {},
     "output_type": "execute_result"
    }
   ],
   "source": [
    "traf['EDW146Z_5711'].moving(filter_dict=dict(compute_gs=31)).start"
   ]
  },
  {
   "cell_type": "code",
   "execution_count": 11,
   "id": "a6636700-cd0d-4d1b-a71c-b47ae65cb222",
   "metadata": {
    "execution": {
     "iopub.execute_input": "2021-07-23T08:43:59.359209Z",
     "iopub.status.busy": "2021-07-23T08:43:59.359042Z",
     "iopub.status.idle": "2021-07-23T08:44:00.149708Z",
     "shell.execute_reply": "2021-07-23T08:44:00.149195Z",
     "shell.execute_reply.started": "2021-07-23T08:43:59.359191Z"
    },
    "tags": []
   },
   "outputs": [
    {
     "data": {
      "application/vnd.jupyter.widget-view+json": {
       "model_id": "5aa158696fe64b04a1d5ddd5f9f29580",
       "version_major": 2,
       "version_minor": 0
      },
      "text/plain": [
       "Map(center=[47.45327907271531, 8.55894663822529], controls=(ZoomControl(options=['position', 'zoom_in_text', '…"
      ]
     },
     "metadata": {},
     "output_type": "display_data"
    }
   ],
   "source": [
    "traf['EDW146Z_5711'].first(\"15T\").moving(filter_dict=dict(compute_gs=31),  speed_threshold=1.5).map_leaflet(zoom=14)\n"
   ]
  },
  {
   "cell_type": "markdown",
   "id": "a085cb8b-b3e9-456a-8ab9-36baf97bf8f1",
   "metadata": {},
   "source": [
    "# Parking position"
   ]
  },
  {
   "cell_type": "code",
   "execution_count": 18,
   "id": "ea18aa27-9a2e-4757-998c-d9d10346f8e0",
   "metadata": {
    "execution": {
     "iopub.execute_input": "2021-07-30T10:06:01.107913Z",
     "iopub.status.busy": "2021-07-30T10:06:01.107608Z",
     "iopub.status.idle": "2021-07-30T10:06:01.115441Z",
     "shell.execute_reply": "2021-07-30T10:06:01.112187Z",
     "shell.execute_reply.started": "2021-07-30T10:06:01.107893Z"
    }
   },
   "outputs": [
    {
     "ename": "SyntaxError",
     "evalue": "invalid syntax (3718259974.py, line 1)",
     "output_type": "error",
     "traceback": [
      "\u001b[0;36m  File \u001b[0;32m\"/tmp/ipykernel_179589/3718259974.py\"\u001b[0;36m, line \u001b[0;32m1\u001b[0m\n\u001b[0;31m    SWR86_13194 => very small pb (part parallel to parking position)\u001b[0m\n\u001b[0m                 ^\u001b[0m\n\u001b[0;31mSyntaxError\u001b[0m\u001b[0;31m:\u001b[0m invalid syntax\n"
     ]
    }
   ],
   "source": [
    "SWR86_13194 => very small pb (part parallel to parking position)\n",
    "traf['SWR18_13314'] => find a pp really far away... on_parking_position.next() returns the same as .max()\n",
    "     "
   ]
  },
  {
   "cell_type": "code",
   "execution_count": null,
   "id": "9efef1b6-371f-43ec-aa52-77d77631a3a3",
   "metadata": {
    "execution": {
     "iopub.status.busy": "2021-07-30T10:06:01.115943Z",
     "iopub.status.idle": "2021-07-30T10:06:01.116160Z",
     "shell.execute_reply": "2021-07-30T10:06:01.116057Z",
     "shell.execute_reply.started": "2021-07-30T10:06:01.116047Z"
    }
   },
   "outputs": [],
   "source": [
    "traf['SWR18_13314'].onground().map_leaflet(zoom=13)"
   ]
  },
  {
   "cell_type": "markdown",
   "id": "563aa6a6-3237-46a1-ac92-2aa0d559aa1c",
   "metadata": {},
   "source": [
    "# Pushback"
   ]
  },
  {
   "cell_type": "code",
   "execution_count": null,
   "id": "d81d7913-a8c3-4b9c-a1c1-baef294d3888",
   "metadata": {},
   "outputs": [],
   "source": [
    "SWR156M_9456 => \n",
    "SWR16F_12955 => small star beggining mocvement"
   ]
  },
  {
   "cell_type": "raw",
   "id": "396a66ec-fc1f-45f4-a491-f83ddf84490d",
   "metadata": {
    "execution": {
     "iopub.execute_input": "2021-07-15T16:14:29.340249Z",
     "iopub.status.busy": "2021-07-15T16:14:29.339335Z",
     "iopub.status.idle": "2021-07-15T16:14:34.599005Z",
     "shell.execute_reply": "2021-07-15T16:14:34.598104Z",
     "shell.execute_reply.started": "2021-07-15T16:14:29.340202Z"
    },
    "tags": []
   },
   "source": [
    "add2traf(traf['SWR134A_16058'])"
   ]
  },
  {
   "cell_type": "code",
   "execution_count": 43,
   "id": "d13ce932-1911-4ba4-be53-fe317a868085",
   "metadata": {
    "execution": {
     "iopub.execute_input": "2021-07-15T16:15:35.642279Z",
     "iopub.status.busy": "2021-07-15T16:15:35.641263Z",
     "iopub.status.idle": "2021-07-15T16:15:35.797356Z",
     "shell.execute_reply": "2021-07-15T16:15:35.796890Z",
     "shell.execute_reply.started": "2021-07-15T16:15:35.642249Z"
    },
    "tags": []
   },
   "outputs": [
    {
     "name": "stderr",
     "output_type": "stream",
     "text": [
      "/home/service/miniconda3/envs/traffic/lib/python3.9/site-packages/traffic/core/flight.py:64: FutureWarning: casting datetime64[ns, UTC] values to int64 with .astype(...) is deprecated and will raise in a future version. Use .view(...) instead.\n",
      "  interpolated, *_ = data.astype(int).interpolate(*args, **kwargs)\n"
     ]
    },
    {
     "data": {
      "application/vnd.jupyter.widget-view+json": {
       "model_id": "096e2be1a21c4eefa68e5d5ebbc1d8c1",
       "version_major": 2,
       "version_minor": 0
      },
      "text/plain": [
       "Map(center=[47.453752498626706, 8.558142407490656], controls=(ZoomControl(options=['position', 'zoom_in_text',…"
      ]
     },
     "metadata": {},
     "output_type": "display_data"
    }
   ],
   "source": [
    "zurich_airport['SWR134A_16058'].first('10T').map_leaflet(zoom=13)"
   ]
  },
  {
   "cell_type": "markdown",
   "id": "6fceb855-5be6-4038-a60c-a8b1e173bd55",
   "metadata": {},
   "source": [
    "# Taxiways "
   ]
  },
  {
   "cell_type": "code",
   "execution_count": 29,
   "id": "c6ae33cd-d0f4-4299-a6d1-3327f6652d2c",
   "metadata": {
    "execution": {
     "iopub.execute_input": "2021-07-30T11:47:07.976682Z",
     "iopub.status.busy": "2021-07-30T11:47:07.973258Z",
     "iopub.status.idle": "2021-07-30T11:47:15.069836Z",
     "shell.execute_reply": "2021-07-30T11:47:15.069227Z",
     "shell.execute_reply.started": "2021-07-30T11:47:07.976615Z"
    },
    "tags": []
   },
   "outputs": [
    {
     "name": "stderr",
     "output_type": "stream",
     "text": [
      "/home/service/miniconda3/envs/traffic/lib/python3.9/site-packages/numpy/lib/function_base.py:2246: RuntimeWarning: invalid value encountered in extremities_dist (vectorized)\n",
      "  outputs = ufunc(*inputs)\n"
     ]
    },
    {
     "data": {
      "application/vnd.jupyter.widget-view+json": {
       "model_id": "4e00c721cc22414c9e9780d42aa8c111",
       "version_major": 2,
       "version_minor": 0
      },
      "text/plain": [
       "Map(center=[47.458056, 8.548056], controls=(ZoomControl(options=['position', 'zoom_in_text', 'zoom_in_title', …"
      ]
     },
     "metadata": {},
     "output_type": "display_data"
    }
   ],
   "source": [
    "f6.first(\"80T\").map_leaflet(\n",
    "    airport=\"LSZH\",\n",
    "    zoom=14,\n",
    "    highlight=dict(red=lambda f: f.on_taxiway(\"LSZH\")),\n",
    ")"
   ]
  },
  {
   "cell_type": "code",
   "execution_count": 31,
   "id": "aeeeec40-f0d9-4d1a-8478-04b210e44c2f",
   "metadata": {
    "execution": {
     "iopub.execute_input": "2021-07-30T11:47:44.802236Z",
     "iopub.status.busy": "2021-07-30T11:47:44.801840Z",
     "iopub.status.idle": "2021-07-30T11:47:45.341475Z",
     "shell.execute_reply": "2021-07-30T11:47:45.340939Z",
     "shell.execute_reply.started": "2021-07-30T11:47:44.802211Z"
    },
    "tags": []
   },
   "outputs": [
    {
     "data": {
      "application/vnd.jupyter.widget-view+json": {
       "model_id": "3251e9ebfa22487eb803e766ca4ceba7",
       "version_major": 2,
       "version_minor": 0
      },
      "text/plain": [
       "Map(center=[47.458056, 8.548056], controls=(ZoomControl(options=['position', 'zoom_in_text', 'zoom_in_title', …"
      ]
     },
     "metadata": {},
     "output_type": "display_data"
    }
   ],
   "source": [
    "f5.first(\"80T\").map_leaflet(\n",
    "    airport=\"LSZH\",\n",
    "    zoom=14,\n",
    "    highlight=dict(red=lambda f: f.on_taxiway(\"LSZH\")),\n",
    ")"
   ]
  },
  {
   "cell_type": "code",
   "execution_count": 23,
   "id": "77397f55-9ead-4659-8fa5-3b382fc94aac",
   "metadata": {
    "execution": {
     "iopub.execute_input": "2021-07-30T11:42:03.505765Z",
     "iopub.status.busy": "2021-07-30T11:42:03.505512Z",
     "iopub.status.idle": "2021-07-30T11:42:04.060742Z",
     "shell.execute_reply": "2021-07-30T11:42:04.060319Z",
     "shell.execute_reply.started": "2021-07-30T11:42:03.505743Z"
    },
    "tags": []
   },
   "outputs": [
    {
     "data": {
      "application/vnd.jupyter.widget-view+json": {
       "model_id": "add6b399dc0845f6ab21822b6d3025d6",
       "version_major": 2,
       "version_minor": 0
      },
      "text/plain": [
       "Map(center=[47.458056, 8.548056], controls=(ZoomControl(options=['position', 'zoom_in_text', 'zoom_in_title', …"
      ]
     },
     "metadata": {},
     "output_type": "display_data"
    }
   ],
   "source": [
    "f3.first(\"20T\").map_leaflet(\n",
    "    airport=\"LSZH\",\n",
    "    zoom=14,\n",
    "    highlight=dict(red=lambda f: f.on_taxiway(\"LSZH\")),\n",
    ")"
   ]
  },
  {
   "cell_type": "code",
   "execution_count": 11,
   "id": "afcfc212-d3e5-4f01-a06c-b294aba1b475",
   "metadata": {
    "execution": {
     "iopub.execute_input": "2021-07-30T11:30:58.202582Z",
     "iopub.status.busy": "2021-07-30T11:30:58.202308Z",
     "iopub.status.idle": "2021-07-30T11:30:58.206615Z",
     "shell.execute_reply": "2021-07-30T11:30:58.205730Z",
     "shell.execute_reply.started": "2021-07-30T11:30:58.202540Z"
    },
    "tags": []
   },
   "outputs": [],
   "source": [
    "tolerance = 85"
   ]
  },
  {
   "cell_type": "code",
   "execution_count": 18,
   "id": "31a16eec-75be-4174-b074-022acb4df0e8",
   "metadata": {
    "execution": {
     "iopub.execute_input": "2021-07-30T11:39:05.191286Z",
     "iopub.status.busy": "2021-07-30T11:39:05.190570Z",
     "iopub.status.idle": "2021-07-30T11:39:05.980729Z",
     "shell.execute_reply": "2021-07-30T11:39:05.980245Z",
     "shell.execute_reply.started": "2021-07-30T11:39:05.191255Z"
    },
    "tags": []
   },
   "outputs": [
    {
     "data": {
      "application/vnd.jupyter.widget-view+json": {
       "model_id": "a26465fd49d64cd38cd5a3cdc97fd8de",
       "version_major": 2,
       "version_minor": 0
      },
      "text/plain": [
       "Map(center=[41.8002778, 12.2388889], controls=(ZoomControl(options=['position', 'zoom_in_text', 'zoom_in_title…"
      ]
     },
     "metadata": {},
     "output_type": "display_data"
    }
   ],
   "source": [
    "elal747.first(\"50T\").map_leaflet(\n",
    "    airport=\"LIRF\",\n",
    "    zoom=14,\n",
    "    highlight=dict(red=lambda f: f.on_taxiway(\"LIRF\")),\n",
    ")"
   ]
  },
  {
   "cell_type": "code",
   "execution_count": 14,
   "id": "52331458-1eb3-40ab-ac28-56f540dcd1db",
   "metadata": {
    "execution": {
     "iopub.execute_input": "2021-07-30T11:32:41.455019Z",
     "iopub.status.busy": "2021-07-30T11:32:41.454497Z",
     "iopub.status.idle": "2021-07-30T11:32:42.111629Z",
     "shell.execute_reply": "2021-07-30T11:32:42.110892Z",
     "shell.execute_reply.started": "2021-07-30T11:32:41.454937Z"
    },
    "tags": []
   },
   "outputs": [
    {
     "data": {
      "application/vnd.jupyter.widget-view+json": {
       "model_id": "363da2ce37734ecfbd7867cb135c0ac1",
       "version_major": 2,
       "version_minor": 0
      },
      "text/plain": [
       "Map(center=[32.01139831542969, 34.88669967651367], controls=(ZoomControl(options=['position', 'zoom_in_text', …"
      ]
     },
     "metadata": {},
     "output_type": "display_data"
    }
   ],
   "source": [
    "elal747.last(\"15T\").map_leaflet(\n",
    "    zoom=14,\n",
    "    airport=\"LLBG\",\n",
    "    highlight=dict(red=lambda f: f.on_taxiway(\"LLBG\")),\n",
    ")"
   ]
  },
  {
   "cell_type": "code",
   "execution_count": 15,
   "id": "dcaeb991-e9e2-4373-bb32-ce2a5e618216",
   "metadata": {
    "execution": {
     "iopub.execute_input": "2021-07-30T11:32:46.719660Z",
     "iopub.status.busy": "2021-07-30T11:32:46.718265Z",
     "iopub.status.idle": "2021-07-30T11:32:47.895040Z",
     "shell.execute_reply": "2021-07-30T11:32:47.894368Z",
     "shell.execute_reply.started": "2021-07-30T11:32:46.719608Z"
    },
    "tags": []
   },
   "outputs": [
    {
     "data": {
      "application/vnd.jupyter.widget-view+json": {
       "model_id": "ad0f77b2986f4db5b9e6d44f941649bb",
       "version_major": 2,
       "version_minor": 0
      },
      "text/plain": [
       "Map(center=[47.458056, 8.548056], controls=(ZoomControl(options=['position', 'zoom_in_text', 'zoom_in_title', …"
      ]
     },
     "metadata": {},
     "output_type": "display_data"
    }
   ],
   "source": [
    "traf['SWR5220_6069'].first(\"9T\").map_leaflet(\n",
    "    zoom=14,\n",
    "    airport=\"LSZH\",\n",
    "    highlight=dict(red=lambda f: f.on_taxiway(\"LSZH\")),\n",
    ")"
   ]
  },
  {
   "cell_type": "code",
   "execution_count": 16,
   "id": "c118c06c-5255-4964-bb4d-e3500a483720",
   "metadata": {
    "execution": {
     "iopub.execute_input": "2021-07-30T11:33:24.797635Z",
     "iopub.status.busy": "2021-07-30T11:33:24.797122Z",
     "iopub.status.idle": "2021-07-30T11:33:25.988553Z",
     "shell.execute_reply": "2021-07-30T11:33:25.988125Z",
     "shell.execute_reply.started": "2021-07-30T11:33:24.797589Z"
    },
    "tags": []
   },
   "outputs": [
    {
     "data": {
      "application/vnd.jupyter.widget-view+json": {
       "model_id": "6e7f6329b7bf4870aefd3c695f86261e",
       "version_major": 2,
       "version_minor": 0
      },
      "text/plain": [
       "Map(center=[47.458056, 8.548056], controls=(ZoomControl(options=['position', 'zoom_in_text', 'zoom_in_title', …"
      ]
     },
     "metadata": {},
     "output_type": "display_data"
    }
   ],
   "source": [
    "traf['SWR5220_6069'].last(\"9T\").map_leaflet(\n",
    "    zoom=14,\n",
    "    airport=\"LSZH\",\n",
    "    highlight=dict(red=lambda f: f.on_taxiway(\"LSZH\")),\n",
    ")"
   ]
  },
  {
   "cell_type": "code",
   "execution_count": 17,
   "id": "ae046a8c-d941-4f25-af46-689a80352467",
   "metadata": {
    "execution": {
     "iopub.execute_input": "2021-07-30T11:33:34.597519Z",
     "iopub.status.busy": "2021-07-30T11:33:34.596568Z",
     "iopub.status.idle": "2021-07-30T11:33:35.772708Z",
     "shell.execute_reply": "2021-07-30T11:33:35.772218Z",
     "shell.execute_reply.started": "2021-07-30T11:33:34.597464Z"
    },
    "tags": []
   },
   "outputs": [
    {
     "data": {
      "application/vnd.jupyter.widget-view+json": {
       "model_id": "3bc2405f84c7429899a5bf89c814aac2",
       "version_major": 2,
       "version_minor": 0
      },
      "text/plain": [
       "Map(center=[47.458056, 8.548056], controls=(ZoomControl(options=['position', 'zoom_in_text', 'zoom_in_title', …"
      ]
     },
     "metadata": {},
     "output_type": "display_data"
    }
   ],
   "source": [
    "traf['SWR88Q_11642'].first(\"30T\").map_leaflet(\n",
    "    zoom=14,\n",
    "    airport=\"LSZH\",\n",
    "    highlight=dict(red=lambda f: f.on_taxiway(\"LSZH\")),\n",
    ")"
   ]
  },
  {
   "cell_type": "code",
   "execution_count": 23,
   "id": "59f0554d-c4df-43ce-ab49-3f913ded6239",
   "metadata": {
    "execution": {
     "iopub.execute_input": "2021-07-23T09:03:27.334534Z",
     "iopub.status.busy": "2021-07-23T09:03:27.334146Z",
     "iopub.status.idle": "2021-07-23T09:03:27.594937Z",
     "shell.execute_reply": "2021-07-23T09:03:27.594378Z",
     "shell.execute_reply.started": "2021-07-23T09:03:27.334512Z"
    },
    "tags": []
   },
   "outputs": [
    {
     "name": "stdout",
     "output_type": "stream",
     "text": [
      "0 V 2019-11-03 09:28:30+00:00 2019-11-03 09:52:20+00:00\n",
      "1 Z 2019-11-03 09:52:40+00:00 2019-11-03 09:53:20+00:00\n",
      "2 M 2019-11-03 09:53:40+00:00 2019-11-03 09:55:40+00:00\n",
      "3 R 2019-11-03 09:56:00+00:00 2019-11-03 09:56:30+00:00\n",
      "4 B 2019-11-03 09:56:50+00:00 2019-11-03 10:04:00+00:00\n",
      "5 BB 2019-11-03 10:04:20+00:00 2019-11-03 10:08:50+00:00\n"
     ]
    }
   ],
   "source": [
    "for i, sec in enumerate(elal747.first(\"50T\").on_taxiway(\"LIRF\", tolerance=120)):\n",
    "    print(i, sec.taxiway_max, sec.start, sec.stop)"
   ]
  },
  {
   "cell_type": "code",
   "execution_count": 42,
   "id": "c96b4cd0-5531-4c64-914d-3a91a22b370b",
   "metadata": {
    "execution": {
     "iopub.execute_input": "2021-07-30T12:32:38.459506Z",
     "iopub.status.busy": "2021-07-30T12:32:38.458747Z",
     "iopub.status.idle": "2021-07-30T12:32:39.629462Z",
     "shell.execute_reply": "2021-07-30T12:32:39.628460Z",
     "shell.execute_reply.started": "2021-07-30T12:32:38.459455Z"
    },
    "tags": []
   },
   "outputs": [
    {
     "name": "stdout",
     "output_type": "stream",
     "text": [
      "0 N 2019-11-19 06:34:20+00:00 2019-11-19 06:39:35+00:00\n",
      "1 F 2019-11-19 06:39:38+00:00 2019-11-19 06:42:31+00:00\n",
      "2 B 2019-11-19 06:42:34+00:00 2019-11-19 06:47:20+00:00\n",
      "3 J 2019-11-19 06:47:22+00:00 2019-11-19 06:47:45+00:00\n",
      "4 C 2019-11-19 06:47:48+00:00 2019-11-19 06:56:35+00:00\n",
      "5 H 2019-11-19 06:56:37+00:00 2019-11-19 06:57:04+00:00\n",
      "6 B 2019-11-19 06:57:06+00:00 2019-11-19 07:00:09+00:00\n",
      "7 A 2019-11-19 07:00:59+00:00 2019-11-19 07:01:30+00:00\n"
     ]
    }
   ],
   "source": [
    "for i, sec in enumerate(traf['SWR88Q_11642'].on_taxiway(\"LSZH\")):\n",
    "    print(i, sec.taxiway_max, sec.start, sec.stop)"
   ]
  },
  {
   "cell_type": "code",
   "execution_count": 51,
   "id": "3086dc3f-cd94-45ce-8d9a-7024b731ac23",
   "metadata": {
    "execution": {
     "iopub.execute_input": "2021-07-30T12:41:49.449323Z",
     "iopub.status.busy": "2021-07-30T12:41:49.448936Z",
     "iopub.status.idle": "2021-07-30T12:41:49.454088Z",
     "shell.execute_reply": "2021-07-30T12:41:49.453143Z",
     "shell.execute_reply.started": "2021-07-30T12:41:49.449300Z"
    },
    "tags": []
   },
   "outputs": [],
   "source": [
    "from traffic.data.samples.onground import zurich_airport\n",
    "\n"
   ]
  },
  {
   "cell_type": "code",
   "execution_count": 63,
   "id": "dbe7d3d7-b7e4-40b2-a3eb-aad9134fabb0",
   "metadata": {
    "execution": {
     "iopub.execute_input": "2021-07-30T12:56:10.267772Z",
     "iopub.status.busy": "2021-07-30T12:56:10.267303Z",
     "iopub.status.idle": "2021-07-30T12:56:10.280912Z",
     "shell.execute_reply": "2021-07-30T12:56:10.280431Z",
     "shell.execute_reply.started": "2021-07-30T12:56:10.267748Z"
    },
    "tags": []
   },
   "outputs": [
    {
     "data": {
      "text/html": [
       "<b>Traffic with 9 identifiers</b><style  type=\"text/css\" >\n",
       "#T_fc97e_row0_col0{\n",
       "            width:  10em;\n",
       "             height:  80%;\n",
       "            background:  linear-gradient(90deg,#5fba7d 100.0%, transparent 100.0%);\n",
       "        }#T_fc97e_row1_col0{\n",
       "            width:  10em;\n",
       "             height:  80%;\n",
       "            background:  linear-gradient(90deg,#5fba7d 64.1%, transparent 64.1%);\n",
       "        }#T_fc97e_row2_col0{\n",
       "            width:  10em;\n",
       "             height:  80%;\n",
       "            background:  linear-gradient(90deg,#5fba7d 45.6%, transparent 45.6%);\n",
       "        }#T_fc97e_row3_col0{\n",
       "            width:  10em;\n",
       "             height:  80%;\n",
       "            background:  linear-gradient(90deg,#5fba7d 19.7%, transparent 19.7%);\n",
       "        }#T_fc97e_row4_col0{\n",
       "            width:  10em;\n",
       "             height:  80%;\n",
       "            background:  linear-gradient(90deg,#5fba7d 18.9%, transparent 18.9%);\n",
       "        }#T_fc97e_row5_col0{\n",
       "            width:  10em;\n",
       "             height:  80%;\n",
       "            background:  linear-gradient(90deg,#5fba7d 15.5%, transparent 15.5%);\n",
       "        }#T_fc97e_row6_col0{\n",
       "            width:  10em;\n",
       "             height:  80%;\n",
       "            background:  linear-gradient(90deg,#5fba7d 15.2%, transparent 15.2%);\n",
       "        }#T_fc97e_row7_col0{\n",
       "            width:  10em;\n",
       "             height:  80%;\n",
       "            background:  linear-gradient(90deg,#5fba7d 14.3%, transparent 14.3%);\n",
       "        }#T_fc97e_row8_col0{\n",
       "            width:  10em;\n",
       "             height:  80%;\n",
       "            background:  linear-gradient(90deg,#5fba7d 6.0%, transparent 6.0%);\n",
       "        }</style><table id=\"T_fc97e_\" ><thead>    <tr>        <th class=\"blank\" ></th>        <th class=\"blank level0\" ></th>        <th class=\"col_heading level0 col0\" >count</th>    </tr>    <tr>        <th class=\"index_name level0\" >icao24</th>        <th class=\"index_name level1\" >callsign</th>        <th class=\"blank\" ></th>    </tr></thead><tbody>\n",
       "                <tr>\n",
       "                        <th id=\"T_fc97e_level0_row0\" class=\"row_heading level0 row0\" >4d20cd</th>\n",
       "                        <th id=\"T_fc97e_level1_row0\" class=\"row_heading level1 row0\" >VJT796</th>\n",
       "                        <td id=\"T_fc97e_row0_col0\" class=\"data row0 col0\" >4594</td>\n",
       "            </tr>\n",
       "            <tr>\n",
       "                        <th id=\"T_fc97e_level0_row1\" class=\"row_heading level0 row1\" >4b17e5</th>\n",
       "                        <th id=\"T_fc97e_level1_row1\" class=\"row_heading level1 row1\" >SWISS</th>\n",
       "                        <td id=\"T_fc97e_row1_col0\" class=\"data row1 col0\" >2947</td>\n",
       "            </tr>\n",
       "            <tr>\n",
       "                        <th id=\"T_fc97e_level0_row2\" class=\"row_heading level0 row2\" >4b17fd</th>\n",
       "                        <th id=\"T_fc97e_level1_row2\" class=\"row_heading level1 row2\" >SWR75C</th>\n",
       "                        <td id=\"T_fc97e_row2_col0\" class=\"data row2 col0\" >2093</td>\n",
       "            </tr>\n",
       "            <tr>\n",
       "                        <th id=\"T_fc97e_level0_row3\" class=\"row_heading level0 row3\" >0083c3</th>\n",
       "                        <th id=\"T_fc97e_level1_row3\" class=\"row_heading level1 row3\" >CAI3208</th>\n",
       "                        <td id=\"T_fc97e_row3_col0\" class=\"data row3 col0\" >904</td>\n",
       "            </tr>\n",
       "            <tr>\n",
       "                        <th id=\"T_fc97e_level0_row4\" class=\"row_heading level0 row4\" >4891b6</th>\n",
       "                        <th id=\"T_fc97e_level1_row4\" class=\"row_heading level1 row4\" >ENT57BW</th>\n",
       "                        <td id=\"T_fc97e_row4_col0\" class=\"data row4 col0\" >870</td>\n",
       "            </tr>\n",
       "            <tr>\n",
       "                        <th id=\"T_fc97e_level0_row5\" class=\"row_heading level0 row5\" >4690e2</th>\n",
       "                        <th id=\"T_fc97e_level1_row5\" class=\"row_heading level1 row5\" >AEE5ZH</th>\n",
       "                        <td id=\"T_fc97e_row5_col0\" class=\"data row5 col0\" >711</td>\n",
       "            </tr>\n",
       "            <tr>\n",
       "                        <th id=\"T_fc97e_level0_row6\" class=\"row_heading level0 row6\" >c01074</th>\n",
       "                        <th id=\"T_fc97e_level1_row6\" class=\"row_heading level1 row6\" >ACA879</th>\n",
       "                        <td id=\"T_fc97e_row6_col0\" class=\"data row6 col0\" >699</td>\n",
       "            </tr>\n",
       "            <tr>\n",
       "                        <th id=\"T_fc97e_level0_row7\" class=\"row_heading level0 row7\" >4b1614</th>\n",
       "                        <th id=\"T_fc97e_level1_row7\" class=\"row_heading level1 row7\" >SWR137H</th>\n",
       "                        <td id=\"T_fc97e_row7_col0\" class=\"data row7 col0\" >658</td>\n",
       "            </tr>\n",
       "            <tr>\n",
       "                        <th id=\"T_fc97e_level0_row8\" class=\"row_heading level0 row8\" >4b18b8</th>\n",
       "                        <th id=\"T_fc97e_level1_row8\" class=\"row_heading level1 row8\" >EDW229</th>\n",
       "                        <td id=\"T_fc97e_row8_col0\" class=\"data row8 col0\" >275</td>\n",
       "            </tr>\n",
       "    </tbody></table>"
      ],
      "text/plain": [
       "                 count\n",
       "icao24 callsign       \n",
       "4d20cd VJT796     4594\n",
       "4b17e5 SWISS      2947\n",
       "4b17fd SWR75C     2093\n",
       "0083c3 CAI3208     904\n",
       "4891b6 ENT57BW     870\n",
       "4690e2 AEE5ZH      711\n",
       "c01074 ACA879      699\n",
       "4b1614 SWR137H     658\n",
       "4b18b8 EDW229      275"
      ]
     },
     "execution_count": 63,
     "metadata": {},
     "output_type": "execute_result"
    }
   ],
   "source": [
    "zurich_airport"
   ]
  },
  {
   "cell_type": "code",
   "execution_count": 66,
   "id": "4904c5e7-0e01-452f-abb9-f5bfee6e078f",
   "metadata": {
    "execution": {
     "iopub.execute_input": "2021-07-30T13:10:10.288594Z",
     "iopub.status.busy": "2021-07-30T13:10:10.288069Z",
     "iopub.status.idle": "2021-07-30T13:10:10.298241Z",
     "shell.execute_reply": "2021-07-30T13:10:10.297297Z",
     "shell.execute_reply.started": "2021-07-30T13:10:10.288568Z"
    },
    "tags": []
   },
   "outputs": [],
   "source": [
    "def test_chart_twy(f, apt):\n",
    "    m=f.map_leaflet(\n",
    "        zoom=14,\n",
    "        airport=apt,\n",
    "        highlight=dict(red=lambda f_: f_.on_taxiway(apt)),\n",
    "    )\n",
    "    display(m)\n",
    "    for i, sec in enumerate(f.on_taxiway(apt)):\n",
    "        print(i, sec.taxiway_max, sec.start, sec.stop)"
   ]
  },
  {
   "cell_type": "code",
   "execution_count": null,
   "id": "e1e1666b-8fa1-4fa5-94fb-677b0c91acb0",
   "metadata": {},
   "outputs": [],
   "source": [
    "LLBG"
   ]
  },
  {
   "cell_type": "code",
   "execution_count": 68,
   "id": "9c774f7a-94c1-4596-832d-57fdbbfecfd2",
   "metadata": {
    "execution": {
     "iopub.execute_input": "2021-07-30T13:12:06.278325Z",
     "iopub.status.busy": "2021-07-30T13:12:06.277319Z",
     "iopub.status.idle": "2021-07-30T13:12:21.968923Z",
     "shell.execute_reply": "2021-07-30T13:12:21.965923Z",
     "shell.execute_reply.started": "2021-07-30T13:12:06.278269Z"
    },
    "tags": []
   },
   "outputs": [
    {
     "data": {
      "application/vnd.jupyter.widget-view+json": {
       "model_id": "159bcfc061b641c984cf5fa8c149eb4f",
       "version_major": 2,
       "version_minor": 0
      },
      "text/plain": [
       "Map(center=[32.01139831542969, 34.88669967651367], controls=(ZoomControl(options=['position', 'zoom_in_text', …"
      ]
     },
     "metadata": {},
     "output_type": "display_data"
    },
    {
     "name": "stdout",
     "output_type": "stream",
     "text": [
      "0 K 2019-11-03 15:11:40+00:00 2019-11-03 15:16:00+00:00\n",
      "1 M1 2019-11-03 15:16:30+00:00 2019-11-03 15:17:10+00:00\n",
      "2 D6 2019-11-03 15:17:30+00:00 2019-11-03 15:19:30+00:00\n"
     ]
    }
   ],
   "source": [
    "test_chart_twy(elal747,'LLBG') # \n"
   ]
  },
  {
   "cell_type": "code",
   "execution_count": 55,
   "id": "353b8b2b-d001-4136-a9a9-c3cd970271b0",
   "metadata": {
    "execution": {
     "iopub.execute_input": "2021-07-30T12:45:05.000536Z",
     "iopub.status.busy": "2021-07-30T12:45:04.999751Z",
     "iopub.status.idle": "2021-07-30T12:45:05.490747Z",
     "shell.execute_reply": "2021-07-30T12:45:05.490084Z",
     "shell.execute_reply.started": "2021-07-30T12:45:05.000513Z"
    },
    "tags": []
   },
   "outputs": [
    {
     "data": {
      "text/plain": [
       "[]"
      ]
     },
     "execution_count": 55,
     "metadata": {},
     "output_type": "execute_result"
    }
   ],
   "source": [
    "list(zurich_airport['ACA879'].on_taxiway(\"LSZH\"))"
   ]
  },
  {
   "cell_type": "code",
   "execution_count": 40,
   "id": "51e48369-23d8-4959-b9e0-e0cdb169fa0c",
   "metadata": {
    "execution": {
     "iopub.execute_input": "2021-07-30T12:31:09.054710Z",
     "iopub.status.busy": "2021-07-30T12:31:09.053963Z",
     "iopub.status.idle": "2021-07-30T12:31:10.400780Z",
     "shell.execute_reply": "2021-07-30T12:31:10.399089Z",
     "shell.execute_reply.started": "2021-07-30T12:31:09.054678Z"
    },
    "tags": []
   },
   "outputs": [
    {
     "name": "stderr",
     "output_type": "stream",
     "text": [
      "WARNING:root:.eval() has been automatically appended for you.\n",
      "Check the documentation for more options.\n"
     ]
    }
   ],
   "source": [
    "zurich_airport = zurich_airport.assign_id()+Traffic.from_flights([f6, f5, f3, traf['SWR5220_6069'], traf['SWR88Q_11642']])"
   ]
  },
  {
   "cell_type": "code",
   "execution_count": 48,
   "id": "28e0cf28-2db9-494e-a340-995940544c56",
   "metadata": {
    "execution": {
     "iopub.execute_input": "2021-07-30T12:39:38.297088Z",
     "iopub.status.busy": "2021-07-30T12:39:38.296298Z",
     "iopub.status.idle": "2021-07-30T12:39:39.609060Z",
     "shell.execute_reply": "2021-07-30T12:39:39.607457Z",
     "shell.execute_reply.started": "2021-07-30T12:39:38.297065Z"
    },
    "tags": []
   },
   "outputs": [],
   "source": [
    "t_plus = Traffic.from_flights([f6, f5, f3, traf['SWR5220_6069'], traf['SWR88Q_11642']])"
   ]
  },
  {
   "cell_type": "code",
   "execution_count": 50,
   "id": "53ea798e-d1bc-4771-b5bc-1ba8115fd9a0",
   "metadata": {
    "execution": {
     "iopub.execute_input": "2021-07-30T12:41:32.845420Z",
     "iopub.status.busy": "2021-07-30T12:41:32.844434Z",
     "iopub.status.idle": "2021-07-30T12:41:32.923449Z",
     "shell.execute_reply": "2021-07-30T12:41:32.922758Z",
     "shell.execute_reply.started": "2021-07-30T12:41:32.845383Z"
    }
   },
   "outputs": [],
   "source": [
    "t_plus.to_pickle(\"../../data/samples/zurich_airport_to_add.pkl\")"
   ]
  },
  {
   "cell_type": "code",
   "execution_count": 73,
   "id": "8d3788b9-fcee-4dfb-89d7-81eced075b7c",
   "metadata": {
    "execution": {
     "iopub.execute_input": "2021-07-30T13:15:38.427006Z",
     "iopub.status.busy": "2021-07-30T13:15:38.425900Z",
     "iopub.status.idle": "2021-07-30T13:15:38.439214Z",
     "shell.execute_reply": "2021-07-30T13:15:38.437541Z",
     "shell.execute_reply.started": "2021-07-30T13:15:38.426927Z"
    },
    "tags": []
   },
   "outputs": [],
   "source": [
    "def test_on_taxiway():\n",
    "    assert len(zurich_airport['ACA879'].on_taxiway('LSZH'))==3\n",
    "    last_stop=pd.Timestamp(0, tz='utc')\n",
    "    twy_names = ['C', 'E', 'E2']\n",
    "    for i, twy_seg in enumerate(zurich_airport['ACA879'].on_taxiway('LSZH')):\n",
    "        assert twy_seg.start >= last_stop\n",
    "        last_stop = twy_seg.stop\n",
    "        assert twy_seg.taxiway_max == twy_names[i]\n",
    "        \n",
    "    flight = zurich_airport['SWISS']\n",
    "    assert flight is not None\n",
    "    assert flight.on_taxiway('LSZH').next() is None\n",
    "    \n",
    "    # another airport\n",
    "    last_stop=pd.Timestamp(0, tz='utc')\n",
    "    twy_names = ['V', 'Z', 'M', 'R', 'B', 'BB']\n",
    "    for i, twy_seg in enumerate(elal747.on_taxiway('LIRF')):\n",
    "        assert twy_seg.start >= last_stop\n",
    "        last_stop = twy_seg.stop\n",
    "        assert twy_seg.taxiway_max == twy_names[i]\n",
    "    # Landin\n",
    "    last_stop=pd.Timestamp(0, tz='utc')\n",
    "    twy_names = ['K', 'M1', 'D6']\n",
    "    for i, twy_seg in enumerate(elal747.on_taxiway('LLBG')):\n",
    "        assert twy_seg.start >= last_stop\n",
    "        last_stop = twy_seg.stop\n",
    "        assert twy_seg.taxiway_max == twy_names[i]\n",
    "    \n",
    "    # Flight that leaves and come back to the airport\n",
    "    assert len(traf['SWR5220_6069'].on_taxiway('LSZH')) == 8"
   ]
  },
  {
   "cell_type": "code",
   "execution_count": 74,
   "id": "dbc7c8d7-d991-4a83-96b9-538cf5409ad8",
   "metadata": {
    "execution": {
     "iopub.execute_input": "2021-07-30T13:15:38.678532Z",
     "iopub.status.busy": "2021-07-30T13:15:38.677834Z",
     "iopub.status.idle": "2021-07-30T13:16:03.422256Z",
     "shell.execute_reply": "2021-07-30T13:16:03.421682Z",
     "shell.execute_reply.started": "2021-07-30T13:15:38.678504Z"
    },
    "tags": []
   },
   "outputs": [],
   "source": [
    "test_on_taxiway()"
   ]
  },
  {
   "cell_type": "code",
   "execution_count": 61,
   "id": "4225c2ad-2d98-4f4d-9edf-2e797a0cc752",
   "metadata": {
    "execution": {
     "iopub.execute_input": "2021-07-30T12:53:00.552946Z",
     "iopub.status.busy": "2021-07-30T12:53:00.552260Z",
     "iopub.status.idle": "2021-07-30T12:53:00.556023Z",
     "shell.execute_reply": "2021-07-30T12:53:00.555355Z",
     "shell.execute_reply.started": "2021-07-30T12:53:00.552914Z"
    }
   },
   "outputs": [],
   "source": [
    "import pandas as pd"
   ]
  },
  {
   "cell_type": "code",
   "execution_count": 62,
   "id": "6e52fb9d-b9a5-42e5-90bf-0203a4d6b7eb",
   "metadata": {
    "execution": {
     "iopub.execute_input": "2021-07-30T12:53:01.208969Z",
     "iopub.status.busy": "2021-07-30T12:53:01.208475Z",
     "iopub.status.idle": "2021-07-30T12:53:01.217774Z",
     "shell.execute_reply": "2021-07-30T12:53:01.216564Z",
     "shell.execute_reply.started": "2021-07-30T12:53:01.208925Z"
    },
    "tags": []
   },
   "outputs": [
    {
     "data": {
      "text/plain": [
       "Timestamp('1970-01-01 00:00:00')"
      ]
     },
     "execution_count": 62,
     "metadata": {},
     "output_type": "execute_result"
    }
   ],
   "source": [
    "pd.Timestamp(0)"
   ]
  },
  {
   "cell_type": "code",
   "execution_count": null,
   "id": "73302b0b-f1c9-4c9c-83ed-167091e714bb",
   "metadata": {},
   "outputs": [],
   "source": [
    "traf['EDW146Z_5711'].first(\"15T\")."
   ]
  }
 ],
 "metadata": {
  "kernelspec": {
   "display_name": "Python 3 (ipykernel)",
   "language": "python",
   "name": "python3"
  },
  "language_info": {
   "codemirror_mode": {
    "name": "ipython",
    "version": 3
   },
   "file_extension": ".py",
   "mimetype": "text/x-python",
   "name": "python",
   "nbconvert_exporter": "python",
   "pygments_lexer": "ipython3",
   "version": "3.9.6"
  }
 },
 "nbformat": 4,
 "nbformat_minor": 5
}
