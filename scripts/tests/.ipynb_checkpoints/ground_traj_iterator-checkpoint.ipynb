{
 "cells": [
  {
   "cell_type": "code",
   "execution_count": 1,
   "id": "13b10623-2af7-47bc-9900-a7d568d79728",
   "metadata": {
    "execution": {
     "iopub.execute_input": "2021-07-30T09:39:32.738926Z",
     "iopub.status.busy": "2021-07-30T09:39:32.738122Z",
     "iopub.status.idle": "2021-07-30T09:39:39.987654Z",
     "shell.execute_reply": "2021-07-30T09:39:39.986965Z",
     "shell.execute_reply.started": "2021-07-30T09:39:32.738660Z"
    }
   },
   "outputs": [],
   "source": [
    "from traffic.data.samples.calibration import ajaccio"
   ]
  },
  {
   "cell_type": "code",
   "execution_count": 4,
   "id": "1411159d-20a0-487c-8ab7-d37ea92a5232",
   "metadata": {
    "execution": {
     "iopub.execute_input": "2021-07-30T09:45:21.556604Z",
     "iopub.status.busy": "2021-07-30T09:45:21.556342Z",
     "iopub.status.idle": "2021-07-30T09:45:21.560317Z",
     "shell.execute_reply": "2021-07-30T09:45:21.559741Z",
     "shell.execute_reply.started": "2021-07-30T09:45:21.556581Z"
    }
   },
   "outputs": [],
   "source": [
    "from traffic.core import Traffic"
   ]
  },
  {
   "cell_type": "code",
   "execution_count": 10,
   "id": "64e40ec6-8d0d-4e89-921b-6f5eb3d5b896",
   "metadata": {
    "execution": {
     "iopub.execute_input": "2021-07-30T09:50:35.594079Z",
     "iopub.status.busy": "2021-07-30T09:50:35.593301Z",
     "iopub.status.idle": "2021-07-30T09:50:35.597838Z",
     "shell.execute_reply": "2021-07-30T09:50:35.597475Z",
     "shell.execute_reply.started": "2021-07-30T09:50:35.594051Z"
    }
   },
   "outputs": [],
   "source": [
    "from traffic.data import airports"
   ]
  },
  {
   "cell_type": "code",
   "execution_count": 12,
   "id": "29f4a732-44c5-40d1-86cd-2e34df0f119d",
   "metadata": {
    "execution": {
     "iopub.execute_input": "2021-07-30T09:51:05.032879Z",
     "iopub.status.busy": "2021-07-30T09:51:05.031981Z",
     "iopub.status.idle": "2021-07-30T09:51:05.035376Z",
     "shell.execute_reply": "2021-07-30T09:51:05.035023Z",
     "shell.execute_reply.started": "2021-07-30T09:51:05.032853Z"
    }
   },
   "outputs": [],
   "source": [
    "from ipyleaflet import Map"
   ]
  },
  {
   "cell_type": "code",
   "execution_count": 21,
   "id": "b1bcd45e-eb2e-4000-8e64-e07b21cc9687",
   "metadata": {
    "execution": {
     "iopub.execute_input": "2021-07-30T10:36:20.537731Z",
     "iopub.status.busy": "2021-07-30T10:36:20.537041Z",
     "iopub.status.idle": "2021-07-30T10:36:20.541610Z",
     "shell.execute_reply": "2021-07-30T10:36:20.540695Z",
     "shell.execute_reply.started": "2021-07-30T10:36:20.537700Z"
    },
    "tags": []
   },
   "outputs": [],
   "source": [
    "import pandas as pd"
   ]
  },
  {
   "cell_type": "code",
   "execution_count": 35,
   "id": "dc3272f4-b9be-494f-839c-419950ae35c2",
   "metadata": {
    "execution": {
     "iopub.execute_input": "2021-07-30T10:40:20.280381Z",
     "iopub.status.busy": "2021-07-30T10:40:20.280134Z",
     "iopub.status.idle": "2021-07-30T10:40:20.284306Z",
     "shell.execute_reply": "2021-07-30T10:40:20.283741Z",
     "shell.execute_reply.started": "2021-07-30T10:40:20.280359Z"
    }
   },
   "outputs": [],
   "source": [
    "from shapely.geometry import LineString, MultiLineString, Point, Polygon"
   ]
  },
  {
   "cell_type": "code",
   "execution_count": 39,
   "id": "1ed6329d-f8ee-4aa4-8c40-5abc03b2b2e9",
   "metadata": {
    "execution": {
     "iopub.execute_input": "2021-07-30T10:41:48.725225Z",
     "iopub.status.busy": "2021-07-30T10:41:48.724443Z",
     "iopub.status.idle": "2021-07-30T10:41:48.728606Z",
     "shell.execute_reply": "2021-07-30T10:41:48.727881Z",
     "shell.execute_reply.started": "2021-07-30T10:41:48.725200Z"
    }
   },
   "outputs": [],
   "source": [
    "from traffic.core.geodesy import destination, distance, mrr_diagonal"
   ]
  },
  {
   "cell_type": "code",
   "execution_count": 31,
   "id": "5259bdb1-9896-4e86-bb1d-6f7ea81cf48a",
   "metadata": {
    "execution": {
     "iopub.execute_input": "2021-07-30T10:39:42.319615Z",
     "iopub.status.busy": "2021-07-30T10:39:42.319236Z",
     "iopub.status.idle": "2021-07-30T10:39:42.323910Z",
     "shell.execute_reply": "2021-07-30T10:39:42.323367Z",
     "shell.execute_reply.started": "2021-07-30T10:39:42.319594Z"
    }
   },
   "outputs": [],
   "source": [
    "\n",
    "from traffic.core.structure import Airport\n",
    "from traffic.data import airports\n"
   ]
  },
  {
   "cell_type": "code",
   "execution_count": 37,
   "id": "1ebbe306-1b89-49ef-8fed-bcc832bfc2cb",
   "metadata": {
    "execution": {
     "iopub.execute_input": "2021-07-30T10:41:01.911392Z",
     "iopub.status.busy": "2021-07-30T10:41:01.910435Z",
     "iopub.status.idle": "2021-07-30T10:41:01.917310Z",
     "shell.execute_reply": "2021-07-30T10:41:01.916161Z",
     "shell.execute_reply.started": "2021-07-30T10:41:01.911343Z"
    }
   },
   "outputs": [],
   "source": [
    "import numpy as np"
   ]
  },
  {
   "cell_type": "code",
   "execution_count": 6,
   "id": "b3f5cbd3-21a4-4662-8964-f84160a8290e",
   "metadata": {
    "execution": {
     "iopub.execute_input": "2021-07-30T09:45:55.384627Z",
     "iopub.status.busy": "2021-07-30T09:45:55.384347Z",
     "iopub.status.idle": "2021-07-30T09:47:06.227831Z",
     "shell.execute_reply": "2021-07-30T09:47:06.227266Z",
     "shell.execute_reply.started": "2021-07-30T09:45:55.384605Z"
    },
    "tags": []
   },
   "outputs": [],
   "source": [
    "traf = Traffic.from_file(\"../../data/intermediate/taxi_zurich_2019_takeoff.pkl\")"
   ]
  },
  {
   "cell_type": "code",
   "execution_count": 25,
   "id": "c52a6ddd-5b74-4ace-9d11-9c9a36dab8d6",
   "metadata": {
    "execution": {
     "iopub.execute_input": "2021-07-30T10:37:47.039870Z",
     "iopub.status.busy": "2021-07-30T10:37:47.039625Z",
     "iopub.status.idle": "2021-07-30T10:37:47.881924Z",
     "shell.execute_reply": "2021-07-30T10:37:47.881204Z",
     "shell.execute_reply.started": "2021-07-30T10:37:47.039848Z"
    },
    "tags": []
   },
   "outputs": [
    {
     "data": {
      "application/vnd.jupyter.widget-view+json": {
       "model_id": "a45a4fefa9294169a68a8193d7a91532",
       "version_major": 2,
       "version_minor": 0
      },
      "text/plain": [
       "Map(center=[47.46626184415817, 8.561359365703353], controls=(ZoomControl(options=['position', 'zoom_in_text', …"
      ]
     },
     "metadata": {},
     "output_type": "display_data"
    }
   ],
   "source": [
    "f = traf['SWR5220_6069']\n",
    "f.onground().map_leaflet(zoom=13)"
   ]
  },
  {
   "cell_type": "code",
   "execution_count": 26,
   "id": "8d34a3ee-77e2-4bf5-8b0d-480ff30b2ee1",
   "metadata": {
    "execution": {
     "iopub.execute_input": "2021-07-30T10:37:51.547197Z",
     "iopub.status.busy": "2021-07-30T10:37:51.546934Z",
     "iopub.status.idle": "2021-07-30T10:37:51.599719Z",
     "shell.execute_reply": "2021-07-30T10:37:51.598964Z",
     "shell.execute_reply.started": "2021-07-30T10:37:51.547174Z"
    },
    "tags": []
   },
   "outputs": [
    {
     "name": "stdout",
     "output_type": "stream",
     "text": [
      "0 days 00:08:19 2019-11-05 12:57:02+00:00 2019-11-05 13:05:21+00:00\n",
      "0 days 00:05:43 2019-11-05 16:36:52+00:00 2019-11-05 16:42:35+00:00\n"
     ]
    },
    {
     "data": {
      "application/vnd.jupyter.widget-view+json": {
       "model_id": "61b0ed8244ce4762a61497d4ed59346a",
       "version_major": 2,
       "version_minor": 0
      },
      "text/plain": [
       "Map(center=[47.458056, 8.548056], controls=(ZoomControl(options=['position', 'zoom_in_text', 'zoom_in_title', …"
      ]
     },
     "metadata": {},
     "output_type": "display_data"
    }
   ],
   "source": [
    "m = Map(center=airports['LSZH'].latlon, zoom=11)\n",
    "for f_ in f.onground().split('5T'):\n",
    "    print(f_.duration, f_.start, f_.stop)\n",
    "    m.add_layer(f_.leaflet())\n",
    "m"
   ]
  },
  {
   "cell_type": "code",
   "execution_count": 43,
   "id": "5695c4f0-cc63-4f7f-b2a8-8204f782c7bf",
   "metadata": {
    "execution": {
     "iopub.execute_input": "2021-07-30T10:43:56.315825Z",
     "iopub.status.busy": "2021-07-30T10:43:56.315286Z",
     "iopub.status.idle": "2021-07-30T10:43:56.328445Z",
     "shell.execute_reply": "2021-07-30T10:43:56.327332Z",
     "shell.execute_reply.started": "2021-07-30T10:43:56.315788Z"
    },
    "tags": []
   },
   "outputs": [],
   "source": [
    "from typing import (\n",
    "    TYPE_CHECKING,\n",
    "    Iterable,\n",
    "    Iterator,\n",
    "    List,\n",
    "    Optional,\n",
    "    Sequence,\n",
    "    Union,\n",
    "    cast,\n",
    ")\n",
    "\n",
    "\n",
    "def ground_trajectory(\n",
    "    self, airport: Union[str, \"Airport\"]\n",
    ") -> Iterator[\"Flight\"]:\n",
    "    \"\"\"Returns the ground part of the trajectory limited to the apron\n",
    "    of the airport passed in parameter.\n",
    "\n",
    "    The same trajectory could use the apron several times, hence the safest\n",
    "    option to return a FlightIterator.\n",
    "    \"\"\"\n",
    "\n",
    "    from traffic.data import airports\n",
    "\n",
    "    self = cast(\"Flight\", self)\n",
    "    airport_ = airports[airport] if isinstance(airport, str) else airport\n",
    "    for ground_segment in self.onground().split(\"5T\"):\n",
    "        clip_ = ground_segment.clip(airport_)\n",
    "        if clip_ is not None:\n",
    "            yield clip_\n",
    "            \n",
    "\n",
    "def on_taxiway(\n",
    "    self,\n",
    "    airport_or_taxiways: Union[str, pd.DataFrame, \"Airport\", \"Overpass\"],\n",
    "    *,\n",
    "    tolerance: float = 15,\n",
    "    tolerance_dist: float = 85,\n",
    ") -> Iterator[\"Flight\"]:\n",
    "    \"\"\"\n",
    "    Iterates on segments of trajectory matching a single runway label.\n",
    "    \"\"\"\n",
    "\n",
    "    self = cast(\"Flight\", self)\n",
    "    if isinstance(airport_or_taxiways, str):\n",
    "        airport_or_taxiways = airports[airport_or_taxiways]\n",
    "\n",
    "    taxiways_ = (\n",
    "        airport_or_taxiways.taxiway\n",
    "        if isinstance(airport_or_taxiways, Airport)\n",
    "        else airport_or_taxiways\n",
    "    )\n",
    "\n",
    "    taxiways = (  # one entry per runway label\n",
    "        (\n",
    "            taxiways_\n",
    "            if isinstance(taxiways_, pd.DataFrame)\n",
    "            else taxiways_.data\n",
    "        )\n",
    "        .groupby(\"ref\")\n",
    "        .agg({\"geometry\": list})[\"geometry\"]\n",
    "        .apply(MultiLineString)\n",
    "        .to_frame()\n",
    "    )\n",
    "\n",
    "    simplified_df = cast(\n",
    "        pd.DataFrame, self.simplify(tolerance=tolerance).data\n",
    "    )\n",
    "    if simplified_df.shape[0] < 2:\n",
    "        return\n",
    "\n",
    "    previous_candidate = None\n",
    "    first = simplified_df.iloc[0]\n",
    "    for _, second in simplified_df.iloc[1:].iterrows():\n",
    "\n",
    "        p1 = Point(first.longitude, first.latitude)\n",
    "        p2 = Point(second.longitude, second.latitude)\n",
    "\n",
    "        # To have the sum of distances between each extremities \n",
    "        # of current simplified segment projected on the taxiway\n",
    "        def extremities_dist(twy):\n",
    "            p1_proj = twy.interpolate(twy.project(p1))\n",
    "            p2_proj = twy.interpolate(twy.project(p2))\n",
    "            d1 = distance(p1_proj.y, p1_proj.x, p1.y, p1.x)\n",
    "            d2 = distance(p2_proj.y, p2_proj.x, p2.y, p2.x)\n",
    "            return d1 + d2\n",
    "\n",
    "        temp_ = taxiways.assign(dist=np.vectorize(extremities_dist))\n",
    "        start, stop, ref, dist = (\n",
    "            first.timestamp,\n",
    "            second.timestamp,\n",
    "            temp_.dist.idxmin(),\n",
    "            temp_.dist.min(),\n",
    "        )\n",
    "        if dist < tolerance_dist:\n",
    "            candidate = self.assign(taxiway=ref).between(start, stop)\n",
    "            if previous_candidate is None:\n",
    "                previous_candidate = candidate\n",
    "\n",
    "            else:\n",
    "                prev_ref = previous_candidate.taxiway_max\n",
    "                delta = start - previous_candidate.stop\n",
    "                if prev_ref == ref and delta < pd.Timedelta(\"1T\"):\n",
    "                    previous_candidate = self.assign(taxiway=ref).between(\n",
    "                        previous_candidate.start, stop\n",
    "                    )\n",
    "\n",
    "                else:\n",
    "                    yield previous_candidate\n",
    "                    previous_candidate = candidate\n",
    "\n",
    "        first = second\n",
    "\n",
    "    if previous_candidate is not None:\n",
    "        yield previous_candidate\n",
    "            \n",
    "import types \n",
    "f.ground_trajectory = types.MethodType(ground_trajectory, f)\n",
    "f.on_taxiway = types.MethodType(on_taxiway, f)"
   ]
  },
  {
   "cell_type": "code",
   "execution_count": 44,
   "id": "6f652017-ab2b-4e96-adfe-d92a1ac92b75",
   "metadata": {
    "execution": {
     "iopub.execute_input": "2021-07-30T10:43:57.495647Z",
     "iopub.status.busy": "2021-07-30T10:43:57.494854Z",
     "iopub.status.idle": "2021-07-30T10:43:57.731477Z",
     "shell.execute_reply": "2021-07-30T10:43:57.731025Z",
     "shell.execute_reply.started": "2021-07-30T10:43:57.495594Z"
    },
    "tags": []
   },
   "outputs": [
    {
     "data": {
      "application/vnd.jupyter.widget-view+json": {
       "model_id": "bdf2da2a192943419325dd8ab9dc21e0",
       "version_major": 2,
       "version_minor": 0
      },
      "text/plain": [
       "Map(center=[47.458056, 8.548056], controls=(ZoomControl(options=['position', 'zoom_in_text', 'zoom_in_title', …"
      ]
     },
     "metadata": {},
     "output_type": "display_data"
    }
   ],
   "source": [
    "m = Map(center=airports['LSZH'].latlon, zoom=11)\n",
    "for f_ in f.ground_trajectory(\"LSZH\"):\n",
    "    m.add_layer(f_.leaflet())\n",
    "m"
   ]
  },
  {
   "cell_type": "code",
   "execution_count": 46,
   "id": "5d17cd51-89ce-4fc8-9f2c-373628155f27",
   "metadata": {
    "execution": {
     "iopub.execute_input": "2021-07-30T10:44:10.674120Z",
     "iopub.status.busy": "2021-07-30T10:44:10.673114Z",
     "iopub.status.idle": "2021-07-30T10:44:19.567581Z",
     "shell.execute_reply": "2021-07-30T10:44:19.567113Z",
     "shell.execute_reply.started": "2021-07-30T10:44:10.674060Z"
    },
    "tags": []
   },
   "outputs": [
    {
     "name": "stdout",
     "output_type": "stream",
     "text": [
      "E 2019-11-05 12:57:04+00:00 2019-11-05 12:59:10+00:00\n",
      "LINK 3 2019-11-05 12:59:13+00:00 2019-11-05 12:59:32+00:00\n",
      "INNER 2019-11-05 12:59:34+00:00 2019-11-05 13:00:52+00:00\n",
      "A 2019-11-05 13:01:51+00:00 2019-11-05 13:04:01+00:00\n",
      "H2 2019-11-05 16:37:46+00:00 2019-11-05 16:38:56+00:00\n",
      "J 2019-11-05 16:39:00+00:00 2019-11-05 16:40:12+00:00\n",
      "A 2019-11-05 16:40:15+00:00 2019-11-05 16:40:57+00:00\n",
      "F 2019-11-05 16:41:00+00:00 2019-11-05 16:42:34+00:00\n"
     ]
    },
    {
     "data": {
      "application/vnd.jupyter.widget-view+json": {
       "model_id": "d1ec3e9ff0cf4f17b2206cfc521cc3fd",
       "version_major": 2,
       "version_minor": 0
      },
      "text/plain": [
       "Map(center=[47.458056, 8.548056], controls=(ZoomControl(options=['position', 'zoom_in_text', 'zoom_in_title', …"
      ]
     },
     "metadata": {},
     "output_type": "display_data"
    }
   ],
   "source": [
    "m = Map(center=airports['LSZH'].latlon, zoom=11)\n",
    "for f_ in f.on_taxiway(\"LSZH\"):\n",
    "    print(f_.taxiway_max, f_.start, f_.stop)\n",
    "    m.add_layer(f_.leaflet())\n",
    "m"
   ]
  },
  {
   "cell_type": "code",
   "execution_count": null,
   "id": "cb76b117-b38c-4b3e-9421-b3c26d325cdd",
   "metadata": {},
   "outputs": [],
   "source": [
    "at gate \n",
    "aligned on runway / takeofffromrunway\n",
    "aligned on runway / landing\n",
    "at gate\n",
    "\n",
    "use onground()"
   ]
  }
 ],
 "metadata": {
  "kernelspec": {
   "display_name": "Python 3 (ipykernel)",
   "language": "python",
   "name": "python3"
  },
  "language_info": {
   "codemirror_mode": {
    "name": "ipython",
    "version": 3
   },
   "file_extension": ".py",
   "mimetype": "text/x-python",
   "name": "python",
   "nbconvert_exporter": "python",
   "pygments_lexer": "ipython3",
   "version": "3.9.6"
  }
 },
 "nbformat": 4,
 "nbformat_minor": 5
}
