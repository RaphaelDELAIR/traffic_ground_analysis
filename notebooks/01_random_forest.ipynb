{
 "cells": [
  {
   "cell_type": "markdown",
   "id": "af44fcf3-40bd-4706-aab2-e75b3cb07154",
   "metadata": {},
   "source": [
    "# Objective is to take the generated flight dataframe and use it to predict flight ground delays"
   ]
  },
  {
   "cell_type": "code",
   "execution_count": 1,
   "id": "cdfe3d22-e422-4f1a-9419-a9122e02c022",
   "metadata": {
    "execution": {
     "iopub.execute_input": "2021-06-25T12:56:48.949115Z",
     "iopub.status.busy": "2021-06-25T12:56:48.948803Z",
     "iopub.status.idle": "2021-06-25T12:56:53.195307Z",
     "shell.execute_reply": "2021-06-25T12:56:53.194501Z",
     "shell.execute_reply.started": "2021-06-25T12:56:48.949042Z"
    },
    "tags": []
   },
   "outputs": [
    {
     "name": "stderr",
     "output_type": "stream",
     "text": [
      "/home/service/miniconda3/envs/py39v7/lib/python3.8/site-packages/sklearn/linear_model/_least_angle.py:34: DeprecationWarning: `np.float` is a deprecated alias for the builtin `float`. To silence this warning, use `float` by itself. Doing this will not modify any behavior and is safe. If you specifically wanted the numpy scalar type, use `np.float64` here.\n",
      "Deprecated in NumPy 1.20; for more details and guidance: https://numpy.org/devdocs/release/1.20.0-notes.html#deprecations\n",
      "  method='lar', copy_X=True, eps=np.finfo(np.float).eps,\n",
      "/home/service/miniconda3/envs/py39v7/lib/python3.8/site-packages/sklearn/decomposition/_lda.py:28: DeprecationWarning: `np.float` is a deprecated alias for the builtin `float`. To silence this warning, use `float` by itself. Doing this will not modify any behavior and is safe. If you specifically wanted the numpy scalar type, use `np.float64` here.\n",
      "Deprecated in NumPy 1.20; for more details and guidance: https://numpy.org/devdocs/release/1.20.0-notes.html#deprecations\n",
      "  EPS = np.finfo(np.float).eps\n",
      "/home/service/miniconda3/envs/py39v7/lib/python3.8/site-packages/sklearn/ensemble/_gb.py:33: DeprecationWarning: `np.bool` is a deprecated alias for the builtin `bool`. To silence this warning, use `bool` by itself. Doing this will not modify any behavior and is safe. If you specifically wanted the numpy scalar type, use `np.bool_` here.\n",
      "Deprecated in NumPy 1.20; for more details and guidance: https://numpy.org/devdocs/release/1.20.0-notes.html#deprecations\n",
      "  from ._gradient_boosting import predict_stages\n",
      "/home/service/miniconda3/envs/py39v7/lib/python3.8/site-packages/sklearn/feature_extraction/image.py:172: DeprecationWarning: `np.int` is a deprecated alias for the builtin `int`. To silence this warning, use `int` by itself. Doing this will not modify any behavior and is safe. When replacing `np.int`, you may wish to use e.g. `np.int64` or `np.int32` to specify the precision. If you wish to review your current use, check the release note link for additional information.\n",
      "Deprecated in NumPy 1.20; for more details and guidance: https://numpy.org/devdocs/release/1.20.0-notes.html#deprecations\n",
      "  dtype=np.int):\n"
     ]
    }
   ],
   "source": [
    "# one hot encode runway\n",
    "# ordinal encode airline\n",
    "# TODO: Try with avg pb time, ratioH/M, ratio nominal\n",
    "from traffic.core import Traffic\n",
    "\n",
    "import pandas as pd\n",
    "import numpy as np\n",
    "import pickle\n",
    "\n",
    "import os.path\n",
    "\n",
    "from ipyleaflet import Polygon\n",
    "from ipywidgets import Layout\n",
    "from ipyleaflet import Map, Marker\n",
    "\n",
    "import altair as alt\n",
    "\n",
    "from cartes.osm import Overpass\n",
    "\n",
    "from sklearn import svm\n",
    "\n",
    "from sklearn.compose import ColumnTransformer\n",
    "from sklearn.preprocessing import StandardScaler\n",
    "from sklearn.model_selection import train_test_split\n",
    "from sklearn.model_selection import cross_val_score\n",
    "from sklearn.model_selection import RepeatedStratifiedKFold\n",
    "from sklearn.ensemble import RandomForestClassifier\n",
    "from sklearn.ensemble import RandomForestRegressor\n",
    "from sklearn.metrics import classification_report, confusion_matrix\n",
    "\n",
    "from numpy import mean\n",
    "from numpy import std\n",
    "from sklearn.compose import ColumnTransformer\n",
    "from sklearn.datasets import fetch_openml\n",
    "from sklearn.pipeline import Pipeline\n",
    "from sklearn.impute import SimpleImputer\n",
    "from sklearn.preprocessing import StandardScaler, OneHotEncoder, OrdinalEncoder\n",
    "from sklearn.linear_model import LogisticRegression\n",
    "from sklearn.model_selection import train_test_split, GridSearchCV"
   ]
  },
  {
   "cell_type": "code",
   "execution_count": 2,
   "id": "c69c0cb4-f67d-45ca-a47a-444ee9b50c9b",
   "metadata": {
    "execution": {
     "iopub.execute_input": "2021-06-25T12:56:53.196782Z",
     "iopub.status.busy": "2021-06-25T12:56:53.196596Z",
     "iopub.status.idle": "2021-06-25T12:56:53.269437Z",
     "shell.execute_reply": "2021-06-25T12:56:53.268742Z",
     "shell.execute_reply.started": "2021-06-25T12:56:53.196760Z"
    },
    "tags": []
   },
   "outputs": [
    {
     "name": "stderr",
     "output_type": "stream",
     "text": [
      "/home/service/miniconda3/envs/py39v7/lib/python3.8/site-packages/ipykernel/ipkernel.py:283: DeprecationWarning: `should_run_async` will not call `transform_cell` automatically in the future. Please pass the result to `transformed_cell` argument and any exception that happen during thetransform in `preprocessing_exc_tuple` in IPython 7.17 and above.\n",
      "  and should_run_async(code)\n"
     ]
    }
   ],
   "source": [
    "from ground_analysis.build_features import gather_data"
   ]
  },
  {
   "cell_type": "code",
   "execution_count": 3,
   "id": "7ef75ad6-99c3-42cf-a62a-4d7f93aaabb4",
   "metadata": {
    "execution": {
     "iopub.execute_input": "2021-06-25T12:56:53.270820Z",
     "iopub.status.busy": "2021-06-25T12:56:53.270636Z",
     "iopub.status.idle": "2021-06-25T12:56:53.273539Z",
     "shell.execute_reply": "2021-06-25T12:56:53.272962Z",
     "shell.execute_reply.started": "2021-06-25T12:56:53.270801Z"
    },
    "tags": []
   },
   "outputs": [],
   "source": [
    "from ground_analysis.utils import within_Xmin\n",
    "from ground_analysis.extract_flight_info import onehot_runways, assign_twy_occ"
   ]
  },
  {
   "cell_type": "code",
   "execution_count": 4,
   "id": "f151843e-a7af-4b64-844c-86145ee9d547",
   "metadata": {
    "execution": {
     "iopub.execute_input": "2021-06-25T12:56:53.274481Z",
     "iopub.status.busy": "2021-06-25T12:56:53.274317Z",
     "iopub.status.idle": "2021-06-25T12:56:53.401451Z",
     "shell.execute_reply": "2021-06-25T12:56:53.400718Z",
     "shell.execute_reply.started": "2021-06-25T12:56:53.274464Z"
    },
    "tags": []
   },
   "outputs": [],
   "source": [
    "dep_arr_df = pd.read_pickle(\"../data/processed/dep_arr_df2.pkl\")"
   ]
  },
  {
   "cell_type": "code",
   "execution_count": 5,
   "id": "87b4e3b2-cbf8-4221-9f69-a7a7afd590a5",
   "metadata": {
    "execution": {
     "iopub.execute_input": "2021-06-25T12:56:56.834104Z",
     "iopub.status.busy": "2021-06-25T12:56:56.833829Z",
     "iopub.status.idle": "2021-06-25T12:56:56.845984Z",
     "shell.execute_reply": "2021-06-25T12:56:56.845408Z",
     "shell.execute_reply.started": "2021-06-25T12:56:56.834079Z"
    },
    "tags": []
   },
   "outputs": [
    {
     "name": "stderr",
     "output_type": "stream",
     "text": [
      "/home/service/miniconda3/envs/py39v7/lib/python3.8/site-packages/ipykernel/ipkernel.py:283: DeprecationWarning: `should_run_async` will not call `transform_cell` automatically in the future. Please pass the result to `transformed_cell` argument and any exception that happen during thetransform in `preprocessing_exc_tuple` in IPython 7.17 and above.\n",
      "  and should_run_async(code)\n"
     ]
    },
    {
     "data": {
      "text/plain": [
       "ARR    19078\n",
       "DEP    16464\n",
       "Name: mvt_type, dtype: int64"
      ]
     },
     "execution_count": 5,
     "metadata": {},
     "output_type": "execute_result"
    }
   ],
   "source": [
    "dep_arr_df[\"mvt_type\"].value_counts()"
   ]
  },
  {
   "cell_type": "code",
   "execution_count": 27,
   "id": "4c94ac28-6e69-47dc-b13f-8c40d358e53b",
   "metadata": {
    "execution": {
     "iopub.execute_input": "2021-06-23T12:33:40.935519Z",
     "iopub.status.busy": "2021-06-23T12:33:40.935253Z",
     "iopub.status.idle": "2021-06-23T12:33:40.985905Z",
     "shell.execute_reply": "2021-06-23T12:33:40.985310Z",
     "shell.execute_reply.started": "2021-06-23T12:33:40.935493Z"
    }
   },
   "outputs": [],
   "source": [
    "%load_ext lab_black"
   ]
  },
  {
   "cell_type": "markdown",
   "id": "d53bf2c0-f613-4411-86b2-d078654a0402",
   "metadata": {},
   "source": [
    "# Regressor"
   ]
  },
  {
   "cell_type": "code",
   "execution_count": 219,
   "id": "cdbf004b-c2df-4ae1-926c-2630eefec6f9",
   "metadata": {
    "execution": {
     "iopub.execute_input": "2021-07-01T07:14:39.041957Z",
     "iopub.status.busy": "2021-07-01T07:14:39.040707Z",
     "iopub.status.idle": "2021-07-01T07:14:39.568039Z",
     "shell.execute_reply": "2021-07-01T07:14:39.567361Z",
     "shell.execute_reply.started": "2021-07-01T07:14:39.041904Z"
    },
    "tags": []
   },
   "outputs": [],
   "source": [
    "dep_arr_df = pd.read_pickle(\"../data/processed/dep_arr_df5_sifiAqliScfi.pkl\")"
   ]
  },
  {
   "cell_type": "code",
   "execution_count": 240,
   "id": "d455e8f8-8b68-4028-a82c-0ad344619750",
   "metadata": {
    "execution": {
     "iopub.execute_input": "2021-07-01T07:34:05.662646Z",
     "iopub.status.busy": "2021-07-01T07:34:05.662288Z",
     "iopub.status.idle": "2021-07-01T07:34:05.671890Z",
     "shell.execute_reply": "2021-07-01T07:34:05.671050Z",
     "shell.execute_reply.started": "2021-07-01T07:34:05.662562Z"
    },
    "tags": []
   },
   "outputs": [],
   "source": [
    "twy_cols = [\n",
    "    \"H_occ\",\n",
    "    \"K_occ\",\n",
    "    \"B_occ\",\n",
    "    \"F_occ\",\n",
    "    \"L_occ\",\n",
    "    \"J_occ\",\n",
    "    \"E_occ\",\n",
    "    \"D_occ\",\n",
    "    \"C_occ\",\n",
    "    \"N_occ\",\n",
    "    \"A_occ\",\n",
    "    \"M_occ\",\n",
    "    \"Y_occ\",\n",
    "    \"R_occ\",\n",
    "    \"G_occ\",\n",
    "    \"Z_occ\",\n",
    "    \"P_occ\",\n",
    "]\n",
    "\n",
    "sifi_cols = [\"aqli_DEP\", \"scfi_DEP\", \"aqli_ARR\", \"scfi_ARR\"]"
   ]
  },
  {
   "cell_type": "code",
   "execution_count": 241,
   "id": "b279bd57-1f71-4632-a31d-dc873811d6f7",
   "metadata": {
    "execution": {
     "iopub.execute_input": "2021-07-01T07:34:05.702135Z",
     "iopub.status.busy": "2021-07-01T07:34:05.701963Z",
     "iopub.status.idle": "2021-07-01T07:34:08.486006Z",
     "shell.execute_reply": "2021-07-01T07:34:08.485347Z",
     "shell.execute_reply.started": "2021-07-01T07:34:05.702117Z"
    },
    "tags": []
   },
   "outputs": [
    {
     "name": "stderr",
     "output_type": "stream",
     "text": [
      "/home/service/miniconda3/envs/py39v7/lib/python3.8/site-packages/sklearn/ensemble/_base.py:183: DeprecationWarning: `np.int` is a deprecated alias for the builtin `int`. To silence this warning, use `int` by itself. Doing this will not modify any behavior and is safe. When replacing `np.int`, you may wish to use e.g. `np.int64` or `np.int32` to specify the precision. If you wish to review your current use, check the release note link for additional information.\n",
      "Deprecated in NumPy 1.20; for more details and guidance: https://numpy.org/devdocs/release/1.20.0-notes.html#deprecations\n",
      "  dtype=np.int)\n"
     ]
    },
    {
     "data": {
      "text/html": [
       "\n",
       "<div id=\"altair-viz-b7569b6253464706ab9d89ebeed759fb\"></div>\n",
       "<script type=\"text/javascript\">\n",
       "  (function(spec, embedOpt){\n",
       "    let outputDiv = document.currentScript.previousElementSibling;\n",
       "    if (outputDiv.id !== \"altair-viz-b7569b6253464706ab9d89ebeed759fb\") {\n",
       "      outputDiv = document.getElementById(\"altair-viz-b7569b6253464706ab9d89ebeed759fb\");\n",
       "    }\n",
       "    const paths = {\n",
       "      \"vega\": \"https://cdn.jsdelivr.net/npm//vega@5?noext\",\n",
       "      \"vega-lib\": \"https://cdn.jsdelivr.net/npm//vega-lib?noext\",\n",
       "      \"vega-lite\": \"https://cdn.jsdelivr.net/npm//vega-lite@4.8.1?noext\",\n",
       "      \"vega-embed\": \"https://cdn.jsdelivr.net/npm//vega-embed@6?noext\",\n",
       "    };\n",
       "\n",
       "    function loadScript(lib) {\n",
       "      return new Promise(function(resolve, reject) {\n",
       "        var s = document.createElement('script');\n",
       "        s.src = paths[lib];\n",
       "        s.async = true;\n",
       "        s.onload = () => resolve(paths[lib]);\n",
       "        s.onerror = () => reject(`Error loading script: ${paths[lib]}`);\n",
       "        document.getElementsByTagName(\"head\")[0].appendChild(s);\n",
       "      });\n",
       "    }\n",
       "\n",
       "    function showError(err) {\n",
       "      outputDiv.innerHTML = `<div class=\"error\" style=\"color:red;\">${err}</div>`;\n",
       "      throw err;\n",
       "    }\n",
       "\n",
       "    function displayChart(vegaEmbed) {\n",
       "      vegaEmbed(outputDiv, spec, embedOpt)\n",
       "        .catch(err => showError(`Javascript Error: ${err.message}<br>This usually means there's a typo in your chart specification. See the javascript console for the full traceback.`));\n",
       "    }\n",
       "\n",
       "    if(typeof define === \"function\" && define.amd) {\n",
       "      requirejs.config({paths});\n",
       "      require([\"vega-embed\"], displayChart, err => showError(`Error loading script: ${err.message}`));\n",
       "    } else if (typeof vegaEmbed === \"function\") {\n",
       "      displayChart(vegaEmbed);\n",
       "    } else {\n",
       "      loadScript(\"vega\")\n",
       "        .then(() => loadScript(\"vega-lite\"))\n",
       "        .then(() => loadScript(\"vega-embed\"))\n",
       "        .catch(showError)\n",
       "        .then(() => displayChart(vegaEmbed));\n",
       "    }\n",
       "  })({\"config\": {\"view\": {\"continuousWidth\": 400, \"continuousHeight\": 300}}, \"layer\": [{\"data\": {\"name\": \"data-bfe43752c5fca5899bbf1781e0c7ab81\"}, \"mark\": {\"type\": \"circle\", \"opacity\": 0.5}, \"encoding\": {\"x\": {\"type\": \"quantitative\", \"field\": \"true\"}, \"y\": {\"type\": \"quantitative\", \"field\": \"pred\"}}}, {\"data\": {\"name\": \"data-32de56843fa3f113496d15045ef6b3ab\"}, \"mark\": {\"type\": \"line\", \"color\": \"black\"}, \"encoding\": {\"x\": {\"type\": \"quantitative\", \"field\": \"x\"}, \"y\": {\"type\": \"quantitative\", \"field\": \"y\"}}}], \"$schema\": \"https://vega.github.io/schema/vega-lite/v4.8.1.json\", \"datasets\": {\"data-bfe43752c5fca5899bbf1781e0c7ab81\": [{\"true\": 31.35, \"pred\": 27.434244414866832}, {\"true\": 17.3, \"pred\": 16.742177830611663}, {\"true\": 6.4, \"pred\": 8.623857073847208}, {\"true\": 9.216666666666667, \"pred\": 9.090430302806926}, {\"true\": 10.45, \"pred\": 9.4200894822956}, {\"true\": 4.0, \"pred\": 4.795576275280829}, {\"true\": 10.25, \"pred\": 10.474272453938294}, {\"true\": 8.833333333333334, \"pred\": 10.117971223700907}, {\"true\": 14.033333333333333, \"pred\": 9.719835099382045}, {\"true\": 12.4, \"pred\": 9.36067982269088}, {\"true\": 10.566666666666666, \"pred\": 11.050762650720737}, {\"true\": 24.583333333333332, \"pred\": 23.570142178606464}, {\"true\": 9.283333333333333, \"pred\": 10.733039184779885}, {\"true\": 5.016666666666667, \"pred\": 8.77536793339625}, {\"true\": 6.65, \"pred\": 11.748782360021558}, {\"true\": 5.4, \"pred\": 5.353837507745092}, {\"true\": 5.533333333333333, \"pred\": 5.90917055179035}, {\"true\": 8.466666666666667, \"pred\": 10.446118775619617}, {\"true\": 5.416666666666667, \"pred\": 7.454094898873821}, {\"true\": 11.216666666666667, \"pred\": 8.101575754683816}, {\"true\": 9.15, \"pred\": 7.766518498630997}, {\"true\": 13.05, \"pred\": 16.18067274401343}, {\"true\": 15.65, \"pred\": 19.553686479388436}, {\"true\": 10.133333333333333, \"pred\": 9.893892642143623}, {\"true\": 7.916666666666667, \"pred\": 7.349725286124552}, {\"true\": 9.116666666666667, \"pred\": 11.505983385378238}, {\"true\": 10.133333333333333, \"pred\": 7.2174018549686}, {\"true\": 19.466666666666665, \"pred\": 14.5550807505112}, {\"true\": 6.1, \"pred\": 10.371319902075996}, {\"true\": 4.95, \"pred\": 17.14780163550951}, {\"true\": 14.583333333333334, \"pred\": 14.605946233369028}, {\"true\": 10.866666666666667, \"pred\": 8.617750164640618}, {\"true\": 7.95, \"pred\": 9.038578352975136}, {\"true\": 11.783333333333333, \"pred\": 12.70280504051046}, {\"true\": 21.433333333333334, \"pred\": 15.82496167809372}, {\"true\": 11.666666666666666, \"pred\": 10.551184351333601}, {\"true\": 4.983333333333333, \"pred\": 5.96187545754899}, {\"true\": 3.8833333333333333, \"pred\": 5.404403369949718}, {\"true\": 8.75, \"pred\": 10.308344031470673}, {\"true\": 10.766666666666667, \"pred\": 11.951182717399645}, {\"true\": 9.816666666666666, \"pred\": 11.037693119296618}, {\"true\": 6.65, \"pred\": 7.467146270657351}, {\"true\": 5.366666666666666, \"pred\": 7.4704256119869115}, {\"true\": 7.516666666666667, \"pred\": 6.7116042005198855}, {\"true\": 3.3, \"pred\": 3.7632612682008957}, {\"true\": 9.683333333333334, \"pred\": 9.97351202231577}, {\"true\": 11.533333333333333, \"pred\": 12.890013397045186}, {\"true\": 13.2, \"pred\": 9.619528837876569}, {\"true\": 15.2, \"pred\": 13.05808465895893}, {\"true\": 13.45, \"pred\": 11.71690724235822}, {\"true\": 16.633333333333333, \"pred\": 11.411514037940995}, {\"true\": 6.266666666666667, \"pred\": 8.420902305319956}, {\"true\": 16.9, \"pred\": 13.294575982196813}, {\"true\": 12.4, \"pred\": 8.28110169032942}, {\"true\": 12.016666666666667, \"pred\": 12.283106504960186}, {\"true\": 7.85, \"pred\": 8.20207447819791}, {\"true\": 6.15, \"pred\": 7.308014401398585}, {\"true\": 9.233333333333333, \"pred\": 11.803186432304077}, {\"true\": 8.55, \"pred\": 10.638397282825531}, {\"true\": 16.433333333333334, \"pred\": 15.948676271265331}, {\"true\": 26.05, \"pred\": 25.034704440190097}, {\"true\": 3.283333333333333, \"pred\": 5.7128789806854705}, {\"true\": 20.983333333333334, \"pred\": 19.96806340077096}, {\"true\": 7.2, \"pred\": 10.269275238184393}, {\"true\": 14.75, \"pred\": 14.541996753518815}, {\"true\": 8.266666666666667, \"pred\": 7.878904689066429}, {\"true\": 9.15, \"pred\": 8.941284027473982}, {\"true\": 14.216666666666667, \"pred\": 14.137026873037618}, {\"true\": 4.9, \"pred\": 6.500607394248816}, {\"true\": 8.35, \"pred\": 9.110342679252485}, {\"true\": 18.05, \"pred\": 18.25900981158696}, {\"true\": 10.15, \"pred\": 10.005610239980275}, {\"true\": 25.683333333333334, \"pred\": 18.91770539071638}, {\"true\": 8.066666666666666, \"pred\": 10.913395914920041}, {\"true\": 5.616666666666666, \"pred\": 8.45464607124567}, {\"true\": 20.65, \"pred\": 17.312055321677235}, {\"true\": 6.233333333333333, \"pred\": 8.485634097096295}, {\"true\": 10.483333333333333, \"pred\": 9.25796767164724}, {\"true\": 6.866666666666666, \"pred\": 9.296343134144355}, {\"true\": 11.7, \"pred\": 12.078812540001278}, {\"true\": 9.133333333333333, \"pred\": 8.288167375665553}, {\"true\": 18.666666666666668, \"pred\": 11.822198534311694}, {\"true\": 6.65, \"pred\": 6.144448254106098}, {\"true\": 11.966666666666667, \"pred\": 12.08712608640404}, {\"true\": 10.066666666666666, \"pred\": 9.316497864327031}, {\"true\": 8.0, \"pred\": 7.084224335081365}, {\"true\": 23.116666666666667, \"pred\": 16.488137640309468}, {\"true\": 21.6, \"pred\": 21.470673544452342}, {\"true\": 8.8, \"pred\": 8.978018250024785}, {\"true\": 14.583333333333334, \"pred\": 11.259787357802828}, {\"true\": 6.95, \"pred\": 4.891299533310304}, {\"true\": 8.116666666666667, \"pred\": 8.743682028637672}, {\"true\": 16.266666666666666, \"pred\": 13.909832920150984}, {\"true\": 19.516666666666666, \"pred\": 18.206497860382186}, {\"true\": 5.083333333333333, \"pred\": 8.136166344263275}, {\"true\": 2.2, \"pred\": 2.9461758333351478}, {\"true\": 12.616666666666667, \"pred\": 12.907214699147215}, {\"true\": 9.666666666666666, \"pred\": 11.679149803337543}, {\"true\": 8.883333333333333, \"pred\": 10.843469583230855}, {\"true\": 8.85, \"pred\": 5.224220379865231}, {\"true\": 8.716666666666667, \"pred\": 9.4212957070015}, {\"true\": 5.933333333333334, \"pred\": 6.871732778940376}, {\"true\": 13.766666666666667, \"pred\": 11.45336092385796}, {\"true\": 11.633333333333333, \"pred\": 9.411530927564868}, {\"true\": 12.1, \"pred\": 11.504437874996235}, {\"true\": 12.15, \"pred\": 11.90810755021504}, {\"true\": 20.583333333333332, \"pred\": 19.9303105261979}, {\"true\": 11.066666666666666, \"pred\": 9.15530438032136}, {\"true\": 3.783333333333333, \"pred\": 3.9137138873925643}, {\"true\": 16.433333333333334, \"pred\": 15.841696653003003}, {\"true\": 10.2, \"pred\": 8.191957797335393}, {\"true\": 9.183333333333334, \"pred\": 13.989170455161172}, {\"true\": 6.316666666666666, \"pred\": 7.411408209920645}, {\"true\": 4.566666666666666, \"pred\": 5.828713297677745}, {\"true\": 10.2, \"pred\": 9.533741175418626}, {\"true\": 5.733333333333333, \"pred\": 8.214078607061158}, {\"true\": 4.5, \"pred\": 5.7767909162331765}, {\"true\": 9.266666666666667, \"pred\": 9.038167006390209}, {\"true\": 5.916666666666667, \"pred\": 5.902661685402091}, {\"true\": 8.066666666666666, \"pred\": 9.746354314068288}, {\"true\": 4.283333333333333, \"pred\": 4.16718175579294}, {\"true\": 10.716666666666667, \"pred\": 11.72275916449725}, {\"true\": 13.95, \"pred\": 10.599047048218955}, {\"true\": 11.55, \"pred\": 10.881551119872553}, {\"true\": 7.85, \"pred\": 10.591270702699628}, {\"true\": 8.15, \"pred\": 12.858409006371254}, {\"true\": 12.933333333333334, \"pred\": 10.120094851407142}, {\"true\": 8.6, \"pred\": 10.608800615506505}, {\"true\": 4.95, \"pred\": 8.656516024674499}, {\"true\": 8.283333333333333, \"pred\": 6.7724669751597215}, {\"true\": 8.5, \"pred\": 8.837346916890294}, {\"true\": 12.583333333333334, \"pred\": 11.82874569026605}, {\"true\": 8.3, \"pred\": 9.845877034376304}, {\"true\": 6.8, \"pred\": 7.8040342402695355}, {\"true\": 14.0, \"pred\": 12.630375435829597}, {\"true\": 8.45, \"pred\": 9.564217962528529}, {\"true\": 9.016666666666667, \"pred\": 11.25986777272626}, {\"true\": 8.5, \"pred\": 8.84868003925278}, {\"true\": 11.466666666666667, \"pred\": 10.087621384865368}, {\"true\": 11.316666666666666, \"pred\": 16.244045460454863}, {\"true\": 13.1, \"pred\": 9.317562019734076}, {\"true\": 12.133333333333333, \"pred\": 9.013497649289135}, {\"true\": 16.9, \"pred\": 12.607602376089693}, {\"true\": 4.566666666666666, \"pred\": 8.77113213972894}, {\"true\": 5.55, \"pred\": 12.10429670797278}, {\"true\": 9.566666666666666, \"pred\": 10.287009390509633}, {\"true\": 9.483333333333333, \"pred\": 7.987029585619533}, {\"true\": 21.05, \"pred\": 25.407075867378808}, {\"true\": 16.95, \"pred\": 13.559355880606994}, {\"true\": 9.633333333333333, \"pred\": 8.868227015404711}, {\"true\": 21.083333333333332, \"pred\": 19.173223553638863}, {\"true\": 7.683333333333334, \"pred\": 8.619942419308295}, {\"true\": 9.283333333333333, \"pred\": 10.793033316529147}, {\"true\": 3.5833333333333335, \"pred\": 4.130408787777029}, {\"true\": 13.366666666666667, \"pred\": 19.212092866074027}, {\"true\": 21.733333333333334, \"pred\": 16.45166935649777}, {\"true\": 10.216666666666667, \"pred\": 11.074741569251373}, {\"true\": 10.016666666666667, \"pred\": 9.808115044070895}, {\"true\": 13.883333333333333, \"pred\": 13.843173511918364}, {\"true\": 2.6333333333333333, \"pred\": 2.7141548379724854}, {\"true\": 5.45, \"pred\": 6.570732033150029}, {\"true\": 14.1, \"pred\": 10.728613866118017}, {\"true\": 32.06666666666667, \"pred\": 7.622106731130071}, {\"true\": 2.783333333333333, \"pred\": 3.669663887573936}, {\"true\": 2.4833333333333334, \"pred\": 5.064924351484145}, {\"true\": 9.616666666666667, \"pred\": 9.264282071093207}, {\"true\": 15.2, \"pred\": 15.47945694053586}, {\"true\": 4.466666666666667, \"pred\": 5.924281428384614}, {\"true\": 9.866666666666667, \"pred\": 10.52388955817431}, {\"true\": 13.883333333333333, \"pred\": 11.171123279806139}, {\"true\": 14.283333333333333, \"pred\": 11.841273642928183}, {\"true\": 4.333333333333333, \"pred\": 5.712559811040449}, {\"true\": 4.383333333333334, \"pred\": 3.072103873167882}, {\"true\": 7.233333333333333, \"pred\": 9.049581455293646}, {\"true\": 11.766666666666667, \"pred\": 14.88706287091774}, {\"true\": 6.4, \"pred\": 9.40305623378981}, {\"true\": 20.05, \"pred\": 17.6645422395959}, {\"true\": 8.016666666666667, \"pred\": 5.78393985066695}, {\"true\": 7.8, \"pred\": 9.620570172429238}, {\"true\": 3.7666666666666666, \"pred\": 5.0046232529591546}, {\"true\": 10.4, \"pred\": 9.119907190137674}, {\"true\": 7.15, \"pred\": 5.6860291485179415}, {\"true\": 16.066666666666666, \"pred\": 15.247365416579463}, {\"true\": 5.766666666666667, \"pred\": 8.524861418132183}, {\"true\": 3.0166666666666666, \"pred\": 5.4481745077062005}, {\"true\": 8.566666666666666, \"pred\": 9.63762052540539}, {\"true\": 21.316666666666666, \"pred\": 20.140560544614384}, {\"true\": 14.783333333333333, \"pred\": 8.929288869323546}, {\"true\": 12.883333333333333, \"pred\": 11.665061322238035}, {\"true\": 9.166666666666666, \"pred\": 10.942442139913465}, {\"true\": 7.133333333333334, \"pred\": 6.679807224211877}, {\"true\": 14.433333333333334, \"pred\": 16.12629346391627}, {\"true\": 10.85, \"pred\": 9.627900469806445}, {\"true\": 13.916666666666666, \"pred\": 13.267974668617223}, {\"true\": 14.666666666666666, \"pred\": 9.830428271503942}, {\"true\": 11.65, \"pred\": 9.921199196609496}, {\"true\": 7.183333333333334, \"pred\": 9.201589701727013}, {\"true\": 21.05, \"pred\": 17.666389284407437}, {\"true\": 11.55, \"pred\": 10.659241552799436}, {\"true\": 4.766666666666667, \"pred\": 4.591673930327117}, {\"true\": 8.766666666666667, \"pred\": 9.103179391203744}, {\"true\": 7.516666666666667, \"pred\": 6.244364263839783}, {\"true\": 7.75, \"pred\": 8.024260959093557}, {\"true\": 10.65, \"pred\": 10.410797634155966}, {\"true\": 9.283333333333333, \"pred\": 10.15132342987059}, {\"true\": 19.2, \"pred\": 21.820834035835258}, {\"true\": 9.316666666666666, \"pred\": 11.213640665955037}, {\"true\": 11.9, \"pred\": 12.492868430732301}, {\"true\": 7.966666666666667, \"pred\": 7.99213794443574}, {\"true\": 16.933333333333334, \"pred\": 15.714282985246609}, {\"true\": 4.55, \"pred\": 5.3901446871574334}, {\"true\": 7.766666666666667, \"pred\": 8.868768398550955}, {\"true\": 20.5, \"pred\": 18.540560399252744}, {\"true\": 10.35, \"pred\": 8.589893760561377}, {\"true\": 6.75, \"pred\": 8.529538361468925}, {\"true\": 10.733333333333333, \"pred\": 8.090320993035363}, {\"true\": 22.5, \"pred\": 18.520819339494537}, {\"true\": 7.383333333333334, \"pred\": 7.3297115375546715}, {\"true\": 10.466666666666667, \"pred\": 9.107315016352855}, {\"true\": 13.2, \"pred\": 13.912265134626493}, {\"true\": 10.733333333333333, \"pred\": 14.502922461316826}, {\"true\": 6.8, \"pred\": 4.611317451736624}, {\"true\": 8.216666666666667, \"pred\": 4.46620989873877}, {\"true\": 3.95, \"pred\": 4.4082465639933766}, {\"true\": 26.016666666666666, \"pred\": 21.44667349104666}, {\"true\": 16.4, \"pred\": 17.117742231820753}, {\"true\": 9.6, \"pred\": 8.497009950184351}, {\"true\": 5.4, \"pred\": 6.884531020684012}, {\"true\": 10.333333333333334, \"pred\": 8.335455111588525}, {\"true\": 14.15, \"pred\": 14.32345890036701}, {\"true\": 6.65, \"pred\": 6.112649399622851}, {\"true\": 8.8, \"pred\": 7.670939097839343}, {\"true\": 18.283333333333335, \"pred\": 15.851015517293392}, {\"true\": 13.316666666666666, \"pred\": 16.16968095612392}, {\"true\": 4.183333333333334, \"pred\": 4.543327767635223}, {\"true\": 7.633333333333334, \"pred\": 7.776965744558638}, {\"true\": 9.933333333333334, \"pred\": 7.318772939397683}, {\"true\": 7.5, \"pred\": 7.124366955112787}, {\"true\": 12.233333333333333, \"pred\": 14.933792278690813}, {\"true\": 3.183333333333333, \"pred\": 3.389393791841973}, {\"true\": 8.35, \"pred\": 6.6739634282766085}, {\"true\": 3.3833333333333333, \"pred\": 6.904410761394892}, {\"true\": 12.583333333333334, \"pred\": 9.57886939985636}, {\"true\": 12.85, \"pred\": 16.39890948668253}, {\"true\": 13.133333333333333, \"pred\": 16.465061251114633}, {\"true\": 8.483333333333333, \"pred\": 11.744019764574562}, {\"true\": 5.1, \"pred\": 7.779603861634011}, {\"true\": 9.883333333333333, \"pred\": 9.387981564704354}, {\"true\": 7.233333333333333, \"pred\": 8.50571411253626}, {\"true\": 13.133333333333333, \"pred\": 9.712740708063098}, {\"true\": 8.766666666666667, \"pred\": 9.776185394962276}, {\"true\": 4.666666666666667, \"pred\": 4.3620114073562615}, {\"true\": 62.13333333333333, \"pred\": 31.297914122905045}, {\"true\": 12.833333333333334, \"pred\": 12.462265926281702}, {\"true\": 9.7, \"pred\": 8.67701455231406}, {\"true\": 7.633333333333334, \"pred\": 8.481666449988298}, {\"true\": 10.25, \"pred\": 10.60185194025817}, {\"true\": 13.35, \"pred\": 8.942674010380273}, {\"true\": 4.166666666666667, \"pred\": 5.051737116673983}, {\"true\": 9.983333333333333, \"pred\": 10.213080219000314}, {\"true\": 8.933333333333334, \"pred\": 9.561507980644993}, {\"true\": 6.616666666666666, \"pred\": 7.637935711883479}, {\"true\": 2.683333333333333, \"pred\": 3.9214026162811115}, {\"true\": 8.783333333333333, \"pred\": 10.478041212579512}, {\"true\": 11.966666666666667, \"pred\": 10.16729937638614}, {\"true\": 18.7, \"pred\": 13.654372518100814}, {\"true\": 9.866666666666667, \"pred\": 10.233190881091254}, {\"true\": 15.966666666666667, \"pred\": 14.86331851530823}, {\"true\": 14.016666666666667, \"pred\": 12.037260942864993}, {\"true\": 13.5, \"pred\": 18.37632792444245}, {\"true\": 10.916666666666666, \"pred\": 11.863391684341439}, {\"true\": 6.183333333333334, \"pred\": 7.483175972515328}, {\"true\": 17.433333333333334, \"pred\": 18.701602833618146}, {\"true\": 3.35, \"pred\": 5.755732248296104}, {\"true\": 18.6, \"pred\": 15.08349850418425}, {\"true\": 19.4, \"pred\": 17.502856121280967}, {\"true\": 15.133333333333333, \"pred\": 12.495258394963791}, {\"true\": 17.233333333333334, \"pred\": 15.147346937430278}, {\"true\": 14.183333333333334, \"pred\": 8.778593565305998}, {\"true\": 15.233333333333333, \"pred\": 15.242311298243852}, {\"true\": 12.933333333333334, \"pred\": 10.22706565856983}, {\"true\": 15.683333333333334, \"pred\": 11.544930771340425}, {\"true\": 4.7, \"pred\": 5.985028918149751}, {\"true\": 9.133333333333333, \"pred\": 9.559328137747759}, {\"true\": 3.683333333333333, \"pred\": 3.679815892499597}, {\"true\": 13.566666666666666, \"pred\": 13.402010582237295}, {\"true\": 14.216666666666667, \"pred\": 16.78970201357094}, {\"true\": 9.65, \"pred\": 9.453509749696371}, {\"true\": 8.25, \"pred\": 8.560041321292896}, {\"true\": 10.083333333333334, \"pred\": 10.951372164046443}, {\"true\": 7.8, \"pred\": 8.44211992983367}, {\"true\": 8.166666666666666, \"pred\": 8.7240398686219}, {\"true\": 5.233333333333333, \"pred\": 8.110365432452443}, {\"true\": 16.716666666666665, \"pred\": 15.13242856227975}, {\"true\": 9.4, \"pred\": 11.84141352452921}, {\"true\": 10.35, \"pred\": 10.747779843783572}, {\"true\": 10.85, \"pred\": 6.9676853883498495}, {\"true\": 9.45, \"pred\": 14.103166429103709}, {\"true\": 5.166666666666667, \"pred\": 6.190464408785062}, {\"true\": 9.783333333333333, \"pred\": 9.397441073549682}, {\"true\": 10.616666666666667, \"pred\": 9.490226382958003}, {\"true\": 7.983333333333333, \"pred\": 9.979009264827393}, {\"true\": 11.216666666666667, \"pred\": 11.402425527707775}, {\"true\": 10.55, \"pred\": 11.640114858117556}, {\"true\": 6.0, \"pred\": 5.362488352915764}, {\"true\": 5.366666666666666, \"pred\": 7.7224785690559274}, {\"true\": 16.216666666666665, \"pred\": 12.485431496542576}, {\"true\": 7.45, \"pred\": 6.285980350998138}, {\"true\": 6.65, \"pred\": 8.429627814451344}, {\"true\": 9.45, \"pred\": 12.52608934892268}, {\"true\": 18.633333333333333, \"pred\": 17.167784622430947}, {\"true\": 5.6, \"pred\": 7.6925995628606945}, {\"true\": 10.0, \"pred\": 11.266597323872567}, {\"true\": 12.183333333333334, \"pred\": 14.277209699496213}, {\"true\": 5.083333333333333, \"pred\": 6.8821455451793145}, {\"true\": 18.8, \"pred\": 17.860054840897355}, {\"true\": 4.433333333333334, \"pred\": 3.7781200188657227}, {\"true\": 4.15, \"pred\": 6.58869682665736}, {\"true\": 21.316666666666666, \"pred\": 20.150722694501532}, {\"true\": 15.8, \"pred\": 14.818829683898256}, {\"true\": 10.4, \"pred\": 6.663183474101482}, {\"true\": 17.566666666666666, \"pred\": 17.415577564750258}, {\"true\": 12.4, \"pred\": 16.033073142732306}, {\"true\": 4.0, \"pred\": 5.8742125675016785}, {\"true\": 17.85, \"pred\": 7.621303483208876}, {\"true\": 8.366666666666667, \"pred\": 9.540846400600413}, {\"true\": 8.416666666666666, \"pred\": 7.498877904366874}, {\"true\": 9.866666666666667, \"pred\": 10.210327787460217}, {\"true\": 11.183333333333334, \"pred\": 12.175829394773897}, {\"true\": 17.916666666666668, \"pred\": 14.642560334021079}, {\"true\": 13.083333333333334, \"pred\": 14.166488791257386}, {\"true\": 6.666666666666667, \"pred\": 10.381383465242859}, {\"true\": 12.283333333333333, \"pred\": 8.605198581012303}, {\"true\": 5.233333333333333, \"pred\": 6.748458066384653}, {\"true\": 6.866666666666666, \"pred\": 7.794807209963619}, {\"true\": 19.566666666666666, \"pred\": 19.275411263325797}, {\"true\": 8.533333333333333, \"pred\": 9.509783380100776}, {\"true\": 8.233333333333333, \"pred\": 6.2485277937037385}, {\"true\": 6.766666666666667, \"pred\": 6.505177083945942}, {\"true\": 10.633333333333333, \"pred\": 9.113108814520443}, {\"true\": 7.716666666666667, \"pred\": 8.372654024623179}, {\"true\": 7.183333333333334, \"pred\": 7.775673583370153}, {\"true\": 20.6, \"pred\": 18.602970744886917}, {\"true\": 7.316666666666666, \"pred\": 9.29512108342199}, {\"true\": 14.266666666666667, \"pred\": 12.234365770848612}, {\"true\": 11.9, \"pred\": 8.972611545801099}, {\"true\": 5.066666666666666, \"pred\": 8.644404016052057}, {\"true\": 17.35, \"pred\": 15.458209260356092}, {\"true\": 6.1, \"pred\": 4.014191157451748}, {\"true\": 11.95, \"pred\": 13.697998755039434}, {\"true\": 16.666666666666668, \"pred\": 14.142710952935955}, {\"true\": 5.85, \"pred\": 6.542973165306005}, {\"true\": 7.183333333333334, \"pred\": 6.496841343553054}, {\"true\": 17.233333333333334, \"pred\": 15.053319027876148}, {\"true\": 6.45, \"pred\": 8.222286569988894}, {\"true\": 4.766666666666667, \"pred\": 5.927461911269368}, {\"true\": 4.566666666666666, \"pred\": 7.55263418588397}, {\"true\": 10.75, \"pred\": 10.490164395598951}, {\"true\": 9.966666666666667, \"pred\": 10.941474378135917}, {\"true\": 14.35, \"pred\": 11.069391956980933}, {\"true\": 5.3, \"pred\": 8.51464182819006}, {\"true\": 4.516666666666667, \"pred\": 8.292077598761463}, {\"true\": 9.4, \"pred\": 7.575616430247312}, {\"true\": 3.2333333333333334, \"pred\": 7.008670151562308}, {\"true\": 7.733333333333333, \"pred\": 7.897173622756671}, {\"true\": 9.35, \"pred\": 10.609833731292309}, {\"true\": 5.083333333333333, \"pred\": 2.8338285212245986}, {\"true\": 8.666666666666666, \"pred\": 11.323586971556706}, {\"true\": 9.383333333333333, \"pred\": 12.890493082967177}, {\"true\": 9.833333333333334, \"pred\": 11.1595663140418}, {\"true\": 9.783333333333333, \"pred\": 8.55192841200194}, {\"true\": 17.616666666666667, \"pred\": 14.881486071946538}, {\"true\": 11.55, \"pred\": 11.325769477118746}, {\"true\": 9.433333333333334, \"pred\": 10.6655118204317}, {\"true\": 5.0, \"pred\": 5.634609706416065}, {\"true\": 6.733333333333333, \"pred\": 8.126610285420824}, {\"true\": 14.166666666666666, \"pred\": 11.150482417633004}, {\"true\": 11.766666666666667, \"pred\": 15.566057505910937}, {\"true\": 14.583333333333334, \"pred\": 14.966516874673987}, {\"true\": 6.616666666666666, \"pred\": 8.815796449242198}, {\"true\": 12.933333333333334, \"pred\": 9.520978145185476}, {\"true\": 12.866666666666667, \"pred\": 9.409249519618573}, {\"true\": 11.55, \"pred\": 12.353531963478558}, {\"true\": 4.2, \"pred\": 4.497320928318231}, {\"true\": 3.85, \"pred\": 4.758760552247316}, {\"true\": 6.866666666666666, \"pred\": 8.07874797520018}, {\"true\": 15.5, \"pred\": 11.383429703164811}, {\"true\": 3.566666666666667, \"pred\": 4.713664669574394}, {\"true\": 7.35, \"pred\": 10.737160129299948}, {\"true\": 10.483333333333333, \"pred\": 8.881019650595555}, {\"true\": 7.0, \"pred\": 9.2212202563757}, {\"true\": 9.233333333333333, \"pred\": 9.206996173042503}, {\"true\": 19.616666666666667, \"pred\": 12.818857209479635}, {\"true\": 11.833333333333334, \"pred\": 7.9216978561652605}, {\"true\": 8.3, \"pred\": 7.968045885459852}, {\"true\": 9.966666666666667, \"pred\": 10.565353715492934}, {\"true\": 13.9, \"pred\": 12.028276568015745}, {\"true\": 17.116666666666667, \"pred\": 16.069311128633146}, {\"true\": 11.85, \"pred\": 16.071770365311988}, {\"true\": 5.7, \"pred\": 7.5798343423551735}, {\"true\": 11.266666666666667, \"pred\": 10.314194670625}, {\"true\": 7.866666666666666, \"pred\": 4.123262205858776}, {\"true\": 7.5, \"pred\": 7.849290322215052}, {\"true\": 4.316666666666666, \"pred\": 5.370154440731362}, {\"true\": 5.066666666666666, \"pred\": 8.699418766369604}, {\"true\": 6.533333333333333, \"pred\": 5.404832254882964}, {\"true\": 19.833333333333332, \"pred\": 15.997361749225714}, {\"true\": 7.6, \"pred\": 6.265601489293015}, {\"true\": 15.55, \"pred\": 10.565124801344835}, {\"true\": 11.766666666666667, \"pred\": 9.54744534603492}, {\"true\": 13.766666666666667, \"pred\": 9.361961004944577}, {\"true\": 11.816666666666666, \"pred\": 12.69004379339843}, {\"true\": 7.916666666666667, \"pred\": 11.141686049267786}, {\"true\": 10.233333333333333, \"pred\": 9.85924503449528}, {\"true\": 14.833333333333334, \"pred\": 16.458354512882874}, {\"true\": 14.716666666666667, \"pred\": 13.066262062348079}, {\"true\": 8.75, \"pred\": 8.153297611510148}, {\"true\": 7.516666666666667, \"pred\": 6.244364263839783}, {\"true\": 9.366666666666667, \"pred\": 12.08613399301316}, {\"true\": 10.416666666666666, \"pred\": 11.287319127107558}, {\"true\": 7.15, \"pred\": 7.893802890320991}, {\"true\": 13.0, \"pred\": 11.444810828233132}, {\"true\": 9.5, \"pred\": 9.47360165742983}, {\"true\": 15.066666666666666, \"pred\": 14.588626928064668}, {\"true\": 6.8, \"pred\": 6.905519534085054}, {\"true\": 5.35, \"pred\": 7.691138463680569}, {\"true\": 6.416666666666667, \"pred\": 5.8486847622974825}, {\"true\": 10.7, \"pred\": 7.250212387507859}, {\"true\": 5.183333333333334, \"pred\": 6.319181571668115}, {\"true\": 7.866666666666666, \"pred\": 12.241384062224997}, {\"true\": 8.35, \"pred\": 8.870972874026654}, {\"true\": 5.716666666666667, \"pred\": 7.309272319308179}, {\"true\": 14.933333333333334, \"pred\": 12.285554396460192}, {\"true\": 10.0, \"pred\": 10.268330956438929}, {\"true\": 12.35, \"pred\": 11.076282028265851}, {\"true\": 16.383333333333333, \"pred\": 15.094145521580343}, {\"true\": 8.083333333333334, \"pred\": 9.797987815064953}, {\"true\": 4.5, \"pred\": 6.857593581233389}, {\"true\": 8.283333333333333, \"pred\": 11.399453059450584}, {\"true\": 17.833333333333332, \"pred\": 21.641367882877255}, {\"true\": 13.45, \"pred\": 10.30640470194484}, {\"true\": 13.233333333333333, \"pred\": 9.874375927331085}, {\"true\": 25.85, \"pred\": 21.982035274979964}, {\"true\": 2.533333333333333, \"pred\": 3.060126752069642}, {\"true\": 19.683333333333334, \"pred\": 17.50939711575643}, {\"true\": 14.316666666666666, \"pred\": 11.23171695583494}, {\"true\": 5.4, \"pred\": 8.90544449805822}, {\"true\": 11.583333333333334, \"pred\": 12.356424794519011}, {\"true\": 3.6333333333333333, \"pred\": 3.7204688396881003}, {\"true\": 10.316666666666666, \"pred\": 12.464210475236456}, {\"true\": 8.383333333333333, \"pred\": 7.751974488991403}, {\"true\": 9.75, \"pred\": 5.118103794480757}, {\"true\": 13.216666666666667, \"pred\": 10.136558696534612}, {\"true\": 14.883333333333333, \"pred\": 16.87965386760403}, {\"true\": 9.366666666666667, \"pred\": 9.130163856830787}, {\"true\": 6.4, \"pred\": 7.526580523697427}, {\"true\": 9.683333333333334, \"pred\": 10.152012900833734}, {\"true\": 14.483333333333333, \"pred\": 13.413976190086721}, {\"true\": 2.7666666666666666, \"pred\": 2.817539676391146}, {\"true\": 10.783333333333333, \"pred\": 11.286536377670313}, {\"true\": 15.933333333333334, \"pred\": 14.435386523969859}, {\"true\": 5.866666666666666, \"pred\": 5.00202018626082}, {\"true\": 21.65, \"pred\": 17.370042802685695}, {\"true\": 10.8, \"pred\": 12.544278010186414}, {\"true\": 9.366666666666667, \"pred\": 8.451601462614523}, {\"true\": 10.216666666666667, \"pred\": 13.606090549999632}, {\"true\": 6.783333333333333, \"pred\": 7.528743586506086}, {\"true\": 9.533333333333333, \"pred\": 8.294539318261622}, {\"true\": 31.35, \"pred\": 27.3799110815335}, {\"true\": 9.95, \"pred\": 10.632247467603774}, {\"true\": 8.816666666666666, \"pred\": 8.380681324793581}, {\"true\": 8.5, \"pred\": 10.00624213324038}, {\"true\": 12.15, \"pred\": 11.13211818193607}, {\"true\": 7.2, \"pred\": 8.805061790697073}, {\"true\": 23.05, \"pred\": 20.953744035040845}, {\"true\": 10.933333333333334, \"pred\": 12.843045676482198}, {\"true\": 21.916666666666668, \"pred\": 19.489039543290765}, {\"true\": 12.866666666666667, \"pred\": 11.955353779032572}, {\"true\": 13.883333333333333, \"pred\": 11.263404892202935}, {\"true\": 8.033333333333333, \"pred\": 7.113386127749194}, {\"true\": 10.333333333333334, \"pred\": 12.173009865463728}, {\"true\": 19.25, \"pred\": 19.135600920938174}, {\"true\": 10.183333333333334, \"pred\": 10.643205660022907}, {\"true\": 8.466666666666667, \"pred\": 11.707687201973572}, {\"true\": 13.2, \"pred\": 10.487533500051143}, {\"true\": 17.783333333333335, \"pred\": 8.896093004919154}, {\"true\": 29.666666666666668, \"pred\": 20.389435256546275}, {\"true\": 11.216666666666667, \"pred\": 10.926471993429589}, {\"true\": 7.5, \"pred\": 8.76211630074482}, {\"true\": 12.666666666666666, \"pred\": 17.882689171506254}, {\"true\": 17.816666666666666, \"pred\": 17.617305132966155}, {\"true\": 6.75, \"pred\": 6.616152311395937}, {\"true\": 20.133333333333333, \"pred\": 14.247737076129543}, {\"true\": 14.8, \"pred\": 11.995319112224974}, {\"true\": 9.383333333333333, \"pred\": 9.988128780273541}, {\"true\": 6.1, \"pred\": 7.185894512767551}, {\"true\": 7.516666666666667, \"pred\": 6.218997561098079}, {\"true\": 14.05, \"pred\": 10.347396863956664}, {\"true\": 6.95, \"pred\": 10.731858835073794}, {\"true\": 16.916666666666668, \"pred\": 12.194374783556942}, {\"true\": 11.5, \"pred\": 14.812007108966696}, {\"true\": 7.283333333333333, \"pred\": 4.914801707450519}, {\"true\": 6.583333333333333, \"pred\": 10.081247869456057}, {\"true\": 7.833333333333333, \"pred\": 10.657898660906998}, {\"true\": 4.883333333333334, \"pred\": 6.099937347228315}, {\"true\": 11.15, \"pred\": 13.21454129505208}, {\"true\": 7.3, \"pred\": 8.800350392599414}, {\"true\": 11.816666666666666, \"pred\": 12.645261336301587}, {\"true\": 20.5, \"pred\": 18.01920797854727}, {\"true\": 8.0, \"pred\": 5.51738174389155}, {\"true\": 4.85, \"pred\": 9.555924000119989}, {\"true\": 15.166666666666666, \"pred\": 17.536752990945146}, {\"true\": 7.45, \"pred\": 7.527268205324088}, {\"true\": 11.416666666666666, \"pred\": 14.103326161412639}, {\"true\": 10.516666666666667, \"pred\": 9.79185762805497}, {\"true\": 15.85, \"pred\": 14.05645778692077}, {\"true\": 61.15, \"pred\": 29.964699484593112}, {\"true\": 6.966666666666667, \"pred\": 6.849322971244346}, {\"true\": 5.766666666666667, \"pred\": 7.4622392772351125}, {\"true\": 12.133333333333333, \"pred\": 8.388890221106438}, {\"true\": 14.433333333333334, \"pred\": 11.845183520845527}, {\"true\": 11.116666666666667, \"pred\": 8.89247974743981}, {\"true\": 8.65, \"pred\": 8.812453372754318}, {\"true\": 15.7, \"pred\": 25.160607156625236}, {\"true\": 15.1, \"pred\": 11.556205127014744}, {\"true\": 10.75, \"pred\": 7.306513263620716}, {\"true\": 16.75, \"pred\": 12.142247006854996}, {\"true\": 11.233333333333333, \"pred\": 12.85448359145871}, {\"true\": 7.066666666666666, \"pred\": 10.276015371073997}, {\"true\": 15.05, \"pred\": 15.208840715901742}, {\"true\": 4.05, \"pred\": 4.308374285772326}, {\"true\": 10.5, \"pred\": 6.593784434244803}, {\"true\": 9.466666666666667, \"pred\": 11.584527234102994}, {\"true\": 9.65, \"pred\": 9.410985453132367}, {\"true\": 12.533333333333333, \"pred\": 8.524333434934997}, {\"true\": 13.3, \"pred\": 12.507830124431615}, {\"true\": 10.766666666666667, \"pred\": 15.95845281771419}, {\"true\": 15.033333333333333, \"pred\": 15.92682121795521}, {\"true\": 20.416666666666668, \"pred\": 17.887417758352}, {\"true\": 24.116666666666667, \"pred\": 18.42708933914383}, {\"true\": 15.683333333333334, \"pred\": 14.863083863975538}, {\"true\": 9.216666666666667, \"pred\": 9.102133091769195}, {\"true\": 13.783333333333333, \"pred\": 11.416054541437616}, {\"true\": 4.95, \"pred\": 9.262104502249647}, {\"true\": 5.733333333333333, \"pred\": 5.797432458663819}, {\"true\": 9.283333333333333, \"pred\": 11.160083329116409}, {\"true\": 7.15, \"pred\": 10.999016352770132}, {\"true\": 14.9, \"pred\": 17.059532920674087}, {\"true\": 14.383333333333333, \"pred\": 10.826421495407278}, {\"true\": 10.316666666666666, \"pred\": 9.384381857512016}, {\"true\": 14.533333333333333, \"pred\": 12.663948119903642}, {\"true\": 9.15, \"pred\": 11.88159868763227}, {\"true\": 17.983333333333334, \"pred\": 11.352598109107667}, {\"true\": 14.216666666666667, \"pred\": 14.130205647966392}, {\"true\": 6.166666666666667, \"pred\": 7.857523663494416}, {\"true\": 13.566666666666666, \"pred\": 10.667684487218052}, {\"true\": 17.166666666666668, \"pred\": 18.94984650524676}, {\"true\": 7.916666666666667, \"pred\": 6.148693880550419}, {\"true\": 10.483333333333333, \"pred\": 13.290093257124136}, {\"true\": 6.8, \"pred\": 10.724990670783466}, {\"true\": 4.633333333333334, \"pred\": 5.582248747131594}, {\"true\": 3.0166666666666666, \"pred\": 6.235306128165971}, {\"true\": 9.35, \"pred\": 7.132639107392438}, {\"true\": 8.3, \"pred\": 10.204517833105717}, {\"true\": 15.466666666666667, \"pred\": 14.726089858573847}, {\"true\": 9.25, \"pred\": 8.683567638026457}, {\"true\": 4.083333333333333, \"pred\": 3.1465256537618247}, {\"true\": 11.766666666666667, \"pred\": 9.63801339827486}, {\"true\": 26.4, \"pred\": 15.248632756622458}, {\"true\": 11.05, \"pred\": 11.648597344366253}, {\"true\": 3.8666666666666667, \"pred\": 3.300351375371372}, {\"true\": 3.183333333333333, \"pred\": 2.766240795125353}, {\"true\": 9.95, \"pred\": 10.770076955878473}, {\"true\": 22.1, \"pred\": 20.62811628202856}, {\"true\": 8.333333333333334, \"pred\": 8.714357673787637}, {\"true\": 11.316666666666666, \"pred\": 13.310328301028088}, {\"true\": 7.916666666666667, \"pred\": 8.430403789176726}, {\"true\": 9.383333333333333, \"pred\": 12.577967717701116}, {\"true\": 8.25, \"pred\": 6.613713442195061}, {\"true\": 6.533333333333333, \"pred\": 7.261500599663592}, {\"true\": 10.616666666666667, \"pred\": 9.81594751431346}, {\"true\": 3.35, \"pred\": 4.334913250548995}, {\"true\": 15.4, \"pred\": 16.490378006976112}, {\"true\": 16.55, \"pred\": 16.873164265781423}, {\"true\": 9.483333333333333, \"pred\": 8.46730912336956}, {\"true\": 12.933333333333334, \"pred\": 7.865850459658154}, {\"true\": 12.766666666666667, \"pred\": 13.072287709699332}, {\"true\": 11.45, \"pred\": 10.68338500081074}, {\"true\": 7.083333333333333, \"pred\": 10.0384652632861}, {\"true\": 8.433333333333334, \"pred\": 8.663666620889146}, {\"true\": 8.1, \"pred\": 9.452455445847491}, {\"true\": 10.466666666666667, \"pred\": 7.843277903505348}, {\"true\": 10.516666666666667, \"pred\": 12.994740645338682}, {\"true\": 18.766666666666666, \"pred\": 20.207513271741444}, {\"true\": 3.783333333333333, \"pred\": 5.620037468359527}, {\"true\": 11.116666666666667, \"pred\": 7.328829542057625}, {\"true\": 11.9, \"pred\": 16.715552528027523}, {\"true\": 10.1, \"pred\": 11.146900194295538}, {\"true\": 8.366666666666667, \"pred\": 11.010450441007794}, {\"true\": 3.8666666666666667, \"pred\": 2.8603863892099173}, {\"true\": 10.5, \"pred\": 10.216515624257925}, {\"true\": 3.2, \"pred\": 3.962311714583048}, {\"true\": 3.65, \"pred\": 3.378741576379321}, {\"true\": 11.133333333333333, \"pred\": 7.068959784741398}, {\"true\": 8.316666666666666, \"pred\": 9.165557207788577}, {\"true\": 30.033333333333335, \"pred\": 23.93170421851827}, {\"true\": 13.383333333333333, \"pred\": 13.962239888166245}, {\"true\": 5.766666666666667, \"pred\": 9.17991311833066}, {\"true\": 13.083333333333334, \"pred\": 13.459620233250769}, {\"true\": 12.65, \"pred\": 10.277052963248096}, {\"true\": 14.566666666666666, \"pred\": 14.151093385780893}, {\"true\": 9.75, \"pred\": 10.852124547708053}, {\"true\": 3.533333333333333, \"pred\": 3.6787060684594985}, {\"true\": 11.833333333333334, \"pred\": 10.837405869967569}, {\"true\": 19.4, \"pred\": 17.66528790206229}, {\"true\": 9.666666666666666, \"pred\": 9.681698797701648}, {\"true\": 15.483333333333333, \"pred\": 13.778060658939824}, {\"true\": 19.983333333333334, \"pred\": 10.751795129424332}, {\"true\": 4.0, \"pred\": 8.769091687893475}, {\"true\": 16.083333333333332, \"pred\": 14.038134993510491}, {\"true\": 4.65, \"pred\": 8.837203821473313}, {\"true\": 7.9, \"pred\": 12.045087738149082}, {\"true\": 11.133333333333333, \"pred\": 8.61611745658834}, {\"true\": 11.8, \"pred\": 11.567272940405253}, {\"true\": 12.183333333333334, \"pred\": 15.788175736219113}, {\"true\": 11.8, \"pred\": 12.21171768840083}, {\"true\": 12.883333333333333, \"pred\": 11.593016245046192}, {\"true\": 15.15, \"pred\": 22.56440876518848}, {\"true\": 13.816666666666666, \"pred\": 12.533648384893972}, {\"true\": 10.966666666666667, \"pred\": 10.64331715249978}, {\"true\": 4.6, \"pred\": 6.31385802854123}, {\"true\": 20.433333333333334, \"pred\": 17.754195532529902}, {\"true\": 7.966666666666667, \"pred\": 7.567533568337978}, {\"true\": 9.766666666666667, \"pred\": 12.01744950495506}, {\"true\": 12.616666666666667, \"pred\": 10.350999530185918}, {\"true\": 6.95, \"pred\": 6.901711182015915}, {\"true\": 5.983333333333333, \"pred\": 7.72642199262344}, {\"true\": 7.733333333333333, \"pred\": 8.02528995478731}, {\"true\": 2.9833333333333334, \"pred\": 3.496605175133413}, {\"true\": 20.566666666666666, \"pred\": 15.758902199657935}, {\"true\": 19.25, \"pred\": 12.667860871738723}, {\"true\": 8.566666666666666, \"pred\": 10.619985070439732}, {\"true\": 7.666666666666667, \"pred\": 8.669790113025945}, {\"true\": 6.516666666666667, \"pred\": 8.25942100227726}, {\"true\": 10.016666666666667, \"pred\": 12.088627840364731}, {\"true\": 2.3833333333333333, \"pred\": 2.899702566750605}, {\"true\": 13.8, \"pred\": 14.102023920523921}, {\"true\": 16.383333333333333, \"pred\": 14.989883352268174}, {\"true\": 15.1, \"pred\": 9.396105499541452}, {\"true\": 15.783333333333333, \"pred\": 16.033493359664643}, {\"true\": 11.416666666666666, \"pred\": 11.24763947574184}, {\"true\": 8.85, \"pred\": 10.123701865257676}, {\"true\": 4.2, \"pred\": 6.089524598757702}, {\"true\": 12.466666666666667, \"pred\": 8.618978320907484}, {\"true\": 2.7666666666666666, \"pred\": 3.619190437385781}, {\"true\": 12.133333333333333, \"pred\": 8.841590323707559}, {\"true\": 3.3333333333333335, \"pred\": 3.8017772207253224}, {\"true\": 9.5, \"pred\": 8.180154991531703}, {\"true\": 9.266666666666667, \"pred\": 8.57102263473636}, {\"true\": 11.266666666666667, \"pred\": 11.256531032611178}, {\"true\": 19.516666666666666, \"pred\": 12.470206749550375}, {\"true\": 6.183333333333334, \"pred\": 9.400711193267712}, {\"true\": 9.05, \"pred\": 10.585835776541428}, {\"true\": 11.733333333333333, \"pred\": 9.597167582562683}, {\"true\": 10.416666666666666, \"pred\": 7.238081282288884}, {\"true\": 6.083333333333333, \"pred\": 6.226446433014582}, {\"true\": 4.9, \"pred\": 6.2810418762013285}, {\"true\": 16.283333333333335, \"pred\": 16.23862408800732}, {\"true\": 5.766666666666667, \"pred\": 9.173384635694067}, {\"true\": 5.55, \"pred\": 4.390037653522947}, {\"true\": 6.8, \"pred\": 8.52318741510038}, {\"true\": 11.45, \"pred\": 8.616329199087042}, {\"true\": 5.233333333333333, \"pred\": 9.892435902547737}, {\"true\": 20.433333333333334, \"pred\": 15.585025213705284}, {\"true\": 17.616666666666667, \"pred\": 9.84748038374594}, {\"true\": 11.266666666666667, \"pred\": 9.063592446660573}, {\"true\": 33.516666666666666, \"pred\": 16.845587478445655}, {\"true\": 8.733333333333333, \"pred\": 9.153598937658394}, {\"true\": 6.75, \"pred\": 7.991986380982283}, {\"true\": 14.666666666666666, \"pred\": 15.106459114411658}, {\"true\": 7.916666666666667, \"pred\": 7.525236576540744}, {\"true\": 5.05, \"pred\": 8.750237736029405}, {\"true\": 4.833333333333333, \"pred\": 6.452854198724298}, {\"true\": 2.85, \"pred\": 4.305564437954735}, {\"true\": 7.1, \"pred\": 10.116688663596753}, {\"true\": 13.0, \"pred\": 13.913968662664011}, {\"true\": 10.316666666666666, \"pred\": 8.676912652579809}, {\"true\": 15.15, \"pred\": 11.975274466488294}, {\"true\": 10.4, \"pred\": 10.601644925254966}, {\"true\": 15.566666666666666, \"pred\": 11.774105423443661}, {\"true\": 10.133333333333333, \"pred\": 9.02660601854286}, {\"true\": 7.033333333333333, \"pred\": 7.457545340842888}, {\"true\": 16.55, \"pred\": 16.87277019269764}, {\"true\": 4.633333333333334, \"pred\": 9.708707539415727}, {\"true\": 10.083333333333334, \"pred\": 8.958691290121607}, {\"true\": 8.183333333333334, \"pred\": 8.564128692481505}, {\"true\": 6.316666666666666, \"pred\": 10.033784763421993}, {\"true\": 13.85, \"pred\": 10.951004051284974}, {\"true\": 7.683333333333334, \"pred\": 7.3787104790958775}, {\"true\": 8.55, \"pred\": 7.599108574376261}, {\"true\": 17.05, \"pred\": 18.946642607920488}, {\"true\": 3.8833333333333333, \"pred\": 5.471514111677126}, {\"true\": 16.083333333333332, \"pred\": 15.780032761120502}, {\"true\": 15.983333333333333, \"pred\": 12.722151473227203}, {\"true\": 7.233333333333333, \"pred\": 9.760992730882142}, {\"true\": 14.566666666666666, \"pred\": 12.28494055932267}, {\"true\": 9.183333333333334, \"pred\": 8.598738874896938}, {\"true\": 7.783333333333333, \"pred\": 6.894877069707709}, {\"true\": 8.266666666666667, \"pred\": 8.415279974812965}, {\"true\": 8.25, \"pred\": 7.987096914141545}, {\"true\": 9.1, \"pred\": 9.162478427549877}, {\"true\": 8.866666666666667, \"pred\": 9.267974902675393}, {\"true\": 7.666666666666667, \"pred\": 7.176481239308317}, {\"true\": 8.7, \"pred\": 11.318404511737356}, {\"true\": 11.95, \"pred\": 7.462134468799175}, {\"true\": 7.716666666666667, \"pred\": 11.060884343239126}, {\"true\": 11.216666666666667, \"pred\": 11.896547255132786}, {\"true\": 11.7, \"pred\": 10.568627582783956}, {\"true\": 14.633333333333333, \"pred\": 12.721447981983527}, {\"true\": 13.816666666666666, \"pred\": 13.721643034588388}, {\"true\": 6.133333333333334, \"pred\": 8.278644165878369}, {\"true\": 10.733333333333333, \"pred\": 7.874246829446687}, {\"true\": 5.05, \"pred\": 8.399165796954833}, {\"true\": 8.366666666666667, \"pred\": 10.855196200685656}, {\"true\": 11.616666666666667, \"pred\": 8.969302156371898}, {\"true\": 21.316666666666666, \"pred\": 13.319001818081682}, {\"true\": 12.383333333333333, \"pred\": 8.897038707101869}, {\"true\": 4.866666666666666, \"pred\": 6.878869258323089}, {\"true\": 14.533333333333333, \"pred\": 14.349474148032623}, {\"true\": 4.766666666666667, \"pred\": 6.497567419772063}, {\"true\": 8.2, \"pred\": 7.362853276415326}, {\"true\": 10.616666666666667, \"pred\": 9.774233757346503}, {\"true\": 4.3, \"pred\": 6.168514294419219}, {\"true\": 8.05, \"pred\": 7.372187856850848}, {\"true\": 10.383333333333333, \"pred\": 12.132847449763384}, {\"true\": 17.366666666666667, \"pred\": 16.4497711256909}, {\"true\": 15.55, \"pred\": 16.16678167783559}, {\"true\": 3.033333333333333, \"pred\": 2.602432648855557}, {\"true\": 6.083333333333333, \"pred\": 6.803966627157962}, {\"true\": 9.916666666666666, \"pred\": 10.593867110989757}, {\"true\": 9.683333333333334, \"pred\": 11.194950205757342}, {\"true\": 17.516666666666666, \"pred\": 16.301288710164204}, {\"true\": 13.933333333333334, \"pred\": 16.565639208923933}, {\"true\": 19.166666666666668, \"pred\": 16.401077431446552}, {\"true\": 8.766666666666667, \"pred\": 8.227006657463626}, {\"true\": 3.683333333333333, \"pred\": 3.5983865542352396}, {\"true\": 11.833333333333334, \"pred\": 10.793021011623207}, {\"true\": 7.716666666666667, \"pred\": 10.363138644189869}, {\"true\": 10.433333333333334, \"pred\": 11.183844236727317}, {\"true\": 15.3, \"pred\": 11.748052918804149}, {\"true\": 8.066666666666666, \"pred\": 9.390164294037868}, {\"true\": 10.033333333333333, \"pred\": 11.17309426884939}, {\"true\": 15.783333333333333, \"pred\": 16.256707396144158}, {\"true\": 6.816666666666666, \"pred\": 12.16434397515635}, {\"true\": 8.883333333333333, \"pred\": 7.045477168619326}, {\"true\": 11.75, \"pred\": 12.627134741994228}, {\"true\": 7.75, \"pred\": 13.234655795951742}, {\"true\": 9.9, \"pred\": 11.638768161694879}, {\"true\": 16.4, \"pred\": 17.139832635861158}, {\"true\": 8.083333333333334, \"pred\": 8.753075543302964}, {\"true\": 16.716666666666665, \"pred\": 10.491934955054694}, {\"true\": 7.483333333333333, \"pred\": 8.457431847096615}, {\"true\": 10.033333333333333, \"pred\": 10.632631446865064}, {\"true\": 8.233333333333333, \"pred\": 10.290695829560297}, {\"true\": 11.833333333333334, \"pred\": 9.952117066730995}, {\"true\": 4.883333333333334, \"pred\": 7.9993112070534655}, {\"true\": 4.116666666666666, \"pred\": 4.7628858301719115}, {\"true\": 4.683333333333334, \"pred\": 5.818469193336285}, {\"true\": 4.283333333333333, \"pred\": 5.110665308156756}, {\"true\": 25.633333333333333, \"pred\": 12.805135079163758}, {\"true\": 7.75, \"pred\": 7.290511177813318}, {\"true\": 6.666666666666667, \"pred\": 6.542665717767972}, {\"true\": 12.266666666666667, \"pred\": 8.688037667770255}, {\"true\": 10.316666666666666, \"pred\": 7.918068640981387}, {\"true\": 9.766666666666667, \"pred\": 12.526307680834908}, {\"true\": 7.3, \"pred\": 7.506255999017605}, {\"true\": 11.85, \"pred\": 9.993568183125975}, {\"true\": 8.55, \"pred\": 8.972350543976907}, {\"true\": 8.116666666666667, \"pred\": 10.253945630889858}, {\"true\": 41.166666666666664, \"pred\": 26.86972333695716}, {\"true\": 8.833333333333334, \"pred\": 9.575280358720805}, {\"true\": 11.016666666666667, \"pred\": 17.388342263639725}, {\"true\": 11.95, \"pred\": 10.332538198974234}, {\"true\": 15.05, \"pred\": 12.90176104581454}, {\"true\": 3.6666666666666665, \"pred\": 2.9982602587953084}, {\"true\": 16.55, \"pred\": 16.87277019269764}, {\"true\": 11.016666666666667, \"pred\": 12.72494311257007}, {\"true\": 7.25, \"pred\": 8.295782638472447}, {\"true\": 17.133333333333333, \"pred\": 10.34099316326948}, {\"true\": 21.916666666666668, \"pred\": 19.58759522334056}, {\"true\": 10.666666666666666, \"pred\": 10.671366336149706}, {\"true\": 4.683333333333334, \"pred\": 6.364912761804857}, {\"true\": 3.8666666666666667, \"pred\": 3.294616768879269}, {\"true\": 9.45, \"pred\": 8.577186619854464}, {\"true\": 9.35, \"pred\": 11.692011991785021}, {\"true\": 8.05, \"pred\": 8.507016794207965}, {\"true\": 6.6, \"pred\": 12.350250698221538}, {\"true\": 8.483333333333333, \"pred\": 8.40006162087063}, {\"true\": 10.533333333333333, \"pred\": 12.877747185521443}, {\"true\": 13.316666666666666, \"pred\": 10.009226825826778}, {\"true\": 14.5, \"pred\": 16.6640335931135}, {\"true\": 5.166666666666667, \"pred\": 6.822758462000105}, {\"true\": 12.016666666666667, \"pred\": 14.935405914365228}, {\"true\": 14.216666666666667, \"pred\": 15.917500346829513}, {\"true\": 16.283333333333335, \"pred\": 16.93732095104424}, {\"true\": 5.15, \"pred\": 7.867442160471106}, {\"true\": 6.583333333333333, \"pred\": 6.435318548672209}, {\"true\": 25.55, \"pred\": 17.75007041087568}, {\"true\": 9.9, \"pred\": 8.379278932033834}, {\"true\": 8.45, \"pred\": 9.293330142948347}, {\"true\": 8.55, \"pred\": 4.817285679403919}, {\"true\": 3.45, \"pred\": 4.232827543942984}, {\"true\": 9.033333333333333, \"pred\": 10.428647085318739}, {\"true\": 20.816666666666666, \"pred\": 14.940675184131969}, {\"true\": 10.05, \"pred\": 9.35915995189165}, {\"true\": 19.683333333333334, \"pred\": 18.083857611938097}, {\"true\": 8.633333333333333, \"pred\": 9.63855600287798}, {\"true\": 16.016666666666666, \"pred\": 11.199960621174679}, {\"true\": 9.9, \"pred\": 9.909696237984962}, {\"true\": 2.2666666666666666, \"pred\": 3.056144850324158}, {\"true\": 7.75, \"pred\": 8.464340431694016}, {\"true\": 3.6666666666666665, \"pred\": 4.870001275713094}, {\"true\": 5.833333333333333, \"pred\": 5.060389983473317}, {\"true\": 7.133333333333334, \"pred\": 8.328322175906786}, {\"true\": 21.416666666666668, \"pred\": 18.447070212223853}, {\"true\": 15.45, \"pred\": 15.17243269337779}, {\"true\": 11.166666666666666, \"pred\": 9.326891569800264}, {\"true\": 9.716666666666667, \"pred\": 13.531759587334363}, {\"true\": 11.15, \"pred\": 15.651306149009518}, {\"true\": 3.816666666666667, \"pred\": 7.357134734566068}, {\"true\": 8.3, \"pred\": 9.853940188332864}, {\"true\": 10.35, \"pred\": 11.816372316880653}, {\"true\": 2.6166666666666667, \"pred\": 3.2572767482646365}, {\"true\": 3.3666666666666667, \"pred\": 3.405448664203205}, {\"true\": 7.95, \"pred\": 8.173587518326281}, {\"true\": 3.716666666666667, \"pred\": 3.694515597356526}, {\"true\": 6.233333333333333, \"pred\": 10.558647781989063}, {\"true\": 14.266666666666667, \"pred\": 11.544602564460535}, {\"true\": 14.75, \"pred\": 12.350647833566697}, {\"true\": 14.0, \"pred\": 11.595788251100755}, {\"true\": 4.583333333333333, \"pred\": 8.51634848872986}, {\"true\": 7.733333333333333, \"pred\": 10.023665395682459}, {\"true\": 13.866666666666667, \"pred\": 8.023620152777509}, {\"true\": 10.133333333333333, \"pred\": 12.917425913937189}, {\"true\": 5.316666666666666, \"pred\": 9.219776595145953}, {\"true\": 8.3, \"pred\": 9.27533305481308}, {\"true\": 5.683333333333334, \"pred\": 5.793171782940334}, {\"true\": 4.616666666666666, \"pred\": 4.037470681647978}, {\"true\": 4.95, \"pred\": 7.177005771457359}, {\"true\": 11.633333333333333, \"pred\": 12.573483070740938}, {\"true\": 8.966666666666667, \"pred\": 8.757675836152627}, {\"true\": 6.566666666666666, \"pred\": 8.231182957865526}, {\"true\": 16.983333333333334, \"pred\": 19.040742337902316}, {\"true\": 2.6666666666666665, \"pred\": 3.682299915670747}, {\"true\": 11.85, \"pred\": 12.48705174859111}, {\"true\": 7.65, \"pred\": 8.900010038151567}, {\"true\": 6.616666666666666, \"pred\": 10.326682233362607}, {\"true\": 11.7, \"pred\": 13.026597069850988}, {\"true\": 10.55, \"pred\": 9.005331382761259}, {\"true\": 10.8, \"pred\": 14.071032821256065}, {\"true\": 22.183333333333334, \"pred\": 19.11327460495205}, {\"true\": 6.716666666666667, \"pred\": 11.49634933227725}, {\"true\": 7.233333333333333, \"pred\": 10.276817686092146}, {\"true\": 9.583333333333334, \"pred\": 11.80966056546413}, {\"true\": 3.566666666666667, \"pred\": 4.5712498028053625}, {\"true\": 10.666666666666666, \"pred\": 11.684957333076088}, {\"true\": 8.433333333333334, \"pred\": 9.180453536298588}, {\"true\": 8.45, \"pred\": 7.811779493879775}, {\"true\": 12.616666666666667, \"pred\": 13.894784210881237}, {\"true\": 12.55, \"pred\": 13.910812833308666}, {\"true\": 6.25, \"pred\": 7.169135074999443}, {\"true\": 10.716666666666667, \"pred\": 6.775161433445296}, {\"true\": 4.566666666666666, \"pred\": 9.270392526193461}, {\"true\": 8.05, \"pred\": 7.596546106068757}, {\"true\": 15.233333333333333, \"pred\": 15.524753357885569}, {\"true\": 6.25, \"pred\": 8.045828007279196}, {\"true\": 15.8, \"pred\": 13.631424839788217}, {\"true\": 12.716666666666667, \"pred\": 14.909071459704055}, {\"true\": 12.833333333333334, \"pred\": 14.373747586028712}, {\"true\": 10.75, \"pred\": 10.527223624278768}, {\"true\": 7.95, \"pred\": 9.272855584422457}, {\"true\": 5.6, \"pred\": 7.006736986182129}, {\"true\": 4.616666666666666, \"pred\": 5.810045611649558}, {\"true\": 11.716666666666667, \"pred\": 15.97676707943472}, {\"true\": 7.816666666666666, \"pred\": 9.904918851223883}], \"data-32de56843fa3f113496d15045ef6b3ab\": [{\"x\": 0.0, \"y\": 0.0}, {\"x\": 2.7777777777777777, \"y\": 2.7777777777777777}, {\"x\": 5.555555555555555, \"y\": 5.555555555555555}, {\"x\": 8.333333333333332, \"y\": 8.333333333333332}, {\"x\": 11.11111111111111, \"y\": 11.11111111111111}, {\"x\": 13.88888888888889, \"y\": 13.88888888888889}, {\"x\": 16.666666666666664, \"y\": 16.666666666666664}, {\"x\": 19.444444444444443, \"y\": 19.444444444444443}, {\"x\": 22.22222222222222, \"y\": 22.22222222222222}, {\"x\": 25.0, \"y\": 25.0}]}}, {\"mode\": \"vega-lite\"});\n",
       "</script>"
      ],
      "text/plain": [
       "alt.LayerChart(...)"
      ]
     },
     "metadata": {},
     "output_type": "display_data"
    },
    {
     "name": "stdout",
     "output_type": "stream",
     "text": [
      "mae=2.0790853003954863\n",
      " mse=10.13965094030675\n",
      " acc1min=34.68926553672316\n",
      " acc3min=76.8361581920904\n",
      " acc5min=94.4632768361582\n",
      "And R2 =  0.6807468794536717\n"
     ]
    }
   ],
   "source": [
    "flight_df = dep_arr_df.query(\"config=='NORTH0' & end_pb==end_pb & mvt_type=='DEP'\")\n",
    "\n",
    "rwy_cols = [\"rwy__10\", \"rwy__14\", \"rwy__16\", \"rwy__28\", \"rwy__32\", \"rwy__34\"]\n",
    "\n",
    "taxi_path_related = [\"taxi_dist\", \"angle_sum\"]  # To add if relevant\n",
    "\n",
    "to_scale_cols = (\n",
    "    [\n",
    "        \"hh_num\",\n",
    "        #  \"avg_outbound_delay_lastXmin\",\n",
    "        \"nominal\",\n",
    "        \"busy\",\n",
    "        \"disrupted\",\n",
    "        \"not_nom_arrival_ratio\",\n",
    "        \"press\",\n",
    "        \"temp\",\n",
    "        \"atmap_visibility\",\n",
    "        \"atmap_wind\",\n",
    "        \"atmap_precipitation\",\n",
    "        \"atmap_freezing\",\n",
    "        \"atmap_danger\",\n",
    "        \"nb_arr\",\n",
    "        \"nb_dep\",\n",
    "        \"nb\",\n",
    "        # \"H\",\n",
    "        #  \"L\",\n",
    "        # \"L/M\",\n",
    "        # \"M\",\n",
    "        \"H_count\",\n",
    "        \"L_count\",\n",
    "        \"L/M_count\",\n",
    "        \"M_count\",\n",
    "    ]\n",
    "    + twy_cols\n",
    "    # + sifi_cols\n",
    ")\n",
    "feature_columns = to_scale_cols + rwy_cols + taxi_path_related  #\n",
    "\n",
    "target_column = \"real_dur_minutes\"  # \"total_holding_time_minutes\"  #''    avg_outbound_delay_lastXmin  taxi_holding_time_minutes\n",
    "\n",
    "flight_df = onehot_runways(flight_df)\n",
    "data_df = flight_df[feature_columns + [target_column]].dropna()\n",
    "\n",
    "\n",
    "input_df = data_df[feature_columns]\n",
    "target_df = data_df[[target_column]]\n",
    "\n",
    "\n",
    "from sklearn.preprocessing import StandardScaler\n",
    "\n",
    "data_train, data_test, labels_train, labels_test = train_test_split(\n",
    "    input_df,\n",
    "    target_df,\n",
    "    test_size=0.20,\n",
    "    random_state=42,\n",
    ")\n",
    "\n",
    "\"\"\"\n",
    "sc = StandardScaler()\n",
    "data_train = sc.fit_transform(data_train)\n",
    "data_test = sc.transform(data_test)\"\"\"\n",
    "\"\"\"\n",
    "model_rf = RandomForestRegressor(n_estimators=150, min_samples_split=10)\"\"\"\n",
    "\n",
    "clf = RandomForestRegressor(n_estimators=150, min_samples_split=10)\n",
    "\n",
    "\n",
    "sc = StandardScaler()\n",
    "data_train = sc.fit_transform(data_train)\n",
    "data_test = sc.transform(data_test)\n",
    "\n",
    "# fit the model on the whole dataset\n",
    "clf.fit(data_train, labels_train)\n",
    "# make a single prediction\n",
    "predicted = clf.predict(data_test)\n",
    "\n",
    "# plot pred vs truth\n",
    "data_chart = pd.DataFrame(\n",
    "    {\"true\": labels_test.values.reshape((-1,)), \"pred\": predicted}\n",
    ")\n",
    "predVStrue_chart = alt.Chart(data_chart).mark_circle(opacity=0.5).encode(\n",
    "    x=\"true\", y=\"pred\"\n",
    ") + alt.Chart(\n",
    "    pd.DataFrame({\"x\": np.linspace(0, 25, 10), \"y\": np.linspace(0, 25, 10)})\n",
    ").mark_line(\n",
    "    color=\"black\"\n",
    ").encode(\n",
    "    x=\"x\", y=\"y\"\n",
    ")\n",
    "display(predVStrue_chart)\n",
    "\n",
    "from sklearn.metrics import mean_squared_error, mean_absolute_error, r2_score\n",
    "\n",
    "mae = mean_absolute_error(labels_test.values.reshape((-1,)), predicted)\n",
    "mse = mean_squared_error(labels_test.values.reshape((-1,)), predicted)\n",
    "acc1min = within_Xmin(labels_test.values.reshape((-1,)), predicted)\n",
    "acc3min = within_Xmin(labels_test.values.reshape((-1,)), predicted, m=3)\n",
    "acc5min = within_Xmin(labels_test.values.reshape((-1,)), predicted, m=5)\n",
    "print(\n",
    "    f\"mae={mae}\\n mse={mse}\\n acc1min={acc1min}\\n acc3min={acc3min}\\n acc5min={acc5min}\"\n",
    ")\n",
    "print(\"And R2 = \", r2_score(labels_test.values.reshape((-1,)), predicted))"
   ]
  },
  {
   "cell_type": "code",
   "execution_count": 243,
   "id": "2beb072d-b35d-4378-b380-ede2816dae33",
   "metadata": {
    "execution": {
     "iopub.execute_input": "2021-07-01T07:34:08.528953Z",
     "iopub.status.busy": "2021-07-01T07:34:08.528680Z",
     "iopub.status.idle": "2021-07-01T07:34:08.533274Z",
     "shell.execute_reply": "2021-07-01T07:34:08.532714Z",
     "shell.execute_reply.started": "2021-07-01T07:34:08.528932Z"
    },
    "tags": []
   },
   "outputs": [
    {
     "data": {
      "text/plain": [
       "'hh_num nominal busy disrupted not_nom_arrival_ratio press temp atmap_visibility atmap_wind atmap_precipitation atmap_freezing atmap_danger nb_arr nb_dep nb H_count L_count L/M_count M_count H_occ K_occ B_occ F_occ L_occ J_occ E_occ D_occ C_occ N_occ A_occ M_occ Y_occ R_occ G_occ Z_occ P_occ rwy__10 rwy__14 rwy__16 rwy__28 rwy__32 rwy__34 taxi_dist angle_sum'"
      ]
     },
     "execution_count": 243,
     "metadata": {},
     "output_type": "execute_result"
    }
   ],
   "source": [
    "\" \".join(feature_columns)"
   ]
  },
  {
   "cell_type": "code",
   "execution_count": 244,
   "id": "a9f15a83-bd1a-4123-9930-d48b68345bbf",
   "metadata": {
    "execution": {
     "iopub.execute_input": "2021-07-01T07:34:08.534198Z",
     "iopub.status.busy": "2021-07-01T07:34:08.534048Z",
     "iopub.status.idle": "2021-07-01T07:34:08.883771Z",
     "shell.execute_reply": "2021-07-01T07:34:08.882999Z",
     "shell.execute_reply.started": "2021-07-01T07:34:08.534182Z"
    },
    "tags": []
   },
   "outputs": [
    {
     "data": {
      "image/png": "[encoded data removed]",
      "text/plain": [
       "<Figure size 468x468 with 1 Axes>"
      ]
     },
     "metadata": {
      "needs_background": "light"
     },
     "output_type": "display_data"
    },
    {
     "data": {
      "text/plain": [
       "<Figure size 360x360 with 0 Axes>"
      ]
     },
     "metadata": {},
     "output_type": "display_data"
    }
   ],
   "source": [
    "col = feature_columns\n",
    "# modelname.feature_importance_\n",
    "y = clf.feature_importances_\n",
    "# plot\n",
    "fig, ax = plt.subplots()\n",
    "width = 0.4  # the width of the bars\n",
    "ind = np.arange(len(y))  # the x locations for the groups\n",
    "ax.barh(ind, y, width, color=\"green\")\n",
    "ax.set_yticks(ind + width / 10)\n",
    "ax.set_yticklabels(col, minor=False)\n",
    "plt.title(\"Feature importance in RandomForest Classifier\")\n",
    "plt.xlabel(\"Relative importance\")\n",
    "plt.ylabel(\"feature\")\n",
    "plt.figure(figsize=(5, 5))\n",
    "fig.set_size_inches(6.5, 6.5, forward=True)"
   ]
  },
  {
   "cell_type": "code",
   "execution_count": null,
   "id": "728ed464-8f85-4cd0-b8a3-76b09bce12ae",
   "metadata": {},
   "outputs": [],
   "source": [
    "fdf_dep_path='../res/flight_df_v18_2019-10-01 03:58:59+00:00_2019-11-30 22:14:59+00:00_DEP.pkl'\n",
    "fdf_arr_path='../res/flight_df_v21_arr_2019-10-01 04:03:04+00:00_2019-11-30 21:50:22+00:00_DEP.pkl'\n",
    "metar_df_path='../data/metar_df2019-10-01 00:00:00_2019-12-01 00:00:00.pkl'\n",
    "atmap_df_path='../data/lszh_metar_atmap.csv'\n",
    "asma_stats_path='../data/zurich_asma_stats3.pkl'\n"
   ]
  },
  {
   "cell_type": "code",
   "execution_count": null,
   "id": "50fc4409-407d-4131-b00b-52c8d97abfa3",
   "metadata": {},
   "outputs": [],
   "source": [
    "Using only dep, in NORTH0 config\n",
    "\n",
    "features:\n",
    "    hh_num avg_outbound_delay_lastXmin nominal busy disrupted press temp atmap_visibility atmap_wind atmap_precipitation atmap_freezing atmap_danger nb_arr nb_dep nb H L L/M M H_count L_count L/M_count M_count rwy__10 rwy__14 rwy__16 rwy__28 rwy__32 rwy__34\n",
    "\n",
    "\n",
    "mae=2.7409766986702375\n",
    "mse=12.508338887787346\n",
    "acc1min=19.508057675996607\n",
    "acc3min=64.29177268871925\n",
    "acc5min=87.06530958439356\n",
    "And R2 =  0.2818711628409082\n",
    "\n",
    "\n",
    "Adding condition that flight to predict has a pb:\n",
    "mae=2.967925987970022\n",
    "mse=14.568926062334967\n",
    "acc1min=20.51282051282051\n",
    "acc3min=58.04195804195804\n",
    "acc5min=83.68298368298368\n",
    "And R2 =  0.23752325634538884\n",
    "\n",
    "\n",
    "Adding taxi_distance and angle_turn :\n",
    "mae=2.0505762933662672\n",
    "mse=7.32556042247403\n",
    "acc1min=34.26573426573427\n",
    "acc3min=76.34032634032634\n",
    "acc5min=92.77389277389277\n",
    "And R2 =  0.6051400815381655\n",
    "\n",
    "\n",
    "SAME FEATURES (detailed) but target = taxi_holding instead of total_holding\n",
    "\n",
    "mae=1.9773824938758282\n",
    "mse=7.1832039458098045\n",
    "acc1min=34.4988344988345\n",
    "acc3min=80.41958041958041\n",
    "acc5min=94.17249417249417\n",
    "And R2 =  0.4582989952400949\n",
    "\n",
    "NOT DETAILED and 'hh_num nominal busy disrupted press temp atmap_visibility atmap_wind atmap_precipitation atmap_freezing atmap_danger nb_arr nb_dep nb H L L/M M H_count L_count L/M_count M_count rwy__10 rwy__14 rwy__16 rwy__28 rwy__32 rwy__34'\n",
    "TRYING TO   avgdelaylastXmin\n",
    "mae=1.1715029516824287\n",
    "mse=3.1536762110189285\n",
    "acc1min=54.54545454545454\n",
    "acc3min=93.35664335664336\n",
    "acc5min=98.83449883449883\n",
    "And R2 =  0.4190943336137156\n"
   ]
  },
  {
   "cell_type": "markdown",
   "id": "2b39d60b-4375-4c11-87a3-6710c6410d51",
   "metadata": {},
   "source": [
    "# Can we just predict with linear regression between delay and nb_dep ?"
   ]
  },
  {
   "cell_type": "code",
   "execution_count": null,
   "id": "89f328c7-2d32-478f-bbdd-c33ead6638a0",
   "metadata": {},
   "outputs": [],
   "source": []
  },
  {
   "cell_type": "markdown",
   "id": "cd227f69-fcc5-4116-8dc8-b5f170f129c5",
   "metadata": {},
   "source": [
    "# Predict avg delay last Xmin (30mins ahead)"
   ]
  },
  {
   "cell_type": "code",
   "execution_count": 44,
   "id": "4c331859-eee4-4665-a98c-b8031381d68b",
   "metadata": {
    "execution": {
     "iopub.execute_input": "2021-06-28T11:08:16.936669Z",
     "iopub.status.busy": "2021-06-28T11:08:16.936128Z",
     "iopub.status.idle": "2021-06-28T11:08:16.967932Z",
     "shell.execute_reply": "2021-06-28T11:08:16.967177Z",
     "shell.execute_reply.started": "2021-06-28T11:08:16.936618Z"
    },
    "tags": []
   },
   "outputs": [
    {
     "name": "stderr",
     "output_type": "stream",
     "text": [
      "/home/service/miniconda3/envs/py39v7/lib/python3.8/site-packages/ipykernel/ipkernel.py:283: DeprecationWarning: `should_run_async` will not call `transform_cell` automatically in the future. Please pass the result to `transformed_cell` argument and any exception that happen during thetransform in `preprocessing_exc_tuple` in IPython 7.17 and above.\n",
      "  and should_run_async(code)\n"
     ]
    }
   ],
   "source": [
    "dep_fulltraj_df = dep_arr_df.query(\" mvt_type=='DEP'\")"
   ]
  },
  {
   "cell_type": "code",
   "execution_count": 45,
   "id": "009baa7c-c614-4835-b981-95f4ee122a97",
   "metadata": {
    "execution": {
     "iopub.execute_input": "2021-06-28T11:08:17.119227Z",
     "iopub.status.busy": "2021-06-28T11:08:17.118756Z",
     "iopub.status.idle": "2021-06-28T11:08:17.261657Z",
     "shell.execute_reply": "2021-06-28T11:08:17.260514Z",
     "shell.execute_reply.started": "2021-06-28T11:08:17.119176Z"
    },
    "tags": []
   },
   "outputs": [],
   "source": [
    "turnaround_path = \"../data/intermediate/zurich_turnaround.pkl\"\n",
    "turnaround_df = pd.read_pickle(turnaround_path)\n",
    "\n",
    "# assign turnaround times\n",
    "dep_fulltraj_df_turnaround = (\n",
    "    dep_fulltraj_df.merge(\n",
    "        turnaround_df.query('turnaround<\"6h\"')\n",
    "        .assign(hh=lambda x: x.start.dt.floor(\"30T\"))\n",
    "        .drop(\n",
    "            [\"callsign_in\", \"ALDT\", \"AIBT\", \"AOBT\", \"start\", \"firstseen_min\"], axis=1\n",
    "        ),\n",
    "        how=\"left\",\n",
    "        left_on=[\"callsign\", \"icao24\", \"hh\"],\n",
    "        right_on=[\"callsign_out\", \"icao24\", \"hh\"],\n",
    "    )\n",
    "    .assign(turnaround_minutes=lambda x: x.turnaround.dt.total_seconds() / 60)\n",
    "    .drop(\"callsign_out\", axis=1)\n",
    ")\n",
    "\n",
    "dep_fulltraj_df_turnaround[\"turnaround_minutes\"] = dep_fulltraj_df_turnaround[\n",
    "    \"turnaround_minutes\"\n",
    "].fillna(0)"
   ]
  },
  {
   "cell_type": "code",
   "execution_count": 104,
   "id": "da5fdf7e-b6a7-4b8d-9ec3-70ec74d03e59",
   "metadata": {
    "execution": {
     "iopub.execute_input": "2021-06-28T12:24:13.952904Z",
     "iopub.status.busy": "2021-06-28T12:24:13.952369Z",
     "iopub.status.idle": "2021-06-28T12:24:14.063528Z",
     "shell.execute_reply": "2021-06-28T12:24:14.062565Z",
     "shell.execute_reply.started": "2021-06-28T12:24:13.952850Z"
    },
    "tags": []
   },
   "outputs": [
    {
     "name": "stderr",
     "output_type": "stream",
     "text": [
      "/home/service/miniconda3/envs/py39v7/lib/python3.8/site-packages/ipykernel/ipkernel.py:283: DeprecationWarning: `should_run_async` will not call `transform_cell` automatically in the future. Please pass the result to `transformed_cell` argument and any exception that happen during thetransform in `preprocessing_exc_tuple` in IPython 7.17 and above.\n",
      "  and should_run_async(code)\n"
     ]
    }
   ],
   "source": [
    "dt_pred = pd.Timedelta(\"30T\")\n",
    "\n",
    "# we have to push 30mins away our target variable to predict the avg delay of next half hour\n",
    "target_df = (\n",
    "    dep_fulltraj_df_turnaround.sort_values(\"first_movement_start\")[\n",
    "        [\"first_movement_start\", \"avg_outbound_delay_lastXmin\"]\n",
    "    ]\n",
    "    .assign(first_movement_start=lambda x: x.first_movement_start - dt_pred)\n",
    "    .rename(columns={\"avg_outbound_delay_lastXmin\": \"nextAvgDelay\"})\n",
    ")\n",
    "\n",
    "predict_next_avg_delay_df = pd.merge_asof(\n",
    "    dep_fulltraj_df_turnaround.sort_values(\"first_movement_start\"),\n",
    "    target_df,\n",
    "    on=\"first_movement_start\",\n",
    ")"
   ]
  },
  {
   "cell_type": "code",
   "execution_count": 110,
   "id": "816aa5a7-b97e-4f5a-aef5-d7f77a98e751",
   "metadata": {
    "execution": {
     "iopub.execute_input": "2021-06-28T12:25:40.274332Z",
     "iopub.status.busy": "2021-06-28T12:25:40.274034Z",
     "iopub.status.idle": "2021-06-28T12:25:40.292796Z",
     "shell.execute_reply": "2021-06-28T12:25:40.292122Z",
     "shell.execute_reply.started": "2021-06-28T12:25:40.274307Z"
    },
    "tags": []
   },
   "outputs": [
    {
     "name": "stderr",
     "output_type": "stream",
     "text": [
      "/home/service/miniconda3/envs/py39v7/lib/python3.8/site-packages/ipykernel/ipkernel.py:283: DeprecationWarning: `should_run_async` will not call `transform_cell` automatically in the future. Please pass the result to `transformed_cell` argument and any exception that happen during thetransform in `preprocessing_exc_tuple` in IPython 7.17 and above.\n",
      "  and should_run_async(code)\n"
     ]
    }
   ],
   "source": [
    "def assign_wtc_ratios(flight_df):\n",
    "    \"\"\"\n",
    "    Suppose that the dataframe given has WTC counts (H_count, M_count...) and Airport congestion columns (nb...)\n",
    "    Be careful to keep the same time window for these precalculations\n",
    "    \"\"\"\n",
    "    wtc_cols = [\"H_count\", \"L_count\", \"L/M_count\", \"M_count\"]\n",
    "    for wtc in wtc_cols:\n",
    "        flight_df[f\"{wtc}_ratio\"] = flight_df[wtc] / flight_df[\"nb\"]\n",
    "        flight_df.loc[flight_df[f\"{wtc}_ratio\"] > 1, f\"{wtc}_ratio\"] = 1\n",
    "        flight_df.loc[flight_df[f\"{wtc}_ratio\"] < 0, f\"{wtc}_ratio\"] = 0\n",
    "    return flight_df\n",
    "\n",
    "\n",
    "predict_next_avg_delay_df = assign_wtc_ratios(predict_next_avg_delay_df)"
   ]
  },
  {
   "cell_type": "code",
   "execution_count": 92,
   "id": "01944555-1fb0-4f1d-92a3-b9a107f1875e",
   "metadata": {
    "execution": {
     "iopub.execute_input": "2021-06-28T11:56:11.561623Z",
     "iopub.status.busy": "2021-06-28T11:56:11.561059Z",
     "iopub.status.idle": "2021-06-28T11:56:11.570060Z",
     "shell.execute_reply": "2021-06-28T11:56:11.568926Z",
     "shell.execute_reply.started": "2021-06-28T11:56:11.561570Z"
    },
    "tags": []
   },
   "outputs": [
    {
     "name": "stderr",
     "output_type": "stream",
     "text": [
      "/home/service/miniconda3/envs/py39v7/lib/python3.8/site-packages/ipykernel/ipkernel.py:283: DeprecationWarning: `should_run_async` will not call `transform_cell` automatically in the future. Please pass the result to `transformed_cell` argument and any exception that happen during thetransform in `preprocessing_exc_tuple` in IPython 7.17 and above.\n",
      "  and should_run_async(code)\n"
     ]
    }
   ],
   "source": [
    "tdf = _"
   ]
  },
  {
   "cell_type": "code",
   "execution_count": 93,
   "id": "470d984e-dc21-45f5-9730-6603d5cbe8b9",
   "metadata": {
    "execution": {
     "iopub.execute_input": "2021-06-28T11:56:12.583424Z",
     "iopub.status.busy": "2021-06-28T11:56:12.583125Z",
     "iopub.status.idle": "2021-06-28T11:56:12.712923Z",
     "shell.execute_reply": "2021-06-28T11:56:12.712092Z",
     "shell.execute_reply.started": "2021-06-28T11:56:12.583399Z"
    },
    "tags": []
   },
   "outputs": [
    {
     "data": {
      "text/plain": [
       "<AxesSubplot:>"
      ]
     },
     "execution_count": 93,
     "metadata": {},
     "output_type": "execute_result"
    },
    {
     "data": {
      "image/png": "[encoded data removed]",
      "text/plain": [
       "<Figure size 432x288 with 1 Axes>"
      ]
     },
     "metadata": {
      "needs_background": "light"
     },
     "output_type": "display_data"
    }
   ],
   "source": [
    "tdf.query(\n",
    "    \"hh.dt.day == 5 & hh.dt.month==10 & H_count_ratio==H_count_ratio\"\n",
    ").H_count_ratio.plot()"
   ]
  },
  {
   "cell_type": "code",
   "execution_count": 246,
   "id": "4ddeeb68-8d38-441a-935b-1600240bc9c0",
   "metadata": {
    "execution": {
     "iopub.execute_input": "2021-07-02T12:31:38.999428Z",
     "iopub.status.busy": "2021-07-02T12:31:38.999166Z",
     "iopub.status.idle": "2021-07-02T12:31:44.460776Z",
     "shell.execute_reply": "2021-07-02T12:31:44.460118Z",
     "shell.execute_reply.started": "2021-07-02T12:31:38.999404Z"
    },
    "tags": []
   },
   "outputs": [
    {
     "name": "stderr",
     "output_type": "stream",
     "text": [
      "/home/service/miniconda3/envs/py39v7/lib/python3.8/site-packages/ipykernel/ipkernel.py:283: DeprecationWarning: `should_run_async` will not call `transform_cell` automatically in the future. Please pass the result to `transformed_cell` argument and any exception that happen during thetransform in `preprocessing_exc_tuple` in IPython 7.17 and above.\n",
      "  and should_run_async(code)\n",
      "/home/service/miniconda3/envs/py39v7/lib/python3.8/site-packages/sklearn/ensemble/_base.py:183: DeprecationWarning: `np.int` is a deprecated alias for the builtin `int`. To silence this warning, use `int` by itself. Doing this will not modify any behavior and is safe. When replacing `np.int`, you may wish to use e.g. `np.int64` or `np.int32` to specify the precision. If you wish to review your current use, check the release note link for additional information.\n",
      "Deprecated in NumPy 1.20; for more details and guidance: https://numpy.org/devdocs/release/1.20.0-notes.html#deprecations\n",
      "  dtype=np.int)\n"
     ]
    },
    {
     "data": {
      "text/html": [
       "\n",
       "<div id=\"altair-viz-edba9a8112aa4b05be398c34833c61d1\"></div>\n",
       "<script type=\"text/javascript\">\n",
       "  (function(spec, embedOpt){\n",
       "    let outputDiv = document.currentScript.previousElementSibling;\n",
       "    if (outputDiv.id !== \"altair-viz-edba9a8112aa4b05be398c34833c61d1\") {\n",
       "      outputDiv = document.getElementById(\"altair-viz-edba9a8112aa4b05be398c34833c61d1\");\n",
       "    }\n",
       "    const paths = {\n",
       "      \"vega\": \"https://cdn.jsdelivr.net/npm//vega@5?noext\",\n",
       "      \"vega-lib\": \"https://cdn.jsdelivr.net/npm//vega-lib?noext\",\n",
       "      \"vega-lite\": \"https://cdn.jsdelivr.net/npm//vega-lite@4.8.1?noext\",\n",
       "      \"vega-embed\": \"https://cdn.jsdelivr.net/npm//vega-embed@6?noext\",\n",
       "    };\n",
       "\n",
       "    function loadScript(lib) {\n",
       "      return new Promise(function(resolve, reject) {\n",
       "        var s = document.createElement('script');\n",
       "        s.src = paths[lib];\n",
       "        s.async = true;\n",
       "        s.onload = () => resolve(paths[lib]);\n",
       "        s.onerror = () => reject(`Error loading script: ${paths[lib]}`);\n",
       "        document.getElementsByTagName(\"head\")[0].appendChild(s);\n",
       "      });\n",
       "    }\n",
       "\n",
       "    function showError(err) {\n",
       "      outputDiv.innerHTML = `<div class=\"error\" style=\"color:red;\">${err}</div>`;\n",
       "      throw err;\n",
       "    }\n",
       "\n",
       "    function displayChart(vegaEmbed) {\n",
       "      vegaEmbed(outputDiv, spec, embedOpt)\n",
       "        .catch(err => showError(`Javascript Error: ${err.message}<br>This usually means there's a typo in your chart specification. See the javascript console for the full traceback.`));\n",
       "    }\n",
       "\n",
       "    if(typeof define === \"function\" && define.amd) {\n",
       "      requirejs.config({paths});\n",
       "      require([\"vega-embed\"], displayChart, err => showError(`Error loading script: ${err.message}`));\n",
       "    } else if (typeof vegaEmbed === \"function\") {\n",
       "      displayChart(vegaEmbed);\n",
       "    } else {\n",
       "      loadScript(\"vega\")\n",
       "        .then(() => loadScript(\"vega-lite\"))\n",
       "        .then(() => loadScript(\"vega-embed\"))\n",
       "        .catch(showError)\n",
       "        .then(() => displayChart(vegaEmbed));\n",
       "    }\n",
       "  })({\"config\": {\"view\": {\"continuousWidth\": 400, \"continuousHeight\": 300}}, \"layer\": [{\"data\": {\"name\": \"data-e0c2ec2f5bf115c968988410f1fe3081\"}, \"mark\": {\"type\": \"circle\", \"opacity\": 0.5}, \"encoding\": {\"x\": {\"type\": \"quantitative\", \"field\": \"true\"}, \"y\": {\"type\": \"quantitative\", \"field\": \"pred\"}}}, {\"data\": {\"name\": \"data-e53f43667b4e74c9774fcfd475bf1d46\"}, \"mark\": {\"type\": \"line\", \"color\": \"black\"}, \"encoding\": {\"x\": {\"type\": \"quantitative\", \"field\": \"x\"}, \"y\": {\"type\": \"quantitative\", \"field\": \"y\"}}}], \"$schema\": \"https://vega.github.io/schema/vega-lite/v4.8.1.json\", \"datasets\": {\"data-e0c2ec2f5bf115c968988410f1fe3081\": [{\"true\": 3.3458333333333354, \"pred\": 5.3693866679609075}, {\"true\": 6.686904761904762, \"pred\": 5.92819354781917}, {\"true\": 2.8200000000000003, \"pred\": 3.704086799428735}, {\"true\": 5.578571428571428, \"pred\": 4.987223443021555}, {\"true\": 4.08809523809524, \"pred\": 3.55312499829272}, {\"true\": 3.0305555555555617, \"pred\": 3.244874080022383}, {\"true\": 7.255128205128205, \"pred\": 6.879687611042246}, {\"true\": 6.260416666666669, \"pred\": 5.674359583930843}, {\"true\": 7.361538461538464, \"pred\": 6.891891321603566}, {\"true\": 6.361904761904763, \"pred\": 4.108332561383854}, {\"true\": 1.9722222222222232, \"pred\": 5.129158466025736}, {\"true\": 0.7407407407407427, \"pred\": 2.3948107742640876}, {\"true\": 4.495238095238096, \"pred\": 6.865812532000598}, {\"true\": 5.240476190476191, \"pred\": 6.082565681040114}, {\"true\": 3.3743589743589757, \"pred\": 5.382931030354122}, {\"true\": 5.873809523809525, \"pred\": 5.9012250033321925}, {\"true\": 4.415555555555556, \"pred\": 4.830006035736307}, {\"true\": 5.697619047619049, \"pred\": 5.573101448151194}, {\"true\": 6.0125, \"pred\": 5.45768573135143}, {\"true\": 3.4111111111111123, \"pred\": 4.213562112752439}, {\"true\": 5.070000000000002, \"pred\": 5.034465939396448}, {\"true\": 2.79888888888889, \"pred\": 3.266870512550612}, {\"true\": 1.0500000000000071, \"pred\": 4.270279985367411}, {\"true\": 4.025000000000009, \"pred\": 5.94407329752155}, {\"true\": 7.45476190476191, \"pred\": 6.601110230691142}, {\"true\": 5.748484848484849, \"pred\": 5.941439883428159}, {\"true\": 6.287500000000001, \"pred\": 5.638110897672942}, {\"true\": 1.6541666666666708, \"pred\": 3.1643350887847963}, {\"true\": 2.966666666666668, \"pred\": 3.4194834032299566}, {\"true\": 0.42500000000000177, \"pred\": 2.6131791294069946}, {\"true\": 1.1904761904761902, \"pred\": 2.963740962980646}, {\"true\": 1.4527777777777837, \"pred\": 2.39300789928855}, {\"true\": 4.781666666666668, \"pred\": 4.512153551729633}, {\"true\": 7.225641025641026, \"pred\": 7.179995226108561}, {\"true\": 3.6533333333333338, \"pred\": 4.658344936560234}, {\"true\": 6.742592592592595, \"pred\": 5.89617227317165}, {\"true\": 3.6000000000000005, \"pred\": 4.609636694517346}, {\"true\": 3.5404761904761917, \"pred\": 3.1277288817716684}, {\"true\": 2.3000000000000007, \"pred\": 3.8217469992414643}, {\"true\": 2.35625, \"pred\": 3.1440000321519204}, {\"true\": 5.258333333333334, \"pred\": 4.888528004253195}, {\"true\": 4.068750000000003, \"pred\": 5.6165532736153745}, {\"true\": 6.0878787878787906, \"pred\": 4.910401880791961}, {\"true\": 4.9095238095238125, \"pred\": 4.730419560913217}, {\"true\": 5.625757575757579, \"pred\": 5.62350070188602}, {\"true\": 1.300000000000007, \"pred\": 2.0217646728275374}, {\"true\": 7.21666666666667, \"pred\": 6.702673685019498}, {\"true\": 4.231944444444445, \"pred\": 4.3996417186779215}, {\"true\": 3.7333333333333347, \"pred\": 3.557156717900074}, {\"true\": 6.907291666666668, \"pred\": 5.850008400608286}, {\"true\": 4.960714285714286, \"pred\": 3.90993674325188}, {\"true\": 5.512962962962963, \"pred\": 5.003611334498927}, {\"true\": 6.371666666666668, \"pred\": 5.442468215739023}, {\"true\": 4.445833333333334, \"pred\": 5.03007545766698}, {\"true\": 5.351111111111112, \"pred\": 4.7464083484961925}, {\"true\": 3.7462962962962982, \"pred\": 4.167064690922495}, {\"true\": 8.191666666666668, \"pred\": 6.9820071560030055}, {\"true\": 6.8738095238095225, \"pred\": 6.27580815252472}, {\"true\": 2.3236111111111115, \"pred\": 4.31277665772443}, {\"true\": 12.097619047619046, \"pred\": 8.180563812966383}, {\"true\": 4.6972222222222255, \"pred\": 4.0322312705778}, {\"true\": 7.009259259259263, \"pred\": 6.60618753913028}, {\"true\": 1.9722222222222232, \"pred\": 5.770588463885307}, {\"true\": 4.784523809523812, \"pred\": 4.660250231022905}, {\"true\": 4.041666666666668, \"pred\": 3.3531016942315306}, {\"true\": 6.010256410256413, \"pred\": 6.0160260047452265}, {\"true\": 4.869696969696974, \"pred\": 4.5480357345271205}, {\"true\": 10.553846153846157, \"pred\": 8.588357248430771}, {\"true\": 6.729166666666668, \"pred\": 6.302440250912739}, {\"true\": 7.370370370370371, \"pred\": 5.183935724286882}, {\"true\": 5.6343137254901965, \"pred\": 5.3746997018558575}, {\"true\": 5.796428571428572, \"pred\": 5.477042507518142}, {\"true\": 5.8363636363636395, \"pred\": 4.741296351910048}, {\"true\": 3.745833333333342, \"pred\": 3.843755003848921}, {\"true\": 3.601666666666668, \"pred\": 3.7776359044900336}, {\"true\": 3.674358974358977, \"pred\": 4.1957341229533665}, {\"true\": 4.584722222222223, \"pred\": 6.175523108139065}, {\"true\": 4.072222222222223, \"pred\": 3.6815820247713495}, {\"true\": 1.3619047619047624, \"pred\": 3.848943546292396}, {\"true\": 0.7333333333333333, \"pred\": 4.10494455411178}, {\"true\": 6.238888888888889, \"pred\": 4.74757954276795}, {\"true\": 4.095833333333333, \"pred\": 3.9652322680485317}, {\"true\": 0.4333333333333369, \"pred\": 1.460959358922827}, {\"true\": 4.411666666666669, \"pred\": 4.825923986188249}, {\"true\": 2.5047619047619096, \"pred\": 4.292796908225874}, {\"true\": 6.7562500000000005, \"pred\": 6.017491028903348}, {\"true\": 1.9458333333333429, \"pred\": 2.3451097605931426}, {\"true\": 5.716666666666667, \"pred\": 6.531266229483186}, {\"true\": 7.379166666666671, \"pred\": 4.632002211506176}, {\"true\": 5.41025641025641, \"pred\": 5.710698869656748}, {\"true\": 1.8666666666666667, \"pred\": 3.5761052176938013}, {\"true\": 3.6060606060606077, \"pred\": 2.683907717734928}, {\"true\": 5.93974358974359, \"pred\": 5.693560683041309}, {\"true\": 5.2041666666666675, \"pred\": 5.915084887911794}, {\"true\": 3.852777777777781, \"pred\": 3.349004783861764}, {\"true\": 7.484848484848485, \"pred\": 6.445732405686169}, {\"true\": 3.092592592592594, \"pred\": 4.312238892477314}, {\"true\": 5.966666666666671, \"pred\": 7.62135602628536}, {\"true\": 3.9833333333333365, \"pred\": 4.221158225183861}, {\"true\": 5.738888888888888, \"pred\": 4.791383128916899}, {\"true\": 3.843939393939395, \"pred\": 5.735927238829936}, {\"true\": 2.923333333333335, \"pred\": 3.5346687154788916}, {\"true\": 3.0777777777777824, \"pred\": 2.164956579575261}, {\"true\": 6.090909090909093, \"pred\": 4.196232519295788}, {\"true\": 5.668750000000001, \"pred\": 5.343090586466015}, {\"true\": 3.1947916666666676, \"pred\": 2.549058726191412}, {\"true\": 3.7351851851851885, \"pred\": 3.7884835776746173}, {\"true\": 3.4680555555555586, \"pred\": 3.4079919753941144}, {\"true\": 4.412500000000001, \"pred\": 3.2336445186482288}, {\"true\": 5.246666666666667, \"pred\": 3.9630778738398247}, {\"true\": 4.429166666666667, \"pred\": 4.703533451329595}, {\"true\": 6.726190476190476, \"pred\": 4.262538117511786}, {\"true\": 7.770833333333338, \"pred\": 5.954650644660837}, {\"true\": 4.892307692307693, \"pred\": 6.274895766839222}, {\"true\": 5.690909090909092, \"pred\": 5.550051723111997}, {\"true\": 7.45476190476191, \"pred\": 7.548547626486199}, {\"true\": 4.00777777777778, \"pred\": 4.805027969813859}, {\"true\": 7.119696969696972, \"pred\": 7.365388408868932}, {\"true\": 4.184722222222222, \"pred\": 4.278800644491426}, {\"true\": 6.641666666666668, \"pred\": 4.9123588260656454}, {\"true\": 1.2666666666666706, \"pred\": 3.244753686493204}, {\"true\": 3.166666666666668, \"pred\": 3.7638682242331303}, {\"true\": 9.17916666666667, \"pred\": 5.285419963793223}, {\"true\": 7.768333333333336, \"pred\": 7.185131091841249}, {\"true\": 4.2857142857142865, \"pred\": 3.973032943156529}, {\"true\": 1.3142857142857163, \"pred\": 2.0026058883029387}, {\"true\": 3.820833333333335, \"pred\": 3.9096012539580354}, {\"true\": 3.290476190476192, \"pred\": 2.987160580218164}, {\"true\": 1.1000000000000059, \"pred\": 1.7114444392698112}, {\"true\": 6.48541666666667, \"pred\": 5.393918157683942}, {\"true\": 1.3375000000000026, \"pred\": 2.5219689263493885}, {\"true\": 3.4944444444444454, \"pred\": 3.875118902043228}, {\"true\": 3.9916666666666756, \"pred\": 3.5902133478644656}, {\"true\": 2.6500000000000026, \"pred\": 3.572991748703952}, {\"true\": 3.316666666666666, \"pred\": 4.32276206093311}, {\"true\": 5.697619047619049, \"pred\": 5.597619300336606}, {\"true\": 2.9129629629629643, \"pred\": 3.8615522939628066}, {\"true\": 7.0699999999999985, \"pred\": 5.060083694842593}, {\"true\": 4.974358974358976, \"pred\": 5.41541022958719}, {\"true\": 7.938095238095242, \"pred\": 7.684569273900091}, {\"true\": 5.888888888888889, \"pred\": 5.887369038188892}, {\"true\": 5.382142857142857, \"pred\": 4.17237672236276}, {\"true\": 6.113725490196079, \"pred\": 5.724223498486587}, {\"true\": 5.144444444444446, \"pred\": 5.170207112050323}, {\"true\": 4.411111111111111, \"pred\": 4.411290409220963}, {\"true\": 3.141666666666666, \"pred\": 3.2032789655109744}, {\"true\": 1.4166666666666694, \"pred\": 3.583389400797019}, {\"true\": 7.566666666666667, \"pred\": 6.01873378743717}, {\"true\": 5.4638888888888895, \"pred\": 4.621423127976573}, {\"true\": 6.0249999999999995, \"pred\": 5.802576903478558}, {\"true\": 6.7472222222222245, \"pred\": 3.957398076402655}, {\"true\": 2.390000000000002, \"pred\": 3.6338170560773064}, {\"true\": 5.878787878787881, \"pred\": 6.655575142084437}, {\"true\": 5.044444444444446, \"pred\": 5.001927384658448}, {\"true\": 5.054166666666668, \"pred\": 4.909797223244675}, {\"true\": 5.90392156862745, \"pred\": 5.6280509746153005}, {\"true\": 2.4296296296296327, \"pred\": 4.302768479611567}, {\"true\": 5.096875000000001, \"pred\": 5.145983133883136}, {\"true\": 4.451666666666666, \"pred\": 5.342492570331691}, {\"true\": 3.4711111111111137, \"pred\": 4.537450084182207}, {\"true\": 7.137179487179489, \"pred\": 6.530420455378432}, {\"true\": 3.8681818181818186, \"pred\": 4.0628051488114325}, {\"true\": 3.705555555555559, \"pred\": 2.7256991001643387}, {\"true\": 5.014102564102564, \"pred\": 5.409331608555435}, {\"true\": 9.255128205128205, \"pred\": 6.900196543644393}, {\"true\": 3.3866666666666694, \"pred\": 3.7287725440122395}, {\"true\": 3.173611111111112, \"pred\": 3.9302995080105485}, {\"true\": 2.7300000000000013, \"pred\": 3.9370481057015856}, {\"true\": 4.037878787878789, \"pred\": 4.81471638959837}, {\"true\": 6.448958333333332, \"pred\": 5.754390758817312}, {\"true\": 4.423809523809523, \"pred\": 4.822101329747379}, {\"true\": 5.696666666666667, \"pred\": 5.4732832230782185}, {\"true\": 3.706666666666668, \"pred\": 3.947645266015098}, {\"true\": 10.023333333333333, \"pred\": 4.3135602710029115}, {\"true\": 5.921212121212122, \"pred\": 5.545817657212371}, {\"true\": 7.074444444444444, \"pred\": 6.618306562715046}, {\"true\": 3.6611111111111114, \"pred\": 3.710287746161899}, {\"true\": 3.3312500000000025, \"pred\": 3.738619066343405}, {\"true\": 3.38939393939394, \"pred\": 4.009553553273787}, {\"true\": 5.670833333333333, \"pred\": 5.769814041482486}, {\"true\": 4.548484848484851, \"pred\": 6.893744611905534}, {\"true\": 1.5128205128205134, \"pred\": 3.2289653670971012}, {\"true\": 4.650000000000001, \"pred\": 4.214888560770663}, {\"true\": 3.3499999999999988, \"pred\": 3.3437188691353414}, {\"true\": 2.7300000000000013, \"pred\": 4.9007272466040925}, {\"true\": 1.8166666666666684, \"pred\": 3.6345578747034337}, {\"true\": 5.565384615384616, \"pred\": 5.412787075350737}, {\"true\": 5.676666666666668, \"pred\": 5.14064056429188}, {\"true\": 4.702083333333333, \"pred\": 5.570286626227205}, {\"true\": 3.9273809523809535, \"pred\": 5.051783603236296}, {\"true\": 4.420512820512822, \"pred\": 5.2825358523397}, {\"true\": 4.852564102564103, \"pred\": 4.4706641897267305}, {\"true\": 3.2500000000000013, \"pred\": 4.199397073935413}, {\"true\": 2.9153846153846152, \"pred\": 4.176389851822633}, {\"true\": 5.643333333333337, \"pred\": 5.3617080664913885}, {\"true\": 5.615384615384615, \"pred\": 5.519325868708512}, {\"true\": 4.727777777777783, \"pred\": 3.4678616349032607}, {\"true\": 8.761904761904765, \"pred\": 8.401410825264556}, {\"true\": 4.784722222222222, \"pred\": 4.921129195745782}, {\"true\": 3.437878787878788, \"pred\": 4.623085798444603}, {\"true\": 3.8142857142857145, \"pred\": 4.113025288764147}, {\"true\": 7.964102564102564, \"pred\": 5.669846067532382}, {\"true\": 4.292857142857144, \"pred\": 4.84414980688969}, {\"true\": 4.485714285714291, \"pred\": 4.039152355973429}, {\"true\": 3.2064102564102566, \"pred\": 4.093866582874551}, {\"true\": 10.254545454545456, \"pred\": 7.046858353089527}, {\"true\": 6.662500000000001, \"pred\": 6.676773351772784}, {\"true\": 5.102564102564103, \"pred\": 5.772156866103553}, {\"true\": 5.484523809523812, \"pred\": 5.291073784645651}, {\"true\": 14.591666666666669, \"pred\": 10.371863961009133}, {\"true\": 4.697777777777778, \"pred\": 4.532599993317101}, {\"true\": 3.6050000000000004, \"pred\": 4.319840744990836}, {\"true\": 1.4958333333333356, \"pred\": 2.7293613389344564}, {\"true\": 5.635714285714291, \"pred\": 4.303864295346775}, {\"true\": 3.360416666666671, \"pred\": 4.131870099013274}, {\"true\": 2.768750000000002, \"pred\": 3.6903258588132735}, {\"true\": 4.436363636363638, \"pred\": 3.9563551973662068}, {\"true\": 3.8437500000000036, \"pred\": 3.4141703077842944}, {\"true\": 2.881250000000004, \"pred\": 3.1713885005849445}, {\"true\": 5.1761904761904765, \"pred\": 6.066115499223715}, {\"true\": 4.992307692307692, \"pred\": 4.02229394409056}, {\"true\": 3.246875, \"pred\": 3.774410422377542}, {\"true\": 5.678571428571429, \"pred\": 6.277010433354949}, {\"true\": 4.227083333333335, \"pred\": 4.874553878742539}, {\"true\": 3.1348484848484848, \"pred\": 4.135685214425541}, {\"true\": 6.6416666666666675, \"pred\": 6.1484820287523165}, {\"true\": 3.412962962962965, \"pred\": 4.2061429081864805}, {\"true\": 4.716666666666667, \"pred\": 6.127829809471136}, {\"true\": 7.577777777777779, \"pred\": 6.574504214483848}, {\"true\": 5.19166666666667, \"pred\": 4.488729298156448}, {\"true\": 3.8833333333333346, \"pred\": 4.192068031287376}, {\"true\": 2.785000000000001, \"pred\": 3.047375714602937}, {\"true\": 4.506250000000001, \"pred\": 4.150891089980472}, {\"true\": 1.850000000000008, \"pred\": 4.087816581466286}, {\"true\": 2.1444444444444475, \"pred\": 2.6653351390230973}, {\"true\": 5.93974358974359, \"pred\": 5.605000196619072}, {\"true\": 4.837777777777778, \"pred\": 4.982863092844961}, {\"true\": 6.097058823529412, \"pred\": 5.966928689316296}, {\"true\": 2.789583333333335, \"pred\": 4.988660186412899}, {\"true\": 3.911538461538462, \"pred\": 3.50195984736456}, {\"true\": 5.816666666666669, \"pred\": 5.661341061698905}, {\"true\": 3.5015151515151546, \"pred\": 2.391882673452677}, {\"true\": 6.233333333333335, \"pred\": 6.530049560564657}, {\"true\": 2.533333333333335, \"pred\": 3.2094462906743773}, {\"true\": 1.4761904761904814, \"pred\": 2.9332485490554685}, {\"true\": 6.161904761904762, \"pred\": 5.757612441033806}, {\"true\": 7.814444444444446, \"pred\": 6.733396633182922}, {\"true\": 4.890476190476191, \"pred\": 5.132756054221108}, {\"true\": 5.257142857142858, \"pred\": 4.899044834591407}, {\"true\": 4.437878787878788, \"pred\": 4.5630681669155875}, {\"true\": 4.876666666666665, \"pred\": 3.007214380466517}, {\"true\": 3.0687500000000014, \"pred\": 3.00461569106083}, {\"true\": 2.245833333333338, \"pred\": 3.446040770724658}, {\"true\": 4.915625000000002, \"pred\": 5.6407015915961125}, {\"true\": 6.712500000000005, \"pred\": 7.178157125139987}, {\"true\": 4.537878787878788, \"pred\": 5.272241677056958}, {\"true\": 2.8648148148148147, \"pred\": 3.6366047145730014}, {\"true\": 7.953571428571429, \"pred\": 7.193191529553456}, {\"true\": 5.058333333333334, \"pred\": 4.027986115011864}, {\"true\": 3.424074074074076, \"pred\": 3.83199827231153}, {\"true\": 6.328571428571428, \"pred\": 4.407600574063226}, {\"true\": 3.5015151515151546, \"pred\": 2.9345096395018384}, {\"true\": 2.658333333333342, \"pred\": 3.8909257557530768}, {\"true\": 6.138888888888888, \"pred\": 6.3440989629649405}, {\"true\": 7.25, \"pred\": 5.360171918637468}, {\"true\": 2.8133333333333335, \"pred\": 3.7044225263680284}, {\"true\": 8.429166666666669, \"pred\": 7.169076264242902}, {\"true\": 3.487500000000001, \"pred\": 3.580906655987623}, {\"true\": 2.5527777777777785, \"pred\": 3.9995206255580524}, {\"true\": 4.587179487179489, \"pred\": 4.059426448839473}, {\"true\": 6.797222222222223, \"pred\": 6.57887490365834}, {\"true\": 3.4761904761904785, \"pred\": 4.591944128393797}, {\"true\": 3.0148148148148146, \"pred\": 3.629976874858987}, {\"true\": 4.661904761904763, \"pred\": 5.6567045438083}, {\"true\": 2.505555555555558, \"pred\": 3.9163122227167406}, {\"true\": 1.9888888888889007, \"pred\": 2.988537453319162}, {\"true\": 4.238888888888891, \"pred\": 4.014308339955991}, {\"true\": 4.548484848484851, \"pred\": 6.740912765894486}, {\"true\": 4.500000000000001, \"pred\": 5.780883316867722}, {\"true\": 3.0027777777777804, \"pred\": 3.928073793540357}, {\"true\": 5.555555555555556, \"pred\": 4.8516111415535015}, {\"true\": 5.809375000000003, \"pred\": 5.81377014353883}, {\"true\": 2.295833333333335, \"pred\": 2.934849450341524}, {\"true\": 5.926388888888891, \"pred\": 7.365060658372719}, {\"true\": 3.2722222222222235, \"pred\": 3.610234062516172}, {\"true\": 2.377777777777779, \"pred\": 3.5103365341049386}, {\"true\": 2.964814814814817, \"pred\": 3.7383773649823935}, {\"true\": 3.519444444444447, \"pred\": 3.7959140304101826}, {\"true\": 6.729166666666668, \"pred\": 4.685411203950558}, {\"true\": 7.987719298245615, \"pred\": 6.8611655770409605}, {\"true\": 7.694444444444445, \"pred\": 6.15439286625909}, {\"true\": 4.222916666666672, \"pred\": 4.4331807094446996}, {\"true\": 5.658823529411765, \"pred\": 5.497578780190624}, {\"true\": 2.3858974358974363, \"pred\": 4.059293598126183}, {\"true\": 1.584848484848488, \"pred\": 2.0705432680877722}, {\"true\": 5.658333333333333, \"pred\": 6.734200148582438}, {\"true\": 6.450000000000003, \"pred\": 5.3212273365525276}, {\"true\": 6.412962962962964, \"pred\": 6.367943981409131}, {\"true\": 6.081944444444446, \"pred\": 6.12056950565831}, {\"true\": 7.344444444444445, \"pred\": 6.958599687052601}, {\"true\": 5.329761904761905, \"pred\": 5.576748317673709}, {\"true\": 8.132051282051282, \"pred\": 7.0746381172955735}, {\"true\": 1.776190476190481, \"pred\": 3.1155286229698387}, {\"true\": 5.320512820512822, \"pred\": 5.080745617354666}, {\"true\": 9.72888888888889, \"pred\": 9.47217872496112}, {\"true\": 3.2523809523809524, \"pred\": 4.725113002829622}, {\"true\": 2.813636363636365, \"pred\": 4.169838036652707}, {\"true\": 3.951851851851853, \"pred\": 4.814344124709057}, {\"true\": 7.2375, \"pred\": 6.261404871708907}, {\"true\": 9.700000000000017, \"pred\": 4.941736550314684}, {\"true\": 2.9428571428571453, \"pred\": 3.2947557823139806}, {\"true\": 4.942592592592593, \"pred\": 6.490700199328408}, {\"true\": 5.311904761904766, \"pred\": 3.541932429949163}, {\"true\": 6.139583333333338, \"pred\": 4.172945737584409}, {\"true\": 5.327777777777779, \"pred\": 4.4285577446251185}, {\"true\": 3.0972222222222214, \"pred\": 3.2859264340169365}, {\"true\": 2.3333333333333335, \"pred\": 2.257182070217637}, {\"true\": 10.575641025641026, \"pred\": 6.502022074936628}, {\"true\": 6.6000000000000005, \"pred\": 5.626749254650127}, {\"true\": 4.23703703703704, \"pred\": 4.931246731461376}, {\"true\": 7.201851851851853, \"pred\": 5.695522897752674}, {\"true\": 4.74848484848485, \"pred\": 5.2189930071643476}, {\"true\": 4.351282051282052, \"pred\": 4.500988578015417}, {\"true\": 2.6944444444444557, \"pred\": 2.1753230486988433}, {\"true\": 6.860416666666671, \"pred\": 6.796185428614619}, {\"true\": 5.251041666666668, \"pred\": 5.085995861722585}, {\"true\": 4.680952380952384, \"pred\": 3.257817563387843}, {\"true\": 7.45476190476191, \"pred\": 7.1997095130674795}, {\"true\": 7.003030303030303, \"pred\": 6.270932017215162}, {\"true\": 3.7499999999999987, \"pred\": 4.528496105942802}, {\"true\": 10.237500000000002, \"pred\": 6.055510807310956}, {\"true\": 3.288888888888893, \"pred\": 4.420500285142703}, {\"true\": 4.989285714285716, \"pred\": 4.851920916479131}, {\"true\": 4.188095238095244, \"pred\": 3.4874248291419}, {\"true\": 3.277083333333333, \"pred\": 3.719958026601387}, {\"true\": 4.588888888888891, \"pred\": 5.654839228567184}, {\"true\": 6.207575757575759, \"pred\": 5.449915879060083}, {\"true\": 5.891111111111112, \"pred\": 4.922086865113058}, {\"true\": 5.116666666666668, \"pred\": 4.424237042689474}, {\"true\": 2.638888888888891, \"pred\": 4.776551961707177}, {\"true\": 1.7687500000000012, \"pred\": 3.2042445908371255}, {\"true\": 7.732051282051283, \"pred\": 6.965024181332521}, {\"true\": 1.7791666666666686, \"pred\": 2.9827202310971184}, {\"true\": 2.261904761904765, \"pred\": 2.6559086858860113}, {\"true\": 4.647777777777779, \"pred\": 5.283417390027398}, {\"true\": 0.7472222222222246, \"pred\": 2.75389617108906}, {\"true\": 4.976923076923077, \"pred\": 5.183611379536283}, {\"true\": 1.4333333333333376, \"pred\": 2.2483780865222656}, {\"true\": 6.58, \"pred\": 6.122399303820661}, {\"true\": 3.741666666666667, \"pred\": 3.383733315131503}, {\"true\": 2.4651515151515184, \"pred\": 2.7069740345419433}, {\"true\": 1.8625000000000058, \"pred\": 2.277912949151555}, {\"true\": 4.996969696969699, \"pred\": 5.235231739163066}, {\"true\": 6.791111111111113, \"pred\": 4.953110831279419}, {\"true\": 3.4562500000000043, \"pred\": 2.438488322202585}, {\"true\": 3.1583333333333323, \"pred\": 3.930431758248902}, {\"true\": 8.398717948717948, \"pred\": 6.856577159838501}, {\"true\": 3.0833333333333353, \"pred\": 3.4313588174911525}, {\"true\": 2.8714285714285728, \"pred\": 3.5390454103498556}, {\"true\": 4.868888888888889, \"pred\": 4.951601310822626}, {\"true\": 2.641666666666667, \"pred\": 4.805289979237777}, {\"true\": 1.5777777777777797, \"pred\": 2.5026196882519733}, {\"true\": 6.639999999999999, \"pred\": 6.749779819703605}, {\"true\": 4.066666666666668, \"pred\": 5.103973737533352}, {\"true\": 4.990909090909091, \"pred\": 5.423073849321309}, {\"true\": 2.2722222222222226, \"pred\": 5.0156396963445555}, {\"true\": 3.640277777777778, \"pred\": 4.688369782512586}, {\"true\": 0.46111111111112296, \"pred\": 1.278953217756493}, {\"true\": 8.68095238095238, \"pred\": 5.72155074540311}, {\"true\": 7.071875000000002, \"pred\": 6.520822525167878}, {\"true\": 5.595370370370371, \"pred\": 5.798258023286719}, {\"true\": 6.822619047619049, \"pred\": 5.988714519551157}, {\"true\": 0.32222222222222696, \"pred\": 2.0963256567321116}, {\"true\": 2.787500000000002, \"pred\": 3.9696997533336376}, {\"true\": 3.02666666666667, \"pred\": 3.744024842505284}, {\"true\": 2.87666666666667, \"pred\": 2.687934062087042}, {\"true\": 2.8583333333333347, \"pred\": 3.386303200344761}, {\"true\": 2.8583333333333347, \"pred\": 3.5702700159987946}, {\"true\": 5.012500000000001, \"pred\": 4.28412796234305}, {\"true\": 3.5051282051282064, \"pred\": 3.04782232948627}, {\"true\": 6.116666666666666, \"pred\": 6.255849938504398}, {\"true\": 7.266666666666667, \"pred\": 5.839184984768336}, {\"true\": 6.445555555555558, \"pred\": 6.043443542017638}, {\"true\": 6.043750000000005, \"pred\": 6.2543794682781595}, {\"true\": 3.0729166666666665, \"pred\": 4.699749074803903}, {\"true\": 3.402777777777778, \"pred\": 3.675564660973192}, {\"true\": 0.6083333333333413, \"pred\": 1.2938356310262071}, {\"true\": 3.6311111111111125, \"pred\": 3.949239535194921}, {\"true\": 2.5944444444444468, \"pred\": 4.505874485738418}, {\"true\": 1.9916666666666756, \"pred\": 3.65929461135032}, {\"true\": 4.01, \"pred\": 4.769485504276505}, {\"true\": 6.686904761904764, \"pred\": 6.244255737016235}, {\"true\": 4.788888888888893, \"pred\": 4.669611637819002}, {\"true\": 7.740277777777778, \"pred\": 6.837947637790509}, {\"true\": 7.080303030303032, \"pred\": 4.245261750259805}, {\"true\": 5.177083333333335, \"pred\": 3.7272283170940432}, {\"true\": 1.180952380952382, \"pred\": 2.99528736819922}, {\"true\": 4.933333333333332, \"pred\": 5.06321793968253}, {\"true\": 8.831111111111111, \"pred\": 8.581022702062544}, {\"true\": 5.496296296296297, \"pred\": 4.639508044165441}, {\"true\": 3.608333333333351, \"pred\": 2.7865419634261803}, {\"true\": 3.952564102564103, \"pred\": 3.891677201309486}, {\"true\": 6.354166666666668, \"pred\": 6.285298389813743}, {\"true\": 7.45897435897436, \"pred\": 7.38094699475825}, {\"true\": 3.6742424242424248, \"pred\": 4.870361417348857}, {\"true\": 3.780000000000002, \"pred\": 4.228164711225062}, {\"true\": 5.336904761904761, \"pred\": 4.654452220270568}, {\"true\": 1.5166666666666713, \"pred\": 2.9417762817362307}, {\"true\": 5.170833333333333, \"pred\": 5.131895707702336}, {\"true\": 3.3904761904761918, \"pred\": 3.5757732107476916}, {\"true\": 5.968055555555558, \"pred\": 4.074774983073439}, {\"true\": 7.732051282051283, \"pred\": 6.6493956162643935}, {\"true\": 6.6805555555555545, \"pred\": 5.589010070868634}, {\"true\": 2.5152777777777793, \"pred\": 2.769834484582153}, {\"true\": 6.081250000000002, \"pred\": 5.555092807188943}, {\"true\": 3.0013888888888896, \"pred\": 5.1324311250750645}, {\"true\": 2.0782051282051297, \"pred\": 3.6624081163174016}, {\"true\": 3.47948717948718, \"pred\": 4.804519736816806}, {\"true\": 3.9916666666666685, \"pred\": 4.84934068183108}, {\"true\": 3.1574074074074074, \"pred\": 4.662740670315706}, {\"true\": 4.3820512820512825, \"pred\": 4.184838944909506}, {\"true\": 4.921794871794872, \"pred\": 3.2888872243735086}, {\"true\": 3.9512820512820506, \"pred\": 4.082150700187734}, {\"true\": 2.488095238095243, \"pred\": 2.5617649098952575}, {\"true\": 0.5333333333333421, \"pred\": 4.1475873982363725}, {\"true\": 3.8651515151515157, \"pred\": 4.469479414176763}, {\"true\": 4.803703703703706, \"pred\": 3.987446303281317}, {\"true\": 9.762500000000001, \"pred\": 6.8481450160729676}, {\"true\": 6.917857142857144, \"pred\": 6.992940735572403}, {\"true\": 2.1690476190476202, \"pred\": 3.208065597397299}, {\"true\": 2.100000000000004, \"pred\": 5.2292449645437}, {\"true\": 3.9750000000000005, \"pred\": 4.544273573124225}, {\"true\": 5.793939393939393, \"pred\": 5.712557616873107}, {\"true\": 3.9902777777777785, \"pred\": 4.5428022482189}, {\"true\": 2.8916666666666684, \"pred\": 5.5508179303403775}, {\"true\": 2.2583333333333333, \"pred\": 6.130669652504364}, {\"true\": 4.753030303030304, \"pred\": 3.827953248516229}, {\"true\": 9.339583333333335, \"pred\": 6.33916767317862}, {\"true\": 5.48846153846154, \"pred\": 5.7250562250532395}, {\"true\": 7.679487179487179, \"pred\": 6.5757483624914865}, {\"true\": 3.686111111111112, \"pred\": 3.643741192636915}, {\"true\": 12.353703703703708, \"pred\": 7.926224374381094}, {\"true\": 5.421875, \"pred\": 6.699068957826754}, {\"true\": 4.598611111111112, \"pred\": 6.171272565088705}, {\"true\": 4.575000000000005, \"pred\": 6.342461826140593}, {\"true\": 5.760000000000002, \"pred\": 5.411820388119775}, {\"true\": 5.15897435897436, \"pred\": 4.5819230635089}, {\"true\": 4.497916666666668, \"pred\": 4.5467372922143126}, {\"true\": 12.356250000000003, \"pred\": 8.181137026694815}, {\"true\": 5.147435897435899, \"pred\": 4.709503196757424}, {\"true\": 4.534444444444445, \"pred\": 4.538657665415891}, {\"true\": 5.041666666666671, \"pred\": 5.5368288569896515}, {\"true\": 5.969047619047622, \"pred\": 5.510440940325303}, {\"true\": 9.563888888888895, \"pred\": 7.012474980771967}, {\"true\": 3.2694444444444497, \"pred\": 4.490693685455952}, {\"true\": 3.1650000000000036, \"pred\": 3.5490831594517713}, {\"true\": 6.840000000000001, \"pred\": 5.844881278160629}, {\"true\": 4.953571428571431, \"pred\": 5.02133057438759}, {\"true\": 4.543333333333335, \"pred\": 4.470136845334742}, {\"true\": 6.319696969696972, \"pred\": 6.440038278329684}, {\"true\": 3.0761904761904773, \"pred\": 3.886986903939056}, {\"true\": 5.001515151515153, \"pred\": 5.61057127309652}, {\"true\": 2.427083333333335, \"pred\": 4.758040850994116}, {\"true\": 2.1277777777777778, \"pred\": 4.3636814373529225}, {\"true\": 8.01547619047619, \"pred\": 5.4051517161909945}, {\"true\": 7.878787878787881, \"pred\": 5.851218234745507}, {\"true\": 6.254545454545456, \"pred\": 7.742179895018132}, {\"true\": 4.7444444444444445, \"pred\": 4.4615484350347305}, {\"true\": 4.583333333333333, \"pred\": 4.764885833691612}, {\"true\": 1.7972222222222254, \"pred\": 2.4847663418987875}, {\"true\": 5.134615384615385, \"pred\": 5.413635941391269}, {\"true\": 8.925925925925926, \"pred\": 5.895215632798769}, {\"true\": 6.113333333333334, \"pred\": 5.428244320726629}, {\"true\": 2.5194444444444457, \"pred\": 3.4714313738389264}, {\"true\": 3.2083333333333353, \"pred\": 3.8630392415447576}, {\"true\": 7.379487179487179, \"pred\": 7.1825054775142085}, {\"true\": 5.526923076923078, \"pred\": 6.375973813066538}, {\"true\": 18.858333333333334, \"pred\": 4.092792034807777}, {\"true\": 8.848333333333334, \"pred\": 6.240986840532286}, {\"true\": 5.927083333333334, \"pred\": 5.7244199859027045}, {\"true\": 2.4642857142857144, \"pred\": 3.535049137442481}, {\"true\": 4.821111111111112, \"pred\": 4.761064858292415}, {\"true\": 6.113333333333334, \"pred\": 5.518606567179358}, {\"true\": 4.1375, \"pred\": 4.687775878686766}, {\"true\": 5.520833333333336, \"pred\": 5.059971509946221}, {\"true\": 5.541666666666667, \"pred\": 4.6437376967328605}, {\"true\": 4.154166666666667, \"pred\": 4.90839013551269}, {\"true\": 5.617857142857145, \"pred\": 5.484430857073}, {\"true\": 1.7833333333333654, \"pred\": 2.3053837523177503}, {\"true\": 7.754545454545457, \"pred\": 6.46572587312851}, {\"true\": 6.345833333333334, \"pred\": 5.468852987374898}, {\"true\": 6.1423076923076945, \"pred\": 6.122001029030934}, {\"true\": 4.957692307692307, \"pred\": 4.743101628459344}, {\"true\": 5.240000000000006, \"pred\": 3.7901135309963117}, {\"true\": 4.158333333333339, \"pred\": 3.956241185640565}, {\"true\": 0.4333333333333393, \"pred\": 1.509430152587204}, {\"true\": 2.8772727272727305, \"pred\": 2.651921802902461}, {\"true\": 2.9166666666666687, \"pred\": 4.584597959560801}, {\"true\": 4.226666666666668, \"pred\": 5.186802727686688}, {\"true\": 3.233333333333339, \"pred\": 2.5908350422370323}, {\"true\": 3.727380952380954, \"pred\": 4.780365166689429}, {\"true\": 3.573333333333337, \"pred\": 3.0909269820180523}, {\"true\": 3.487500000000001, \"pred\": 4.069247342034257}, {\"true\": 7.356410256410258, \"pred\": 5.3967717523573375}, {\"true\": 5.183333333333333, \"pred\": 4.328117548107354}, {\"true\": 5.563636363636366, \"pred\": 4.171197837986082}, {\"true\": 6.014285714285714, \"pred\": 5.7965545742182245}, {\"true\": 5.197222222222224, \"pred\": 4.792958662650305}, {\"true\": 3.225641025641027, \"pred\": 4.131208315753639}, {\"true\": 3.1305555555555586, \"pred\": 4.159062220702007}, {\"true\": 5.6343137254901965, \"pred\": 5.242314450650564}, {\"true\": 4.796875, \"pred\": 5.354986795333259}, {\"true\": 3.4393939393939403, \"pred\": 3.6756702682798488}, {\"true\": 4.933333333333332, \"pred\": 3.6376461758300813}, {\"true\": 3.230952380952382, \"pred\": 4.8624023872805155}, {\"true\": 3.237037037037037, \"pred\": 4.456488163913113}, {\"true\": 2.0893939393939402, \"pred\": 3.905547521492769}, {\"true\": 9.282051282051283, \"pred\": 6.912773949581209}, {\"true\": 4.548333333333335, \"pred\": 4.317031107306648}, {\"true\": 2.1129629629629667, \"pred\": 3.199203590913679}, {\"true\": 3.7976190476190466, \"pred\": 4.131580635264095}, {\"true\": 2.514285714285719, \"pred\": 2.2851975276893826}, {\"true\": 6.253846153846154, \"pred\": 4.201410520744423}, {\"true\": 4.40166666666667, \"pred\": 3.4722585421459695}, {\"true\": 5.0076923076923086, \"pred\": 4.893157416496416}, {\"true\": 4.764814814814814, \"pred\": 4.9835114804880245}, {\"true\": 3.6404761904761926, \"pred\": 3.199109824327889}, {\"true\": 7.079166666666667, \"pred\": 5.528996176913079}, {\"true\": 4.250000000000002, \"pred\": 3.9902035322996485}, {\"true\": 10.961538461538463, \"pred\": 9.502674019351241}, {\"true\": 7.177777777777778, \"pred\": 7.052421594242292}, {\"true\": 6.933333333333335, \"pred\": 4.9686681923244445}, {\"true\": 1.5222222222222246, \"pred\": 2.6453960195069457}, {\"true\": 5.383333333333335, \"pred\": 5.812430841613532}, {\"true\": 3.881818181818183, \"pred\": 3.4540956727112166}, {\"true\": 5.488333333333334, \"pred\": 5.01581187275406}, {\"true\": 4.413095238095239, \"pred\": 3.466873826122249}, {\"true\": 4.679166666666668, \"pred\": 4.496010220158785}, {\"true\": 2.9000000000000004, \"pred\": 3.5982467290454783}, {\"true\": 3.5212121212121215, \"pred\": 3.545552702408301}, {\"true\": 2.9694444444444454, \"pred\": 3.8819707812389}, {\"true\": 5.7093750000000005, \"pred\": 5.389275831234181}, {\"true\": 2.552777777777781, \"pred\": 3.8117851206369617}, {\"true\": 4.776666666666669, \"pred\": 4.733142201904111}, {\"true\": 4.746666666666666, \"pred\": 4.294255886845813}, {\"true\": 4.226190476190481, \"pred\": 3.588710997409893}, {\"true\": 2.9023809523809527, \"pred\": 3.92322994359409}, {\"true\": 3.8277777777777797, \"pred\": 3.858593378323475}, {\"true\": 5.395833333333334, \"pred\": 5.21204290683187}, {\"true\": 6.805555555555557, \"pred\": 5.828550273049641}, {\"true\": 5.846428571428573, \"pred\": 4.387673218261279}, {\"true\": 2.4916666666666676, \"pred\": 3.3573744866556905}, {\"true\": 1.9916666666666756, \"pred\": 2.754744926537032}, {\"true\": 6.361904761904763, \"pred\": 4.016285503121751}, {\"true\": 4.118333333333333, \"pred\": 5.196398161474892}, {\"true\": 2.000000000000005, \"pred\": 4.0030657536424465}, {\"true\": 8.146875, \"pred\": 7.599675422833883}, {\"true\": 5.1541666666666694, \"pred\": 6.078480132943214}, {\"true\": 8.01547619047619, \"pred\": 6.192790520633286}, {\"true\": 5.379166666666667, \"pred\": 5.25483378672759}, {\"true\": 6.60897435897436, \"pred\": 4.673930770646415}, {\"true\": 8.28703703703704, \"pred\": 6.229386072280527}, {\"true\": 3.3499999999999988, \"pred\": 3.7661630386983993}, {\"true\": 4.333333333333335, \"pred\": 5.743484973795506}, {\"true\": 8.388888888888891, \"pred\": 7.056309024727469}, {\"true\": 4.932051282051282, \"pred\": 5.750663816769659}, {\"true\": 5.7294871794871804, \"pred\": 6.348950147437198}, {\"true\": 2.281481481481485, \"pred\": 2.9007227304199894}, {\"true\": 4.270000000000001, \"pred\": 1.982958022699281}, {\"true\": 5.298611111111111, \"pred\": 4.791992386485283}, {\"true\": 2.9269230769230767, \"pred\": 3.474454959028044}, {\"true\": 2.537500000000009, \"pred\": 2.101570471480196}, {\"true\": 5.067777777777778, \"pred\": 5.153610138201789}, {\"true\": 6.125925925925928, \"pred\": 6.667257289181836}, {\"true\": 5.0966666666666685, \"pred\": 4.475058516880695}, {\"true\": 8.468333333333337, \"pred\": 6.826677900407703}, {\"true\": 2.50666666666667, \"pred\": 1.9885636271828688}, {\"true\": 4.063636363636366, \"pred\": 4.119605967199571}, {\"true\": 3.1000000000000028, \"pred\": 3.5180811365161504}, {\"true\": 11.851041666666667, \"pred\": 11.298981177352209}, {\"true\": 4.709722222222222, \"pred\": 6.27640080473174}, {\"true\": 7.4870370370370365, \"pred\": 6.563935469436209}, {\"true\": 5.289393939393941, \"pred\": 5.46204207001916}, {\"true\": 5.692222222222223, \"pred\": 5.118326683467116}, {\"true\": 3.389393939393943, \"pred\": 3.70761743854007}, {\"true\": 2.9388888888888887, \"pred\": 3.6554631932317494}, {\"true\": 3.679761904761906, \"pred\": 4.517648977138701}, {\"true\": 4.344444444444444, \"pred\": 4.505728398193415}, {\"true\": 6.935714285714288, \"pred\": 5.19283756818986}, {\"true\": 2.8944444444444497, \"pred\": 4.243037758849542}, {\"true\": 5.2955555555555565, \"pred\": 4.46241352546634}, {\"true\": 3.1277777777777795, \"pred\": 3.455721486292574}, {\"true\": 4.622916666666667, \"pred\": 4.759792347430561}, {\"true\": 4.33888888888889, \"pred\": 3.2052569521093126}, {\"true\": 4.0166666666666675, \"pred\": 5.153738176435958}, {\"true\": 6.262500000000001, \"pred\": 6.562991221354978}, {\"true\": 5.280555555555557, \"pred\": 5.891216390495178}, {\"true\": 5.233333333333334, \"pred\": 4.530510144757818}, {\"true\": 8.28703703703704, \"pred\": 6.097763843155375}, {\"true\": 6.243055555555556, \"pred\": 6.598048261002603}, {\"true\": 4.842708333333334, \"pred\": 4.545109183832072}, {\"true\": 6.6499999999999995, \"pred\": 6.1284206360534865}, {\"true\": 4.882222222222223, \"pred\": 5.103338583151113}, {\"true\": 3.966666666666668, \"pred\": 4.015286235478072}, {\"true\": 5.305555555555558, \"pred\": 4.489034397021377}, {\"true\": 5.686363636363636, \"pred\": 4.617098359744638}, {\"true\": 5.128571428571428, \"pred\": 4.185346922238117}, {\"true\": 4.827777777777778, \"pred\": 4.441874431058483}, {\"true\": 7.296666666666667, \"pred\": 6.947361686534864}, {\"true\": 2.5090909090909097, \"pred\": 3.6650837736759923}, {\"true\": 2.025925925925928, \"pred\": 2.0902976535902593}, {\"true\": 4.248484848484851, \"pred\": 4.335529624226559}, {\"true\": 2.156060606060609, \"pred\": 3.7755831392596404}, {\"true\": 3.2333333333333343, \"pred\": 3.9088899483136106}, {\"true\": 4.401282051282052, \"pred\": 4.6762595713029915}, {\"true\": 5.182352941176473, \"pred\": 6.242670433729394}, {\"true\": 3.5702380952380977, \"pred\": 4.169083946634556}, {\"true\": 4.392857142857143, \"pred\": 4.005300264178137}, {\"true\": 7.366666666666669, \"pred\": 6.390318115843349}, {\"true\": 6.239393939393943, \"pred\": 3.887754197359856}, {\"true\": 4.7059523809523816, \"pred\": 5.206962833598752}, {\"true\": 4.061111111111113, \"pred\": 5.9433486953118555}, {\"true\": 7.561904761904763, \"pred\": 5.595499466632719}, {\"true\": 5.8725, \"pred\": 6.108102692312066}, {\"true\": 7.21666666666667, \"pred\": 6.857955484879756}, {\"true\": 4.315555555555556, \"pred\": 5.054580182401794}, {\"true\": 7.837878787878788, \"pred\": 7.166720462431471}, {\"true\": 5.014285714285715, \"pred\": 5.2426118278866785}, {\"true\": 9.637878787878789, \"pred\": 7.454713170653347}, {\"true\": 4.200000000000002, \"pred\": 4.739643007314578}, {\"true\": 2.702777777777777, \"pred\": 3.457578243581068}, {\"true\": 6.345833333333334, \"pred\": 6.065690103611609}, {\"true\": 0.24166666666667377, \"pred\": 2.7695906199849607}, {\"true\": 6.233333333333335, \"pred\": 6.348288436021183}, {\"true\": 2.6766666666666703, \"pred\": 3.289215190682981}, {\"true\": 4.211666666666668, \"pred\": 4.479956154301194}, {\"true\": 4.471794871794872, \"pred\": 4.166227849138174}, {\"true\": 5.576666666666667, \"pred\": 5.144154812564523}, {\"true\": 4.8761904761904775, \"pred\": 5.1591706484329345}, {\"true\": 6.127777777777778, \"pred\": 5.4127311627427535}, {\"true\": 5.102564102564103, \"pred\": 5.023103366448651}, {\"true\": 6.2902777777777805, \"pred\": 5.567369608989864}, {\"true\": 6.5654761904761925, \"pred\": 4.662521611694302}, {\"true\": 2.8638888888888903, \"pred\": 4.787205763159337}, {\"true\": 9.76794871794872, \"pred\": 5.241590784906489}, {\"true\": 4.65, \"pred\": 4.451289931751588}, {\"true\": 3.0988095238095243, \"pred\": 4.1681097900683115}, {\"true\": 5.235555555555556, \"pred\": 4.618431218102359}, {\"true\": 5.535, \"pred\": 4.657377485061045}, {\"true\": 1.4958333333333356, \"pred\": 3.132868268739945}, {\"true\": 8.109375, \"pred\": 7.860253883972637}, {\"true\": 1.7592592592592606, \"pred\": 3.033784566475854}, {\"true\": 4.409722222222222, \"pred\": 4.671081153830853}, {\"true\": 0.5783333333333361, \"pred\": 2.385562661423087}, {\"true\": 3.7722222222222253, \"pred\": 4.845224237942025}, {\"true\": 7.0000000000000036, \"pred\": 5.3185493950062455}, {\"true\": 7.026666666666669, \"pred\": 7.973770359651747}, {\"true\": 6.165555555555557, \"pred\": 6.0542908058171045}, {\"true\": 8.801666666666668, \"pred\": 6.99644990767916}, {\"true\": 4.875925925925926, \"pred\": 5.063183026909736}, {\"true\": 5.103571428571432, \"pred\": 4.0712163752310495}, {\"true\": 4.3015151515151535, \"pred\": 5.8421759866352145}, {\"true\": 1.7291666666666674, \"pred\": 4.062014218015549}, {\"true\": 5.2745098039215685, \"pred\": 5.210760992687252}, {\"true\": 2.6562500000000044, \"pred\": 2.5000066746155962}, {\"true\": 6.429487179487182, \"pred\": 5.70942631427948}, {\"true\": 3.3742424242424254, \"pred\": 3.7223248502631017}, {\"true\": 5.510714285714286, \"pred\": 4.959556615772323}, {\"true\": 1.383333333333344, \"pred\": 2.1648689810283788}, {\"true\": 6.852222222222222, \"pred\": 5.452119905150002}, {\"true\": 7.785714285714286, \"pred\": 8.056563993032254}, {\"true\": 4.893750000000001, \"pred\": 6.791827866115622}, {\"true\": 5.895238095238095, \"pred\": 4.984860494501}, {\"true\": 4.5680555555555555, \"pred\": 5.262989017265035}, {\"true\": 5.373333333333334, \"pred\": 4.79765239727346}, {\"true\": 5.028787878787878, \"pred\": 3.9731849240903694}, {\"true\": 4.783333333333335, \"pred\": 4.39453401163316}, {\"true\": 5.6655555555555575, \"pred\": 5.0563551285427835}, {\"true\": 8.11851851851852, \"pred\": 5.587528549429201}, {\"true\": 4.974358974358976, \"pred\": 6.212001712592369}, {\"true\": 2.9694444444444454, \"pred\": 3.9221132555010474}, {\"true\": 11.066666666666668, \"pred\": 9.981797082830456}, {\"true\": 7.134722222222223, \"pred\": 5.878424073348018}, {\"true\": 3.608333333333351, \"pred\": 2.9098885661883997}, {\"true\": 4.272222222222222, \"pred\": 5.463608526909548}, {\"true\": 5.277380952380954, \"pred\": 5.778624424822819}, {\"true\": 2.9909090909090907, \"pred\": 3.763378016866625}, {\"true\": 5.532222222222221, \"pred\": 3.7662951823802806}, {\"true\": 0.4666666666666738, \"pred\": 3.2391842332101892}, {\"true\": 3.352777777777778, \"pred\": 3.3614629295925043}, {\"true\": 2.523076923076924, \"pred\": 3.430164566357378}, {\"true\": 2.0121212121212135, \"pred\": 1.8382489939339026}, {\"true\": 6.225000000000001, \"pred\": 5.818380637303303}, {\"true\": 2.504166666666671, \"pred\": 2.3850468178433264}, {\"true\": 3.3866666666666694, \"pred\": 4.028681910114586}, {\"true\": 5.331481481481482, \"pred\": 4.971437056358724}, {\"true\": 2.909722222222223, \"pred\": 3.585004469683228}, {\"true\": 2.151388888888889, \"pred\": 5.558246066987105}, {\"true\": 5.921189464667502e-15, \"pred\": 1.7312459153390065}, {\"true\": 8.13541666666667, \"pred\": 5.249696498869331}, {\"true\": 4.451515151515153, \"pred\": 4.282872769197016}, {\"true\": 4.451515151515153, \"pred\": 4.461456265306841}, {\"true\": 5.800000000000002, \"pred\": 5.616957278885585}, {\"true\": 2.3800000000000017, \"pred\": 4.69691227103092}, {\"true\": 4.825, \"pred\": 4.693511834893121}, {\"true\": 6.941666666666665, \"pred\": 4.908362726394477}, {\"true\": 3.313636363636364, \"pred\": 4.451139645998046}, {\"true\": 4.325000000000001, \"pred\": 6.571088600534162}, {\"true\": 6.641666666666675, \"pred\": 2.795673763046777}, {\"true\": 6.238888888888889, \"pred\": 4.579928190287916}, {\"true\": 0.6916666666666691, \"pred\": 2.6766205849536666}, {\"true\": 3.960714285714286, \"pred\": 4.582677917393516}, {\"true\": 7.240000000000002, \"pred\": 6.425074958899769}, {\"true\": 2.5166666666666684, \"pred\": 4.326594260898966}, {\"true\": 9.282051282051283, \"pred\": 7.436192465000501}, {\"true\": 8.305000000000001, \"pred\": 7.316128069634507}, {\"true\": 3.541025641025641, \"pred\": 3.5287464092844956}, {\"true\": 6.781818181818185, \"pred\": 6.132935273030092}, {\"true\": 3.8472222222222237, \"pred\": 4.689668033803566}, {\"true\": 9.36851851851852, \"pred\": 8.613229048449556}, {\"true\": 4.08809523809524, \"pred\": 4.020671596939226}, {\"true\": 2.3650000000000038, \"pred\": 2.9670021049413133}, {\"true\": 4.1690476190476184, \"pred\": 4.809958605660848}, {\"true\": 5.830000000000007, \"pred\": 5.288595659108126}, {\"true\": 4.072727272727274, \"pred\": 5.051180069622872}, {\"true\": 2.8583333333333347, \"pred\": 4.202461451519895}, {\"true\": 5.193939393939396, \"pred\": 5.780414493705621}, {\"true\": 10.697222222222223, \"pred\": 10.714214210019835}, {\"true\": 9.678787878787881, \"pred\": 7.00078337404684}, {\"true\": 1.100000000000007, \"pred\": 2.0654641063512305}, {\"true\": 9.593333333333337, \"pred\": 8.60890269232356}, {\"true\": 2.6777777777777794, \"pred\": 3.771894617502569}, {\"true\": 4.627272727272729, \"pred\": 5.860166240766877}, {\"true\": 1.7763568394002505e-14, \"pred\": 0.985383655909752}, {\"true\": 5.183333333333333, \"pred\": 3.868143998725574}, {\"true\": 6.221111111111112, \"pred\": 4.655379044443682}, {\"true\": 4.7666666666666995, \"pred\": 3.663352904820568}, {\"true\": 5.588888888888889, \"pred\": 4.599332232491408}, {\"true\": 7.356410256410258, \"pred\": 5.68594209878202}, {\"true\": 5.421875, \"pred\": 6.271097035511038}, {\"true\": 2.5791666666666697, \"pred\": 4.34809173621687}, {\"true\": 3.203333333333333, \"pred\": 4.819785846757542}, {\"true\": 2.583333333333333, \"pred\": 3.7357543500106356}, {\"true\": 4.361111111111113, \"pred\": 3.5176035097761176}, {\"true\": 1.929761904761906, \"pred\": 4.177420456968256}, {\"true\": 5.796428571428572, \"pred\": 5.358284282964061}, {\"true\": 7.213636363636366, \"pred\": 7.224424530351465}, {\"true\": 2.0121212121212135, \"pred\": 1.7425399316958354}, {\"true\": 14.870000000000001, \"pred\": 11.350252137528251}, {\"true\": 6.005555555555556, \"pred\": 5.355967675118499}, {\"true\": 1.9366666666666739, \"pred\": 1.708448150011975}, {\"true\": 3.4740740740740748, \"pred\": 4.640172897302249}, {\"true\": 1.572916666666669, \"pred\": 2.802501145965877}, {\"true\": 4.976923076923077, \"pred\": 5.115465149959969}, {\"true\": 3.7, \"pred\": 4.442718693613334}, {\"true\": 7.8050000000000015, \"pred\": 5.102120804951244}, {\"true\": 3.518750000000001, \"pred\": 4.445238284635568}, {\"true\": 3.389393939393943, \"pred\": 3.0188004594270255}, {\"true\": 2.6074074074074085, \"pred\": 3.539636856647877}, {\"true\": 4.974358974358976, \"pred\": 5.34023220466795}, {\"true\": 5.255555555555559, \"pred\": 5.0045553801843035}, {\"true\": 8.326190476190481, \"pred\": 8.482754021820007}, {\"true\": 1.6166666666666711, \"pred\": 1.8395421286759472}, {\"true\": 4.517857142857143, \"pred\": 4.305512141603079}, {\"true\": 6.945000000000002, \"pred\": 6.268916811870646}, {\"true\": 5.6074074074074085, \"pred\": 4.95589049204466}, {\"true\": 4.996153846153846, \"pred\": 5.31109857904862}, {\"true\": 5.133333333333334, \"pred\": 4.886170821204354}, {\"true\": 5.423076923076924, \"pred\": 6.314636839509599}, {\"true\": 2.8319444444444453, \"pred\": 3.963199971870052}, {\"true\": 10.697222222222223, \"pred\": 8.222117591607562}, {\"true\": 4.604761904761906, \"pred\": 5.909567784195423}, {\"true\": 4.295238095238097, \"pred\": 3.949819470208826}, {\"true\": 3.7216666666666667, \"pred\": 4.161663501349692}, {\"true\": 2.8454545454545443, \"pred\": 3.8953318071915026}, {\"true\": 7.566666666666667, \"pred\": 5.906587651376252}, {\"true\": 3.0988095238095243, \"pred\": 3.660888359079005}, {\"true\": 5.892592592592594, \"pred\": 5.624129337171906}, {\"true\": 9.968333333333334, \"pred\": 8.698153236571308}, {\"true\": 1.1925925925925933, \"pred\": 2.6969273437276375}, {\"true\": 3.1416666666666715, \"pred\": 3.5211602605867083}, {\"true\": 8.712500000000002, \"pred\": 7.418205168116383}, {\"true\": 4.94583333333334, \"pred\": 2.1111828307181146}, {\"true\": 7.7630952380952385, \"pred\": 6.925255157155493}, {\"true\": 2.512121212121214, \"pred\": 6.577522524997479}, {\"true\": 3.7541666666666678, \"pred\": 3.690339586413752}, {\"true\": 5.06666666666667, \"pred\": 4.430283744197628}, {\"true\": 6.4944444444444445, \"pred\": 6.52630692262897}, {\"true\": 1.7000000000000015, \"pred\": 3.7275183677287047}, {\"true\": 2.5194444444444457, \"pred\": 4.393107883678541}, {\"true\": 4.471794871794872, \"pred\": 4.561956542321052}, {\"true\": 4.961904761904762, \"pred\": 5.953236751278346}, {\"true\": 8.157407407407408, \"pred\": 5.0357137966735435}, {\"true\": 1.2309523809523861, \"pred\": 3.20557832620957}, {\"true\": 3.4355555555555575, \"pred\": 4.430331099334234}, {\"true\": 6.384848484848485, \"pred\": 5.746618552008129}, {\"true\": 5.233333333333334, \"pred\": 4.424891128122645}, {\"true\": 8.046153846153846, \"pred\": 7.145107119538809}, {\"true\": 5.34404761904762, \"pred\": 5.2578295767541015}, {\"true\": 4.135714285714285, \"pred\": 4.350043158560964}, {\"true\": 13.824358974358976, \"pred\": 9.447099450560742}, {\"true\": 4.8500000000000165, \"pred\": 2.6442647320026174}, {\"true\": 6.309523809523809, \"pred\": 4.600885999272917}, {\"true\": 1.709090909090912, \"pred\": 3.1063551810705388}, {\"true\": 2.7653846153846167, \"pred\": 3.1452637308961946}, {\"true\": 4.974358974358976, \"pred\": 5.6955350086016825}, {\"true\": 4.573333333333333, \"pred\": 4.234083268140455}, {\"true\": 5.046666666666669, \"pred\": 4.659544302866346}, {\"true\": 3.740476190476195, \"pred\": 4.779086411803911}, {\"true\": 5.1800000000000015, \"pred\": 5.351391148697489}, {\"true\": 2.4722222222222276, \"pred\": 2.2122328299784106}, {\"true\": 4.038333333333333, \"pred\": 4.5045083438843285}, {\"true\": 1.8400000000000039, \"pred\": 3.52218081475579}, {\"true\": 1.1500000000000048, \"pred\": 2.9811559533610392}, {\"true\": 2.37592592592593, \"pred\": 3.3826040782505657}, {\"true\": 4.745454545454546, \"pred\": 6.961162787915429}, {\"true\": 5.370833333333336, \"pred\": 5.185795693086352}, {\"true\": 3.1200000000000006, \"pred\": 4.456554431226191}, {\"true\": 5.673958333333333, \"pred\": 5.909959889155323}, {\"true\": 4.20952380952381, \"pred\": 4.288052314576997}, {\"true\": 6.0125, \"pred\": 5.152112112328822}, {\"true\": 3.9666666666666703, \"pred\": 4.845860175741515}, {\"true\": 4.466666666666669, \"pred\": 4.192265755302011}, {\"true\": 5.170000000000001, \"pred\": 4.574860987241453}, {\"true\": 4.557291666666667, \"pred\": 4.626318511372892}, {\"true\": 2.5212121212121215, \"pred\": 3.726899942108349}, {\"true\": 3.5816666666666706, \"pred\": 5.576714983094045}, {\"true\": 4.511111111111117, \"pred\": 5.253503015024629}, {\"true\": 3.4384615384615387, \"pred\": 4.616002312720793}, {\"true\": 5.0076923076923086, \"pred\": 5.783585163099273}, {\"true\": 5.107142857142859, \"pred\": 6.749331482255683}, {\"true\": 5.6, \"pred\": 5.884815489921295}, {\"true\": 4.764814814814814, \"pred\": 3.869890145835024}, {\"true\": 10.114285714285716, \"pred\": 8.369931404938436}, {\"true\": 4.878888888888891, \"pred\": 5.313184519129148}, {\"true\": 5.866666666666667, \"pred\": 5.398551060260778}, {\"true\": 4.156060606060605, \"pred\": 3.9776645929753642}, {\"true\": 2.973333333333334, \"pred\": 2.7111293816821207}, {\"true\": 5.640625, \"pred\": 5.805645294379238}, {\"true\": 9.306060606060608, \"pred\": 10.945057721106355}, {\"true\": 2.3466666666666685, \"pred\": 4.827436723555182}, {\"true\": 3.0033333333333347, \"pred\": 4.123026429232774}, {\"true\": 3.0050000000000017, \"pred\": 2.595271887461431}, {\"true\": 1.0738095238095284, \"pred\": 2.044150406795342}, {\"true\": 3.6433333333333344, \"pred\": 3.0368539459552326}, {\"true\": 9.282051282051283, \"pred\": 8.366851250496113}, {\"true\": 5.319696969696971, \"pred\": 4.5079966232396185}, {\"true\": 3.4395833333333377, \"pred\": 3.6156541900204835}, {\"true\": 4.996153846153846, \"pred\": 4.9430259996171095}, {\"true\": 5.112820512820514, \"pred\": 5.315528489399105}, {\"true\": 4.0249999999999995, \"pred\": 4.504605051175094}, {\"true\": 2.661111111111114, \"pred\": 3.414535304141516}, {\"true\": 2.3000000000000043, \"pred\": 2.5175903906400734}, {\"true\": 6.70952380952381, \"pred\": 7.046630214370663}, {\"true\": 3.5416666666666674, \"pred\": 3.850146907493962}, {\"true\": 3.098809523809526, \"pred\": 3.743068687169294}, {\"true\": 4.54166666666667, \"pred\": 4.6083506655733455}, {\"true\": 4.668181818181818, \"pred\": 4.688956290680016}, {\"true\": 2.1277777777777778, \"pred\": 4.510018186477225}, {\"true\": 6.735897435897437, \"pred\": 4.893349362996601}, {\"true\": 2.685185185185185, \"pred\": 3.405642471913042}, {\"true\": 2.012962962962963, \"pred\": 3.1300904061372763}, {\"true\": 3.828571428571429, \"pred\": 5.884878170798076}, {\"true\": 4.198333333333332, \"pred\": 4.7555295728245}, {\"true\": 4.293055555555555, \"pred\": 5.859775707764731}, {\"true\": 7.581481481481485, \"pred\": 8.834380621853466}, {\"true\": 6.4333333333333345, \"pred\": 6.24623313143937}, {\"true\": 5.665476190476191, \"pred\": 5.9840109536675925}, {\"true\": 4.5375000000000005, \"pred\": 4.4351883660005}, {\"true\": 2.827272727272729, \"pred\": 2.7872864057385858}, {\"true\": 2.8133333333333335, \"pred\": 3.616737938138911}, {\"true\": 3.9525641025641045, \"pred\": 4.44323652865085}, {\"true\": 5.281250000000001, \"pred\": 5.978736666051242}, {\"true\": 6.430303030303031, \"pred\": 5.941961144011103}, {\"true\": 1.6611111111111134, \"pred\": 2.9329457966903982}, {\"true\": 1.214814814814818, \"pred\": 2.771733044643045}, {\"true\": 2.3628205128205133, \"pred\": 2.876377214726882}, {\"true\": 5.533333333333333, \"pred\": 5.050857429558827}, {\"true\": 6.328205128205128, \"pred\": 5.124231768502406}, {\"true\": 5.591666666666675, \"pred\": 3.96717857866138}, {\"true\": 8.202380952380954, \"pred\": 4.294725257487442}, {\"true\": 2.0681818181818197, \"pred\": 3.4224480471242313}, {\"true\": 4.466666666666669, \"pred\": 4.133638228251499}, {\"true\": 3.567948717948719, \"pred\": 3.9638558572692015}, {\"true\": 0.5783333333333361, \"pred\": 2.0964033698645994}, {\"true\": 5.014285714285715, \"pred\": 6.2164749110748625}, {\"true\": 8.692708333333336, \"pred\": 7.94675191832797}, {\"true\": 3.0694444444444464, \"pred\": 4.024094783637908}, {\"true\": 4.616666666666671, \"pred\": 6.3215093040027215}, {\"true\": 2.508333333333334, \"pred\": 4.097120328056989}, {\"true\": 2.980000000000001, \"pred\": 6.2137769123410225}, {\"true\": 6.421428571428572, \"pred\": 7.001424960059965}, {\"true\": 3.4900000000000024, \"pred\": 3.9338972349888333}, {\"true\": 6.30769230769231, \"pred\": 6.813517121729097}, {\"true\": 2.761111111111114, \"pred\": 2.821187689086978}, {\"true\": 5.100000000000001, \"pred\": 4.54696316924281}, {\"true\": 3.567948717948719, \"pred\": 4.4832926520399}, {\"true\": 4.784722222222222, \"pred\": 4.8791024753426955}, {\"true\": 1.408333333333336, \"pred\": 2.4290078970972337}, {\"true\": 5.570000000000003, \"pred\": 6.792426036779055}, {\"true\": 4.372222222222224, \"pred\": 3.030608559061096}, {\"true\": 3.646296296296298, \"pred\": 1.8261322921997105}, {\"true\": 3.8651515151515157, \"pred\": 4.298489377761074}, {\"true\": 2.7166666666666663, \"pred\": 2.919070570090061}, {\"true\": 0.566666666666672, \"pred\": 1.7211594638609615}, {\"true\": 6.6416666666666675, \"pred\": 6.718202225773118}, {\"true\": 4.527083333333338, \"pred\": 4.233488428936159}, {\"true\": 5.502777777777779, \"pred\": 4.438599569221032}, {\"true\": 2.216666666666668, \"pred\": 2.9561119732128174}, {\"true\": 7.570000000000002, \"pred\": 6.636416553729073}, {\"true\": 5.496153846153846, \"pred\": 3.793411929859802}, {\"true\": 3.0533333333333403, \"pred\": 2.042225367933493}, {\"true\": 6.546153846153849, \"pred\": 6.5581483100109885}, {\"true\": 6.70740740740741, \"pred\": 6.149273034447409}, {\"true\": 5.421212121212122, \"pred\": 4.492263835557109}, {\"true\": 5.828333333333337, \"pred\": 4.314733217971052}, {\"true\": 5.985000000000001, \"pred\": 6.978592723554427}, {\"true\": 2.8333333333333353, \"pred\": 5.208853203670486}, {\"true\": 4.205555555555555, \"pred\": 3.7828714255760376}, {\"true\": 9.63846153846154, \"pred\": 4.394681990592937}, {\"true\": 1.7763568394002505e-14, \"pred\": 1.340159791284217}, {\"true\": 5.9799999999999995, \"pred\": 6.444755937701512}, {\"true\": 2.9547619047619054, \"pred\": 3.7902098736723717}, {\"true\": 9.373809523809523, \"pred\": 6.506836589633815}, {\"true\": 3.2530303030303034, \"pred\": 3.9089367241950406}, {\"true\": 7.25, \"pred\": 6.511967276921759}, {\"true\": 3.7333333333333356, \"pred\": 5.904692348802246}, {\"true\": 6.849999999999999, \"pred\": 7.050250749769325}, {\"true\": 4.010606060606062, \"pred\": 4.665936802441497}, {\"true\": 6.735897435897437, \"pred\": 4.712481602643703}, {\"true\": 4.304761904761905, \"pred\": 4.328520144594445}, {\"true\": 6.972727272727273, \"pred\": 5.563958764801482}, {\"true\": 3.355128205128207, \"pred\": 3.609789798770518}, {\"true\": 5.730769230769232, \"pred\": 5.554173178612675}, {\"true\": 4.169047619047621, \"pred\": 4.88370605853752}, {\"true\": 6.790000000000001, \"pred\": 5.419400181410654}, {\"true\": 4.735714285714286, \"pred\": 4.41232590224584}, {\"true\": 7.5583333333333345, \"pred\": 7.274582328500903}, {\"true\": 2.5537037037037056, \"pred\": 3.263957539634385}, {\"true\": 3.9766666666666675, \"pred\": 5.483005638626288}, {\"true\": 8.132051282051282, \"pred\": 7.1103604138512235}, {\"true\": 2.875000000000002, \"pred\": 3.6314729067662546}, {\"true\": 3.9037037037037075, \"pred\": 4.379160740386566}, {\"true\": 2.144444444444455, \"pred\": 3.7543620017652892}, {\"true\": 4.221111111111112, \"pred\": 4.317382634006901}, {\"true\": 1.41666666666667, \"pred\": 1.1892494099590665}, {\"true\": 3.3743589743589757, \"pred\": 5.953727636902537}, {\"true\": 3.88939393939394, \"pred\": 3.9260264214924465}, {\"true\": 6.5166666666666675, \"pred\": 6.662739443287508}, {\"true\": 5.64814814814815, \"pred\": 4.503014917517344}, {\"true\": 7.0074074074074115, \"pred\": 6.207743011380918}, {\"true\": 3.4256410256410272, \"pred\": 3.6045641074782435}, {\"true\": 7.075, \"pred\": 5.962026293816975}, {\"true\": 7.967948717948719, \"pred\": 6.289941606078839}, {\"true\": 6.327272727272728, \"pred\": 4.964597652215327}, {\"true\": 0.861111111111117, \"pred\": 1.813936022503894}, {\"true\": 3.7, \"pred\": 3.8751507798595046}, {\"true\": 5.858333333333334, \"pred\": 5.757047241708001}, {\"true\": 3.552713678800501e-14, \"pred\": 2.085203901726406}, {\"true\": 6.945000000000002, \"pred\": 6.750824624114998}, {\"true\": 3.3312500000000025, \"pred\": 3.8245788620477756}, {\"true\": 5.169444444444447, \"pred\": 5.258042851320214}, {\"true\": 5.811666666666666, \"pred\": 4.868003813711824}, {\"true\": 6.081250000000002, \"pred\": 5.389641042619172}, {\"true\": 4.95, \"pred\": 5.196186283056509}, {\"true\": 3.8578431372549034, \"pred\": 3.7640640451355445}, {\"true\": 4.40714285714286, \"pred\": 4.092960782872712}, {\"true\": 3.381250000000002, \"pred\": 3.9002561614395934}, {\"true\": 4.356666666666666, \"pred\": 4.678532114199962}, {\"true\": 8.511111111111115, \"pred\": 3.2428131502350643}, {\"true\": 4.109523809523812, \"pred\": 3.887451876136552}, {\"true\": 5.992857142857147, \"pred\": 5.243410448718032}, {\"true\": 6.843055555555559, \"pred\": 5.97306927374597}, {\"true\": 3.1571428571428575, \"pred\": 3.8811148604400887}, {\"true\": 3.613095238095241, \"pred\": 4.0102824896379206}, {\"true\": 2.67777777777778, \"pred\": 2.7932635144372395}, {\"true\": 7.357692307692308, \"pred\": 5.763941821520128}, {\"true\": 12.353703703703708, \"pred\": 9.49684398978502}, {\"true\": 3.4562500000000043, \"pred\": 2.2612776561243275}, {\"true\": 7.914583333333335, \"pred\": 6.683751843765122}, {\"true\": 4.933333333333333, \"pred\": 5.203677518374118}, {\"true\": 3.333333333333339, \"pred\": 2.6974061695763543}, {\"true\": 3.4833333333333365, \"pred\": 3.623786628365721}, {\"true\": 3.567948717948719, \"pred\": 3.4631910571561146}, {\"true\": 2.762500000000002, \"pred\": 3.6377762882859725}, {\"true\": 3.500000000000001, \"pred\": 4.384612590265546}, {\"true\": 4.951041666666667, \"pred\": 5.320547803770778}, {\"true\": 2.802083333333334, \"pred\": 3.6958642532494728}, {\"true\": 2.9363636363636374, \"pred\": 3.935529389657168}, {\"true\": 5.11309523809524, \"pred\": 4.225948139665696}, {\"true\": 0.48333333333334044, \"pred\": 3.900338486513439}, {\"true\": 4.188095238095241, \"pred\": 3.983249162760963}, {\"true\": 3.3375000000000017, \"pred\": 3.758824209802887}, {\"true\": 1.1476190476190475, \"pred\": 3.2201883374522073}, {\"true\": 5.32638888888889, \"pred\": 6.088256836011027}, {\"true\": 4.497435897435899, \"pred\": 5.035327396843602}, {\"true\": 1.7763568394002505e-14, \"pred\": 0.9739613520760431}, {\"true\": 9.085185185185187, \"pred\": 7.171832271295578}, {\"true\": 3.0777777777777824, \"pred\": 1.9921491228931476}, {\"true\": 6.804761904761906, \"pred\": 6.606864769391113}, {\"true\": 2.691666666666672, \"pred\": 2.0099014165451567}, {\"true\": 1.7763568394002505e-14, \"pred\": 1.5040311995588138}, {\"true\": 8.08030303030303, \"pred\": 6.791172560821952}, {\"true\": 5.380000000000005, \"pred\": 3.643104325184918}, {\"true\": 5.741666666666673, \"pred\": 1.7097544133187206}, {\"true\": 4.67638888888889, \"pred\": 4.316698450465726}, {\"true\": 5.8450000000000015, \"pred\": 6.162901171127985}, {\"true\": 3.020833333333338, \"pred\": 2.829195796770349}, {\"true\": 4.471794871794872, \"pred\": 4.909402711089026}, {\"true\": 5.047222222222228, \"pred\": 4.9851104144488945}, {\"true\": 3.981250000000003, \"pred\": 3.408885312625039}, {\"true\": 4.207692307692309, \"pred\": 4.168005469463606}, {\"true\": 1.3916666666666755, \"pred\": 1.68566099709536}, {\"true\": 5.169444444444447, \"pred\": 5.38075758476138}, {\"true\": 1.4763888888888899, \"pred\": 3.580827133007708}, {\"true\": 0.7333333333333333, \"pred\": 5.899980247042235}, {\"true\": 2.7974358974359004, \"pred\": 4.745239161714251}, {\"true\": 3.1416666666666715, \"pred\": 3.4332532488701584}, {\"true\": 5.608974358974359, \"pred\": 4.353731965547762}, {\"true\": 6.245000000000002, \"pred\": 5.360976939399695}, {\"true\": 3.751515151515153, \"pred\": 3.933431717676182}, {\"true\": 5.426666666666667, \"pred\": 5.616719913449098}, {\"true\": 1.1291666666666693, \"pred\": 2.3780160395499337}, {\"true\": 7.938888888888893, \"pred\": 4.3308370919926436}, {\"true\": 4.557291666666667, \"pred\": 4.3365203307527675}, {\"true\": 7.2375, \"pred\": 6.048734627063254}, {\"true\": 5.493333333333334, \"pred\": 4.387213315763957}, {\"true\": 5.246666666666668, \"pred\": 5.9167002999283715}, {\"true\": 2.8472222222222237, \"pred\": 3.0451736292153058}, {\"true\": 5.319696969696971, \"pred\": 6.725568984710804}, {\"true\": 4.277777777777778, \"pred\": 5.449801512960363}, {\"true\": 4.061111111111113, \"pred\": 5.6893884355624555}, {\"true\": 3.983333333333337, \"pred\": 4.649704595039688}, {\"true\": 2.223809523809529, \"pred\": 2.7174474069700096}, {\"true\": 7.356410256410258, \"pred\": 5.245588840966258}, {\"true\": 3.860000000000002, \"pred\": 4.602433214653067}, {\"true\": 12.790909090909095, \"pred\": 11.158331181748226}, {\"true\": 5.8625000000000025, \"pred\": 6.62091047468161}, {\"true\": 2.783333333333339, \"pred\": 2.0891253033915844}, {\"true\": 4.754761904761905, \"pred\": 4.77093252752167}, {\"true\": 7.570000000000002, \"pred\": 4.887809706706918}, {\"true\": 1.841666666666668, \"pred\": 3.1439201243653327}, {\"true\": 1.1979166666666687, \"pred\": 2.814449579269976}, {\"true\": 5.1761904761904765, \"pred\": 6.475717447055148}, {\"true\": 3.987878787878788, \"pred\": 3.2769992479052825}, {\"true\": 5.569047619047619, \"pred\": 4.940441519751431}, {\"true\": 4.884848484848486, \"pred\": 5.210327037461315}, {\"true\": 5.617857142857145, \"pred\": 5.582979334161187}, {\"true\": 3.916666666666667, \"pred\": 4.139103360520178}, {\"true\": 3.6060606060606077, \"pred\": 3.1039193506204654}, {\"true\": 6.139583333333338, \"pred\": 4.7736772015424}, {\"true\": 3.0466666666666695, \"pred\": 3.0299966572060097}, {\"true\": 7.21666666666667, \"pred\": 6.425323211392861}, {\"true\": 4.397222222222223, \"pred\": 4.9444681458922055}, {\"true\": 2.5833333333333344, \"pred\": 4.005402329551905}, {\"true\": 2.6803030303030315, \"pred\": 4.040925687745363}, {\"true\": 5.968333333333334, \"pred\": 4.81814191092719}, {\"true\": 3.8545454545454545, \"pred\": 5.403842495240315}, {\"true\": 3.8437500000000036, \"pred\": 3.489072229623124}, {\"true\": 7.196875000000001, \"pred\": 6.488348097581099}, {\"true\": 5.103571428571432, \"pred\": 3.95931330984217}, {\"true\": 3.931818181818185, \"pred\": 5.143172833967461}, {\"true\": 1.389393939393941, \"pred\": 5.341452177226588}, {\"true\": 4.679166666666668, \"pred\": 4.494367578338269}, {\"true\": 5.883333333333334, \"pred\": 5.364244863593264}, {\"true\": 4.012500000000001, \"pred\": 4.18582769872397}, {\"true\": 7.477380952380955, \"pred\": 7.919734242554813}, {\"true\": 3.1416666666666715, \"pred\": 3.513072296206}, {\"true\": 5.851282051282052, \"pred\": 4.994441841125423}, {\"true\": 4.411904761904763, \"pred\": 3.6149835818555776}, {\"true\": 3.9273809523809535, \"pred\": 4.6867738521548015}, {\"true\": 3.8214285714285725, \"pred\": 4.0015776645033965}, {\"true\": 8.54047619047619, \"pred\": 6.595900278031352}, {\"true\": 4.538333333333337, \"pred\": 5.347219188410717}, {\"true\": 2.6125000000000087, \"pred\": 3.15470313659555}, {\"true\": 11.279487179487178, \"pred\": 8.397439711313355}, {\"true\": 6.752083333333336, \"pred\": 5.737213908515524}, {\"true\": 2.483333333333345, \"pred\": 1.6908027243170758}, {\"true\": 4.655555555555557, \"pred\": 5.318733453533021}, {\"true\": 4.293333333333333, \"pred\": 3.8645240396232574}, {\"true\": 5.907142857142858, \"pred\": 4.730949002759117}, {\"true\": 3.197442310920451e-14, \"pred\": 3.2595037586263804}, {\"true\": 6.243055555555556, \"pred\": 6.223049209089267}, {\"true\": 8.119444444444445, \"pred\": 2.918557525278489}, {\"true\": 2.269444444444448, \"pred\": 2.0053097830665094}, {\"true\": 4.762820512820513, \"pred\": 4.4459032865023795}, {\"true\": 3.320833333333334, \"pred\": 3.6978806540372875}, {\"true\": 6.251666666666666, \"pred\": 5.265231282913755}, {\"true\": 6.445555555555558, \"pred\": 6.842762680075998}, {\"true\": 6.822619047619049, \"pred\": 6.3271623265507895}, {\"true\": 2.3466666666666685, \"pred\": 5.342058145818635}, {\"true\": 2.2833333333333368, \"pred\": 6.385556183288643}, {\"true\": 3.381250000000002, \"pred\": 4.566708475948639}, {\"true\": 7.566666666666667, \"pred\": 5.8709217392881285}, {\"true\": 5.281666666666669, \"pred\": 4.772188637049366}, {\"true\": 4.440909090909094, \"pred\": 3.6822586408492333}, {\"true\": 5.510000000000001, \"pred\": 5.992518099614614}, {\"true\": 3.625000000000001, \"pred\": 3.8344749110370535}, {\"true\": 5.883333333333334, \"pred\": 6.02773253601472}, {\"true\": 4.3015151515151535, \"pred\": 7.33384115794326}, {\"true\": 0.7962962962962971, \"pred\": 4.17280616737146}, {\"true\": 2.660606060606061, \"pred\": 3.6037228557793073}, {\"true\": 2.8333333333333353, \"pred\": 4.803947428100842}, {\"true\": 8.77222222222222, \"pred\": 7.097461329036499}, {\"true\": 8.986666666666668, \"pred\": 5.857587438714323}, {\"true\": 4.671428571428573, \"pred\": 4.650614802795168}, {\"true\": 3.3013888888888903, \"pred\": 3.9306565522895625}, {\"true\": 6.010256410256413, \"pred\": 5.901370507293826}, {\"true\": 5.088888888888892, \"pred\": 5.037209108008788}, {\"true\": 3.974999999999999, \"pred\": 4.5426376207275885}, {\"true\": 5.370833333333336, \"pred\": 5.228210874846595}, {\"true\": 4.901515151515153, \"pred\": 4.22735410602669}, {\"true\": 7.817857142857143, \"pred\": 6.6783737687775035}, {\"true\": 4.701515151515152, \"pred\": 4.213666009766318}, {\"true\": 7.166666666666668, \"pred\": 6.35959261731632}, {\"true\": 10.192222222222222, \"pred\": 6.307177324751649}, {\"true\": 4.576041666666668, \"pred\": 4.8088355268108565}, {\"true\": 9.541666666666666, \"pred\": 8.468359773131752}, {\"true\": 5.633333333333335, \"pred\": 3.4708778925019215}, {\"true\": 5.170833333333333, \"pred\": 5.274888459921109}, {\"true\": 4.3075757575757585, \"pred\": 3.531389451683459}, {\"true\": 6.641666666666675, \"pred\": 1.9296923531922399}, {\"true\": 4.421428571428572, \"pred\": 4.237623040938473}, {\"true\": 4.329487179487179, \"pred\": 4.926399925430694}, {\"true\": 2.5523809523809535, \"pred\": 3.221345405685873}, {\"true\": 8.08030303030303, \"pred\": 6.7178825040032315}, {\"true\": 3.947222222222225, \"pred\": 4.356079419397322}, {\"true\": 2.544444444444445, \"pred\": 2.4918184539623733}, {\"true\": 2.5083333333333333, \"pred\": 3.0763088288624956}, {\"true\": 8.157407407407408, \"pred\": 6.517507793852425}, {\"true\": 5.095454545454546, \"pred\": 4.6077087675498944}, {\"true\": 1.8400000000000039, \"pred\": 4.134877126051286}, {\"true\": 5.443750000000001, \"pred\": 6.70625146691203}, {\"true\": 1.835714285714286, \"pred\": 2.9299832537669372}, {\"true\": 3.440277777777778, \"pred\": 4.344035574478428}, {\"true\": 8.11851851851852, \"pred\": 5.898516669754628}, {\"true\": 8.703846153846154, \"pred\": 7.257872302224567}, {\"true\": 3.5702380952380977, \"pred\": 3.9439975087026897}, {\"true\": 3.05666666666667, \"pred\": 2.26593289933381}, {\"true\": 5.955555555555557, \"pred\": 6.948824964839764}, {\"true\": 4.044047619047619, \"pred\": 5.741922559090775}, {\"true\": 1.8333333333333333, \"pred\": 3.4494440858054314}, {\"true\": 6.301851851851856, \"pred\": 6.354585253536175}, {\"true\": 8.766666666666666, \"pred\": 6.846713156566075}, {\"true\": 7.344444444444445, \"pred\": 7.0777233735343055}, {\"true\": 5.6141025641025655, \"pred\": 5.27968929053365}, {\"true\": 4.19074074074074, \"pred\": 4.13151443809252}, {\"true\": 3.2037037037037046, \"pred\": 4.4454581533398985}, {\"true\": 1.4266666666666683, \"pred\": 3.6445154043219326}, {\"true\": 5.002777777777781, \"pred\": 3.4749695950140933}, {\"true\": 8.021875000000001, \"pred\": 6.9297979877478895}, {\"true\": 2.025925925925928, \"pred\": 1.8003177303483062}, {\"true\": 3.3583333333333343, \"pred\": 4.254488071111791}, {\"true\": 4.338235294117648, \"pred\": 3.477756977375089}, {\"true\": 12.43, \"pred\": 9.687759409460087}, {\"true\": 7.953571428571429, \"pred\": 7.050126729551073}, {\"true\": 5.416666666666666, \"pred\": 5.474416413804969}, {\"true\": 5.165555555555556, \"pred\": 5.985417563075955}, {\"true\": 2.3807692307692334, \"pred\": 3.726605598594294}, {\"true\": 4.6729166666666675, \"pred\": 4.103298217797626}, {\"true\": 4.586111111111112, \"pred\": 3.9032732182944203}, {\"true\": 7.120000000000002, \"pred\": 5.603135275018463}, {\"true\": 5.526923076923078, \"pred\": 7.040400177183257}, {\"true\": 4.140000000000001, \"pred\": 3.856174226413137}, {\"true\": 5.806666666666668, \"pred\": 6.428464390616542}, {\"true\": 3.1444444444444435, \"pred\": 3.47232441225823}, {\"true\": 1.3694444444444465, \"pred\": 1.943956434133458}, {\"true\": 5.4055555555555586, \"pred\": 4.405453457142316}, {\"true\": 3.03888888888889, \"pred\": 3.80528650726002}, {\"true\": 5.472222222222224, \"pred\": 3.9911915218549074}, {\"true\": 5.7294871794871804, \"pred\": 6.069782030563511}, {\"true\": 0.5783333333333361, \"pred\": 2.4643465522372012}, {\"true\": 6.852222222222222, \"pred\": 5.782634770243296}, {\"true\": 5.6208333333333345, \"pred\": 4.550695751085053}, {\"true\": 4.038095238095242, \"pred\": 3.736566095646866}, {\"true\": 5.164705882352941, \"pred\": 5.097969675440509}, {\"true\": 3.682291666666668, \"pred\": 4.780719480653651}, {\"true\": 3.7650000000000032, \"pred\": 3.8973088291824265}, {\"true\": 5.537878787878789, \"pred\": 4.25701940877427}, {\"true\": 6.5, \"pred\": 4.736981669419561}, {\"true\": 3.195098039215686, \"pred\": 4.434659596506284}, {\"true\": 5.2359649122807035, \"pred\": 5.681041394982945}, {\"true\": 4.451515151515153, \"pred\": 4.32109164051716}, {\"true\": 4.64888888888889, \"pred\": 4.698719039814957}, {\"true\": 1.1300000000000037, \"pred\": 1.36736100517803}, {\"true\": 7.083333333333339, \"pred\": 4.726814964207515}, {\"true\": 3.6952380952380963, \"pred\": 4.2589034888901836}, {\"true\": 4.784523809523812, \"pred\": 4.44854526786774}, {\"true\": 8.01547619047619, \"pred\": 5.60394668407313}, {\"true\": 5.828333333333337, \"pred\": 4.477917373775819}, {\"true\": 1.9152777777777794, \"pred\": 5.844863350406708}, {\"true\": 7.045833333333335, \"pred\": 4.07438646586501}, {\"true\": 6.333333333333335, \"pred\": 6.838587614945139}, {\"true\": 2.923333333333335, \"pred\": 3.6144306932989974}, {\"true\": 3.5190476190476234, \"pred\": 5.355292633153668}, {\"true\": 2.0944444444444508, \"pred\": 2.267931246337786}, {\"true\": 3.516666666666678, \"pred\": 3.113743885693563}, {\"true\": 3.9392857142857154, \"pred\": 3.54398371134256}, {\"true\": 4.687500000000004, \"pred\": 4.614928897406097}, {\"true\": 4.762500000000002, \"pred\": 4.683753793239371}, {\"true\": 2.35625, \"pred\": 3.074433341236273}, {\"true\": 5.088888888888892, \"pred\": 4.871228138790475}, {\"true\": 2.691666666666672, \"pred\": 1.9547439531071726}, {\"true\": 4.252777777777779, \"pred\": 5.434847600944337}, {\"true\": 3.237037037037037, \"pred\": 4.610607472223134}, {\"true\": 4.198611111111112, \"pred\": 4.694104814378984}, {\"true\": 5.173148148148149, \"pred\": 4.824674650545777}, {\"true\": 1.952380952380954, \"pred\": 2.2845455563717088}, {\"true\": 9.373809523809523, \"pred\": 6.555499185580125}, {\"true\": 5.397222222222223, \"pred\": 5.633368027151939}, {\"true\": 4.8843749999999995, \"pred\": 5.633000036151396}, {\"true\": 7.570000000000002, \"pred\": 5.90935850247959}, {\"true\": 5.361111111111113, \"pred\": 5.701149323159922}, {\"true\": 5.2745098039215685, \"pred\": 5.204399783629656}, {\"true\": 5.222222222222224, \"pred\": 5.922337047705255}, {\"true\": 6.354166666666668, \"pred\": 6.203125894655421}, {\"true\": 4.40166666666667, \"pred\": 5.049815188309013}, {\"true\": 4.437179487179488, \"pred\": 5.124755288495024}, {\"true\": 3.613888888888891, \"pred\": 3.8385500947207136}, {\"true\": 4.783333333333335, \"pred\": 4.497622864352683}, {\"true\": 5.673958333333333, \"pred\": 5.382185100058107}, {\"true\": 5.6074074074074085, \"pred\": 5.084726932780817}, {\"true\": 6.292424242424243, \"pred\": 6.729316183049888}, {\"true\": 5.844117647058823, \"pred\": 8.520994093653876}, {\"true\": 4.151666666666668, \"pred\": 4.363090814888537}, {\"true\": 4.841025641025642, \"pred\": 4.856025977448835}, {\"true\": 0.6277777777777778, \"pred\": 2.7496473822973435}, {\"true\": 9.085185185185187, \"pred\": 6.673385762666739}, {\"true\": 4.334615384615385, \"pred\": 4.420978215870596}, {\"true\": 4.009090909090911, \"pred\": 4.055628943185459}, {\"true\": 3.5190476190476234, \"pred\": 4.964231582617853}, {\"true\": 0.5250000000000142, \"pred\": 1.967554801406396}, {\"true\": 2.691666666666672, \"pred\": 1.434710475800325}, {\"true\": 7.080000000000001, \"pred\": 6.224185129463598}, {\"true\": 3.5759259259259264, \"pred\": 4.218145589210453}, {\"true\": 4.79047619047619, \"pred\": 3.6847316257365694}, {\"true\": 4.950980392156863, \"pred\": 4.756693128695641}, {\"true\": 2.7933333333333406, \"pred\": 2.1482580826159627}, {\"true\": 2.377777777777779, \"pred\": 3.633011704323305}, {\"true\": 7.841666666666666, \"pred\": 8.158616913288169}, {\"true\": 3.737500000000004, \"pred\": 4.450308565033873}, {\"true\": 5.070000000000002, \"pred\": 5.146408272890181}, {\"true\": 6.197916666666669, \"pred\": 5.730468080589615}, {\"true\": 5.697619047619049, \"pred\": 5.726035043393731}, {\"true\": 3.4472222222222233, \"pred\": 3.597452097320951}, {\"true\": 5.1800000000000015, \"pred\": 4.779901546233868}, {\"true\": 8.284375, \"pred\": 7.051216999401292}, {\"true\": 3.442708333333333, \"pred\": 4.13807543303077}, {\"true\": 3.665384615384617, \"pred\": 4.046989983460746}, {\"true\": 2.948148148148149, \"pred\": 3.129149757289165}, {\"true\": 4.490000000000002, \"pred\": 5.126112609543273}, {\"true\": 2.5348484848484847, \"pred\": 3.234737670309742}, {\"true\": 5.48888888888889, \"pred\": 4.982034491701023}, {\"true\": 4.391666666666668, \"pred\": 4.78512133305867}, {\"true\": 6.0397435897435905, \"pred\": 5.280880151925221}, {\"true\": 3.3625000000000043, \"pred\": 2.780791960794132}, {\"true\": 5.442592592592594, \"pred\": 4.828322640158904}, {\"true\": 5.716666666666667, \"pred\": 5.499663763120669}, {\"true\": 5.150000000000004, \"pred\": 7.703634692185814}, {\"true\": 5.445000000000001, \"pred\": 6.1119216283907924}, {\"true\": 5.410606060606063, \"pred\": 4.964335787512044}, {\"true\": 4.1972222222222255, \"pred\": 5.351618614048524}, {\"true\": 5.589215686274511, \"pred\": 5.468474687551207}, {\"true\": 6.660416666666667, \"pred\": 5.862358941102849}, {\"true\": 5.7151515151515175, \"pred\": 6.4991516026347265}, {\"true\": 5.676666666666668, \"pred\": 5.116361130424358}, {\"true\": 3.4897435897435902, \"pred\": 3.761678924003776}, {\"true\": 6.373809523809525, \"pred\": 5.680315158452341}, {\"true\": 4.875925925925926, \"pred\": 4.305511682156246}, {\"true\": 5.532051282051283, \"pred\": 5.053302470003222}, {\"true\": 2.3537037037037045, \"pred\": 2.427283444502014}, {\"true\": 6.747619047619049, \"pred\": 5.296799989283012}, {\"true\": 3.652777777777781, \"pred\": 3.6709219855272646}, {\"true\": 9.2, \"pred\": 6.84972448194274}, {\"true\": 2.1928571428571426, \"pred\": 4.612672734847295}, {\"true\": 2.393333333333338, \"pred\": 8.44243173912667}, {\"true\": 4.07777777777778, \"pred\": 3.298474532283454}, {\"true\": 4.974358974358976, \"pred\": 6.123509185547857}, {\"true\": 4.589999999999999, \"pred\": 3.6492477006621904}, {\"true\": 6.587500000000003, \"pred\": 4.758799330884152}, {\"true\": 7.125555555555556, \"pred\": 5.552361467659148}, {\"true\": 7.009259259259263, \"pred\": 6.843079988420416}, {\"true\": 5.793939393939397, \"pred\": 5.58420034864281}, {\"true\": 2.6370370370370377, \"pred\": 2.9396960652096737}, {\"true\": 6.6462962962962955, \"pred\": 5.930722929486543}, {\"true\": 2.6238095238095247, \"pred\": 4.17819028169225}, {\"true\": 6.0518518518518505, \"pred\": 5.130067383899367}, {\"true\": 5.227083333333334, \"pred\": 5.946264878210205}, {\"true\": 6.950000000000001, \"pred\": 5.439663541449025}, {\"true\": 3.4041666666666694, \"pred\": 5.021759186862673}, {\"true\": 4.8875, \"pred\": 4.027998803010247}, {\"true\": 6.238888888888889, \"pred\": 4.849181724585982}, {\"true\": 7.061111111111117, \"pred\": 4.710057193877506}, {\"true\": 3.7500000000000187, \"pred\": 4.04216430079752}, {\"true\": 2.626190476190481, \"pred\": 2.7123744526581466}, {\"true\": 5.957142857142858, \"pred\": 5.4179364796544665}, {\"true\": 4.882291666666667, \"pred\": 4.733603556951577}, {\"true\": 5.1625000000000085, \"pred\": 3.29051977569551}, {\"true\": 5.346153846153848, \"pred\": 4.884738200890739}, {\"true\": 4.485714285714291, \"pred\": 4.09227879452841}, {\"true\": 5.001282051282052, \"pred\": 4.9849303069149355}, {\"true\": 6.983333333333334, \"pred\": 6.180130009964959}, {\"true\": 4.5680555555555555, \"pred\": 5.193026474156674}, {\"true\": 7.546428571428573, \"pred\": 8.50736649109761}, {\"true\": 4.406666666666669, \"pred\": 4.504933977188963}, {\"true\": 5.170833333333333, \"pred\": 5.000539610054237}, {\"true\": 1.0166666666666688, \"pred\": 2.1081914747476755}, {\"true\": 5.816666666666669, \"pred\": 5.628447194280643}, {\"true\": 5.154761904761907, \"pred\": 5.164598544123466}, {\"true\": 7.958333333333333, \"pred\": 8.386645496357879}, {\"true\": 4.342424242424243, \"pred\": 4.4417576803415635}, {\"true\": 3.8484848484848486, \"pred\": 7.215877152467533}, {\"true\": 5.921212121212122, \"pred\": 5.767443336003145}, {\"true\": 5.533333333333333, \"pred\": 5.175821233290718}, {\"true\": 4.617647058823532, \"pred\": 5.30619999688613}, {\"true\": 4.825000000000003, \"pred\": 3.302572963310893}, {\"true\": 3.3476190476190526, \"pred\": 2.6517285524572882}, {\"true\": 3.9690476190476196, \"pred\": 4.577420865913506}, {\"true\": 4.083333333333333, \"pred\": 4.999461397701941}, {\"true\": 3.4200000000000017, \"pred\": 3.947585394964523}, {\"true\": 4.221794871794875, \"pred\": 5.036621785460854}, {\"true\": 5.475757575757578, \"pred\": 4.599346641417712}, {\"true\": 5.75, \"pred\": 6.001638695115174}, {\"true\": 5.690476190476192, \"pred\": 4.938244167491366}, {\"true\": 3.7696969696969704, \"pred\": 5.941733019463266}, {\"true\": 2.6958333333333377, \"pred\": 2.4359779691491883}, {\"true\": 7.035000000000001, \"pred\": 6.8170251885573085}, {\"true\": 3.6966666666666725, \"pred\": 3.5435318549821115}, {\"true\": 9.093055555555555, \"pred\": 7.961421268965108}, {\"true\": 6.246666666666668, \"pred\": 4.723443261550676}, {\"true\": 5.008333333333351, \"pred\": 2.0931590801468825}, {\"true\": 2.6416666666666697, \"pred\": 3.213250771535088}, {\"true\": 3.478571428571431, \"pred\": 4.99927216531822}, {\"true\": 6.02948717948718, \"pred\": 5.6294225425375375}, {\"true\": 4.226190476190481, \"pred\": 3.9629818563502637}, {\"true\": 6.142708333333333, \"pred\": 5.809191049067607}, {\"true\": 1.9888888888889007, \"pred\": 3.9133903457035415}, {\"true\": 3.290476190476192, \"pred\": 3.0378368929911974}, {\"true\": 2.9416666666666695, \"pred\": 5.433082708728046}, {\"true\": 4.228205128205129, \"pred\": 4.085863217862231}, {\"true\": 5.895238095238099, \"pred\": 4.803558536357149}, {\"true\": 5.635000000000001, \"pred\": 6.145687853903104}, {\"true\": 7.0699999999999985, \"pred\": 6.166394544547612}, {\"true\": 1.7712121212121226, \"pred\": 2.3899599171036154}, {\"true\": 5.308333333333335, \"pred\": 4.576587995871161}, {\"true\": 3.176666666666668, \"pred\": 3.448440222707865}, {\"true\": 1.7928571428571478, \"pred\": 2.566988026694936}, {\"true\": 5.895833333333335, \"pred\": 5.815384959358507}, {\"true\": 6.678787878787879, \"pred\": 6.106029589335181}, {\"true\": 5.798958333333334, \"pred\": 6.019734477250679}, {\"true\": 5.139583333333338, \"pred\": 6.475670630619723}, {\"true\": 5.176041666666666, \"pred\": 5.908595387398311}, {\"true\": 5.152564102564105, \"pred\": 5.646743933463305}, {\"true\": 4.566666666666668, \"pred\": 4.283874120314946}, {\"true\": 4.890476190476191, \"pred\": 5.148781957586971}, {\"true\": 2.2950000000000035, \"pred\": 3.8155798185233714}, {\"true\": 1.9560606060606076, \"pred\": 2.3284953841463794}, {\"true\": 4.154166666666667, \"pred\": 4.103186281145333}, {\"true\": 2.275, \"pred\": 2.64437593062349}, {\"true\": 3.8516666666666675, \"pred\": 4.983581654374499}, {\"true\": 4.415555555555556, \"pred\": 4.590299916991803}, {\"true\": 6.328571428571428, \"pred\": 4.499674417148097}, {\"true\": 2.102777777777779, \"pred\": 2.0578213062021025}, {\"true\": 8.072222222222225, \"pred\": 7.124585902276625}, {\"true\": 8.805128205128208, \"pred\": 8.184224736250648}, {\"true\": 8.398717948717948, \"pred\": 6.891849911395542}, {\"true\": 0.8888888888888947, \"pred\": 2.47492628224445}, {\"true\": 3.172222222222226, \"pred\": 4.312748155447745}, {\"true\": 7.841666666666666, \"pred\": 7.274039978953406}, {\"true\": 2.6312500000000045, \"pred\": 3.089519820202295}, {\"true\": 3.3439393939393938, \"pred\": 5.567273257770384}, {\"true\": 4.466666666666668, \"pred\": 5.330522742322396}, {\"true\": 5.93939393939394, \"pred\": 4.832887326472766}, {\"true\": 4.197619047619048, \"pred\": 4.283434585826093}, {\"true\": 3.1416666666666715, \"pred\": 3.329655850187724}, {\"true\": 2.4866666666666704, \"pred\": 4.275914520981273}, {\"true\": 2.76666666666667, \"pred\": 1.9691749333786435}, {\"true\": 9.333333333333336, \"pred\": 7.959291007577246}, {\"true\": 3.197442310920451e-14, \"pred\": 3.056827481077731}, {\"true\": 8.769047619047619, \"pred\": 7.595184494923038}, {\"true\": 4.920370370370372, \"pred\": 3.8584385396484913}, {\"true\": 3.609722222222222, \"pred\": 4.193113373191028}, {\"true\": 6.270000000000003, \"pred\": 3.857272450902336}, {\"true\": 1.3083333333333391, \"pred\": 2.6878100040676003}, {\"true\": 1.3083333333333391, \"pred\": 2.5519744938942504}, {\"true\": 3.3060606060606093, \"pred\": 3.700226092759659}, {\"true\": 3.4333333333333362, \"pred\": 3.7890988593498447}, {\"true\": 7.300000000000002, \"pred\": 6.640461524904609}, {\"true\": 4.325000000000001, \"pred\": 4.312937969655473}, {\"true\": 10.697222222222223, \"pred\": 6.73404886529924}, {\"true\": 7.278205128205129, \"pred\": 6.14159340121327}, {\"true\": 5.796428571428572, \"pred\": 5.507872399082733}, {\"true\": 7.921428571428572, \"pred\": 7.3915901735663345}, {\"true\": 7.961111111111123, \"pred\": 8.834191896069253}, {\"true\": 4.519607843137257, \"pred\": 5.293628255058542}, {\"true\": 4.423809523809523, \"pred\": 4.825485363814471}, {\"true\": 1.6541666666666708, \"pred\": 2.7074927228139383}, {\"true\": 3.75769230769231, \"pred\": 4.078347872151041}, {\"true\": 3.5404761904761917, \"pred\": 3.0134647606654212}, {\"true\": 7.273076923076924, \"pred\": 6.303160961806397}, {\"true\": 11.800000000000006, \"pred\": 5.793817692394196}, {\"true\": 6.2666666666666675, \"pred\": 4.770207638596691}, {\"true\": 4.185897435897437, \"pred\": 3.9160372552238147}, {\"true\": 6.395833333333336, \"pred\": 5.804951296761348}, {\"true\": 2.2000000000000046, \"pred\": 2.9246819801092223}, {\"true\": 3.1314814814814813, \"pred\": 4.457712720516806}, {\"true\": 6.723333333333334, \"pred\": 6.0529812569027674}, {\"true\": 3.5854166666666667, \"pred\": 4.027668317133631}, {\"true\": 3.0759259259259273, \"pred\": 3.468551402042204}, {\"true\": 6.287500000000001, \"pred\": 5.550891198210041}, {\"true\": 4.653030303030304, \"pred\": 4.859955583448841}, {\"true\": 9.541666666666666, \"pred\": 8.54896179321749}, {\"true\": 4.415555555555556, \"pred\": 4.555436249197192}, {\"true\": 4.483333333333335, \"pred\": 5.2992424445840465}, {\"true\": 5.955555555555557, \"pred\": 5.752227907618339}, {\"true\": 8.28703703703704, \"pred\": 5.93275633514276}, {\"true\": 2.77962962962963, \"pred\": 3.91212324199002}, {\"true\": 6.4944444444444445, \"pred\": 7.149749993931141}, {\"true\": 2.570000000000003, \"pred\": 3.2322894423825113}, {\"true\": 12.027083333333334, \"pred\": 7.033493872017255}, {\"true\": 5.475757575757578, \"pred\": 4.163125759435023}, {\"true\": 0.9055555555555544, \"pred\": 3.6236246109012797}, {\"true\": 6.816666666666671, \"pred\": 4.578178859124255}, {\"true\": 4.419230769230769, \"pred\": 3.8154056772513765}, {\"true\": 4.640277777777778, \"pred\": 5.461400845572834}, {\"true\": 3.5369047619047644, \"pred\": 4.075346106478214}, {\"true\": 6.165555555555557, \"pred\": 5.161347620425164}, {\"true\": 3.860000000000002, \"pred\": 4.245674396341995}, {\"true\": 1.2208333333333368, \"pred\": 3.9522076703366564}, {\"true\": 3.6520833333333345, \"pred\": 4.3779262665862975}, {\"true\": 3.1854166666666712, \"pred\": 2.9868708657348617}, {\"true\": 4.617647058823532, \"pred\": 5.124748357276932}, {\"true\": 5.608974358974359, \"pred\": 3.9447542146980354}, {\"true\": 1.6600000000000015, \"pred\": 2.8443661438574708}, {\"true\": 5.491666666666667, \"pred\": 4.323638493392199}, {\"true\": 6.429487179487182, \"pred\": 5.654216813443551}, {\"true\": 7.5590909090909095, \"pred\": 5.71629737867662}, {\"true\": 6.447435897435899, \"pred\": 6.656040593948552}, {\"true\": 3.760606060606061, \"pred\": 4.60327931861578}, {\"true\": 3.178333333333334, \"pred\": 4.239359460201248}, {\"true\": 2.566666666666669, \"pred\": 3.529287338683862}, {\"true\": 4.746296296296297, \"pred\": 3.650255564445422}, {\"true\": 2.936363636363638, \"pred\": 3.807807781766165}, {\"true\": 7.932142857142856, \"pred\": 6.944639457133681}, {\"true\": 6.053333333333335, \"pred\": 6.337067672087974}, {\"true\": 2.836111111111116, \"pred\": 2.747319731880274}, {\"true\": 3.722222222222223, \"pred\": 4.787106604456242}, {\"true\": 2.422727272727273, \"pred\": 3.998031152523764}, {\"true\": 4.897222222222226, \"pred\": 3.5639164796395706}, {\"true\": 4.846428571428574, \"pred\": 4.9984419792413295}, {\"true\": 4.485714285714291, \"pred\": 4.143455026726411}, {\"true\": 3.9395833333333377, \"pred\": 4.157129815677269}, {\"true\": 8.157407407407408, \"pred\": 6.203161441886148}, {\"true\": 8.447619047619046, \"pred\": 5.068764055374063}, {\"true\": 4.730000000000001, \"pred\": 4.6071451864472674}, {\"true\": 4.751282051282052, \"pred\": 5.093769250979947}, {\"true\": 7.754545454545457, \"pred\": 6.203216446190546}, {\"true\": 3.828571428571429, \"pred\": 6.70270477297079}, {\"true\": 5.19871794871795, \"pred\": 4.939874752157042}, {\"true\": 5.345833333333333, \"pred\": 5.088565618873627}, {\"true\": 5.545, \"pred\": 5.0790847414419265}, {\"true\": 3.043333333333337, \"pred\": 2.7058713852607137}, {\"true\": 1.672222222222227, \"pred\": 4.790603234342781}, {\"true\": 4.106944444444444, \"pred\": 4.086250324608945}, {\"true\": 4.557291666666667, \"pred\": 4.5886886530348745}, {\"true\": 4.02878787878788, \"pred\": 4.617219532146063}, {\"true\": 1.8833333333333322, \"pred\": 3.7118925588466043}, {\"true\": 7.996666666666667, \"pred\": 6.085628570252161}, {\"true\": 1.4666666666666786, \"pred\": 2.6257172478894857}, {\"true\": 1.214814814814818, \"pred\": 2.871880367364196}, {\"true\": 6.575757575757578, \"pred\": 6.494877015020118}, {\"true\": 6.040740740740741, \"pred\": 4.283775399329564}, {\"true\": 0.9833333333333378, \"pred\": 5.764961201521469}, {\"true\": 3.2954545454545463, \"pred\": 4.579434322675011}, {\"true\": 4.987037037037041, \"pred\": 7.656694486477932}, {\"true\": 4.242424242424243, \"pred\": 5.1521970268273405}, {\"true\": 3.2064102564102566, \"pred\": 3.774410422377542}, {\"true\": 4.025000000000009, \"pred\": 4.991254990027423}, {\"true\": 7.297435897435899, \"pred\": 6.998750851913898}, {\"true\": 9.712121212121213, \"pred\": 6.198646575482978}, {\"true\": 9.72888888888889, \"pred\": 9.446255605395864}, {\"true\": 2.854761904761907, \"pred\": 3.9119036253500736}, {\"true\": 7.077272727272729, \"pred\": 6.632199846462464}, {\"true\": 5.173333333333337, \"pred\": 5.169138228403323}, {\"true\": 7.32, \"pred\": 6.673277343200206}, {\"true\": 4.882142857142857, \"pred\": 5.3982285907926215}, {\"true\": 1.0166666666666688, \"pred\": 2.3220512314990502}, {\"true\": 5.088888888888892, \"pred\": 4.736194942843626}, {\"true\": 2.508333333333342, \"pred\": 2.704359788717712}, {\"true\": 3.02666666666667, \"pred\": 4.305337536440491}, {\"true\": 13.769230769230772, \"pred\": 10.775673307897163}, {\"true\": 5.793939393939393, \"pred\": 5.851079494492118}, {\"true\": 4.083333333333333, \"pred\": 4.522855558804242}, {\"true\": 6.113333333333334, \"pred\": 5.4087958541245085}, {\"true\": 5.139583333333338, \"pred\": 4.938388148604964}, {\"true\": 4.516666666666668, \"pred\": 6.188391350635639}, {\"true\": 2.65925925925926, \"pred\": 2.6869845179158562}, {\"true\": 4.915151515151515, \"pred\": 3.992853886897444}, {\"true\": 4.654761904761905, \"pred\": 4.892175890711794}, {\"true\": 6.286904761904765, \"pred\": 5.018535936068287}, {\"true\": 6.460416666666669, \"pred\": 5.050674717990058}, {\"true\": 3.4333333333333362, \"pred\": 4.036513589106692}, {\"true\": 5.553333333333335, \"pred\": 5.332015503967028}, {\"true\": 6.077777777777778, \"pred\": 5.723713540490316}, {\"true\": 10.192222222222222, \"pred\": 8.629008121810267}, {\"true\": 4.495238095238096, \"pred\": 6.429327729210246}, {\"true\": 5.416666666666666, \"pred\": 4.342276173171903}, {\"true\": 6.043750000000005, \"pred\": 6.077923665139935}, {\"true\": 3.613888888888891, \"pred\": 2.74742253394658}, {\"true\": 6.945000000000002, \"pred\": 6.587049820684721}, {\"true\": 6.246666666666674, \"pred\": 4.414945434309361}, {\"true\": 4.4750000000000005, \"pred\": 4.424322025978589}, {\"true\": 2.551515151515155, \"pred\": 2.4364430736974216}, {\"true\": 6.4333333333333345, \"pred\": 6.74801208314702}, {\"true\": 2.3848484848484865, \"pred\": 6.072142103703013}, {\"true\": 6.242857142857142, \"pred\": 6.116772273744481}, {\"true\": 5.532051282051283, \"pred\": 5.2280313960179114}, {\"true\": 2.4296296296296327, \"pred\": 4.263473431365505}, {\"true\": 4.617647058823532, \"pred\": 5.315648624188599}, {\"true\": 7.394444444444446, \"pred\": 7.062073603430113}, {\"true\": 2.6900000000000026, \"pred\": 3.609892245424881}, {\"true\": 6.177083333333334, \"pred\": 5.386941766482917}, {\"true\": 2.422222222222222, \"pred\": 3.0618080166385133}, {\"true\": 4.798809523809524, \"pred\": 5.897887501676966}, {\"true\": 7.556410256410256, \"pred\": 6.723899138476205}, {\"true\": 5.2745098039215685, \"pred\": 5.107729219485002}, {\"true\": 7.841666666666666, \"pred\": 7.964337697075535}, {\"true\": 4.016666666666668, \"pred\": 4.5099029903195476}, {\"true\": 4.941666666666667, \"pred\": 5.042397582156008}, {\"true\": 4.450000000000001, \"pred\": 4.259345809228139}, {\"true\": 6.432142857142859, \"pred\": 5.906448614977877}, {\"true\": 2.156060606060609, \"pred\": 3.79985287540636}, {\"true\": 4.647435897435897, \"pred\": 4.588027868146266}, {\"true\": 3.275925925925927, \"pred\": 2.819526352425073}, {\"true\": 3.888888888888888, \"pred\": 3.4089185348540285}, {\"true\": 3.0111111111111115, \"pred\": 3.3082691681186573}, {\"true\": 5.302777777777784, \"pred\": 4.057248875091507}, {\"true\": 5.926388888888891, \"pred\": 7.444738035771925}, {\"true\": 7.240000000000002, \"pred\": 5.667806822761815}, {\"true\": 5.146875000000001, \"pred\": 5.312639561343235}, {\"true\": 1.5027777777777789, \"pred\": 2.622239939499474}, {\"true\": 7.125757575757576, \"pred\": 6.363562967710747}, {\"true\": 3.6000000000000005, \"pred\": 3.5897419275460454}, {\"true\": 5.592592592592592, \"pred\": 6.242474092207101}, {\"true\": 4.286111111111113, \"pred\": 6.272291567666802}, {\"true\": 2.0875000000000044, \"pred\": 2.610668461866275}, {\"true\": 5.053703703703705, \"pred\": 4.705640303763152}, {\"true\": 5.917777777777777, \"pred\": 5.7753135581593185}, {\"true\": 5.950980392156863, \"pred\": 5.3995802275007785}, {\"true\": 4.244444444444451, \"pred\": 2.4082255216037263}, {\"true\": 3.462500000000001, \"pred\": 5.610064912691811}, {\"true\": 6.963636363636365, \"pred\": 5.817222005795046}, {\"true\": 5.075, \"pred\": 5.505861744036185}, {\"true\": 3.9870370370370387, \"pred\": 3.7813558676202}, {\"true\": 3.934444444444445, \"pred\": 3.5787289995678377}, {\"true\": 2.5166666666666693, \"pred\": 2.0333663840495104}, {\"true\": 3.6428571428571437, \"pred\": 4.056880990333939}, {\"true\": 3.1261904761904766, \"pred\": 3.740996808265567}, {\"true\": 5.912500000000001, \"pred\": 4.9306703144717785}, {\"true\": 5.466666666666667, \"pred\": 5.681159844715536}, {\"true\": 4.182051282051281, \"pred\": 5.355160630931093}, {\"true\": 2.6145833333333375, \"pred\": 4.906641115589522}, {\"true\": 3.5600000000000023, \"pred\": 2.720078873893557}, {\"true\": 3.137500000000009, \"pred\": 3.716955104349992}, {\"true\": 5.397222222222223, \"pred\": 5.729786786511831}, {\"true\": 2.7583333333333515, \"pred\": 2.5920039002976267}, {\"true\": 7.730769230769231, \"pred\": 7.254775542801545}, {\"true\": 4.671428571428573, \"pred\": 4.462477887905717}, {\"true\": 3.9833333333333343, \"pred\": 4.099396205083627}, {\"true\": 2.7933333333333406, \"pred\": 2.669423475697481}, {\"true\": 3.919047619047621, \"pred\": 9.555216014009252}, {\"true\": 6.450000000000003, \"pred\": 6.767899731510255}, {\"true\": 6.610000000000001, \"pred\": 4.340676024083861}, {\"true\": 4.366666666666666, \"pred\": 4.463929144056695}, {\"true\": 5.492857142857145, \"pred\": 5.218570091450418}, {\"true\": 4.5888888888888895, \"pred\": 5.7971267264631505}, {\"true\": 6.735897435897437, \"pred\": 4.45168730958876}, {\"true\": 7.026666666666669, \"pred\": 7.267830640539033}, {\"true\": 3.4680555555555586, \"pred\": 3.7333459975255625}, {\"true\": 2.609523809523814, \"pred\": 2.9553668514098415}, {\"true\": 8.743589743589745, \"pred\": 7.210343223771806}, {\"true\": 4.490000000000002, \"pred\": 5.123097509067502}, {\"true\": 6.678787878787879, \"pred\": 6.353466570527538}, {\"true\": 3.1730769230769225, \"pred\": 3.4535487174151083}, {\"true\": 4.138888888888894, \"pred\": 3.2111513418898974}, {\"true\": 0.9962962962963002, \"pred\": 1.7397592459018245}, {\"true\": 3.7666666666666675, \"pred\": 4.659980145752818}, {\"true\": 4.500000000000001, \"pred\": 6.107526434954196}, {\"true\": 3.41166666666667, \"pred\": 5.991429389339643}, {\"true\": 9.700000000000003, \"pred\": 9.928134727315202}, {\"true\": 5.512962962962966, \"pred\": 4.397099187917001}, {\"true\": 2.836111111111116, \"pred\": 2.435066474327562}, {\"true\": 7.389285714285715, \"pred\": 7.00744407715155}, {\"true\": 2.7428571428571433, \"pred\": 3.8928296998049943}, {\"true\": 4.401666666666667, \"pred\": 5.53610867399302}, {\"true\": 7.339583333333335, \"pred\": 6.861052442880324}, {\"true\": 2.66, \"pred\": 4.331810011570654}, {\"true\": 4.860000000000001, \"pred\": 4.729184219298175}, {\"true\": 2.6166666666666667, \"pred\": 2.9850672181686644}, {\"true\": 5.269696969696971, \"pred\": 6.2276410220272105}, {\"true\": 4.2785714285714285, \"pred\": 4.2694423832635975}, {\"true\": 2.827272727272729, \"pred\": 2.8818458650545584}, {\"true\": 6.404545454545456, \"pred\": 4.709828386371414}, {\"true\": 1.2952380952380997, \"pred\": 3.7054115056375343}, {\"true\": 5.950980392156863, \"pred\": 5.382086433856224}, {\"true\": 2.7136363636363665, \"pred\": 2.581667871441903}, {\"true\": 4.833333333333333, \"pred\": 3.873544493074786}, {\"true\": 4.607575757575759, \"pred\": 4.632111437764825}, {\"true\": 4.5395833333333355, \"pred\": 5.345970284340473}, {\"true\": 3.0037037037037075, \"pred\": 2.971801740350247}, {\"true\": 5.895833333333336, \"pred\": 4.986681081785236}, {\"true\": 6.233333333333334, \"pred\": 7.542794490409937}, {\"true\": 4.486111111111114, \"pred\": 4.413904409221528}, {\"true\": 2.6370370370370377, \"pred\": 3.000318037323324}, {\"true\": 4.761111111111111, \"pred\": 3.6504985102200878}, {\"true\": 1.9500000000000015, \"pred\": 3.9917102307552237}, {\"true\": 3.108333333333334, \"pred\": 4.181718298154333}, {\"true\": 5.900000000000003, \"pred\": 5.099333646907887}, {\"true\": 2.972222222222223, \"pred\": 4.216449974112862}, {\"true\": 4.730000000000001, \"pred\": 5.074741686284123}, {\"true\": 5.1499999999999995, \"pred\": 5.102122288134717}, {\"true\": 3.5541666666666685, \"pred\": 3.5219946607610306}, {\"true\": 5.488333333333334, \"pred\": 4.603867552563222}, {\"true\": 10.254545454545456, \"pred\": 8.707807912430331}, {\"true\": 5.456666666666672, \"pred\": 4.350300970216806}, {\"true\": 2.3988095238095264, \"pred\": 3.850204410365987}, {\"true\": 3.542307692307693, \"pred\": 4.541394759542807}, {\"true\": 4.871875, \"pred\": 5.444773972265955}, {\"true\": 3.9250000000000016, \"pred\": 3.878804887440596}, {\"true\": 6.083333333333332, \"pred\": 5.141948397176316}, {\"true\": 1.214814814814818, \"pred\": 4.136796320173709}, {\"true\": 1.7687500000000012, \"pred\": 3.1655478477654326}, {\"true\": 3.027777777777781, \"pred\": 2.5310657368965046}, {\"true\": 5.4025, \"pred\": 5.1718390923671755}, {\"true\": 4.216666666666668, \"pred\": 4.0470845435998015}, {\"true\": 5.172727272727273, \"pred\": 6.755820517809905}, {\"true\": 6.564285714285716, \"pred\": 3.982520062606217}, {\"true\": 3.573333333333337, \"pred\": 3.1211984579191574}, {\"true\": 2.2619047619047645, \"pred\": 2.219332027520938}, {\"true\": 6.796153846153847, \"pred\": 6.550287156593214}, {\"true\": 1.9527777777777766, \"pred\": 3.0167354094796193}, {\"true\": 5.619444444444446, \"pred\": 5.4968322785947015}, {\"true\": 4.976923076923077, \"pred\": 5.18324205062757}, {\"true\": 9.563888888888895, \"pred\": 6.548420854929586}, {\"true\": 1.7791666666666686, \"pred\": 2.3037674791571003}, {\"true\": 4.277777777777778, \"pred\": 5.15950733457621}, {\"true\": 3.7238095238095257, \"pred\": 3.5184391859700423}, {\"true\": 3.1571428571428575, \"pred\": 3.1609594023018452}, {\"true\": 5.167592592592593, \"pred\": 6.10381302002845}, {\"true\": 5.702380952380953, \"pred\": 5.50099571759714}, {\"true\": 7.120000000000002, \"pred\": 6.503360672265271}, {\"true\": 5.491666666666667, \"pred\": 4.558900306277978}, {\"true\": 6.788461538461541, \"pred\": 5.851923029895656}, {\"true\": 4.26, \"pred\": 3.813430797938015}, {\"true\": 1.893750000000001, \"pred\": 3.190709816952144}, {\"true\": 4.268750000000001, \"pred\": 3.550021686556588}, {\"true\": 5.532222222222221, \"pred\": 3.84864511192793}, {\"true\": 4.23703703703704, \"pred\": 5.105178711401475}, {\"true\": 7.2928571428571445, \"pred\": 5.437420664561463}, {\"true\": 0.6638888888888901, \"pred\": 3.5713800641932902}, {\"true\": 4.19074074074074, \"pred\": 4.155277553880688}, {\"true\": 4.818055555555557, \"pred\": 5.548055898141567}, {\"true\": 5.383333333333335, \"pred\": 6.246997618299482}, {\"true\": 4.5575757575757585, \"pred\": 4.43231692777122}, {\"true\": 4.4750000000000005, \"pred\": 4.262205590425924}, {\"true\": 3.550000000000012, \"pred\": 3.0992749295496744}, {\"true\": 6.121794871794874, \"pred\": 6.509827379227776}, {\"true\": 11.822727272727274, \"pred\": 9.180548448693653}, {\"true\": 7.621111111111113, \"pred\": 8.185430433551705}, {\"true\": 7.177777777777778, \"pred\": 7.054078043930724}, {\"true\": 4.339743589743589, \"pred\": 4.023271799061299}, {\"true\": 4.250000000000002, \"pred\": 5.588271588758841}, {\"true\": 5.658333333333333, \"pred\": 5.99087409457655}, {\"true\": 3.890909090909092, \"pred\": 3.2763652767607}, {\"true\": 5.430769230769231, \"pred\": 4.675165565940243}, {\"true\": 2.306060606060608, \"pred\": 1.9591038949229649}, {\"true\": 2.980000000000001, \"pred\": 7.0430006800992}, {\"true\": 3.3055555555555594, \"pred\": 3.2421595834732684}, {\"true\": 2.9833333333333423, \"pred\": 3.1519759368056044}, {\"true\": 4.200000000000002, \"pred\": 3.839293157888423}, {\"true\": 3.081481481481483, \"pred\": 7.764193862332765}, {\"true\": 4.266666666666677, \"pred\": 4.2848076039187415}, {\"true\": 7.646666666666668, \"pred\": 6.42005313514224}, {\"true\": 4.025000000000003, \"pred\": 3.154420682049677}, {\"true\": 5.500000000000003, \"pred\": 3.7875881511187943}, {\"true\": 5.716666666666667, \"pred\": 5.531705289386182}, {\"true\": 3.770833333333333, \"pred\": 4.295823723009309}, {\"true\": 4.974358974358976, \"pred\": 6.364646500078813}, {\"true\": 1.4633333333333356, \"pred\": 1.4503328645651559}, {\"true\": 3.7857142857142905, \"pred\": 3.3667839272770173}, {\"true\": 8.866666666666667, \"pred\": 6.637336092161092}, {\"true\": 3.6984848484848523, \"pred\": 3.147511128006325}, {\"true\": 6.083333333333332, \"pred\": 7.015382450163122}, {\"true\": 10.067777777777781, \"pred\": 10.186562907532482}, {\"true\": 6.260416666666669, \"pred\": 5.732906178278459}, {\"true\": 3.1133333333333364, \"pred\": 3.2949202488558216}, {\"true\": 5.997777777777778, \"pred\": 5.826500389177244}, {\"true\": 6.698039215686274, \"pred\": 7.5821381517628215}, {\"true\": 3.383333333333333, \"pred\": 4.057137436065105}, {\"true\": 8.125757575757575, \"pred\": 5.388200099251685}, {\"true\": 6.942592592592594, \"pred\": 5.743120918154917}, {\"true\": 3.7574074074074084, \"pred\": 3.4944456668750075}, {\"true\": 2.91666666666667, \"pred\": 4.242324962664749}, {\"true\": 1.841666666666668, \"pred\": 2.111545911396534}, {\"true\": 6.177083333333334, \"pred\": 5.948549094936451}, {\"true\": 4.221111111111112, \"pred\": 4.252182265505483}, {\"true\": 7.045833333333335, \"pred\": 5.8213421422241645}, {\"true\": 3.7696969696969704, \"pred\": 6.015169880415719}, {\"true\": 9.842592592592593, \"pred\": 7.1523845276736076}, {\"true\": 5.255882352941177, \"pred\": 5.808522826892069}, {\"true\": 5.193939393939396, \"pred\": 5.9249124764455825}, {\"true\": 7.914583333333335, \"pred\": 6.186768878036406}, {\"true\": 10.180952380952382, \"pred\": 10.062333561163681}, {\"true\": 3.6814814814814816, \"pred\": 2.9851989190442185}, {\"true\": 5.218055555555557, \"pred\": 6.519977441401843}, {\"true\": 8.22878787878788, \"pred\": 6.705386555996729}, {\"true\": 5.088888888888892, \"pred\": 4.806707772993499}, {\"true\": 4.997619047619048, \"pred\": 5.195331169452804}, {\"true\": 3.0483333333333333, \"pred\": 3.555217419455064}, {\"true\": 1.841666666666668, \"pred\": 2.4655999332447753}, {\"true\": 5.532222222222222, \"pred\": 5.35232452499776}, {\"true\": 4.108333333333336, \"pred\": 6.155558666100039}, {\"true\": 3.533333333333351, \"pred\": 2.876125917698828}, {\"true\": 3.3122222222222244, \"pred\": 4.255715653363599}, {\"true\": 4.414583333333335, \"pred\": 5.790296615259321}, {\"true\": 5.563636363636366, \"pred\": 4.6276819036440076}, {\"true\": 5.576666666666667, \"pred\": 5.0582284022887976}, {\"true\": 5.028571428571429, \"pred\": 4.860070126229987}, {\"true\": 3.6722222222222225, \"pred\": 3.7625309624644943}, {\"true\": 1.4763888888888899, \"pred\": 3.149733126138995}, {\"true\": 4.22, \"pred\": 4.406312986730349}, {\"true\": 5.798958333333334, \"pred\": 6.014992174979662}, {\"true\": 2.2666666666666675, \"pred\": 3.265818372079174}, {\"true\": 4.0166666666666675, \"pred\": 3.3188272025400014}, {\"true\": 3.400000000000002, \"pred\": 3.4974774965834787}, {\"true\": 4.1981481481481495, \"pred\": 4.468100948661285}, {\"true\": 4.890476190476191, \"pred\": 4.781793190241465}, {\"true\": 2.953333333333334, \"pred\": 3.680466633192967}, {\"true\": 2.338888888888895, \"pred\": 1.4294508336182523}, {\"true\": 0.9425925925925933, \"pred\": 3.1649801239817026}, {\"true\": 8.341666666666665, \"pred\": 8.219027422886889}, {\"true\": 7.243939393939397, \"pred\": 6.494759497381068}, {\"true\": 3.567948717948719, \"pred\": 4.504137219763388}, {\"true\": 1.3833333333333688, \"pred\": 3.304893153377651}, {\"true\": 2.833333333333335, \"pred\": 3.0241706678546767}, {\"true\": 3.518750000000001, \"pred\": 3.950728149063791}, {\"true\": 3.572222222222223, \"pred\": 5.283706346284743}, {\"true\": 3.8939393939393954, \"pred\": 4.484952486947799}, {\"true\": 2.4261904761904773, \"pred\": 4.299642423196432}, {\"true\": 4.3595238095238145, \"pred\": 4.631803335074936}, {\"true\": 6.038888888888892, \"pred\": 4.28226482184746}, {\"true\": 4.865833333333334, \"pred\": 6.06439899987338}, {\"true\": 12.077083333333334, \"pred\": 10.271044227884845}, {\"true\": 4.906410256410257, \"pred\": 6.092533561518169}, {\"true\": 6.172727272727273, \"pred\": 5.199293337270276}, {\"true\": 3.725, \"pred\": 3.8486190285342436}, {\"true\": 6.855555555555555, \"pred\": 5.39189615509878}, {\"true\": 3.4500000000000015, \"pred\": 4.095253930458287}, {\"true\": 3.2763888888888917, \"pred\": 5.010879693913821}, {\"true\": 2.804444444444447, \"pred\": 3.906600655616195}, {\"true\": 7.038333333333334, \"pred\": 6.592206573881605}, {\"true\": 5.586111111111111, \"pred\": 4.519382734946086}, {\"true\": 5.623333333333333, \"pred\": 5.5284754822687745}, {\"true\": 3.664285714285715, \"pred\": 3.5724816760468547}, {\"true\": 2.948148148148149, \"pred\": 3.205686012445965}, {\"true\": 5.628205128205129, \"pred\": 5.39529625061484}, {\"true\": 5.7205128205128215, \"pred\": 4.99875104054811}, {\"true\": 2.1733333333333347, \"pred\": 2.777030899909907}, {\"true\": 3.6861111111111113, \"pred\": 4.67361394008764}, {\"true\": 6.752083333333336, \"pred\": 6.837062362275318}, {\"true\": 2.6333333333333493, \"pred\": 3.880054328454027}, {\"true\": 6.230000000000001, \"pred\": 4.981287250797009}, {\"true\": 6.760416666666668, \"pred\": 6.28689781785984}, {\"true\": 8.866666666666667, \"pred\": 4.642618279863769}, {\"true\": 3.2900000000000014, \"pred\": 3.8417933196812895}, {\"true\": 3.656410256410258, \"pred\": 4.819019881948703}, {\"true\": 4.711111111111113, \"pred\": 2.810113769324358}, {\"true\": 5.53787878787879, \"pred\": 5.383620470424481}, {\"true\": 5.837037037037039, \"pred\": 5.946296303571647}, {\"true\": 4.322916666666669, \"pred\": 4.487260017823536}, {\"true\": 3.623611111111114, \"pred\": 3.9330512006877387}, {\"true\": 7.166666666666668, \"pred\": 5.916485153425526}, {\"true\": 3.5062500000000005, \"pred\": 4.212304560574779}, {\"true\": 3.1916666666666673, \"pred\": 3.545759257816394}, {\"true\": 3.0296296296296337, \"pred\": 4.157493742394433}, {\"true\": 5.545454545454547, \"pred\": 3.959750408028499}, {\"true\": 4.3211111111111125, \"pred\": 4.8827198815316}, {\"true\": 5.6, \"pred\": 4.837281667228702}, {\"true\": 10.437777777777777, \"pred\": 8.091019034365017}, {\"true\": 4.94583333333334, \"pred\": 2.32037783761331}, {\"true\": 2.9111111111111163, \"pred\": 2.7913819161363946}, {\"true\": 5.350000000000001, \"pred\": 4.907676393781826}, {\"true\": 4.777083333333334, \"pred\": 3.5955971851225126}, {\"true\": 5.014285714285715, \"pred\": 5.632689883217081}, {\"true\": 3.21969696969697, \"pred\": 6.034014484350643}, {\"true\": 3.4333333333333367, \"pred\": 5.897357855204913}, {\"true\": 6.1, \"pred\": 4.293828628555146}, {\"true\": 4.788888888888893, \"pred\": 6.138732434239491}, {\"true\": 1.4833333333333365, \"pred\": 2.4323176012479406}, {\"true\": 7.987719298245615, \"pred\": 6.732528739832658}, {\"true\": 1.1300000000000037, \"pred\": 1.3982008405777702}, {\"true\": 7.389285714285715, \"pred\": 7.126829068890856}, {\"true\": 7.972222222222224, \"pred\": 6.54807556279119}, {\"true\": 6.735897435897437, \"pred\": 5.5472341908243825}, {\"true\": 2.0777777777777837, \"pred\": 2.214542117094957}, {\"true\": 6.553333333333335, \"pred\": 4.620475134627458}, {\"true\": 4.172916666666671, \"pred\": 3.529421877330315}, {\"true\": 5.15897435897436, \"pred\": 5.186636670259808}, {\"true\": 11.022222222222224, \"pred\": 7.2783818880495454}, {\"true\": 1.7763568394002505e-14, \"pred\": 2.422712328473581}, {\"true\": 6.090909090909093, \"pred\": 4.222160855895851}, {\"true\": 3.116666666666667, \"pred\": 4.17209730847929}, {\"true\": 6.603571428571429, \"pred\": 4.8529596208554375}, {\"true\": 3.7116666666666673, \"pred\": 3.721789825812458}, {\"true\": 6.139583333333338, \"pred\": 5.21750817868786}, {\"true\": 5.329761904761905, \"pred\": 5.440813397978004}, {\"true\": 3.0083333333333337, \"pred\": 4.8047818682324115}, {\"true\": 3.106666666666667, \"pred\": 4.00836133325989}, {\"true\": 1.1476190476190475, \"pred\": 3.304223204628299}, {\"true\": 6.455555555555567, \"pred\": 4.293035042634804}, {\"true\": 7.045833333333335, \"pred\": 6.023539994525797}, {\"true\": 3.8756410256410283, \"pred\": 4.401182143011269}, {\"true\": 2.6972222222222286, \"pred\": 3.0028718627944126}, {\"true\": 3.347916666666668, \"pred\": 4.470060278255039}, {\"true\": 3.3547619047619093, \"pred\": 4.131668784364391}, {\"true\": 3.7250000000000023, \"pred\": 4.424796101701387}, {\"true\": 3.9273809523809535, \"pred\": 4.7822571809826595}, {\"true\": 4.696428571428572, \"pred\": 4.656152929636653}, {\"true\": 7.3854166666666705, \"pred\": 6.572902091659652}, {\"true\": 3.100000000000003, \"pred\": 2.4303633198251866}, {\"true\": 3.574074074074076, \"pred\": 3.6353503224973998}, {\"true\": 4.989285714285716, \"pred\": 4.868085894745714}, {\"true\": 3.828571428571429, \"pred\": 4.95333305133364}, {\"true\": 5.700000000000004, \"pred\": 4.40034241651059}, {\"true\": 3.760606060606061, \"pred\": 4.902483332509199}, {\"true\": 1.5000000000000064, \"pred\": 5.140786269545573}, {\"true\": 3.0625000000000027, \"pred\": 4.507832329775999}, {\"true\": 8.22878787878788, \"pred\": 6.101393155125965}, {\"true\": 5.552564102564105, \"pred\": 4.18351807011585}, {\"true\": 3.652777777777781, \"pred\": 3.9070391771130897}, {\"true\": 2.133333333333335, \"pred\": 4.5171026141141315}, {\"true\": 2.6916666666666664, \"pred\": 3.7130090652430643}, {\"true\": 8.72051282051282, \"pred\": 5.962500531890369}, {\"true\": 5.014285714285715, \"pred\": 5.624745321608948}, {\"true\": 6.945000000000002, \"pred\": 6.195347902286079}, {\"true\": 8.913888888888888, \"pred\": 8.137183660283007}, {\"true\": 3.6666666666666687, \"pred\": 3.0211061465122464}, {\"true\": 5.382142857142857, \"pred\": 4.133530808368759}, {\"true\": 2.733333333333335, \"pred\": 3.0378779377452}, {\"true\": 3.5333333333333345, \"pred\": 5.63624988899302}, {\"true\": 3.6861111111111113, \"pred\": 4.573857769439313}, {\"true\": 2.025925925925928, \"pred\": 2.1418523041571818}, {\"true\": 16.11794871794872, \"pred\": 13.684810086894823}, {\"true\": 3.705555555555559, \"pred\": 2.8171394080900907}, {\"true\": 5.475, \"pred\": 4.82872502584143}, {\"true\": 3.7733333333333325, \"pred\": 4.0185169230641815}, {\"true\": 6.0256410256410255, \"pred\": 5.6598527428371135}, {\"true\": 4.061666666666669, \"pred\": 3.5426847831445403}, {\"true\": 5.435416666666668, \"pred\": 4.790932851784101}, {\"true\": 5.848717948717948, \"pred\": 5.272358178329942}, {\"true\": 3.770833333333333, \"pred\": 3.6230902936861002}, {\"true\": 2.9666666666666672, \"pred\": 3.510098088348515}, {\"true\": 3.924358974358977, \"pred\": 4.732832945362599}, {\"true\": 4.602564102564103, \"pred\": 5.234313143359849}, {\"true\": 3.1958333333333355, \"pred\": 4.229044273389377}, {\"true\": 2.911111111111111, \"pred\": 4.297438166958569}, {\"true\": 4.602564102564103, \"pred\": 4.850352178067665}, {\"true\": 2.364583333333336, \"pred\": 2.5171860913147284}, {\"true\": 3.6750000000000025, \"pred\": 4.15703589940349}, {\"true\": 4.102083333333335, \"pred\": 4.328088131567496}, {\"true\": 6.9742424242424255, \"pred\": 7.300237425910596}, {\"true\": 4.587500000000001, \"pred\": 4.4180871057144895}, {\"true\": 5.1000000000000005, \"pred\": 4.7932565453691485}, {\"true\": 4.784722222222222, \"pred\": 4.988362340363662}, {\"true\": 4.158333333333337, \"pred\": 4.169521690419477}, {\"true\": 5.8969696969697, \"pred\": 4.714827638300135}, {\"true\": 6.081250000000002, \"pred\": 5.327198016995024}, {\"true\": 1.1555555555555603, \"pred\": 1.7055764436579457}, {\"true\": 0.38333333333333613, \"pred\": 2.8745309431161985}, {\"true\": 7.938095238095242, \"pred\": 7.760803672038575}, {\"true\": 1.7791666666666686, \"pred\": 3.011069532374996}, {\"true\": 3.277083333333333, \"pred\": 3.6823930905399243}, {\"true\": 3.5638888888888896, \"pred\": 4.253440498526738}, {\"true\": 5.357142857142857, \"pred\": 5.568528711979405}, {\"true\": 8.021875000000001, \"pred\": 7.452127271981975}, {\"true\": 5.676666666666668, \"pred\": 5.200078015526893}, {\"true\": 1.6066666666666656, \"pred\": 3.0570919820748657}, {\"true\": 7.730769230769231, \"pred\": 7.3997641134697645}, {\"true\": 6.101666666666667, \"pred\": 6.260308950226502}, {\"true\": 6.333333333333335, \"pred\": 6.155052403346848}, {\"true\": 2.9348484848484846, \"pred\": 4.1795754779136685}, {\"true\": 5.5196078431372575, \"pred\": 5.6616045193866675}, {\"true\": 4.762820512820513, \"pred\": 4.506074916671503}, {\"true\": 3.143333333333336, \"pred\": 5.3891469761005}, {\"true\": 3.9733333333333336, \"pred\": 6.880478717802922}, {\"true\": 3.5333333333333345, \"pred\": 6.296924837787167}, {\"true\": 3.071794871794874, \"pred\": 3.563345546600026}, {\"true\": 7.574074074074076, \"pred\": 4.050569961316773}, {\"true\": 8.511111111111115, \"pred\": 4.9888300202948574}, {\"true\": 4.00909090909091, \"pred\": 4.76511610436477}, {\"true\": 6.8111111111111144, \"pred\": 6.129590392263677}, {\"true\": 4.95, \"pred\": 4.086394717804093}, {\"true\": 1.1033333333333333, \"pred\": 2.569076589336874}, {\"true\": 0.9861111111111135, \"pred\": 1.4738573419252907}, {\"true\": 6.747619047619049, \"pred\": 6.278700173130835}, {\"true\": 6.931481481481483, \"pred\": 4.115339345234108}, {\"true\": 2.433333333333338, \"pred\": 2.5693165787567915}, {\"true\": 2.8533333333333335, \"pred\": 3.5202144029132825}, {\"true\": 5.543750000000003, \"pred\": 3.955054537748543}, {\"true\": 5.0166666666666675, \"pred\": 5.306253104648318}, {\"true\": 4.6, \"pred\": 3.62240762213968}, {\"true\": 5.218055555555557, \"pred\": 6.153202691550956}, {\"true\": 7.25, \"pred\": 4.969063731434659}, {\"true\": 4.617647058823532, \"pred\": 5.462838520991706}, {\"true\": 4.9384615384615405, \"pred\": 4.929474189966214}, {\"true\": 4.915151515151515, \"pred\": 3.5358210188893153}, {\"true\": 6.229629629629631, \"pred\": 5.912457237674775}, {\"true\": 2.795833333333335, \"pred\": 3.610776574379092}, {\"true\": 6.712962962962965, \"pred\": 6.020953165858699}, {\"true\": 6.4944444444444445, \"pred\": 6.802503024579969}, {\"true\": 1.4333333333333376, \"pred\": 2.4207374611712167}, {\"true\": 2.222222222222226, \"pred\": 2.6739896020569742}, {\"true\": 4.746969696969699, \"pred\": 5.896994028870154}, {\"true\": 5.950980392156863, \"pred\": 5.415753817638817}, {\"true\": 3.178333333333334, \"pred\": 4.317658685496613}, {\"true\": 3.4472222222222233, \"pred\": 3.7584065383902345}, {\"true\": 2.3888888888888897, \"pred\": 4.001565902808567}, {\"true\": 4.841025641025643, \"pred\": 4.387221148090336}, {\"true\": 3.9472222222222246, \"pred\": 4.9612804279685925}, {\"true\": 8.458333333333334, \"pred\": 6.8971390333610545}, {\"true\": 4.555555555555559, \"pred\": 4.603541475426613}, {\"true\": 6.140277777777778, \"pred\": 5.526118274050431}, {\"true\": 2.433333333333338, \"pred\": 2.552988536276681}, {\"true\": 4.796428571428572, \"pred\": 4.467228390973948}, {\"true\": 3.6550000000000034, \"pred\": 5.333042121894238}, {\"true\": 5.010416666666669, \"pred\": 5.546741595365562}, {\"true\": 6.292424242424243, \"pred\": 6.385059433987649}, {\"true\": 2.066666666666672, \"pred\": 2.649380409537913}, {\"true\": 4.809375000000001, \"pred\": 4.822737594110792}, {\"true\": 6.1439393939393945, \"pred\": 5.685179552338817}, {\"true\": 6.855555555555555, \"pred\": 4.890033869178545}, {\"true\": 4.777083333333334, \"pred\": 3.5333070819143813}, {\"true\": 6.546153846153849, \"pred\": 6.708247222213107}, {\"true\": 4.064285714285714, \"pred\": 4.669541858350626}, {\"true\": 4.497435897435899, \"pred\": 5.109981165537464}, {\"true\": 3.103921568627453, \"pred\": 3.799733236437105}, {\"true\": 6.303846153846157, \"pred\": 4.567563768471506}, {\"true\": 4.659090909090913, \"pred\": 6.464585189978532}, {\"true\": 4.19074074074074, \"pred\": 4.13389569431232}, {\"true\": 2.8343750000000005, \"pred\": 4.578865926437106}, {\"true\": 5.994047619047621, \"pred\": 4.4489435442806675}, {\"true\": 3.573333333333337, \"pred\": 3.7447218916196676}, {\"true\": 3.4685185185185214, \"pred\": 3.608565215301544}, {\"true\": 7.581481481481485, \"pred\": 6.72083655347339}, {\"true\": 1.9500000000000002, \"pred\": 2.8669062579237776}, {\"true\": 5.308333333333335, \"pred\": 5.260337907438097}, {\"true\": 5.6, \"pred\": 4.523181103682655}, {\"true\": 5.041666666666671, \"pred\": 4.951257612716938}, {\"true\": 3.598611111111113, \"pred\": 3.1444105960593483}, {\"true\": 5.634722222222224, \"pred\": 5.395870311657399}, {\"true\": 8.257142857142858, \"pred\": 6.754971482873369}, {\"true\": 4.812820512820515, \"pred\": 5.2130045696141964}, {\"true\": 6.6800000000000015, \"pred\": 5.677644893493243}, {\"true\": 1.8400000000000039, \"pred\": 4.121263043913309}, {\"true\": 6.430303030303031, \"pred\": 6.176848832167751}, {\"true\": 2.225000000000009, \"pred\": 2.0441369865141525}, {\"true\": 6.622222222222234, \"pred\": 4.214928536283065}, {\"true\": 6.185714285714289, \"pred\": 5.291603889496433}, {\"true\": 5.44166666666667, \"pred\": 5.823122082615344}, {\"true\": 4.506250000000001, \"pred\": 4.237418864415014}, {\"true\": 2.691666666666672, \"pred\": 1.7793440774411104}, {\"true\": 5.834722222222223, \"pred\": 5.39490662347307}, {\"true\": 6.900000000000003, \"pred\": 6.143031391933079}, {\"true\": 11.279487179487178, \"pred\": 6.867838239872415}, {\"true\": 5.491666666666671, \"pred\": 4.733293263982921}, {\"true\": 5.064814814814815, \"pred\": 4.8876405882189}, {\"true\": 1.584848484848488, \"pred\": 3.6380762842505927}, {\"true\": 4.818055555555557, \"pred\": 7.253889672939524}, {\"true\": 5.635000000000001, \"pred\": 5.659694903404428}, {\"true\": 7.202380952380953, \"pred\": 4.44394690873491}, {\"true\": 3.303333333333336, \"pred\": 3.332547424869743}, {\"true\": 5.535, \"pred\": 4.997475053595162}, {\"true\": 6.354166666666668, \"pred\": 5.544510159584451}, {\"true\": 4.976923076923077, \"pred\": 5.192333062614237}, {\"true\": 3.8142857142857145, \"pred\": 4.074953415219745}, {\"true\": 7.635416666666668, \"pred\": 6.084691194374269}, {\"true\": 2.6923076923076925, \"pred\": 4.3037273849200375}, {\"true\": 3.1777777777777785, \"pred\": 3.8270859534321393}, {\"true\": 4.737037037037041, \"pred\": 7.17767637368494}, {\"true\": 3.233333333333335, \"pred\": 4.195272630957336}, {\"true\": 3.487500000000001, \"pred\": 4.344332868018159}, {\"true\": 6.005000000000004, \"pred\": 5.516045179388583}, {\"true\": 8.336111111111114, \"pred\": 7.043258303800367}, {\"true\": 3.987878787878788, \"pred\": 3.4089861977544307}, {\"true\": 2.2416666666666676, \"pred\": 3.0434220468670516}, {\"true\": 2.8454545454545443, \"pred\": 3.98529501906379}, {\"true\": 4.942592592592593, \"pred\": 6.671435921521038}, {\"true\": 3.2821428571428584, \"pred\": 2.9759205023502937}, {\"true\": 4.708333333333337, \"pred\": 4.63531356032215}, {\"true\": 2.973333333333334, \"pred\": 3.16011160998004}, {\"true\": 7.841666666666666, \"pred\": 6.816936698757488}, {\"true\": 4.96, \"pred\": 4.204881119246355}, {\"true\": 1.3023809523809535, \"pred\": 3.7854188607618533}, {\"true\": 5.012500000000001, \"pred\": 4.50705415186554}, {\"true\": 6.658333333333336, \"pred\": 6.475031504784389}, {\"true\": 4.311111111111112, \"pred\": 4.77909616450501}, {\"true\": 3.580555555555558, \"pred\": 3.128817445943943}, {\"true\": 1.9500000000000044, \"pred\": 2.543654701178644}, {\"true\": 8.743589743589745, \"pred\": 7.0416765397040715}, {\"true\": 2.552777777777784, \"pred\": 2.9340851848759217}, {\"true\": 2.6083333333333334, \"pred\": 3.3282285065636668}, {\"true\": 3.466666666666678, \"pred\": 3.857757282052811}, {\"true\": 12.15, \"pred\": 6.228810092600768}, {\"true\": 0.8000000000000119, \"pred\": 2.117551755072641}, {\"true\": 5.834444444444445, \"pred\": 6.403513097348882}, {\"true\": 4.938095238095238, \"pred\": 4.888655414043175}, {\"true\": 5.658333333333337, \"pred\": 5.579537195084751}, {\"true\": 8.15, \"pred\": 5.758625398428917}, {\"true\": 5.390000000000002, \"pred\": 4.901230822442681}, {\"true\": 10.575641025641026, \"pred\": 6.736252017578261}, {\"true\": 4.770512820512821, \"pred\": 5.405854566826982}, {\"true\": 4.5654761904761925, \"pred\": 4.349121900441108}, {\"true\": 6.443333333333333, \"pred\": 6.149729846423491}, {\"true\": 3.3958333333333353, \"pred\": 3.4755323370037945}, {\"true\": 5.3916666666666675, \"pred\": 6.264563614144055}, {\"true\": 4.584210526315791, \"pred\": 4.7495376366858375}, {\"true\": 6.4944444444444445, \"pred\": 7.028913768390695}, {\"true\": 4.544444444444445, \"pred\": 3.80544059104429}, {\"true\": 5.93939393939394, \"pred\": 5.706904355929016}, {\"true\": 4.700000000000001, \"pred\": 6.186006557343502}, {\"true\": 10.993333333333334, \"pred\": 8.854751975196704}, {\"true\": 5.107142857142859, \"pred\": 7.591559170758734}, {\"true\": 2.6923076923076925, \"pred\": 4.540681989079384}, {\"true\": 3.0013888888888896, \"pred\": 4.286561573027653}, {\"true\": 0.8055555555555675, \"pred\": 0.7396185143775501}, {\"true\": 3.7952380952380977, \"pred\": 4.651329789168805}, {\"true\": 6.795833333333336, \"pred\": 5.937247452640192}, {\"true\": 3.7309523809523832, \"pred\": 4.1812688989697016}, {\"true\": 2.8166666666666687, \"pred\": 3.260057344023242}, {\"true\": 6.686904761904762, \"pred\": 5.2547791132357}, {\"true\": 3.9833333333333365, \"pred\": 4.766452575621859}, {\"true\": 5.793939393939397, \"pred\": 4.517358964291886}, {\"true\": 3.27916666666667, \"pred\": 3.58665940661913}, {\"true\": 6.262500000000001, \"pred\": 5.5038485795119145}, {\"true\": 6.330000000000003, \"pred\": 5.081665387264439}, {\"true\": 2.7240740740740774, \"pred\": 2.5316056475420425}, {\"true\": 3.840277777777778, \"pred\": 3.6439893066005062}, {\"true\": 7.81851851851852, \"pred\": 6.181241777717641}, {\"true\": 4.550000000000003, \"pred\": 3.9513392398482923}, {\"true\": 4.853333333333334, \"pred\": 5.428228573113056}, {\"true\": 6.725000000000003, \"pred\": 6.956466348113603}, {\"true\": 4.890000000000003, \"pred\": 4.456985193437124}, {\"true\": 8.975925925925928, \"pred\": 6.193591781149748}, {\"true\": 3.1348484848484848, \"pred\": 4.071358094324896}, {\"true\": 13.753333333333336, \"pred\": 6.301061579552037}, {\"true\": 5.156944444444448, \"pred\": 5.584286155047441}, {\"true\": 5.866666666666667, \"pred\": 5.727197152585367}, {\"true\": 2.025925925925928, \"pred\": 1.9115048076553034}, {\"true\": 3.622222222222223, \"pred\": 3.3319446534329065}, {\"true\": 4.796428571428572, \"pred\": 5.307282093628339}, {\"true\": 5.8383333333333365, \"pred\": 5.852517558275163}, {\"true\": 5.14871794871795, \"pred\": 4.203668022112013}, {\"true\": 2.4296296296296327, \"pred\": 4.405544722690658}, {\"true\": 3.2530303030303034, \"pred\": 4.163659503950965}, {\"true\": 8.908333333333333, \"pred\": 9.259390552397356}, {\"true\": 5.15606060606061, \"pred\": 4.539475935957287}, {\"true\": 2.858333333333337, \"pred\": 3.193407039556001}, {\"true\": 5.020370370370374, \"pred\": 5.361178338741579}, {\"true\": 4.037878787878789, \"pred\": 4.699688855997933}, {\"true\": 5.176041666666666, \"pred\": 6.7027889218632986}, {\"true\": 4.400000000000002, \"pred\": 4.268459822125716}, {\"true\": 6.448333333333333, \"pred\": 6.489344847700929}, {\"true\": 9.784848484848487, \"pred\": 7.056127334202198}, {\"true\": 7.0699999999999985, \"pred\": 5.1671387523120185}, {\"true\": 2.606666666666667, \"pred\": 2.7503043134392606}, {\"true\": 6.498333333333335, \"pred\": 7.094043163628406}, {\"true\": 5.350000000000001, \"pred\": 5.152591832578372}, {\"true\": 3.6666666666666687, \"pred\": 3.8605369941975813}, {\"true\": 8.125757575757575, \"pred\": 5.3085328168785475}, {\"true\": 8.398717948717948, \"pred\": 7.758487345489479}, {\"true\": 7.137179487179489, \"pred\": 5.265236875928057}, {\"true\": 3.0015151515151532, \"pred\": 3.093321773862739}, {\"true\": 5.491666666666671, \"pred\": 6.250481914155376}, {\"true\": 3.3425925925925966, \"pred\": 3.0375446349038486}, {\"true\": 2.1500000000000026, \"pred\": 3.6986762237542545}, {\"true\": 3.5958333333333345, \"pred\": 5.119064186844011}, {\"true\": 9.162222222222224, \"pred\": 10.956125886767989}, {\"true\": 5.1177777777777775, \"pred\": 4.589181486389835}, {\"true\": 2.761111111111111, \"pred\": 3.8997758918773}, {\"true\": 2.966666666666668, \"pred\": 3.3107231545919147}, {\"true\": 4.610000000000004, \"pred\": 5.56808487219858}, {\"true\": 5.258333333333333, \"pred\": 5.908871517444092}, {\"true\": 0.6638888888888901, \"pred\": 4.728422403261683}, {\"true\": 5.029999999999999, \"pred\": 4.832625246282605}, {\"true\": 2.833333333333335, \"pred\": 4.0205123974088455}, {\"true\": 4.079487179487182, \"pred\": 3.756986515662623}, {\"true\": 2.66, \"pred\": 3.338853599216056}, {\"true\": 5.351111111111112, \"pred\": 5.096148430356761}, {\"true\": 5.954901960784314, \"pred\": 5.858621057160724}, {\"true\": 8.172222222222224, \"pred\": 5.762378097582774}, {\"true\": 2.0535714285714284, \"pred\": 5.094490469070168}, {\"true\": 1.9888888888889007, \"pred\": 2.785628225721326}, {\"true\": 4.423809523809523, \"pred\": 4.775902645257006}, {\"true\": 2.222222222222226, \"pred\": 2.3370946635511287}, {\"true\": 5.1625000000000005, \"pred\": 5.224067219788304}, {\"true\": 6.48541666666667, \"pred\": 5.940953145148831}, {\"true\": 6.121794871794874, \"pred\": 6.84331988156087}, {\"true\": 3.0979166666666678, \"pred\": 3.8978688674953244}, {\"true\": 6.4041666666666694, \"pred\": 4.99810927738487}, {\"true\": 4.158823529411766, \"pred\": 5.211160846867913}, {\"true\": 2.8666666666666676, \"pred\": 3.3670889871078513}, {\"true\": 3.4583333333333344, \"pred\": 3.0063026180309915}, {\"true\": 3.591666666666665, \"pred\": 6.018123457782112}, {\"true\": 3.319444444444445, \"pred\": 4.601277887586285}, {\"true\": 9.17857142857143, \"pred\": 6.784678531253245}, {\"true\": 4.397222222222223, \"pred\": 5.262684300485957}, {\"true\": 4.680952380952384, \"pred\": 4.699673479265436}, {\"true\": 4.387500000000001, \"pred\": 5.154162532280144}, {\"true\": 2.187500000000001, \"pred\": 3.5170983840453633}, {\"true\": 4.9512820512820515, \"pred\": 4.883494808225518}, {\"true\": 3.071794871794874, \"pred\": 3.394520361959087}, {\"true\": 3.1236111111111122, \"pred\": 3.4455801883996364}, {\"true\": 9.593333333333337, \"pred\": 6.8101882371011495}, {\"true\": 1.2041666666666704, \"pred\": 2.487344635347226}, {\"true\": 6.333333333333335, \"pred\": 6.387329122124555}, {\"true\": 5.063095238095241, \"pred\": 5.523988584857981}, {\"true\": 5.133333333333335, \"pred\": 4.934736287789897}, {\"true\": 4.738461538461541, \"pred\": 3.90627306572405}, {\"true\": 4.448717948717952, \"pred\": 3.8825119114693774}, {\"true\": 16.11794871794872, \"pred\": 12.57050190749552}, {\"true\": 4.868518518518519, \"pred\": 4.805318802875462}, {\"true\": 8.893137254901962, \"pred\": 9.013870492376725}, {\"true\": 4.640277777777778, \"pred\": 5.548711249563804}, {\"true\": 6.345833333333334, \"pred\": 6.393515147230146}, {\"true\": 5.053703703703705, \"pred\": 4.581307434325175}, {\"true\": 6.61, \"pred\": 5.9986070282539545}, {\"true\": 5.103030303030303, \"pred\": 4.417320087872157}, {\"true\": 1.404761904761905, \"pred\": 3.534669600870957}, {\"true\": 3.3083333333333345, \"pred\": 4.591539489594774}, {\"true\": 6.455555555555558, \"pred\": 4.235083113183904}, {\"true\": 6.641666666666675, \"pred\": 2.240161377055258}, {\"true\": 4.730000000000001, \"pred\": 4.649043270495611}, {\"true\": 7.967948717948719, \"pred\": 6.230138249229377}, {\"true\": 5.7022222222222245, \"pred\": 6.1639812230989}, {\"true\": 6.46818181818182, \"pred\": 4.605366121268901}, {\"true\": 2.306060606060608, \"pred\": 2.439790715312991}, {\"true\": 2.3250000000000037, \"pred\": 3.5599313752014874}, {\"true\": 5.655952380952383, \"pred\": 5.678507243949471}, {\"true\": 4.140000000000001, \"pred\": 3.1791454567324604}, {\"true\": 9.784848484848487, \"pred\": 7.2142233976525345}, {\"true\": 6.333333333333336, \"pred\": 5.748235157226286}, {\"true\": 4.044047619047619, \"pred\": 6.317884873547026}, {\"true\": 6.221111111111112, \"pred\": 4.666658775001278}, {\"true\": 3.458333333333335, \"pred\": 3.7249056293705407}, {\"true\": 2.378571428571429, \"pred\": 2.9885222685720603}, {\"true\": 5.235555555555556, \"pred\": 3.973556254311242}, {\"true\": 3.7499999999999987, \"pred\": 5.00105384641114}, {\"true\": 4.779761904761907, \"pred\": 4.603886895210343}, {\"true\": 7.400000000000004, \"pred\": 4.498339736459458}, {\"true\": 5.652564102564106, \"pred\": 5.018957269673306}, {\"true\": 6.014285714285714, \"pred\": 5.64826514471043}, {\"true\": 9.76794871794872, \"pred\": 6.120274742082141}, {\"true\": 1.835714285714291, \"pred\": 3.116239480481259}, {\"true\": 6.756410256410257, \"pred\": 6.028632678285104}, {\"true\": 9.72888888888889, \"pred\": 9.5160170058447}, {\"true\": 3.888888888888888, \"pred\": 3.837525873042047}, {\"true\": 2.058333333333339, \"pred\": 4.351555176912393}, {\"true\": 3.118750000000001, \"pred\": 3.2665462542716153}, {\"true\": 4.308333333333339, \"pred\": 4.293410543794474}, {\"true\": 3.151388888888889, \"pred\": 4.406134262988518}, {\"true\": 5.5269230769230795, \"pred\": 5.653989634408395}, {\"true\": 7.817857142857143, \"pred\": 6.673673772205855}, {\"true\": 3.9766666666666675, \"pred\": 3.8705622615486943}, {\"true\": 3.552713678800501e-14, \"pred\": 1.5306091556056582}, {\"true\": 2.1291666666666704, \"pred\": 4.4493660824877646}, {\"true\": 0.8722222222222281, \"pred\": 3.321054124303432}, {\"true\": 7.546428571428573, \"pred\": 8.246931915783945}, {\"true\": 3.6416666666666724, \"pred\": 3.829310405590795}, {\"true\": 4.1708333333333405, \"pred\": 3.39919287253011}, {\"true\": 2.111904761904767, \"pred\": 2.1671588889959557}, {\"true\": 8.256666666666666, \"pred\": 6.814821445864294}, {\"true\": 9.712121212121213, \"pred\": 6.396876098321517}, {\"true\": 3.650000000000008, \"pred\": 3.35595020524291}, {\"true\": 4.661666666666669, \"pred\": 5.746490755792267}, {\"true\": 0.7566666666666702, \"pred\": 4.041916193095286}, {\"true\": 8.322222222222228, \"pred\": 6.822640676587233}, {\"true\": 2.5976190476190504, \"pred\": 4.331573014964838}, {\"true\": 2.7166666666666663, \"pred\": 3.534085428528524}, {\"true\": 3.3888888888888897, \"pred\": 5.049832360002873}, {\"true\": 4.325000000000001, \"pred\": 4.83710642089727}, {\"true\": 6.742592592592595, \"pred\": 6.024218931021801}, {\"true\": 5.8583333333333325, \"pred\": 5.663542901700733}, {\"true\": 3.088235294117648, \"pred\": 3.212975046255998}, {\"true\": 4.111538461538464, \"pred\": 4.841814430062933}, {\"true\": 6.698039215686274, \"pred\": 6.795599152877491}, {\"true\": 10.437777777777777, \"pred\": 6.7836669489431936}, {\"true\": 10.192222222222222, \"pred\": 6.8896427352470315}, {\"true\": 6.333333333333335, \"pred\": 6.52139265366554}, {\"true\": 1.724074074074074, \"pred\": 2.901081553061634}, {\"true\": 6.430303030303031, \"pred\": 6.246597620786513}, {\"true\": 5.357142857142857, \"pred\": 5.820761171739082}, {\"true\": 3.1148148148148165, \"pred\": 2.9927115798466826}, {\"true\": 4.848717948717949, \"pred\": 5.3545135931795755}, {\"true\": 6.081944444444446, \"pred\": 5.283113765394103}, {\"true\": 4.6729166666666675, \"pred\": 3.8634328762858545}, {\"true\": 5.036111111111114, \"pred\": 5.350172198114158}, {\"true\": 6.2121212121212155, \"pred\": 5.670789395244155}, {\"true\": 3.705555555555559, \"pred\": 2.3485788858898875}, {\"true\": 3.634848484848486, \"pred\": 3.732989696435271}, {\"true\": 6.626388888888891, \"pred\": 5.279159379435271}, {\"true\": 2.0600000000000014, \"pred\": 3.4432316706534305}, {\"true\": 7.756060606060609, \"pred\": 6.337850170733576}, {\"true\": 4.632291666666667, \"pred\": 4.987929922611807}, {\"true\": 8.150000000000007, \"pred\": 4.2668779810570765}, {\"true\": 2.4348484848484864, \"pred\": 3.3956497265602716}, {\"true\": 5.3288888888888915, \"pred\": 5.357001239928342}, {\"true\": 7.020238095238098, \"pred\": 6.241154207861822}, {\"true\": 4.401282051282052, \"pred\": 4.6082372346637515}, {\"true\": 4.426666666666668, \"pred\": 4.79253918881734}, {\"true\": 5.8363636363636395, \"pred\": 4.570392022930493}, {\"true\": 5.623333333333333, \"pred\": 5.899405419047924}, {\"true\": 5.864583333333336, \"pred\": 4.960320567912686}, {\"true\": 4.3392156862745095, \"pred\": 4.361507989944423}, {\"true\": 4.855952380952383, \"pred\": 4.167447095228925}, {\"true\": 6.390000000000001, \"pred\": 5.9881397377965255}, {\"true\": 1.7000000000000042, \"pred\": 2.507641183569986}, {\"true\": 8.475000000000001, \"pred\": 7.50632173366776}, {\"true\": 3.198611111111114, \"pred\": 4.184947156185223}, {\"true\": 3.2151515151515153, \"pred\": 3.5574331861525814}, {\"true\": 4.842708333333334, \"pred\": 5.038382878966199}, {\"true\": 3.6000000000000094, \"pred\": 3.06907211173416}, {\"true\": 1.5777777777777797, \"pred\": 2.209707344809554}, {\"true\": 4.625641025641025, \"pred\": 4.571038789536737}, {\"true\": 5.491666666666671, \"pred\": 5.249705404926004}, {\"true\": 6.618181818181822, \"pred\": 5.68219290686137}, {\"true\": 1.7750000000000061, \"pred\": 3.735177091337079}, {\"true\": 6.389743589743592, \"pred\": 5.53475442651315}, {\"true\": 2.7483333333333366, \"pred\": 2.641316471200598}, {\"true\": 4.417948717948719, \"pred\": 4.358780578004916}, {\"true\": 9.096153846153847, \"pred\": 7.81202724578181}, {\"true\": 2.1083333333333356, \"pred\": 2.801000245634003}, {\"true\": 3.576190476190477, \"pred\": 4.212336473088852}, {\"true\": 4.426666666666668, \"pred\": 4.868665255755656}, {\"true\": 7.2375, \"pred\": 5.360509605550127}, {\"true\": 4.483333333333335, \"pred\": 6.329315163029141}, {\"true\": 1.6233333333333397, \"pred\": 2.361325297095266}, {\"true\": 7.213636363636366, \"pred\": 6.976909815618784}, {\"true\": 5.301851851851853, \"pred\": 4.487452820056775}, {\"true\": 9.210416666666672, \"pred\": 8.891803444330504}, {\"true\": 3.693589743589747, \"pred\": 4.198158835641728}, {\"true\": 7.477777777777778, \"pred\": 4.434438842124039}, {\"true\": 3.705555555555559, \"pred\": 2.519709614418075}, {\"true\": 7.18148148148148, \"pred\": 4.483496902044381}, {\"true\": 4.413157894736844, \"pred\": 5.83373118386582}, {\"true\": 5.497222222222224, \"pred\": 4.879014094215317}, {\"true\": 5.357575757575759, \"pred\": 3.2598322507806654}, {\"true\": 3.0777777777777824, \"pred\": 1.6379705092626797}, {\"true\": 3.918888888888888, \"pred\": 4.317196450240802}, {\"true\": 4.920000000000001, \"pred\": 4.369030464841585}, {\"true\": 9.63846153846154, \"pred\": 4.751020162709006}, {\"true\": 3.318055555555558, \"pred\": 3.666848398130926}, {\"true\": 7.623809523809524, \"pred\": 5.180184620224708}, {\"true\": 5.186904761904763, \"pred\": 6.018043461648451}, {\"true\": 3.5633333333333397, \"pred\": 3.5326038961996944}, {\"true\": 3.153030303030306, \"pred\": 6.002491234344318}, {\"true\": 2.8333333333333353, \"pred\": 4.304643384906255}, {\"true\": 7.339583333333335, \"pred\": 6.413015944464403}, {\"true\": 6.8190476190476215, \"pred\": 5.963574224751138}, {\"true\": 5.676666666666668, \"pred\": 4.937363336576563}, {\"true\": 5.798958333333334, \"pred\": 5.95504129285053}, {\"true\": 1.1000000000000059, \"pred\": 1.4747772948760254}, {\"true\": 4.591666666666668, \"pred\": 6.013553073653939}, {\"true\": 2.9402777777777795, \"pred\": 3.8232044057626466}, {\"true\": 7.1512820512820525, \"pred\": 5.64877646435132}, {\"true\": 2.3600000000000065, \"pred\": 2.8279219381390357}, {\"true\": 4.064285714285713, \"pred\": 4.381248319235141}, {\"true\": 4.102380952380953, \"pred\": 3.8189351186889735}, {\"true\": 5.7705882352941185, \"pred\": 5.141755516684113}, {\"true\": 5.36388888888889, \"pred\": 4.81191724377825}, {\"true\": 4.821111111111112, \"pred\": 4.587478493483712}, {\"true\": 3.772222222222224, \"pred\": 3.701695000464203}, {\"true\": 3.3888888888888897, \"pred\": 5.093326352769376}, {\"true\": 4.505555555555558, \"pred\": 6.514042310977992}, {\"true\": 5.067777777777778, \"pred\": 5.063438276794415}, {\"true\": 5.950980392156863, \"pred\": 5.496084916547928}, {\"true\": 3.194444444444447, \"pred\": 4.505355055538927}, {\"true\": 2.3000000000000043, \"pred\": 4.1405453846662885}, {\"true\": 3.425000000000003, \"pred\": 2.785695043586738}, {\"true\": 3.804761904761906, \"pred\": 3.7360897309191206}, {\"true\": 5.1303030303030335, \"pred\": 5.498719652568997}, {\"true\": 5.197222222222224, \"pred\": 5.594117854581342}, {\"true\": 5.830952380952381, \"pred\": 5.708029810698551}, {\"true\": 9.712121212121213, \"pred\": 8.725419903476977}, {\"true\": 4.313636363636365, \"pred\": 4.2360631205029975}, {\"true\": 7.361538461538464, \"pred\": 6.079643193694123}, {\"true\": 12.353703703703708, \"pred\": 8.44513352910897}, {\"true\": 3.3930555555555575, \"pred\": 3.7474463728641636}, {\"true\": 6.723611111111111, \"pred\": 5.753459093374782}, {\"true\": 4.523611111111112, \"pred\": 4.812694065961068}, {\"true\": 1.4166666666666694, \"pred\": 3.5653721664164095}, {\"true\": 0.13809523809524063, \"pred\": 2.589014978007313}, {\"true\": 2.99, \"pred\": 3.6722685881809496}, {\"true\": 2.6562500000000044, \"pred\": 2.3417113120039175}, {\"true\": 2.825000000000007, \"pred\": 2.9532042847666755}, {\"true\": 5.4378787878787875, \"pred\": 4.43675582723301}, {\"true\": 3.098809523809526, \"pred\": 3.8918357487296045}, {\"true\": 4.429166666666667, \"pred\": 4.9538058935077345}, {\"true\": 11.280952380952382, \"pred\": 8.771285249614905}, {\"true\": 3.1999999999999997, \"pred\": 4.683402512331157}, {\"true\": 7.634615384615383, \"pred\": 7.0389567477460835}, {\"true\": 1.7583333333333346, \"pred\": 2.8012809996512256}, {\"true\": 7.812962962962964, \"pred\": 6.584291018413922}, {\"true\": 3.3000000000000016, \"pred\": 3.6859374481210616}, {\"true\": 0.861111111111117, \"pred\": 1.8740525561702115}, {\"true\": 3.284444444444445, \"pred\": 3.776454327980508}, {\"true\": 5.48888888888889, \"pred\": 5.246668389774855}, {\"true\": 6.895238095238097, \"pred\": 6.441483778721252}, {\"true\": 7.423076923076923, \"pred\": 6.19504363603738}, {\"true\": 8.511111111111115, \"pred\": 4.613468282124098}, {\"true\": 6.1423076923076945, \"pred\": 6.271069947850736}, {\"true\": 3.450000000000002, \"pred\": 4.176927602277378}, {\"true\": 5.170833333333333, \"pred\": 5.046021582257478}, {\"true\": 3.0547619047619095, \"pred\": 2.7730552373714428}, {\"true\": 0.4888888888888947, \"pred\": 2.2419177141746447}, {\"true\": 2.6238095238095247, \"pred\": 4.3607397683368285}, {\"true\": 4.756060606060606, \"pred\": 5.201525611940125}, {\"true\": 4.490000000000002, \"pred\": 2.9107068150722464}, {\"true\": 4.222916666666672, \"pred\": 4.382447046825788}, {\"true\": 2.8777777777777787, \"pred\": 3.6906437726711805}, {\"true\": 5.589215686274511, \"pred\": 4.982599323597269}, {\"true\": 6.928205128205129, \"pred\": 6.4621496041862905}, {\"true\": 2.958333333333337, \"pred\": 3.115421783770339}, {\"true\": 5.871296296296297, \"pred\": 6.22619217723679}, {\"true\": 7.5458333333333325, \"pred\": 6.481333090809445}, {\"true\": 2.7439393939393955, \"pred\": 3.1835603547748614}, {\"true\": 5.304545454545456, \"pred\": 5.315746780894611}, {\"true\": 4.325000000000001, \"pred\": 6.561064191245199}, {\"true\": 12.829487179487181, \"pred\": 12.360551888491864}, {\"true\": 7.812962962962964, \"pred\": 6.360514955511094}, {\"true\": 5.608974358974359, \"pred\": 4.005110840596326}, {\"true\": 3.904545454545456, \"pred\": 3.500810688994518}, {\"true\": 3.6722222222222225, \"pred\": 3.840627600546744}, {\"true\": 2.6222222222222245, \"pred\": 2.4817683536819395}, {\"true\": 2.1129629629629667, \"pred\": 4.081828433145587}, {\"true\": 0.861111111111117, \"pred\": 1.6205657095478188}, {\"true\": 6.892857142857143, \"pred\": 5.739315795472268}, {\"true\": 2.4944444444444565, \"pred\": 2.7433515507439448}, {\"true\": 2.4119047619047627, \"pred\": 2.1707609434904795}, {\"true\": 4.154166666666668, \"pred\": 3.9369691618276836}, {\"true\": 5.097222222222222, \"pred\": 8.240337582105333}, {\"true\": 4.6972222222222255, \"pred\": 4.521628696935849}, {\"true\": 2.761111111111111, \"pred\": 3.3329423095056168}, {\"true\": 4.551515151515153, \"pred\": 4.69816631729076}, {\"true\": 2.525000000000003, \"pred\": 3.228068474270851}, {\"true\": 4.216666666666666, \"pred\": 3.7967718754869173}, {\"true\": 6.065476190476192, \"pred\": 5.762103933971177}, {\"true\": 5.502777777777779, \"pred\": 6.034509377477743}, {\"true\": 5.1192307692307715, \"pred\": 5.016144277968319}, {\"true\": 7.092222222222223, \"pred\": 6.83107300660036}, {\"true\": 4.383333333333337, \"pred\": 2.765582253053721}], \"data-e53f43667b4e74c9774fcfd475bf1d46\": [{\"x\": 0.0, \"y\": 0.0}, {\"x\": 1.6666666666666667, \"y\": 1.6666666666666667}, {\"x\": 3.3333333333333335, \"y\": 3.3333333333333335}, {\"x\": 5.0, \"y\": 5.0}, {\"x\": 6.666666666666667, \"y\": 6.666666666666667}, {\"x\": 8.333333333333334, \"y\": 8.333333333333334}, {\"x\": 10.0, \"y\": 10.0}, {\"x\": 11.666666666666668, \"y\": 11.666666666666668}, {\"x\": 13.333333333333334, \"y\": 13.333333333333334}, {\"x\": 15.0, \"y\": 15.0}]}}, {\"mode\": \"vega-lite\"});\n",
       "</script>"
      ],
      "text/plain": [
       "alt.LayerChart(...)"
      ]
     },
     "metadata": {},
     "output_type": "display_data"
    },
    {
     "name": "stdout",
     "output_type": "stream",
     "text": [
      "mae=0.9534975628232467\n",
      " mse=1.7921815185492853\n",
      " acc1min=65.16949152542372\n",
      " acc3min=96.4406779661017\n",
      " acc5min=99.53389830508475\n",
      "And R2 =  0.6194744292108384\n"
     ]
    }
   ],
   "source": [
    "flight_df = predict_next_avg_delay_df\n",
    "\n",
    "rwy_cols = [\"rwy__10\", \"rwy__14\", \"rwy__16\", \"rwy__28\", \"rwy__32\", \"rwy__34\"]\n",
    "\n",
    "taxi_path_related = [\"taxi_dist\", \"angle_sum\"]  # To add if relevant\n",
    "\n",
    "to_scale_cols = [\n",
    "    \"hh_num\",\n",
    "    #  \"avg_outbound_delay_lastXmin\",\n",
    "    \"nominal\",\n",
    "    \"busy\",\n",
    "    \"disrupted\",\n",
    "    \"not_nom_arrival_ratio\",\n",
    "    \"press\",\n",
    "    \"temp\",\n",
    "    #   \"atmap_visibility\",\n",
    "    #   \"atmap_wind\",\n",
    "    #   \"atmap_precipitation\",\n",
    "    #   \"atmap_freezing\",\n",
    "    #   \"atmap_danger\",\n",
    "    \"nb_arr\",\n",
    "    \"nb_dep\",\n",
    "    \"nb\",\n",
    "    #   \"H\",\n",
    "    #   \"L\",\n",
    "    #   \"L/M\",\n",
    "    #   \"M\",\n",
    "    #   \"H_count\",\n",
    "    #   \"L_count\",\n",
    "    #   \"L/M_count\",\n",
    "    \"M_count\",\n",
    "    \"H_count_ratio\",\n",
    "    \"L_count_ratio\",\n",
    "    \"L/M_count_ratio\",\n",
    "    \"M_count_ratio\",\n",
    "    \"turnaround_minutes\",\n",
    "]\n",
    "feature_columns = to_scale_cols  # + rwy_cols  #\n",
    "\n",
    "target_column = (\n",
    "    \"nextAvgDelay\"  #'total_holding_time_minutes'      taxi_holding_time_minutes\n",
    ")\n",
    "\n",
    "flight_df = onehot_runways(flight_df)\n",
    "data_df = flight_df.query(\"config=='NORTH0' & mvt_type=='DEP' \")[\n",
    "    feature_columns + [target_column]\n",
    "].dropna()\n",
    "\n",
    "\n",
    "input_df = data_df[feature_columns]\n",
    "target_df = data_df[[target_column]]\n",
    "\n",
    "\n",
    "from sklearn.preprocessing import StandardScaler\n",
    "\n",
    "data_train, data_test, labels_train, labels_test = train_test_split(\n",
    "    input_df,\n",
    "    target_df,\n",
    "    test_size=0.20,\n",
    "    random_state=42,\n",
    ")\n",
    "\n",
    "\"\"\"\n",
    "sc = StandardScaler()\n",
    "data_train = sc.fit_transform(data_train)\n",
    "data_test = sc.transform(data_test)\"\"\"\n",
    "\"\"\"\n",
    "model_rf = RandomForestRegressor(n_estimators=150, min_samples_split=10)\"\"\"\n",
    "\n",
    "clf = RandomForestRegressor(n_estimators=150, min_samples_split=10)\n",
    "\n",
    "\n",
    "# sc = StandardScaler()\n",
    "# data_train = sc.fit_transform(data_train)\n",
    "# data_test = sc.transform(data_test)\n",
    "\n",
    "# fit the model on the whole dataset\n",
    "clf.fit(data_train, labels_train)\n",
    "# make a single prediction\n",
    "predicted = clf.predict(data_test)\n",
    "\n",
    "# plot pred vs truth\n",
    "data_chart = pd.DataFrame(\n",
    "    {\"true\": labels_test.values.reshape((-1,)), \"pred\": predicted}\n",
    ")\n",
    "predVStrue_chart = alt.Chart(data_chart).mark_circle(opacity=0.5).encode(\n",
    "    x=\"true\", y=\"pred\"\n",
    ") + alt.Chart(\n",
    "    pd.DataFrame({\"x\": np.linspace(0, 15, 10), \"y\": np.linspace(0, 15, 10)})\n",
    ").mark_line(\n",
    "    color=\"black\"\n",
    ").encode(\n",
    "    x=\"x\", y=\"y\"\n",
    ")\n",
    "display(predVStrue_chart)\n",
    "\n",
    "from sklearn.metrics import mean_squared_error, mean_absolute_error, r2_score\n",
    "\n",
    "mae = mean_absolute_error(labels_test.values.reshape((-1,)), predicted)\n",
    "mse = mean_squared_error(labels_test.values.reshape((-1,)), predicted)\n",
    "acc1min = within_Xmin(labels_test.values.reshape((-1,)), predicted)\n",
    "acc3min = within_Xmin(labels_test.values.reshape((-1,)), predicted, m=3)\n",
    "acc5min = within_Xmin(labels_test.values.reshape((-1,)), predicted, m=5)\n",
    "print(\n",
    "    f\"mae={mae}\\n mse={mse}\\n acc1min={acc1min}\\n acc3min={acc3min}\\n acc5min={acc5min}\"\n",
    ")\n",
    "print(\"And R2 = \", r2_score(labels_test.values.reshape((-1,)), predicted))"
   ]
  },
  {
   "cell_type": "code",
   "execution_count": 250,
   "id": "dfb68dd6-f41a-40af-849a-3b4e42bca641",
   "metadata": {
    "execution": {
     "iopub.execute_input": "2021-07-02T12:44:49.958848Z",
     "iopub.status.busy": "2021-07-02T12:44:49.958588Z",
     "iopub.status.idle": "2021-07-02T12:44:49.966529Z",
     "shell.execute_reply": "2021-07-02T12:44:49.965994Z",
     "shell.execute_reply.started": "2021-07-02T12:44:49.958824Z"
    },
    "tags": []
   },
   "outputs": [
    {
     "data": {
      "text/plain": [
       "array([1.93888889, 2.98333333, 4.60897436, ..., 2.98      , 8.34777778,\n",
       "       1.16111111])"
      ]
     },
     "execution_count": 250,
     "metadata": {},
     "output_type": "execute_result"
    }
   ],
   "source": [
    "labels_train.values.ravel()  # data_train  #"
   ]
  },
  {
   "cell_type": "code",
   "execution_count": 50,
   "id": "1fe858a9-240c-4323-a128-eedbda5c8873",
   "metadata": {
    "execution": {
     "iopub.execute_input": "2021-06-28T11:10:00.537829Z",
     "iopub.status.busy": "2021-06-28T11:10:00.537533Z",
     "iopub.status.idle": "2021-06-28T11:10:00.551408Z",
     "shell.execute_reply": "2021-06-28T11:10:00.550770Z",
     "shell.execute_reply.started": "2021-06-28T11:10:00.537802Z"
    },
    "tags": []
   },
   "outputs": [
    {
     "data": {
      "text/plain": [
       "count    16346.000000\n",
       "mean         4.143773\n",
       "std          2.263958\n",
       "min          0.000000\n",
       "25%          2.673333\n",
       "50%          3.871320\n",
       "75%          5.275000\n",
       "max         45.316667\n",
       "Name: avg_outbound_delay_lastXmin, dtype: float64"
      ]
     },
     "execution_count": 50,
     "metadata": {},
     "output_type": "execute_result"
    }
   ],
   "source": [
    "dep_arr_df.avg_outbound_delay_lastXmin.describe()"
   ]
  },
  {
   "cell_type": "code",
   "execution_count": 51,
   "id": "0d9b3342-670b-4e54-aef3-985476bd4ceb",
   "metadata": {
    "execution": {
     "iopub.execute_input": "2021-06-28T11:17:56.010858Z",
     "iopub.status.busy": "2021-06-28T11:17:56.010209Z",
     "iopub.status.idle": "2021-06-28T11:17:56.037600Z",
     "shell.execute_reply": "2021-06-28T11:17:56.037018Z",
     "shell.execute_reply.started": "2021-06-28T11:17:56.010791Z"
    },
    "tags": []
   },
   "outputs": [
    {
     "data": {
      "text/plain": [
       "count    6085.000000\n",
       "mean        4.269232\n",
       "std         2.363293\n",
       "min         0.000000\n",
       "25%         2.711111\n",
       "50%         4.009722\n",
       "75%         5.413889\n",
       "max        25.100000\n",
       "Name: avg_outbound_delay_lastXmin, dtype: float64"
      ]
     },
     "execution_count": 51,
     "metadata": {},
     "output_type": "execute_result"
    }
   ],
   "source": [
    "dep_arr_df.query(\n",
    "    'mvt_type==\"DEP\" & end_pb==end_pb'\n",
    ").avg_outbound_delay_lastXmin.describe()"
   ]
  },
  {
   "cell_type": "code",
   "execution_count": 121,
   "id": "90dd9032-17ea-4ae1-9070-5666c9569e3d",
   "metadata": {
    "execution": {
     "iopub.execute_input": "2021-06-24T12:27:09.249018Z",
     "iopub.status.busy": "2021-06-24T12:27:09.248858Z",
     "iopub.status.idle": "2021-06-24T12:27:09.253363Z",
     "shell.execute_reply": "2021-06-24T12:27:09.252909Z",
     "shell.execute_reply.started": "2021-06-24T12:27:09.248999Z"
    },
    "tags": []
   },
   "outputs": [
    {
     "name": "stderr",
     "output_type": "stream",
     "text": [
      "/home/service/miniconda3/envs/py39v7/lib/python3.8/site-packages/ipykernel/ipkernel.py:283: DeprecationWarning: `should_run_async` will not call `transform_cell` automatically in the future. Please pass the result to `transformed_cell` argument and any exception that happen during thetransform in `preprocessing_exc_tuple` in IPython 7.17 and above.\n",
      "  and should_run_async(code)\n"
     ]
    },
    {
     "data": {
      "text/plain": [
       "(3436, 26)"
      ]
     },
     "execution_count": 121,
     "metadata": {},
     "output_type": "execute_result"
    }
   ],
   "source": [
    "data_train.shape"
   ]
  },
  {
   "cell_type": "code",
   "execution_count": 97,
   "id": "29dd461d-183f-41fb-8396-675a1f706655",
   "metadata": {
    "execution": {
     "iopub.execute_input": "2021-06-28T12:02:45.378736Z",
     "iopub.status.busy": "2021-06-28T12:02:45.378441Z",
     "iopub.status.idle": "2021-06-28T12:02:45.387403Z",
     "shell.execute_reply": "2021-06-28T12:02:45.386692Z",
     "shell.execute_reply.started": "2021-06-28T12:02:45.378711Z"
    },
    "tags": []
   },
   "outputs": [
    {
     "name": "stderr",
     "output_type": "stream",
     "text": [
      "/home/service/miniconda3/envs/py39v7/lib/python3.8/site-packages/ipykernel/ipkernel.py:283: DeprecationWarning: `should_run_async` will not call `transform_cell` automatically in the future. Please pass the result to `transformed_cell` argument and any exception that happen during thetransform in `preprocessing_exc_tuple` in IPython 7.17 and above.\n",
      "  and should_run_async(code)\n"
     ]
    },
    {
     "data": {
      "text/plain": [
       "'hh_num nominal busy disrupted not_nom_arrival_ratio press temp nb_arr nb_dep nb M_count H_count_ratio L_count_ratio L/M_count_ratio M_count_ratio turnaround_minutes rwy__10 rwy__14 rwy__16 rwy__28 rwy__32 rwy__34'"
      ]
     },
     "execution_count": 97,
     "metadata": {},
     "output_type": "execute_result"
    }
   ],
   "source": [
    "\" \".join(feature_columns)"
   ]
  },
  {
   "cell_type": "code",
   "execution_count": null,
   "id": "223d6ac2-d8c8-480f-afdb-b358e47f109e",
   "metadata": {},
   "outputs": [],
   "source": [
    "mae=1.05254925494055\n",
    " mse=2.242974923421067\n",
    " acc1min=58.139534883720934\n",
    " acc3min=96.51162790697676\n",
    " acc5min=99.4186046511628\n",
    "And R2 =  0.5291628270786354\n",
    "\n",
    "----- not full trajectories ------\n",
    "\n",
    "BETTER Wtc counts and not_nom_arrival_ratio\n",
    "'hh_num nominal busy disrupted not_nom_arrival_ratio press temp atmap_visibility atmap_wind atmap_precipitation atmap_freezing atmap_danger nb_arr nb_dep nb H_count L_count L/M_count M_count rwy__10 rwy__14 rwy__16 rwy__28 rwy__32 rwy__34'\n",
    "mae=1.094219226283999\n",
    " mse=2.5313984661070292\n",
    " acc1min=59.72060535506402\n",
    " acc3min=95.69266589057042\n",
    " acc5min=99.0686845168801\n",
    "And R2 =  0.4796247398927178\n",
    "\n",
    "ADDING turnaround_minutes\n",
    "'hh_num nominal busy disrupted not_nom_arrival_ratio press temp atmap_visibility atmap_wind atmap_precipitation atmap_freezing atmap_danger nb_arr nb_dep nb H_count L_count L/M_count M_count turnaround_minutes rwy__10 rwy__14 rwy__16 rwy__28 rwy__32 rwy__34'\n",
    "mae=1.0568367132708232\n",
    " mse=1.9192912980800616\n",
    " acc1min=57.05521472392638\n",
    " acc3min=95.70552147239265\n",
    " acc5min=100.0\n",
    "And R2 =  0.48392214899617336\n",
    "\n",
    "----- full traj -------\n",
    "'hh_num nominal busy disrupted not_nom_arrival_ratio press temp atmap_visibility atmap_wind atmap_precipitation atmap_freezing atmap_danger nb_arr nb_dep nb H_count L_count L/M_count M_count turnaround_minutes rwy__10 rwy__14 rwy__16 rwy__28 rwy__32 rwy__34'\n",
    "\n",
    "mae=1.135557715619478\n",
    " mse=2.6320021352462013\n",
    " acc1min=56.69383003492433\n",
    " acc3min=95.22700814901047\n",
    " acc5min=98.83585564610011\n",
    "And R2 =  0.4589438154167881\n",
    "\n",
    "--- Adding wtc ratios, removing useless features --\n",
    "'hh_num nominal busy disrupted not_nom_arrival_ratio press temp nb_arr nb_dep nb M_count H_count_ratio L_count_ratio L/M_count_ratio M_count_ratio turnaround_minutes'\n",
    "mae=0.9574036620564338\n",
    "mse=1.811342233665833\n",
    "acc1min=65.42372881355932\n",
    "acc3min=96.4406779661017\n",
    "acc5min=99.57627118644068\n",
    "And R2 =  0.6154061236396735"
   ]
  },
  {
   "cell_type": "code",
   "execution_count": 69,
   "id": "38386a1e-4818-4b01-96db-6b45052dd34c",
   "metadata": {
    "execution": {
     "iopub.execute_input": "2021-06-28T11:45:29.571987Z",
     "iopub.status.busy": "2021-06-28T11:45:29.571695Z",
     "iopub.status.idle": "2021-06-28T11:45:29.625220Z",
     "shell.execute_reply": "2021-06-28T11:45:29.624545Z",
     "shell.execute_reply.started": "2021-06-28T11:45:29.571960Z"
    },
    "tags": []
   },
   "outputs": [
    {
     "name": "stderr",
     "output_type": "stream",
     "text": [
      "/home/service/miniconda3/envs/py39v7/lib/python3.8/site-packages/ipykernel/ipkernel.py:283: DeprecationWarning: `should_run_async` will not call `transform_cell` automatically in the future. Please pass the result to `transformed_cell` argument and any exception that happen during thetransform in `preprocessing_exc_tuple` in IPython 7.17 and above.\n",
      "  and should_run_async(code)\n"
     ]
    },
    {
     "data": {
      "text/html": [
       "\n",
       "<div id=\"altair-viz-fc0504d48f5c4a99a030e395a67491d0\"></div>\n",
       "<script type=\"text/javascript\">\n",
       "  (function(spec, embedOpt){\n",
       "    let outputDiv = document.currentScript.previousElementSibling;\n",
       "    if (outputDiv.id !== \"altair-viz-fc0504d48f5c4a99a030e395a67491d0\") {\n",
       "      outputDiv = document.getElementById(\"altair-viz-fc0504d48f5c4a99a030e395a67491d0\");\n",
       "    }\n",
       "    const paths = {\n",
       "      \"vega\": \"https://cdn.jsdelivr.net/npm//vega@5?noext\",\n",
       "      \"vega-lib\": \"https://cdn.jsdelivr.net/npm//vega-lib?noext\",\n",
       "      \"vega-lite\": \"https://cdn.jsdelivr.net/npm//vega-lite@4.8.1?noext\",\n",
       "      \"vega-embed\": \"https://cdn.jsdelivr.net/npm//vega-embed@6?noext\",\n",
       "    };\n",
       "\n",
       "    function loadScript(lib) {\n",
       "      return new Promise(function(resolve, reject) {\n",
       "        var s = document.createElement('script');\n",
       "        s.src = paths[lib];\n",
       "        s.async = true;\n",
       "        s.onload = () => resolve(paths[lib]);\n",
       "        s.onerror = () => reject(`Error loading script: ${paths[lib]}`);\n",
       "        document.getElementsByTagName(\"head\")[0].appendChild(s);\n",
       "      });\n",
       "    }\n",
       "\n",
       "    function showError(err) {\n",
       "      outputDiv.innerHTML = `<div class=\"error\" style=\"color:red;\">${err}</div>`;\n",
       "      throw err;\n",
       "    }\n",
       "\n",
       "    function displayChart(vegaEmbed) {\n",
       "      vegaEmbed(outputDiv, spec, embedOpt)\n",
       "        .catch(err => showError(`Javascript Error: ${err.message}<br>This usually means there's a typo in your chart specification. See the javascript console for the full traceback.`));\n",
       "    }\n",
       "\n",
       "    if(typeof define === \"function\" && define.amd) {\n",
       "      requirejs.config({paths});\n",
       "      require([\"vega-embed\"], displayChart, err => showError(`Error loading script: ${err.message}`));\n",
       "    } else if (typeof vegaEmbed === \"function\") {\n",
       "      displayChart(vegaEmbed);\n",
       "    } else {\n",
       "      loadScript(\"vega\")\n",
       "        .then(() => loadScript(\"vega-lite\"))\n",
       "        .then(() => loadScript(\"vega-embed\"))\n",
       "        .catch(showError)\n",
       "        .then(() => displayChart(vegaEmbed));\n",
       "    }\n",
       "  })({\"config\": {\"view\": {\"continuousWidth\": 400, \"continuousHeight\": 300}}, \"layer\": [{\"data\": {\"name\": \"data-e2f21945cb9f4acdef44e4abd9ccfddf\"}, \"mark\": {\"type\": \"circle\", \"opacity\": 0.4}, \"encoding\": {\"x\": {\"type\": \"quantitative\", \"field\": \"true\", \"scale\": {\"clamp\": true, \"domain\": [0, 20]}}, \"y\": {\"type\": \"quantitative\", \"field\": \"pred\"}}}, {\"data\": {\"name\": \"data-e53f43667b4e74c9774fcfd475bf1d46\"}, \"mark\": {\"type\": \"line\", \"color\": \"black\"}, \"encoding\": {\"x\": {\"type\": \"quantitative\", \"field\": \"x\"}, \"y\": {\"type\": \"quantitative\", \"field\": \"y\"}}}], \"$schema\": \"https://vega.github.io/schema/vega-lite/v4.8.1.json\", \"datasets\": {\"data-e2f21945cb9f4acdef44e4abd9ccfddf\": [{\"true\": 3.3458333333333354, \"pred\": 5.319949146443098}, {\"true\": 6.686904761904762, \"pred\": 6.392064915008837}, {\"true\": 2.8200000000000003, \"pred\": 3.6529306611349623}, {\"true\": 5.578571428571428, \"pred\": 4.5868976194242626}, {\"true\": 4.08809523809524, \"pred\": 3.274423141539419}, {\"true\": 3.0305555555555617, \"pred\": 3.87060251073107}, {\"true\": 7.255128205128205, \"pred\": 6.621839476020131}, {\"true\": 6.260416666666669, \"pred\": 5.5393447699809535}, {\"true\": 7.361538461538464, \"pred\": 6.9186478297857095}, {\"true\": 6.361904761904763, \"pred\": 4.0993690587299385}, {\"true\": 1.9722222222222232, \"pred\": 5.29652915765449}, {\"true\": 0.7407407407407427, \"pred\": 2.8053033942670047}, {\"true\": 4.495238095238096, \"pred\": 6.153514960401789}, {\"true\": 5.240476190476191, \"pred\": 5.831537022174507}, {\"true\": 3.3743589743589757, \"pred\": 5.172449670942993}, {\"true\": 5.873809523809525, \"pred\": 6.158877980969645}, {\"true\": 4.415555555555556, \"pred\": 4.89278599754364}, {\"true\": 5.697619047619049, \"pred\": 5.67541566552045}, {\"true\": 6.0125, \"pred\": 5.55158611432308}, {\"true\": 3.4111111111111123, \"pred\": 4.2865203901627735}, {\"true\": 5.070000000000002, \"pred\": 5.1110623452377215}, {\"true\": 2.79888888888889, \"pred\": 3.3513185414859628}, {\"true\": 1.0500000000000071, \"pred\": 4.094355670265051}, {\"true\": 4.025000000000009, \"pred\": 4.235190015959745}, {\"true\": 7.45476190476191, \"pred\": 6.287580478886469}, {\"true\": 5.748484848484849, \"pred\": 6.432112525671487}, {\"true\": 6.287500000000001, \"pred\": 5.210243423034381}, {\"true\": 1.6541666666666708, \"pred\": 3.107326355882681}, {\"true\": 2.966666666666668, \"pred\": 3.33205991051852}, {\"true\": 0.42500000000000177, \"pred\": 2.8833649809759443}, {\"true\": 1.1904761904761902, \"pred\": 2.870868929517261}, {\"true\": 1.4527777777777837, \"pred\": 2.3091878250464215}, {\"true\": 4.781666666666668, \"pred\": 4.361249422403576}, {\"true\": 7.225641025641026, \"pred\": 7.827442218898178}, {\"true\": 3.6533333333333338, \"pred\": 4.7234232126919995}, {\"true\": 6.742592592592595, \"pred\": 5.625277753094417}, {\"true\": 3.6000000000000005, \"pred\": 4.62845789635805}, {\"true\": 3.5404761904761917, \"pred\": 3.5017644379621484}, {\"true\": 2.3000000000000007, \"pred\": 3.5017626877883457}, {\"true\": 2.35625, \"pred\": 3.143042035497266}, {\"true\": 5.258333333333334, \"pred\": 4.550786001004426}, {\"true\": 4.068750000000003, \"pred\": 5.644063011847293}, {\"true\": 6.0878787878787906, \"pred\": 5.497079448068955}, {\"true\": 4.9095238095238125, \"pred\": 4.713178663492067}, {\"true\": 5.625757575757579, \"pred\": 5.511549108621918}, {\"true\": 1.300000000000007, \"pred\": 2.191138985361691}, {\"true\": 7.21666666666667, \"pred\": 7.068777770531005}, {\"true\": 4.231944444444445, \"pred\": 4.553816331570615}, {\"true\": 3.7333333333333347, \"pred\": 3.729757273507862}, {\"true\": 6.907291666666668, \"pred\": 5.864205656738178}, {\"true\": 4.960714285714286, \"pred\": 3.9857013550003293}, {\"true\": 5.512962962962963, \"pred\": 5.071912091199533}, {\"true\": 6.371666666666668, \"pred\": 5.332844033922259}, {\"true\": 4.445833333333334, \"pred\": 4.145225036910514}, {\"true\": 5.351111111111112, \"pred\": 4.735315989493794}, {\"true\": 3.7462962962962982, \"pred\": 3.667829593921857}, {\"true\": 8.191666666666668, \"pred\": 7.425541818724634}, {\"true\": 6.8738095238095225, \"pred\": 6.338537326603461}, {\"true\": 2.3236111111111115, \"pred\": 4.337839406432804}, {\"true\": 12.097619047619046, \"pred\": 7.69932688462281}, {\"true\": 4.6972222222222255, \"pred\": 4.1385663546339115}, {\"true\": 7.009259259259263, \"pred\": 6.845099255574623}, {\"true\": 1.9722222222222232, \"pred\": 5.0436247153242855}, {\"true\": 4.784523809523812, \"pred\": 4.5086956467272845}, {\"true\": 4.041666666666668, \"pred\": 3.5478552051199004}, {\"true\": 6.010256410256413, \"pred\": 6.422610776854421}, {\"true\": 4.869696969696974, \"pred\": 4.456269928583975}, {\"true\": 10.553846153846157, \"pred\": 8.126093318473822}, {\"true\": 6.729166666666668, \"pred\": 6.628936686543382}, {\"true\": 7.370370370370371, \"pred\": 5.133516240516141}, {\"true\": 5.6343137254901965, \"pred\": 5.416009264043931}, {\"true\": 5.796428571428572, \"pred\": 5.61438925485842}, {\"true\": 5.8363636363636395, \"pred\": 4.981201454310605}, {\"true\": 3.745833333333342, \"pred\": 4.33316642046733}, {\"true\": 3.601666666666668, \"pred\": 3.743673173589434}, {\"true\": 3.674358974358977, \"pred\": 4.422399078391669}, {\"true\": 4.584722222222223, \"pred\": 6.293367487832905}, {\"true\": 4.072222222222223, \"pred\": 3.656696264119559}, {\"true\": 1.3619047619047624, \"pred\": 3.875040429382349}, {\"true\": 0.7333333333333333, \"pred\": 4.23206863208019}, {\"true\": 6.238888888888889, \"pred\": 4.839017742430017}, {\"true\": 4.095833333333333, \"pred\": 4.163019424734477}, {\"true\": 0.4333333333333369, \"pred\": 1.085938847878256}, {\"true\": 4.411666666666669, \"pred\": 4.753336432214463}, {\"true\": 2.5047619047619096, \"pred\": 4.5944117749187425}, {\"true\": 6.7562500000000005, \"pred\": 6.179947487824526}, {\"true\": 1.9458333333333429, \"pred\": 2.3571448968029007}, {\"true\": 5.716666666666667, \"pred\": 6.145987646397358}, {\"true\": 7.379166666666671, \"pred\": 4.767196464674687}, {\"true\": 5.41025641025641, \"pred\": 5.929392674047867}, {\"true\": 1.8666666666666667, \"pred\": 3.6252158970836685}, {\"true\": 3.6060606060606077, \"pred\": 2.7866840830769224}, {\"true\": 5.93974358974359, \"pred\": 5.778289936267276}, {\"true\": 5.2041666666666675, \"pred\": 6.104414323418938}, {\"true\": 3.852777777777781, \"pred\": 3.802759208197546}, {\"true\": 7.484848484848485, \"pred\": 6.247531257410205}, {\"true\": 3.092592592592594, \"pred\": 4.218226849718041}, {\"true\": 5.966666666666671, \"pred\": 6.696834654269998}, {\"true\": 3.9833333333333365, \"pred\": 3.395780567015207}, {\"true\": 5.738888888888888, \"pred\": 4.989157452288162}, {\"true\": 3.843939393939395, \"pred\": 5.604577383816819}, {\"true\": 2.923333333333335, \"pred\": 2.946109984363847}, {\"true\": 3.0777777777777824, \"pred\": 2.4598669665548623}, {\"true\": 6.090909090909093, \"pred\": 4.519353585859315}, {\"true\": 5.668750000000001, \"pred\": 5.508102470072254}, {\"true\": 3.1947916666666676, \"pred\": 2.9518873935001135}, {\"true\": 3.7351851851851885, \"pred\": 4.010445148217091}, {\"true\": 3.4680555555555586, \"pred\": 3.0206872477201987}, {\"true\": 4.412500000000001, \"pred\": 3.4594322501698342}, {\"true\": 5.246666666666667, \"pred\": 3.902989267200745}, {\"true\": 4.429166666666667, \"pred\": 4.81277865388404}, {\"true\": 6.726190476190476, \"pred\": 5.504942787490229}, {\"true\": 7.770833333333338, \"pred\": 5.659201639678228}, {\"true\": 4.892307692307693, \"pred\": 5.964062715672141}, {\"true\": 5.690909090909092, \"pred\": 5.173944882586012}, {\"true\": 7.45476190476191, \"pred\": 7.46696339665064}, {\"true\": 4.00777777777778, \"pred\": 4.790729579339923}, {\"true\": 7.119696969696972, \"pred\": 7.1948944908169645}, {\"true\": 4.184722222222222, \"pred\": 4.31714235863816}, {\"true\": 6.641666666666668, \"pred\": 4.7934696118666515}, {\"true\": 1.2666666666666706, \"pred\": 3.4364519093331363}, {\"true\": 3.166666666666668, \"pred\": 4.0122447888871005}, {\"true\": 9.17916666666667, \"pred\": 5.450245588372511}, {\"true\": 7.768333333333336, \"pred\": 7.28721415790413}, {\"true\": 4.2857142857142865, \"pred\": 3.969350629973958}, {\"true\": 1.3142857142857163, \"pred\": 1.685917594572457}, {\"true\": 3.820833333333335, \"pred\": 3.778915740540452}, {\"true\": 3.290476190476192, \"pred\": 2.8754595412551156}, {\"true\": 1.1000000000000059, \"pred\": 1.6217426326141364}, {\"true\": 6.48541666666667, \"pred\": 5.313004811214103}, {\"true\": 1.3375000000000026, \"pred\": 2.710453843077164}, {\"true\": 3.4944444444444454, \"pred\": 3.7391457704982902}, {\"true\": 3.9916666666666756, \"pred\": 3.5106164038026018}, {\"true\": 2.6500000000000026, \"pred\": 3.2168869367762656}, {\"true\": 3.316666666666666, \"pred\": 4.106928920792677}, {\"true\": 5.697619047619049, \"pred\": 5.624557668217219}, {\"true\": 2.9129629629629643, \"pred\": 3.8828352680065388}, {\"true\": 7.0699999999999985, \"pred\": 4.781987522045427}, {\"true\": 4.974358974358976, \"pred\": 5.548050959574966}, {\"true\": 7.938095238095242, \"pred\": 7.4414218456721075}, {\"true\": 5.888888888888889, \"pred\": 5.630759860520299}, {\"true\": 5.382142857142857, \"pred\": 4.3285921983856825}, {\"true\": 6.113725490196079, \"pred\": 5.593975174121514}, {\"true\": 5.144444444444446, \"pred\": 5.013095315427105}, {\"true\": 4.411111111111111, \"pred\": 4.573634265962881}, {\"true\": 3.141666666666666, \"pred\": 3.3434769024246873}, {\"true\": 1.4166666666666694, \"pred\": 3.290874065599069}, {\"true\": 7.566666666666667, \"pred\": 5.977864904131671}, {\"true\": 5.4638888888888895, \"pred\": 4.693496415734256}, {\"true\": 6.0249999999999995, \"pred\": 5.719700416068362}, {\"true\": 6.7472222222222245, \"pred\": 3.6823467672899826}, {\"true\": 2.390000000000002, \"pred\": 3.5077677636223608}, {\"true\": 5.878787878787881, \"pred\": 6.264984221520928}, {\"true\": 5.044444444444446, \"pred\": 4.698458808717016}, {\"true\": 5.054166666666668, \"pred\": 4.830084885926301}, {\"true\": 5.90392156862745, \"pred\": 5.609797482860385}, {\"true\": 2.4296296296296327, \"pred\": 3.9716500026310246}, {\"true\": 5.096875000000001, \"pred\": 5.175498574824189}, {\"true\": 4.451666666666666, \"pred\": 5.384383867885027}, {\"true\": 3.4711111111111137, \"pred\": 4.227409393897784}, {\"true\": 7.137179487179489, \"pred\": 8.470444479088167}, {\"true\": 3.8681818181818186, \"pred\": 4.067243067564047}, {\"true\": 3.705555555555559, \"pred\": 2.8168328994895675}, {\"true\": 5.014102564102564, \"pred\": 5.348266898102354}, {\"true\": 9.255128205128205, \"pred\": 7.350972112482595}, {\"true\": 3.3866666666666694, \"pred\": 3.58485311145714}, {\"true\": 3.173611111111112, \"pred\": 4.341602077166262}, {\"true\": 2.7300000000000013, \"pred\": 3.725004503799333}, {\"true\": 4.037878787878789, \"pred\": 4.500576876286891}, {\"true\": 6.448958333333332, \"pred\": 5.706852987864934}, {\"true\": 4.423809523809523, \"pred\": 4.824647283464588}, {\"true\": 5.696666666666667, \"pred\": 5.344570976508302}, {\"true\": 3.706666666666668, \"pred\": 3.8658737540862793}, {\"true\": 10.023333333333333, \"pred\": 4.477737887787138}, {\"true\": 5.921212121212122, \"pred\": 5.713734871629372}, {\"true\": 7.074444444444444, \"pred\": 6.441600179246103}, {\"true\": 3.6611111111111114, \"pred\": 3.7785177561780974}, {\"true\": 3.3312500000000025, \"pred\": 3.755368721968833}, {\"true\": 3.38939393939394, \"pred\": 4.143925700419057}, {\"true\": 5.670833333333333, \"pred\": 5.471674677683084}, {\"true\": 4.548484848484851, \"pred\": 6.958072998715361}, {\"true\": 1.5128205128205134, \"pred\": 3.283501833273076}, {\"true\": 4.650000000000001, \"pred\": 3.9917387899360697}, {\"true\": 3.3499999999999988, \"pred\": 3.464472372027532}, {\"true\": 2.7300000000000013, \"pred\": 3.9777504171898106}, {\"true\": 1.8166666666666684, \"pred\": 3.403165606897477}, {\"true\": 5.565384615384616, \"pred\": 5.48358482161784}, {\"true\": 5.676666666666668, \"pred\": 4.726140169507128}, {\"true\": 4.702083333333333, \"pred\": 5.465030037671601}, {\"true\": 3.9273809523809535, \"pred\": 5.635060294630439}, {\"true\": 4.420512820512822, \"pred\": 5.021255511805535}, {\"true\": 4.852564102564103, \"pred\": 4.692840711280369}, {\"true\": 3.2500000000000013, \"pred\": 4.388784938006557}, {\"true\": 2.9153846153846152, \"pred\": 3.9778267805059917}, {\"true\": 5.643333333333337, \"pred\": 5.480681054166413}, {\"true\": 5.615384615384615, \"pred\": 5.64093487265256}, {\"true\": 4.727777777777783, \"pred\": 3.3868235334519827}, {\"true\": 8.761904761904765, \"pred\": 8.057771119249715}, {\"true\": 4.784722222222222, \"pred\": 4.766260461925585}, {\"true\": 3.437878787878788, \"pred\": 4.508062937792601}, {\"true\": 3.8142857142857145, \"pred\": 4.025164426668939}, {\"true\": 7.964102564102564, \"pred\": 5.383547701105733}, {\"true\": 4.292857142857144, \"pred\": 4.812404825874742}, {\"true\": 4.485714285714291, \"pred\": 4.239244023062831}, {\"true\": 3.2064102564102566, \"pred\": 3.758047753144481}, {\"true\": 10.254545454545456, \"pred\": 7.96662462154713}, {\"true\": 6.662500000000001, \"pred\": 6.862286751980858}, {\"true\": 5.102564102564103, \"pred\": 5.610271159728886}, {\"true\": 5.484523809523812, \"pred\": 5.123440092899998}, {\"true\": 14.591666666666669, \"pred\": 10.379790336690418}, {\"true\": 4.697777777777778, \"pred\": 5.0192258838517185}, {\"true\": 3.6050000000000004, \"pred\": 4.223919916258347}, {\"true\": 1.4958333333333356, \"pred\": 2.4241702890775656}, {\"true\": 5.635714285714291, \"pred\": 4.184574161778963}, {\"true\": 3.360416666666671, \"pred\": 4.048197662223867}, {\"true\": 2.768750000000002, \"pred\": 3.671570287758969}, {\"true\": 4.436363636363638, \"pred\": 3.893684994735395}, {\"true\": 3.8437500000000036, \"pred\": 4.675524316175668}, {\"true\": 2.881250000000004, \"pred\": 3.1622915682522077}, {\"true\": 5.1761904761904765, \"pred\": 5.929994943778619}, {\"true\": 4.992307692307692, \"pred\": 3.9320295005136745}, {\"true\": 3.246875, \"pred\": 3.6510269869540912}, {\"true\": 5.678571428571429, \"pred\": 6.530939241731651}, {\"true\": 4.227083333333335, \"pred\": 4.939082735510536}, {\"true\": 3.1348484848484848, \"pred\": 4.950220560933296}, {\"true\": 6.6416666666666675, \"pred\": 6.350140180629012}, {\"true\": 3.412962962962965, \"pred\": 3.689565464566822}, {\"true\": 4.716666666666667, \"pred\": 5.804195062619083}, {\"true\": 7.577777777777779, \"pred\": 5.91372218456169}, {\"true\": 5.19166666666667, \"pred\": 4.663319656171877}, {\"true\": 3.8833333333333346, \"pred\": 3.98659496988562}, {\"true\": 2.785000000000001, \"pred\": 3.059184919359702}, {\"true\": 4.506250000000001, \"pred\": 4.920312092121046}, {\"true\": 1.850000000000008, \"pred\": 3.2921680288792894}, {\"true\": 2.1444444444444475, \"pred\": 2.955245809391673}, {\"true\": 5.93974358974359, \"pred\": 5.521001514394097}, {\"true\": 4.837777777777778, \"pred\": 4.506794360553849}, {\"true\": 6.097058823529412, \"pred\": 5.978864619464552}, {\"true\": 2.789583333333335, \"pred\": 4.83285190564254}, {\"true\": 3.911538461538462, \"pred\": 3.434571883941284}, {\"true\": 5.816666666666669, \"pred\": 5.576004998626625}, {\"true\": 3.5015151515151546, \"pred\": 2.4216049523489915}, {\"true\": 6.233333333333335, \"pred\": 6.333989101859291}, {\"true\": 2.533333333333335, \"pred\": 3.265292939737829}, {\"true\": 1.4761904761904814, \"pred\": 3.116719118471726}, {\"true\": 6.161904761904762, \"pred\": 5.901092962606534}, {\"true\": 7.814444444444446, \"pred\": 7.139122920070186}, {\"true\": 4.890476190476191, \"pred\": 5.023513519123947}, {\"true\": 5.257142857142858, \"pred\": 4.993985504326268}, {\"true\": 4.437878787878788, \"pred\": 4.378601102937652}, {\"true\": 4.876666666666665, \"pred\": 3.514882114582465}, {\"true\": 3.0687500000000014, \"pred\": 2.655720253487213}, {\"true\": 2.245833333333338, \"pred\": 3.9566981646030612}, {\"true\": 4.915625000000002, \"pred\": 5.7394504497485155}, {\"true\": 6.712500000000005, \"pred\": 6.969390149220682}, {\"true\": 4.537878787878788, \"pred\": 6.050735483620448}, {\"true\": 2.8648148148148147, \"pred\": 3.842779269725421}, {\"true\": 7.953571428571429, \"pred\": 7.59217380807765}, {\"true\": 5.058333333333334, \"pred\": 4.029104695663469}, {\"true\": 3.424074074074076, \"pred\": 3.7017641078248}, {\"true\": 6.328571428571428, \"pred\": 4.047565408144691}, {\"true\": 3.5015151515151546, \"pred\": 3.1046840065924046}, {\"true\": 2.658333333333342, \"pred\": 3.3294253955434296}, {\"true\": 6.138888888888888, \"pred\": 6.657780822450183}, {\"true\": 7.25, \"pred\": 5.482215204308502}, {\"true\": 2.8133333333333335, \"pred\": 3.8364780596565566}, {\"true\": 8.429166666666669, \"pred\": 6.784439279859609}, {\"true\": 3.487500000000001, \"pred\": 3.4104046993437414}, {\"true\": 2.5527777777777785, \"pred\": 3.8785180229440197}, {\"true\": 4.587179487179489, \"pred\": 4.171481813858385}, {\"true\": 6.797222222222223, \"pred\": 6.791921161817852}, {\"true\": 3.4761904761904785, \"pred\": 4.832255791136008}, {\"true\": 3.0148148148148146, \"pred\": 3.414193737101193}, {\"true\": 4.661904761904763, \"pred\": 5.791519450490747}, {\"true\": 2.505555555555558, \"pred\": 4.042150462084414}, {\"true\": 1.9888888888889007, \"pred\": 2.9895396038963136}, {\"true\": 4.238888888888891, \"pred\": 3.845817707928444}, {\"true\": 4.548484848484851, \"pred\": 6.9433975666963095}, {\"true\": 4.500000000000001, \"pred\": 6.945442949943097}, {\"true\": 3.0027777777777804, \"pred\": 4.356117863275667}, {\"true\": 5.555555555555556, \"pred\": 5.698390601614229}, {\"true\": 5.809375000000003, \"pred\": 5.7426783694430386}, {\"true\": 2.295833333333335, \"pred\": 3.2562990902863342}, {\"true\": 5.926388888888891, \"pred\": 6.611973924028418}, {\"true\": 3.2722222222222235, \"pred\": 3.5836030543328334}, {\"true\": 2.377777777777779, \"pred\": 3.0979485511437757}, {\"true\": 2.964814814814817, \"pred\": 3.529159415580068}, {\"true\": 3.519444444444447, \"pred\": 3.6304678049448884}, {\"true\": 6.729166666666668, \"pred\": 4.399436188944559}, {\"true\": 7.987719298245615, \"pred\": 6.896355176771674}, {\"true\": 7.694444444444445, \"pred\": 6.486369799907295}, {\"true\": 4.222916666666672, \"pred\": 4.233036371211504}, {\"true\": 5.658823529411765, \"pred\": 5.349143958516556}, {\"true\": 2.3858974358974363, \"pred\": 3.7346305100902812}, {\"true\": 1.584848484848488, \"pred\": 2.287593349990831}, {\"true\": 5.658333333333333, \"pred\": 6.213158783445055}, {\"true\": 6.450000000000003, \"pred\": 5.352744925098775}, {\"true\": 6.412962962962964, \"pred\": 6.350515931955009}, {\"true\": 6.081944444444446, \"pred\": 6.254903693785453}, {\"true\": 7.344444444444445, \"pred\": 6.906301992389541}, {\"true\": 5.329761904761905, \"pred\": 5.699989553027667}, {\"true\": 8.132051282051282, \"pred\": 7.128535782423485}, {\"true\": 1.776190476190481, \"pred\": 2.9455622597134}, {\"true\": 5.320512820512822, \"pred\": 5.265113042667511}, {\"true\": 9.72888888888889, \"pred\": 9.470896354487145}, {\"true\": 3.2523809523809524, \"pred\": 4.191486431634989}, {\"true\": 2.813636363636365, \"pred\": 3.679657087380483}, {\"true\": 3.951851851851853, \"pred\": 4.4546031747776835}, {\"true\": 7.2375, \"pred\": 6.617819532272511}, {\"true\": 9.700000000000017, \"pred\": 4.454372497154708}, {\"true\": 2.9428571428571453, \"pred\": 3.142717166606055}, {\"true\": 4.942592592592593, \"pred\": 5.852805678221265}, {\"true\": 5.311904761904766, \"pred\": 3.4382829974696136}, {\"true\": 6.139583333333338, \"pred\": 4.255952086720455}, {\"true\": 5.327777777777779, \"pred\": 4.866898414751214}, {\"true\": 3.0972222222222214, \"pred\": 3.2051703244623493}, {\"true\": 2.3333333333333335, \"pred\": 2.077775799893618}, {\"true\": 10.575641025641026, \"pred\": 6.846593176948022}, {\"true\": 6.6000000000000005, \"pred\": 5.7702218798918015}, {\"true\": 4.23703703703704, \"pred\": 4.821678624243611}, {\"true\": 7.201851851851853, \"pred\": 5.162576122584508}, {\"true\": 4.74848484848485, \"pred\": 5.196701219030316}, {\"true\": 4.351282051282052, \"pred\": 4.403034811784241}, {\"true\": 2.6944444444444557, \"pred\": 2.5102946976758123}, {\"true\": 6.860416666666671, \"pred\": 6.665401374994379}, {\"true\": 5.251041666666668, \"pred\": 5.422872218852875}, {\"true\": 4.680952380952384, \"pred\": 4.084137139249081}, {\"true\": 7.45476190476191, \"pred\": 6.959539249610968}, {\"true\": 7.003030303030303, \"pred\": 6.293197999039899}, {\"true\": 3.7499999999999987, \"pred\": 4.631138359651752}, {\"true\": 10.237500000000002, \"pred\": 6.26048133371778}, {\"true\": 3.288888888888893, \"pred\": 4.694811348572753}, {\"true\": 4.989285714285716, \"pred\": 4.536722320689901}, {\"true\": 4.188095238095244, \"pred\": 3.6432462729312323}, {\"true\": 3.277083333333333, \"pred\": 3.9087879601523285}, {\"true\": 4.588888888888891, \"pred\": 5.0281582708060055}, {\"true\": 6.207575757575759, \"pred\": 5.73206720978954}, {\"true\": 5.891111111111112, \"pred\": 5.02043775686567}, {\"true\": 5.116666666666668, \"pred\": 4.441231229130187}, {\"true\": 2.638888888888891, \"pred\": 4.752858293265911}, {\"true\": 1.7687500000000012, \"pred\": 3.1962570894253792}, {\"true\": 7.732051282051283, \"pred\": 7.133823855776869}, {\"true\": 1.7791666666666686, \"pred\": 2.9667347961570107}, {\"true\": 2.261904761904765, \"pred\": 2.368222552747475}, {\"true\": 4.647777777777779, \"pred\": 5.366893349761542}, {\"true\": 0.7472222222222246, \"pred\": 2.4304829497380647}, {\"true\": 4.976923076923077, \"pred\": 5.663543188206907}, {\"true\": 1.4333333333333376, \"pred\": 2.275428988921079}, {\"true\": 6.58, \"pred\": 6.152174493079312}, {\"true\": 3.741666666666667, \"pred\": 3.4428800193226357}, {\"true\": 2.4651515151515184, \"pred\": 2.6121831832993228}, {\"true\": 1.8625000000000058, \"pred\": 2.2726700290940363}, {\"true\": 4.996969696969699, \"pred\": 5.136905462351826}, {\"true\": 6.791111111111113, \"pred\": 4.896401346169157}, {\"true\": 3.4562500000000043, \"pred\": 2.2185406705205044}, {\"true\": 3.1583333333333323, \"pred\": 4.210079591402502}, {\"true\": 8.398717948717948, \"pred\": 7.014161146504453}, {\"true\": 3.0833333333333353, \"pred\": 3.5917823938325304}, {\"true\": 2.8714285714285728, \"pred\": 3.897477379941259}, {\"true\": 4.868888888888889, \"pred\": 5.0503133469028745}, {\"true\": 2.641666666666667, \"pred\": 4.965436718971404}, {\"true\": 1.5777777777777797, \"pred\": 2.3101282833777104}, {\"true\": 6.639999999999999, \"pred\": 6.9984899568464165}, {\"true\": 4.066666666666668, \"pred\": 5.117790673667269}, {\"true\": 4.990909090909091, \"pred\": 5.2295841335019295}, {\"true\": 2.2722222222222226, \"pred\": 4.8065581782904045}, {\"true\": 3.640277777777778, \"pred\": 4.756738589995441}, {\"true\": 0.46111111111112296, \"pred\": 1.4553318295969302}, {\"true\": 8.68095238095238, \"pred\": 5.326518270091591}, {\"true\": 7.071875000000002, \"pred\": 6.506772463990173}, {\"true\": 5.595370370370371, \"pred\": 5.760421267569411}, {\"true\": 6.822619047619049, \"pred\": 6.0723914324503125}, {\"true\": 0.32222222222222696, \"pred\": 2.135322431655232}, {\"true\": 2.787500000000002, \"pred\": 4.163224366335232}, {\"true\": 3.02666666666667, \"pred\": 3.6702495829499564}, {\"true\": 2.87666666666667, \"pred\": 3.4932774998767924}, {\"true\": 2.8583333333333347, \"pred\": 3.3592902081408096}, {\"true\": 2.8583333333333347, \"pred\": 3.461652080407501}, {\"true\": 5.012500000000001, \"pred\": 3.920639091647948}, {\"true\": 3.5051282051282064, \"pred\": 3.0664293820563726}, {\"true\": 6.116666666666666, \"pred\": 6.301380574450286}, {\"true\": 7.266666666666667, \"pred\": 5.688809243927101}, {\"true\": 6.445555555555558, \"pred\": 6.371273189910342}, {\"true\": 6.043750000000005, \"pred\": 6.072456779633087}, {\"true\": 3.0729166666666665, \"pred\": 4.443208260255446}, {\"true\": 3.402777777777778, \"pred\": 3.6462439742610657}, {\"true\": 0.6083333333333413, \"pred\": 1.336870093914372}, {\"true\": 3.6311111111111125, \"pred\": 3.6861227329660777}, {\"true\": 2.5944444444444468, \"pred\": 4.634853486544261}, {\"true\": 1.9916666666666756, \"pred\": 2.9623142828619597}, {\"true\": 4.01, \"pred\": 4.894426251890577}, {\"true\": 6.686904761904764, \"pred\": 6.450064958391092}, {\"true\": 4.788888888888893, \"pred\": 5.105204123238143}, {\"true\": 7.740277777777778, \"pred\": 7.032380007808685}, {\"true\": 7.080303030303032, \"pred\": 5.237516380841438}, {\"true\": 5.177083333333335, \"pred\": 4.118996912320421}, {\"true\": 1.180952380952382, \"pred\": 3.0217656584096413}, {\"true\": 4.933333333333332, \"pred\": 5.473898019867238}, {\"true\": 8.831111111111111, \"pred\": 9.053291545189738}, {\"true\": 5.496296296296297, \"pred\": 4.679734030937359}, {\"true\": 3.608333333333351, \"pred\": 2.8761843337395603}, {\"true\": 3.952564102564103, \"pred\": 3.8859994212184223}, {\"true\": 6.354166666666668, \"pred\": 6.148523756252575}, {\"true\": 7.45897435897436, \"pred\": 6.9057990911397455}, {\"true\": 3.6742424242424248, \"pred\": 4.864458413423103}, {\"true\": 3.780000000000002, \"pred\": 5.09021155908507}, {\"true\": 5.336904761904761, \"pred\": 4.860147214367685}, {\"true\": 1.5166666666666713, \"pred\": 2.6550740162628568}, {\"true\": 5.170833333333333, \"pred\": 5.158287775978823}, {\"true\": 3.3904761904761918, \"pred\": 3.570010276227073}, {\"true\": 5.968055555555558, \"pred\": 5.265818011107577}, {\"true\": 7.732051282051283, \"pred\": 6.561784469274546}, {\"true\": 6.6805555555555545, \"pred\": 5.381844197581448}, {\"true\": 2.5152777777777793, \"pred\": 2.8655854704920283}, {\"true\": 6.081250000000002, \"pred\": 5.528680887580889}, {\"true\": 3.0013888888888896, \"pred\": 5.0559367199798855}, {\"true\": 2.0782051282051297, \"pred\": 3.786486953088881}, {\"true\": 3.47948717948718, \"pred\": 4.8453063653535935}, {\"true\": 3.9916666666666685, \"pred\": 4.938633450999021}, {\"true\": 3.1574074074074074, \"pred\": 4.7436939579241315}, {\"true\": 4.3820512820512825, \"pred\": 4.097200010877819}, {\"true\": 4.921794871794872, \"pred\": 3.0975867904402095}, {\"true\": 3.9512820512820506, \"pred\": 3.747282832161602}, {\"true\": 2.488095238095243, \"pred\": 2.8188845487202236}, {\"true\": 0.5333333333333421, \"pred\": 3.858280174218045}, {\"true\": 3.8651515151515157, \"pred\": 4.5484721706543905}, {\"true\": 4.803703703703706, \"pred\": 4.075079508432515}, {\"true\": 9.762500000000001, \"pred\": 6.6814585673494875}, {\"true\": 6.917857142857144, \"pred\": 6.944480439873119}, {\"true\": 2.1690476190476202, \"pred\": 3.152561946999742}, {\"true\": 2.100000000000004, \"pred\": 3.553189295017574}, {\"true\": 3.9750000000000005, \"pred\": 4.493180628013541}, {\"true\": 5.793939393939393, \"pred\": 5.529640762788802}, {\"true\": 3.9902777777777785, \"pred\": 4.035346886877079}, {\"true\": 2.8916666666666684, \"pred\": 5.769970957257182}, {\"true\": 2.2583333333333333, \"pred\": 5.430552108126255}, {\"true\": 4.753030303030304, \"pred\": 4.059966187897112}, {\"true\": 9.339583333333335, \"pred\": 6.7100356355009785}, {\"true\": 5.48846153846154, \"pred\": 6.055719945979995}, {\"true\": 7.679487179487179, \"pred\": 6.705420888863903}, {\"true\": 3.686111111111112, \"pred\": 3.5478525720250156}, {\"true\": 12.353703703703708, \"pred\": 7.456558513526044}, {\"true\": 5.421875, \"pred\": 6.37161098731506}, {\"true\": 4.598611111111112, \"pred\": 5.765925980909944}, {\"true\": 4.575000000000005, \"pred\": 5.855173421576825}, {\"true\": 5.760000000000002, \"pred\": 5.1713502952491135}, {\"true\": 5.15897435897436, \"pred\": 4.697899878694404}, {\"true\": 4.497916666666668, \"pred\": 4.531181785917808}, {\"true\": 12.356250000000003, \"pred\": 8.886207204122442}, {\"true\": 5.147435897435899, \"pred\": 4.7417628429130865}, {\"true\": 4.534444444444445, \"pred\": 4.622465568491587}, {\"true\": 5.041666666666671, \"pred\": 5.314284979778762}, {\"true\": 5.969047619047622, \"pred\": 5.552555219296216}, {\"true\": 9.563888888888895, \"pred\": 7.402445845895054}, {\"true\": 3.2694444444444497, \"pred\": 4.2800942158699256}, {\"true\": 3.1650000000000036, \"pred\": 3.5513386717124833}, {\"true\": 6.840000000000001, \"pred\": 5.283316831233251}, {\"true\": 4.953571428571431, \"pred\": 5.086297147771985}, {\"true\": 4.543333333333335, \"pred\": 4.368864519971917}, {\"true\": 6.319696969696972, \"pred\": 6.755579010062577}, {\"true\": 3.0761904761904773, \"pred\": 3.6685420311063086}, {\"true\": 5.001515151515153, \"pred\": 5.7083169587960345}, {\"true\": 2.427083333333335, \"pred\": 4.660659379381201}, {\"true\": 2.1277777777777778, \"pred\": 4.097424648596552}, {\"true\": 8.01547619047619, \"pred\": 5.492819765062273}, {\"true\": 7.878787878787881, \"pred\": 6.6313854306721876}, {\"true\": 6.254545454545456, \"pred\": 7.414084450101978}, {\"true\": 4.7444444444444445, \"pred\": 3.9774111155385556}, {\"true\": 4.583333333333333, \"pred\": 4.71129561255943}, {\"true\": 1.7972222222222254, \"pred\": 2.341953237663088}, {\"true\": 5.134615384615385, \"pred\": 5.350134880242643}, {\"true\": 8.925925925925926, \"pred\": 6.9464426550315075}, {\"true\": 6.113333333333334, \"pred\": 5.610587009533748}, {\"true\": 2.5194444444444457, \"pred\": 3.684096910969909}, {\"true\": 3.2083333333333353, \"pred\": 4.118366090197394}, {\"true\": 7.379487179487179, \"pred\": 7.095767609914863}, {\"true\": 5.526923076923078, \"pred\": 5.974288361342566}, {\"true\": 18.858333333333334, \"pred\": 3.7849616160925126}, {\"true\": 8.848333333333334, \"pred\": 6.607639249821952}, {\"true\": 5.927083333333334, \"pred\": 5.785288286549117}, {\"true\": 2.4642857142857144, \"pred\": 3.1574531615009716}, {\"true\": 4.821111111111112, \"pred\": 4.791611091886586}, {\"true\": 6.113333333333334, \"pred\": 5.994200227837713}, {\"true\": 4.1375, \"pred\": 4.673183414772286}, {\"true\": 5.520833333333336, \"pred\": 5.22187451340049}, {\"true\": 5.541666666666667, \"pred\": 4.512124120060003}, {\"true\": 4.154166666666667, \"pred\": 4.6900008448764625}, {\"true\": 5.617857142857145, \"pred\": 5.34792413518297}, {\"true\": 1.7833333333333654, \"pred\": 2.20546177433179}, {\"true\": 7.754545454545457, \"pred\": 6.353357897280668}, {\"true\": 6.345833333333334, \"pred\": 5.166370725215832}, {\"true\": 6.1423076923076945, \"pred\": 5.876426901489892}, {\"true\": 4.957692307692307, \"pred\": 4.768860259212412}, {\"true\": 5.240000000000006, \"pred\": 3.664387532926929}, {\"true\": 4.158333333333339, \"pred\": 3.6519597636062446}, {\"true\": 0.4333333333333393, \"pred\": 1.5275590269284196}, {\"true\": 2.8772727272727305, \"pred\": 2.7369694907844346}, {\"true\": 2.9166666666666687, \"pred\": 4.284608951661079}, {\"true\": 4.226666666666668, \"pred\": 5.155521366076602}, {\"true\": 3.233333333333339, \"pred\": 2.30243494044272}, {\"true\": 3.727380952380954, \"pred\": 4.579999536745315}, {\"true\": 3.573333333333337, \"pred\": 3.1371924947099807}, {\"true\": 3.487500000000001, \"pred\": 3.644146669784957}, {\"true\": 7.356410256410258, \"pred\": 5.614313821733815}, {\"true\": 5.183333333333333, \"pred\": 4.435523560295355}, {\"true\": 5.563636363636366, \"pred\": 4.240657122705165}, {\"true\": 6.014285714285714, \"pred\": 5.703574226680124}, {\"true\": 5.197222222222224, \"pred\": 4.870614696290976}, {\"true\": 3.225641025641027, \"pred\": 4.188539487638131}, {\"true\": 3.1305555555555586, \"pred\": 4.790182831969128}, {\"true\": 5.6343137254901965, \"pred\": 5.318867232670221}, {\"true\": 4.796875, \"pred\": 5.517135253094529}, {\"true\": 3.4393939393939403, \"pred\": 3.9908165390632373}, {\"true\": 4.933333333333332, \"pred\": 3.518197422915889}, {\"true\": 3.230952380952382, \"pred\": 5.027581302208755}, {\"true\": 3.237037037037037, \"pred\": 4.305089701092758}, {\"true\": 2.0893939393939402, \"pred\": 3.46042120480781}, {\"true\": 9.282051282051283, \"pred\": 7.246114068772672}, {\"true\": 4.548333333333335, \"pred\": 3.9537610432379853}, {\"true\": 2.1129629629629667, \"pred\": 3.354523894161282}, {\"true\": 3.7976190476190466, \"pred\": 4.216449320339113}, {\"true\": 2.514285714285719, \"pred\": 2.3905553369607433}, {\"true\": 6.253846153846154, \"pred\": 4.09104778272676}, {\"true\": 4.40166666666667, \"pred\": 3.567756710843459}, {\"true\": 5.0076923076923086, \"pred\": 5.509846865426789}, {\"true\": 4.764814814814814, \"pred\": 4.67198177816741}, {\"true\": 3.6404761904761926, \"pred\": 3.3101463793370933}, {\"true\": 7.079166666666667, \"pred\": 5.215672431821654}, {\"true\": 4.250000000000002, \"pred\": 4.4952177874337576}, {\"true\": 10.961538461538463, \"pred\": 9.906223069169087}, {\"true\": 7.177777777777778, \"pred\": 7.703706301505331}, {\"true\": 6.933333333333335, \"pred\": 4.823446631425836}, {\"true\": 1.5222222222222246, \"pred\": 2.6443012632537966}, {\"true\": 5.383333333333335, \"pred\": 6.851848759062935}, {\"true\": 3.881818181818183, \"pred\": 3.242514176759096}, {\"true\": 5.488333333333334, \"pred\": 4.68662702374285}, {\"true\": 4.413095238095239, \"pred\": 3.612603765440023}, {\"true\": 4.679166666666668, \"pred\": 4.478127385016149}, {\"true\": 2.9000000000000004, \"pred\": 3.508274333491356}, {\"true\": 3.5212121212121215, \"pred\": 3.573654516129962}, {\"true\": 2.9694444444444454, \"pred\": 4.285323309012798}, {\"true\": 5.7093750000000005, \"pred\": 5.34982455608772}, {\"true\": 2.552777777777781, \"pred\": 3.8900203893478085}, {\"true\": 4.776666666666669, \"pred\": 4.64482687993334}, {\"true\": 4.746666666666666, \"pred\": 4.405086347574859}, {\"true\": 4.226190476190481, \"pred\": 3.756172043705505}, {\"true\": 2.9023809523809527, \"pred\": 3.498851456740906}, {\"true\": 3.8277777777777797, \"pred\": 3.998407002605511}, {\"true\": 5.395833333333334, \"pred\": 5.1313729447672785}, {\"true\": 6.805555555555557, \"pred\": 6.15199933737517}, {\"true\": 5.846428571428573, \"pred\": 4.664138168366117}, {\"true\": 2.4916666666666676, \"pred\": 3.5504022029423767}, {\"true\": 1.9916666666666756, \"pred\": 2.806320668001713}, {\"true\": 6.361904761904763, \"pred\": 3.6303509859593714}, {\"true\": 4.118333333333333, \"pred\": 5.380550558307732}, {\"true\": 2.000000000000005, \"pred\": 3.9492246308534913}, {\"true\": 8.146875, \"pred\": 8.621224777648386}, {\"true\": 5.1541666666666694, \"pred\": 5.742800808632464}, {\"true\": 8.01547619047619, \"pred\": 5.8267501203801855}, {\"true\": 5.379166666666667, \"pred\": 5.21323265603057}, {\"true\": 6.60897435897436, \"pred\": 4.742535496605414}, {\"true\": 8.28703703703704, \"pred\": 5.672665345933645}, {\"true\": 3.3499999999999988, \"pred\": 4.094470276221463}, {\"true\": 4.333333333333335, \"pred\": 5.697790334321232}, {\"true\": 8.388888888888891, \"pred\": 7.053829241592195}, {\"true\": 4.932051282051282, \"pred\": 5.889707389229219}, {\"true\": 5.7294871794871804, \"pred\": 6.29176301066518}, {\"true\": 2.281481481481485, \"pred\": 2.3629813829668858}, {\"true\": 4.270000000000001, \"pred\": 1.8701561096250119}, {\"true\": 5.298611111111111, \"pred\": 4.661050404053097}, {\"true\": 2.9269230769230767, \"pred\": 3.503946502279329}, {\"true\": 2.537500000000009, \"pred\": 2.3929539349801}, {\"true\": 5.067777777777778, \"pred\": 5.092155713375188}, {\"true\": 6.125925925925928, \"pred\": 6.651179315040946}, {\"true\": 5.0966666666666685, \"pred\": 4.49061843583118}, {\"true\": 8.468333333333337, \"pred\": 7.494438340285747}, {\"true\": 2.50666666666667, \"pred\": 1.9275206602150934}, {\"true\": 4.063636363636366, \"pred\": 4.1011895260509}, {\"true\": 3.1000000000000028, \"pred\": 3.272508618168102}, {\"true\": 11.851041666666667, \"pred\": 11.316420310004165}, {\"true\": 4.709722222222222, \"pred\": 6.3112443714321955}, {\"true\": 7.4870370370370365, \"pred\": 6.62593453574629}, {\"true\": 5.289393939393941, \"pred\": 5.419959920061224}, {\"true\": 5.692222222222223, \"pred\": 5.534896485948469}, {\"true\": 3.389393939393943, \"pred\": 3.5482462104541272}, {\"true\": 2.9388888888888887, \"pred\": 3.658065820981332}, {\"true\": 3.679761904761906, \"pred\": 4.541497298986555}, {\"true\": 4.344444444444444, \"pred\": 4.326891906187498}, {\"true\": 6.935714285714288, \"pred\": 5.559046010782542}, {\"true\": 2.8944444444444497, \"pred\": 4.199415146991483}, {\"true\": 5.2955555555555565, \"pred\": 4.075526811247711}, {\"true\": 3.1277777777777795, \"pred\": 3.2608683607086015}, {\"true\": 4.622916666666667, \"pred\": 5.069710392882631}, {\"true\": 4.33888888888889, \"pred\": 3.301926577296716}, {\"true\": 4.0166666666666675, \"pred\": 4.56646065075342}, {\"true\": 6.262500000000001, \"pred\": 6.657452669372435}, {\"true\": 5.280555555555557, \"pred\": 6.347076208906872}, {\"true\": 5.233333333333334, \"pred\": 6.179198402096179}, {\"true\": 8.28703703703704, \"pred\": 6.098112926894381}, {\"true\": 6.243055555555556, \"pred\": 6.663771615647514}, {\"true\": 4.842708333333334, \"pred\": 4.3962002905071245}, {\"true\": 6.6499999999999995, \"pred\": 6.135237616534175}, {\"true\": 4.882222222222223, \"pred\": 5.180547953449251}, {\"true\": 3.966666666666668, \"pred\": 3.8338705673687876}, {\"true\": 5.305555555555558, \"pred\": 4.815260921756747}, {\"true\": 5.686363636363636, \"pred\": 4.547823106865374}, {\"true\": 5.128571428571428, \"pred\": 3.982947196942113}, {\"true\": 4.827777777777778, \"pred\": 4.349919551590896}, {\"true\": 7.296666666666667, \"pred\": 6.816640984225901}, {\"true\": 2.5090909090909097, \"pred\": 3.284177625840913}, {\"true\": 2.025925925925928, \"pred\": 1.9130106345554474}, {\"true\": 4.248484848484851, \"pred\": 4.181121075552428}, {\"true\": 2.156060606060609, \"pred\": 3.7056107389358317}, {\"true\": 3.2333333333333343, \"pred\": 3.549772311298804}, {\"true\": 4.401282051282052, \"pred\": 4.73998204140944}, {\"true\": 5.182352941176473, \"pred\": 6.309932106266507}, {\"true\": 3.5702380952380977, \"pred\": 4.2541911936391985}, {\"true\": 4.392857142857143, \"pred\": 4.878666028533011}, {\"true\": 7.366666666666669, \"pred\": 6.414586328742166}, {\"true\": 6.239393939393943, \"pred\": 3.9265348356172898}, {\"true\": 4.7059523809523816, \"pred\": 4.607364643728005}, {\"true\": 4.061111111111113, \"pred\": 6.103966320454988}, {\"true\": 7.561904761904763, \"pred\": 5.208055736201947}, {\"true\": 5.8725, \"pred\": 6.09771381475919}, {\"true\": 7.21666666666667, \"pred\": 7.272043720879078}, {\"true\": 4.315555555555556, \"pred\": 4.825998743114591}, {\"true\": 7.837878787878788, \"pred\": 7.023087421524479}, {\"true\": 5.014285714285715, \"pred\": 5.536932305336157}, {\"true\": 9.637878787878789, \"pred\": 7.831256148314345}, {\"true\": 4.200000000000002, \"pred\": 4.688554616652116}, {\"true\": 2.702777777777777, \"pred\": 3.2775075763484254}, {\"true\": 6.345833333333334, \"pred\": 6.096304341388095}, {\"true\": 0.24166666666667377, \"pred\": 2.717754655628826}, {\"true\": 6.233333333333335, \"pred\": 6.456219489120514}, {\"true\": 2.6766666666666703, \"pred\": 3.3778945984140503}, {\"true\": 4.211666666666668, \"pred\": 4.139094693934272}, {\"true\": 4.471794871794872, \"pred\": 4.212479789380635}, {\"true\": 5.576666666666667, \"pred\": 4.90531219477449}, {\"true\": 4.8761904761904775, \"pred\": 4.801542248314106}, {\"true\": 6.127777777777778, \"pred\": 5.621625722303264}, {\"true\": 5.102564102564103, \"pred\": 5.095197754160968}, {\"true\": 6.2902777777777805, \"pred\": 5.562695298601976}, {\"true\": 6.5654761904761925, \"pred\": 4.855394382643036}, {\"true\": 2.8638888888888903, \"pred\": 4.5470181272851145}, {\"true\": 9.76794871794872, \"pred\": 5.736631788716338}, {\"true\": 4.65, \"pred\": 4.604296183899293}, {\"true\": 3.0988095238095243, \"pred\": 3.9409774766289236}, {\"true\": 5.235555555555556, \"pred\": 4.6724588942224035}, {\"true\": 5.535, \"pred\": 4.813457613254404}, {\"true\": 1.4958333333333356, \"pred\": 2.7269043424103305}, {\"true\": 8.109375, \"pred\": 7.906348005027772}, {\"true\": 1.7592592592592606, \"pred\": 2.9632606461189264}, {\"true\": 4.409722222222222, \"pred\": 5.007871455030652}, {\"true\": 0.5783333333333361, \"pred\": 2.5014159473413446}, {\"true\": 3.7722222222222253, \"pred\": 4.9746301081642805}, {\"true\": 7.0000000000000036, \"pred\": 5.077279235367632}, {\"true\": 7.026666666666669, \"pred\": 8.3080428585708}, {\"true\": 6.165555555555557, \"pred\": 6.691042298186966}, {\"true\": 8.801666666666668, \"pred\": 7.090403341053828}, {\"true\": 4.875925925925926, \"pred\": 4.84160943811483}, {\"true\": 5.103571428571432, \"pred\": 4.014039221670549}, {\"true\": 4.3015151515151535, \"pred\": 5.47471288648813}, {\"true\": 1.7291666666666674, \"pred\": 4.390682837828611}, {\"true\": 5.2745098039215685, \"pred\": 5.081936464536642}, {\"true\": 2.6562500000000044, \"pred\": 2.511446618440384}, {\"true\": 6.429487179487182, \"pred\": 5.865727793291088}, {\"true\": 3.3742424242424254, \"pred\": 5.102124490282155}, {\"true\": 5.510714285714286, \"pred\": 4.8793406903303795}, {\"true\": 1.383333333333344, \"pred\": 2.245049495927247}, {\"true\": 6.852222222222222, \"pred\": 5.042115986807447}, {\"true\": 7.785714285714286, \"pred\": 7.021260101713939}, {\"true\": 4.893750000000001, \"pred\": 7.164488064194081}, {\"true\": 5.895238095238095, \"pred\": 4.451020084657787}, {\"true\": 4.5680555555555555, \"pred\": 5.049788094749231}, {\"true\": 5.373333333333334, \"pred\": 5.2430446371102155}, {\"true\": 5.028787878787878, \"pred\": 3.6918092336859423}, {\"true\": 4.783333333333335, \"pred\": 4.087094243831142}, {\"true\": 5.6655555555555575, \"pred\": 5.376521345614921}, {\"true\": 8.11851851851852, \"pred\": 5.7539050979316375}, {\"true\": 4.974358974358976, \"pred\": 6.052287447166063}, {\"true\": 2.9694444444444454, \"pred\": 4.528979885255405}, {\"true\": 11.066666666666668, \"pred\": 10.128736650879478}, {\"true\": 7.134722222222223, \"pred\": 5.934436461347154}, {\"true\": 3.608333333333351, \"pred\": 2.8705207248149165}, {\"true\": 4.272222222222222, \"pred\": 5.274872264451005}, {\"true\": 5.277380952380954, \"pred\": 5.5994473784780965}, {\"true\": 2.9909090909090907, \"pred\": 3.9854517315784355}, {\"true\": 5.532222222222221, \"pred\": 4.2977885340444555}, {\"true\": 0.4666666666666738, \"pred\": 3.042280219632922}, {\"true\": 3.352777777777778, \"pred\": 3.141863070952154}, {\"true\": 2.523076923076924, \"pred\": 3.231695011569701}, {\"true\": 2.0121212121212135, \"pred\": 1.942655117955176}, {\"true\": 6.225000000000001, \"pred\": 5.940964709639992}, {\"true\": 2.504166666666671, \"pred\": 2.3363442066942586}, {\"true\": 3.3866666666666694, \"pred\": 3.7781287793844545}, {\"true\": 5.331481481481482, \"pred\": 4.618766067489259}, {\"true\": 2.909722222222223, \"pred\": 3.4095140233229335}, {\"true\": 2.151388888888889, \"pred\": 5.296590689481645}, {\"true\": 5.921189464667502e-15, \"pred\": 1.6010480443297426}, {\"true\": 8.13541666666667, \"pred\": 5.2508535798291796}, {\"true\": 4.451515151515153, \"pred\": 4.216574292127388}, {\"true\": 4.451515151515153, \"pred\": 4.037094117145876}, {\"true\": 5.800000000000002, \"pred\": 5.565677922078006}, {\"true\": 2.3800000000000017, \"pred\": 3.333970159078688}, {\"true\": 4.825, \"pred\": 4.534586924575408}, {\"true\": 6.941666666666665, \"pred\": 5.011863838780308}, {\"true\": 3.313636363636364, \"pred\": 4.3727110519889845}, {\"true\": 4.325000000000001, \"pred\": 5.603748039777452}, {\"true\": 6.641666666666675, \"pred\": 2.3435770025282467}, {\"true\": 6.238888888888889, \"pred\": 4.953252705122023}, {\"true\": 0.6916666666666691, \"pred\": 1.902525034189883}, {\"true\": 3.960714285714286, \"pred\": 4.253808788777684}, {\"true\": 7.240000000000002, \"pred\": 6.3591274717083435}, {\"true\": 2.5166666666666684, \"pred\": 4.940894887635922}, {\"true\": 9.282051282051283, \"pred\": 7.777858266365276}, {\"true\": 8.305000000000001, \"pred\": 7.594614026449681}, {\"true\": 3.541025641025641, \"pred\": 3.4432453869669346}, {\"true\": 6.781818181818185, \"pred\": 5.857471563800957}, {\"true\": 3.8472222222222237, \"pred\": 4.613483438416558}, {\"true\": 9.36851851851852, \"pred\": 8.483300218724693}, {\"true\": 4.08809523809524, \"pred\": 3.7870871793068166}, {\"true\": 2.3650000000000038, \"pred\": 2.479903912240544}, {\"true\": 4.1690476190476184, \"pred\": 4.408390756398895}, {\"true\": 5.830000000000007, \"pred\": 5.51270819917278}, {\"true\": 4.072727272727274, \"pred\": 5.299594890985391}, {\"true\": 2.8583333333333347, \"pred\": 4.167545484892214}, {\"true\": 5.193939393939396, \"pred\": 5.870284376590039}, {\"true\": 10.697222222222223, \"pred\": 10.838287321244666}, {\"true\": 9.678787878787881, \"pred\": 7.296505265578102}, {\"true\": 1.100000000000007, \"pred\": 1.941059559860015}, {\"true\": 9.593333333333337, \"pred\": 8.739196697917194}, {\"true\": 2.6777777777777794, \"pred\": 3.5236172834690715}, {\"true\": 4.627272727272729, \"pred\": 5.622829306507678}, {\"true\": 1.7763568394002505e-14, \"pred\": 0.8832727094207026}, {\"true\": 5.183333333333333, \"pred\": 3.6959731972182204}, {\"true\": 6.221111111111112, \"pred\": 4.429279222477013}, {\"true\": 4.7666666666666995, \"pred\": 3.0373671142779997}, {\"true\": 5.588888888888889, \"pred\": 4.559962788623737}, {\"true\": 7.356410256410258, \"pred\": 5.894428422540954}, {\"true\": 5.421875, \"pred\": 5.73190249825787}, {\"true\": 2.5791666666666697, \"pred\": 4.246030820970073}, {\"true\": 3.203333333333333, \"pred\": 4.674207970950351}, {\"true\": 2.583333333333333, \"pred\": 3.3357798938393883}, {\"true\": 4.361111111111113, \"pred\": 3.596458919924769}, {\"true\": 1.929761904761906, \"pred\": 3.6296440951475195}, {\"true\": 5.796428571428572, \"pred\": 5.211832340231696}, {\"true\": 7.213636363636366, \"pred\": 6.768518795640228}, {\"true\": 2.0121212121212135, \"pred\": 1.8416086945553756}, {\"true\": 14.870000000000001, \"pred\": 11.56593258604105}, {\"true\": 6.005555555555556, \"pred\": 5.407408159283676}, {\"true\": 1.9366666666666739, \"pred\": 1.3841227403108178}, {\"true\": 3.4740740740740748, \"pred\": 4.472476894040511}, {\"true\": 1.572916666666669, \"pred\": 2.6031307531179766}, {\"true\": 4.976923076923077, \"pred\": 5.32861577579288}, {\"true\": 3.7, \"pred\": 4.276597261187803}, {\"true\": 7.8050000000000015, \"pred\": 5.019672441007423}, {\"true\": 3.518750000000001, \"pred\": 4.411391702097663}, {\"true\": 3.389393939393943, \"pred\": 2.955034451319144}, {\"true\": 2.6074074074074085, \"pred\": 3.1116498346050325}, {\"true\": 4.974358974358976, \"pred\": 5.338885092931322}, {\"true\": 5.255555555555559, \"pred\": 5.095552049304753}, {\"true\": 8.326190476190481, \"pred\": 9.063281297824641}, {\"true\": 1.6166666666666711, \"pred\": 1.7362399924008063}, {\"true\": 4.517857142857143, \"pred\": 4.0807761070227215}, {\"true\": 6.945000000000002, \"pred\": 6.302869371141996}, {\"true\": 5.6074074074074085, \"pred\": 5.168376808012772}, {\"true\": 4.996153846153846, \"pred\": 4.66307854890595}, {\"true\": 5.133333333333334, \"pred\": 5.032967692672444}, {\"true\": 5.423076923076924, \"pred\": 6.336595071270086}, {\"true\": 2.8319444444444453, \"pred\": 3.880124514279032}, {\"true\": 10.697222222222223, \"pred\": 8.317655831120506}, {\"true\": 4.604761904761906, \"pred\": 5.739988601885271}, {\"true\": 4.295238095238097, \"pred\": 4.272811368921641}, {\"true\": 3.7216666666666667, \"pred\": 4.072229782881042}, {\"true\": 2.8454545454545443, \"pred\": 3.7407260038128824}, {\"true\": 7.566666666666667, \"pred\": 6.059967794899075}, {\"true\": 3.0988095238095243, \"pred\": 3.355208799096699}, {\"true\": 5.892592592592594, \"pred\": 5.7092406101989495}, {\"true\": 9.968333333333334, \"pred\": 8.804480132385168}, {\"true\": 1.1925925925925933, \"pred\": 2.808415968585345}, {\"true\": 3.1416666666666715, \"pred\": 3.7482127804010044}, {\"true\": 8.712500000000002, \"pred\": 7.1150054239203575}, {\"true\": 4.94583333333334, \"pred\": 1.9017671662603546}, {\"true\": 7.7630952380952385, \"pred\": 6.906468306700191}, {\"true\": 2.512121212121214, \"pred\": 6.133522759803427}, {\"true\": 3.7541666666666678, \"pred\": 4.199287069417856}, {\"true\": 5.06666666666667, \"pred\": 4.2940587175612315}, {\"true\": 6.4944444444444445, \"pred\": 6.586702084334853}, {\"true\": 1.7000000000000015, \"pred\": 4.0566221463176095}, {\"true\": 2.5194444444444457, \"pred\": 4.408353779746994}, {\"true\": 4.471794871794872, \"pred\": 4.597792057395176}, {\"true\": 4.961904761904762, \"pred\": 5.80250783781792}, {\"true\": 8.157407407407408, \"pred\": 4.439466425757657}, {\"true\": 1.2309523809523861, \"pred\": 3.076021313749794}, {\"true\": 3.4355555555555575, \"pred\": 3.8100746163541954}, {\"true\": 6.384848484848485, \"pred\": 6.01451351671036}, {\"true\": 5.233333333333334, \"pred\": 4.404911613278487}, {\"true\": 8.046153846153846, \"pred\": 7.057744436425402}, {\"true\": 5.34404761904762, \"pred\": 5.307175525463231}, {\"true\": 4.135714285714285, \"pred\": 4.472594646561233}, {\"true\": 13.824358974358976, \"pred\": 10.12576532441215}, {\"true\": 4.8500000000000165, \"pred\": 2.808805119967528}, {\"true\": 6.309523809523809, \"pred\": 4.626767065589562}, {\"true\": 1.709090909090912, \"pred\": 3.035656962751495}, {\"true\": 2.7653846153846167, \"pred\": 3.333786359895413}, {\"true\": 4.974358974358976, \"pred\": 5.882019208162969}, {\"true\": 4.573333333333333, \"pred\": 4.214996492494939}, {\"true\": 5.046666666666669, \"pred\": 4.710696793526844}, {\"true\": 3.740476190476195, \"pred\": 4.834328777885109}, {\"true\": 5.1800000000000015, \"pred\": 5.203994508013133}, {\"true\": 2.4722222222222276, \"pred\": 2.3765906667130343}, {\"true\": 4.038333333333333, \"pred\": 4.402959027323592}, {\"true\": 1.8400000000000039, \"pred\": 2.894248605326454}, {\"true\": 1.1500000000000048, \"pred\": 2.8994199298138557}, {\"true\": 2.37592592592593, \"pred\": 3.4339812772021636}, {\"true\": 4.745454545454546, \"pred\": 6.936338181755862}, {\"true\": 5.370833333333336, \"pred\": 5.197390696468469}, {\"true\": 3.1200000000000006, \"pred\": 4.493083639665925}, {\"true\": 5.673958333333333, \"pred\": 5.564616778212829}, {\"true\": 4.20952380952381, \"pred\": 4.271250870934201}, {\"true\": 6.0125, \"pred\": 5.1436860816180365}, {\"true\": 3.9666666666666703, \"pred\": 4.040235106828963}, {\"true\": 4.466666666666669, \"pred\": 4.190110517931218}, {\"true\": 5.170000000000001, \"pred\": 4.59465179776492}, {\"true\": 4.557291666666667, \"pred\": 4.2724530442653545}, {\"true\": 2.5212121212121215, \"pred\": 3.6293600801497026}, {\"true\": 3.5816666666666706, \"pred\": 5.219989033891793}, {\"true\": 4.511111111111117, \"pred\": 5.175009813452948}, {\"true\": 3.4384615384615387, \"pred\": 4.240695135423751}, {\"true\": 5.0076923076923086, \"pred\": 6.25508725648147}, {\"true\": 5.107142857142859, \"pred\": 4.746120073954334}, {\"true\": 5.6, \"pred\": 5.565623628917963}, {\"true\": 4.764814814814814, \"pred\": 4.070198308788606}, {\"true\": 10.114285714285716, \"pred\": 8.197646768462171}, {\"true\": 4.878888888888891, \"pred\": 5.372081933887968}, {\"true\": 5.866666666666667, \"pred\": 5.392513927504573}, {\"true\": 4.156060606060605, \"pred\": 3.8775143661647697}, {\"true\": 2.973333333333334, \"pred\": 2.85377569459174}, {\"true\": 5.640625, \"pred\": 5.6028202208334585}, {\"true\": 9.306060606060608, \"pred\": 10.321280010225701}, {\"true\": 2.3466666666666685, \"pred\": 4.799372198014046}, {\"true\": 3.0033333333333347, \"pred\": 3.953580640865085}, {\"true\": 3.0050000000000017, \"pred\": 2.550583860692766}, {\"true\": 1.0738095238095284, \"pred\": 1.7214552487307735}, {\"true\": 3.6433333333333344, \"pred\": 3.430722841714177}, {\"true\": 9.282051282051283, \"pred\": 9.447483062045785}, {\"true\": 5.319696969696971, \"pred\": 4.632295044318159}, {\"true\": 3.4395833333333377, \"pred\": 3.6246085287993295}, {\"true\": 4.996153846153846, \"pred\": 4.899176996269892}, {\"true\": 5.112820512820514, \"pred\": 5.312932539622882}, {\"true\": 4.0249999999999995, \"pred\": 4.415131143106643}, {\"true\": 2.661111111111114, \"pred\": 3.402437974515304}, {\"true\": 2.3000000000000043, \"pred\": 2.3815322914818795}, {\"true\": 6.70952380952381, \"pred\": 7.443199224322461}, {\"true\": 3.5416666666666674, \"pred\": 3.5549457556728665}, {\"true\": 3.098809523809526, \"pred\": 3.6839565560608194}, {\"true\": 4.54166666666667, \"pred\": 4.301518911362127}, {\"true\": 4.668181818181818, \"pred\": 4.726916835006682}, {\"true\": 2.1277777777777778, \"pred\": 4.755304246756483}, {\"true\": 6.735897435897437, \"pred\": 4.586480354380615}, {\"true\": 2.685185185185185, \"pred\": 5.073698647405504}, {\"true\": 2.012962962962963, \"pred\": 4.861391752437947}, {\"true\": 3.828571428571429, \"pred\": 5.548097359791802}, {\"true\": 4.198333333333332, \"pred\": 4.756871411351966}, {\"true\": 4.293055555555555, \"pred\": 5.799274186741831}, {\"true\": 7.581481481481485, \"pred\": 7.745940084623698}, {\"true\": 6.4333333333333345, \"pred\": 6.0711071939989845}, {\"true\": 5.665476190476191, \"pred\": 5.822918958711755}, {\"true\": 4.5375000000000005, \"pred\": 4.311787330058949}, {\"true\": 2.827272727272729, \"pred\": 2.939969375041641}, {\"true\": 2.8133333333333335, \"pred\": 3.6281702113359575}, {\"true\": 3.9525641025641045, \"pred\": 4.854979417128118}, {\"true\": 5.281250000000001, \"pred\": 6.180080920947862}, {\"true\": 6.430303030303031, \"pred\": 5.867219152954314}, {\"true\": 1.6611111111111134, \"pred\": 3.201436440226185}, {\"true\": 1.214814814814818, \"pred\": 2.5851175980962964}, {\"true\": 2.3628205128205133, \"pred\": 2.5754263795401906}, {\"true\": 5.533333333333333, \"pred\": 4.92614509842511}, {\"true\": 6.328205128205128, \"pred\": 5.34015735957186}, {\"true\": 5.591666666666675, \"pred\": 3.968983067936978}, {\"true\": 8.202380952380954, \"pred\": 4.231962196098532}, {\"true\": 2.0681818181818197, \"pred\": 3.153034216291793}, {\"true\": 4.466666666666669, \"pred\": 4.29517140362149}, {\"true\": 3.567948717948719, \"pred\": 3.9501188233373985}, {\"true\": 0.5783333333333361, \"pred\": 2.0834638168841257}, {\"true\": 5.014285714285715, \"pred\": 6.318770415327412}, {\"true\": 8.692708333333336, \"pred\": 7.804145068179241}, {\"true\": 3.0694444444444464, \"pred\": 4.1561212839549375}, {\"true\": 4.616666666666671, \"pred\": 6.192753036301056}, {\"true\": 2.508333333333334, \"pred\": 4.33368560963819}, {\"true\": 2.980000000000001, \"pred\": 6.1057486453547405}, {\"true\": 6.421428571428572, \"pred\": 7.004324909168488}, {\"true\": 3.4900000000000024, \"pred\": 3.7198545023629475}, {\"true\": 6.30769230769231, \"pred\": 6.862275968436573}, {\"true\": 2.761111111111114, \"pred\": 2.7764830845865998}, {\"true\": 5.100000000000001, \"pred\": 4.609965115434001}, {\"true\": 3.567948717948719, \"pred\": 3.9075133099020656}, {\"true\": 4.784722222222222, \"pred\": 4.8445367492532885}, {\"true\": 1.408333333333336, \"pred\": 2.2849627925949507}, {\"true\": 5.570000000000003, \"pred\": 6.858667018472512}, {\"true\": 4.372222222222224, \"pred\": 3.3810587060024018}, {\"true\": 3.646296296296298, \"pred\": 2.037355308368029}, {\"true\": 3.8651515151515157, \"pred\": 4.21574653043989}, {\"true\": 2.7166666666666663, \"pred\": 2.8423183542063684}, {\"true\": 0.566666666666672, \"pred\": 1.6138727749196173}, {\"true\": 6.6416666666666675, \"pred\": 6.502187370365984}, {\"true\": 4.527083333333338, \"pred\": 4.072181841692938}, {\"true\": 5.502777777777779, \"pred\": 5.195398561096391}, {\"true\": 2.216666666666668, \"pred\": 2.872917354555288}, {\"true\": 7.570000000000002, \"pred\": 6.611850048435614}, {\"true\": 5.496153846153846, \"pred\": 4.187643975966322}, {\"true\": 3.0533333333333403, \"pred\": 2.0124860805299005}, {\"true\": 6.546153846153849, \"pred\": 6.387515142059171}, {\"true\": 6.70740740740741, \"pred\": 6.397214442749433}, {\"true\": 5.421212121212122, \"pred\": 4.655047318797102}, {\"true\": 5.828333333333337, \"pred\": 4.186891184908071}, {\"true\": 5.985000000000001, \"pred\": 6.234807049858069}, {\"true\": 2.8333333333333353, \"pred\": 5.724182215641547}, {\"true\": 4.205555555555555, \"pred\": 3.8009804255650654}, {\"true\": 9.63846153846154, \"pred\": 4.030506780365073}, {\"true\": 1.7763568394002505e-14, \"pred\": 1.4001730059717976}, {\"true\": 5.9799999999999995, \"pred\": 6.382371159800773}, {\"true\": 2.9547619047619054, \"pred\": 3.6329688714587354}, {\"true\": 9.373809523809523, \"pred\": 7.037057719036913}, {\"true\": 3.2530303030303034, \"pred\": 3.7993766494236727}, {\"true\": 7.25, \"pred\": 6.396818238582162}, {\"true\": 3.7333333333333356, \"pred\": 5.9001993440960865}, {\"true\": 6.849999999999999, \"pred\": 6.8241670606661184}, {\"true\": 4.010606060606062, \"pred\": 4.700399393150935}, {\"true\": 6.735897435897437, \"pred\": 4.683915286093876}, {\"true\": 4.304761904761905, \"pred\": 4.49608485122814}, {\"true\": 6.972727272727273, \"pred\": 5.879141948922575}, {\"true\": 3.355128205128207, \"pred\": 3.49259537627164}, {\"true\": 5.730769230769232, \"pred\": 6.190769896905882}, {\"true\": 4.169047619047621, \"pred\": 4.880129939808101}, {\"true\": 6.790000000000001, \"pred\": 5.397769071754533}, {\"true\": 4.735714285714286, \"pred\": 4.277697697154397}, {\"true\": 7.5583333333333345, \"pred\": 7.222651412689981}, {\"true\": 2.5537037037037056, \"pred\": 3.380146430342001}, {\"true\": 3.9766666666666675, \"pred\": 5.513677039253209}, {\"true\": 8.132051282051282, \"pred\": 7.187204928381939}, {\"true\": 2.875000000000002, \"pred\": 3.9416790747675283}, {\"true\": 3.9037037037037075, \"pred\": 4.423142948158069}, {\"true\": 2.144444444444455, \"pred\": 4.411290451571428}, {\"true\": 4.221111111111112, \"pred\": 4.2661808746732905}, {\"true\": 1.41666666666667, \"pred\": 1.4167447899060095}, {\"true\": 3.3743589743589757, \"pred\": 5.447224833638943}, {\"true\": 3.88939393939394, \"pred\": 3.9810973135192778}, {\"true\": 6.5166666666666675, \"pred\": 6.51494300003617}, {\"true\": 5.64814814814815, \"pred\": 4.641028099289658}, {\"true\": 7.0074074074074115, \"pred\": 6.217836107745971}, {\"true\": 3.4256410256410272, \"pred\": 3.588619039446489}, {\"true\": 7.075, \"pred\": 5.733352198661973}, {\"true\": 7.967948717948719, \"pred\": 6.475624389226718}, {\"true\": 6.327272727272728, \"pred\": 5.461838540112498}, {\"true\": 0.861111111111117, \"pred\": 1.716324156728023}, {\"true\": 3.7, \"pred\": 4.135508454915993}, {\"true\": 5.858333333333334, \"pred\": 6.041077858653996}, {\"true\": 3.552713678800501e-14, \"pred\": 1.8500518294174986}, {\"true\": 6.945000000000002, \"pred\": 6.477489493067444}, {\"true\": 3.3312500000000025, \"pred\": 3.8323260516731392}, {\"true\": 5.169444444444447, \"pred\": 5.186306334854334}, {\"true\": 5.811666666666666, \"pred\": 4.845633962887215}, {\"true\": 6.081250000000002, \"pred\": 5.309369553639553}, {\"true\": 4.95, \"pred\": 5.222694552651038}, {\"true\": 3.8578431372549034, \"pred\": 3.7066761382539473}, {\"true\": 4.40714285714286, \"pred\": 3.9902367985182687}, {\"true\": 3.381250000000002, \"pred\": 3.8746366459118}, {\"true\": 4.356666666666666, \"pred\": 4.994650165012418}, {\"true\": 8.511111111111115, \"pred\": 4.509975185491325}, {\"true\": 4.109523809523812, \"pred\": 3.9920705130709835}, {\"true\": 5.992857142857147, \"pred\": 5.386434524041196}, {\"true\": 6.843055555555559, \"pred\": 5.944562045043505}, {\"true\": 3.1571428571428575, \"pred\": 3.6345335102511083}, {\"true\": 3.613095238095241, \"pred\": 4.105100717534778}, {\"true\": 2.67777777777778, \"pred\": 2.80835773385618}, {\"true\": 7.357692307692308, \"pred\": 5.895636730423831}, {\"true\": 12.353703703703708, \"pred\": 9.397248656626067}, {\"true\": 3.4562500000000043, \"pred\": 2.1219183516118396}, {\"true\": 7.914583333333335, \"pred\": 7.488675822358761}, {\"true\": 4.933333333333333, \"pred\": 5.205442056423604}, {\"true\": 3.333333333333339, \"pred\": 2.6199073760177654}, {\"true\": 3.4833333333333365, \"pred\": 3.3277482448850737}, {\"true\": 3.567948717948719, \"pred\": 3.5406046213330873}, {\"true\": 2.762500000000002, \"pred\": 3.711718535836785}, {\"true\": 3.500000000000001, \"pred\": 4.4567477104548745}, {\"true\": 4.951041666666667, \"pred\": 5.136263764537854}, {\"true\": 2.802083333333334, \"pred\": 3.4510998709752765}, {\"true\": 2.9363636363636374, \"pred\": 3.8253499768459527}, {\"true\": 5.11309523809524, \"pred\": 3.8903098350989582}, {\"true\": 0.48333333333334044, \"pred\": 3.9275569711231673}, {\"true\": 4.188095238095241, \"pred\": 3.982192563233933}, {\"true\": 3.3375000000000017, \"pred\": 3.653029893259787}, {\"true\": 1.1476190476190475, \"pred\": 3.307144352422813}, {\"true\": 5.32638888888889, \"pred\": 6.264572900099129}, {\"true\": 4.497435897435899, \"pred\": 4.870982597851857}, {\"true\": 1.7763568394002505e-14, \"pred\": 1.2428931631244169}, {\"true\": 9.085185185185187, \"pred\": 7.95454731384243}, {\"true\": 3.0777777777777824, \"pred\": 1.9515127643245151}, {\"true\": 6.804761904761906, \"pred\": 6.73869858146312}, {\"true\": 2.691666666666672, \"pred\": 1.8692224544114227}, {\"true\": 1.7763568394002505e-14, \"pred\": 1.0734878053753247}, {\"true\": 8.08030303030303, \"pred\": 6.668670905962113}, {\"true\": 5.380000000000005, \"pred\": 3.665640857794117}, {\"true\": 5.741666666666673, \"pred\": 1.6641011881355232}, {\"true\": 4.67638888888889, \"pred\": 4.552491681769837}, {\"true\": 5.8450000000000015, \"pred\": 6.347073772361008}, {\"true\": 3.020833333333338, \"pred\": 2.550463969309641}, {\"true\": 4.471794871794872, \"pred\": 4.699806320016001}, {\"true\": 5.047222222222228, \"pred\": 4.77363366995836}, {\"true\": 3.981250000000003, \"pred\": 3.496831062604223}, {\"true\": 4.207692307692309, \"pred\": 3.7417540613972022}, {\"true\": 1.3916666666666755, \"pred\": 1.6045184898077736}, {\"true\": 5.169444444444447, \"pred\": 5.418573711523961}, {\"true\": 1.4763888888888899, \"pred\": 3.205044792087406}, {\"true\": 0.7333333333333333, \"pred\": 5.868713958296442}, {\"true\": 2.7974358974359004, \"pred\": 4.353287979203956}, {\"true\": 3.1416666666666715, \"pred\": 3.376474521827123}, {\"true\": 5.608974358974359, \"pred\": 4.488115330172873}, {\"true\": 6.245000000000002, \"pred\": 5.558372328915473}, {\"true\": 3.751515151515153, \"pred\": 3.9048454838224136}, {\"true\": 5.426666666666667, \"pred\": 5.472512637653754}, {\"true\": 1.1291666666666693, \"pred\": 2.3255241180108586}, {\"true\": 7.938888888888893, \"pred\": 4.185119680078038}, {\"true\": 4.557291666666667, \"pred\": 4.327034750491331}, {\"true\": 7.2375, \"pred\": 6.660233590078846}, {\"true\": 5.493333333333334, \"pred\": 4.2483281317475505}, {\"true\": 5.246666666666668, \"pred\": 6.143747181151632}, {\"true\": 2.8472222222222237, \"pred\": 2.816411938772049}, {\"true\": 5.319696969696971, \"pred\": 7.146980033819177}, {\"true\": 4.277777777777778, \"pred\": 5.7281643308190215}, {\"true\": 4.061111111111113, \"pred\": 5.812488106146819}, {\"true\": 3.983333333333337, \"pred\": 4.746115231685502}, {\"true\": 2.223809523809529, \"pred\": 2.7243040612858453}, {\"true\": 7.356410256410258, \"pred\": 5.814535472813736}, {\"true\": 3.860000000000002, \"pred\": 4.457409647801156}, {\"true\": 12.790909090909095, \"pred\": 11.228401604861379}, {\"true\": 5.8625000000000025, \"pred\": 6.9656801468561795}, {\"true\": 2.783333333333339, \"pred\": 2.1689975237281103}, {\"true\": 4.754761904761905, \"pred\": 5.022796132800386}, {\"true\": 7.570000000000002, \"pred\": 4.647506996246426}, {\"true\": 1.841666666666668, \"pred\": 2.8327949316262067}, {\"true\": 1.1979166666666687, \"pred\": 2.4178323100799846}, {\"true\": 5.1761904761904765, \"pred\": 6.0610652982067466}, {\"true\": 3.987878787878788, \"pred\": 3.273428131458756}, {\"true\": 5.569047619047619, \"pred\": 5.078863881026694}, {\"true\": 4.884848484848486, \"pred\": 5.314745221186494}, {\"true\": 5.617857142857145, \"pred\": 5.915642491672416}, {\"true\": 3.916666666666667, \"pred\": 4.549243231617971}, {\"true\": 3.6060606060606077, \"pred\": 2.981180581610023}, {\"true\": 6.139583333333338, \"pred\": 4.940523596345281}, {\"true\": 3.0466666666666695, \"pred\": 2.948026138110634}, {\"true\": 7.21666666666667, \"pred\": 6.919418529496822}, {\"true\": 4.397222222222223, \"pred\": 5.087149953084374}, {\"true\": 2.5833333333333344, \"pred\": 3.917422898121707}, {\"true\": 2.6803030303030315, \"pred\": 3.478902718349043}, {\"true\": 5.968333333333334, \"pred\": 4.895458006313624}, {\"true\": 3.8545454545454545, \"pred\": 5.968905109876637}, {\"true\": 3.8437500000000036, \"pred\": 3.788967944888897}, {\"true\": 7.196875000000001, \"pred\": 6.431427507416492}, {\"true\": 5.103571428571432, \"pred\": 3.831238561242801}, {\"true\": 3.931818181818185, \"pred\": 5.341016784159737}, {\"true\": 1.389393939393941, \"pred\": 5.004354418559323}, {\"true\": 4.679166666666668, \"pred\": 4.377807376434092}, {\"true\": 5.883333333333334, \"pred\": 5.587561867607415}, {\"true\": 4.012500000000001, \"pred\": 4.171123363703192}, {\"true\": 7.477380952380955, \"pred\": 7.474004469228029}, {\"true\": 3.1416666666666715, \"pred\": 3.690749389286255}, {\"true\": 5.851282051282052, \"pred\": 4.965877622476913}, {\"true\": 4.411904761904763, \"pred\": 3.686005369228137}, {\"true\": 3.9273809523809535, \"pred\": 4.6643053980363005}, {\"true\": 3.8214285714285725, \"pred\": 3.908668832987779}, {\"true\": 8.54047619047619, \"pred\": 7.0944849820135945}, {\"true\": 4.538333333333337, \"pred\": 5.248703070040028}, {\"true\": 2.6125000000000087, \"pred\": 2.9631678254954625}, {\"true\": 11.279487179487178, \"pred\": 8.724798612262202}, {\"true\": 6.752083333333336, \"pred\": 5.798463443745688}, {\"true\": 2.483333333333345, \"pred\": 1.6015241586520197}, {\"true\": 4.655555555555557, \"pred\": 5.222856259881706}, {\"true\": 4.293333333333333, \"pred\": 3.9406363453456668}, {\"true\": 5.907142857142858, \"pred\": 4.714959540785114}, {\"true\": 3.197442310920451e-14, \"pred\": 3.2999974682077804}, {\"true\": 6.243055555555556, \"pred\": 6.236660644265346}, {\"true\": 8.119444444444445, \"pred\": 4.073197247655474}, {\"true\": 2.269444444444448, \"pred\": 1.798368624307907}, {\"true\": 4.762820512820513, \"pred\": 4.479390861725468}, {\"true\": 3.320833333333334, \"pred\": 3.5714289627763316}, {\"true\": 6.251666666666666, \"pred\": 5.636036139318496}, {\"true\": 6.445555555555558, \"pred\": 6.865087526212992}, {\"true\": 6.822619047619049, \"pred\": 6.3463482638635424}, {\"true\": 2.3466666666666685, \"pred\": 4.929714079289748}, {\"true\": 2.2833333333333368, \"pred\": 5.754291456703943}, {\"true\": 3.381250000000002, \"pred\": 4.15529693992952}, {\"true\": 7.566666666666667, \"pred\": 5.769533104261496}, {\"true\": 5.281666666666669, \"pred\": 5.037235494691498}, {\"true\": 4.440909090909094, \"pred\": 3.457095885383101}, {\"true\": 5.510000000000001, \"pred\": 5.837578769141996}, {\"true\": 3.625000000000001, \"pred\": 3.675977778160481}, {\"true\": 5.883333333333334, \"pred\": 6.011835914144242}, {\"true\": 4.3015151515151535, \"pred\": 5.563338616091068}, {\"true\": 0.7962962962962971, \"pred\": 4.108368626151287}, {\"true\": 2.660606060606061, \"pred\": 3.5537904372971}, {\"true\": 2.8333333333333353, \"pred\": 5.03671703457825}, {\"true\": 8.77222222222222, \"pred\": 7.095605584973872}, {\"true\": 8.986666666666668, \"pred\": 6.056110343029201}, {\"true\": 4.671428571428573, \"pred\": 4.786505157003864}, {\"true\": 3.3013888888888903, \"pred\": 3.424284490696355}, {\"true\": 6.010256410256413, \"pred\": 6.1709794954973365}, {\"true\": 5.088888888888892, \"pred\": 5.046487685208849}, {\"true\": 3.974999999999999, \"pred\": 4.382139316213839}, {\"true\": 5.370833333333336, \"pred\": 5.375882299259373}, {\"true\": 4.901515151515153, \"pred\": 4.426460758450558}, {\"true\": 7.817857142857143, \"pred\": 6.473471929052145}, {\"true\": 4.701515151515152, \"pred\": 4.206582559505749}, {\"true\": 7.166666666666668, \"pred\": 6.68561975772511}, {\"true\": 10.192222222222222, \"pred\": 6.672074622937246}, {\"true\": 4.576041666666668, \"pred\": 4.79418934027655}, {\"true\": 9.541666666666666, \"pred\": 8.749742089767734}, {\"true\": 5.633333333333335, \"pred\": 3.656623750374526}, {\"true\": 5.170833333333333, \"pred\": 5.233814023880177}, {\"true\": 4.3075757575757585, \"pred\": 3.6571394655024534}, {\"true\": 6.641666666666675, \"pred\": 1.8955695285138932}, {\"true\": 4.421428571428572, \"pred\": 4.029140559325511}, {\"true\": 4.329487179487179, \"pred\": 4.310530923703195}, {\"true\": 2.5523809523809535, \"pred\": 3.2402211182825904}, {\"true\": 8.08030303030303, \"pred\": 6.699703724141813}, {\"true\": 3.947222222222225, \"pred\": 4.137465247964387}, {\"true\": 2.544444444444445, \"pred\": 2.450178306695364}, {\"true\": 2.5083333333333333, \"pred\": 3.268806334782308}, {\"true\": 8.157407407407408, \"pred\": 6.379923474095046}, {\"true\": 5.095454545454546, \"pred\": 4.696557498762308}, {\"true\": 1.8400000000000039, \"pred\": 3.802590850965281}, {\"true\": 5.443750000000001, \"pred\": 6.937316788310699}, {\"true\": 1.835714285714286, \"pred\": 3.2035395089828183}, {\"true\": 3.440277777777778, \"pred\": 3.860601746429377}, {\"true\": 8.11851851851852, \"pred\": 6.094722390175805}, {\"true\": 8.703846153846154, \"pred\": 7.031915222126052}, {\"true\": 3.5702380952380977, \"pred\": 3.9634605056760224}, {\"true\": 3.05666666666667, \"pred\": 2.446932842972208}, {\"true\": 5.955555555555557, \"pred\": 6.828079279152149}, {\"true\": 4.044047619047619, \"pred\": 5.874611198039386}, {\"true\": 1.8333333333333333, \"pred\": 3.332145192063872}, {\"true\": 6.301851851851856, \"pred\": 6.132955199796125}, {\"true\": 8.766666666666666, \"pred\": 6.767705317290111}, {\"true\": 7.344444444444445, \"pred\": 6.979386837955942}, {\"true\": 5.6141025641025655, \"pred\": 5.311058208348654}, {\"true\": 4.19074074074074, \"pred\": 4.012772267828329}, {\"true\": 3.2037037037037046, \"pred\": 4.40109267181646}, {\"true\": 1.4266666666666683, \"pred\": 3.3640964796420953}, {\"true\": 5.002777777777781, \"pred\": 2.6640440290258196}, {\"true\": 8.021875000000001, \"pred\": 6.877758747938275}, {\"true\": 2.025925925925928, \"pred\": 2.2511460995930923}, {\"true\": 3.3583333333333343, \"pred\": 4.487865155122824}, {\"true\": 4.338235294117648, \"pred\": 3.592432566175712}, {\"true\": 12.43, \"pred\": 9.365637552769934}, {\"true\": 7.953571428571429, \"pred\": 7.317490610049946}, {\"true\": 5.416666666666666, \"pred\": 5.013094366454345}, {\"true\": 5.165555555555556, \"pred\": 6.057087573605934}, {\"true\": 2.3807692307692334, \"pred\": 3.676119499217106}, {\"true\": 4.6729166666666675, \"pred\": 4.059000478462915}, {\"true\": 4.586111111111112, \"pred\": 3.724801412745446}, {\"true\": 7.120000000000002, \"pred\": 5.394971911710378}, {\"true\": 5.526923076923078, \"pred\": 6.889311264087882}, {\"true\": 4.140000000000001, \"pred\": 3.3923187780844817}, {\"true\": 5.806666666666668, \"pred\": 6.23751268486346}, {\"true\": 3.1444444444444435, \"pred\": 3.5713680089001247}, {\"true\": 1.3694444444444465, \"pred\": 2.0659231484673546}, {\"true\": 5.4055555555555586, \"pred\": 4.459520543397915}, {\"true\": 3.03888888888889, \"pred\": 3.8715354982316033}, {\"true\": 5.472222222222224, \"pred\": 4.124942388464541}, {\"true\": 5.7294871794871804, \"pred\": 6.092567527770379}, {\"true\": 0.5783333333333361, \"pred\": 2.092972430405611}, {\"true\": 6.852222222222222, \"pred\": 5.44607532983956}, {\"true\": 5.6208333333333345, \"pred\": 4.3925671543244444}, {\"true\": 4.038095238095242, \"pred\": 3.833800484069506}, {\"true\": 5.164705882352941, \"pred\": 5.238524590868219}, {\"true\": 3.682291666666668, \"pred\": 4.7327337730837415}, {\"true\": 3.7650000000000032, \"pred\": 4.077821060993185}, {\"true\": 5.537878787878789, \"pred\": 4.562187627725487}, {\"true\": 6.5, \"pred\": 4.846866862624488}, {\"true\": 3.195098039215686, \"pred\": 4.298084716703586}, {\"true\": 5.2359649122807035, \"pred\": 5.6703938949670905}, {\"true\": 4.451515151515153, \"pred\": 4.151857346191765}, {\"true\": 4.64888888888889, \"pred\": 4.5298710204264205}, {\"true\": 1.1300000000000037, \"pred\": 1.8108274960181836}, {\"true\": 7.083333333333339, \"pred\": 4.449487836361982}, {\"true\": 3.6952380952380963, \"pred\": 4.062303969837935}, {\"true\": 4.784523809523812, \"pred\": 4.2758063333765755}, {\"true\": 8.01547619047619, \"pred\": 5.862158338813343}, {\"true\": 5.828333333333337, \"pred\": 4.732648572925996}, {\"true\": 1.9152777777777794, \"pred\": 5.668456866842185}, {\"true\": 7.045833333333335, \"pred\": 4.112213281307322}, {\"true\": 6.333333333333335, \"pred\": 6.852820512611301}, {\"true\": 2.923333333333335, \"pred\": 3.0852634249108486}, {\"true\": 3.5190476190476234, \"pred\": 5.424682022256797}, {\"true\": 2.0944444444444508, \"pred\": 2.1666515123510863}, {\"true\": 3.516666666666678, \"pred\": 3.117763036771494}, {\"true\": 3.9392857142857154, \"pred\": 3.4852829091913744}, {\"true\": 4.687500000000004, \"pred\": 4.510551173981351}, {\"true\": 4.762500000000002, \"pred\": 4.653745762181028}, {\"true\": 2.35625, \"pred\": 2.92473682544724}, {\"true\": 5.088888888888892, \"pred\": 4.899028432593471}, {\"true\": 2.691666666666672, \"pred\": 1.8196450252890228}, {\"true\": 4.252777777777779, \"pred\": 5.157878096358733}, {\"true\": 3.237037037037037, \"pred\": 4.828818582659789}, {\"true\": 4.198611111111112, \"pred\": 4.874371976714638}, {\"true\": 5.173148148148149, \"pred\": 4.784645549442191}, {\"true\": 1.952380952380954, \"pred\": 2.870555002253945}, {\"true\": 9.373809523809523, \"pred\": 6.925050890797869}, {\"true\": 5.397222222222223, \"pred\": 5.606780306811679}, {\"true\": 4.8843749999999995, \"pred\": 5.48892956806165}, {\"true\": 7.570000000000002, \"pred\": 6.399541144431232}, {\"true\": 5.361111111111113, \"pred\": 5.448461054729557}, {\"true\": 5.2745098039215685, \"pred\": 5.242986285028926}, {\"true\": 5.222222222222224, \"pred\": 5.591556876058357}, {\"true\": 6.354166666666668, \"pred\": 6.221633491956092}, {\"true\": 4.40166666666667, \"pred\": 5.214846080714083}, {\"true\": 4.437179487179488, \"pred\": 5.048077272187247}, {\"true\": 3.613888888888891, \"pred\": 3.1062285035334556}, {\"true\": 4.783333333333335, \"pred\": 4.1763689750003845}, {\"true\": 5.673958333333333, \"pred\": 5.6497627602986435}, {\"true\": 5.6074074074074085, \"pred\": 5.248835609592813}, {\"true\": 6.292424242424243, \"pred\": 6.90475797374483}, {\"true\": 5.844117647058823, \"pred\": 6.872650363571316}, {\"true\": 4.151666666666668, \"pred\": 5.035550608313}, {\"true\": 4.841025641025642, \"pred\": 4.934938205204702}, {\"true\": 0.6277777777777778, \"pred\": 2.4156117993496995}, {\"true\": 9.085185185185187, \"pred\": 6.516475136180943}, {\"true\": 4.334615384615385, \"pred\": 4.562210778616016}, {\"true\": 4.009090909090911, \"pred\": 4.08187089787574}, {\"true\": 3.5190476190476234, \"pred\": 4.620725401319469}, {\"true\": 0.5250000000000142, \"pred\": 2.2581410456094964}, {\"true\": 2.691666666666672, \"pred\": 1.4120830172833678}, {\"true\": 7.080000000000001, \"pred\": 6.175180071224581}, {\"true\": 3.5759259259259264, \"pred\": 3.994899276016391}, {\"true\": 4.79047619047619, \"pred\": 3.4851262560760037}, {\"true\": 4.950980392156863, \"pred\": 4.84206769380888}, {\"true\": 2.7933333333333406, \"pred\": 1.807049875942946}, {\"true\": 2.377777777777779, \"pred\": 3.2667098884118273}, {\"true\": 7.841666666666666, \"pred\": 7.916866850793526}, {\"true\": 3.737500000000004, \"pred\": 4.613783649130645}, {\"true\": 5.070000000000002, \"pred\": 5.1029209914532005}, {\"true\": 6.197916666666669, \"pred\": 5.5534199086685065}, {\"true\": 5.697619047619049, \"pred\": 5.744381493090527}, {\"true\": 3.4472222222222233, \"pred\": 3.6793271574406434}, {\"true\": 5.1800000000000015, \"pred\": 4.877560306651527}, {\"true\": 8.284375, \"pred\": 6.964691181061515}, {\"true\": 3.442708333333333, \"pred\": 4.152742249026383}, {\"true\": 3.665384615384617, \"pred\": 4.082892308045284}, {\"true\": 2.948148148148149, \"pred\": 2.9313652302326734}, {\"true\": 4.490000000000002, \"pred\": 5.204480385312078}, {\"true\": 2.5348484848484847, \"pred\": 2.78827558002588}, {\"true\": 5.48888888888889, \"pred\": 5.650072384539799}, {\"true\": 4.391666666666668, \"pred\": 4.695797498352556}, {\"true\": 6.0397435897435905, \"pred\": 5.54780578506569}, {\"true\": 3.3625000000000043, \"pred\": 2.824506823044151}, {\"true\": 5.442592592592594, \"pred\": 5.019779576520677}, {\"true\": 5.716666666666667, \"pred\": 5.115392770327268}, {\"true\": 5.150000000000004, \"pred\": 7.806213174606895}, {\"true\": 5.445000000000001, \"pred\": 6.248473127128729}, {\"true\": 5.410606060606063, \"pred\": 5.132423484857583}, {\"true\": 4.1972222222222255, \"pred\": 5.131052359656208}, {\"true\": 5.589215686274511, \"pred\": 5.361885204629674}, {\"true\": 6.660416666666667, \"pred\": 5.719667479867998}, {\"true\": 5.7151515151515175, \"pred\": 6.28478004618303}, {\"true\": 5.676666666666668, \"pred\": 4.727175143940545}, {\"true\": 3.4897435897435902, \"pred\": 3.5881457410417936}, {\"true\": 6.373809523809525, \"pred\": 5.803667225317421}, {\"true\": 4.875925925925926, \"pred\": 4.331282307700935}, {\"true\": 5.532051282051283, \"pred\": 5.075532121027183}, {\"true\": 2.3537037037037045, \"pred\": 2.367874786270611}, {\"true\": 6.747619047619049, \"pred\": 5.489119509586733}, {\"true\": 3.652777777777781, \"pred\": 3.5907531498126315}, {\"true\": 9.2, \"pred\": 6.752712121376623}, {\"true\": 2.1928571428571426, \"pred\": 3.351573636679673}, {\"true\": 2.393333333333338, \"pred\": 8.646172370808666}, {\"true\": 4.07777777777778, \"pred\": 3.3420744167989835}, {\"true\": 4.974358974358976, \"pred\": 6.126054083131544}, {\"true\": 4.589999999999999, \"pred\": 3.742097648995284}, {\"true\": 6.587500000000003, \"pred\": 4.439197490020099}, {\"true\": 7.125555555555556, \"pred\": 5.7031390435903715}, {\"true\": 7.009259259259263, \"pred\": 7.219501167875096}, {\"true\": 5.793939393939397, \"pred\": 5.439717132030125}, {\"true\": 2.6370370370370377, \"pred\": 2.9743265941600043}, {\"true\": 6.6462962962962955, \"pred\": 5.930127755663978}, {\"true\": 2.6238095238095247, \"pred\": 4.259904221904452}, {\"true\": 6.0518518518518505, \"pred\": 5.247189380429357}, {\"true\": 5.227083333333334, \"pred\": 6.179328130108466}, {\"true\": 6.950000000000001, \"pred\": 5.8732624321018925}, {\"true\": 3.4041666666666694, \"pred\": 6.43478555788583}, {\"true\": 4.8875, \"pred\": 4.048226344254645}, {\"true\": 6.238888888888889, \"pred\": 5.026261891113047}, {\"true\": 7.061111111111117, \"pred\": 4.8678343476213355}, {\"true\": 3.7500000000000187, \"pred\": 4.138497442601914}, {\"true\": 2.626190476190481, \"pred\": 2.95241188859368}, {\"true\": 5.957142857142858, \"pred\": 5.387171356177213}, {\"true\": 4.882291666666667, \"pred\": 4.872654144546732}, {\"true\": 5.1625000000000085, \"pred\": 3.546022820975758}, {\"true\": 5.346153846153848, \"pred\": 4.709614723885586}, {\"true\": 4.485714285714291, \"pred\": 4.1987705709798675}, {\"true\": 5.001282051282052, \"pred\": 5.00534025164373}, {\"true\": 6.983333333333334, \"pred\": 6.467741279413569}, {\"true\": 4.5680555555555555, \"pred\": 5.1201918941552345}, {\"true\": 7.546428571428573, \"pred\": 8.599296737924911}, {\"true\": 4.406666666666669, \"pred\": 4.539384526674046}, {\"true\": 5.170833333333333, \"pred\": 5.2462591938905385}, {\"true\": 1.0166666666666688, \"pred\": 2.444539085271318}, {\"true\": 5.816666666666669, \"pred\": 5.679651927924607}, {\"true\": 5.154761904761907, \"pred\": 4.844334792806632}, {\"true\": 7.958333333333333, \"pred\": 7.878926811234145}, {\"true\": 4.342424242424243, \"pred\": 4.437267058714371}, {\"true\": 3.8484848484848486, \"pred\": 7.344939118833216}, {\"true\": 5.921212121212122, \"pred\": 5.530942346488729}, {\"true\": 5.533333333333333, \"pred\": 5.041721412973749}, {\"true\": 4.617647058823532, \"pred\": 5.464539724339562}, {\"true\": 4.825000000000003, \"pred\": 3.5373968759738634}, {\"true\": 3.3476190476190526, \"pred\": 2.7672066020394865}, {\"true\": 3.9690476190476196, \"pred\": 4.941691007230324}, {\"true\": 4.083333333333333, \"pred\": 5.052125163674798}, {\"true\": 3.4200000000000017, \"pred\": 3.885476332506796}, {\"true\": 4.221794871794875, \"pred\": 5.015845645064135}, {\"true\": 5.475757575757578, \"pred\": 4.805097456742583}, {\"true\": 5.75, \"pred\": 5.76753842550588}, {\"true\": 5.690476190476192, \"pred\": 4.57948699435555}, {\"true\": 3.7696969696969704, \"pred\": 5.370226178316104}, {\"true\": 2.6958333333333377, \"pred\": 2.282897317433032}, {\"true\": 7.035000000000001, \"pred\": 6.959441510846346}, {\"true\": 3.6966666666666725, \"pred\": 3.296082962789069}, {\"true\": 9.093055555555555, \"pred\": 8.215366402820457}, {\"true\": 6.246666666666668, \"pred\": 5.101769517516511}, {\"true\": 5.008333333333351, \"pred\": 2.1413594110475773}, {\"true\": 2.6416666666666697, \"pred\": 3.7151655555896443}, {\"true\": 3.478571428571431, \"pred\": 5.119069340019142}, {\"true\": 6.02948717948718, \"pred\": 5.318313971696652}, {\"true\": 4.226190476190481, \"pred\": 3.8841995352392926}, {\"true\": 6.142708333333333, \"pred\": 5.776838271990262}, {\"true\": 1.9888888888889007, \"pred\": 3.019124033252444}, {\"true\": 3.290476190476192, \"pred\": 2.910524648619668}, {\"true\": 2.9416666666666695, \"pred\": 5.40563855021574}, {\"true\": 4.228205128205129, \"pred\": 4.288840187921356}, {\"true\": 5.895238095238099, \"pred\": 4.690754584057268}, {\"true\": 5.635000000000001, \"pred\": 6.4313014726659095}, {\"true\": 7.0699999999999985, \"pred\": 6.208485503865573}, {\"true\": 1.7712121212121226, \"pred\": 2.084891532594006}, {\"true\": 5.308333333333335, \"pred\": 4.206458137228297}, {\"true\": 3.176666666666668, \"pred\": 3.252512232854175}, {\"true\": 1.7928571428571478, \"pred\": 2.60635114632266}, {\"true\": 5.895833333333335, \"pred\": 5.647068189847796}, {\"true\": 6.678787878787879, \"pred\": 6.329009134144958}, {\"true\": 5.798958333333334, \"pred\": 5.894733857179073}, {\"true\": 5.139583333333338, \"pred\": 6.810016730281991}, {\"true\": 5.176041666666666, \"pred\": 5.627010789677487}, {\"true\": 5.152564102564105, \"pred\": 5.733658714983412}, {\"true\": 4.566666666666668, \"pred\": 4.003483728784389}, {\"true\": 4.890476190476191, \"pred\": 5.214050559270565}, {\"true\": 2.2950000000000035, \"pred\": 3.0938829792573164}, {\"true\": 1.9560606060606076, \"pred\": 2.0986598944782817}, {\"true\": 4.154166666666667, \"pred\": 4.017592023572619}, {\"true\": 2.275, \"pred\": 3.0284138408678847}, {\"true\": 3.8516666666666675, \"pred\": 4.939309614333392}, {\"true\": 4.415555555555556, \"pred\": 4.60050473215894}, {\"true\": 6.328571428571428, \"pred\": 4.625725091379265}, {\"true\": 2.102777777777779, \"pred\": 1.9374307436641027}, {\"true\": 8.072222222222225, \"pred\": 7.322394110547336}, {\"true\": 8.805128205128208, \"pred\": 8.312621650742322}, {\"true\": 8.398717948717948, \"pred\": 6.980593481448593}, {\"true\": 0.8888888888888947, \"pred\": 2.2932165012721453}, {\"true\": 3.172222222222226, \"pred\": 4.1552338328659655}, {\"true\": 7.841666666666666, \"pred\": 7.35159048579776}, {\"true\": 2.6312500000000045, \"pred\": 3.267660322107903}, {\"true\": 3.3439393939393938, \"pred\": 5.111629568607807}, {\"true\": 4.466666666666668, \"pred\": 5.534420786602938}, {\"true\": 5.93939393939394, \"pred\": 4.924273028011971}, {\"true\": 4.197619047619048, \"pred\": 4.196315006366275}, {\"true\": 3.1416666666666715, \"pred\": 3.4564215467317605}, {\"true\": 2.4866666666666704, \"pred\": 4.309144356902353}, {\"true\": 2.76666666666667, \"pred\": 1.953348977323814}, {\"true\": 9.333333333333336, \"pred\": 6.960489278084163}, {\"true\": 3.197442310920451e-14, \"pred\": 2.907482048634778}, {\"true\": 8.769047619047619, \"pred\": 7.618346826622767}, {\"true\": 4.920370370370372, \"pred\": 4.169464396996587}, {\"true\": 3.609722222222222, \"pred\": 3.6920917832198787}, {\"true\": 6.270000000000003, \"pred\": 4.010110786414715}, {\"true\": 1.3083333333333391, \"pred\": 2.6057118759629185}, {\"true\": 1.3083333333333391, \"pred\": 2.213948309882389}, {\"true\": 3.3060606060606093, \"pred\": 3.258521031518377}, {\"true\": 3.4333333333333362, \"pred\": 3.880360504219871}, {\"true\": 7.300000000000002, \"pred\": 7.055737568223849}, {\"true\": 4.325000000000001, \"pred\": 4.352341772365168}, {\"true\": 10.697222222222223, \"pred\": 6.903768115387692}, {\"true\": 7.278205128205129, \"pred\": 5.992212469762057}, {\"true\": 5.796428571428572, \"pred\": 5.603917836627255}, {\"true\": 7.921428571428572, \"pred\": 6.811753708214101}, {\"true\": 7.961111111111123, \"pred\": 9.56363522174038}, {\"true\": 4.519607843137257, \"pred\": 5.156115278735629}, {\"true\": 4.423809523809523, \"pred\": 5.022363324147691}, {\"true\": 1.6541666666666708, \"pred\": 2.596752286020548}, {\"true\": 3.75769230769231, \"pred\": 3.933861845351548}, {\"true\": 3.5404761904761917, \"pred\": 3.4087390740892825}, {\"true\": 7.273076923076924, \"pred\": 6.406586592628507}, {\"true\": 11.800000000000006, \"pred\": 6.054187139520199}, {\"true\": 6.2666666666666675, \"pred\": 4.677525162850102}, {\"true\": 4.185897435897437, \"pred\": 3.81610760626387}, {\"true\": 6.395833333333336, \"pred\": 5.728752339499653}, {\"true\": 2.2000000000000046, \"pred\": 2.837338525825547}, {\"true\": 3.1314814814814813, \"pred\": 4.1581637326437715}, {\"true\": 6.723333333333334, \"pred\": 6.402974901634278}, {\"true\": 3.5854166666666667, \"pred\": 3.904982550400639}, {\"true\": 3.0759259259259273, \"pred\": 3.2958642358438963}, {\"true\": 6.287500000000001, \"pred\": 5.146054128649342}, {\"true\": 4.653030303030304, \"pred\": 4.82289805791041}, {\"true\": 9.541666666666666, \"pred\": 8.625897881389635}, {\"true\": 4.415555555555556, \"pred\": 4.433071980660201}, {\"true\": 4.483333333333335, \"pred\": 5.086260936266339}, {\"true\": 5.955555555555557, \"pred\": 5.766061460864677}, {\"true\": 8.28703703703704, \"pred\": 6.145962265872788}, {\"true\": 2.77962962962963, \"pred\": 4.429158250822982}, {\"true\": 6.4944444444444445, \"pred\": 7.054637480865906}, {\"true\": 2.570000000000003, \"pred\": 3.758255426669151}, {\"true\": 12.027083333333334, \"pred\": 7.0585227797367045}, {\"true\": 5.475757575757578, \"pred\": 4.2197438774207825}, {\"true\": 0.9055555555555544, \"pred\": 3.8977935655370923}, {\"true\": 6.816666666666671, \"pred\": 4.047754363897132}, {\"true\": 4.419230769230769, \"pred\": 3.78918631294923}, {\"true\": 4.640277777777778, \"pred\": 5.576306483364192}, {\"true\": 3.5369047619047644, \"pred\": 3.9152247569009226}, {\"true\": 6.165555555555557, \"pred\": 5.365730754422894}, {\"true\": 3.860000000000002, \"pred\": 3.98947819027427}, {\"true\": 1.2208333333333368, \"pred\": 3.734791808903221}, {\"true\": 3.6520833333333345, \"pred\": 4.242582091956373}, {\"true\": 3.1854166666666712, \"pred\": 2.7730606135775067}, {\"true\": 4.617647058823532, \"pred\": 4.987481180739568}, {\"true\": 5.608974358974359, \"pred\": 4.069598690895066}, {\"true\": 1.6600000000000015, \"pred\": 3.1189367080043113}, {\"true\": 5.491666666666667, \"pred\": 4.502820327047393}, {\"true\": 6.429487179487182, \"pred\": 5.871358328570332}, {\"true\": 7.5590909090909095, \"pred\": 5.576799488563033}, {\"true\": 6.447435897435899, \"pred\": 6.563343802370355}, {\"true\": 3.760606060606061, \"pred\": 4.080376247383669}, {\"true\": 3.178333333333334, \"pred\": 4.102699544979243}, {\"true\": 2.566666666666669, \"pred\": 3.4493420489732}, {\"true\": 4.746296296296297, \"pred\": 3.2503858790755285}, {\"true\": 2.936363636363638, \"pred\": 3.58130068992458}, {\"true\": 7.932142857142856, \"pred\": 6.9047880379856315}, {\"true\": 6.053333333333335, \"pred\": 6.148856117082973}, {\"true\": 2.836111111111116, \"pred\": 2.690702366966187}, {\"true\": 3.722222222222223, \"pred\": 4.742113386931652}, {\"true\": 2.422727272727273, \"pred\": 2.9610844240248477}, {\"true\": 4.897222222222226, \"pred\": 3.0922238400881326}, {\"true\": 4.846428571428574, \"pred\": 5.05336731096173}, {\"true\": 4.485714285714291, \"pred\": 4.049068374958311}, {\"true\": 3.9395833333333377, \"pred\": 4.415876100067761}, {\"true\": 8.157407407407408, \"pred\": 5.37218014687771}, {\"true\": 8.447619047619046, \"pred\": 5.255425007106729}, {\"true\": 4.730000000000001, \"pred\": 5.279390154783299}, {\"true\": 4.751282051282052, \"pred\": 5.012480030503145}, {\"true\": 7.754545454545457, \"pred\": 6.3371439739457855}, {\"true\": 3.828571428571429, \"pred\": 6.991906485872896}, {\"true\": 5.19871794871795, \"pred\": 5.013546076702733}, {\"true\": 5.345833333333333, \"pred\": 5.101534816521456}, {\"true\": 5.545, \"pred\": 5.109025159452174}, {\"true\": 3.043333333333337, \"pred\": 2.6488984172749706}, {\"true\": 1.672222222222227, \"pred\": 3.007423774077235}, {\"true\": 4.106944444444444, \"pred\": 3.825289763759311}, {\"true\": 4.557291666666667, \"pred\": 4.584790456572551}, {\"true\": 4.02878787878788, \"pred\": 4.715779967025187}, {\"true\": 1.8833333333333322, \"pred\": 3.649391304141924}, {\"true\": 7.996666666666667, \"pred\": 5.9195970423511906}, {\"true\": 1.4666666666666786, \"pred\": 3.3536485115661536}, {\"true\": 1.214814814814818, \"pred\": 2.547542242253791}, {\"true\": 6.575757575757578, \"pred\": 6.675580029424855}, {\"true\": 6.040740740740741, \"pred\": 4.284217421542209}, {\"true\": 0.9833333333333378, \"pred\": 5.5651605391166905}, {\"true\": 3.2954545454545463, \"pred\": 4.137001462407715}, {\"true\": 4.987037037037041, \"pred\": 7.595819662720231}, {\"true\": 4.242424242424243, \"pred\": 4.727173936670361}, {\"true\": 3.2064102564102566, \"pred\": 3.6510269869540912}, {\"true\": 4.025000000000009, \"pred\": 3.404191708274233}, {\"true\": 7.297435897435899, \"pred\": 6.989008512013552}, {\"true\": 9.712121212121213, \"pred\": 6.199935020043684}, {\"true\": 9.72888888888889, \"pred\": 9.476705612615845}, {\"true\": 2.854761904761907, \"pred\": 4.005473907558752}, {\"true\": 7.077272727272729, \"pred\": 6.780826167359441}, {\"true\": 5.173333333333337, \"pred\": 5.210654836031739}, {\"true\": 7.32, \"pred\": 6.966171605901776}, {\"true\": 4.882142857142857, \"pred\": 5.721673849581827}, {\"true\": 1.0166666666666688, \"pred\": 2.402180200350286}, {\"true\": 5.088888888888892, \"pred\": 4.444524769090966}, {\"true\": 2.508333333333342, \"pred\": 2.614941001459417}, {\"true\": 3.02666666666667, \"pred\": 4.152560182524646}, {\"true\": 13.769230769230772, \"pred\": 11.270899549500646}, {\"true\": 5.793939393939393, \"pred\": 5.643028104929509}, {\"true\": 4.083333333333333, \"pred\": 4.570516069613299}, {\"true\": 6.113333333333334, \"pred\": 5.581416872019259}, {\"true\": 5.139583333333338, \"pred\": 5.259243797412629}, {\"true\": 4.516666666666668, \"pred\": 5.981554837440498}, {\"true\": 2.65925925925926, \"pred\": 2.815844127412169}, {\"true\": 4.915151515151515, \"pred\": 3.9327742317489243}, {\"true\": 4.654761904761905, \"pred\": 4.564210024666092}, {\"true\": 6.286904761904765, \"pred\": 5.504701190941826}, {\"true\": 6.460416666666669, \"pred\": 5.207072992001263}, {\"true\": 3.4333333333333362, \"pred\": 4.287816118333743}, {\"true\": 5.553333333333335, \"pred\": 5.041580417027414}, {\"true\": 6.077777777777778, \"pred\": 5.820806090162418}, {\"true\": 10.192222222222222, \"pred\": 8.57253322831055}, {\"true\": 4.495238095238096, \"pred\": 5.901715130669134}, {\"true\": 5.416666666666666, \"pred\": 4.5846709569934925}, {\"true\": 6.043750000000005, \"pred\": 5.948443310901115}, {\"true\": 3.613888888888891, \"pred\": 2.298617671425486}, {\"true\": 6.945000000000002, \"pred\": 6.381276404089699}, {\"true\": 6.246666666666674, \"pred\": 4.534088341609892}, {\"true\": 4.4750000000000005, \"pred\": 4.365456508618409}, {\"true\": 2.551515151515155, \"pred\": 2.343053422739388}, {\"true\": 6.4333333333333345, \"pred\": 6.599206542951238}, {\"true\": 2.3848484848484865, \"pred\": 5.934449037847016}, {\"true\": 6.242857142857142, \"pred\": 6.0834999420259175}, {\"true\": 5.532051282051283, \"pred\": 4.9837451271703}, {\"true\": 2.4296296296296327, \"pred\": 4.083373129482171}, {\"true\": 4.617647058823532, \"pred\": 5.3683083223487715}, {\"true\": 7.394444444444446, \"pred\": 7.176115095201239}, {\"true\": 2.6900000000000026, \"pred\": 3.651529399491733}, {\"true\": 6.177083333333334, \"pred\": 5.718223370992973}, {\"true\": 2.422222222222222, \"pred\": 3.087595979804435}, {\"true\": 4.798809523809524, \"pred\": 5.376149748230019}, {\"true\": 7.556410256410256, \"pred\": 6.480099252269732}, {\"true\": 5.2745098039215685, \"pred\": 5.160922519126879}, {\"true\": 7.841666666666666, \"pred\": 8.20181043341677}, {\"true\": 4.016666666666668, \"pred\": 4.536499058582448}, {\"true\": 4.941666666666667, \"pred\": 5.252775223920715}, {\"true\": 4.450000000000001, \"pred\": 4.404748127316021}, {\"true\": 6.432142857142859, \"pred\": 5.87235658109426}, {\"true\": 2.156060606060609, \"pred\": 3.572897426893313}, {\"true\": 4.647435897435897, \"pred\": 4.539236362046254}, {\"true\": 3.275925925925927, \"pred\": 2.570902442812039}, {\"true\": 3.888888888888888, \"pred\": 3.2893708100455266}, {\"true\": 3.0111111111111115, \"pred\": 3.303649656886409}, {\"true\": 5.302777777777784, \"pred\": 4.205802531598695}, {\"true\": 5.926388888888891, \"pred\": 6.4164020177048435}, {\"true\": 7.240000000000002, \"pred\": 6.063314584471995}, {\"true\": 5.146875000000001, \"pred\": 5.278429305541297}, {\"true\": 1.5027777777777789, \"pred\": 2.9580339331615404}, {\"true\": 7.125757575757576, \"pred\": 6.443434486336277}, {\"true\": 3.6000000000000005, \"pred\": 3.7227265056927386}, {\"true\": 5.592592592592592, \"pred\": 6.179175107234555}, {\"true\": 4.286111111111113, \"pred\": 6.389344976303956}, {\"true\": 2.0875000000000044, \"pred\": 2.5501125677689953}, {\"true\": 5.053703703703705, \"pred\": 5.410522290793985}, {\"true\": 5.917777777777777, \"pred\": 6.168999184703567}, {\"true\": 5.950980392156863, \"pred\": 5.439008260580718}, {\"true\": 4.244444444444451, \"pred\": 2.522206716349843}, {\"true\": 3.462500000000001, \"pred\": 5.597226222927026}, {\"true\": 6.963636363636365, \"pred\": 5.590351605997241}, {\"true\": 5.075, \"pred\": 5.565113838701499}, {\"true\": 3.9870370370370387, \"pred\": 3.7310560682946834}, {\"true\": 3.934444444444445, \"pred\": 3.6886270806137613}, {\"true\": 2.5166666666666693, \"pred\": 1.9510574315980007}, {\"true\": 3.6428571428571437, \"pred\": 4.127570751138635}, {\"true\": 3.1261904761904766, \"pred\": 3.61363427579601}, {\"true\": 5.912500000000001, \"pred\": 5.079084783678299}, {\"true\": 5.466666666666667, \"pred\": 5.576548237821796}, {\"true\": 4.182051282051281, \"pred\": 5.181141089704596}, {\"true\": 2.6145833333333375, \"pred\": 4.927970720225151}, {\"true\": 3.5600000000000023, \"pred\": 2.6997349031932982}, {\"true\": 3.137500000000009, \"pred\": 4.027248294691831}, {\"true\": 5.397222222222223, \"pred\": 5.536540883662234}, {\"true\": 2.7583333333333515, \"pred\": 2.1844990378481386}, {\"true\": 7.730769230769231, \"pred\": 7.446936609516117}, {\"true\": 4.671428571428573, \"pred\": 4.5288116149909445}, {\"true\": 3.9833333333333343, \"pred\": 4.3564313180896175}, {\"true\": 2.7933333333333406, \"pred\": 2.4401520390100564}, {\"true\": 3.919047619047621, \"pred\": 7.330005418130861}, {\"true\": 6.450000000000003, \"pred\": 7.056988435944925}, {\"true\": 6.610000000000001, \"pred\": 4.66868256105127}, {\"true\": 4.366666666666666, \"pred\": 4.458151652615786}, {\"true\": 5.492857142857145, \"pred\": 5.224092278631738}, {\"true\": 4.5888888888888895, \"pred\": 6.549328391018912}, {\"true\": 6.735897435897437, \"pred\": 3.8879257170070423}, {\"true\": 7.026666666666669, \"pred\": 7.4331981368867055}, {\"true\": 3.4680555555555586, \"pred\": 3.283580982088019}, {\"true\": 2.609523809523814, \"pred\": 2.945528514978699}, {\"true\": 8.743589743589745, \"pred\": 7.2733547797231175}, {\"true\": 4.490000000000002, \"pred\": 5.280703810809703}, {\"true\": 6.678787878787879, \"pred\": 6.761763965179253}, {\"true\": 3.1730769230769225, \"pred\": 3.4332512962258774}, {\"true\": 4.138888888888894, \"pred\": 3.251343558315131}, {\"true\": 0.9962962962963002, \"pred\": 1.6312296047479724}, {\"true\": 3.7666666666666675, \"pred\": 4.369323115996061}, {\"true\": 4.500000000000001, \"pred\": 6.385066713059049}, {\"true\": 3.41166666666667, \"pred\": 5.174161618142437}, {\"true\": 9.700000000000003, \"pred\": 8.333216157113858}, {\"true\": 5.512962962962966, \"pred\": 4.952836530891221}, {\"true\": 2.836111111111116, \"pred\": 2.3581656943625764}, {\"true\": 7.389285714285715, \"pred\": 7.147183163242259}, {\"true\": 2.7428571428571433, \"pred\": 3.7033302049259205}, {\"true\": 4.401666666666667, \"pred\": 5.343132367834634}, {\"true\": 7.339583333333335, \"pred\": 6.806074461669967}, {\"true\": 2.66, \"pred\": 3.958932913177607}, {\"true\": 4.860000000000001, \"pred\": 4.655461589925909}, {\"true\": 2.6166666666666667, \"pred\": 3.0350509536179806}, {\"true\": 5.269696969696971, \"pred\": 6.254225195512113}, {\"true\": 4.2785714285714285, \"pred\": 4.139256794552537}, {\"true\": 2.827272727272729, \"pred\": 2.8567101938362542}, {\"true\": 6.404545454545456, \"pred\": 5.218725086016635}, {\"true\": 1.2952380952380997, \"pred\": 3.3443561953263203}, {\"true\": 5.950980392156863, \"pred\": 5.677563580502947}, {\"true\": 2.7136363636363665, \"pred\": 2.701559990526284}, {\"true\": 4.833333333333333, \"pred\": 4.133644687933814}, {\"true\": 4.607575757575759, \"pred\": 4.6004791660085225}, {\"true\": 4.5395833333333355, \"pred\": 5.2792492350023315}, {\"true\": 3.0037037037037075, \"pred\": 2.755654178649431}, {\"true\": 5.895833333333336, \"pred\": 5.1388146407066255}, {\"true\": 6.233333333333334, \"pred\": 7.5402514538492476}, {\"true\": 4.486111111111114, \"pred\": 4.127150810815135}, {\"true\": 2.6370370370370377, \"pred\": 2.903026024764905}, {\"true\": 4.761111111111111, \"pred\": 3.6276506837103906}, {\"true\": 1.9500000000000015, \"pred\": 3.9041279107700144}, {\"true\": 3.108333333333334, \"pred\": 3.7791701771688992}, {\"true\": 5.900000000000003, \"pred\": 5.1107688313264585}, {\"true\": 2.972222222222223, \"pred\": 4.378540528090102}, {\"true\": 4.730000000000001, \"pred\": 5.794593266229797}, {\"true\": 5.1499999999999995, \"pred\": 5.125949404736023}, {\"true\": 3.5541666666666685, \"pred\": 3.2691997039074305}, {\"true\": 5.488333333333334, \"pred\": 4.418510871731209}, {\"true\": 10.254545454545456, \"pred\": 8.330297212514854}, {\"true\": 5.456666666666672, \"pred\": 4.436052452265779}, {\"true\": 2.3988095238095264, \"pred\": 3.637993006814995}, {\"true\": 3.542307692307693, \"pred\": 4.131000873225603}, {\"true\": 4.871875, \"pred\": 5.653126974570954}, {\"true\": 3.9250000000000016, \"pred\": 3.949241932324868}, {\"true\": 6.083333333333332, \"pred\": 5.4832464701174874}, {\"true\": 1.214814814814818, \"pred\": 4.044699075160392}, {\"true\": 1.7687500000000012, \"pred\": 3.188697700853381}, {\"true\": 3.027777777777781, \"pred\": 2.6135640893835443}, {\"true\": 5.4025, \"pred\": 5.2557024310778955}, {\"true\": 4.216666666666668, \"pred\": 3.95996118345197}, {\"true\": 5.172727272727273, \"pred\": 6.691562868266382}, {\"true\": 6.564285714285716, \"pred\": 4.158154004508552}, {\"true\": 3.573333333333337, \"pred\": 3.0753947538197193}, {\"true\": 2.2619047619047645, \"pred\": 2.293826111489267}, {\"true\": 6.796153846153847, \"pred\": 6.829985090019833}, {\"true\": 1.9527777777777766, \"pred\": 2.6982473966980076}, {\"true\": 5.619444444444446, \"pred\": 5.27357599404342}, {\"true\": 4.976923076923077, \"pred\": 5.103973530301751}, {\"true\": 9.563888888888895, \"pred\": 7.266927177821179}, {\"true\": 1.7791666666666686, \"pred\": 2.200757497797407}, {\"true\": 4.277777777777778, \"pred\": 4.881092830531787}, {\"true\": 3.7238095238095257, \"pred\": 3.4127654022521607}, {\"true\": 3.1571428571428575, \"pred\": 3.2022990797627413}, {\"true\": 5.167592592592593, \"pred\": 6.005500571401934}, {\"true\": 5.702380952380953, \"pred\": 5.4648542830711495}, {\"true\": 7.120000000000002, \"pred\": 6.179926192529519}, {\"true\": 5.491666666666667, \"pred\": 4.754322175910253}, {\"true\": 6.788461538461541, \"pred\": 6.391833723176657}, {\"true\": 4.26, \"pred\": 3.8352246796968834}, {\"true\": 1.893750000000001, \"pred\": 3.192585832215524}, {\"true\": 4.268750000000001, \"pred\": 3.60657369244126}, {\"true\": 5.532222222222221, \"pred\": 4.324772946320521}, {\"true\": 4.23703703703704, \"pred\": 4.600442502894147}, {\"true\": 7.2928571428571445, \"pred\": 5.272356890000292}, {\"true\": 0.6638888888888901, \"pred\": 3.678069800393578}, {\"true\": 4.19074074074074, \"pred\": 4.270731228964608}, {\"true\": 4.818055555555557, \"pred\": 5.1537852390008725}, {\"true\": 5.383333333333335, \"pred\": 6.5699957872810675}, {\"true\": 4.5575757575757585, \"pred\": 4.495043425060425}, {\"true\": 4.4750000000000005, \"pred\": 4.166915318057894}, {\"true\": 3.550000000000012, \"pred\": 3.444113822054612}, {\"true\": 6.121794871794874, \"pred\": 6.649446967378273}, {\"true\": 11.822727272727274, \"pred\": 9.407171260125825}, {\"true\": 7.621111111111113, \"pred\": 8.125521031016655}, {\"true\": 7.177777777777778, \"pred\": 6.830311220502108}, {\"true\": 4.339743589743589, \"pred\": 3.8007434400114977}, {\"true\": 4.250000000000002, \"pred\": 5.589753205071268}, {\"true\": 5.658333333333333, \"pred\": 6.009747247613972}, {\"true\": 3.890909090909092, \"pred\": 3.851841772209703}, {\"true\": 5.430769230769231, \"pred\": 4.968031518966307}, {\"true\": 2.306060606060608, \"pred\": 1.8674348087182466}, {\"true\": 2.980000000000001, \"pred\": 6.688035983232159}, {\"true\": 3.3055555555555594, \"pred\": 3.3220047810257354}, {\"true\": 2.9833333333333423, \"pred\": 3.3573642566261475}, {\"true\": 4.200000000000002, \"pred\": 3.5479698777607176}, {\"true\": 3.081481481481483, \"pred\": 7.901746700586642}, {\"true\": 4.266666666666677, \"pred\": 4.2943832130286115}, {\"true\": 7.646666666666668, \"pred\": 6.097796341159738}, {\"true\": 4.025000000000003, \"pred\": 2.5598100131388977}, {\"true\": 5.500000000000003, \"pred\": 4.151517260308775}, {\"true\": 5.716666666666667, \"pred\": 5.65383172006477}, {\"true\": 3.770833333333333, \"pred\": 4.371751062611795}, {\"true\": 4.974358974358976, \"pred\": 6.3770531310684815}, {\"true\": 1.4633333333333356, \"pred\": 1.5283650871117225}, {\"true\": 3.7857142857142905, \"pred\": 3.9780630635404637}, {\"true\": 8.866666666666667, \"pred\": 7.0978351127634305}, {\"true\": 3.6984848484848523, \"pred\": 3.307325070951664}, {\"true\": 6.083333333333332, \"pred\": 6.846930902476442}, {\"true\": 10.067777777777781, \"pred\": 10.034602849467063}, {\"true\": 6.260416666666669, \"pred\": 5.73197104196888}, {\"true\": 3.1133333333333364, \"pred\": 3.274585213977876}, {\"true\": 5.997777777777778, \"pred\": 5.849359452958386}, {\"true\": 6.698039215686274, \"pred\": 7.748431778515428}, {\"true\": 3.383333333333333, \"pred\": 4.1412114205586255}, {\"true\": 8.125757575757575, \"pred\": 5.615181121120584}, {\"true\": 6.942592592592594, \"pred\": 5.896276130807408}, {\"true\": 3.7574074074074084, \"pred\": 3.501646682767394}, {\"true\": 2.91666666666667, \"pred\": 4.100801559536135}, {\"true\": 1.841666666666668, \"pred\": 2.035566766467197}, {\"true\": 6.177083333333334, \"pred\": 5.90934837705259}, {\"true\": 4.221111111111112, \"pred\": 4.231729877905769}, {\"true\": 7.045833333333335, \"pred\": 6.2640610348621895}, {\"true\": 3.7696969696969704, \"pred\": 5.339728611977467}, {\"true\": 9.842592592592593, \"pred\": 6.890766921543514}, {\"true\": 5.255882352941177, \"pred\": 5.436917319632002}, {\"true\": 5.193939393939396, \"pred\": 5.989419196982144}, {\"true\": 7.914583333333335, \"pred\": 6.183338299502129}, {\"true\": 10.180952380952382, \"pred\": 6.809057748335886}, {\"true\": 3.6814814814814816, \"pred\": 3.1164369688695204}, {\"true\": 5.218055555555557, \"pred\": 6.319774504076469}, {\"true\": 8.22878787878788, \"pred\": 7.229379596375203}, {\"true\": 5.088888888888892, \"pred\": 4.75076764402831}, {\"true\": 4.997619047619048, \"pred\": 5.046750366932239}, {\"true\": 3.0483333333333333, \"pred\": 3.372940057188819}, {\"true\": 1.841666666666668, \"pred\": 2.3576126780672575}, {\"true\": 5.532222222222222, \"pred\": 5.524679585788623}, {\"true\": 4.108333333333336, \"pred\": 5.956701213308843}, {\"true\": 3.533333333333351, \"pred\": 3.6816745087710903}, {\"true\": 3.3122222222222244, \"pred\": 4.082471063924931}, {\"true\": 4.414583333333335, \"pred\": 5.774349512411788}, {\"true\": 5.563636363636366, \"pred\": 4.697387440459674}, {\"true\": 5.576666666666667, \"pred\": 5.126540588430234}, {\"true\": 5.028571428571429, \"pred\": 4.910530382860744}, {\"true\": 3.6722222222222225, \"pred\": 3.7115648785926685}, {\"true\": 1.4763888888888899, \"pred\": 3.1719036493901767}, {\"true\": 4.22, \"pred\": 4.465206983654914}, {\"true\": 5.798958333333334, \"pred\": 5.8759954852967065}, {\"true\": 2.2666666666666675, \"pred\": 3.6582713478392255}, {\"true\": 4.0166666666666675, \"pred\": 4.004325950850755}, {\"true\": 3.400000000000002, \"pred\": 3.2766273537429447}, {\"true\": 4.1981481481481495, \"pred\": 4.77628528315387}, {\"true\": 4.890476190476191, \"pred\": 4.752677491001569}, {\"true\": 2.953333333333334, \"pred\": 3.7046782194564107}, {\"true\": 2.338888888888895, \"pred\": 1.581201288064276}, {\"true\": 0.9425925925925933, \"pred\": 2.698748870426371}, {\"true\": 8.341666666666665, \"pred\": 7.811745983558885}, {\"true\": 7.243939393939397, \"pred\": 6.512032892913624}, {\"true\": 3.567948717948719, \"pred\": 3.9408338921524515}, {\"true\": 1.3833333333333688, \"pred\": 3.510048607861869}, {\"true\": 2.833333333333335, \"pred\": 3.092164353292393}, {\"true\": 3.518750000000001, \"pred\": 3.8869917173117754}, {\"true\": 3.572222222222223, \"pred\": 5.185925843233471}, {\"true\": 3.8939393939393954, \"pred\": 4.1748648293316375}, {\"true\": 2.4261904761904773, \"pred\": 4.091675477573571}, {\"true\": 4.3595238095238145, \"pred\": 4.771313443995832}, {\"true\": 6.038888888888892, \"pred\": 4.359465207201467}, {\"true\": 4.865833333333334, \"pred\": 5.7403396394033965}, {\"true\": 12.077083333333334, \"pred\": 10.404122739319172}, {\"true\": 4.906410256410257, \"pred\": 5.696202304623141}, {\"true\": 6.172727272727273, \"pred\": 4.890895381863555}, {\"true\": 3.725, \"pred\": 4.0280308698156215}, {\"true\": 6.855555555555555, \"pred\": 5.193919520578879}, {\"true\": 3.4500000000000015, \"pred\": 3.9620796156341083}, {\"true\": 3.2763888888888917, \"pred\": 4.476922891892631}, {\"true\": 2.804444444444447, \"pred\": 3.9912116175680246}, {\"true\": 7.038333333333334, \"pred\": 6.788376966598925}, {\"true\": 5.586111111111111, \"pred\": 5.448133747473055}, {\"true\": 5.623333333333333, \"pred\": 5.404703561205673}, {\"true\": 3.664285714285715, \"pred\": 3.4338948069071527}, {\"true\": 2.948148148148149, \"pred\": 2.980985173620207}, {\"true\": 5.628205128205129, \"pred\": 5.635820268380265}, {\"true\": 5.7205128205128215, \"pred\": 5.124319802653269}, {\"true\": 2.1733333333333347, \"pred\": 2.7830519690929374}, {\"true\": 3.6861111111111113, \"pred\": 4.610094532025866}, {\"true\": 6.752083333333336, \"pred\": 7.015052493676949}, {\"true\": 2.6333333333333493, \"pred\": 4.028926681334978}, {\"true\": 6.230000000000001, \"pred\": 5.227012399476396}, {\"true\": 6.760416666666668, \"pred\": 6.431021892702284}, {\"true\": 8.866666666666667, \"pred\": 6.103740600338805}, {\"true\": 3.2900000000000014, \"pred\": 3.7675821810024406}, {\"true\": 3.656410256410258, \"pred\": 4.496385183090954}, {\"true\": 4.711111111111113, \"pred\": 3.054403562488091}, {\"true\": 5.53787878787879, \"pred\": 5.511476545452527}, {\"true\": 5.837037037037039, \"pred\": 5.818266930352949}, {\"true\": 4.322916666666669, \"pred\": 4.478465027919255}, {\"true\": 3.623611111111114, \"pred\": 3.9400699245560227}, {\"true\": 7.166666666666668, \"pred\": 5.861766240463902}, {\"true\": 3.5062500000000005, \"pred\": 3.8268685884936287}, {\"true\": 3.1916666666666673, \"pred\": 3.3911378178343843}, {\"true\": 3.0296296296296337, \"pred\": 4.326716349634771}, {\"true\": 5.545454545454547, \"pred\": 4.107567383739641}, {\"true\": 4.3211111111111125, \"pred\": 4.948326655840274}, {\"true\": 5.6, \"pred\": 4.883432016094416}, {\"true\": 10.437777777777777, \"pred\": 8.586482705230429}, {\"true\": 4.94583333333334, \"pred\": 2.004429063025344}, {\"true\": 2.9111111111111163, \"pred\": 2.581075329376215}, {\"true\": 5.350000000000001, \"pred\": 5.074254691969804}, {\"true\": 4.777083333333334, \"pred\": 3.6423471006023167}, {\"true\": 5.014285714285715, \"pred\": 5.432322679454096}, {\"true\": 3.21969696969697, \"pred\": 5.854869932160563}, {\"true\": 3.4333333333333367, \"pred\": 5.634345210268006}, {\"true\": 6.1, \"pred\": 4.7956644791482725}, {\"true\": 4.788888888888893, \"pred\": 6.243476860288437}, {\"true\": 1.4833333333333365, \"pred\": 2.3663529311121265}, {\"true\": 7.987719298245615, \"pred\": 7.013927802693051}, {\"true\": 1.1300000000000037, \"pred\": 1.8361998642115027}, {\"true\": 7.389285714285715, \"pred\": 7.170995375097487}, {\"true\": 7.972222222222224, \"pred\": 5.928812131808313}, {\"true\": 6.735897435897437, \"pred\": 5.61247292364552}, {\"true\": 2.0777777777777837, \"pred\": 2.1431565547236135}, {\"true\": 6.553333333333335, \"pred\": 4.796119972216859}, {\"true\": 4.172916666666671, \"pred\": 3.614494408039097}, {\"true\": 5.15897435897436, \"pred\": 5.174933994446232}, {\"true\": 11.022222222222224, \"pred\": 7.662743051141933}, {\"true\": 1.7763568394002505e-14, \"pred\": 2.380163502393343}, {\"true\": 6.090909090909093, \"pred\": 4.51293972142668}, {\"true\": 3.116666666666667, \"pred\": 3.683545223038978}, {\"true\": 6.603571428571429, \"pred\": 4.543191455680551}, {\"true\": 3.7116666666666673, \"pred\": 4.120885227474062}, {\"true\": 6.139583333333338, \"pred\": 4.9223875514835065}, {\"true\": 5.329761904761905, \"pred\": 5.550119388824891}, {\"true\": 3.0083333333333337, \"pred\": 4.548452938525596}, {\"true\": 3.106666666666667, \"pred\": 4.265034245650012}, {\"true\": 1.1476190476190475, \"pred\": 3.282743315297155}, {\"true\": 6.455555555555567, \"pred\": 3.8508907312207787}, {\"true\": 7.045833333333335, \"pred\": 5.642588486898382}, {\"true\": 3.8756410256410283, \"pred\": 4.52111877212424}, {\"true\": 2.6972222222222286, \"pred\": 2.8097197489278414}, {\"true\": 3.347916666666668, \"pred\": 4.329530325788005}, {\"true\": 3.3547619047619093, \"pred\": 4.109701745798309}, {\"true\": 3.7250000000000023, \"pred\": 4.774700455197301}, {\"true\": 3.9273809523809535, \"pred\": 4.892743970291163}, {\"true\": 4.696428571428572, \"pred\": 4.345076305894881}, {\"true\": 7.3854166666666705, \"pred\": 6.22593795423734}, {\"true\": 3.100000000000003, \"pred\": 2.5872464472051617}, {\"true\": 3.574074074074076, \"pred\": 3.862558515255861}, {\"true\": 4.989285714285716, \"pred\": 4.883642579875066}, {\"true\": 3.828571428571429, \"pred\": 4.966475935131425}, {\"true\": 5.700000000000004, \"pred\": 4.465430452007708}, {\"true\": 3.760606060606061, \"pred\": 5.1541977170400655}, {\"true\": 1.5000000000000064, \"pred\": 5.1780067482891114}, {\"true\": 3.0625000000000027, \"pred\": 4.6437518338300015}, {\"true\": 8.22878787878788, \"pred\": 6.256391423178082}, {\"true\": 5.552564102564105, \"pred\": 4.1595152795689065}, {\"true\": 3.652777777777781, \"pred\": 3.636090906546127}, {\"true\": 2.133333333333335, \"pred\": 4.443172398147994}, {\"true\": 2.6916666666666664, \"pred\": 3.7275074183415633}, {\"true\": 8.72051282051282, \"pred\": 5.738197767836611}, {\"true\": 5.014285714285715, \"pred\": 5.5428120349575485}, {\"true\": 6.945000000000002, \"pred\": 6.397313498547326}, {\"true\": 8.913888888888888, \"pred\": 8.245294899215184}, {\"true\": 3.6666666666666687, \"pred\": 2.8641802718349836}, {\"true\": 5.382142857142857, \"pred\": 4.436702628758143}, {\"true\": 2.733333333333335, \"pred\": 3.23698207817304}, {\"true\": 3.5333333333333345, \"pred\": 5.470342134964346}, {\"true\": 3.6861111111111113, \"pred\": 4.563813803466426}, {\"true\": 2.025925925925928, \"pred\": 2.0396130186873633}, {\"true\": 16.11794871794872, \"pred\": 14.182469705406413}, {\"true\": 3.705555555555559, \"pred\": 2.9009804295231127}, {\"true\": 5.475, \"pred\": 5.235298525307123}, {\"true\": 3.7733333333333325, \"pred\": 3.753945570966974}, {\"true\": 6.0256410256410255, \"pred\": 5.468287478173527}, {\"true\": 4.061666666666669, \"pred\": 3.60407150645682}, {\"true\": 5.435416666666668, \"pred\": 4.960712659428806}, {\"true\": 5.848717948717948, \"pred\": 4.961577292364394}, {\"true\": 3.770833333333333, \"pred\": 3.691415482094973}, {\"true\": 2.9666666666666672, \"pred\": 3.4068256386727245}, {\"true\": 3.924358974358977, \"pred\": 5.029170947069875}, {\"true\": 4.602564102564103, \"pred\": 4.787518708154931}, {\"true\": 3.1958333333333355, \"pred\": 3.987992561728831}, {\"true\": 2.911111111111111, \"pred\": 4.139716312832245}, {\"true\": 4.602564102564103, \"pred\": 4.898808970607598}, {\"true\": 2.364583333333336, \"pred\": 2.580600320720683}, {\"true\": 3.6750000000000025, \"pred\": 4.115628858120019}, {\"true\": 4.102083333333335, \"pred\": 4.18067028123439}, {\"true\": 6.9742424242424255, \"pred\": 7.49954827689723}, {\"true\": 4.587500000000001, \"pred\": 4.763450170858555}, {\"true\": 5.1000000000000005, \"pred\": 4.707016869877618}, {\"true\": 4.784722222222222, \"pred\": 5.0570596165458355}, {\"true\": 4.158333333333337, \"pred\": 4.282963156290229}, {\"true\": 5.8969696969697, \"pred\": 4.522661582803596}, {\"true\": 6.081250000000002, \"pred\": 5.424986283250723}, {\"true\": 1.1555555555555603, \"pred\": 1.7969868810380576}, {\"true\": 0.38333333333333613, \"pred\": 2.5552322041789086}, {\"true\": 7.938095238095242, \"pred\": 7.754125817585772}, {\"true\": 1.7791666666666686, \"pred\": 3.039378962549248}, {\"true\": 3.277083333333333, \"pred\": 3.7219373442126993}, {\"true\": 3.5638888888888896, \"pred\": 4.2937638180559805}, {\"true\": 5.357142857142857, \"pred\": 5.602061838231541}, {\"true\": 8.021875000000001, \"pred\": 7.857754133706861}, {\"true\": 5.676666666666668, \"pred\": 5.195204307273867}, {\"true\": 1.6066666666666656, \"pred\": 3.0556947568112873}, {\"true\": 7.730769230769231, \"pred\": 7.505190592124559}, {\"true\": 6.101666666666667, \"pred\": 6.0272284557961004}, {\"true\": 6.333333333333335, \"pred\": 6.525456676727372}, {\"true\": 2.9348484848484846, \"pred\": 4.1870641646650215}, {\"true\": 5.5196078431372575, \"pred\": 5.386795983626937}, {\"true\": 4.762820512820513, \"pred\": 4.5318584431687805}, {\"true\": 3.143333333333336, \"pred\": 5.688256485531673}, {\"true\": 3.9733333333333336, \"pred\": 6.723861684872486}, {\"true\": 3.5333333333333345, \"pred\": 6.40020231119844}, {\"true\": 3.071794871794874, \"pred\": 3.613572622897107}, {\"true\": 7.574074074074076, \"pred\": 3.953366712519309}, {\"true\": 8.511111111111115, \"pred\": 4.8214580375971625}, {\"true\": 4.00909090909091, \"pred\": 4.42992784203537}, {\"true\": 6.8111111111111144, \"pred\": 5.9157055470029505}, {\"true\": 4.95, \"pred\": 4.23716697123025}, {\"true\": 1.1033333333333333, \"pred\": 2.663849029086218}, {\"true\": 0.9861111111111135, \"pred\": 1.4272834305695996}, {\"true\": 6.747619047619049, \"pred\": 6.090772181364679}, {\"true\": 6.931481481481483, \"pred\": 3.834990318735716}, {\"true\": 2.433333333333338, \"pred\": 2.4164505378508907}, {\"true\": 2.8533333333333335, \"pred\": 3.597168115524565}, {\"true\": 5.543750000000003, \"pred\": 3.9520296759683893}, {\"true\": 5.0166666666666675, \"pred\": 5.265028635798653}, {\"true\": 4.6, \"pred\": 3.5907528825553086}, {\"true\": 5.218055555555557, \"pred\": 6.409622613492499}, {\"true\": 7.25, \"pred\": 5.2021010906718415}, {\"true\": 4.617647058823532, \"pred\": 5.21313323173495}, {\"true\": 4.9384615384615405, \"pred\": 4.842955732991856}, {\"true\": 4.915151515151515, \"pred\": 3.599442475741395}, {\"true\": 6.229629629629631, \"pred\": 6.335866133544298}, {\"true\": 2.795833333333335, \"pred\": 3.2507905014084293}, {\"true\": 6.712962962962965, \"pred\": 6.382837142923029}, {\"true\": 6.4944444444444445, \"pred\": 6.829790671519768}, {\"true\": 1.4333333333333376, \"pred\": 2.43514118406692}, {\"true\": 2.222222222222226, \"pred\": 2.408917762569089}, {\"true\": 4.746969696969699, \"pred\": 6.1470121138908125}, {\"true\": 5.950980392156863, \"pred\": 5.6603211385490635}, {\"true\": 3.178333333333334, \"pred\": 4.354783638328369}, {\"true\": 3.4472222222222233, \"pred\": 3.7792179576559994}, {\"true\": 2.3888888888888897, \"pred\": 3.8526176633700038}, {\"true\": 4.841025641025643, \"pred\": 4.463128339647997}, {\"true\": 3.9472222222222246, \"pred\": 5.065629828643725}, {\"true\": 8.458333333333334, \"pred\": 6.804554184191208}, {\"true\": 4.555555555555559, \"pred\": 4.372034374054987}, {\"true\": 6.140277777777778, \"pred\": 5.41344522759812}, {\"true\": 2.433333333333338, \"pred\": 2.480576899607897}, {\"true\": 4.796428571428572, \"pred\": 4.731840415413395}, {\"true\": 3.6550000000000034, \"pred\": 5.285948055721161}, {\"true\": 5.010416666666669, \"pred\": 5.9105944944692}, {\"true\": 6.292424242424243, \"pred\": 6.541815956870879}, {\"true\": 2.066666666666672, \"pred\": 2.7858281022900298}, {\"true\": 4.809375000000001, \"pred\": 4.671968101527565}, {\"true\": 6.1439393939393945, \"pred\": 5.477923389892714}, {\"true\": 6.855555555555555, \"pred\": 4.921784764314672}, {\"true\": 4.777083333333334, \"pred\": 3.603183720523456}, {\"true\": 6.546153846153849, \"pred\": 6.655029375491187}, {\"true\": 4.064285714285714, \"pred\": 4.209122093486912}, {\"true\": 4.497435897435899, \"pred\": 4.973092952743811}, {\"true\": 3.103921568627453, \"pred\": 3.739567944138161}, {\"true\": 6.303846153846157, \"pred\": 4.855694969964369}, {\"true\": 4.659090909090913, \"pred\": 5.912954206406427}, {\"true\": 4.19074074074074, \"pred\": 4.153578887210246}, {\"true\": 2.8343750000000005, \"pred\": 4.438424407494168}, {\"true\": 5.994047619047621, \"pred\": 4.65512837904336}, {\"true\": 3.573333333333337, \"pred\": 3.668801709812252}, {\"true\": 3.4685185185185214, \"pred\": 3.8800223697122056}, {\"true\": 7.581481481481485, \"pred\": 6.834688041140762}, {\"true\": 1.9500000000000002, \"pred\": 2.809007135389515}, {\"true\": 5.308333333333335, \"pred\": 4.06814127674156}, {\"true\": 5.6, \"pred\": 4.879616078507401}, {\"true\": 5.041666666666671, \"pred\": 5.057921818508922}, {\"true\": 3.598611111111113, \"pred\": 3.1211013529042333}, {\"true\": 5.634722222222224, \"pred\": 5.271216563316787}, {\"true\": 8.257142857142858, \"pred\": 6.519792984340595}, {\"true\": 4.812820512820515, \"pred\": 5.294193242252762}, {\"true\": 6.6800000000000015, \"pred\": 5.761032258418593}, {\"true\": 1.8400000000000039, \"pred\": 3.7063334520681135}, {\"true\": 6.430303030303031, \"pred\": 6.356562239552989}, {\"true\": 2.225000000000009, \"pred\": 1.952729669198529}, {\"true\": 6.622222222222234, \"pred\": 4.529987322885532}, {\"true\": 6.185714285714289, \"pred\": 5.556732372362487}, {\"true\": 5.44166666666667, \"pred\": 6.508494727964858}, {\"true\": 4.506250000000001, \"pred\": 4.909299635105885}, {\"true\": 2.691666666666672, \"pred\": 1.7727005989859048}, {\"true\": 5.834722222222223, \"pred\": 5.287146526941559}, {\"true\": 6.900000000000003, \"pred\": 6.233718901051589}, {\"true\": 11.279487179487178, \"pred\": 7.337045424263643}, {\"true\": 5.491666666666671, \"pred\": 5.415520550353767}, {\"true\": 5.064814814814815, \"pred\": 4.837163752516462}, {\"true\": 1.584848484848488, \"pred\": 3.1032172363626116}, {\"true\": 4.818055555555557, \"pred\": 7.098976549911736}, {\"true\": 5.635000000000001, \"pred\": 6.089798920269667}, {\"true\": 7.202380952380953, \"pred\": 4.790981351805336}, {\"true\": 3.303333333333336, \"pred\": 3.4564416384421808}, {\"true\": 5.535, \"pred\": 5.216449958842233}, {\"true\": 6.354166666666668, \"pred\": 5.583887052907062}, {\"true\": 4.976923076923077, \"pred\": 5.069387774248574}, {\"true\": 3.8142857142857145, \"pred\": 3.9873691956485566}, {\"true\": 7.635416666666668, \"pred\": 6.2621064821281855}, {\"true\": 2.6923076923076925, \"pred\": 4.092221370578979}, {\"true\": 3.1777777777777785, \"pred\": 3.622888381385319}, {\"true\": 4.737037037037041, \"pred\": 7.097711925952609}, {\"true\": 3.233333333333335, \"pred\": 5.4995476324972525}, {\"true\": 3.487500000000001, \"pred\": 5.0410113093489}, {\"true\": 6.005000000000004, \"pred\": 5.530023611174673}, {\"true\": 8.336111111111114, \"pred\": 6.860739603612392}, {\"true\": 3.987878787878788, \"pred\": 3.4660883907886584}, {\"true\": 2.2416666666666676, \"pred\": 2.8240137333944477}, {\"true\": 2.8454545454545443, \"pred\": 3.819919948584423}, {\"true\": 4.942592592592593, \"pred\": 5.87059850141074}, {\"true\": 3.2821428571428584, \"pred\": 2.8170229322310507}, {\"true\": 4.708333333333337, \"pred\": 4.399466978277585}, {\"true\": 2.973333333333334, \"pred\": 3.1249347665983582}, {\"true\": 7.841666666666666, \"pred\": 6.861017780039444}, {\"true\": 4.96, \"pred\": 4.1354592187788555}, {\"true\": 1.3023809523809535, \"pred\": 3.7017275508199026}, {\"true\": 5.012500000000001, \"pred\": 5.5918008998840545}, {\"true\": 6.658333333333336, \"pred\": 6.511435804925804}, {\"true\": 4.311111111111112, \"pred\": 4.929959340445046}, {\"true\": 3.580555555555558, \"pred\": 3.262171030775162}, {\"true\": 1.9500000000000044, \"pred\": 2.5119543856264555}, {\"true\": 8.743589743589745, \"pred\": 7.0742824038832275}, {\"true\": 2.552777777777784, \"pred\": 2.995064976869924}, {\"true\": 2.6083333333333334, \"pred\": 3.3735358395069652}, {\"true\": 3.466666666666678, \"pred\": 4.033310117786178}, {\"true\": 12.15, \"pred\": 7.180168610256318}, {\"true\": 0.8000000000000119, \"pred\": 2.3098166183786044}, {\"true\": 5.834444444444445, \"pred\": 6.78333361331991}, {\"true\": 4.938095238095238, \"pred\": 4.9707497027286935}, {\"true\": 5.658333333333337, \"pred\": 5.349854197022267}, {\"true\": 8.15, \"pred\": 6.003168525363598}, {\"true\": 5.390000000000002, \"pred\": 4.912723201569927}, {\"true\": 10.575641025641026, \"pred\": 6.841908923432995}, {\"true\": 4.770512820512821, \"pred\": 4.9485483952490465}, {\"true\": 4.5654761904761925, \"pred\": 4.438456719280258}, {\"true\": 6.443333333333333, \"pred\": 6.159875831636824}, {\"true\": 3.3958333333333353, \"pred\": 3.382902308301462}, {\"true\": 5.3916666666666675, \"pred\": 6.5026269961445395}, {\"true\": 4.584210526315791, \"pred\": 4.684098398278471}, {\"true\": 6.4944444444444445, \"pred\": 7.5438277306137005}, {\"true\": 4.544444444444445, \"pred\": 3.788580592764405}, {\"true\": 5.93939393939394, \"pred\": 5.819461366133109}, {\"true\": 4.700000000000001, \"pred\": 6.346651629273006}, {\"true\": 10.993333333333334, \"pred\": 8.43672646104992}, {\"true\": 5.107142857142859, \"pred\": 7.325021052138209}, {\"true\": 2.6923076923076925, \"pred\": 4.539799534459775}, {\"true\": 3.0013888888888896, \"pred\": 4.173175966469484}, {\"true\": 0.8055555555555675, \"pred\": 0.656862245225221}, {\"true\": 3.7952380952380977, \"pred\": 4.736378888248403}, {\"true\": 6.795833333333336, \"pred\": 5.9169816630576895}, {\"true\": 3.7309523809523832, \"pred\": 4.0991408871391295}, {\"true\": 2.8166666666666687, \"pred\": 2.9500380768290757}, {\"true\": 6.686904761904762, \"pred\": 6.0431384919997235}, {\"true\": 3.9833333333333365, \"pred\": 4.63357601720433}, {\"true\": 5.793939393939397, \"pred\": 4.468678817293155}, {\"true\": 3.27916666666667, \"pred\": 3.7295249294906188}, {\"true\": 6.262500000000001, \"pred\": 5.363967896039694}, {\"true\": 6.330000000000003, \"pred\": 5.239336895521312}, {\"true\": 2.7240740740740774, \"pred\": 2.5169902568543305}, {\"true\": 3.840277777777778, \"pred\": 3.565571645647814}, {\"true\": 7.81851851851852, \"pred\": 6.183315560993836}, {\"true\": 4.550000000000003, \"pred\": 4.103850713552768}, {\"true\": 4.853333333333334, \"pred\": 5.4111382582681795}, {\"true\": 6.725000000000003, \"pred\": 6.647565539653913}, {\"true\": 4.890000000000003, \"pred\": 4.434387958450046}, {\"true\": 8.975925925925928, \"pred\": 5.398050844180192}, {\"true\": 3.1348484848484848, \"pred\": 4.817058582397514}, {\"true\": 13.753333333333336, \"pred\": 5.774587281852794}, {\"true\": 5.156944444444448, \"pred\": 5.541922615120967}, {\"true\": 5.866666666666667, \"pred\": 5.705418287112881}, {\"true\": 2.025925925925928, \"pred\": 1.6862695010569984}, {\"true\": 3.622222222222223, \"pred\": 3.4069946320175415}, {\"true\": 4.796428571428572, \"pred\": 4.818910070080152}, {\"true\": 5.8383333333333365, \"pred\": 6.039419913201583}, {\"true\": 5.14871794871795, \"pred\": 4.211469410323313}, {\"true\": 2.4296296296296327, \"pred\": 4.37337903465744}, {\"true\": 3.2530303030303034, \"pred\": 3.8141314302393927}, {\"true\": 8.908333333333333, \"pred\": 9.38375637132216}, {\"true\": 5.15606060606061, \"pred\": 4.62759480428017}, {\"true\": 2.858333333333337, \"pred\": 3.246402788049745}, {\"true\": 5.020370370370374, \"pred\": 5.608994389200971}, {\"true\": 4.037878787878789, \"pred\": 4.250076730794847}, {\"true\": 5.176041666666666, \"pred\": 6.994526797776888}, {\"true\": 4.400000000000002, \"pred\": 4.400940625066332}, {\"true\": 6.448333333333333, \"pred\": 6.236665709750681}, {\"true\": 9.784848484848487, \"pred\": 6.923625493518136}, {\"true\": 7.0699999999999985, \"pred\": 5.2141310538299175}, {\"true\": 2.606666666666667, \"pred\": 2.9043041578485056}, {\"true\": 6.498333333333335, \"pred\": 6.052110651314119}, {\"true\": 5.350000000000001, \"pred\": 5.186817581028578}, {\"true\": 3.6666666666666687, \"pred\": 3.4979544299914536}, {\"true\": 8.125757575757575, \"pred\": 5.339657519522666}, {\"true\": 8.398717948717948, \"pred\": 8.855609337254103}, {\"true\": 7.137179487179489, \"pred\": 5.195424305533754}, {\"true\": 3.0015151515151532, \"pred\": 2.9290991684662115}, {\"true\": 5.491666666666671, \"pred\": 6.0931758921000565}, {\"true\": 3.3425925925925966, \"pred\": 3.097174622630835}, {\"true\": 2.1500000000000026, \"pred\": 3.655460282291665}, {\"true\": 3.5958333333333345, \"pred\": 5.546782120458721}, {\"true\": 9.162222222222224, \"pred\": 10.683633253481073}, {\"true\": 5.1177777777777775, \"pred\": 4.544007699400234}, {\"true\": 2.761111111111111, \"pred\": 3.766670725631339}, {\"true\": 2.966666666666668, \"pred\": 3.159768300284124}, {\"true\": 4.610000000000004, \"pred\": 5.475860134969567}, {\"true\": 5.258333333333333, \"pred\": 5.750626278150642}, {\"true\": 0.6638888888888901, \"pred\": 4.3439698830406455}, {\"true\": 5.029999999999999, \"pred\": 4.483742552333438}, {\"true\": 2.833333333333335, \"pred\": 4.11407218832461}, {\"true\": 4.079487179487182, \"pred\": 3.8074126683832574}, {\"true\": 2.66, \"pred\": 3.3073191042376426}, {\"true\": 5.351111111111112, \"pred\": 4.806480673043926}, {\"true\": 5.954901960784314, \"pred\": 5.772362829969989}, {\"true\": 8.172222222222224, \"pred\": 5.262785873171467}, {\"true\": 2.0535714285714284, \"pred\": 4.184840070657168}, {\"true\": 1.9888888888889007, \"pred\": 2.6918361712530205}, {\"true\": 4.423809523809523, \"pred\": 4.703301606815734}, {\"true\": 2.222222222222226, \"pred\": 2.1127618192445445}, {\"true\": 5.1625000000000005, \"pred\": 5.988313596050012}, {\"true\": 6.48541666666667, \"pred\": 5.885118974102354}, {\"true\": 6.121794871794874, \"pred\": 6.760146820478321}, {\"true\": 3.0979166666666678, \"pred\": 3.3956421801330325}, {\"true\": 6.4041666666666694, \"pred\": 5.226078935354174}, {\"true\": 4.158823529411766, \"pred\": 5.153444286098624}, {\"true\": 2.8666666666666676, \"pred\": 3.404232216859919}, {\"true\": 3.4583333333333344, \"pred\": 2.918492191362395}, {\"true\": 3.591666666666665, \"pred\": 5.899018145881269}, {\"true\": 3.319444444444445, \"pred\": 4.947052725236597}, {\"true\": 9.17857142857143, \"pred\": 7.017141600372527}, {\"true\": 4.397222222222223, \"pred\": 5.246884603676358}, {\"true\": 4.680952380952384, \"pred\": 5.113602877003003}, {\"true\": 4.387500000000001, \"pred\": 5.035463859485535}, {\"true\": 2.187500000000001, \"pred\": 3.3627735449497105}, {\"true\": 4.9512820512820515, \"pred\": 4.743942571898044}, {\"true\": 3.071794871794874, \"pred\": 3.3732909320371953}, {\"true\": 3.1236111111111122, \"pred\": 3.409925618825567}, {\"true\": 9.593333333333337, \"pred\": 7.042170440038807}, {\"true\": 1.2041666666666704, \"pred\": 2.1981220092995337}, {\"true\": 6.333333333333335, \"pred\": 6.895204513454249}, {\"true\": 5.063095238095241, \"pred\": 4.587541912705172}, {\"true\": 5.133333333333335, \"pred\": 5.097421485607544}, {\"true\": 4.738461538461541, \"pred\": 3.777075241917993}, {\"true\": 4.448717948717952, \"pred\": 5.032133067091968}, {\"true\": 16.11794871794872, \"pred\": 12.645285095582272}, {\"true\": 4.868518518518519, \"pred\": 4.843706839478856}, {\"true\": 8.893137254901962, \"pred\": 8.571504525291395}, {\"true\": 4.640277777777778, \"pred\": 5.505758401172936}, {\"true\": 6.345833333333334, \"pred\": 6.502675138664142}, {\"true\": 5.053703703703705, \"pred\": 4.30205517848005}, {\"true\": 6.61, \"pred\": 6.070451570406416}, {\"true\": 5.103030303030303, \"pred\": 4.578245985808851}, {\"true\": 1.404761904761905, \"pred\": 3.551158403983809}, {\"true\": 3.3083333333333345, \"pred\": 4.050344506241611}, {\"true\": 6.455555555555558, \"pred\": 5.8623095698274525}, {\"true\": 6.641666666666675, \"pred\": 2.298516208337011}, {\"true\": 4.730000000000001, \"pred\": 4.7647935078166315}, {\"true\": 7.967948717948719, \"pred\": 5.811715835174886}, {\"true\": 5.7022222222222245, \"pred\": 6.121323364109293}, {\"true\": 6.46818181818182, \"pred\": 4.927785514321374}, {\"true\": 2.306060606060608, \"pred\": 2.3691295864510327}, {\"true\": 2.3250000000000037, \"pred\": 3.6459312473789667}, {\"true\": 5.655952380952383, \"pred\": 5.763595563196106}, {\"true\": 4.140000000000001, \"pred\": 2.9022068262140412}, {\"true\": 9.784848484848487, \"pred\": 6.797950773371707}, {\"true\": 6.333333333333336, \"pred\": 5.724672857043577}, {\"true\": 4.044047619047619, \"pred\": 6.372168862645979}, {\"true\": 6.221111111111112, \"pred\": 4.66792037072416}, {\"true\": 3.458333333333335, \"pred\": 3.5989911858164025}, {\"true\": 2.378571428571429, \"pred\": 3.003879854790516}, {\"true\": 5.235555555555556, \"pred\": 4.05993697757856}, {\"true\": 3.7499999999999987, \"pred\": 5.367444592381918}, {\"true\": 4.779761904761907, \"pred\": 4.550898476344124}, {\"true\": 7.400000000000004, \"pred\": 3.906383984188914}, {\"true\": 5.652564102564106, \"pred\": 4.907236331696091}, {\"true\": 6.014285714285714, \"pred\": 5.611146438765867}, {\"true\": 9.76794871794872, \"pred\": 5.4412479071541995}, {\"true\": 1.835714285714291, \"pred\": 3.0986699427528945}, {\"true\": 6.756410256410257, \"pred\": 6.199481878268262}, {\"true\": 9.72888888888889, \"pred\": 9.479976284764097}, {\"true\": 3.888888888888888, \"pred\": 3.6489022376570195}, {\"true\": 2.058333333333339, \"pred\": 4.699449428254124}, {\"true\": 3.118750000000001, \"pred\": 3.6425721579745582}, {\"true\": 4.308333333333339, \"pred\": 4.395990624357805}, {\"true\": 3.151388888888889, \"pred\": 4.438817815977997}, {\"true\": 5.5269230769230795, \"pred\": 5.740723120929559}, {\"true\": 7.817857142857143, \"pred\": 6.676454401875566}, {\"true\": 3.9766666666666675, \"pred\": 3.8810468566013467}, {\"true\": 3.552713678800501e-14, \"pred\": 0.9012442182930501}, {\"true\": 2.1291666666666704, \"pred\": 4.7293356375685365}, {\"true\": 0.8722222222222281, \"pred\": 3.3052301399541544}, {\"true\": 7.546428571428573, \"pred\": 8.362859048073156}, {\"true\": 3.6416666666666724, \"pred\": 3.757611334444716}, {\"true\": 4.1708333333333405, \"pred\": 4.459217330629929}, {\"true\": 2.111904761904767, \"pred\": 2.4834314252380527}, {\"true\": 8.256666666666666, \"pred\": 6.2471823463818135}, {\"true\": 9.712121212121213, \"pred\": 6.338441598316986}, {\"true\": 3.650000000000008, \"pred\": 3.388874613654809}, {\"true\": 4.661666666666669, \"pred\": 5.55536064577937}, {\"true\": 0.7566666666666702, \"pred\": 3.7202233669482636}, {\"true\": 8.322222222222228, \"pred\": 6.977975718248055}, {\"true\": 2.5976190476190504, \"pred\": 3.9568786164268195}, {\"true\": 2.7166666666666663, \"pred\": 3.6961184293148177}, {\"true\": 3.3888888888888897, \"pred\": 4.204120198654893}, {\"true\": 4.325000000000001, \"pred\": 4.781769739014713}, {\"true\": 6.742592592592595, \"pred\": 5.811796316123937}, {\"true\": 5.8583333333333325, \"pred\": 5.516892323297591}, {\"true\": 3.088235294117648, \"pred\": 3.0862400226481066}, {\"true\": 4.111538461538464, \"pred\": 4.669647960109529}, {\"true\": 6.698039215686274, \"pred\": 6.846252649945562}, {\"true\": 10.437777777777777, \"pred\": 7.108450312929805}, {\"true\": 10.192222222222222, \"pred\": 6.977548708097129}, {\"true\": 6.333333333333335, \"pred\": 6.272537139592824}, {\"true\": 1.724074074074074, \"pred\": 2.7739666924477393}, {\"true\": 6.430303030303031, \"pred\": 6.316511753456344}, {\"true\": 5.357142857142857, \"pred\": 5.778672790847454}, {\"true\": 3.1148148148148165, \"pred\": 3.0413873105539238}, {\"true\": 4.848717948717949, \"pred\": 4.926216485158541}, {\"true\": 6.081944444444446, \"pred\": 6.2940017199367055}, {\"true\": 4.6729166666666675, \"pred\": 3.753870892363485}, {\"true\": 5.036111111111114, \"pred\": 5.056361192883168}, {\"true\": 6.2121212121212155, \"pred\": 5.710223193875983}, {\"true\": 3.705555555555559, \"pred\": 2.4670032824901758}, {\"true\": 3.634848484848486, \"pred\": 3.6350474690362646}, {\"true\": 6.626388888888891, \"pred\": 5.35797388485725}, {\"true\": 2.0600000000000014, \"pred\": 3.651193741990653}, {\"true\": 7.756060606060609, \"pred\": 6.345229354027928}, {\"true\": 4.632291666666667, \"pred\": 5.002616100070903}, {\"true\": 8.150000000000007, \"pred\": 4.305790119165782}, {\"true\": 2.4348484848484864, \"pred\": 2.817112720634161}, {\"true\": 5.3288888888888915, \"pred\": 5.238149647208709}, {\"true\": 7.020238095238098, \"pred\": 6.392713728746733}, {\"true\": 4.401282051282052, \"pred\": 4.5676121568331975}, {\"true\": 4.426666666666668, \"pred\": 4.796105709441608}, {\"true\": 5.8363636363636395, \"pred\": 4.856418997260305}, {\"true\": 5.623333333333333, \"pred\": 5.87019117219694}, {\"true\": 5.864583333333336, \"pred\": 5.516582209557247}, {\"true\": 4.3392156862745095, \"pred\": 4.245594328778171}, {\"true\": 4.855952380952383, \"pred\": 3.9895862979278967}, {\"true\": 6.390000000000001, \"pred\": 6.180347028523313}, {\"true\": 1.7000000000000042, \"pred\": 2.7622781595011285}, {\"true\": 8.475000000000001, \"pred\": 7.43722534433798}, {\"true\": 3.198611111111114, \"pred\": 3.8423157666466987}, {\"true\": 3.2151515151515153, \"pred\": 3.617763246556658}, {\"true\": 4.842708333333334, \"pred\": 5.015027970387926}, {\"true\": 3.6000000000000094, \"pred\": 3.071105259383789}, {\"true\": 1.5777777777777797, \"pred\": 2.1145064393993436}, {\"true\": 4.625641025641025, \"pred\": 4.46980568260567}, {\"true\": 5.491666666666671, \"pred\": 5.137156566610586}, {\"true\": 6.618181818181822, \"pred\": 5.712980188548182}, {\"true\": 1.7750000000000061, \"pred\": 3.4999237953060303}, {\"true\": 6.389743589743592, \"pred\": 5.462186265083385}, {\"true\": 2.7483333333333366, \"pred\": 2.6515593929763837}, {\"true\": 4.417948717948719, \"pred\": 4.312869270728731}, {\"true\": 9.096153846153847, \"pred\": 8.1042709186087}, {\"true\": 2.1083333333333356, \"pred\": 2.670009639064452}, {\"true\": 3.576190476190477, \"pred\": 4.505536487105436}, {\"true\": 4.426666666666668, \"pred\": 4.833351001815691}, {\"true\": 7.2375, \"pred\": 5.446652208423941}, {\"true\": 4.483333333333335, \"pred\": 6.5984634566609905}, {\"true\": 1.6233333333333397, \"pred\": 2.5035901506162443}, {\"true\": 7.213636363636366, \"pred\": 6.795147743322863}, {\"true\": 5.301851851851853, \"pred\": 4.46836719013688}, {\"true\": 9.210416666666672, \"pred\": 8.96586993586496}, {\"true\": 3.693589743589747, \"pred\": 4.161234991352725}, {\"true\": 7.477777777777778, \"pred\": 4.5038527086631435}, {\"true\": 3.705555555555559, \"pred\": 2.5073511904280115}, {\"true\": 7.18148148148148, \"pred\": 4.530755413625888}, {\"true\": 4.413157894736844, \"pred\": 5.08997228660243}, {\"true\": 5.497222222222224, \"pred\": 5.158210425412212}, {\"true\": 5.357575757575759, \"pred\": 3.4799385344562657}, {\"true\": 3.0777777777777824, \"pred\": 2.2102502413593417}, {\"true\": 3.918888888888888, \"pred\": 4.4551984590296225}, {\"true\": 4.920000000000001, \"pred\": 4.687623437021751}, {\"true\": 9.63846153846154, \"pred\": 4.815478019336098}, {\"true\": 3.318055555555558, \"pred\": 3.645786336658429}, {\"true\": 7.623809523809524, \"pred\": 5.197544104927523}, {\"true\": 5.186904761904763, \"pred\": 5.842394115907814}, {\"true\": 3.5633333333333397, \"pred\": 3.4742823284410465}, {\"true\": 3.153030303030306, \"pred\": 5.70641639374962}, {\"true\": 2.8333333333333353, \"pred\": 4.228336692030578}, {\"true\": 7.339583333333335, \"pred\": 6.311492047146114}, {\"true\": 6.8190476190476215, \"pred\": 6.058202379089912}, {\"true\": 5.676666666666668, \"pred\": 4.719956668093197}, {\"true\": 5.798958333333334, \"pred\": 5.870088824961274}, {\"true\": 1.1000000000000059, \"pred\": 1.7730523517615078}, {\"true\": 4.591666666666668, \"pred\": 6.10977997457503}, {\"true\": 2.9402777777777795, \"pred\": 4.020206567971201}, {\"true\": 7.1512820512820525, \"pred\": 6.366201526877239}, {\"true\": 2.3600000000000065, \"pred\": 2.049973702355142}, {\"true\": 4.064285714285713, \"pred\": 4.472881199904993}, {\"true\": 4.102380952380953, \"pred\": 3.696032398621012}, {\"true\": 5.7705882352941185, \"pred\": 5.055046717839587}, {\"true\": 5.36388888888889, \"pred\": 4.770364746502264}, {\"true\": 4.821111111111112, \"pred\": 4.7685088313572725}, {\"true\": 3.772222222222224, \"pred\": 3.683007019982042}, {\"true\": 3.3888888888888897, \"pred\": 5.684182220589882}, {\"true\": 4.505555555555558, \"pred\": 5.918296508472029}, {\"true\": 5.067777777777778, \"pred\": 4.997900442471085}, {\"true\": 5.950980392156863, \"pred\": 5.659419046560507}, {\"true\": 3.194444444444447, \"pred\": 4.7204259559063715}, {\"true\": 2.3000000000000043, \"pred\": 4.679799565188176}, {\"true\": 3.425000000000003, \"pred\": 2.8532176188422893}, {\"true\": 3.804761904761906, \"pred\": 3.7136197816990504}, {\"true\": 5.1303030303030335, \"pred\": 5.302660196444526}, {\"true\": 5.197222222222224, \"pred\": 5.795171242261381}, {\"true\": 5.830952380952381, \"pred\": 5.965113086064962}, {\"true\": 9.712121212121213, \"pred\": 8.659083496807051}, {\"true\": 4.313636363636365, \"pred\": 4.102710102483945}, {\"true\": 7.361538461538464, \"pred\": 5.730537460896463}, {\"true\": 12.353703703703708, \"pred\": 9.146851313879154}, {\"true\": 3.3930555555555575, \"pred\": 3.7471893447653035}, {\"true\": 6.723611111111111, \"pred\": 5.728059883900908}, {\"true\": 4.523611111111112, \"pred\": 4.791502136725984}, {\"true\": 1.4166666666666694, \"pred\": 3.4790940679939295}, {\"true\": 0.13809523809524063, \"pred\": 2.4778680710999597}, {\"true\": 2.99, \"pred\": 3.720426386985379}, {\"true\": 2.6562500000000044, \"pred\": 2.433754918286139}, {\"true\": 2.825000000000007, \"pred\": 3.2979413994045044}, {\"true\": 5.4378787878787875, \"pred\": 4.375470143218484}, {\"true\": 3.098809523809526, \"pred\": 3.7909531992984755}, {\"true\": 4.429166666666667, \"pred\": 5.189540521450965}, {\"true\": 11.280952380952382, \"pred\": 8.7843934671076}, {\"true\": 3.1999999999999997, \"pred\": 4.107435018388506}, {\"true\": 7.634615384615383, \"pred\": 6.865996846935673}, {\"true\": 1.7583333333333346, \"pred\": 2.633797453738903}, {\"true\": 7.812962962962964, \"pred\": 6.506861279241752}, {\"true\": 3.3000000000000016, \"pred\": 3.3604846321120565}, {\"true\": 0.861111111111117, \"pred\": 1.738581712193684}, {\"true\": 3.284444444444445, \"pred\": 3.768852448240825}, {\"true\": 5.48888888888889, \"pred\": 5.658806356157638}, {\"true\": 6.895238095238097, \"pred\": 6.648630180019235}, {\"true\": 7.423076923076923, \"pred\": 5.947144226952506}, {\"true\": 8.511111111111115, \"pred\": 4.521877384874874}, {\"true\": 6.1423076923076945, \"pred\": 6.277085737735521}, {\"true\": 3.450000000000002, \"pred\": 3.8569938699731314}, {\"true\": 5.170833333333333, \"pred\": 5.0424141227077195}, {\"true\": 3.0547619047619095, \"pred\": 2.8288510063289736}, {\"true\": 0.4888888888888947, \"pred\": 2.2928995432816226}, {\"true\": 2.6238095238095247, \"pred\": 4.356130746834256}, {\"true\": 4.756060606060606, \"pred\": 5.156933832541585}, {\"true\": 4.490000000000002, \"pred\": 3.340628562976574}, {\"true\": 4.222916666666672, \"pred\": 4.294887234219544}, {\"true\": 2.8777777777777787, \"pred\": 3.4797323307704118}, {\"true\": 5.589215686274511, \"pred\": 4.927034518635735}, {\"true\": 6.928205128205129, \"pred\": 6.709126988701041}, {\"true\": 2.958333333333337, \"pred\": 3.0583142821691798}, {\"true\": 5.871296296296297, \"pred\": 6.040161816280717}, {\"true\": 7.5458333333333325, \"pred\": 7.172035018931786}, {\"true\": 2.7439393939393955, \"pred\": 3.0373289687104412}, {\"true\": 5.304545454545456, \"pred\": 5.404863693187077}, {\"true\": 4.325000000000001, \"pred\": 5.4370398938462134}, {\"true\": 12.829487179487181, \"pred\": 12.567178651931096}, {\"true\": 7.812962962962964, \"pred\": 6.992980607042752}, {\"true\": 5.608974358974359, \"pred\": 4.1900354555453285}, {\"true\": 3.904545454545456, \"pred\": 3.6332081233144153}, {\"true\": 3.6722222222222225, \"pred\": 3.9190859411889223}, {\"true\": 2.6222222222222245, \"pred\": 2.4825804316918227}, {\"true\": 2.1129629629629667, \"pred\": 3.995724685715756}, {\"true\": 0.861111111111117, \"pred\": 1.525641339128998}, {\"true\": 6.892857142857143, \"pred\": 6.098060044300085}, {\"true\": 2.4944444444444565, \"pred\": 2.765344896776905}, {\"true\": 2.4119047619047627, \"pred\": 2.1487951716520257}, {\"true\": 4.154166666666668, \"pred\": 3.849758782554606}, {\"true\": 5.097222222222222, \"pred\": 7.244416823188888}, {\"true\": 4.6972222222222255, \"pred\": 4.446096789921249}, {\"true\": 2.761111111111111, \"pred\": 3.5449768125367807}, {\"true\": 4.551515151515153, \"pred\": 4.480610017491788}, {\"true\": 2.525000000000003, \"pred\": 3.1906645998997774}, {\"true\": 4.216666666666666, \"pred\": 3.852372944238385}, {\"true\": 6.065476190476192, \"pred\": 5.494056474073917}, {\"true\": 5.502777777777779, \"pred\": 6.287095303342035}, {\"true\": 5.1192307692307715, \"pred\": 5.170220090624778}, {\"true\": 7.092222222222223, \"pred\": 6.727401680145938}, {\"true\": 4.383333333333337, \"pred\": 2.2235032788346913}], \"data-e53f43667b4e74c9774fcfd475bf1d46\": [{\"x\": 0.0, \"y\": 0.0}, {\"x\": 1.6666666666666667, \"y\": 1.6666666666666667}, {\"x\": 3.3333333333333335, \"y\": 3.3333333333333335}, {\"x\": 5.0, \"y\": 5.0}, {\"x\": 6.666666666666667, \"y\": 6.666666666666667}, {\"x\": 8.333333333333334, \"y\": 8.333333333333334}, {\"x\": 10.0, \"y\": 10.0}, {\"x\": 11.666666666666668, \"y\": 11.666666666666668}, {\"x\": 13.333333333333334, \"y\": 13.333333333333334}, {\"x\": 15.0, \"y\": 15.0}]}}, {\"mode\": \"vega-lite\"});\n",
       "</script>"
      ],
      "text/plain": [
       "alt.LayerChart(...)"
      ]
     },
     "metadata": {},
     "output_type": "display_data"
    }
   ],
   "source": [
    "predVStrue_chart = alt.Chart(data_chart).mark_circle(opacity=0.4).encode(\n",
    "    x=alt.X(\"true\", scale=alt.Scale(domain=[0, 20], clamp=True)), y=\"pred\"\n",
    ") + alt.Chart(\n",
    "    pd.DataFrame({\"x\": np.linspace(0, 15, 10), \"y\": np.linspace(0, 15, 10)})\n",
    ").mark_line(\n",
    "    color=\"black\"\n",
    ").encode(\n",
    "    x=\"x\", y=\"y\"\n",
    ")\n",
    "display(predVStrue_chart)"
   ]
  },
  {
   "cell_type": "markdown",
   "id": "4c8d850c-1d86-441d-9829-37f0e70fa0cc",
   "metadata": {},
   "source": [
    "### Feature importance"
   ]
  },
  {
   "cell_type": "code",
   "execution_count": 58,
   "id": "65bd09f8-1e8f-4505-a5bc-2a2857e07099",
   "metadata": {
    "execution": {
     "iopub.execute_input": "2021-06-28T11:24:03.706925Z",
     "iopub.status.busy": "2021-06-28T11:24:03.706637Z",
     "iopub.status.idle": "2021-06-28T11:24:03.712222Z",
     "shell.execute_reply": "2021-06-28T11:24:03.711650Z",
     "shell.execute_reply.started": "2021-06-28T11:24:03.706899Z"
    }
   },
   "outputs": [],
   "source": [
    "import matplotlib.pyplot as plt"
   ]
  },
  {
   "cell_type": "code",
   "execution_count": 100,
   "id": "59cf4b1b-ab3e-4c28-81e3-cb72943a5409",
   "metadata": {
    "execution": {
     "iopub.execute_input": "2021-06-28T12:04:42.679378Z",
     "iopub.status.busy": "2021-06-28T12:04:42.679089Z",
     "iopub.status.idle": "2021-06-28T12:04:42.861855Z",
     "shell.execute_reply": "2021-06-28T12:04:42.861261Z",
     "shell.execute_reply.started": "2021-06-28T12:04:42.679351Z"
    },
    "tags": []
   },
   "outputs": [
    {
     "name": "stderr",
     "output_type": "stream",
     "text": [
      "/home/service/miniconda3/envs/py39v7/lib/python3.8/site-packages/ipykernel/ipkernel.py:283: DeprecationWarning: `should_run_async` will not call `transform_cell` automatically in the future. Please pass the result to `transformed_cell` argument and any exception that happen during thetransform in `preprocessing_exc_tuple` in IPython 7.17 and above.\n",
      "  and should_run_async(code)\n"
     ]
    },
    {
     "data": {
      "image/png": "[encoded data removed]",
      "text/plain": [
       "<Figure size 468x324 with 1 Axes>"
      ]
     },
     "metadata": {
      "needs_background": "light"
     },
     "output_type": "display_data"
    },
    {
     "data": {
      "text/plain": [
       "<Figure size 360x360 with 0 Axes>"
      ]
     },
     "metadata": {},
     "output_type": "display_data"
    }
   ],
   "source": [
    "col = feature_columns\n",
    "# modelname.feature_importance_\n",
    "y = clf.feature_importances_\n",
    "# plot\n",
    "fig, ax = plt.subplots()\n",
    "width = 0.4  # the width of the bars\n",
    "ind = np.arange(len(y))  # the x locations for the groups\n",
    "ax.barh(ind, y, width, color=\"green\")\n",
    "ax.set_yticks(ind + width / 10)\n",
    "ax.set_yticklabels(col, minor=False)\n",
    "plt.title(\"Feature importance in RandomForest Classifier\")\n",
    "plt.xlabel(\"Relative importance\")\n",
    "plt.ylabel(\"feature\")\n",
    "plt.figure(figsize=(5, 5))\n",
    "fig.set_size_inches(6.5, 4.5, forward=True)"
   ]
  },
  {
   "cell_type": "code",
   "execution_count": null,
   "id": "a4b17c6a-7334-446b-b67c-a832b1e8ac3a",
   "metadata": {},
   "outputs": [],
   "source": []
  },
  {
   "cell_type": "markdown",
   "id": "fd83cfda-2a06-48eb-9973-e40ea2df2a5a",
   "metadata": {},
   "source": [
    "# Using extrated twy congest"
   ]
  },
  {
   "cell_type": "code",
   "execution_count": 12,
   "id": "12f684bf-121c-4774-8fc0-b34f81aee5d2",
   "metadata": {
    "execution": {
     "iopub.execute_input": "2021-06-25T13:04:20.578133Z",
     "iopub.status.busy": "2021-06-25T13:04:20.577866Z",
     "iopub.status.idle": "2021-06-25T13:04:20.588554Z",
     "shell.execute_reply": "2021-06-25T13:04:20.587877Z",
     "shell.execute_reply.started": "2021-06-25T13:04:20.578105Z"
    },
    "tags": []
   },
   "outputs": [],
   "source": [
    "from pickle import load\n",
    "with open(\"../data/intermediate/twy_occ_dictionnary.pkl\", \"rb\") as f:\n",
    "    d_twy = load(f)"
   ]
  },
  {
   "cell_type": "code",
   "execution_count": 13,
   "id": "32859d31-b4a2-474a-a689-c85cbb74c970",
   "metadata": {
    "collapsed": true,
    "execution": {
     "iopub.execute_input": "2021-06-25T13:05:05.417923Z",
     "iopub.status.busy": "2021-06-25T13:05:05.417668Z",
     "iopub.status.idle": "2021-06-25T13:05:08.801717Z",
     "shell.execute_reply": "2021-06-25T13:05:08.800987Z",
     "shell.execute_reply.started": "2021-06-25T13:05:05.417899Z"
    },
    "jupyter": {
     "outputs_hidden": true
    },
    "tags": []
   },
   "outputs": [
    {
     "name": "stderr",
     "output_type": "stream",
     "text": [
      "/home/service/miniconda3/envs/py39v7/lib/python3.8/site-packages/ipykernel/ipkernel.py:283: DeprecationWarning: `should_run_async` will not call `transform_cell` automatically in the future. Please pass the result to `transformed_cell` argument and any exception that happen during thetransform in `preprocessing_exc_tuple` in IPython 7.17 and above.\n",
      "  and should_run_async(code)\n"
     ]
    },
    {
     "data": {
      "text/html": [
       "<div>\n",
       "<style scoped>\n",
       "    .dataframe tbody tr th:only-of-type {\n",
       "        vertical-align: middle;\n",
       "    }\n",
       "\n",
       "    .dataframe tbody tr th {\n",
       "        vertical-align: top;\n",
       "    }\n",
       "\n",
       "    .dataframe thead th {\n",
       "        text-align: right;\n",
       "    }\n",
       "</style>\n",
       "<table border=\"1\" class=\"dataframe\">\n",
       "  <thead>\n",
       "    <tr style=\"text-align: right;\">\n",
       "      <th></th>\n",
       "      <th>flight_id</th>\n",
       "      <th>on_runway_time</th>\n",
       "      <th>taxi_holding_time</th>\n",
       "      <th>rwy_holding_time</th>\n",
       "      <th>total_holding_time</th>\n",
       "      <th>taxi_holding_time_minutes</th>\n",
       "      <th>first_movement</th>\n",
       "      <th>callsign</th>\n",
       "      <th>registration</th>\n",
       "      <th>typecode</th>\n",
       "      <th>...</th>\n",
       "      <th>D_occ</th>\n",
       "      <th>C_occ</th>\n",
       "      <th>N_occ</th>\n",
       "      <th>A_occ</th>\n",
       "      <th>M_occ</th>\n",
       "      <th>Y_occ</th>\n",
       "      <th>R_occ</th>\n",
       "      <th>G_occ</th>\n",
       "      <th>Z_occ</th>\n",
       "      <th>P_occ</th>\n",
       "    </tr>\n",
       "  </thead>\n",
       "  <tbody>\n",
       "    <tr>\n",
       "      <th>0</th>\n",
       "      <td>GSW4942_15738</td>\n",
       "      <td>2019-10-01 04:00:28+00:00</td>\n",
       "      <td>0 days 00:01:23</td>\n",
       "      <td>None</td>\n",
       "      <td>0 days 00:01:23</td>\n",
       "      <td>1.383333</td>\n",
       "      <td>2019-10-01 03:59:06+00:00</td>\n",
       "      <td>GSW4942</td>\n",
       "      <td>HB-JOG</td>\n",
       "      <td>A319</td>\n",
       "      <td>...</td>\n",
       "      <td>0.0</td>\n",
       "      <td>0.0</td>\n",
       "      <td>0.0</td>\n",
       "      <td>0.0</td>\n",
       "      <td>0.0</td>\n",
       "      <td>0.0</td>\n",
       "      <td>0.0</td>\n",
       "      <td>0.0</td>\n",
       "      <td>0.0</td>\n",
       "      <td>0.0</td>\n",
       "    </tr>\n",
       "    <tr>\n",
       "      <th>1</th>\n",
       "      <td>EDW200_5718</td>\n",
       "      <td>2019-10-01 04:10:37+00:00</td>\n",
       "      <td>0 days 00:01:18</td>\n",
       "      <td>None</td>\n",
       "      <td>0 days 00:04:56</td>\n",
       "      <td>1.300000</td>\n",
       "      <td>2019-10-01 04:03:36+00:00</td>\n",
       "      <td>EDW200</td>\n",
       "      <td>HB-IHZ</td>\n",
       "      <td>A320</td>\n",
       "      <td>...</td>\n",
       "      <td>0.0</td>\n",
       "      <td>0.0</td>\n",
       "      <td>0.0</td>\n",
       "      <td>0.0</td>\n",
       "      <td>0.0</td>\n",
       "      <td>0.0</td>\n",
       "      <td>0.0</td>\n",
       "      <td>0.0</td>\n",
       "      <td>0.0</td>\n",
       "      <td>0.0</td>\n",
       "    </tr>\n",
       "    <tr>\n",
       "      <th>2</th>\n",
       "      <td>SWR177_15809</td>\n",
       "      <td>2019-10-01 04:05:11+00:00</td>\n",
       "      <td>0 days 00:00:00</td>\n",
       "      <td>None</td>\n",
       "      <td>0 days 00:00:00</td>\n",
       "      <td>0.000000</td>\n",
       "      <td>2019-10-01 04:05:48+00:00</td>\n",
       "      <td>SWR177</td>\n",
       "      <td>HB-JNI</td>\n",
       "      <td>B77W</td>\n",
       "      <td>...</td>\n",
       "      <td>0.0</td>\n",
       "      <td>0.0</td>\n",
       "      <td>0.0</td>\n",
       "      <td>1.0</td>\n",
       "      <td>0.0</td>\n",
       "      <td>0.0</td>\n",
       "      <td>0.0</td>\n",
       "      <td>0.0</td>\n",
       "      <td>0.0</td>\n",
       "      <td>0.0</td>\n",
       "    </tr>\n",
       "    <tr>\n",
       "      <th>3</th>\n",
       "      <td>SWR139_15706</td>\n",
       "      <td>2019-10-01 04:07:25+00:00</td>\n",
       "      <td>0 days 00:00:00</td>\n",
       "      <td>None</td>\n",
       "      <td>0 days 00:00:00</td>\n",
       "      <td>0.000000</td>\n",
       "      <td>2019-10-01 04:07:33+00:00</td>\n",
       "      <td>SWR139</td>\n",
       "      <td>HB-JNG</td>\n",
       "      <td>B77W</td>\n",
       "      <td>...</td>\n",
       "      <td>0.0</td>\n",
       "      <td>0.0</td>\n",
       "      <td>0.0</td>\n",
       "      <td>1.0</td>\n",
       "      <td>0.0</td>\n",
       "      <td>0.0</td>\n",
       "      <td>0.0</td>\n",
       "      <td>0.0</td>\n",
       "      <td>0.0</td>\n",
       "      <td>0.0</td>\n",
       "    </tr>\n",
       "    <tr>\n",
       "      <th>4</th>\n",
       "      <td>SWR296_13638</td>\n",
       "      <td>2019-10-01 04:09:53+00:00</td>\n",
       "      <td>0 days 00:00:00</td>\n",
       "      <td>None</td>\n",
       "      <td>0 days 00:00:00</td>\n",
       "      <td>0.000000</td>\n",
       "      <td>2019-10-01 04:10:25+00:00</td>\n",
       "      <td>SWR296</td>\n",
       "      <td>HB-JHM</td>\n",
       "      <td>A333</td>\n",
       "      <td>...</td>\n",
       "      <td>0.0</td>\n",
       "      <td>0.0</td>\n",
       "      <td>0.0</td>\n",
       "      <td>0.0</td>\n",
       "      <td>0.0</td>\n",
       "      <td>0.0</td>\n",
       "      <td>0.0</td>\n",
       "      <td>0.0</td>\n",
       "      <td>0.0</td>\n",
       "      <td>0.0</td>\n",
       "    </tr>\n",
       "    <tr>\n",
       "      <th>...</th>\n",
       "      <td>...</td>\n",
       "      <td>...</td>\n",
       "      <td>...</td>\n",
       "      <td>...</td>\n",
       "      <td>...</td>\n",
       "      <td>...</td>\n",
       "      <td>...</td>\n",
       "      <td>...</td>\n",
       "      <td>...</td>\n",
       "      <td>...</td>\n",
       "      <td>...</td>\n",
       "      <td>...</td>\n",
       "      <td>...</td>\n",
       "      <td>...</td>\n",
       "      <td>...</td>\n",
       "      <td>...</td>\n",
       "      <td>...</td>\n",
       "      <td>...</td>\n",
       "      <td>...</td>\n",
       "      <td>...</td>\n",
       "      <td>...</td>\n",
       "    </tr>\n",
       "    <tr>\n",
       "      <th>35537</th>\n",
       "      <td>SWR176_15653</td>\n",
       "      <td>2019-11-30 22:02:47+00:00</td>\n",
       "      <td>0 days 00:02:16</td>\n",
       "      <td>None</td>\n",
       "      <td>0 days 00:15:41</td>\n",
       "      <td>2.266667</td>\n",
       "      <td>2019-11-30 21:44:51+00:00</td>\n",
       "      <td>SWR176</td>\n",
       "      <td>HB-JNJ</td>\n",
       "      <td>B77W</td>\n",
       "      <td>...</td>\n",
       "      <td>0.0</td>\n",
       "      <td>0.0</td>\n",
       "      <td>0.0</td>\n",
       "      <td>0.0</td>\n",
       "      <td>0.0</td>\n",
       "      <td>0.0</td>\n",
       "      <td>0.0</td>\n",
       "      <td>0.0</td>\n",
       "      <td>0.0</td>\n",
       "      <td>0.0</td>\n",
       "    </tr>\n",
       "    <tr>\n",
       "      <th>35538</th>\n",
       "      <td>SWR288_13280</td>\n",
       "      <td>2019-11-30 21:49:46+00:00</td>\n",
       "      <td>0 days 00:02:03</td>\n",
       "      <td>None</td>\n",
       "      <td>0 days 00:02:03</td>\n",
       "      <td>2.050000</td>\n",
       "      <td>2019-11-30 21:46:26+00:00</td>\n",
       "      <td>SWR288</td>\n",
       "      <td>HB-JHI</td>\n",
       "      <td>A333</td>\n",
       "      <td>...</td>\n",
       "      <td>0.0</td>\n",
       "      <td>0.0</td>\n",
       "      <td>0.0</td>\n",
       "      <td>0.0</td>\n",
       "      <td>0.0</td>\n",
       "      <td>0.0</td>\n",
       "      <td>0.0</td>\n",
       "      <td>0.0</td>\n",
       "      <td>0.0</td>\n",
       "      <td>0.0</td>\n",
       "    </tr>\n",
       "    <tr>\n",
       "      <th>35539</th>\n",
       "      <td>THY8HD_18663</td>\n",
       "      <td>2019-11-30 21:49:30+00:00</td>\n",
       "      <td>0 days 00:00:00</td>\n",
       "      <td>None</td>\n",
       "      <td>0 days 00:00:00</td>\n",
       "      <td>0.000000</td>\n",
       "      <td>2019-11-30 21:49:52+00:00</td>\n",
       "      <td>THY8HD</td>\n",
       "      <td>TC-JTN</td>\n",
       "      <td>A321</td>\n",
       "      <td>...</td>\n",
       "      <td>0.0</td>\n",
       "      <td>0.0</td>\n",
       "      <td>0.0</td>\n",
       "      <td>0.0</td>\n",
       "      <td>0.0</td>\n",
       "      <td>0.0</td>\n",
       "      <td>0.0</td>\n",
       "      <td>0.0</td>\n",
       "      <td>0.0</td>\n",
       "      <td>0.0</td>\n",
       "    </tr>\n",
       "    <tr>\n",
       "      <th>35540</th>\n",
       "      <td>SWR92_15689</td>\n",
       "      <td>2019-11-30 22:04:18+00:00</td>\n",
       "      <td>0 days 00:03:29</td>\n",
       "      <td>None</td>\n",
       "      <td>0 days 00:09:35</td>\n",
       "      <td>3.483333</td>\n",
       "      <td>2019-11-30 21:53:56+00:00</td>\n",
       "      <td>SWR92</td>\n",
       "      <td>None</td>\n",
       "      <td>None</td>\n",
       "      <td>...</td>\n",
       "      <td>0.0</td>\n",
       "      <td>0.0</td>\n",
       "      <td>0.0</td>\n",
       "      <td>0.0</td>\n",
       "      <td>0.0</td>\n",
       "      <td>0.0</td>\n",
       "      <td>0.0</td>\n",
       "      <td>0.0</td>\n",
       "      <td>0.0</td>\n",
       "      <td>0.0</td>\n",
       "    </tr>\n",
       "    <tr>\n",
       "      <th>35541</th>\n",
       "      <td>SWR138_15564</td>\n",
       "      <td>2019-11-30 22:12:48+00:00</td>\n",
       "      <td>0 days 00:00:00</td>\n",
       "      <td>None</td>\n",
       "      <td>0 days 00:00:00</td>\n",
       "      <td>0.000000</td>\n",
       "      <td>2019-11-30 22:11:16+00:00</td>\n",
       "      <td>SWR138</td>\n",
       "      <td>HB-JNH</td>\n",
       "      <td>B77W</td>\n",
       "      <td>...</td>\n",
       "      <td>0.0</td>\n",
       "      <td>0.0</td>\n",
       "      <td>0.0</td>\n",
       "      <td>0.0</td>\n",
       "      <td>0.0</td>\n",
       "      <td>0.0</td>\n",
       "      <td>0.0</td>\n",
       "      <td>0.0</td>\n",
       "      <td>0.0</td>\n",
       "      <td>0.0</td>\n",
       "    </tr>\n",
       "  </tbody>\n",
       "</table>\n",
       "<p>35542 rows × 78 columns</p>\n",
       "</div>"
      ],
      "text/plain": [
       "           flight_id            on_runway_time taxi_holding_time  \\\n",
       "0      GSW4942_15738 2019-10-01 04:00:28+00:00   0 days 00:01:23   \n",
       "1        EDW200_5718 2019-10-01 04:10:37+00:00   0 days 00:01:18   \n",
       "2       SWR177_15809 2019-10-01 04:05:11+00:00   0 days 00:00:00   \n",
       "3       SWR139_15706 2019-10-01 04:07:25+00:00   0 days 00:00:00   \n",
       "4       SWR296_13638 2019-10-01 04:09:53+00:00   0 days 00:00:00   \n",
       "...              ...                       ...               ...   \n",
       "35537   SWR176_15653 2019-11-30 22:02:47+00:00   0 days 00:02:16   \n",
       "35538   SWR288_13280 2019-11-30 21:49:46+00:00   0 days 00:02:03   \n",
       "35539   THY8HD_18663 2019-11-30 21:49:30+00:00   0 days 00:00:00   \n",
       "35540    SWR92_15689 2019-11-30 22:04:18+00:00   0 days 00:03:29   \n",
       "35541   SWR138_15564 2019-11-30 22:12:48+00:00   0 days 00:00:00   \n",
       "\n",
       "      rwy_holding_time total_holding_time  taxi_holding_time_minutes  \\\n",
       "0                 None    0 days 00:01:23                   1.383333   \n",
       "1                 None    0 days 00:04:56                   1.300000   \n",
       "2                 None    0 days 00:00:00                   0.000000   \n",
       "3                 None    0 days 00:00:00                   0.000000   \n",
       "4                 None    0 days 00:00:00                   0.000000   \n",
       "...                ...                ...                        ...   \n",
       "35537             None    0 days 00:15:41                   2.266667   \n",
       "35538             None    0 days 00:02:03                   2.050000   \n",
       "35539             None    0 days 00:00:00                   0.000000   \n",
       "35540             None    0 days 00:09:35                   3.483333   \n",
       "35541             None    0 days 00:00:00                   0.000000   \n",
       "\n",
       "                 first_movement callsign registration typecode  ... D_occ  \\\n",
       "0     2019-10-01 03:59:06+00:00  GSW4942       HB-JOG     A319  ...   0.0   \n",
       "1     2019-10-01 04:03:36+00:00   EDW200       HB-IHZ     A320  ...   0.0   \n",
       "2     2019-10-01 04:05:48+00:00   SWR177       HB-JNI     B77W  ...   0.0   \n",
       "3     2019-10-01 04:07:33+00:00   SWR139       HB-JNG     B77W  ...   0.0   \n",
       "4     2019-10-01 04:10:25+00:00   SWR296       HB-JHM     A333  ...   0.0   \n",
       "...                         ...      ...          ...      ...  ...   ...   \n",
       "35537 2019-11-30 21:44:51+00:00   SWR176       HB-JNJ     B77W  ...   0.0   \n",
       "35538 2019-11-30 21:46:26+00:00   SWR288       HB-JHI     A333  ...   0.0   \n",
       "35539 2019-11-30 21:49:52+00:00   THY8HD       TC-JTN     A321  ...   0.0   \n",
       "35540 2019-11-30 21:53:56+00:00    SWR92         None     None  ...   0.0   \n",
       "35541 2019-11-30 22:11:16+00:00   SWR138       HB-JNH     B77W  ...   0.0   \n",
       "\n",
       "      C_occ N_occ A_occ M_occ  Y_occ R_occ G_occ Z_occ P_occ  \n",
       "0       0.0   0.0   0.0   0.0    0.0   0.0   0.0   0.0   0.0  \n",
       "1       0.0   0.0   0.0   0.0    0.0   0.0   0.0   0.0   0.0  \n",
       "2       0.0   0.0   1.0   0.0    0.0   0.0   0.0   0.0   0.0  \n",
       "3       0.0   0.0   1.0   0.0    0.0   0.0   0.0   0.0   0.0  \n",
       "4       0.0   0.0   0.0   0.0    0.0   0.0   0.0   0.0   0.0  \n",
       "...     ...   ...   ...   ...    ...   ...   ...   ...   ...  \n",
       "35537   0.0   0.0   0.0   0.0    0.0   0.0   0.0   0.0   0.0  \n",
       "35538   0.0   0.0   0.0   0.0    0.0   0.0   0.0   0.0   0.0  \n",
       "35539   0.0   0.0   0.0   0.0    0.0   0.0   0.0   0.0   0.0  \n",
       "35540   0.0   0.0   0.0   0.0    0.0   0.0   0.0   0.0   0.0  \n",
       "35541   0.0   0.0   0.0   0.0    0.0   0.0   0.0   0.0   0.0  \n",
       "\n",
       "[35542 rows x 78 columns]"
      ]
     },
     "execution_count": 13,
     "metadata": {},
     "output_type": "execute_result"
    }
   ],
   "source": [
    "dep_arr_df_twy = assign_twy_occ(dep_arr_df, d_twy)"
   ]
  },
  {
   "cell_type": "code",
   "execution_count": 20,
   "id": "d4ec82ee-63de-498f-92e5-70b691a027d5",
   "metadata": {
    "execution": {
     "iopub.execute_input": "2021-06-25T13:08:02.922513Z",
     "iopub.status.busy": "2021-06-25T13:08:02.922231Z",
     "iopub.status.idle": "2021-06-25T13:08:02.931495Z",
     "shell.execute_reply": "2021-06-25T13:08:02.930852Z",
     "shell.execute_reply.started": "2021-06-25T13:08:02.922490Z"
    }
   },
   "outputs": [],
   "source": [
    "twy_cols = [\n",
    "    \"H_occ\",\n",
    "    \"K_occ\",\n",
    "    \"B_occ\",\n",
    "    \"F_occ\",\n",
    "    \"L_occ\",\n",
    "    \"J_occ\",\n",
    "    \"E_occ\",\n",
    "    \"D_occ\",\n",
    "    \"C_occ\",\n",
    "    \"N_occ\",\n",
    "    \"A_occ\",\n",
    "    \"M_occ\",\n",
    "    \"Y_occ\",\n",
    "    \"R_occ\",\n",
    "    \"G_occ\",\n",
    "    \"Z_occ\",\n",
    "    \"P_occ\",\n",
    "]"
   ]
  },
  {
   "cell_type": "code",
   "execution_count": 27,
   "id": "988f3bd0-02bf-4637-9ed0-855ce71c5622",
   "metadata": {
    "execution": {
     "iopub.execute_input": "2021-06-25T13:19:32.873263Z",
     "iopub.status.busy": "2021-06-25T13:19:32.872952Z",
     "iopub.status.idle": "2021-06-25T13:19:35.133724Z",
     "shell.execute_reply": "2021-06-25T13:19:35.132783Z",
     "shell.execute_reply.started": "2021-06-25T13:19:32.873238Z"
    },
    "tags": []
   },
   "outputs": [
    {
     "name": "stderr",
     "output_type": "stream",
     "text": [
      "/home/service/miniconda3/envs/py39v7/lib/python3.8/site-packages/sklearn/ensemble/_base.py:183: DeprecationWarning: `np.int` is a deprecated alias for the builtin `int`. To silence this warning, use `int` by itself. Doing this will not modify any behavior and is safe. When replacing `np.int`, you may wish to use e.g. `np.int64` or `np.int32` to specify the precision. If you wish to review your current use, check the release note link for additional information.\n",
      "Deprecated in NumPy 1.20; for more details and guidance: https://numpy.org/devdocs/release/1.20.0-notes.html#deprecations\n",
      "  dtype=np.int)\n"
     ]
    },
    {
     "data": {
      "text/html": [
       "\n",
       "<div id=\"altair-viz-1bdf974a060342fb8de733540301b857\"></div>\n",
       "<script type=\"text/javascript\">\n",
       "  (function(spec, embedOpt){\n",
       "    let outputDiv = document.currentScript.previousElementSibling;\n",
       "    if (outputDiv.id !== \"altair-viz-1bdf974a060342fb8de733540301b857\") {\n",
       "      outputDiv = document.getElementById(\"altair-viz-1bdf974a060342fb8de733540301b857\");\n",
       "    }\n",
       "    const paths = {\n",
       "      \"vega\": \"https://cdn.jsdelivr.net/npm//vega@5?noext\",\n",
       "      \"vega-lib\": \"https://cdn.jsdelivr.net/npm//vega-lib?noext\",\n",
       "      \"vega-lite\": \"https://cdn.jsdelivr.net/npm//vega-lite@4.8.1?noext\",\n",
       "      \"vega-embed\": \"https://cdn.jsdelivr.net/npm//vega-embed@6?noext\",\n",
       "    };\n",
       "\n",
       "    function loadScript(lib) {\n",
       "      return new Promise(function(resolve, reject) {\n",
       "        var s = document.createElement('script');\n",
       "        s.src = paths[lib];\n",
       "        s.async = true;\n",
       "        s.onload = () => resolve(paths[lib]);\n",
       "        s.onerror = () => reject(`Error loading script: ${paths[lib]}`);\n",
       "        document.getElementsByTagName(\"head\")[0].appendChild(s);\n",
       "      });\n",
       "    }\n",
       "\n",
       "    function showError(err) {\n",
       "      outputDiv.innerHTML = `<div class=\"error\" style=\"color:red;\">${err}</div>`;\n",
       "      throw err;\n",
       "    }\n",
       "\n",
       "    function displayChart(vegaEmbed) {\n",
       "      vegaEmbed(outputDiv, spec, embedOpt)\n",
       "        .catch(err => showError(`Javascript Error: ${err.message}<br>This usually means there's a typo in your chart specification. See the javascript console for the full traceback.`));\n",
       "    }\n",
       "\n",
       "    if(typeof define === \"function\" && define.amd) {\n",
       "      requirejs.config({paths});\n",
       "      require([\"vega-embed\"], displayChart, err => showError(`Error loading script: ${err.message}`));\n",
       "    } else if (typeof vegaEmbed === \"function\") {\n",
       "      displayChart(vegaEmbed);\n",
       "    } else {\n",
       "      loadScript(\"vega\")\n",
       "        .then(() => loadScript(\"vega-lite\"))\n",
       "        .then(() => loadScript(\"vega-embed\"))\n",
       "        .catch(showError)\n",
       "        .then(() => displayChart(vegaEmbed));\n",
       "    }\n",
       "  })({\"config\": {\"view\": {\"continuousWidth\": 400, \"continuousHeight\": 300}}, \"layer\": [{\"data\": {\"name\": \"data-15b0e280861744b495f02255151b48ea\"}, \"mark\": {\"type\": \"circle\", \"opacity\": 0.5}, \"encoding\": {\"x\": {\"type\": \"quantitative\", \"field\": \"true\"}, \"y\": {\"type\": \"quantitative\", \"field\": \"pred\"}}}, {\"data\": {\"name\": \"data-e53f43667b4e74c9774fcfd475bf1d46\"}, \"mark\": {\"type\": \"line\", \"color\": \"black\"}, \"encoding\": {\"x\": {\"type\": \"quantitative\", \"field\": \"x\"}, \"y\": {\"type\": \"quantitative\", \"field\": \"y\"}}}], \"$schema\": \"https://vega.github.io/schema/vega-lite/v4.8.1.json\", \"datasets\": {\"data-15b0e280861744b495f02255151b48ea\": [{\"true\": 5.570000000000003, \"pred\": 4.088409560840616}, {\"true\": 5.338888888888889, \"pred\": 4.57316256740034}, {\"true\": 4.419791666666668, \"pred\": 4.77021245350704}, {\"true\": 5.431481481481486, \"pred\": 4.551837483042352}, {\"true\": 6.730952380952383, \"pred\": 4.661370120278693}, {\"true\": 3.871428571428576, \"pred\": 3.2458364947823424}, {\"true\": 7.575000000000009, \"pred\": 1.8350792094915418}, {\"true\": 5.092307692307693, \"pred\": 5.803412752942152}, {\"true\": 4.483333333333336, \"pred\": 4.937787132464577}, {\"true\": 0.4791666666666702, \"pred\": 2.827673054222046}, {\"true\": 3.672619047619047, \"pred\": 4.242756550139057}, {\"true\": 1.6541666666666708, \"pred\": 3.864793239935509}, {\"true\": 1.4875000000000018, \"pred\": 2.2591152931659475}, {\"true\": 6.493939393939394, \"pred\": 5.750741241627387}, {\"true\": 6.856944444444448, \"pred\": 5.079477294994529}, {\"true\": 23.333333333333332, \"pred\": 5.339361715436878}, {\"true\": 5.820833333333336, \"pred\": 4.414695019203458}, {\"true\": 8.326190476190481, \"pred\": 6.351178430716347}, {\"true\": 4.841025641025643, \"pred\": 4.400028531061195}, {\"true\": 3.9694444444444446, \"pred\": 4.3116750485591355}, {\"true\": 5.600000000000001, \"pred\": 4.9009153045365155}, {\"true\": 6.348809523809524, \"pred\": 4.876482801581776}, {\"true\": 2.0743589743589754, \"pred\": 3.7685463948305262}, {\"true\": 4.166666666666667, \"pred\": 4.280646859035062}, {\"true\": 3.2833333333333337, \"pred\": 3.095684529909582}, {\"true\": 5.719047619047622, \"pred\": 5.503610746877968}, {\"true\": 4.9785714285714295, \"pred\": 4.310848680324783}, {\"true\": 3.5759259259259264, \"pred\": 4.687225719285971}, {\"true\": 3.770833333333333, \"pred\": 4.138346470252394}, {\"true\": 5.575, \"pred\": 4.222950642637037}, {\"true\": 7.712500000000002, \"pred\": 3.0340403308656083}, {\"true\": 2.8791666666666664, \"pred\": 5.788898001463231}, {\"true\": 4.920000000000002, \"pred\": 4.190738328106903}, {\"true\": 6.733333333333334, \"pred\": 3.9694330769871815}, {\"true\": 3.786274509803922, \"pred\": 6.197633840876484}, {\"true\": 4.290000000000001, \"pred\": 4.703639451491471}, {\"true\": 0.8033333333333348, \"pred\": 1.9178427251455687}, {\"true\": 3.9296296296296314, \"pred\": 3.843499067579194}, {\"true\": 5.2444444444444445, \"pred\": 5.357883308020061}, {\"true\": 4.077272727272729, \"pred\": 4.749162809204279}, {\"true\": 3.441666666666671, \"pred\": 2.574021588847749}, {\"true\": 2.0027777777777778, \"pred\": 2.933290773792948}, {\"true\": 5.8363636363636395, \"pred\": 2.9213724687072458}, {\"true\": 3.3625000000000043, \"pred\": 3.3662879768003364}, {\"true\": 3.4899999999999998, \"pred\": 4.185413763220325}, {\"true\": 2.8904761904761935, \"pred\": 2.4933149583858087}, {\"true\": 10.00952380952381, \"pred\": 7.764399642043932}, {\"true\": 4.557142857142858, \"pred\": 5.047910088789303}, {\"true\": 5.707291666666668, \"pred\": 5.846487870218243}, {\"true\": 14.923333333333332, \"pred\": 4.122447754353108}, {\"true\": 6.735555555555555, \"pred\": 6.741364431420845}, {\"true\": 5.038235294117648, \"pred\": 4.8620957624282966}, {\"true\": 7.156666666666667, \"pred\": 6.987491412648356}, {\"true\": 3.1888888888888896, \"pred\": 4.922719671588085}, {\"true\": 3.9791666666666687, \"pred\": 3.488348428435555}, {\"true\": 3.2119047619047616, \"pred\": 3.9242211785199275}, {\"true\": 3.7638888888888893, \"pred\": 4.384962516719912}, {\"true\": 2.933333333333337, \"pred\": 2.6529332139487853}, {\"true\": 6.493939393939394, \"pred\": 7.96155430658135}, {\"true\": 7.613095238095239, \"pred\": 6.943147035025356}, {\"true\": 5.229166666666666, \"pred\": 5.077600161714142}, {\"true\": 3.915151515151516, \"pred\": 4.290907681780442}, {\"true\": 1.5527777777777831, \"pred\": 2.9618532231257806}, {\"true\": 3.2000000000000006, \"pred\": 4.443847926890015}, {\"true\": 4.709722222222222, \"pred\": 5.449885815591727}, {\"true\": 8.11851851851852, \"pred\": 4.623866277838066}, {\"true\": 8.520833333333336, \"pred\": 7.304611799396697}, {\"true\": 6.3909090909090915, \"pred\": 4.8042487140852845}, {\"true\": 8.908333333333333, \"pred\": 7.293897730618542}, {\"true\": 5.516666666666702, \"pred\": 2.3914663170426502}, {\"true\": 4.408333333333333, \"pred\": 3.6376392985879784}, {\"true\": 4.188095238095244, \"pred\": 3.441576925518014}, {\"true\": 1.425000000000004, \"pred\": 2.4490535690577278}, {\"true\": 1.3050000000000008, \"pred\": 3.4051872779732775}, {\"true\": 5.05740740740741, \"pred\": 5.975254858203797}, {\"true\": 5.564583333333334, \"pred\": 3.6815502759568957}, {\"true\": 3.4897435897435902, \"pred\": 4.412707967309911}, {\"true\": 4.65, \"pred\": 5.347345146470149}, {\"true\": 3.8547619047619053, \"pred\": 3.985996170370802}, {\"true\": 7.577777777777779, \"pred\": 4.0492003489036055}, {\"true\": 4.150000000000008, \"pred\": 2.2490113045023064}, {\"true\": 6.366666666666667, \"pred\": 4.483402427265942}, {\"true\": 6.605555555555558, \"pred\": 5.00828689103373}, {\"true\": 5.830000000000007, \"pred\": 5.1599949153876645}, {\"true\": 6.754761904761905, \"pred\": 4.5428193356187725}, {\"true\": 3.3369047619047647, \"pred\": 3.693202993136066}, {\"true\": 4.784313725490199, \"pred\": 5.38825863037487}, {\"true\": 4.642592592592594, \"pred\": 4.222871950405393}, {\"true\": 3.3833333333333346, \"pred\": 4.05556282283813}, {\"true\": 5.251515151515152, \"pred\": 4.631726407065936}, {\"true\": 6.860606060606063, \"pred\": 6.097483338127961}, {\"true\": 11.952083333333336, \"pred\": 11.392971020271574}, {\"true\": 4.827777777777778, \"pred\": 5.5894362257642305}, {\"true\": 2.9423076923076925, \"pred\": 3.430979115423216}, {\"true\": 6.417777777777777, \"pred\": 5.194658980843104}, {\"true\": 5.9799999999999995, \"pred\": 6.088547964027544}, {\"true\": 6.575757575757578, \"pred\": 5.318060597121059}, {\"true\": 5.055952380952379, \"pred\": 5.530635022886424}, {\"true\": 7.667857142857143, \"pred\": 5.969098297547753}, {\"true\": 3.3483333333333336, \"pred\": 4.142896907294153}, {\"true\": 2.4214285714285704, \"pred\": 4.018281501640278}, {\"true\": 6.960714285714286, \"pred\": 6.651364462153418}, {\"true\": 3.795000000000001, \"pred\": 3.591925253327915}, {\"true\": 3.735897435897437, \"pred\": 4.994642492549123}, {\"true\": 4.158823529411766, \"pred\": 4.91171572190775}, {\"true\": 1.1033333333333333, \"pred\": 2.9015528913052284}, {\"true\": 3.85, \"pred\": 4.0876878870757025}, {\"true\": 4.242424242424243, \"pred\": 4.716681444565976}, {\"true\": 0.5666666666666667, \"pred\": 4.021228197891924}, {\"true\": 3.9136363636363667, \"pred\": 5.097611679436305}, {\"true\": 2.5666666666666687, \"pred\": 2.226027932383991}, {\"true\": 4.657142857142858, \"pred\": 4.984198138589206}, {\"true\": 6.115151515151516, \"pred\": 4.742124015651887}, {\"true\": 3.1583333333333368, \"pred\": 1.5945763484699473}, {\"true\": 2.505555555555558, \"pred\": 4.055489186799819}, {\"true\": 0.8111111111111122, \"pred\": 3.3231980998118176}, {\"true\": 10.48452380952381, \"pred\": 8.592576436821938}, {\"true\": 5.813636363636366, \"pred\": 5.7501201374751005}, {\"true\": 5.925757575757575, \"pred\": 4.009026334247171}, {\"true\": 4.2740740740740755, \"pred\": 4.252236178722924}, {\"true\": 2.3666666666666827, \"pred\": 2.0661050587651126}, {\"true\": 8.309999999999999, \"pred\": 4.3199111516662585}, {\"true\": 4.397619047619048, \"pred\": 4.7666493282272056}, {\"true\": 6.498333333333335, \"pred\": 5.802524436940746}, {\"true\": 5.292592592592594, \"pred\": 5.311877569883131}, {\"true\": 5.838541666666667, \"pred\": 5.305003802838024}, {\"true\": 6.473611111111112, \"pred\": 6.295975153422258}, {\"true\": 4.8404761904761955, \"pred\": 3.455700272048021}, {\"true\": 5.473611111111111, \"pred\": 5.912586368994245}, {\"true\": 5.0966666666666685, \"pred\": 4.2637506285726925}, {\"true\": 6.086111111111111, \"pred\": 5.674791175449527}, {\"true\": 2.6964285714285725, \"pred\": 4.161136153195174}, {\"true\": 7.565151515151515, \"pred\": 6.189710649208009}, {\"true\": 0.6000000000000044, \"pred\": 2.026847355139202}, {\"true\": 1.8375000000000035, \"pred\": 2.8670325520371605}, {\"true\": 2.547222222222224, \"pred\": 3.665189934785034}, {\"true\": 5.0616666666666665, \"pred\": 4.874994215266949}, {\"true\": 6.843055555555559, \"pred\": 3.8550715753029317}, {\"true\": 4.9129629629629665, \"pred\": 4.693158202452251}, {\"true\": 2.050000000000004, \"pred\": 2.94187017649541}, {\"true\": 2.99, \"pred\": 3.809466277762502}, {\"true\": 5.6, \"pred\": 4.738849610987165}, {\"true\": 6.9055555555555586, \"pred\": 4.420155229103739}, {\"true\": 12.43, \"pred\": 5.480108359137391}, {\"true\": 2.4916666666666676, \"pred\": 3.631688231405469}, {\"true\": 4.221794871794875, \"pred\": 5.5386716249450645}, {\"true\": 3.5444444444444447, \"pred\": 3.2084834843054835}, {\"true\": 3.2638888888888906, \"pred\": 3.822044288419789}, {\"true\": 4.341666666666672, \"pred\": 5.280404317842769}, {\"true\": 5.722222222222225, \"pred\": 5.429296269125358}, {\"true\": 2.9547619047619054, \"pred\": 3.434839919713138}, {\"true\": 6.319696969696972, \"pred\": 4.648666045491265}, {\"true\": 4.53030303030303, \"pred\": 4.455297121817178}, {\"true\": 1.9458333333333422, \"pred\": 2.009488133725185}, {\"true\": 5.025, \"pred\": 4.389157345824019}, {\"true\": 4.233333333333333, \"pred\": 3.8719579763837557}, {\"true\": 3.187500000000008, \"pred\": 2.966597959049706}, {\"true\": 5.64333333333334, \"pred\": 4.718342737066031}, {\"true\": 4.176666666666668, \"pred\": 5.31674356773186}, {\"true\": 3.9999999999999987, \"pred\": 3.451257554249966}, {\"true\": 3.8000000000000056, \"pred\": 2.664933539807414}, {\"true\": 3.016666666666704, \"pred\": 1.8781685153547085}, {\"true\": 4.696078431372551, \"pred\": 5.134244880265572}, {\"true\": 7.8050000000000015, \"pred\": 6.627569787885953}, {\"true\": 3.7791666666666663, \"pred\": 3.979733539977861}, {\"true\": 5.255882352941177, \"pred\": 5.008185472939528}, {\"true\": 2.839583333333337, \"pred\": 3.212571582789106}, {\"true\": 4.834444444444444, \"pred\": 4.7166061744469285}, {\"true\": 6.421428571428572, \"pred\": 6.556330071598303}, {\"true\": 6.8374999999999995, \"pred\": 5.226361109044118}, {\"true\": 6.672807017543862, \"pred\": 5.021023114723011}, {\"true\": 7.581666666666669, \"pred\": 6.035063396592818}, {\"true\": 5.571111111111112, \"pred\": 4.688322164183714}, {\"true\": 1.4333333333333376, \"pred\": 2.0553076785146587}, {\"true\": 4.902222222222222, \"pred\": 5.551898190593891}, {\"true\": 6.459259259259259, \"pred\": 6.594574948874582}, {\"true\": 4.739583333333333, \"pred\": 4.497271168024419}, {\"true\": 1.75, \"pred\": 3.744256509538881}, {\"true\": 4.392857142857143, \"pred\": 4.053970623495062}, {\"true\": 3.5384615384615383, \"pred\": 4.163138660169657}, {\"true\": 4.066666666666668, \"pred\": 4.006430229469744}, {\"true\": 2.7133333333333347, \"pred\": 4.106873386008275}, {\"true\": 7.65925925925926, \"pred\": 4.150338632935213}, {\"true\": 2.5074074074074115, \"pred\": 2.863469009485168}, {\"true\": 5.619696969696971, \"pred\": 4.861454605984539}, {\"true\": 0.4533333333333401, \"pred\": 2.4611652772427837}, {\"true\": 4.9013888888888895, \"pred\": 4.553879948633827}, {\"true\": 4.038095238095238, \"pred\": 3.114165627620901}, {\"true\": 2.518181818181818, \"pred\": 3.932246942923049}, {\"true\": 4.380000000000007, \"pred\": 3.2251079935749636}, {\"true\": 5.352777777777778, \"pred\": 6.511351599058667}, {\"true\": 2.6180555555555567, \"pred\": 3.027698492788992}, {\"true\": 6.452380952380955, \"pred\": 5.35277690820686}, {\"true\": 8.061111111111112, \"pred\": 4.811074937414754}, {\"true\": 0.8928571428571439, \"pred\": 2.8774720171550503}, {\"true\": 6.848717948717948, \"pred\": 4.838786994357284}, {\"true\": 5.218055555555557, \"pred\": 5.686063804237175}, {\"true\": 6.64666666666667, \"pred\": 5.6214395114104505}, {\"true\": 7.045833333333335, \"pred\": 5.915080482959735}, {\"true\": 3.861904761904764, \"pred\": 4.464762695916203}, {\"true\": 6.242857142857143, \"pred\": 6.487477343008609}, {\"true\": 1.318750000000002, \"pred\": 2.49459211073986}, {\"true\": 7.125000000000002, \"pred\": 5.232736680577229}, {\"true\": 5.160000000000002, \"pred\": 5.643788129404276}, {\"true\": 5.5116666666666685, \"pred\": 4.002587246663416}, {\"true\": 3.026923076923079, \"pred\": 5.27068534201596}, {\"true\": 5.05925925925926, \"pred\": 3.730919136041066}, {\"true\": 6.9974358974358974, \"pred\": 4.759882204067793}, {\"true\": 4.010000000000002, \"pred\": 3.958084485938485}, {\"true\": 3.2333333333333423, \"pred\": 2.7776130379684836}, {\"true\": 5.2124999999999995, \"pred\": 3.8636943814011753}, {\"true\": 6.597619047619047, \"pred\": 4.34821895616066}, {\"true\": 4.185000000000003, \"pred\": 3.6287776878688223}, {\"true\": 2.061111111111115, \"pred\": 3.607806167209974}, {\"true\": 2.744444444444446, \"pred\": 3.890929716823742}, {\"true\": 4.850000000000002, \"pred\": 3.860093632265185}, {\"true\": 3.527380952380952, \"pred\": 3.9832089690765193}, {\"true\": 3.1730769230769225, \"pred\": 3.9896237179812517}, {\"true\": 4.505555555555558, \"pred\": 4.7152339437867745}, {\"true\": 2.9428571428571453, \"pred\": 2.9454981188201352}, {\"true\": 3.191666666666668, \"pred\": 2.9050075258330077}, {\"true\": 3.7416666666666667, \"pred\": 3.589596256399061}, {\"true\": 2.720833333333333, \"pred\": 4.92579204825543}, {\"true\": 5.835555555555556, \"pred\": 5.939955776162522}, {\"true\": 1.1750000000000178, \"pred\": 3.6628475586112934}, {\"true\": 0.3499999999999988, \"pred\": 2.8342898108396177}, {\"true\": 5.3448717948717945, \"pred\": 4.356490577855006}, {\"true\": 5.4763888888888905, \"pred\": 4.031365815926318}, {\"true\": 3.661666666666668, \"pred\": 3.0670778848201854}, {\"true\": 3.0416666666666683, \"pred\": 3.25964814443974}, {\"true\": 7.496296296296297, \"pred\": 5.661989381027141}, {\"true\": 3.5309523809523813, \"pred\": 4.19385770011698}, {\"true\": 2.7318181818181824, \"pred\": 3.863919754914136}, {\"true\": 4.300000000000004, \"pred\": 3.078304570271285}, {\"true\": 4.700000000000003, \"pred\": 4.0386044633803255}, {\"true\": 0.24333333333333546, \"pred\": 2.557185848049844}, {\"true\": 9.905208333333334, \"pred\": 11.259403344974242}, {\"true\": 2.1416666666666853, \"pred\": 2.099349251929159}, {\"true\": 6.9388888888888935, \"pred\": 5.490306470547434}, {\"true\": 4.3822222222222225, \"pred\": 5.130033939780498}, {\"true\": 2.66, \"pred\": 2.905952599594424}, {\"true\": 4.454761904761909, \"pred\": 3.1291273422315293}, {\"true\": 4.366666666666668, \"pred\": 4.595158641161511}, {\"true\": 2.8450000000000015, \"pred\": 5.7301072479031765}, {\"true\": 3.858823529411766, \"pred\": 4.432945328002289}, {\"true\": 3.4416666666666678, \"pred\": 3.334879368096894}, {\"true\": 4.135714285714285, \"pred\": 4.6514653443143095}, {\"true\": 4.955128205128206, \"pred\": 4.899819862468961}, {\"true\": 5.794444444444449, \"pred\": 8.286473574027685}, {\"true\": 3.2833333333333385, \"pred\": 2.6062735382226725}, {\"true\": 6.156250000000001, \"pred\": 4.059618691870558}, {\"true\": 3.311111111111113, \"pred\": 2.4414848465523318}, {\"true\": 1.8666666666666667, \"pred\": 4.00577157917746}, {\"true\": 6.454166666666668, \"pred\": 5.4566057893407836}, {\"true\": 6.370000000000001, \"pred\": 4.960099760248185}, {\"true\": 8.444791666666667, \"pred\": 7.485872231618105}, {\"true\": 11.679166666666674, \"pred\": 4.6596601567628415}, {\"true\": 3.6809523809523808, \"pred\": 4.676784531573425}, {\"true\": 5.161904761904764, \"pred\": 4.409702925762707}, {\"true\": 3.0907407407407415, \"pred\": 3.720635830459052}, {\"true\": 1.7000000000000015, \"pred\": 4.139329522899497}, {\"true\": 3.380392156862746, \"pred\": 4.520465479678984}, {\"true\": 3.913333333333334, \"pred\": 3.396768933305006}, {\"true\": 7.19861111111111, \"pred\": 6.7560309360657325}, {\"true\": 4.805555555555556, \"pred\": 3.962096975613299}, {\"true\": 3.474074074074073, \"pred\": 3.575817401679807}, {\"true\": 4.127777777777779, \"pred\": 5.0201367827728856}, {\"true\": 4.154166666666667, \"pred\": 2.862930083034654}, {\"true\": 4.062500000000002, \"pred\": 3.9357484547159984}, {\"true\": 3.763541666666668, \"pred\": 4.602788241626292}, {\"true\": 3.730555555555556, \"pred\": 3.7730025148863833}, {\"true\": 3.592424242424243, \"pred\": 3.893340114554184}, {\"true\": 4.659090909090913, \"pred\": 5.50807979896754}, {\"true\": 3.8148148148148184, \"pred\": 4.580825806288459}, {\"true\": 4.896428571428572, \"pred\": 6.120529906753427}, {\"true\": 12.353703703703708, \"pred\": 7.6872755780929465}, {\"true\": 1.5833333333333335, \"pred\": 3.354607193655213}, {\"true\": 7.15925925925926, \"pred\": 6.18605617336296}, {\"true\": 5.8812500000000005, \"pred\": 4.883064165232484}, {\"true\": 3.2750000000000004, \"pred\": 4.1342440935467275}, {\"true\": 5.7093750000000005, \"pred\": 6.1187374346357615}, {\"true\": 6.945000000000002, \"pred\": 5.745432327703479}, {\"true\": 4.002380952380954, \"pred\": 4.333188338587934}, {\"true\": 2.9428571428571475, \"pred\": 4.396474603804365}, {\"true\": 3.0033333333333316, \"pred\": 3.889096503144077}, {\"true\": 8.743589743589745, \"pred\": 8.59652663970441}, {\"true\": 3.6833333333333353, \"pred\": 2.9991136414694846}, {\"true\": 4.370512820512823, \"pred\": 4.599185822431472}, {\"true\": 4.466666666666688, \"pred\": 4.939991960624326}, {\"true\": 6.300000000000002, \"pred\": 4.085217703179151}, {\"true\": 1.9333333333333331, \"pred\": 3.588314146862965}, {\"true\": 2.953703703703704, \"pred\": 3.7827810507509327}, {\"true\": 3.9833333333333343, \"pred\": 3.8650972938741295}, {\"true\": 6.804761904761906, \"pred\": 6.740063626798324}, {\"true\": 5.895238095238095, \"pred\": 4.838680041150851}, {\"true\": 9.86071428571429, \"pred\": 10.797452567118981}, {\"true\": 8.445454545454545, \"pred\": 6.980725248296632}, {\"true\": 8.77222222222222, \"pred\": 6.478193857766153}, {\"true\": 1.2388888888889007, \"pred\": 1.615569978182919}, {\"true\": 5.101190476190475, \"pred\": 5.417668499807532}, {\"true\": 2.3833333333333333, \"pred\": 5.063367348074244}, {\"true\": 3.077450980392157, \"pred\": 4.011642999629775}, {\"true\": 3.7666666666666675, \"pred\": 5.602452710864113}, {\"true\": 5.483333333333334, \"pred\": 6.048052531422731}, {\"true\": 2.7666666666666684, \"pred\": 4.960270658276765}, {\"true\": 4.387777777777781, \"pred\": 4.539091528707588}, {\"true\": 3.6777777777777803, \"pred\": 2.9835510088580963}, {\"true\": 5.086111111111111, \"pred\": 4.095666573622639}, {\"true\": 4.950980392156863, \"pred\": 4.460649729546715}, {\"true\": 6.159722222222226, \"pred\": 3.559420718426733}, {\"true\": 2.0416666666666683, \"pred\": 3.099158136606748}, {\"true\": 2.9348484848484846, \"pred\": 4.430128725615308}, {\"true\": 5.881818181818182, \"pred\": 6.3941503162193385}, {\"true\": 2.6074074074074085, \"pred\": 3.854371752447874}, {\"true\": 7.234523809523809, \"pred\": 6.966666539997247}, {\"true\": 3.8696969696969705, \"pred\": 4.3051344634016}, {\"true\": 1.4972222222222218, \"pred\": 3.397323751635641}, {\"true\": 3.816666666666699, \"pred\": 2.6373548964805478}, {\"true\": 4.256060606060607, \"pred\": 3.653719681390932}, {\"true\": 2.816666666666668, \"pred\": 2.0178800592957895}, {\"true\": 3.9875000000000025, \"pred\": 4.137926246146739}, {\"true\": 3.835416666666671, \"pred\": 2.9015014161763686}, {\"true\": 1.550000000000003, \"pred\": 3.3250880941632177}, {\"true\": 1.7791666666666686, \"pred\": 2.194690032818638}, {\"true\": 5.680952380952381, \"pred\": 5.496428472937887}, {\"true\": 2.238888888888891, \"pred\": 3.673488997096171}, {\"true\": 2.6666666666666776, \"pred\": 2.6781295843206365}, {\"true\": 3.27666666666667, \"pred\": 3.8263179884359797}, {\"true\": 3.4513888888888893, \"pred\": 4.089766644894421}, {\"true\": 7.814444444444445, \"pred\": 6.160727199767851}, {\"true\": 3.3944444444444444, \"pred\": 5.706714048630716}, {\"true\": 3.462500000000004, \"pred\": 3.8750114498488633}, {\"true\": 8.881784197001252e-15, \"pred\": 2.874509981778525}, {\"true\": 1.7041666666666755, \"pred\": 2.2173743687655496}, {\"true\": 2.681250000000002, \"pred\": 2.105169090632755}, {\"true\": 4.529166666666668, \"pred\": 4.8138804458621705}, {\"true\": 4.535897435897436, \"pred\": 4.218870046914876}, {\"true\": 6.878205128205128, \"pred\": 4.672399095114204}, {\"true\": 4.279166666666669, \"pred\": 5.449220741489783}, {\"true\": 6.0518518518518505, \"pred\": 4.6569857584165115}, {\"true\": 4.2, \"pred\": 4.064876944813552}, {\"true\": 1.3402777777777788, \"pred\": 3.0692758536654887}, {\"true\": 1.5583333333333422, \"pred\": 1.839720417421712}, {\"true\": 4.098333333333336, \"pred\": 3.1694594467186143}, {\"true\": 2.8742424242424276, \"pred\": 3.4458402795814234}, {\"true\": 5.624242424242424, \"pred\": 5.1459162811257}, {\"true\": 10.067777777777781, \"pred\": 6.8614149181295545}, {\"true\": 5.565384615384616, \"pred\": 4.847758756844518}, {\"true\": 2.2899999999999996, \"pred\": 3.9379713612821168}, {\"true\": 2.1833333333333425, \"pred\": 3.221254923968847}, {\"true\": 4.541666666666678, \"pred\": 4.725876341232717}, {\"true\": 3.470833333333335, \"pred\": 1.7630954621364265}, {\"true\": 4.2897435897435905, \"pred\": 4.751682317917926}, {\"true\": 5.078571428571428, \"pred\": 4.552351981125569}, {\"true\": 3.2819444444444454, \"pred\": 4.0092775791958815}, {\"true\": 4.5575757575757585, \"pred\": 5.454271752899953}, {\"true\": 2.697916666666671, \"pred\": 2.554784396542313}, {\"true\": 2.896969696969698, \"pred\": 4.063946841213427}, {\"true\": 5.257142857142858, \"pred\": 3.706962654822807}, {\"true\": 5.727777777777778, \"pred\": 4.512953893129462}, {\"true\": 6.339393939393941, \"pred\": 5.660839043012186}, {\"true\": 13.150000000000002, \"pred\": 6.497803561203544}, {\"true\": 6.633333333333334, \"pred\": 3.087506819941069}, {\"true\": 7.0699999999999985, \"pred\": 3.739601903070963}, {\"true\": 4.660000000000001, \"pred\": 5.3103492337637315}, {\"true\": 3.7125000000000012, \"pred\": 1.8807369102599774}, {\"true\": 5.052564102564103, \"pred\": 4.636991612422897}, {\"true\": 9.694047619047618, \"pred\": 8.217310778561718}, {\"true\": 5.191666666666674, \"pred\": 3.2120126586296913}, {\"true\": 6.632142857142857, \"pred\": 4.502462927775873}, {\"true\": 5.578571428571428, \"pred\": 4.699706072103688}, {\"true\": 6.8136363636363635, \"pred\": 4.70216533950574}, {\"true\": 7.105427357601002e-15, \"pred\": 3.1065933386023907}, {\"true\": 5.1000000000000005, \"pred\": 5.755020659612747}, {\"true\": 4.157407407407408, \"pred\": 4.2403507052704414}, {\"true\": 6.239393939393943, \"pred\": 4.70526580200573}, {\"true\": 3.3312500000000025, \"pred\": 3.387412473734717}, {\"true\": 6.235185185185185, \"pred\": 5.139174088760055}, {\"true\": 5.387878787878788, \"pred\": 5.376326224148718}, {\"true\": 6.4944444444444445, \"pred\": 5.324223675409138}, {\"true\": 7.817857142857143, \"pred\": 6.199442818112962}, {\"true\": 2.988888888888889, \"pred\": 3.727120519426882}, {\"true\": 5.523333333333335, \"pred\": 4.395097709127685}, {\"true\": 3.8861111111111115, \"pred\": 3.800174218237619}, {\"true\": 3.92727272727273, \"pred\": 5.204257773015961}, {\"true\": 5.343055555555555, \"pred\": 5.751258245700996}, {\"true\": 3.8770833333333337, \"pred\": 3.4917916064370167}, {\"true\": 4.339743589743589, \"pred\": 4.6874125333388035}, {\"true\": 1.6104166666666666, \"pred\": 4.539689824456045}, {\"true\": 1.9305555555555616, \"pred\": 2.4654643940807124}, {\"true\": 5.216666666666668, \"pred\": 5.082430221707331}, {\"true\": 2.945833333333342, \"pred\": 6.510522237996313}, {\"true\": 2.173333333333333, \"pred\": 2.39147489828649}, {\"true\": 2.5227272727272734, \"pred\": 3.2231813572162804}, {\"true\": 3.005000000000001, \"pred\": 4.146743487852102}, {\"true\": 3.004166666666667, \"pred\": 3.970260138643064}, {\"true\": 6.159523809523811, \"pred\": 5.163113941731803}, {\"true\": 2.133333333333334, \"pred\": 2.335206546073853}, {\"true\": 2.814583333333334, \"pred\": 3.4725619815524595}, {\"true\": 4.954761904761905, \"pred\": 4.615472232814326}, {\"true\": 4.906666666666673, \"pred\": 6.499489103507696}, {\"true\": 1.1300000000000037, \"pred\": 1.896832774995768}, {\"true\": 2.8444444444444446, \"pred\": 3.216799645075242}, {\"true\": 9.281481481481482, \"pred\": 4.5630547766378395}, {\"true\": 3.870000000000002, \"pred\": 5.1100075210483356}, {\"true\": 3.3230769230769246, \"pred\": 4.2073264653002065}, {\"true\": 4.387500000000001, \"pred\": 5.147509755118135}, {\"true\": 2.661904761904764, \"pred\": 2.969248972393873}, {\"true\": 5.260256410256412, \"pred\": 3.731597007465841}, {\"true\": 3.213333333333337, \"pred\": 2.733455419643049}, {\"true\": 0.8833333333333361, \"pred\": 3.7983524531308785}, {\"true\": 3.4944444444444454, \"pred\": 4.382529870700701}, {\"true\": 5.152380952380953, \"pred\": 5.128896741634924}, {\"true\": 4.54848484848485, \"pred\": 5.745183535298501}, {\"true\": 3.4361111111111122, \"pred\": 3.4087673292940166}, {\"true\": 3.383333333333333, \"pred\": 4.368480349527425}, {\"true\": 6.387179487179487, \"pred\": 5.287243258301497}, {\"true\": 4.222222222222224, \"pred\": 2.9965168217755958}, {\"true\": 4.01904761904762, \"pred\": 4.061878079168565}, {\"true\": 5.500000000000003, \"pred\": 3.999838030419657}, {\"true\": 6.416666666666667, \"pred\": 6.790918446138763}, {\"true\": 4.1551282051282055, \"pred\": 5.589415400237184}, {\"true\": 6.714102564102567, \"pred\": 4.244735501336289}, {\"true\": 4.861111111111113, \"pred\": 2.678326636800103}, {\"true\": 6.7749999999999995, \"pred\": 5.731355750907255}, {\"true\": 2.5700000000000007, \"pred\": 3.788402582788812}, {\"true\": 7.022222222222224, \"pred\": 5.67759898874877}, {\"true\": 3.6530303030303033, \"pred\": 4.19297480789948}, {\"true\": 2.157142857142859, \"pred\": 3.5803561225358385}, {\"true\": 6.316666666666666, \"pred\": 4.530922051688139}, {\"true\": 3.4722222222222245, \"pred\": 4.112689889153625}, {\"true\": 6.863888888888895, \"pred\": 4.112320708682363}, {\"true\": 4.335897435897436, \"pred\": 4.105498843850982}, {\"true\": 3.247916666666667, \"pred\": 4.095180715558732}, {\"true\": 2.6400000000000032, \"pred\": 3.64730378584526}, {\"true\": 3.521428571428571, \"pred\": 3.432286025310019}, {\"true\": 3.2966666666666704, \"pred\": 3.8099412609939267}, {\"true\": 4.184523809523811, \"pred\": 5.176419957332286}, {\"true\": 7.150000000000003, \"pred\": 6.445388996927476}, {\"true\": 2.1305555555555586, \"pred\": 2.174459688971685}, {\"true\": 1.5128205128205134, \"pred\": 3.4911811278380878}, {\"true\": 5.466666666666667, \"pred\": 5.93654759171882}, {\"true\": 4.42820512820513, \"pred\": 4.36649713331953}, {\"true\": 5.475757575757578, \"pred\": 3.9833526322794697}, {\"true\": 2.223333333333336, \"pred\": 2.8740327218915724}, {\"true\": 4.586111111111112, \"pred\": 3.6026362298325245}, {\"true\": 3.981250000000003, \"pred\": 3.536710800540499}, {\"true\": 2.9791666666666683, \"pred\": 2.2342631978283496}, {\"true\": 4.60416666666667, \"pred\": 4.842843122795978}, {\"true\": 3.2500000000000004, \"pred\": 3.7410587418564214}, {\"true\": 0.6083333333333413, \"pred\": 2.5792348732156456}, {\"true\": 4.610000000000004, \"pred\": 4.648728843728773}, {\"true\": 4.233333333333334, \"pred\": 4.747608502778444}, {\"true\": 6.657692307692309, \"pred\": 6.282259927883291}, {\"true\": 5.411666666666668, \"pred\": 4.243846541990722}, {\"true\": 1.4484848484848514, \"pred\": 3.1231330776272883}, {\"true\": 3.9444444444444464, \"pred\": 4.019621278384754}, {\"true\": 5.0611111111111144, \"pred\": 2.7834067732716496}, {\"true\": 5.563888888888889, \"pred\": 5.343420752448964}, {\"true\": 4.3678571428571455, \"pred\": 3.677184941950136}, {\"true\": 3.0777777777777824, \"pred\": 3.3657594483826085}, {\"true\": 5.126666666666668, \"pred\": 4.795647702710675}, {\"true\": 0.9425925925925933, \"pred\": 3.300311918709945}, {\"true\": 1.2952380952380997, \"pred\": 2.5295146411826455}, {\"true\": 4.497435897435898, \"pred\": 4.919008341724666}, {\"true\": 5.157142857142858, \"pred\": 4.653264531027826}, {\"true\": 3.71923076923077, \"pred\": 3.8531621955004964}, {\"true\": 5.298611111111111, \"pred\": 6.057355337307519}, {\"true\": 4.605000000000002, \"pred\": 4.225099998983498}, {\"true\": 2.088095238095239, \"pred\": 2.4309677453370075}, {\"true\": 1.4210854715202004e-14, \"pred\": 2.9297116354521133}, {\"true\": 1.3888888888888948, \"pred\": 1.9084411983628937}, {\"true\": 4.5249999999999995, \"pred\": 4.493057735464496}, {\"true\": 4.888888888888889, \"pred\": 5.611618651934272}, {\"true\": 3.141666666666668, \"pred\": 3.960554993252941}, {\"true\": 4.905952380952383, \"pred\": 4.798677932727941}, {\"true\": 2.825000000000007, \"pred\": 1.5892222428992833}, {\"true\": 3.200000000000001, \"pred\": 3.000410415902617}, {\"true\": 5.2636363636363654, \"pred\": 6.406049280173131}, {\"true\": 4.680952380952384, \"pred\": 3.8996312836913027}, {\"true\": 2.5261904761904788, \"pred\": 3.316502790376365}, {\"true\": 1.080952380952382, \"pred\": 2.512159569403327}, {\"true\": 0.5250000000000178, \"pred\": 4.391340856225086}, {\"true\": 4.164444444444445, \"pred\": 5.087407844036531}, {\"true\": 3.3437500000000018, \"pred\": 4.430914869235133}, {\"true\": 2.3694444444444467, \"pred\": 2.5501680658315142}, {\"true\": 7.431818181818182, \"pred\": 6.867083377858138}, {\"true\": 3.6533333333333338, \"pred\": 4.315719424502801}, {\"true\": 8.081250000000004, \"pred\": 6.147166477271739}, {\"true\": 2.0777777777777806, \"pred\": 4.59081599436284}, {\"true\": 4.836111111111113, \"pred\": 4.076498734887424}, {\"true\": 7.145454545454545, \"pred\": 4.984028893415694}, {\"true\": 0.4533333333333333, \"pred\": 1.5642447206766636}, {\"true\": 5.470833333333342, \"pred\": 2.376602292972448}, {\"true\": 3.415151515151516, \"pred\": 3.8975767240245727}, {\"true\": 1.5500000000000185, \"pred\": 2.756164359331412}, {\"true\": 2.675757575757576, \"pred\": 4.367049417234406}, {\"true\": 3.5571428571428596, \"pred\": 4.103070223902302}, {\"true\": 1.7763568394002505e-14, \"pred\": 2.04840480262026}, {\"true\": 4.816666666666674, \"pred\": 3.2729947993399433}, {\"true\": 3.8361111111111117, \"pred\": 4.745940851774989}, {\"true\": 3.5404761904761917, \"pred\": 4.094745775523322}, {\"true\": 3.572727272727273, \"pred\": 3.39202935278813}, {\"true\": 3.0986111111111114, \"pred\": 3.8064387873228203}, {\"true\": 3.0904761904761924, \"pred\": 3.8180534294753694}, {\"true\": 6.783333333333335, \"pred\": 4.666376650564305}, {\"true\": 1.142857142857148, \"pred\": 1.8785943147982396}, {\"true\": 4.691666666666669, \"pred\": 3.950378370365752}, {\"true\": 2.626190476190481, \"pred\": 2.5172180214025173}, {\"true\": 4.233333333333334, \"pred\": 4.1525253998006555}, {\"true\": 6.263888888888892, \"pred\": 3.236079312386887}, {\"true\": 5.272549019607844, \"pred\": 4.736801311843496}, {\"true\": 5.848484848484848, \"pred\": 3.757015432571658}, {\"true\": 3.6212121212121247, \"pred\": 4.060613015912758}, {\"true\": 1.9944444444444522, \"pred\": 1.9313112028946762}, {\"true\": 6.015151515151516, \"pred\": 6.6732868295668215}, {\"true\": 6.820833333333333, \"pred\": 6.512264990101832}, {\"true\": 2.700000000000006, \"pred\": 2.384466114182827}, {\"true\": 7.325000000000009, \"pred\": 2.3906437870144326}, {\"true\": 1.6722222222222316, \"pred\": 2.2874026192397645}, {\"true\": 4.383333333333334, \"pred\": 5.25722421944016}, {\"true\": 2.377777777777779, \"pred\": 3.1470119364128464}, {\"true\": 6.8602564102564125, \"pred\": 5.210239902754754}, {\"true\": 4.872222222222222, \"pred\": 3.824110465109678}, {\"true\": 6.492222222222222, \"pred\": 5.530937249382452}, {\"true\": 2.8074074074074074, \"pred\": 3.9300930319040073}, {\"true\": 4.915000000000001, \"pred\": 3.696282162606801}, {\"true\": 3.3458333333333354, \"pred\": 4.123570333121408}, {\"true\": 5.50740740740741, \"pred\": 4.050032834783232}, {\"true\": 4.083333333333336, \"pred\": 5.1084327300764}, {\"true\": 2.748333333333336, \"pred\": 3.572475926174201}, {\"true\": 4.833333333333333, \"pred\": 6.190119687875394}, {\"true\": 0.270833333333342, \"pred\": 2.2953065820932226}, {\"true\": 5.251190476190475, \"pred\": 5.595925383941918}, {\"true\": 9.87888888888889, \"pred\": 7.747189572664203}, {\"true\": 3.3866666666666694, \"pred\": 4.320532889159174}, {\"true\": 0.4400000000000036, \"pred\": 2.816729941428534}, {\"true\": 5.581666666666667, \"pred\": 4.722690040469905}, {\"true\": 3.1833333333333362, \"pred\": 2.9785701333059205}, {\"true\": 2.9269230769230767, \"pred\": 4.048767579939406}, {\"true\": 3.178333333333334, \"pred\": 3.7498749601746293}, {\"true\": 5.516666666666667, \"pred\": 4.7874162714934}, {\"true\": 4.295833333333335, \"pred\": 4.255624820932708}, {\"true\": 10.180952380952382, \"pred\": 6.876847284064962}, {\"true\": 5.442424242424246, \"pred\": 4.461957882505748}, {\"true\": 0.4055555555555674, \"pred\": 2.022364209565228}, {\"true\": 7.051851851851856, \"pred\": 5.53331399899959}, {\"true\": 6.048717948717949, \"pred\": 5.836663438979704}, {\"true\": 4.156666666666667, \"pred\": 3.5321442322669454}, {\"true\": 6.245000000000002, \"pred\": 6.213945909403291}, {\"true\": 6.564583333333335, \"pred\": 3.581725779260797}, {\"true\": 4.9166666666666705, \"pred\": 2.675663216843634}, {\"true\": 0.5333333333333362, \"pred\": 4.4952364573089785}, {\"true\": 6.020833333333336, \"pred\": 5.274442255542076}, {\"true\": 3.522222222222222, \"pred\": 4.648742400358031}, {\"true\": 0.776666666666671, \"pred\": 3.1151392044234485}, {\"true\": 3.727777777777785, \"pred\": 1.7182893223659137}, {\"true\": 1.0750000000000073, \"pred\": 4.109407607503491}, {\"true\": 5.28333333333334, \"pred\": 1.8455757637895007}, {\"true\": 5.291111111111113, \"pred\": 5.963513037014944}, {\"true\": 5.081250000000002, \"pred\": 6.516887418359222}, {\"true\": 3.75, \"pred\": 4.771085592773648}, {\"true\": 2.947222222222223, \"pred\": 4.2899678373449035}, {\"true\": 4.863333333333338, \"pred\": 2.8380009447996453}, {\"true\": 3.175641025641027, \"pred\": 3.2261464738564243}, {\"true\": 5.8500000000000005, \"pred\": 4.172632367671886}, {\"true\": 2.2190476190476196, \"pred\": 3.7191765940131405}, {\"true\": 2.7166666666666663, \"pred\": 3.1376931888355033}, {\"true\": 2.714814814814816, \"pred\": 3.3671352554576837}, {\"true\": 7.366666666666669, \"pred\": 6.492490155010696}, {\"true\": 3.2722222222222235, \"pred\": 4.534199583429901}, {\"true\": 4.565000000000002, \"pred\": 4.5188909623464015}, {\"true\": 3.6166666666666663, \"pred\": 2.5972233587035918}, {\"true\": 5.837037037037039, \"pred\": 5.297340108746831}, {\"true\": 4.122727272727274, \"pred\": 3.956118076075798}, {\"true\": 4.495238095238096, \"pred\": 4.547851135230342}, {\"true\": 3.3416666666666672, \"pred\": 4.452033893572355}, {\"true\": 5.76666666666667, \"pred\": 4.235460220028011}, {\"true\": 5.108333333333335, \"pred\": 3.713573604624781}, {\"true\": 3.226190476190475, \"pred\": 3.6782715661757828}, {\"true\": 3.8291666666666657, \"pred\": 4.325000040014106}, {\"true\": 5.14871794871795, \"pred\": 4.173077837927353}, {\"true\": 4.174444444444445, \"pred\": 4.701586232732916}, {\"true\": 7.096875000000002, \"pred\": 5.642685440296989}, {\"true\": 1.7875000000000016, \"pred\": 2.800462507207797}, {\"true\": 4.544444444444447, \"pred\": 2.870331448316626}, {\"true\": 2.2575757575757587, \"pred\": 4.2918974388559255}, {\"true\": 7.300000000000002, \"pred\": 6.41700833207757}, {\"true\": 2.691666666666674, \"pred\": 3.0116433459283893}, {\"true\": 3.735416666666669, \"pred\": 3.594159426262297}, {\"true\": 3.665384615384617, \"pred\": 4.821722952663029}, {\"true\": 3.5633333333333397, \"pred\": 3.6340622454669758}, {\"true\": 3.4270833333333335, \"pred\": 3.2660411207958098}, {\"true\": 3.780952380952381, \"pred\": 4.145428969550631}, {\"true\": 6.301851851851856, \"pred\": 6.077045577241357}, {\"true\": 5.172727272727273, \"pred\": 4.310344813675343}, {\"true\": 2.0893939393939402, \"pred\": 3.380011279572757}, {\"true\": 9.529166666666669, \"pred\": 6.409577361974843}, {\"true\": 6.094871794871796, \"pred\": 6.967367082177872}, {\"true\": 1.9333333333333378, \"pred\": 2.1182796522458647}, {\"true\": 3.8515151515151516, \"pred\": 3.8799609760762452}, {\"true\": 1.5666666666666682, \"pred\": 2.918453721103149}, {\"true\": 7.315555555555554, \"pred\": 4.021010284303241}, {\"true\": 4.45909090909091, \"pred\": 4.210400242375796}, {\"true\": 1.7583333333333386, \"pred\": 2.552418193985694}, {\"true\": 1.4916666666666691, \"pred\": 2.595763511600235}, {\"true\": 3.552713678800501e-14, \"pred\": 2.097411116770747}, {\"true\": 5.535, \"pred\": 6.391820791942821}, {\"true\": 4.116666666666672, \"pred\": 3.856958417493284}, {\"true\": 2.133333333333334, \"pred\": 3.96181941037289}, {\"true\": 5.269444444444445, \"pred\": 4.845485300392722}, {\"true\": 7.6316666666666695, \"pred\": 5.376202738094074}, {\"true\": 2.5469696969696973, \"pred\": 3.427034735325598}, {\"true\": 1.7763568394002505e-14, \"pred\": 2.1767280979348063}, {\"true\": 1.4208333333333414, \"pred\": 2.276963855874557}, {\"true\": 5.942424242424243, \"pred\": 5.1781703548852}, {\"true\": 5.660000000000002, \"pred\": 4.094720115450478}, {\"true\": 3.143939393939395, \"pred\": 4.163166743545433}, {\"true\": 3.5333333333333354, \"pred\": 3.711324575644636}, {\"true\": 4.297916666666669, \"pred\": 5.8432131006344585}, {\"true\": 2.533333333333332, \"pred\": 3.0851801282914777}, {\"true\": 4.088461538461539, \"pred\": 4.301640821702853}, {\"true\": 6.588888888888891, \"pred\": 4.836065047507575}, {\"true\": 2.5291666666666757, \"pred\": 2.36357763087775}, {\"true\": 7.961111111111123, \"pred\": 6.53673864390596}, {\"true\": 3.5121212121212135, \"pred\": 6.341080092484035}, {\"true\": 4.315384615384617, \"pred\": 4.3744375027246}, {\"true\": 6.538888888888889, \"pred\": 4.167533127064081}, {\"true\": 5.904166666666666, \"pred\": 3.9164908395158236}, {\"true\": 1.8722222222222236, \"pred\": 2.9366053499926834}, {\"true\": 4.083333333333335, \"pred\": 4.8923587052607616}, {\"true\": 4.505555555555556, \"pred\": 4.332582782149914}, {\"true\": 8.01547619047619, \"pred\": 7.30215860487678}, {\"true\": 4.010000000000001, \"pred\": 4.043908296712651}, {\"true\": 0.6083333333333368, \"pred\": 3.4874585242336766}, {\"true\": 4.4333333333333345, \"pred\": 3.503094548620933}, {\"true\": 3.012820512820514, \"pred\": 2.9977545158597034}, {\"true\": 5.617708333333333, \"pred\": 5.237285382025573}, {\"true\": 9.255128205128205, \"pred\": 5.6555676625693}, {\"true\": 5.705555555555558, \"pred\": 5.468957227281482}, {\"true\": 3.8375, \"pred\": 3.698696389977901}, {\"true\": 7.356944444444445, \"pred\": 7.0813407736870415}, {\"true\": 6.266666666666668, \"pred\": 5.518756514768525}, {\"true\": 5.520833333333332, \"pred\": 4.745580980695162}, {\"true\": 5.490740740740741, \"pred\": 5.913024183997189}, {\"true\": 6.157575757575757, \"pred\": 5.309946254144544}, {\"true\": 5.058333333333334, \"pred\": 4.005639880518673}, {\"true\": 1.2309523809523861, \"pred\": 3.53704861568722}, {\"true\": 2.5791666666666697, \"pred\": 3.681291088048181}, {\"true\": 6.711904761904762, \"pred\": 4.773546198911472}, {\"true\": 6.1466666666666665, \"pred\": 5.370599032613036}, {\"true\": 4.376388888888889, \"pred\": 4.368285134607483}, {\"true\": 1.4210854715202004e-14, \"pred\": 7.101060103376652}, {\"true\": 2.813636363636365, \"pred\": 3.6671153778763976}, {\"true\": 4.576190476190477, \"pred\": 5.049130286680411}, {\"true\": 6.331250000000004, \"pred\": 5.328979399933379}, {\"true\": 3.1650000000000014, \"pred\": 4.095428955534952}, {\"true\": 8.881784197001252e-15, \"pred\": 2.5078621752209354}, {\"true\": 3.6531250000000006, \"pred\": 4.608305380295413}, {\"true\": 6.84375, \"pred\": 5.1358917696524635}, {\"true\": 6.1958333333333355, \"pred\": 6.225996189025882}, {\"true\": 3.3541666666666705, \"pred\": 3.8583244392206515}, {\"true\": 4.63939393939394, \"pred\": 3.9663442686030326}, {\"true\": 4.072222222222224, \"pred\": 3.617533101953283}, {\"true\": 4.471794871794875, \"pred\": 4.656673137606346}, {\"true\": 3.643589743589746, \"pred\": 4.114220525575358}, {\"true\": 3.016666666666702, \"pred\": 2.7520047224963653}, {\"true\": 4.809375000000001, \"pred\": 7.965641754960663}, {\"true\": 6.328205128205128, \"pred\": 4.777497975869844}, {\"true\": 9.522727272727275, \"pred\": 6.753553362234382}, {\"true\": 5.483333333333334, \"pred\": 4.872431157245973}, {\"true\": 8.435714285714289, \"pred\": 6.691744386042865}, {\"true\": 3.6216666666666675, \"pred\": 4.263490127097817}, {\"true\": 3.9200000000000004, \"pred\": 4.490411626300209}, {\"true\": 4.233333333333338, \"pred\": 3.4955024009027937}, {\"true\": 4.376190476190476, \"pred\": 4.020682325307264}, {\"true\": 3.6984848484848487, \"pred\": 4.20073354617998}, {\"true\": 5.091666666666667, \"pred\": 5.726701762419729}, {\"true\": 4.712500000000002, \"pred\": 4.001628359494935}, {\"true\": 8.318333333333337, \"pred\": 8.334286016357986}, {\"true\": 4.4266666666666685, \"pred\": 4.06704066298711}, {\"true\": 4.732051282051284, \"pred\": 3.825488929112163}, {\"true\": 8.525, \"pred\": 7.821517095415208}, {\"true\": 5.5950000000000015, \"pred\": 4.424208987892123}, {\"true\": 5.546153846153846, \"pred\": 6.159653957780511}, {\"true\": 2.39166666666667, \"pred\": 2.7439474254409544}, {\"true\": 5.601190476190476, \"pred\": 4.66784182182405}, {\"true\": 4.960416666666671, \"pred\": 3.440370323559882}, {\"true\": 3.6404761904761926, \"pred\": 3.554309294638977}, {\"true\": 8.130303030303027, \"pred\": 8.355648001729149}, {\"true\": 3.9303030303030315, \"pred\": 3.5605578515995058}, {\"true\": 4.241666666666668, \"pred\": 3.7416094103756126}, {\"true\": 3.8291666666666675, \"pred\": 3.2556887791926648}, {\"true\": 2.2666666666666684, \"pred\": 3.173398394290283}, {\"true\": 4.951041666666667, \"pred\": 4.971635679831993}, {\"true\": 3.5287878787878784, \"pred\": 3.8804803838806667}, {\"true\": 2.1833333333333385, \"pred\": 2.3431629698019356}, {\"true\": 2.641666666666667, \"pred\": 4.631937620233179}, {\"true\": 4.8500000000000005, \"pred\": 6.442150214370683}, {\"true\": 10.553846153846157, \"pred\": 11.153612175403467}, {\"true\": 6.632222222222222, \"pred\": 5.540073587463365}, {\"true\": 4.7744444444444465, \"pred\": 5.008584768552474}, {\"true\": 2.195238095238096, \"pred\": 2.8359793002419953}, {\"true\": 9.801282051282053, \"pred\": 8.053685173051317}, {\"true\": 1.7763568394002505e-14, \"pred\": 2.0907888213843564}, {\"true\": 4.313636363636365, \"pred\": 4.10961512384049}, {\"true\": 4.648958333333334, \"pred\": 4.767903557099564}, {\"true\": 4.489583333333333, \"pred\": 4.670036309770097}, {\"true\": 3.2259259259259254, \"pred\": 3.9621812766537134}, {\"true\": 4.668333333333335, \"pred\": 5.757534515698767}, {\"true\": 4.198611111111112, \"pred\": 4.883510945416945}, {\"true\": 4.761111111111111, \"pred\": 3.5599373005097483}, {\"true\": 4.557291666666667, \"pred\": 4.674846424885946}, {\"true\": 5.998888888888889, \"pred\": 4.715608171198748}, {\"true\": 3.1351851851851866, \"pred\": 3.553613426727435}, {\"true\": 3.3583333333333343, \"pred\": 4.258716576133039}, {\"true\": 4.33888888888889, \"pred\": 3.8513180616541898}, {\"true\": 5.4037037037037035, \"pred\": 3.687513694501322}, {\"true\": 4.065151515151515, \"pred\": 4.476604208634844}, {\"true\": 4.722222222222225, \"pred\": 3.8200188712409}, {\"true\": 5.183333333333333, \"pred\": 5.540632101804346}, {\"true\": 9.972222222222223, \"pred\": 6.324858055789711}, {\"true\": 2.425000000000009, \"pred\": 1.7631191841140483}, {\"true\": 7.25, \"pred\": 6.36154894893372}, {\"true\": 4.0888888888888895, \"pred\": 4.7923652118674935}, {\"true\": 2.151388888888889, \"pred\": 4.508103909602405}, {\"true\": 3.2705128205128213, \"pred\": 4.589380220367373}, {\"true\": 0.8366666666666689, \"pred\": 3.1315555432893194}, {\"true\": 5.204166666666672, \"pred\": 5.660177693330067}, {\"true\": 3.079487179487181, \"pred\": 3.601238302754604}, {\"true\": 2.000000000000005, \"pred\": 2.505614691876868}, {\"true\": 2.6282051282051295, \"pred\": 4.845759247497416}, {\"true\": 1.7875000000000034, \"pred\": 3.603817421171619}, {\"true\": 1.1842378929335004e-14, \"pred\": 2.857828262806042}, {\"true\": 11.172222222222224, \"pred\": 5.674081586274625}, {\"true\": 3.5266666666666664, \"pred\": 2.911392742589278}, {\"true\": 5.4486111111111155, \"pred\": 4.779848550119158}, {\"true\": 6.544444444444444, \"pred\": 5.391382154498224}, {\"true\": 4.04814814814815, \"pred\": 3.6870913484145946}, {\"true\": 9.620833333333339, \"pred\": 8.282691139228394}, {\"true\": 3.550000000000012, \"pred\": 2.9253108851335465}, {\"true\": 4.0041666666666735, \"pred\": 2.769525714940325}, {\"true\": 5.160256410256412, \"pred\": 4.661911096503777}, {\"true\": 2.6287878787878807, \"pred\": 3.6293321491415553}, {\"true\": 6.180952380952384, \"pred\": 5.530066964566429}, {\"true\": 5.380000000000005, \"pred\": 2.872338424004135}, {\"true\": 6.406944444444448, \"pred\": 5.254584321892124}, {\"true\": 10.262121212121214, \"pred\": 7.193866061704951}, {\"true\": 5.895833333333335, \"pred\": 6.957376145304013}, {\"true\": 2.002777777777783, \"pred\": 3.2788776253652245}, {\"true\": 3.3969696969696987, \"pred\": 4.125244086217355}, {\"true\": 5.859375000000001, \"pred\": 4.773252422423429}, {\"true\": 1.9142857142857144, \"pred\": 3.050129045854795}, {\"true\": 0.5866666666666738, \"pred\": 1.8264489120274452}, {\"true\": 4.833333333333336, \"pred\": 4.679289797819369}, {\"true\": 2.2858974358974384, \"pred\": 4.1965130295625475}, {\"true\": 11.369444444444445, \"pred\": 5.620506779019434}, {\"true\": 3.8427083333333334, \"pred\": 4.6492292287550985}, {\"true\": 5.422222222222223, \"pred\": 7.868408813592878}, {\"true\": 2.845833333333335, \"pred\": 2.7700532035677377}, {\"true\": 1.7380952380952401, \"pred\": 3.153822507105668}, {\"true\": 4.253333333333333, \"pred\": 3.3705702874033623}, {\"true\": 4.244444444444451, \"pred\": 3.452573295385885}, {\"true\": 5.38452380952381, \"pred\": 4.33308360434936}, {\"true\": 1.424999999999999, \"pred\": 2.8296382844826358}, {\"true\": 5.1648148148148145, \"pred\": 3.852699126443513}, {\"true\": 2.556666666666668, \"pred\": 4.6635670625486165}, {\"true\": 5.047222222222228, \"pred\": 4.071324754952845}, {\"true\": 7.231250000000001, \"pred\": 5.5958667988444555}, {\"true\": 2.473809523809525, \"pred\": 3.2789336013075703}, {\"true\": 2.883333333333338, \"pred\": 2.1641452322595685}, {\"true\": 2.0777777777777806, \"pred\": 3.3863543380835885}, {\"true\": 4.286111111111113, \"pred\": 5.5156042683306445}, {\"true\": 2.3616666666666704, \"pred\": 3.2819518933793095}, {\"true\": 5.432352941176471, \"pred\": 6.195025551622247}, {\"true\": 4.160000000000006, \"pred\": 2.603466955795564}, {\"true\": 4.615555555555557, \"pred\": 5.098733349242253}, {\"true\": 1.5987211554602254e-14, \"pred\": 1.8399972741882353}, {\"true\": 5.056060606060606, \"pred\": 5.090418443910026}, {\"true\": 6.742592592592595, \"pred\": 5.353503391205161}, {\"true\": 2.143333333333336, \"pred\": 5.501262963640471}, {\"true\": 0.0, \"pred\": 2.0607947788337566}, {\"true\": 6.70952380952381, \"pred\": 6.013805642544026}, {\"true\": 1.4944444444444498, \"pred\": 2.885210678775222}, {\"true\": 6.360000000000001, \"pred\": 5.241274473054654}, {\"true\": 7.075000000000003, \"pred\": 7.075238199367577}, {\"true\": 5.5588235294117645, \"pred\": 5.040531865303098}, {\"true\": 2.660256410256411, \"pred\": 4.694572512138285}, {\"true\": 0.5666666666666702, \"pred\": 2.5884382165285564}, {\"true\": 8.925925925925926, \"pred\": 4.187943177129482}, {\"true\": 3.935897435897437, \"pred\": 3.6529774766756207}, {\"true\": 1.9857142857142907, \"pred\": 2.212339425274472}, {\"true\": 5.298611111111111, \"pred\": 5.551021445607388}, {\"true\": 4.9250000000000025, \"pred\": 4.528463119791424}, {\"true\": 2.7097222222222235, \"pred\": 3.1156093219906826}, {\"true\": 4.965384615384616, \"pred\": 4.088448904529458}, {\"true\": 5.965151515151518, \"pred\": 5.977657306378185}, {\"true\": 13.033333333333335, \"pred\": 8.272153350912872}, {\"true\": 12.790909090909095, \"pred\": 8.464245577931276}, {\"true\": 6.9742424242424255, \"pred\": 6.343311624536717}, {\"true\": 5.280555555555557, \"pred\": 5.873360110427501}, {\"true\": 3.406666666666667, \"pred\": 3.052971099724777}, {\"true\": 2.700000000000003, \"pred\": 2.198118078579212}, {\"true\": 4.965625000000002, \"pred\": 5.031172658380845}, {\"true\": 6.175000000000001, \"pred\": 4.927574342785398}, {\"true\": 5.154166666666671, \"pred\": 5.6843232808151125}, {\"true\": 3.729629629629634, \"pred\": 2.4425914788191974}, {\"true\": 2.5666666666666687, \"pred\": 4.377283368452197}, {\"true\": 3.2633333333333403, \"pred\": 2.3903971806820725}, {\"true\": 6.01923076923077, \"pred\": 6.45829921390514}, {\"true\": 3.925000000000003, \"pred\": 3.560599201790882}, {\"true\": 2.2435897435897445, \"pred\": 4.723912986776191}, {\"true\": 5.770000000000002, \"pred\": 5.765631030303167}, {\"true\": 7.2583333333333355, \"pred\": 6.520054905774029}, {\"true\": 2.160606060606062, \"pred\": 3.5915172963780764}, {\"true\": 4.888888888888889, \"pred\": 3.756399613954609}, {\"true\": 6.542307692307692, \"pred\": 6.6819237546736785}, {\"true\": 1.9250000000000018, \"pred\": 3.107599941062264}, {\"true\": 3.3388888888889006, \"pred\": 2.409767976875766}, {\"true\": 2.937500000000008, \"pred\": 3.4249003647600165}, {\"true\": 5.861111111111111, \"pred\": 6.097354925746879}, {\"true\": 4.645238095238098, \"pred\": 5.574728055339939}, {\"true\": 7.269230769230769, \"pred\": 6.680800032580135}, {\"true\": 5.48846153846154, \"pred\": 5.089657783714629}, {\"true\": 1.7933333333333343, \"pred\": 2.8553347886625873}, {\"true\": 6.210000000000002, \"pred\": 4.364614619220383}, {\"true\": 2.8416666666666828, \"pred\": 3.286734380593811}, {\"true\": 3.882142857142857, \"pred\": 4.929391071478864}, {\"true\": 3.3437500000000004, \"pred\": 6.219833675523129}, {\"true\": 2.430000000000004, \"pred\": 1.7795671931716492}, {\"true\": 5.1466666666666665, \"pred\": 3.3737973992298778}, {\"true\": 4.760833333333332, \"pred\": 5.777132386548098}, {\"true\": 3.3192307692307708, \"pred\": 4.086106397458519}, {\"true\": 2.681250000000002, \"pred\": 2.4079780844200496}, {\"true\": 8.178888888888888, \"pred\": 7.7649058705422025}, {\"true\": 1.8625000000000058, \"pred\": 2.0352684239092578}, {\"true\": 4.130555555555561, \"pred\": 2.8841191536027857}, {\"true\": 3.8611111111111214, \"pred\": 3.119138166448471}, {\"true\": 6.135714285714287, \"pred\": 5.837026200688816}, {\"true\": 7.183333333333341, \"pred\": 3.520459657916253}, {\"true\": 2.9866666666666744, \"pred\": 2.268101821388632}, {\"true\": 1.825000000000009, \"pred\": 1.8293717431233854}, {\"true\": 1.473333333333336, \"pred\": 2.9859649707684524}, {\"true\": 4.700000000000005, \"pred\": 3.4707681453521597}, {\"true\": 2.647222222222228, \"pred\": 1.7914034568747876}, {\"true\": 5.3533333333333335, \"pred\": 6.0912117514072435}, {\"true\": 3.1266666666666687, \"pred\": 4.250825895812789}, {\"true\": 1.3416666666666688, \"pred\": 3.7522796583075477}, {\"true\": 3.706666666666668, \"pred\": 3.813402112094381}, {\"true\": 5.357142857142857, \"pred\": 5.63971596080781}, {\"true\": 4.574999999999999, \"pred\": 5.163855314160258}, {\"true\": 3.2064102564102566, \"pred\": 4.0115883836202935}, {\"true\": 5.491666666666666, \"pred\": 6.125524171979738}, {\"true\": 4.284615384615387, \"pred\": 5.296962289324047}, {\"true\": 3.1954545454545453, \"pred\": 3.7775482441271735}, {\"true\": 6.49166666666667, \"pred\": 4.606510531081238}, {\"true\": 4.048148148148149, \"pred\": 3.5990559582021016}, {\"true\": 3.685000000000001, \"pred\": 4.059874704021508}], \"data-e53f43667b4e74c9774fcfd475bf1d46\": [{\"x\": 0.0, \"y\": 0.0}, {\"x\": 1.6666666666666667, \"y\": 1.6666666666666667}, {\"x\": 3.3333333333333335, \"y\": 3.3333333333333335}, {\"x\": 5.0, \"y\": 5.0}, {\"x\": 6.666666666666667, \"y\": 6.666666666666667}, {\"x\": 8.333333333333334, \"y\": 8.333333333333334}, {\"x\": 10.0, \"y\": 10.0}, {\"x\": 11.666666666666668, \"y\": 11.666666666666668}, {\"x\": 13.333333333333334, \"y\": 13.333333333333334}, {\"x\": 15.0, \"y\": 15.0}]}}, {\"mode\": \"vega-lite\"});\n",
       "</script>"
      ],
      "text/plain": [
       "alt.LayerChart(...)"
      ]
     },
     "metadata": {},
     "output_type": "display_data"
    },
    {
     "name": "stdout",
     "output_type": "stream",
     "text": [
      "mae=1.1248534351674826\n",
      " mse=2.68603662894179\n",
      " acc1min=58.15850815850816\n",
      " acc3min=94.98834498834499\n",
      " acc5min=98.95104895104895\n",
      "And R2 =  0.46597562539647897\n"
     ]
    }
   ],
   "source": [
    "flight_df = dep_arr_df_twy.query(\"end_pb==end_pb & mvt_type=='DEP'\")\n",
    "\n",
    "rwy_cols = [\"rwy__10\", \"rwy__14\", \"rwy__16\", \"rwy__28\", \"rwy__32\", \"rwy__34\"]\n",
    "\n",
    "taxi_path_related = [\"taxi_dist\", \"angle_sum\"]  # To add if relevant\n",
    "\n",
    "to_scale_cols = [\n",
    "    \"hh_num\",\n",
    "    #  \"avg_outbound_delay_lastXmin\",\n",
    "    \"nominal\",\n",
    "    \"busy\",\n",
    "    \"disrupted\",\n",
    "    \"not_nom_arrival_ratio\",\n",
    "    \"press\",\n",
    "    \"temp\",\n",
    "    \"atmap_visibility\",\n",
    "    \"atmap_wind\",\n",
    "    \"atmap_precipitation\",\n",
    "    \"atmap_freezing\",\n",
    "    \"atmap_danger\",\n",
    "    \"nb_arr\",\n",
    "    \"nb_dep\",\n",
    "    \"nb\",\n",
    "    # \"H\",\n",
    "    #  \"L\",\n",
    "    # \"L/M\",\n",
    "    # \"M\",\n",
    "    \"H_count\",\n",
    "    \"L_count\",\n",
    "    \"L/M_count\",\n",
    "    \"M_count\",\n",
    "] + twy_cols\n",
    "\n",
    "feature_columns = to_scale_cols + rwy_cols  #\n",
    "\n",
    "target_column = \"avg_outbound_delay_lastXmin\"  #'total_holding_time_minutes'      avg_outbound_delay_lastXmin\n",
    "\n",
    "flight_df = onehot_runways(flight_df)\n",
    "data_df = flight_df.query(\"config=='NORTH0' & mvt_type=='DEP' & end_pb==end_pb\")[\n",
    "    feature_columns + [target_column]\n",
    "].dropna()\n",
    "\n",
    "\n",
    "input_df = data_df[feature_columns]\n",
    "target_df = data_df[[target_column]]\n",
    "\n",
    "\n",
    "from sklearn.preprocessing import StandardScaler\n",
    "\n",
    "data_train, data_test, labels_train, labels_test = train_test_split(\n",
    "    input_df,\n",
    "    target_df,\n",
    "    test_size=0.20,\n",
    "    random_state=42,\n",
    ")\n",
    "\n",
    "\"\"\"\n",
    "sc = StandardScaler()\n",
    "data_train = sc.fit_transform(data_train)\n",
    "data_test = sc.transform(data_test)\"\"\"\n",
    "\"\"\"\n",
    "model_rf = RandomForestRegressor(n_estimators=150, min_samples_split=10)\"\"\"\n",
    "\n",
    "clf = RandomForestRegressor(n_estimators=150, min_samples_split=10)\n",
    "\n",
    "\n",
    "sc = StandardScaler()\n",
    "data_train = sc.fit_transform(data_train)\n",
    "data_test = sc.transform(data_test)\n",
    "\n",
    "# fit the model on the whole dataset\n",
    "clf.fit(data_train, labels_train)\n",
    "# make a single prediction\n",
    "predicted = clf.predict(data_test)\n",
    "\n",
    "# plot pred vs truth\n",
    "data_chart = pd.DataFrame(\n",
    "    {\"true\": labels_test.values.reshape((-1,)), \"pred\": predicted}\n",
    ")\n",
    "predVStrue_chart = alt.Chart(data_chart).mark_circle(opacity=0.5).encode(\n",
    "    x=\"true\", y=\"pred\"\n",
    ") + alt.Chart(\n",
    "    pd.DataFrame({\"x\": np.linspace(0, 15, 10), \"y\": np.linspace(0, 15, 10)})\n",
    ").mark_line(\n",
    "    color=\"black\"\n",
    ").encode(\n",
    "    x=\"x\", y=\"y\"\n",
    ")\n",
    "display(predVStrue_chart)\n",
    "\n",
    "from sklearn.metrics import mean_squared_error, mean_absolute_error, r2_score\n",
    "\n",
    "mae = mean_absolute_error(labels_test.values.reshape((-1,)), predicted)\n",
    "mse = mean_squared_error(labels_test.values.reshape((-1,)), predicted)\n",
    "acc1min = within_Xmin(labels_test.values.reshape((-1,)), predicted)\n",
    "acc3min = within_Xmin(labels_test.values.reshape((-1,)), predicted, m=3)\n",
    "acc5min = within_Xmin(labels_test.values.reshape((-1,)), predicted, m=5)\n",
    "print(\n",
    "    f\"mae={mae}\\n mse={mse}\\n acc1min={acc1min}\\n acc3min={acc3min}\\n acc5min={acc5min}\"\n",
    ")\n",
    "print(\"And R2 = \", r2_score(labels_test.values.reshape((-1,)), predicted))"
   ]
  },
  {
   "cell_type": "code",
   "execution_count": 25,
   "id": "315ea85e-752a-4be7-ba85-eb829395dc16",
   "metadata": {
    "execution": {
     "iopub.execute_input": "2021-06-25T13:18:06.182226Z",
     "iopub.status.busy": "2021-06-25T13:18:06.181959Z",
     "iopub.status.idle": "2021-06-25T13:18:06.188456Z",
     "shell.execute_reply": "2021-06-25T13:18:06.187877Z",
     "shell.execute_reply.started": "2021-06-25T13:18:06.182203Z"
    },
    "tags": []
   },
   "outputs": [
    {
     "name": "stderr",
     "output_type": "stream",
     "text": [
      "/home/service/miniconda3/envs/py39v7/lib/python3.8/site-packages/ipykernel/ipkernel.py:283: DeprecationWarning: `should_run_async` will not call `transform_cell` automatically in the future. Please pass the result to `transformed_cell` argument and any exception that happen during thetransform in `preprocessing_exc_tuple` in IPython 7.17 and above.\n",
      "  and should_run_async(code)\n"
     ]
    },
    {
     "data": {
      "text/plain": [
       "(3440, 42)"
      ]
     },
     "execution_count": 25,
     "metadata": {},
     "output_type": "execute_result"
    }
   ],
   "source": [
    "data_train.shape"
   ]
  },
  {
   "cell_type": "code",
   "execution_count": 26,
   "id": "bb7b8fd2-e7a5-4b55-a3d1-9596c851872e",
   "metadata": {
    "execution": {
     "iopub.execute_input": "2021-06-25T13:18:07.260023Z",
     "iopub.status.busy": "2021-06-25T13:18:07.259759Z",
     "iopub.status.idle": "2021-06-25T13:18:07.265604Z",
     "shell.execute_reply": "2021-06-25T13:18:07.265060Z",
     "shell.execute_reply.started": "2021-06-25T13:18:07.260001Z"
    },
    "tags": []
   },
   "outputs": [
    {
     "data": {
      "text/plain": [
       "'hh_num nominal busy disrupted not_nom_arrival_ratio press temp atmap_visibility atmap_wind atmap_precipitation atmap_freezing atmap_danger nb_arr nb_dep nb H_count L_count L/M_count M_count H_occ K_occ B_occ F_occ L_occ J_occ E_occ D_occ C_occ N_occ A_occ M_occ Y_occ R_occ G_occ Z_occ P_occ rwy__10 rwy__14 rwy__16 rwy__28 rwy__32 rwy__34'"
      ]
     },
     "execution_count": 26,
     "metadata": {},
     "output_type": "execute_result"
    }
   ],
   "source": [
    "\" \".join(feature_columns)"
   ]
  },
  {
   "cell_type": "code",
   "execution_count": null,
   "id": "3c1aa4b8-1d9f-468b-a788-4f626bbeeeb5",
   "metadata": {},
   "outputs": [],
   "source": [
    "ADDING TWY OCC\n",
    "Target = total_holding_time_minutes\n",
    "'hh_num nominal busy disrupted not_nom_arrival_ratio press temp atmap_visibility atmap_wind atmap_precipitation atmap_freezing atmap_danger nb_arr nb_dep nb H_count L_count L/M_count M_count H_occ K_occ B_occ F_occ L_occ J_occ E_occ D_occ C_occ N_occ A_occ M_occ Y_occ R_occ G_occ Z_occ P_occ rwy__10 rwy__14 rwy__16 rwy__28 rwy__32 rwy__34'\n",
    "mae=3.015150747832123\n",
    "mse=16.049552348340892\n",
    "acc1min=21.511627906976745\n",
    "acc3min=57.44186046511628\n",
    "acc5min=84.65116279069768\n",
    "And R2 =  0.2571774895290615\n",
    "\n",
    "\n",
    "Same features\n",
    "Target = avgLastXminu\n",
    "mae=1.1248534351674826\n",
    "mse=2.68603662894179\n",
    "acc1min=58.15850815850816\n",
    "acc3min=94.98834498834499\n",
    "acc5min=98.95104895104895\n",
    "And R2 =  0.46597562539647897"
   ]
  },
  {
   "cell_type": "markdown",
   "id": "295a9e53-fe8d-4f49-9382-31e5626fb608",
   "metadata": {},
   "source": [
    "# Classifier"
   ]
  },
  {
   "cell_type": "code",
   "execution_count": 135,
   "id": "7499628b-5270-432c-a339-0a19bd8683e6",
   "metadata": {
    "execution": {
     "iopub.execute_input": "2021-06-28T12:35:18.662276Z",
     "iopub.status.busy": "2021-06-28T12:35:18.661691Z",
     "iopub.status.idle": "2021-06-28T12:35:18.671041Z",
     "shell.execute_reply": "2021-06-28T12:35:18.670317Z",
     "shell.execute_reply.started": "2021-06-28T12:35:18.662218Z"
    },
    "tags": []
   },
   "outputs": [],
   "source": [
    "predict_next_avg_delay_df[\"nextAvgDelay_cat\"] = np.where(\n",
    "    predict_next_avg_delay_df[\"nextAvgDelay\"] >= 8, 1, 0\n",
    ")"
   ]
  },
  {
   "cell_type": "code",
   "execution_count": 146,
   "id": "66923e54-2f02-49ce-9a62-5d16eb492323",
   "metadata": {
    "execution": {
     "iopub.execute_input": "2021-06-28T13:21:07.088006Z",
     "iopub.status.busy": "2021-06-28T13:21:07.087697Z",
     "iopub.status.idle": "2021-06-28T13:21:07.095788Z",
     "shell.execute_reply": "2021-06-28T13:21:07.094931Z",
     "shell.execute_reply.started": "2021-06-28T13:21:07.087979Z"
    }
   },
   "outputs": [
    {
     "name": "stderr",
     "output_type": "stream",
     "text": [
      "/home/service/miniconda3/envs/py39v7/lib/python3.8/site-packages/ipykernel/ipkernel.py:283: DeprecationWarning: `should_run_async` will not call `transform_cell` automatically in the future. Please pass the result to `transformed_cell` argument and any exception that happen during thetransform in `preprocessing_exc_tuple` in IPython 7.17 and above.\n",
      "  and should_run_async(code)\n"
     ]
    }
   ],
   "source": [
    "atmap_cols = [\n",
    "    \"atmap_visibility\",\n",
    "    \"atmap_wind\",\n",
    "    \"atmap_precipitation\",\n",
    "    \"atmap_freezing\",\n",
    "    \"atmap_danger\",\n",
    "]"
   ]
  },
  {
   "cell_type": "code",
   "execution_count": 155,
   "id": "2e23bcec-a95c-4a37-b0c3-79c0adda7104",
   "metadata": {
    "execution": {
     "iopub.execute_input": "2021-06-28T13:29:17.372445Z",
     "iopub.status.busy": "2021-06-28T13:29:17.372148Z",
     "iopub.status.idle": "2021-06-28T13:29:17.413721Z",
     "shell.execute_reply": "2021-06-28T13:29:17.412740Z",
     "shell.execute_reply.started": "2021-06-28T13:29:17.372417Z"
    },
    "tags": []
   },
   "outputs": [
    {
     "name": "stderr",
     "output_type": "stream",
     "text": [
      "/home/service/miniconda3/envs/py39v7/lib/python3.8/site-packages/ipykernel/ipkernel.py:283: DeprecationWarning: `should_run_async` will not call `transform_cell` automatically in the future. Please pass the result to `transformed_cell` argument and any exception that happen during thetransform in `preprocessing_exc_tuple` in IPython 7.17 and above.\n",
      "  and should_run_async(code)\n"
     ]
    }
   ],
   "source": [
    "def assign_atmap_weather_score(flight_df, atmap_cols=None):\n",
    "    \"\"\"\n",
    "    Suppose that the dataframe given has atmap score for each category\n",
    "    Assign the mean value between those categories to a new column 'atmap_score'\n",
    "    \"\"\"\n",
    "    if atmap_cols is None:\n",
    "        atmap_cols = [\n",
    "            \"atmap_visibility\",\n",
    "            \"atmap_wind\",\n",
    "            \"atmap_precipitation\",\n",
    "            \"atmap_freezing\",\n",
    "            \"atmap_danger\",\n",
    "        ]\n",
    "    n=len(\n",
    "        atmap_cols\n",
    "    )\n",
    "    flight_df[\"atmap_score\"] = flight_df[atmap_cols].agg(\"sum\", axis=1)\n",
    "    flight_df[\"atmap_score\"] = predict_next_avg_delay_df_[\"atmap_score\"] / n\n",
    "    return flight_df\n"
   ]
  },
  {
   "cell_type": "code",
   "execution_count": 173,
   "id": "dc8a8c90-1ff6-437a-848f-881bd7093cd5",
   "metadata": {
    "execution": {
     "iopub.execute_input": "2021-06-28T13:37:29.854653Z",
     "iopub.status.busy": "2021-06-28T13:37:29.854066Z",
     "iopub.status.idle": "2021-06-28T13:37:29.907236Z",
     "shell.execute_reply": "2021-06-28T13:37:29.906212Z",
     "shell.execute_reply.started": "2021-06-28T13:37:29.854597Z"
    },
    "tags": []
   },
   "outputs": [
    {
     "name": "stderr",
     "output_type": "stream",
     "text": [
      "<ipython-input-155-156fa210c051>:14: SettingWithCopyWarning: \n",
      "A value is trying to be set on a copy of a slice from a DataFrame.\n",
      "Try using .loc[row_indexer,col_indexer] = value instead\n",
      "\n",
      "See the caveats in the documentation: https://pandas.pydata.org/pandas-docs/stable/user_guide/indexing.html#returning-a-view-versus-a-copy\n",
      "  flight_df[\"atmap_score\"] = flight_df[atmap_cols].agg(\"sum\", axis=1)\n",
      "<ipython-input-155-156fa210c051>:15: SettingWithCopyWarning: \n",
      "A value is trying to be set on a copy of a slice from a DataFrame.\n",
      "Try using .loc[row_indexer,col_indexer] = value instead\n",
      "\n",
      "See the caveats in the documentation: https://pandas.pydata.org/pandas-docs/stable/user_guide/indexing.html#returning-a-view-versus-a-copy\n",
      "  flight_df[\"atmap_score\"] = predict_next_avg_delay_df_[\"atmap_score\"] / len(\n"
     ]
    }
   ],
   "source": [
    "predict_next_avg_delay_df_nodanger = assign_atmap_weather_score(\n",
    "    predict_next_avg_delay_df.query(\"atmap_danger<5\")\n",
    ")"
   ]
  },
  {
   "cell_type": "code",
   "execution_count": 174,
   "id": "f627a862-c9e9-4ec0-b549-bb568a0ac159",
   "metadata": {
    "execution": {
     "iopub.execute_input": "2021-06-28T13:37:30.433329Z",
     "iopub.status.busy": "2021-06-28T13:37:30.432789Z",
     "iopub.status.idle": "2021-06-28T13:37:30.444865Z",
     "shell.execute_reply": "2021-06-28T13:37:30.444090Z",
     "shell.execute_reply.started": "2021-06-28T13:37:30.433273Z"
    },
    "tags": []
   },
   "outputs": [
    {
     "name": "stderr",
     "output_type": "stream",
     "text": [
      "/home/service/miniconda3/envs/py39v7/lib/python3.8/site-packages/ipykernel/ipkernel.py:283: DeprecationWarning: `should_run_async` will not call `transform_cell` automatically in the future. Please pass the result to `transformed_cell` argument and any exception that happen during thetransform in `preprocessing_exc_tuple` in IPython 7.17 and above.\n",
      "  and should_run_async(code)\n"
     ]
    },
    {
     "data": {
      "text/plain": [
       "((16400, 70), (16467, 70))"
      ]
     },
     "execution_count": 174,
     "metadata": {},
     "output_type": "execute_result"
    }
   ],
   "source": [
    "predict_next_avg_delay_df_nodanger.shape, predict_next_avg_delay_df.shape"
   ]
  },
  {
   "cell_type": "code",
   "execution_count": 176,
   "id": "f6fff979-612a-4928-ae92-81bdc0cc3f6e",
   "metadata": {
    "execution": {
     "iopub.execute_input": "2021-06-28T13:39:22.217988Z",
     "iopub.status.busy": "2021-06-28T13:39:22.217442Z",
     "iopub.status.idle": "2021-06-28T13:39:22.238567Z",
     "shell.execute_reply": "2021-06-28T13:39:22.237715Z",
     "shell.execute_reply.started": "2021-06-28T13:39:22.217933Z"
    },
    "tags": []
   },
   "outputs": [
    {
     "name": "stderr",
     "output_type": "stream",
     "text": [
      "/home/service/miniconda3/envs/py39v7/lib/python3.8/site-packages/ipykernel/ipkernel.py:283: DeprecationWarning: `should_run_async` will not call `transform_cell` automatically in the future. Please pass the result to `transformed_cell` argument and any exception that happen during thetransform in `preprocessing_exc_tuple` in IPython 7.17 and above.\n",
      "  and should_run_async(code)\n"
     ]
    },
    {
     "data": {
      "text/html": [
       "<div>\n",
       "<style scoped>\n",
       "    .dataframe tbody tr th:only-of-type {\n",
       "        vertical-align: middle;\n",
       "    }\n",
       "\n",
       "    .dataframe tbody tr th {\n",
       "        vertical-align: top;\n",
       "    }\n",
       "\n",
       "    .dataframe thead th {\n",
       "        text-align: right;\n",
       "    }\n",
       "</style>\n",
       "<table border=\"1\" class=\"dataframe\">\n",
       "  <thead>\n",
       "    <tr style=\"text-align: right;\">\n",
       "      <th></th>\n",
       "      <th>atmap_visibility</th>\n",
       "      <th>atmap_wind</th>\n",
       "      <th>atmap_precipitation</th>\n",
       "      <th>atmap_freezing</th>\n",
       "      <th>atmap_danger</th>\n",
       "    </tr>\n",
       "  </thead>\n",
       "  <tbody>\n",
       "    <tr>\n",
       "      <th>207</th>\n",
       "      <td>0</td>\n",
       "      <td>0</td>\n",
       "      <td>0</td>\n",
       "      <td>0</td>\n",
       "      <td>24</td>\n",
       "    </tr>\n",
       "    <tr>\n",
       "      <th>208</th>\n",
       "      <td>0</td>\n",
       "      <td>0</td>\n",
       "      <td>0</td>\n",
       "      <td>0</td>\n",
       "      <td>24</td>\n",
       "    </tr>\n",
       "    <tr>\n",
       "      <th>209</th>\n",
       "      <td>0</td>\n",
       "      <td>0</td>\n",
       "      <td>0</td>\n",
       "      <td>0</td>\n",
       "      <td>24</td>\n",
       "    </tr>\n",
       "    <tr>\n",
       "      <th>210</th>\n",
       "      <td>0</td>\n",
       "      <td>0</td>\n",
       "      <td>0</td>\n",
       "      <td>0</td>\n",
       "      <td>24</td>\n",
       "    </tr>\n",
       "    <tr>\n",
       "      <th>211</th>\n",
       "      <td>0</td>\n",
       "      <td>0</td>\n",
       "      <td>0</td>\n",
       "      <td>0</td>\n",
       "      <td>24</td>\n",
       "    </tr>\n",
       "    <tr>\n",
       "      <th>...</th>\n",
       "      <td>...</td>\n",
       "      <td>...</td>\n",
       "      <td>...</td>\n",
       "      <td>...</td>\n",
       "      <td>...</td>\n",
       "    </tr>\n",
       "    <tr>\n",
       "      <th>10282</th>\n",
       "      <td>0</td>\n",
       "      <td>0</td>\n",
       "      <td>0</td>\n",
       "      <td>0</td>\n",
       "      <td>24</td>\n",
       "    </tr>\n",
       "    <tr>\n",
       "      <th>10283</th>\n",
       "      <td>0</td>\n",
       "      <td>0</td>\n",
       "      <td>0</td>\n",
       "      <td>0</td>\n",
       "      <td>24</td>\n",
       "    </tr>\n",
       "    <tr>\n",
       "      <th>10284</th>\n",
       "      <td>0</td>\n",
       "      <td>0</td>\n",
       "      <td>0</td>\n",
       "      <td>0</td>\n",
       "      <td>24</td>\n",
       "    </tr>\n",
       "    <tr>\n",
       "      <th>10285</th>\n",
       "      <td>0</td>\n",
       "      <td>0</td>\n",
       "      <td>0</td>\n",
       "      <td>0</td>\n",
       "      <td>24</td>\n",
       "    </tr>\n",
       "    <tr>\n",
       "      <th>10286</th>\n",
       "      <td>0</td>\n",
       "      <td>0</td>\n",
       "      <td>0</td>\n",
       "      <td>0</td>\n",
       "      <td>24</td>\n",
       "    </tr>\n",
       "  </tbody>\n",
       "</table>\n",
       "<p>67 rows × 5 columns</p>\n",
       "</div>"
      ],
      "text/plain": [
       "       atmap_visibility  atmap_wind  atmap_precipitation  atmap_freezing  \\\n",
       "207                   0           0                    0               0   \n",
       "208                   0           0                    0               0   \n",
       "209                   0           0                    0               0   \n",
       "210                   0           0                    0               0   \n",
       "211                   0           0                    0               0   \n",
       "...                 ...         ...                  ...             ...   \n",
       "10282                 0           0                    0               0   \n",
       "10283                 0           0                    0               0   \n",
       "10284                 0           0                    0               0   \n",
       "10285                 0           0                    0               0   \n",
       "10286                 0           0                    0               0   \n",
       "\n",
       "       atmap_danger  \n",
       "207              24  \n",
       "208              24  \n",
       "209              24  \n",
       "210              24  \n",
       "211              24  \n",
       "...             ...  \n",
       "10282            24  \n",
       "10283            24  \n",
       "10284            24  \n",
       "10285            24  \n",
       "10286            24  \n",
       "\n",
       "[67 rows x 5 columns]"
      ]
     },
     "execution_count": 176,
     "metadata": {},
     "output_type": "execute_result"
    }
   ],
   "source": [
    "predict_next_avg_delay_df.query(\"atmap_danger>=5\")[atmap_cols]"
   ]
  },
  {
   "cell_type": "code",
   "execution_count": 189,
   "id": "a886003e-3f48-4a2f-bb4f-57d953d4e0d0",
   "metadata": {
    "collapsed": true,
    "execution": {
     "iopub.execute_input": "2021-06-29T17:54:14.976259Z",
     "iopub.status.busy": "2021-06-29T17:54:14.975974Z",
     "iopub.status.idle": "2021-06-29T17:54:16.400943Z",
     "shell.execute_reply": "2021-06-29T17:54:16.400273Z",
     "shell.execute_reply.started": "2021-06-29T17:54:14.976234Z"
    },
    "jupyter": {
     "outputs_hidden": true
    },
    "tags": []
   },
   "outputs": [
    {
     "name": "stderr",
     "output_type": "stream",
     "text": [
      "/home/service/miniconda3/envs/py39v7/lib/python3.8/site-packages/sklearn/ensemble/_forest.py:569: DeprecationWarning: `np.int` is a deprecated alias for the builtin `int`. To silence this warning, use `int` by itself. Doing this will not modify any behavior and is safe. When replacing `np.int`, you may wish to use e.g. `np.int64` or `np.int32` to specify the precision. If you wish to review your current use, check the release note link for additional information.\n",
      "Deprecated in NumPy 1.20; for more details and guidance: https://numpy.org/devdocs/release/1.20.0-notes.html#deprecations\n",
      "  y_store_unique_indices = np.zeros(y.shape, dtype=np.int)\n",
      "/home/service/miniconda3/envs/py39v7/lib/python3.8/site-packages/sklearn/tree/_classes.py:190: DeprecationWarning: `np.int` is a deprecated alias for the builtin `int`. To silence this warning, use `int` by itself. Doing this will not modify any behavior and is safe. When replacing `np.int`, you may wish to use e.g. `np.int64` or `np.int32` to specify the precision. If you wish to review your current use, check the release note link for additional information.\n",
      "Deprecated in NumPy 1.20; for more details and guidance: https://numpy.org/devdocs/release/1.20.0-notes.html#deprecations\n",
      "  y_encoded = np.zeros(y.shape, dtype=np.int)\n",
      "/home/service/miniconda3/envs/py39v7/lib/python3.8/site-packages/sklearn/tree/_classes.py:190: DeprecationWarning: `np.int` is a deprecated alias for the builtin `int`. To silence this warning, use `int` by itself. Doing this will not modify any behavior and is safe. When replacing `np.int`, you may wish to use e.g. `np.int64` or `np.int32` to specify the precision. If you wish to review your current use, check the release note link for additional information.\n",
      "Deprecated in NumPy 1.20; for more details and guidance: https://numpy.org/devdocs/release/1.20.0-notes.html#deprecations\n",
      "  y_encoded = np.zeros(y.shape, dtype=np.int)\n",
      "/home/service/miniconda3/envs/py39v7/lib/python3.8/site-packages/sklearn/tree/_classes.py:190: DeprecationWarning: `np.int` is a deprecated alias for the builtin `int`. To silence this warning, use `int` by itself. Doing this will not modify any behavior and is safe. When replacing `np.int`, you may wish to use e.g. `np.int64` or `np.int32` to specify the precision. If you wish to review your current use, check the release note link for additional information.\n",
      "Deprecated in NumPy 1.20; for more details and guidance: https://numpy.org/devdocs/release/1.20.0-notes.html#deprecations\n",
      "  y_encoded = np.zeros(y.shape, dtype=np.int)\n",
      "/home/service/miniconda3/envs/py39v7/lib/python3.8/site-packages/sklearn/tree/_classes.py:190: DeprecationWarning: `np.int` is a deprecated alias for the builtin `int`. To silence this warning, use `int` by itself. Doing this will not modify any behavior and is safe. When replacing `np.int`, you may wish to use e.g. `np.int64` or `np.int32` to specify the precision. If you wish to review your current use, check the release note link for additional information.\n",
      "Deprecated in NumPy 1.20; for more details and guidance: https://numpy.org/devdocs/release/1.20.0-notes.html#deprecations\n",
      "  y_encoded = np.zeros(y.shape, dtype=np.int)\n",
      "/home/service/miniconda3/envs/py39v7/lib/python3.8/site-packages/sklearn/tree/_classes.py:190: DeprecationWarning: `np.int` is a deprecated alias for the builtin `int`. To silence this warning, use `int` by itself. Doing this will not modify any behavior and is safe. When replacing `np.int`, you may wish to use e.g. `np.int64` or `np.int32` to specify the precision. If you wish to review your current use, check the release note link for additional information.\n",
      "Deprecated in NumPy 1.20; for more details and guidance: https://numpy.org/devdocs/release/1.20.0-notes.html#deprecations\n",
      "  y_encoded = np.zeros(y.shape, dtype=np.int)\n",
      "/home/service/miniconda3/envs/py39v7/lib/python3.8/site-packages/sklearn/tree/_classes.py:190: DeprecationWarning: `np.int` is a deprecated alias for the builtin `int`. To silence this warning, use `int` by itself. Doing this will not modify any behavior and is safe. When replacing `np.int`, you may wish to use e.g. `np.int64` or `np.int32` to specify the precision. If you wish to review your current use, check the release note link for additional information.\n",
      "Deprecated in NumPy 1.20; for more details and guidance: https://numpy.org/devdocs/release/1.20.0-notes.html#deprecations\n",
      "  y_encoded = np.zeros(y.shape, dtype=np.int)\n",
      "/home/service/miniconda3/envs/py39v7/lib/python3.8/site-packages/sklearn/tree/_classes.py:190: DeprecationWarning: `np.int` is a deprecated alias for the builtin `int`. To silence this warning, use `int` by itself. Doing this will not modify any behavior and is safe. When replacing `np.int`, you may wish to use e.g. `np.int64` or `np.int32` to specify the precision. If you wish to review your current use, check the release note link for additional information.\n",
      "Deprecated in NumPy 1.20; for more details and guidance: https://numpy.org/devdocs/release/1.20.0-notes.html#deprecations\n",
      "  y_encoded = np.zeros(y.shape, dtype=np.int)\n",
      "/home/service/miniconda3/envs/py39v7/lib/python3.8/site-packages/sklearn/tree/_classes.py:190: DeprecationWarning: `np.int` is a deprecated alias for the builtin `int`. To silence this warning, use `int` by itself. Doing this will not modify any behavior and is safe. When replacing `np.int`, you may wish to use e.g. `np.int64` or `np.int32` to specify the precision. If you wish to review your current use, check the release note link for additional information.\n",
      "Deprecated in NumPy 1.20; for more details and guidance: https://numpy.org/devdocs/release/1.20.0-notes.html#deprecations\n",
      "  y_encoded = np.zeros(y.shape, dtype=np.int)\n",
      "/home/service/miniconda3/envs/py39v7/lib/python3.8/site-packages/sklearn/tree/_classes.py:190: DeprecationWarning: `np.int` is a deprecated alias for the builtin `int`. To silence this warning, use `int` by itself. Doing this will not modify any behavior and is safe. When replacing `np.int`, you may wish to use e.g. `np.int64` or `np.int32` to specify the precision. If you wish to review your current use, check the release note link for additional information.\n",
      "Deprecated in NumPy 1.20; for more details and guidance: https://numpy.org/devdocs/release/1.20.0-notes.html#deprecations\n",
      "  y_encoded = np.zeros(y.shape, dtype=np.int)\n",
      "/home/service/miniconda3/envs/py39v7/lib/python3.8/site-packages/sklearn/tree/_classes.py:190: DeprecationWarning: `np.int` is a deprecated alias for the builtin `int`. To silence this warning, use `int` by itself. Doing this will not modify any behavior and is safe. When replacing `np.int`, you may wish to use e.g. `np.int64` or `np.int32` to specify the precision. If you wish to review your current use, check the release note link for additional information.\n",
      "Deprecated in NumPy 1.20; for more details and guidance: https://numpy.org/devdocs/release/1.20.0-notes.html#deprecations\n",
      "  y_encoded = np.zeros(y.shape, dtype=np.int)\n",
      "/home/service/miniconda3/envs/py39v7/lib/python3.8/site-packages/sklearn/tree/_classes.py:190: DeprecationWarning: `np.int` is a deprecated alias for the builtin `int`. To silence this warning, use `int` by itself. Doing this will not modify any behavior and is safe. When replacing `np.int`, you may wish to use e.g. `np.int64` or `np.int32` to specify the precision. If you wish to review your current use, check the release note link for additional information.\n",
      "Deprecated in NumPy 1.20; for more details and guidance: https://numpy.org/devdocs/release/1.20.0-notes.html#deprecations\n",
      "  y_encoded = np.zeros(y.shape, dtype=np.int)\n",
      "/home/service/miniconda3/envs/py39v7/lib/python3.8/site-packages/sklearn/tree/_classes.py:190: DeprecationWarning: `np.int` is a deprecated alias for the builtin `int`. To silence this warning, use `int` by itself. Doing this will not modify any behavior and is safe. When replacing `np.int`, you may wish to use e.g. `np.int64` or `np.int32` to specify the precision. If you wish to review your current use, check the release note link for additional information.\n",
      "Deprecated in NumPy 1.20; for more details and guidance: https://numpy.org/devdocs/release/1.20.0-notes.html#deprecations\n",
      "  y_encoded = np.zeros(y.shape, dtype=np.int)\n",
      "/home/service/miniconda3/envs/py39v7/lib/python3.8/site-packages/sklearn/tree/_classes.py:190: DeprecationWarning: `np.int` is a deprecated alias for the builtin `int`. To silence this warning, use `int` by itself. Doing this will not modify any behavior and is safe. When replacing `np.int`, you may wish to use e.g. `np.int64` or `np.int32` to specify the precision. If you wish to review your current use, check the release note link for additional information.\n",
      "Deprecated in NumPy 1.20; for more details and guidance: https://numpy.org/devdocs/release/1.20.0-notes.html#deprecations\n",
      "  y_encoded = np.zeros(y.shape, dtype=np.int)\n",
      "/home/service/miniconda3/envs/py39v7/lib/python3.8/site-packages/sklearn/tree/_classes.py:190: DeprecationWarning: `np.int` is a deprecated alias for the builtin `int`. To silence this warning, use `int` by itself. Doing this will not modify any behavior and is safe. When replacing `np.int`, you may wish to use e.g. `np.int64` or `np.int32` to specify the precision. If you wish to review your current use, check the release note link for additional information.\n",
      "Deprecated in NumPy 1.20; for more details and guidance: https://numpy.org/devdocs/release/1.20.0-notes.html#deprecations\n",
      "  y_encoded = np.zeros(y.shape, dtype=np.int)\n",
      "/home/service/miniconda3/envs/py39v7/lib/python3.8/site-packages/sklearn/tree/_classes.py:190: DeprecationWarning: `np.int` is a deprecated alias for the builtin `int`. To silence this warning, use `int` by itself. Doing this will not modify any behavior and is safe. When replacing `np.int`, you may wish to use e.g. `np.int64` or `np.int32` to specify the precision. If you wish to review your current use, check the release note link for additional information.\n",
      "Deprecated in NumPy 1.20; for more details and guidance: https://numpy.org/devdocs/release/1.20.0-notes.html#deprecations\n",
      "  y_encoded = np.zeros(y.shape, dtype=np.int)\n",
      "/home/service/miniconda3/envs/py39v7/lib/python3.8/site-packages/sklearn/tree/_classes.py:190: DeprecationWarning: `np.int` is a deprecated alias for the builtin `int`. To silence this warning, use `int` by itself. Doing this will not modify any behavior and is safe. When replacing `np.int`, you may wish to use e.g. `np.int64` or `np.int32` to specify the precision. If you wish to review your current use, check the release note link for additional information.\n",
      "Deprecated in NumPy 1.20; for more details and guidance: https://numpy.org/devdocs/release/1.20.0-notes.html#deprecations\n",
      "  y_encoded = np.zeros(y.shape, dtype=np.int)\n",
      "/home/service/miniconda3/envs/py39v7/lib/python3.8/site-packages/sklearn/tree/_classes.py:190: DeprecationWarning: `np.int` is a deprecated alias for the builtin `int`. To silence this warning, use `int` by itself. Doing this will not modify any behavior and is safe. When replacing `np.int`, you may wish to use e.g. `np.int64` or `np.int32` to specify the precision. If you wish to review your current use, check the release note link for additional information.\n",
      "Deprecated in NumPy 1.20; for more details and guidance: https://numpy.org/devdocs/release/1.20.0-notes.html#deprecations\n",
      "  y_encoded = np.zeros(y.shape, dtype=np.int)\n",
      "/home/service/miniconda3/envs/py39v7/lib/python3.8/site-packages/sklearn/tree/_classes.py:190: DeprecationWarning: `np.int` is a deprecated alias for the builtin `int`. To silence this warning, use `int` by itself. Doing this will not modify any behavior and is safe. When replacing `np.int`, you may wish to use e.g. `np.int64` or `np.int32` to specify the precision. If you wish to review your current use, check the release note link for additional information.\n",
      "Deprecated in NumPy 1.20; for more details and guidance: https://numpy.org/devdocs/release/1.20.0-notes.html#deprecations\n",
      "  y_encoded = np.zeros(y.shape, dtype=np.int)\n",
      "/home/service/miniconda3/envs/py39v7/lib/python3.8/site-packages/sklearn/tree/_classes.py:190: DeprecationWarning: `np.int` is a deprecated alias for the builtin `int`. To silence this warning, use `int` by itself. Doing this will not modify any behavior and is safe. When replacing `np.int`, you may wish to use e.g. `np.int64` or `np.int32` to specify the precision. If you wish to review your current use, check the release note link for additional information.\n",
      "Deprecated in NumPy 1.20; for more details and guidance: https://numpy.org/devdocs/release/1.20.0-notes.html#deprecations\n",
      "  y_encoded = np.zeros(y.shape, dtype=np.int)\n",
      "/home/service/miniconda3/envs/py39v7/lib/python3.8/site-packages/sklearn/tree/_classes.py:190: DeprecationWarning: `np.int` is a deprecated alias for the builtin `int`. To silence this warning, use `int` by itself. Doing this will not modify any behavior and is safe. When replacing `np.int`, you may wish to use e.g. `np.int64` or `np.int32` to specify the precision. If you wish to review your current use, check the release note link for additional information.\n",
      "Deprecated in NumPy 1.20; for more details and guidance: https://numpy.org/devdocs/release/1.20.0-notes.html#deprecations\n",
      "  y_encoded = np.zeros(y.shape, dtype=np.int)\n",
      "/home/service/miniconda3/envs/py39v7/lib/python3.8/site-packages/sklearn/tree/_classes.py:190: DeprecationWarning: `np.int` is a deprecated alias for the builtin `int`. To silence this warning, use `int` by itself. Doing this will not modify any behavior and is safe. When replacing `np.int`, you may wish to use e.g. `np.int64` or `np.int32` to specify the precision. If you wish to review your current use, check the release note link for additional information.\n",
      "Deprecated in NumPy 1.20; for more details and guidance: https://numpy.org/devdocs/release/1.20.0-notes.html#deprecations\n",
      "  y_encoded = np.zeros(y.shape, dtype=np.int)\n",
      "/home/service/miniconda3/envs/py39v7/lib/python3.8/site-packages/sklearn/tree/_classes.py:190: DeprecationWarning: `np.int` is a deprecated alias for the builtin `int`. To silence this warning, use `int` by itself. Doing this will not modify any behavior and is safe. When replacing `np.int`, you may wish to use e.g. `np.int64` or `np.int32` to specify the precision. If you wish to review your current use, check the release note link for additional information.\n",
      "Deprecated in NumPy 1.20; for more details and guidance: https://numpy.org/devdocs/release/1.20.0-notes.html#deprecations\n",
      "  y_encoded = np.zeros(y.shape, dtype=np.int)\n",
      "/home/service/miniconda3/envs/py39v7/lib/python3.8/site-packages/sklearn/tree/_classes.py:190: DeprecationWarning: `np.int` is a deprecated alias for the builtin `int`. To silence this warning, use `int` by itself. Doing this will not modify any behavior and is safe. When replacing `np.int`, you may wish to use e.g. `np.int64` or `np.int32` to specify the precision. If you wish to review your current use, check the release note link for additional information.\n",
      "Deprecated in NumPy 1.20; for more details and guidance: https://numpy.org/devdocs/release/1.20.0-notes.html#deprecations\n",
      "  y_encoded = np.zeros(y.shape, dtype=np.int)\n",
      "/home/service/miniconda3/envs/py39v7/lib/python3.8/site-packages/sklearn/tree/_classes.py:190: DeprecationWarning: `np.int` is a deprecated alias for the builtin `int`. To silence this warning, use `int` by itself. Doing this will not modify any behavior and is safe. When replacing `np.int`, you may wish to use e.g. `np.int64` or `np.int32` to specify the precision. If you wish to review your current use, check the release note link for additional information.\n",
      "Deprecated in NumPy 1.20; for more details and guidance: https://numpy.org/devdocs/release/1.20.0-notes.html#deprecations\n",
      "  y_encoded = np.zeros(y.shape, dtype=np.int)\n",
      "/home/service/miniconda3/envs/py39v7/lib/python3.8/site-packages/sklearn/tree/_classes.py:190: DeprecationWarning: `np.int` is a deprecated alias for the builtin `int`. To silence this warning, use `int` by itself. Doing this will not modify any behavior and is safe. When replacing `np.int`, you may wish to use e.g. `np.int64` or `np.int32` to specify the precision. If you wish to review your current use, check the release note link for additional information.\n",
      "Deprecated in NumPy 1.20; for more details and guidance: https://numpy.org/devdocs/release/1.20.0-notes.html#deprecations\n",
      "  y_encoded = np.zeros(y.shape, dtype=np.int)\n",
      "/home/service/miniconda3/envs/py39v7/lib/python3.8/site-packages/sklearn/tree/_classes.py:190: DeprecationWarning: `np.int` is a deprecated alias for the builtin `int`. To silence this warning, use `int` by itself. Doing this will not modify any behavior and is safe. When replacing `np.int`, you may wish to use e.g. `np.int64` or `np.int32` to specify the precision. If you wish to review your current use, check the release note link for additional information.\n",
      "Deprecated in NumPy 1.20; for more details and guidance: https://numpy.org/devdocs/release/1.20.0-notes.html#deprecations\n",
      "  y_encoded = np.zeros(y.shape, dtype=np.int)\n",
      "/home/service/miniconda3/envs/py39v7/lib/python3.8/site-packages/sklearn/tree/_classes.py:190: DeprecationWarning: `np.int` is a deprecated alias for the builtin `int`. To silence this warning, use `int` by itself. Doing this will not modify any behavior and is safe. When replacing `np.int`, you may wish to use e.g. `np.int64` or `np.int32` to specify the precision. If you wish to review your current use, check the release note link for additional information.\n",
      "Deprecated in NumPy 1.20; for more details and guidance: https://numpy.org/devdocs/release/1.20.0-notes.html#deprecations\n",
      "  y_encoded = np.zeros(y.shape, dtype=np.int)\n",
      "/home/service/miniconda3/envs/py39v7/lib/python3.8/site-packages/sklearn/tree/_classes.py:190: DeprecationWarning: `np.int` is a deprecated alias for the builtin `int`. To silence this warning, use `int` by itself. Doing this will not modify any behavior and is safe. When replacing `np.int`, you may wish to use e.g. `np.int64` or `np.int32` to specify the precision. If you wish to review your current use, check the release note link for additional information.\n",
      "Deprecated in NumPy 1.20; for more details and guidance: https://numpy.org/devdocs/release/1.20.0-notes.html#deprecations\n",
      "  y_encoded = np.zeros(y.shape, dtype=np.int)\n",
      "/home/service/miniconda3/envs/py39v7/lib/python3.8/site-packages/sklearn/tree/_classes.py:190: DeprecationWarning: `np.int` is a deprecated alias for the builtin `int`. To silence this warning, use `int` by itself. Doing this will not modify any behavior and is safe. When replacing `np.int`, you may wish to use e.g. `np.int64` or `np.int32` to specify the precision. If you wish to review your current use, check the release note link for additional information.\n",
      "Deprecated in NumPy 1.20; for more details and guidance: https://numpy.org/devdocs/release/1.20.0-notes.html#deprecations\n",
      "  y_encoded = np.zeros(y.shape, dtype=np.int)\n",
      "/home/service/miniconda3/envs/py39v7/lib/python3.8/site-packages/sklearn/tree/_classes.py:190: DeprecationWarning: `np.int` is a deprecated alias for the builtin `int`. To silence this warning, use `int` by itself. Doing this will not modify any behavior and is safe. When replacing `np.int`, you may wish to use e.g. `np.int64` or `np.int32` to specify the precision. If you wish to review your current use, check the release note link for additional information.\n",
      "Deprecated in NumPy 1.20; for more details and guidance: https://numpy.org/devdocs/release/1.20.0-notes.html#deprecations\n",
      "  y_encoded = np.zeros(y.shape, dtype=np.int)\n",
      "/home/service/miniconda3/envs/py39v7/lib/python3.8/site-packages/sklearn/tree/_classes.py:190: DeprecationWarning: `np.int` is a deprecated alias for the builtin `int`. To silence this warning, use `int` by itself. Doing this will not modify any behavior and is safe. When replacing `np.int`, you may wish to use e.g. `np.int64` or `np.int32` to specify the precision. If you wish to review your current use, check the release note link for additional information.\n",
      "Deprecated in NumPy 1.20; for more details and guidance: https://numpy.org/devdocs/release/1.20.0-notes.html#deprecations\n",
      "  y_encoded = np.zeros(y.shape, dtype=np.int)\n",
      "/home/service/miniconda3/envs/py39v7/lib/python3.8/site-packages/sklearn/tree/_classes.py:190: DeprecationWarning: `np.int` is a deprecated alias for the builtin `int`. To silence this warning, use `int` by itself. Doing this will not modify any behavior and is safe. When replacing `np.int`, you may wish to use e.g. `np.int64` or `np.int32` to specify the precision. If you wish to review your current use, check the release note link for additional information.\n",
      "Deprecated in NumPy 1.20; for more details and guidance: https://numpy.org/devdocs/release/1.20.0-notes.html#deprecations\n",
      "  y_encoded = np.zeros(y.shape, dtype=np.int)\n",
      "/home/service/miniconda3/envs/py39v7/lib/python3.8/site-packages/sklearn/tree/_classes.py:190: DeprecationWarning: `np.int` is a deprecated alias for the builtin `int`. To silence this warning, use `int` by itself. Doing this will not modify any behavior and is safe. When replacing `np.int`, you may wish to use e.g. `np.int64` or `np.int32` to specify the precision. If you wish to review your current use, check the release note link for additional information.\n",
      "Deprecated in NumPy 1.20; for more details and guidance: https://numpy.org/devdocs/release/1.20.0-notes.html#deprecations\n",
      "  y_encoded = np.zeros(y.shape, dtype=np.int)\n",
      "/home/service/miniconda3/envs/py39v7/lib/python3.8/site-packages/sklearn/tree/_classes.py:190: DeprecationWarning: `np.int` is a deprecated alias for the builtin `int`. To silence this warning, use `int` by itself. Doing this will not modify any behavior and is safe. When replacing `np.int`, you may wish to use e.g. `np.int64` or `np.int32` to specify the precision. If you wish to review your current use, check the release note link for additional information.\n",
      "Deprecated in NumPy 1.20; for more details and guidance: https://numpy.org/devdocs/release/1.20.0-notes.html#deprecations\n",
      "  y_encoded = np.zeros(y.shape, dtype=np.int)\n",
      "/home/service/miniconda3/envs/py39v7/lib/python3.8/site-packages/sklearn/tree/_classes.py:190: DeprecationWarning: `np.int` is a deprecated alias for the builtin `int`. To silence this warning, use `int` by itself. Doing this will not modify any behavior and is safe. When replacing `np.int`, you may wish to use e.g. `np.int64` or `np.int32` to specify the precision. If you wish to review your current use, check the release note link for additional information.\n",
      "Deprecated in NumPy 1.20; for more details and guidance: https://numpy.org/devdocs/release/1.20.0-notes.html#deprecations\n",
      "  y_encoded = np.zeros(y.shape, dtype=np.int)\n",
      "/home/service/miniconda3/envs/py39v7/lib/python3.8/site-packages/sklearn/tree/_classes.py:190: DeprecationWarning: `np.int` is a deprecated alias for the builtin `int`. To silence this warning, use `int` by itself. Doing this will not modify any behavior and is safe. When replacing `np.int`, you may wish to use e.g. `np.int64` or `np.int32` to specify the precision. If you wish to review your current use, check the release note link for additional information.\n",
      "Deprecated in NumPy 1.20; for more details and guidance: https://numpy.org/devdocs/release/1.20.0-notes.html#deprecations\n",
      "  y_encoded = np.zeros(y.shape, dtype=np.int)\n",
      "/home/service/miniconda3/envs/py39v7/lib/python3.8/site-packages/sklearn/tree/_classes.py:190: DeprecationWarning: `np.int` is a deprecated alias for the builtin `int`. To silence this warning, use `int` by itself. Doing this will not modify any behavior and is safe. When replacing `np.int`, you may wish to use e.g. `np.int64` or `np.int32` to specify the precision. If you wish to review your current use, check the release note link for additional information.\n",
      "Deprecated in NumPy 1.20; for more details and guidance: https://numpy.org/devdocs/release/1.20.0-notes.html#deprecations\n",
      "  y_encoded = np.zeros(y.shape, dtype=np.int)\n",
      "/home/service/miniconda3/envs/py39v7/lib/python3.8/site-packages/sklearn/tree/_classes.py:190: DeprecationWarning: `np.int` is a deprecated alias for the builtin `int`. To silence this warning, use `int` by itself. Doing this will not modify any behavior and is safe. When replacing `np.int`, you may wish to use e.g. `np.int64` or `np.int32` to specify the precision. If you wish to review your current use, check the release note link for additional information.\n",
      "Deprecated in NumPy 1.20; for more details and guidance: https://numpy.org/devdocs/release/1.20.0-notes.html#deprecations\n",
      "  y_encoded = np.zeros(y.shape, dtype=np.int)\n",
      "/home/service/miniconda3/envs/py39v7/lib/python3.8/site-packages/sklearn/tree/_classes.py:190: DeprecationWarning: `np.int` is a deprecated alias for the builtin `int`. To silence this warning, use `int` by itself. Doing this will not modify any behavior and is safe. When replacing `np.int`, you may wish to use e.g. `np.int64` or `np.int32` to specify the precision. If you wish to review your current use, check the release note link for additional information.\n",
      "Deprecated in NumPy 1.20; for more details and guidance: https://numpy.org/devdocs/release/1.20.0-notes.html#deprecations\n",
      "  y_encoded = np.zeros(y.shape, dtype=np.int)\n",
      "/home/service/miniconda3/envs/py39v7/lib/python3.8/site-packages/sklearn/tree/_classes.py:190: DeprecationWarning: `np.int` is a deprecated alias for the builtin `int`. To silence this warning, use `int` by itself. Doing this will not modify any behavior and is safe. When replacing `np.int`, you may wish to use e.g. `np.int64` or `np.int32` to specify the precision. If you wish to review your current use, check the release note link for additional information.\n",
      "Deprecated in NumPy 1.20; for more details and guidance: https://numpy.org/devdocs/release/1.20.0-notes.html#deprecations\n",
      "  y_encoded = np.zeros(y.shape, dtype=np.int)\n",
      "/home/service/miniconda3/envs/py39v7/lib/python3.8/site-packages/sklearn/tree/_classes.py:190: DeprecationWarning: `np.int` is a deprecated alias for the builtin `int`. To silence this warning, use `int` by itself. Doing this will not modify any behavior and is safe. When replacing `np.int`, you may wish to use e.g. `np.int64` or `np.int32` to specify the precision. If you wish to review your current use, check the release note link for additional information.\n",
      "Deprecated in NumPy 1.20; for more details and guidance: https://numpy.org/devdocs/release/1.20.0-notes.html#deprecations\n",
      "  y_encoded = np.zeros(y.shape, dtype=np.int)\n",
      "/home/service/miniconda3/envs/py39v7/lib/python3.8/site-packages/sklearn/tree/_classes.py:190: DeprecationWarning: `np.int` is a deprecated alias for the builtin `int`. To silence this warning, use `int` by itself. Doing this will not modify any behavior and is safe. When replacing `np.int`, you may wish to use e.g. `np.int64` or `np.int32` to specify the precision. If you wish to review your current use, check the release note link for additional information.\n",
      "Deprecated in NumPy 1.20; for more details and guidance: https://numpy.org/devdocs/release/1.20.0-notes.html#deprecations\n",
      "  y_encoded = np.zeros(y.shape, dtype=np.int)\n",
      "/home/service/miniconda3/envs/py39v7/lib/python3.8/site-packages/sklearn/tree/_classes.py:190: DeprecationWarning: `np.int` is a deprecated alias for the builtin `int`. To silence this warning, use `int` by itself. Doing this will not modify any behavior and is safe. When replacing `np.int`, you may wish to use e.g. `np.int64` or `np.int32` to specify the precision. If you wish to review your current use, check the release note link for additional information.\n",
      "Deprecated in NumPy 1.20; for more details and guidance: https://numpy.org/devdocs/release/1.20.0-notes.html#deprecations\n",
      "  y_encoded = np.zeros(y.shape, dtype=np.int)\n",
      "/home/service/miniconda3/envs/py39v7/lib/python3.8/site-packages/sklearn/tree/_classes.py:190: DeprecationWarning: `np.int` is a deprecated alias for the builtin `int`. To silence this warning, use `int` by itself. Doing this will not modify any behavior and is safe. When replacing `np.int`, you may wish to use e.g. `np.int64` or `np.int32` to specify the precision. If you wish to review your current use, check the release note link for additional information.\n",
      "Deprecated in NumPy 1.20; for more details and guidance: https://numpy.org/devdocs/release/1.20.0-notes.html#deprecations\n",
      "  y_encoded = np.zeros(y.shape, dtype=np.int)\n",
      "/home/service/miniconda3/envs/py39v7/lib/python3.8/site-packages/sklearn/tree/_classes.py:190: DeprecationWarning: `np.int` is a deprecated alias for the builtin `int`. To silence this warning, use `int` by itself. Doing this will not modify any behavior and is safe. When replacing `np.int`, you may wish to use e.g. `np.int64` or `np.int32` to specify the precision. If you wish to review your current use, check the release note link for additional information.\n",
      "Deprecated in NumPy 1.20; for more details and guidance: https://numpy.org/devdocs/release/1.20.0-notes.html#deprecations\n",
      "  y_encoded = np.zeros(y.shape, dtype=np.int)\n",
      "/home/service/miniconda3/envs/py39v7/lib/python3.8/site-packages/sklearn/tree/_classes.py:190: DeprecationWarning: `np.int` is a deprecated alias for the builtin `int`. To silence this warning, use `int` by itself. Doing this will not modify any behavior and is safe. When replacing `np.int`, you may wish to use e.g. `np.int64` or `np.int32` to specify the precision. If you wish to review your current use, check the release note link for additional information.\n",
      "Deprecated in NumPy 1.20; for more details and guidance: https://numpy.org/devdocs/release/1.20.0-notes.html#deprecations\n",
      "  y_encoded = np.zeros(y.shape, dtype=np.int)\n",
      "/home/service/miniconda3/envs/py39v7/lib/python3.8/site-packages/sklearn/tree/_classes.py:190: DeprecationWarning: `np.int` is a deprecated alias for the builtin `int`. To silence this warning, use `int` by itself. Doing this will not modify any behavior and is safe. When replacing `np.int`, you may wish to use e.g. `np.int64` or `np.int32` to specify the precision. If you wish to review your current use, check the release note link for additional information.\n",
      "Deprecated in NumPy 1.20; for more details and guidance: https://numpy.org/devdocs/release/1.20.0-notes.html#deprecations\n",
      "  y_encoded = np.zeros(y.shape, dtype=np.int)\n",
      "/home/service/miniconda3/envs/py39v7/lib/python3.8/site-packages/sklearn/tree/_classes.py:190: DeprecationWarning: `np.int` is a deprecated alias for the builtin `int`. To silence this warning, use `int` by itself. Doing this will not modify any behavior and is safe. When replacing `np.int`, you may wish to use e.g. `np.int64` or `np.int32` to specify the precision. If you wish to review your current use, check the release note link for additional information.\n",
      "Deprecated in NumPy 1.20; for more details and guidance: https://numpy.org/devdocs/release/1.20.0-notes.html#deprecations\n",
      "  y_encoded = np.zeros(y.shape, dtype=np.int)\n",
      "/home/service/miniconda3/envs/py39v7/lib/python3.8/site-packages/sklearn/tree/_classes.py:190: DeprecationWarning: `np.int` is a deprecated alias for the builtin `int`. To silence this warning, use `int` by itself. Doing this will not modify any behavior and is safe. When replacing `np.int`, you may wish to use e.g. `np.int64` or `np.int32` to specify the precision. If you wish to review your current use, check the release note link for additional information.\n",
      "Deprecated in NumPy 1.20; for more details and guidance: https://numpy.org/devdocs/release/1.20.0-notes.html#deprecations\n",
      "  y_encoded = np.zeros(y.shape, dtype=np.int)\n",
      "/home/service/miniconda3/envs/py39v7/lib/python3.8/site-packages/sklearn/tree/_classes.py:190: DeprecationWarning: `np.int` is a deprecated alias for the builtin `int`. To silence this warning, use `int` by itself. Doing this will not modify any behavior and is safe. When replacing `np.int`, you may wish to use e.g. `np.int64` or `np.int32` to specify the precision. If you wish to review your current use, check the release note link for additional information.\n",
      "Deprecated in NumPy 1.20; for more details and guidance: https://numpy.org/devdocs/release/1.20.0-notes.html#deprecations\n",
      "  y_encoded = np.zeros(y.shape, dtype=np.int)\n",
      "/home/service/miniconda3/envs/py39v7/lib/python3.8/site-packages/sklearn/tree/_classes.py:190: DeprecationWarning: `np.int` is a deprecated alias for the builtin `int`. To silence this warning, use `int` by itself. Doing this will not modify any behavior and is safe. When replacing `np.int`, you may wish to use e.g. `np.int64` or `np.int32` to specify the precision. If you wish to review your current use, check the release note link for additional information.\n",
      "Deprecated in NumPy 1.20; for more details and guidance: https://numpy.org/devdocs/release/1.20.0-notes.html#deprecations\n",
      "  y_encoded = np.zeros(y.shape, dtype=np.int)\n",
      "/home/service/miniconda3/envs/py39v7/lib/python3.8/site-packages/sklearn/tree/_classes.py:190: DeprecationWarning: `np.int` is a deprecated alias for the builtin `int`. To silence this warning, use `int` by itself. Doing this will not modify any behavior and is safe. When replacing `np.int`, you may wish to use e.g. `np.int64` or `np.int32` to specify the precision. If you wish to review your current use, check the release note link for additional information.\n",
      "Deprecated in NumPy 1.20; for more details and guidance: https://numpy.org/devdocs/release/1.20.0-notes.html#deprecations\n",
      "  y_encoded = np.zeros(y.shape, dtype=np.int)\n",
      "/home/service/miniconda3/envs/py39v7/lib/python3.8/site-packages/sklearn/tree/_classes.py:190: DeprecationWarning: `np.int` is a deprecated alias for the builtin `int`. To silence this warning, use `int` by itself. Doing this will not modify any behavior and is safe. When replacing `np.int`, you may wish to use e.g. `np.int64` or `np.int32` to specify the precision. If you wish to review your current use, check the release note link for additional information.\n",
      "Deprecated in NumPy 1.20; for more details and guidance: https://numpy.org/devdocs/release/1.20.0-notes.html#deprecations\n",
      "  y_encoded = np.zeros(y.shape, dtype=np.int)\n",
      "/home/service/miniconda3/envs/py39v7/lib/python3.8/site-packages/sklearn/tree/_classes.py:190: DeprecationWarning: `np.int` is a deprecated alias for the builtin `int`. To silence this warning, use `int` by itself. Doing this will not modify any behavior and is safe. When replacing `np.int`, you may wish to use e.g. `np.int64` or `np.int32` to specify the precision. If you wish to review your current use, check the release note link for additional information.\n",
      "Deprecated in NumPy 1.20; for more details and guidance: https://numpy.org/devdocs/release/1.20.0-notes.html#deprecations\n",
      "  y_encoded = np.zeros(y.shape, dtype=np.int)\n",
      "/home/service/miniconda3/envs/py39v7/lib/python3.8/site-packages/sklearn/tree/_classes.py:190: DeprecationWarning: `np.int` is a deprecated alias for the builtin `int`. To silence this warning, use `int` by itself. Doing this will not modify any behavior and is safe. When replacing `np.int`, you may wish to use e.g. `np.int64` or `np.int32` to specify the precision. If you wish to review your current use, check the release note link for additional information.\n",
      "Deprecated in NumPy 1.20; for more details and guidance: https://numpy.org/devdocs/release/1.20.0-notes.html#deprecations\n",
      "  y_encoded = np.zeros(y.shape, dtype=np.int)\n",
      "/home/service/miniconda3/envs/py39v7/lib/python3.8/site-packages/sklearn/tree/_classes.py:190: DeprecationWarning: `np.int` is a deprecated alias for the builtin `int`. To silence this warning, use `int` by itself. Doing this will not modify any behavior and is safe. When replacing `np.int`, you may wish to use e.g. `np.int64` or `np.int32` to specify the precision. If you wish to review your current use, check the release note link for additional information.\n",
      "Deprecated in NumPy 1.20; for more details and guidance: https://numpy.org/devdocs/release/1.20.0-notes.html#deprecations\n",
      "  y_encoded = np.zeros(y.shape, dtype=np.int)\n",
      "/home/service/miniconda3/envs/py39v7/lib/python3.8/site-packages/sklearn/tree/_classes.py:190: DeprecationWarning: `np.int` is a deprecated alias for the builtin `int`. To silence this warning, use `int` by itself. Doing this will not modify any behavior and is safe. When replacing `np.int`, you may wish to use e.g. `np.int64` or `np.int32` to specify the precision. If you wish to review your current use, check the release note link for additional information.\n",
      "Deprecated in NumPy 1.20; for more details and guidance: https://numpy.org/devdocs/release/1.20.0-notes.html#deprecations\n",
      "  y_encoded = np.zeros(y.shape, dtype=np.int)\n",
      "/home/service/miniconda3/envs/py39v7/lib/python3.8/site-packages/sklearn/tree/_classes.py:190: DeprecationWarning: `np.int` is a deprecated alias for the builtin `int`. To silence this warning, use `int` by itself. Doing this will not modify any behavior and is safe. When replacing `np.int`, you may wish to use e.g. `np.int64` or `np.int32` to specify the precision. If you wish to review your current use, check the release note link for additional information.\n",
      "Deprecated in NumPy 1.20; for more details and guidance: https://numpy.org/devdocs/release/1.20.0-notes.html#deprecations\n",
      "  y_encoded = np.zeros(y.shape, dtype=np.int)\n",
      "/home/service/miniconda3/envs/py39v7/lib/python3.8/site-packages/sklearn/tree/_classes.py:190: DeprecationWarning: `np.int` is a deprecated alias for the builtin `int`. To silence this warning, use `int` by itself. Doing this will not modify any behavior and is safe. When replacing `np.int`, you may wish to use e.g. `np.int64` or `np.int32` to specify the precision. If you wish to review your current use, check the release note link for additional information.\n",
      "Deprecated in NumPy 1.20; for more details and guidance: https://numpy.org/devdocs/release/1.20.0-notes.html#deprecations\n",
      "  y_encoded = np.zeros(y.shape, dtype=np.int)\n",
      "/home/service/miniconda3/envs/py39v7/lib/python3.8/site-packages/sklearn/tree/_classes.py:190: DeprecationWarning: `np.int` is a deprecated alias for the builtin `int`. To silence this warning, use `int` by itself. Doing this will not modify any behavior and is safe. When replacing `np.int`, you may wish to use e.g. `np.int64` or `np.int32` to specify the precision. If you wish to review your current use, check the release note link for additional information.\n",
      "Deprecated in NumPy 1.20; for more details and guidance: https://numpy.org/devdocs/release/1.20.0-notes.html#deprecations\n",
      "  y_encoded = np.zeros(y.shape, dtype=np.int)\n",
      "/home/service/miniconda3/envs/py39v7/lib/python3.8/site-packages/sklearn/tree/_classes.py:190: DeprecationWarning: `np.int` is a deprecated alias for the builtin `int`. To silence this warning, use `int` by itself. Doing this will not modify any behavior and is safe. When replacing `np.int`, you may wish to use e.g. `np.int64` or `np.int32` to specify the precision. If you wish to review your current use, check the release note link for additional information.\n",
      "Deprecated in NumPy 1.20; for more details and guidance: https://numpy.org/devdocs/release/1.20.0-notes.html#deprecations\n",
      "  y_encoded = np.zeros(y.shape, dtype=np.int)\n",
      "/home/service/miniconda3/envs/py39v7/lib/python3.8/site-packages/sklearn/tree/_classes.py:190: DeprecationWarning: `np.int` is a deprecated alias for the builtin `int`. To silence this warning, use `int` by itself. Doing this will not modify any behavior and is safe. When replacing `np.int`, you may wish to use e.g. `np.int64` or `np.int32` to specify the precision. If you wish to review your current use, check the release note link for additional information.\n",
      "Deprecated in NumPy 1.20; for more details and guidance: https://numpy.org/devdocs/release/1.20.0-notes.html#deprecations\n",
      "  y_encoded = np.zeros(y.shape, dtype=np.int)\n",
      "/home/service/miniconda3/envs/py39v7/lib/python3.8/site-packages/sklearn/tree/_classes.py:190: DeprecationWarning: `np.int` is a deprecated alias for the builtin `int`. To silence this warning, use `int` by itself. Doing this will not modify any behavior and is safe. When replacing `np.int`, you may wish to use e.g. `np.int64` or `np.int32` to specify the precision. If you wish to review your current use, check the release note link for additional information.\n",
      "Deprecated in NumPy 1.20; for more details and guidance: https://numpy.org/devdocs/release/1.20.0-notes.html#deprecations\n",
      "  y_encoded = np.zeros(y.shape, dtype=np.int)\n",
      "/home/service/miniconda3/envs/py39v7/lib/python3.8/site-packages/sklearn/tree/_classes.py:190: DeprecationWarning: `np.int` is a deprecated alias for the builtin `int`. To silence this warning, use `int` by itself. Doing this will not modify any behavior and is safe. When replacing `np.int`, you may wish to use e.g. `np.int64` or `np.int32` to specify the precision. If you wish to review your current use, check the release note link for additional information.\n",
      "Deprecated in NumPy 1.20; for more details and guidance: https://numpy.org/devdocs/release/1.20.0-notes.html#deprecations\n",
      "  y_encoded = np.zeros(y.shape, dtype=np.int)\n",
      "/home/service/miniconda3/envs/py39v7/lib/python3.8/site-packages/sklearn/tree/_classes.py:190: DeprecationWarning: `np.int` is a deprecated alias for the builtin `int`. To silence this warning, use `int` by itself. Doing this will not modify any behavior and is safe. When replacing `np.int`, you may wish to use e.g. `np.int64` or `np.int32` to specify the precision. If you wish to review your current use, check the release note link for additional information.\n",
      "Deprecated in NumPy 1.20; for more details and guidance: https://numpy.org/devdocs/release/1.20.0-notes.html#deprecations\n",
      "  y_encoded = np.zeros(y.shape, dtype=np.int)\n",
      "/home/service/miniconda3/envs/py39v7/lib/python3.8/site-packages/sklearn/tree/_classes.py:190: DeprecationWarning: `np.int` is a deprecated alias for the builtin `int`. To silence this warning, use `int` by itself. Doing this will not modify any behavior and is safe. When replacing `np.int`, you may wish to use e.g. `np.int64` or `np.int32` to specify the precision. If you wish to review your current use, check the release note link for additional information.\n",
      "Deprecated in NumPy 1.20; for more details and guidance: https://numpy.org/devdocs/release/1.20.0-notes.html#deprecations\n",
      "  y_encoded = np.zeros(y.shape, dtype=np.int)\n",
      "/home/service/miniconda3/envs/py39v7/lib/python3.8/site-packages/sklearn/tree/_classes.py:190: DeprecationWarning: `np.int` is a deprecated alias for the builtin `int`. To silence this warning, use `int` by itself. Doing this will not modify any behavior and is safe. When replacing `np.int`, you may wish to use e.g. `np.int64` or `np.int32` to specify the precision. If you wish to review your current use, check the release note link for additional information.\n",
      "Deprecated in NumPy 1.20; for more details and guidance: https://numpy.org/devdocs/release/1.20.0-notes.html#deprecations\n",
      "  y_encoded = np.zeros(y.shape, dtype=np.int)\n",
      "/home/service/miniconda3/envs/py39v7/lib/python3.8/site-packages/sklearn/tree/_classes.py:190: DeprecationWarning: `np.int` is a deprecated alias for the builtin `int`. To silence this warning, use `int` by itself. Doing this will not modify any behavior and is safe. When replacing `np.int`, you may wish to use e.g. `np.int64` or `np.int32` to specify the precision. If you wish to review your current use, check the release note link for additional information.\n",
      "Deprecated in NumPy 1.20; for more details and guidance: https://numpy.org/devdocs/release/1.20.0-notes.html#deprecations\n",
      "  y_encoded = np.zeros(y.shape, dtype=np.int)\n",
      "/home/service/miniconda3/envs/py39v7/lib/python3.8/site-packages/sklearn/tree/_classes.py:190: DeprecationWarning: `np.int` is a deprecated alias for the builtin `int`. To silence this warning, use `int` by itself. Doing this will not modify any behavior and is safe. When replacing `np.int`, you may wish to use e.g. `np.int64` or `np.int32` to specify the precision. If you wish to review your current use, check the release note link for additional information.\n",
      "Deprecated in NumPy 1.20; for more details and guidance: https://numpy.org/devdocs/release/1.20.0-notes.html#deprecations\n",
      "  y_encoded = np.zeros(y.shape, dtype=np.int)\n",
      "/home/service/miniconda3/envs/py39v7/lib/python3.8/site-packages/sklearn/tree/_classes.py:190: DeprecationWarning: `np.int` is a deprecated alias for the builtin `int`. To silence this warning, use `int` by itself. Doing this will not modify any behavior and is safe. When replacing `np.int`, you may wish to use e.g. `np.int64` or `np.int32` to specify the precision. If you wish to review your current use, check the release note link for additional information.\n",
      "Deprecated in NumPy 1.20; for more details and guidance: https://numpy.org/devdocs/release/1.20.0-notes.html#deprecations\n",
      "  y_encoded = np.zeros(y.shape, dtype=np.int)\n",
      "/home/service/miniconda3/envs/py39v7/lib/python3.8/site-packages/sklearn/tree/_classes.py:190: DeprecationWarning: `np.int` is a deprecated alias for the builtin `int`. To silence this warning, use `int` by itself. Doing this will not modify any behavior and is safe. When replacing `np.int`, you may wish to use e.g. `np.int64` or `np.int32` to specify the precision. If you wish to review your current use, check the release note link for additional information.\n",
      "Deprecated in NumPy 1.20; for more details and guidance: https://numpy.org/devdocs/release/1.20.0-notes.html#deprecations\n",
      "  y_encoded = np.zeros(y.shape, dtype=np.int)\n",
      "/home/service/miniconda3/envs/py39v7/lib/python3.8/site-packages/sklearn/tree/_classes.py:190: DeprecationWarning: `np.int` is a deprecated alias for the builtin `int`. To silence this warning, use `int` by itself. Doing this will not modify any behavior and is safe. When replacing `np.int`, you may wish to use e.g. `np.int64` or `np.int32` to specify the precision. If you wish to review your current use, check the release note link for additional information.\n",
      "Deprecated in NumPy 1.20; for more details and guidance: https://numpy.org/devdocs/release/1.20.0-notes.html#deprecations\n",
      "  y_encoded = np.zeros(y.shape, dtype=np.int)\n",
      "/home/service/miniconda3/envs/py39v7/lib/python3.8/site-packages/sklearn/tree/_classes.py:190: DeprecationWarning: `np.int` is a deprecated alias for the builtin `int`. To silence this warning, use `int` by itself. Doing this will not modify any behavior and is safe. When replacing `np.int`, you may wish to use e.g. `np.int64` or `np.int32` to specify the precision. If you wish to review your current use, check the release note link for additional information.\n",
      "Deprecated in NumPy 1.20; for more details and guidance: https://numpy.org/devdocs/release/1.20.0-notes.html#deprecations\n",
      "  y_encoded = np.zeros(y.shape, dtype=np.int)\n",
      "/home/service/miniconda3/envs/py39v7/lib/python3.8/site-packages/sklearn/tree/_classes.py:190: DeprecationWarning: `np.int` is a deprecated alias for the builtin `int`. To silence this warning, use `int` by itself. Doing this will not modify any behavior and is safe. When replacing `np.int`, you may wish to use e.g. `np.int64` or `np.int32` to specify the precision. If you wish to review your current use, check the release note link for additional information.\n",
      "Deprecated in NumPy 1.20; for more details and guidance: https://numpy.org/devdocs/release/1.20.0-notes.html#deprecations\n",
      "  y_encoded = np.zeros(y.shape, dtype=np.int)\n",
      "/home/service/miniconda3/envs/py39v7/lib/python3.8/site-packages/sklearn/tree/_classes.py:190: DeprecationWarning: `np.int` is a deprecated alias for the builtin `int`. To silence this warning, use `int` by itself. Doing this will not modify any behavior and is safe. When replacing `np.int`, you may wish to use e.g. `np.int64` or `np.int32` to specify the precision. If you wish to review your current use, check the release note link for additional information.\n",
      "Deprecated in NumPy 1.20; for more details and guidance: https://numpy.org/devdocs/release/1.20.0-notes.html#deprecations\n",
      "  y_encoded = np.zeros(y.shape, dtype=np.int)\n",
      "/home/service/miniconda3/envs/py39v7/lib/python3.8/site-packages/sklearn/tree/_classes.py:190: DeprecationWarning: `np.int` is a deprecated alias for the builtin `int`. To silence this warning, use `int` by itself. Doing this will not modify any behavior and is safe. When replacing `np.int`, you may wish to use e.g. `np.int64` or `np.int32` to specify the precision. If you wish to review your current use, check the release note link for additional information.\n",
      "Deprecated in NumPy 1.20; for more details and guidance: https://numpy.org/devdocs/release/1.20.0-notes.html#deprecations\n",
      "  y_encoded = np.zeros(y.shape, dtype=np.int)\n",
      "/home/service/miniconda3/envs/py39v7/lib/python3.8/site-packages/sklearn/tree/_classes.py:190: DeprecationWarning: `np.int` is a deprecated alias for the builtin `int`. To silence this warning, use `int` by itself. Doing this will not modify any behavior and is safe. When replacing `np.int`, you may wish to use e.g. `np.int64` or `np.int32` to specify the precision. If you wish to review your current use, check the release note link for additional information.\n",
      "Deprecated in NumPy 1.20; for more details and guidance: https://numpy.org/devdocs/release/1.20.0-notes.html#deprecations\n",
      "  y_encoded = np.zeros(y.shape, dtype=np.int)\n",
      "/home/service/miniconda3/envs/py39v7/lib/python3.8/site-packages/sklearn/tree/_classes.py:190: DeprecationWarning: `np.int` is a deprecated alias for the builtin `int`. To silence this warning, use `int` by itself. Doing this will not modify any behavior and is safe. When replacing `np.int`, you may wish to use e.g. `np.int64` or `np.int32` to specify the precision. If you wish to review your current use, check the release note link for additional information.\n",
      "Deprecated in NumPy 1.20; for more details and guidance: https://numpy.org/devdocs/release/1.20.0-notes.html#deprecations\n",
      "  y_encoded = np.zeros(y.shape, dtype=np.int)\n",
      "/home/service/miniconda3/envs/py39v7/lib/python3.8/site-packages/sklearn/tree/_classes.py:190: DeprecationWarning: `np.int` is a deprecated alias for the builtin `int`. To silence this warning, use `int` by itself. Doing this will not modify any behavior and is safe. When replacing `np.int`, you may wish to use e.g. `np.int64` or `np.int32` to specify the precision. If you wish to review your current use, check the release note link for additional information.\n",
      "Deprecated in NumPy 1.20; for more details and guidance: https://numpy.org/devdocs/release/1.20.0-notes.html#deprecations\n",
      "  y_encoded = np.zeros(y.shape, dtype=np.int)\n",
      "/home/service/miniconda3/envs/py39v7/lib/python3.8/site-packages/sklearn/tree/_classes.py:190: DeprecationWarning: `np.int` is a deprecated alias for the builtin `int`. To silence this warning, use `int` by itself. Doing this will not modify any behavior and is safe. When replacing `np.int`, you may wish to use e.g. `np.int64` or `np.int32` to specify the precision. If you wish to review your current use, check the release note link for additional information.\n",
      "Deprecated in NumPy 1.20; for more details and guidance: https://numpy.org/devdocs/release/1.20.0-notes.html#deprecations\n",
      "  y_encoded = np.zeros(y.shape, dtype=np.int)\n",
      "/home/service/miniconda3/envs/py39v7/lib/python3.8/site-packages/sklearn/tree/_classes.py:190: DeprecationWarning: `np.int` is a deprecated alias for the builtin `int`. To silence this warning, use `int` by itself. Doing this will not modify any behavior and is safe. When replacing `np.int`, you may wish to use e.g. `np.int64` or `np.int32` to specify the precision. If you wish to review your current use, check the release note link for additional information.\n",
      "Deprecated in NumPy 1.20; for more details and guidance: https://numpy.org/devdocs/release/1.20.0-notes.html#deprecations\n",
      "  y_encoded = np.zeros(y.shape, dtype=np.int)\n",
      "/home/service/miniconda3/envs/py39v7/lib/python3.8/site-packages/sklearn/tree/_classes.py:190: DeprecationWarning: `np.int` is a deprecated alias for the builtin `int`. To silence this warning, use `int` by itself. Doing this will not modify any behavior and is safe. When replacing `np.int`, you may wish to use e.g. `np.int64` or `np.int32` to specify the precision. If you wish to review your current use, check the release note link for additional information.\n",
      "Deprecated in NumPy 1.20; for more details and guidance: https://numpy.org/devdocs/release/1.20.0-notes.html#deprecations\n",
      "  y_encoded = np.zeros(y.shape, dtype=np.int)\n",
      "/home/service/miniconda3/envs/py39v7/lib/python3.8/site-packages/sklearn/tree/_classes.py:190: DeprecationWarning: `np.int` is a deprecated alias for the builtin `int`. To silence this warning, use `int` by itself. Doing this will not modify any behavior and is safe. When replacing `np.int`, you may wish to use e.g. `np.int64` or `np.int32` to specify the precision. If you wish to review your current use, check the release note link for additional information.\n",
      "Deprecated in NumPy 1.20; for more details and guidance: https://numpy.org/devdocs/release/1.20.0-notes.html#deprecations\n",
      "  y_encoded = np.zeros(y.shape, dtype=np.int)\n",
      "/home/service/miniconda3/envs/py39v7/lib/python3.8/site-packages/sklearn/tree/_classes.py:190: DeprecationWarning: `np.int` is a deprecated alias for the builtin `int`. To silence this warning, use `int` by itself. Doing this will not modify any behavior and is safe. When replacing `np.int`, you may wish to use e.g. `np.int64` or `np.int32` to specify the precision. If you wish to review your current use, check the release note link for additional information.\n",
      "Deprecated in NumPy 1.20; for more details and guidance: https://numpy.org/devdocs/release/1.20.0-notes.html#deprecations\n",
      "  y_encoded = np.zeros(y.shape, dtype=np.int)\n",
      "/home/service/miniconda3/envs/py39v7/lib/python3.8/site-packages/sklearn/tree/_classes.py:190: DeprecationWarning: `np.int` is a deprecated alias for the builtin `int`. To silence this warning, use `int` by itself. Doing this will not modify any behavior and is safe. When replacing `np.int`, you may wish to use e.g. `np.int64` or `np.int32` to specify the precision. If you wish to review your current use, check the release note link for additional information.\n",
      "Deprecated in NumPy 1.20; for more details and guidance: https://numpy.org/devdocs/release/1.20.0-notes.html#deprecations\n",
      "  y_encoded = np.zeros(y.shape, dtype=np.int)\n",
      "/home/service/miniconda3/envs/py39v7/lib/python3.8/site-packages/sklearn/tree/_classes.py:190: DeprecationWarning: `np.int` is a deprecated alias for the builtin `int`. To silence this warning, use `int` by itself. Doing this will not modify any behavior and is safe. When replacing `np.int`, you may wish to use e.g. `np.int64` or `np.int32` to specify the precision. If you wish to review your current use, check the release note link for additional information.\n",
      "Deprecated in NumPy 1.20; for more details and guidance: https://numpy.org/devdocs/release/1.20.0-notes.html#deprecations\n",
      "  y_encoded = np.zeros(y.shape, dtype=np.int)\n",
      "/home/service/miniconda3/envs/py39v7/lib/python3.8/site-packages/sklearn/tree/_classes.py:190: DeprecationWarning: `np.int` is a deprecated alias for the builtin `int`. To silence this warning, use `int` by itself. Doing this will not modify any behavior and is safe. When replacing `np.int`, you may wish to use e.g. `np.int64` or `np.int32` to specify the precision. If you wish to review your current use, check the release note link for additional information.\n",
      "Deprecated in NumPy 1.20; for more details and guidance: https://numpy.org/devdocs/release/1.20.0-notes.html#deprecations\n",
      "  y_encoded = np.zeros(y.shape, dtype=np.int)\n",
      "/home/service/miniconda3/envs/py39v7/lib/python3.8/site-packages/sklearn/tree/_classes.py:190: DeprecationWarning: `np.int` is a deprecated alias for the builtin `int`. To silence this warning, use `int` by itself. Doing this will not modify any behavior and is safe. When replacing `np.int`, you may wish to use e.g. `np.int64` or `np.int32` to specify the precision. If you wish to review your current use, check the release note link for additional information.\n",
      "Deprecated in NumPy 1.20; for more details and guidance: https://numpy.org/devdocs/release/1.20.0-notes.html#deprecations\n",
      "  y_encoded = np.zeros(y.shape, dtype=np.int)\n",
      "/home/service/miniconda3/envs/py39v7/lib/python3.8/site-packages/sklearn/tree/_classes.py:190: DeprecationWarning: `np.int` is a deprecated alias for the builtin `int`. To silence this warning, use `int` by itself. Doing this will not modify any behavior and is safe. When replacing `np.int`, you may wish to use e.g. `np.int64` or `np.int32` to specify the precision. If you wish to review your current use, check the release note link for additional information.\n",
      "Deprecated in NumPy 1.20; for more details and guidance: https://numpy.org/devdocs/release/1.20.0-notes.html#deprecations\n",
      "  y_encoded = np.zeros(y.shape, dtype=np.int)\n",
      "/home/service/miniconda3/envs/py39v7/lib/python3.8/site-packages/sklearn/tree/_classes.py:190: DeprecationWarning: `np.int` is a deprecated alias for the builtin `int`. To silence this warning, use `int` by itself. Doing this will not modify any behavior and is safe. When replacing `np.int`, you may wish to use e.g. `np.int64` or `np.int32` to specify the precision. If you wish to review your current use, check the release note link for additional information.\n",
      "Deprecated in NumPy 1.20; for more details and guidance: https://numpy.org/devdocs/release/1.20.0-notes.html#deprecations\n",
      "  y_encoded = np.zeros(y.shape, dtype=np.int)\n",
      "/home/service/miniconda3/envs/py39v7/lib/python3.8/site-packages/sklearn/tree/_classes.py:190: DeprecationWarning: `np.int` is a deprecated alias for the builtin `int`. To silence this warning, use `int` by itself. Doing this will not modify any behavior and is safe. When replacing `np.int`, you may wish to use e.g. `np.int64` or `np.int32` to specify the precision. If you wish to review your current use, check the release note link for additional information.\n",
      "Deprecated in NumPy 1.20; for more details and guidance: https://numpy.org/devdocs/release/1.20.0-notes.html#deprecations\n",
      "  y_encoded = np.zeros(y.shape, dtype=np.int)\n",
      "/home/service/miniconda3/envs/py39v7/lib/python3.8/site-packages/sklearn/tree/_classes.py:190: DeprecationWarning: `np.int` is a deprecated alias for the builtin `int`. To silence this warning, use `int` by itself. Doing this will not modify any behavior and is safe. When replacing `np.int`, you may wish to use e.g. `np.int64` or `np.int32` to specify the precision. If you wish to review your current use, check the release note link for additional information.\n",
      "Deprecated in NumPy 1.20; for more details and guidance: https://numpy.org/devdocs/release/1.20.0-notes.html#deprecations\n",
      "  y_encoded = np.zeros(y.shape, dtype=np.int)\n",
      "/home/service/miniconda3/envs/py39v7/lib/python3.8/site-packages/sklearn/tree/_classes.py:190: DeprecationWarning: `np.int` is a deprecated alias for the builtin `int`. To silence this warning, use `int` by itself. Doing this will not modify any behavior and is safe. When replacing `np.int`, you may wish to use e.g. `np.int64` or `np.int32` to specify the precision. If you wish to review your current use, check the release note link for additional information.\n",
      "Deprecated in NumPy 1.20; for more details and guidance: https://numpy.org/devdocs/release/1.20.0-notes.html#deprecations\n",
      "  y_encoded = np.zeros(y.shape, dtype=np.int)\n",
      "/home/service/miniconda3/envs/py39v7/lib/python3.8/site-packages/sklearn/tree/_classes.py:190: DeprecationWarning: `np.int` is a deprecated alias for the builtin `int`. To silence this warning, use `int` by itself. Doing this will not modify any behavior and is safe. When replacing `np.int`, you may wish to use e.g. `np.int64` or `np.int32` to specify the precision. If you wish to review your current use, check the release note link for additional information.\n",
      "Deprecated in NumPy 1.20; for more details and guidance: https://numpy.org/devdocs/release/1.20.0-notes.html#deprecations\n",
      "  y_encoded = np.zeros(y.shape, dtype=np.int)\n",
      "/home/service/miniconda3/envs/py39v7/lib/python3.8/site-packages/sklearn/tree/_classes.py:190: DeprecationWarning: `np.int` is a deprecated alias for the builtin `int`. To silence this warning, use `int` by itself. Doing this will not modify any behavior and is safe. When replacing `np.int`, you may wish to use e.g. `np.int64` or `np.int32` to specify the precision. If you wish to review your current use, check the release note link for additional information.\n",
      "Deprecated in NumPy 1.20; for more details and guidance: https://numpy.org/devdocs/release/1.20.0-notes.html#deprecations\n",
      "  y_encoded = np.zeros(y.shape, dtype=np.int)\n",
      "/home/service/miniconda3/envs/py39v7/lib/python3.8/site-packages/sklearn/tree/_classes.py:190: DeprecationWarning: `np.int` is a deprecated alias for the builtin `int`. To silence this warning, use `int` by itself. Doing this will not modify any behavior and is safe. When replacing `np.int`, you may wish to use e.g. `np.int64` or `np.int32` to specify the precision. If you wish to review your current use, check the release note link for additional information.\n",
      "Deprecated in NumPy 1.20; for more details and guidance: https://numpy.org/devdocs/release/1.20.0-notes.html#deprecations\n",
      "  y_encoded = np.zeros(y.shape, dtype=np.int)\n",
      "/home/service/miniconda3/envs/py39v7/lib/python3.8/site-packages/sklearn/tree/_classes.py:190: DeprecationWarning: `np.int` is a deprecated alias for the builtin `int`. To silence this warning, use `int` by itself. Doing this will not modify any behavior and is safe. When replacing `np.int`, you may wish to use e.g. `np.int64` or `np.int32` to specify the precision. If you wish to review your current use, check the release note link for additional information.\n",
      "Deprecated in NumPy 1.20; for more details and guidance: https://numpy.org/devdocs/release/1.20.0-notes.html#deprecations\n",
      "  y_encoded = np.zeros(y.shape, dtype=np.int)\n",
      "/home/service/miniconda3/envs/py39v7/lib/python3.8/site-packages/sklearn/tree/_classes.py:190: DeprecationWarning: `np.int` is a deprecated alias for the builtin `int`. To silence this warning, use `int` by itself. Doing this will not modify any behavior and is safe. When replacing `np.int`, you may wish to use e.g. `np.int64` or `np.int32` to specify the precision. If you wish to review your current use, check the release note link for additional information.\n",
      "Deprecated in NumPy 1.20; for more details and guidance: https://numpy.org/devdocs/release/1.20.0-notes.html#deprecations\n",
      "  y_encoded = np.zeros(y.shape, dtype=np.int)\n",
      "/home/service/miniconda3/envs/py39v7/lib/python3.8/site-packages/sklearn/tree/_classes.py:190: DeprecationWarning: `np.int` is a deprecated alias for the builtin `int`. To silence this warning, use `int` by itself. Doing this will not modify any behavior and is safe. When replacing `np.int`, you may wish to use e.g. `np.int64` or `np.int32` to specify the precision. If you wish to review your current use, check the release note link for additional information.\n",
      "Deprecated in NumPy 1.20; for more details and guidance: https://numpy.org/devdocs/release/1.20.0-notes.html#deprecations\n",
      "  y_encoded = np.zeros(y.shape, dtype=np.int)\n",
      "/home/service/miniconda3/envs/py39v7/lib/python3.8/site-packages/sklearn/tree/_classes.py:190: DeprecationWarning: `np.int` is a deprecated alias for the builtin `int`. To silence this warning, use `int` by itself. Doing this will not modify any behavior and is safe. When replacing `np.int`, you may wish to use e.g. `np.int64` or `np.int32` to specify the precision. If you wish to review your current use, check the release note link for additional information.\n",
      "Deprecated in NumPy 1.20; for more details and guidance: https://numpy.org/devdocs/release/1.20.0-notes.html#deprecations\n",
      "  y_encoded = np.zeros(y.shape, dtype=np.int)\n",
      "/home/service/miniconda3/envs/py39v7/lib/python3.8/site-packages/sklearn/tree/_classes.py:190: DeprecationWarning: `np.int` is a deprecated alias for the builtin `int`. To silence this warning, use `int` by itself. Doing this will not modify any behavior and is safe. When replacing `np.int`, you may wish to use e.g. `np.int64` or `np.int32` to specify the precision. If you wish to review your current use, check the release note link for additional information.\n",
      "Deprecated in NumPy 1.20; for more details and guidance: https://numpy.org/devdocs/release/1.20.0-notes.html#deprecations\n",
      "  y_encoded = np.zeros(y.shape, dtype=np.int)\n",
      "/home/service/miniconda3/envs/py39v7/lib/python3.8/site-packages/sklearn/tree/_classes.py:190: DeprecationWarning: `np.int` is a deprecated alias for the builtin `int`. To silence this warning, use `int` by itself. Doing this will not modify any behavior and is safe. When replacing `np.int`, you may wish to use e.g. `np.int64` or `np.int32` to specify the precision. If you wish to review your current use, check the release note link for additional information.\n",
      "Deprecated in NumPy 1.20; for more details and guidance: https://numpy.org/devdocs/release/1.20.0-notes.html#deprecations\n",
      "  y_encoded = np.zeros(y.shape, dtype=np.int)\n",
      "/home/service/miniconda3/envs/py39v7/lib/python3.8/site-packages/sklearn/tree/_classes.py:190: DeprecationWarning: `np.int` is a deprecated alias for the builtin `int`. To silence this warning, use `int` by itself. Doing this will not modify any behavior and is safe. When replacing `np.int`, you may wish to use e.g. `np.int64` or `np.int32` to specify the precision. If you wish to review your current use, check the release note link for additional information.\n",
      "Deprecated in NumPy 1.20; for more details and guidance: https://numpy.org/devdocs/release/1.20.0-notes.html#deprecations\n",
      "  y_encoded = np.zeros(y.shape, dtype=np.int)\n",
      "/home/service/miniconda3/envs/py39v7/lib/python3.8/site-packages/sklearn/tree/_classes.py:190: DeprecationWarning: `np.int` is a deprecated alias for the builtin `int`. To silence this warning, use `int` by itself. Doing this will not modify any behavior and is safe. When replacing `np.int`, you may wish to use e.g. `np.int64` or `np.int32` to specify the precision. If you wish to review your current use, check the release note link for additional information.\n",
      "Deprecated in NumPy 1.20; for more details and guidance: https://numpy.org/devdocs/release/1.20.0-notes.html#deprecations\n",
      "  y_encoded = np.zeros(y.shape, dtype=np.int)\n",
      "/home/service/miniconda3/envs/py39v7/lib/python3.8/site-packages/sklearn/tree/_classes.py:190: DeprecationWarning: `np.int` is a deprecated alias for the builtin `int`. To silence this warning, use `int` by itself. Doing this will not modify any behavior and is safe. When replacing `np.int`, you may wish to use e.g. `np.int64` or `np.int32` to specify the precision. If you wish to review your current use, check the release note link for additional information.\n",
      "Deprecated in NumPy 1.20; for more details and guidance: https://numpy.org/devdocs/release/1.20.0-notes.html#deprecations\n",
      "  y_encoded = np.zeros(y.shape, dtype=np.int)\n",
      "/home/service/miniconda3/envs/py39v7/lib/python3.8/site-packages/sklearn/tree/_classes.py:190: DeprecationWarning: `np.int` is a deprecated alias for the builtin `int`. To silence this warning, use `int` by itself. Doing this will not modify any behavior and is safe. When replacing `np.int`, you may wish to use e.g. `np.int64` or `np.int32` to specify the precision. If you wish to review your current use, check the release note link for additional information.\n",
      "Deprecated in NumPy 1.20; for more details and guidance: https://numpy.org/devdocs/release/1.20.0-notes.html#deprecations\n",
      "  y_encoded = np.zeros(y.shape, dtype=np.int)\n",
      "/home/service/miniconda3/envs/py39v7/lib/python3.8/site-packages/sklearn/tree/_classes.py:190: DeprecationWarning: `np.int` is a deprecated alias for the builtin `int`. To silence this warning, use `int` by itself. Doing this will not modify any behavior and is safe. When replacing `np.int`, you may wish to use e.g. `np.int64` or `np.int32` to specify the precision. If you wish to review your current use, check the release note link for additional information.\n",
      "Deprecated in NumPy 1.20; for more details and guidance: https://numpy.org/devdocs/release/1.20.0-notes.html#deprecations\n",
      "  y_encoded = np.zeros(y.shape, dtype=np.int)\n",
      "/home/service/miniconda3/envs/py39v7/lib/python3.8/site-packages/sklearn/tree/_classes.py:190: DeprecationWarning: `np.int` is a deprecated alias for the builtin `int`. To silence this warning, use `int` by itself. Doing this will not modify any behavior and is safe. When replacing `np.int`, you may wish to use e.g. `np.int64` or `np.int32` to specify the precision. If you wish to review your current use, check the release note link for additional information.\n",
      "Deprecated in NumPy 1.20; for more details and guidance: https://numpy.org/devdocs/release/1.20.0-notes.html#deprecations\n",
      "  y_encoded = np.zeros(y.shape, dtype=np.int)\n",
      "/home/service/miniconda3/envs/py39v7/lib/python3.8/site-packages/sklearn/tree/_classes.py:190: DeprecationWarning: `np.int` is a deprecated alias for the builtin `int`. To silence this warning, use `int` by itself. Doing this will not modify any behavior and is safe. When replacing `np.int`, you may wish to use e.g. `np.int64` or `np.int32` to specify the precision. If you wish to review your current use, check the release note link for additional information.\n",
      "Deprecated in NumPy 1.20; for more details and guidance: https://numpy.org/devdocs/release/1.20.0-notes.html#deprecations\n",
      "  y_encoded = np.zeros(y.shape, dtype=np.int)\n",
      "/home/service/miniconda3/envs/py39v7/lib/python3.8/site-packages/sklearn/tree/_classes.py:190: DeprecationWarning: `np.int` is a deprecated alias for the builtin `int`. To silence this warning, use `int` by itself. Doing this will not modify any behavior and is safe. When replacing `np.int`, you may wish to use e.g. `np.int64` or `np.int32` to specify the precision. If you wish to review your current use, check the release note link for additional information.\n",
      "Deprecated in NumPy 1.20; for more details and guidance: https://numpy.org/devdocs/release/1.20.0-notes.html#deprecations\n",
      "  y_encoded = np.zeros(y.shape, dtype=np.int)\n",
      "/home/service/miniconda3/envs/py39v7/lib/python3.8/site-packages/sklearn/tree/_classes.py:190: DeprecationWarning: `np.int` is a deprecated alias for the builtin `int`. To silence this warning, use `int` by itself. Doing this will not modify any behavior and is safe. When replacing `np.int`, you may wish to use e.g. `np.int64` or `np.int32` to specify the precision. If you wish to review your current use, check the release note link for additional information.\n",
      "Deprecated in NumPy 1.20; for more details and guidance: https://numpy.org/devdocs/release/1.20.0-notes.html#deprecations\n",
      "  y_encoded = np.zeros(y.shape, dtype=np.int)\n",
      "/home/service/miniconda3/envs/py39v7/lib/python3.8/site-packages/sklearn/tree/_classes.py:190: DeprecationWarning: `np.int` is a deprecated alias for the builtin `int`. To silence this warning, use `int` by itself. Doing this will not modify any behavior and is safe. When replacing `np.int`, you may wish to use e.g. `np.int64` or `np.int32` to specify the precision. If you wish to review your current use, check the release note link for additional information.\n",
      "Deprecated in NumPy 1.20; for more details and guidance: https://numpy.org/devdocs/release/1.20.0-notes.html#deprecations\n",
      "  y_encoded = np.zeros(y.shape, dtype=np.int)\n",
      "/home/service/miniconda3/envs/py39v7/lib/python3.8/site-packages/sklearn/tree/_classes.py:190: DeprecationWarning: `np.int` is a deprecated alias for the builtin `int`. To silence this warning, use `int` by itself. Doing this will not modify any behavior and is safe. When replacing `np.int`, you may wish to use e.g. `np.int64` or `np.int32` to specify the precision. If you wish to review your current use, check the release note link for additional information.\n",
      "Deprecated in NumPy 1.20; for more details and guidance: https://numpy.org/devdocs/release/1.20.0-notes.html#deprecations\n",
      "  y_encoded = np.zeros(y.shape, dtype=np.int)\n",
      "/home/service/miniconda3/envs/py39v7/lib/python3.8/site-packages/sklearn/tree/_classes.py:190: DeprecationWarning: `np.int` is a deprecated alias for the builtin `int`. To silence this warning, use `int` by itself. Doing this will not modify any behavior and is safe. When replacing `np.int`, you may wish to use e.g. `np.int64` or `np.int32` to specify the precision. If you wish to review your current use, check the release note link for additional information.\n",
      "Deprecated in NumPy 1.20; for more details and guidance: https://numpy.org/devdocs/release/1.20.0-notes.html#deprecations\n",
      "  y_encoded = np.zeros(y.shape, dtype=np.int)\n",
      "/home/service/miniconda3/envs/py39v7/lib/python3.8/site-packages/sklearn/tree/_classes.py:190: DeprecationWarning: `np.int` is a deprecated alias for the builtin `int`. To silence this warning, use `int` by itself. Doing this will not modify any behavior and is safe. When replacing `np.int`, you may wish to use e.g. `np.int64` or `np.int32` to specify the precision. If you wish to review your current use, check the release note link for additional information.\n",
      "Deprecated in NumPy 1.20; for more details and guidance: https://numpy.org/devdocs/release/1.20.0-notes.html#deprecations\n",
      "  y_encoded = np.zeros(y.shape, dtype=np.int)\n",
      "/home/service/miniconda3/envs/py39v7/lib/python3.8/site-packages/sklearn/tree/_classes.py:190: DeprecationWarning: `np.int` is a deprecated alias for the builtin `int`. To silence this warning, use `int` by itself. Doing this will not modify any behavior and is safe. When replacing `np.int`, you may wish to use e.g. `np.int64` or `np.int32` to specify the precision. If you wish to review your current use, check the release note link for additional information.\n",
      "Deprecated in NumPy 1.20; for more details and guidance: https://numpy.org/devdocs/release/1.20.0-notes.html#deprecations\n",
      "  y_encoded = np.zeros(y.shape, dtype=np.int)\n",
      "/home/service/miniconda3/envs/py39v7/lib/python3.8/site-packages/sklearn/tree/_classes.py:190: DeprecationWarning: `np.int` is a deprecated alias for the builtin `int`. To silence this warning, use `int` by itself. Doing this will not modify any behavior and is safe. When replacing `np.int`, you may wish to use e.g. `np.int64` or `np.int32` to specify the precision. If you wish to review your current use, check the release note link for additional information.\n",
      "Deprecated in NumPy 1.20; for more details and guidance: https://numpy.org/devdocs/release/1.20.0-notes.html#deprecations\n",
      "  y_encoded = np.zeros(y.shape, dtype=np.int)\n",
      "/home/service/miniconda3/envs/py39v7/lib/python3.8/site-packages/sklearn/tree/_classes.py:190: DeprecationWarning: `np.int` is a deprecated alias for the builtin `int`. To silence this warning, use `int` by itself. Doing this will not modify any behavior and is safe. When replacing `np.int`, you may wish to use e.g. `np.int64` or `np.int32` to specify the precision. If you wish to review your current use, check the release note link for additional information.\n",
      "Deprecated in NumPy 1.20; for more details and guidance: https://numpy.org/devdocs/release/1.20.0-notes.html#deprecations\n",
      "  y_encoded = np.zeros(y.shape, dtype=np.int)\n",
      "/home/service/miniconda3/envs/py39v7/lib/python3.8/site-packages/sklearn/tree/_classes.py:190: DeprecationWarning: `np.int` is a deprecated alias for the builtin `int`. To silence this warning, use `int` by itself. Doing this will not modify any behavior and is safe. When replacing `np.int`, you may wish to use e.g. `np.int64` or `np.int32` to specify the precision. If you wish to review your current use, check the release note link for additional information.\n",
      "Deprecated in NumPy 1.20; for more details and guidance: https://numpy.org/devdocs/release/1.20.0-notes.html#deprecations\n",
      "  y_encoded = np.zeros(y.shape, dtype=np.int)\n",
      "/home/service/miniconda3/envs/py39v7/lib/python3.8/site-packages/sklearn/tree/_classes.py:190: DeprecationWarning: `np.int` is a deprecated alias for the builtin `int`. To silence this warning, use `int` by itself. Doing this will not modify any behavior and is safe. When replacing `np.int`, you may wish to use e.g. `np.int64` or `np.int32` to specify the precision. If you wish to review your current use, check the release note link for additional information.\n",
      "Deprecated in NumPy 1.20; for more details and guidance: https://numpy.org/devdocs/release/1.20.0-notes.html#deprecations\n",
      "  y_encoded = np.zeros(y.shape, dtype=np.int)\n",
      "/home/service/miniconda3/envs/py39v7/lib/python3.8/site-packages/sklearn/tree/_classes.py:190: DeprecationWarning: `np.int` is a deprecated alias for the builtin `int`. To silence this warning, use `int` by itself. Doing this will not modify any behavior and is safe. When replacing `np.int`, you may wish to use e.g. `np.int64` or `np.int32` to specify the precision. If you wish to review your current use, check the release note link for additional information.\n",
      "Deprecated in NumPy 1.20; for more details and guidance: https://numpy.org/devdocs/release/1.20.0-notes.html#deprecations\n",
      "  y_encoded = np.zeros(y.shape, dtype=np.int)\n",
      "/home/service/miniconda3/envs/py39v7/lib/python3.8/site-packages/sklearn/tree/_classes.py:190: DeprecationWarning: `np.int` is a deprecated alias for the builtin `int`. To silence this warning, use `int` by itself. Doing this will not modify any behavior and is safe. When replacing `np.int`, you may wish to use e.g. `np.int64` or `np.int32` to specify the precision. If you wish to review your current use, check the release note link for additional information.\n",
      "Deprecated in NumPy 1.20; for more details and guidance: https://numpy.org/devdocs/release/1.20.0-notes.html#deprecations\n",
      "  y_encoded = np.zeros(y.shape, dtype=np.int)\n",
      "/home/service/miniconda3/envs/py39v7/lib/python3.8/site-packages/sklearn/tree/_classes.py:190: DeprecationWarning: `np.int` is a deprecated alias for the builtin `int`. To silence this warning, use `int` by itself. Doing this will not modify any behavior and is safe. When replacing `np.int`, you may wish to use e.g. `np.int64` or `np.int32` to specify the precision. If you wish to review your current use, check the release note link for additional information.\n",
      "Deprecated in NumPy 1.20; for more details and guidance: https://numpy.org/devdocs/release/1.20.0-notes.html#deprecations\n",
      "  y_encoded = np.zeros(y.shape, dtype=np.int)\n",
      "/home/service/miniconda3/envs/py39v7/lib/python3.8/site-packages/sklearn/tree/_classes.py:190: DeprecationWarning: `np.int` is a deprecated alias for the builtin `int`. To silence this warning, use `int` by itself. Doing this will not modify any behavior and is safe. When replacing `np.int`, you may wish to use e.g. `np.int64` or `np.int32` to specify the precision. If you wish to review your current use, check the release note link for additional information.\n",
      "Deprecated in NumPy 1.20; for more details and guidance: https://numpy.org/devdocs/release/1.20.0-notes.html#deprecations\n",
      "  y_encoded = np.zeros(y.shape, dtype=np.int)\n",
      "/home/service/miniconda3/envs/py39v7/lib/python3.8/site-packages/sklearn/tree/_classes.py:190: DeprecationWarning: `np.int` is a deprecated alias for the builtin `int`. To silence this warning, use `int` by itself. Doing this will not modify any behavior and is safe. When replacing `np.int`, you may wish to use e.g. `np.int64` or `np.int32` to specify the precision. If you wish to review your current use, check the release note link for additional information.\n",
      "Deprecated in NumPy 1.20; for more details and guidance: https://numpy.org/devdocs/release/1.20.0-notes.html#deprecations\n",
      "  y_encoded = np.zeros(y.shape, dtype=np.int)\n",
      "/home/service/miniconda3/envs/py39v7/lib/python3.8/site-packages/sklearn/tree/_classes.py:190: DeprecationWarning: `np.int` is a deprecated alias for the builtin `int`. To silence this warning, use `int` by itself. Doing this will not modify any behavior and is safe. When replacing `np.int`, you may wish to use e.g. `np.int64` or `np.int32` to specify the precision. If you wish to review your current use, check the release note link for additional information.\n",
      "Deprecated in NumPy 1.20; for more details and guidance: https://numpy.org/devdocs/release/1.20.0-notes.html#deprecations\n",
      "  y_encoded = np.zeros(y.shape, dtype=np.int)\n",
      "/home/service/miniconda3/envs/py39v7/lib/python3.8/site-packages/sklearn/tree/_classes.py:190: DeprecationWarning: `np.int` is a deprecated alias for the builtin `int`. To silence this warning, use `int` by itself. Doing this will not modify any behavior and is safe. When replacing `np.int`, you may wish to use e.g. `np.int64` or `np.int32` to specify the precision. If you wish to review your current use, check the release note link for additional information.\n",
      "Deprecated in NumPy 1.20; for more details and guidance: https://numpy.org/devdocs/release/1.20.0-notes.html#deprecations\n",
      "  y_encoded = np.zeros(y.shape, dtype=np.int)\n",
      "/home/service/miniconda3/envs/py39v7/lib/python3.8/site-packages/sklearn/tree/_classes.py:190: DeprecationWarning: `np.int` is a deprecated alias for the builtin `int`. To silence this warning, use `int` by itself. Doing this will not modify any behavior and is safe. When replacing `np.int`, you may wish to use e.g. `np.int64` or `np.int32` to specify the precision. If you wish to review your current use, check the release note link for additional information.\n",
      "Deprecated in NumPy 1.20; for more details and guidance: https://numpy.org/devdocs/release/1.20.0-notes.html#deprecations\n",
      "  y_encoded = np.zeros(y.shape, dtype=np.int)\n",
      "/home/service/miniconda3/envs/py39v7/lib/python3.8/site-packages/sklearn/tree/_classes.py:190: DeprecationWarning: `np.int` is a deprecated alias for the builtin `int`. To silence this warning, use `int` by itself. Doing this will not modify any behavior and is safe. When replacing `np.int`, you may wish to use e.g. `np.int64` or `np.int32` to specify the precision. If you wish to review your current use, check the release note link for additional information.\n",
      "Deprecated in NumPy 1.20; for more details and guidance: https://numpy.org/devdocs/release/1.20.0-notes.html#deprecations\n",
      "  y_encoded = np.zeros(y.shape, dtype=np.int)\n",
      "/home/service/miniconda3/envs/py39v7/lib/python3.8/site-packages/sklearn/tree/_classes.py:190: DeprecationWarning: `np.int` is a deprecated alias for the builtin `int`. To silence this warning, use `int` by itself. Doing this will not modify any behavior and is safe. When replacing `np.int`, you may wish to use e.g. `np.int64` or `np.int32` to specify the precision. If you wish to review your current use, check the release note link for additional information.\n",
      "Deprecated in NumPy 1.20; for more details and guidance: https://numpy.org/devdocs/release/1.20.0-notes.html#deprecations\n",
      "  y_encoded = np.zeros(y.shape, dtype=np.int)\n",
      "/home/service/miniconda3/envs/py39v7/lib/python3.8/site-packages/sklearn/tree/_classes.py:190: DeprecationWarning: `np.int` is a deprecated alias for the builtin `int`. To silence this warning, use `int` by itself. Doing this will not modify any behavior and is safe. When replacing `np.int`, you may wish to use e.g. `np.int64` or `np.int32` to specify the precision. If you wish to review your current use, check the release note link for additional information.\n",
      "Deprecated in NumPy 1.20; for more details and guidance: https://numpy.org/devdocs/release/1.20.0-notes.html#deprecations\n",
      "  y_encoded = np.zeros(y.shape, dtype=np.int)\n",
      "/home/service/miniconda3/envs/py39v7/lib/python3.8/site-packages/sklearn/tree/_classes.py:190: DeprecationWarning: `np.int` is a deprecated alias for the builtin `int`. To silence this warning, use `int` by itself. Doing this will not modify any behavior and is safe. When replacing `np.int`, you may wish to use e.g. `np.int64` or `np.int32` to specify the precision. If you wish to review your current use, check the release note link for additional information.\n",
      "Deprecated in NumPy 1.20; for more details and guidance: https://numpy.org/devdocs/release/1.20.0-notes.html#deprecations\n",
      "  y_encoded = np.zeros(y.shape, dtype=np.int)\n",
      "/home/service/miniconda3/envs/py39v7/lib/python3.8/site-packages/sklearn/tree/_classes.py:190: DeprecationWarning: `np.int` is a deprecated alias for the builtin `int`. To silence this warning, use `int` by itself. Doing this will not modify any behavior and is safe. When replacing `np.int`, you may wish to use e.g. `np.int64` or `np.int32` to specify the precision. If you wish to review your current use, check the release note link for additional information.\n",
      "Deprecated in NumPy 1.20; for more details and guidance: https://numpy.org/devdocs/release/1.20.0-notes.html#deprecations\n",
      "  y_encoded = np.zeros(y.shape, dtype=np.int)\n",
      "/home/service/miniconda3/envs/py39v7/lib/python3.8/site-packages/sklearn/tree/_classes.py:190: DeprecationWarning: `np.int` is a deprecated alias for the builtin `int`. To silence this warning, use `int` by itself. Doing this will not modify any behavior and is safe. When replacing `np.int`, you may wish to use e.g. `np.int64` or `np.int32` to specify the precision. If you wish to review your current use, check the release note link for additional information.\n",
      "Deprecated in NumPy 1.20; for more details and guidance: https://numpy.org/devdocs/release/1.20.0-notes.html#deprecations\n",
      "  y_encoded = np.zeros(y.shape, dtype=np.int)\n",
      "/home/service/miniconda3/envs/py39v7/lib/python3.8/site-packages/sklearn/tree/_classes.py:190: DeprecationWarning: `np.int` is a deprecated alias for the builtin `int`. To silence this warning, use `int` by itself. Doing this will not modify any behavior and is safe. When replacing `np.int`, you may wish to use e.g. `np.int64` or `np.int32` to specify the precision. If you wish to review your current use, check the release note link for additional information.\n",
      "Deprecated in NumPy 1.20; for more details and guidance: https://numpy.org/devdocs/release/1.20.0-notes.html#deprecations\n",
      "  y_encoded = np.zeros(y.shape, dtype=np.int)\n",
      "/home/service/miniconda3/envs/py39v7/lib/python3.8/site-packages/sklearn/tree/_classes.py:190: DeprecationWarning: `np.int` is a deprecated alias for the builtin `int`. To silence this warning, use `int` by itself. Doing this will not modify any behavior and is safe. When replacing `np.int`, you may wish to use e.g. `np.int64` or `np.int32` to specify the precision. If you wish to review your current use, check the release note link for additional information.\n",
      "Deprecated in NumPy 1.20; for more details and guidance: https://numpy.org/devdocs/release/1.20.0-notes.html#deprecations\n",
      "  y_encoded = np.zeros(y.shape, dtype=np.int)\n",
      "/home/service/miniconda3/envs/py39v7/lib/python3.8/site-packages/sklearn/tree/_classes.py:190: DeprecationWarning: `np.int` is a deprecated alias for the builtin `int`. To silence this warning, use `int` by itself. Doing this will not modify any behavior and is safe. When replacing `np.int`, you may wish to use e.g. `np.int64` or `np.int32` to specify the precision. If you wish to review your current use, check the release note link for additional information.\n",
      "Deprecated in NumPy 1.20; for more details and guidance: https://numpy.org/devdocs/release/1.20.0-notes.html#deprecations\n",
      "  y_encoded = np.zeros(y.shape, dtype=np.int)\n",
      "/home/service/miniconda3/envs/py39v7/lib/python3.8/site-packages/sklearn/tree/_classes.py:190: DeprecationWarning: `np.int` is a deprecated alias for the builtin `int`. To silence this warning, use `int` by itself. Doing this will not modify any behavior and is safe. When replacing `np.int`, you may wish to use e.g. `np.int64` or `np.int32` to specify the precision. If you wish to review your current use, check the release note link for additional information.\n",
      "Deprecated in NumPy 1.20; for more details and guidance: https://numpy.org/devdocs/release/1.20.0-notes.html#deprecations\n",
      "  y_encoded = np.zeros(y.shape, dtype=np.int)\n",
      "/home/service/miniconda3/envs/py39v7/lib/python3.8/site-packages/sklearn/tree/_classes.py:190: DeprecationWarning: `np.int` is a deprecated alias for the builtin `int`. To silence this warning, use `int` by itself. Doing this will not modify any behavior and is safe. When replacing `np.int`, you may wish to use e.g. `np.int64` or `np.int32` to specify the precision. If you wish to review your current use, check the release note link for additional information.\n",
      "Deprecated in NumPy 1.20; for more details and guidance: https://numpy.org/devdocs/release/1.20.0-notes.html#deprecations\n",
      "  y_encoded = np.zeros(y.shape, dtype=np.int)\n",
      "/home/service/miniconda3/envs/py39v7/lib/python3.8/site-packages/sklearn/tree/_classes.py:190: DeprecationWarning: `np.int` is a deprecated alias for the builtin `int`. To silence this warning, use `int` by itself. Doing this will not modify any behavior and is safe. When replacing `np.int`, you may wish to use e.g. `np.int64` or `np.int32` to specify the precision. If you wish to review your current use, check the release note link for additional information.\n",
      "Deprecated in NumPy 1.20; for more details and guidance: https://numpy.org/devdocs/release/1.20.0-notes.html#deprecations\n",
      "  y_encoded = np.zeros(y.shape, dtype=np.int)\n",
      "/home/service/miniconda3/envs/py39v7/lib/python3.8/site-packages/sklearn/tree/_classes.py:190: DeprecationWarning: `np.int` is a deprecated alias for the builtin `int`. To silence this warning, use `int` by itself. Doing this will not modify any behavior and is safe. When replacing `np.int`, you may wish to use e.g. `np.int64` or `np.int32` to specify the precision. If you wish to review your current use, check the release note link for additional information.\n",
      "Deprecated in NumPy 1.20; for more details and guidance: https://numpy.org/devdocs/release/1.20.0-notes.html#deprecations\n",
      "  y_encoded = np.zeros(y.shape, dtype=np.int)\n",
      "/home/service/miniconda3/envs/py39v7/lib/python3.8/site-packages/sklearn/tree/_classes.py:190: DeprecationWarning: `np.int` is a deprecated alias for the builtin `int`. To silence this warning, use `int` by itself. Doing this will not modify any behavior and is safe. When replacing `np.int`, you may wish to use e.g. `np.int64` or `np.int32` to specify the precision. If you wish to review your current use, check the release note link for additional information.\n",
      "Deprecated in NumPy 1.20; for more details and guidance: https://numpy.org/devdocs/release/1.20.0-notes.html#deprecations\n",
      "  y_encoded = np.zeros(y.shape, dtype=np.int)\n",
      "/home/service/miniconda3/envs/py39v7/lib/python3.8/site-packages/sklearn/tree/_classes.py:190: DeprecationWarning: `np.int` is a deprecated alias for the builtin `int`. To silence this warning, use `int` by itself. Doing this will not modify any behavior and is safe. When replacing `np.int`, you may wish to use e.g. `np.int64` or `np.int32` to specify the precision. If you wish to review your current use, check the release note link for additional information.\n",
      "Deprecated in NumPy 1.20; for more details and guidance: https://numpy.org/devdocs/release/1.20.0-notes.html#deprecations\n",
      "  y_encoded = np.zeros(y.shape, dtype=np.int)\n",
      "/home/service/miniconda3/envs/py39v7/lib/python3.8/site-packages/sklearn/tree/_classes.py:190: DeprecationWarning: `np.int` is a deprecated alias for the builtin `int`. To silence this warning, use `int` by itself. Doing this will not modify any behavior and is safe. When replacing `np.int`, you may wish to use e.g. `np.int64` or `np.int32` to specify the precision. If you wish to review your current use, check the release note link for additional information.\n",
      "Deprecated in NumPy 1.20; for more details and guidance: https://numpy.org/devdocs/release/1.20.0-notes.html#deprecations\n",
      "  y_encoded = np.zeros(y.shape, dtype=np.int)\n",
      "/home/service/miniconda3/envs/py39v7/lib/python3.8/site-packages/sklearn/tree/_classes.py:190: DeprecationWarning: `np.int` is a deprecated alias for the builtin `int`. To silence this warning, use `int` by itself. Doing this will not modify any behavior and is safe. When replacing `np.int`, you may wish to use e.g. `np.int64` or `np.int32` to specify the precision. If you wish to review your current use, check the release note link for additional information.\n",
      "Deprecated in NumPy 1.20; for more details and guidance: https://numpy.org/devdocs/release/1.20.0-notes.html#deprecations\n",
      "  y_encoded = np.zeros(y.shape, dtype=np.int)\n",
      "/home/service/miniconda3/envs/py39v7/lib/python3.8/site-packages/sklearn/tree/_classes.py:190: DeprecationWarning: `np.int` is a deprecated alias for the builtin `int`. To silence this warning, use `int` by itself. Doing this will not modify any behavior and is safe. When replacing `np.int`, you may wish to use e.g. `np.int64` or `np.int32` to specify the precision. If you wish to review your current use, check the release note link for additional information.\n",
      "Deprecated in NumPy 1.20; for more details and guidance: https://numpy.org/devdocs/release/1.20.0-notes.html#deprecations\n",
      "  y_encoded = np.zeros(y.shape, dtype=np.int)\n",
      "/home/service/miniconda3/envs/py39v7/lib/python3.8/site-packages/sklearn/tree/_classes.py:190: DeprecationWarning: `np.int` is a deprecated alias for the builtin `int`. To silence this warning, use `int` by itself. Doing this will not modify any behavior and is safe. When replacing `np.int`, you may wish to use e.g. `np.int64` or `np.int32` to specify the precision. If you wish to review your current use, check the release note link for additional information.\n",
      "Deprecated in NumPy 1.20; for more details and guidance: https://numpy.org/devdocs/release/1.20.0-notes.html#deprecations\n",
      "  y_encoded = np.zeros(y.shape, dtype=np.int)\n",
      "/home/service/miniconda3/envs/py39v7/lib/python3.8/site-packages/sklearn/tree/_classes.py:190: DeprecationWarning: `np.int` is a deprecated alias for the builtin `int`. To silence this warning, use `int` by itself. Doing this will not modify any behavior and is safe. When replacing `np.int`, you may wish to use e.g. `np.int64` or `np.int32` to specify the precision. If you wish to review your current use, check the release note link for additional information.\n",
      "Deprecated in NumPy 1.20; for more details and guidance: https://numpy.org/devdocs/release/1.20.0-notes.html#deprecations\n",
      "  y_encoded = np.zeros(y.shape, dtype=np.int)\n",
      "/home/service/miniconda3/envs/py39v7/lib/python3.8/site-packages/sklearn/tree/_classes.py:190: DeprecationWarning: `np.int` is a deprecated alias for the builtin `int`. To silence this warning, use `int` by itself. Doing this will not modify any behavior and is safe. When replacing `np.int`, you may wish to use e.g. `np.int64` or `np.int32` to specify the precision. If you wish to review your current use, check the release note link for additional information.\n",
      "Deprecated in NumPy 1.20; for more details and guidance: https://numpy.org/devdocs/release/1.20.0-notes.html#deprecations\n",
      "  y_encoded = np.zeros(y.shape, dtype=np.int)\n",
      "/home/service/miniconda3/envs/py39v7/lib/python3.8/site-packages/sklearn/tree/_classes.py:190: DeprecationWarning: `np.int` is a deprecated alias for the builtin `int`. To silence this warning, use `int` by itself. Doing this will not modify any behavior and is safe. When replacing `np.int`, you may wish to use e.g. `np.int64` or `np.int32` to specify the precision. If you wish to review your current use, check the release note link for additional information.\n",
      "Deprecated in NumPy 1.20; for more details and guidance: https://numpy.org/devdocs/release/1.20.0-notes.html#deprecations\n",
      "  y_encoded = np.zeros(y.shape, dtype=np.int)\n",
      "/home/service/miniconda3/envs/py39v7/lib/python3.8/site-packages/sklearn/ensemble/_base.py:183: DeprecationWarning: `np.int` is a deprecated alias for the builtin `int`. To silence this warning, use `int` by itself. Doing this will not modify any behavior and is safe. When replacing `np.int`, you may wish to use e.g. `np.int64` or `np.int32` to specify the precision. If you wish to review your current use, check the release note link for additional information.\n",
      "Deprecated in NumPy 1.20; for more details and guidance: https://numpy.org/devdocs/release/1.20.0-notes.html#deprecations\n",
      "  dtype=np.int)\n"
     ]
    }
   ],
   "source": [
    "flight_df = predict_next_avg_delay_df_nodanger\n",
    "\n",
    "rwy_cols = [\"rwy__10\", \"rwy__14\", \"rwy__16\", \"rwy__28\", \"rwy__32\", \"rwy__34\"]\n",
    "\n",
    "taxi_path_related = [\"taxi_dist\", \"angle_sum\"]  # To add if relevant\n",
    "\n",
    "to_scale_cols = [\n",
    "    \"hh_num\",\n",
    "    #  \"avg_outbound_delay_lastXmin\",\n",
    "    \"nominal\",\n",
    "    \"busy\",\n",
    "    \"disrupted\",\n",
    "    \"not_nom_arrival_ratio\",\n",
    "    \"press\",\n",
    "    \"temp\",\n",
    "    \"atmap_visibility\",\n",
    "    \"atmap_wind\",\n",
    "    \"atmap_precipitation\",\n",
    "    \"atmap_freezing\",\n",
    "    \"atmap_danger\",\n",
    "    # \"atmap_score\",\n",
    "    \"nb_arr\",\n",
    "    \"nb_dep\",\n",
    "    \"nb\",\n",
    "    \"H\",\n",
    "    \"L\",\n",
    "    \"L/M\",\n",
    "    \"M\",\n",
    "    \"H_count\",\n",
    "    \"L_count\",\n",
    "    \"L/M_count\",\n",
    "    \"M_count\",\n",
    "    \"H_count_ratio\",\n",
    "    \"L_count_ratio\",\n",
    "    \"L/M_count_ratio\",\n",
    "    \"M_count_ratio\",\n",
    "    \"turnaround_minutes\",\n",
    "]\n",
    "feature_columns = to_scale_cols  # + rwy_cols  #\n",
    "\n",
    "target_column = (\n",
    "    \"nextAvgDelay_cat\"  #'total_holding_time_minutes'      taxi_holding_time_minutes\n",
    ")\n",
    "\n",
    "flight_df = onehot_runways(flight_df)\n",
    "data_df = flight_df.query(\"config=='NORTH0' & mvt_type=='DEP' \")[\n",
    "    feature_columns + [target_column]\n",
    "].dropna()\n",
    "\n",
    "\n",
    "input_df = data_df[feature_columns]\n",
    "target_df = data_df[[target_column]]\n",
    "\n",
    "\n",
    "from sklearn.preprocessing import StandardScaler\n",
    "\n",
    "data_train, data_test, labels_train, labels_test = train_test_split(\n",
    "    input_df,\n",
    "    target_df,\n",
    "    test_size=0.20,\n",
    "    random_state=42,\n",
    ")\n",
    "\n",
    "\"\"\"\n",
    "sc = StandardScaler()\n",
    "data_train = sc.fit_transform(data_train)\n",
    "data_test = sc.transform(data_test)\"\"\"\n",
    "\"\"\"\n",
    "model_rf = RandomForestRegressor(n_estimators=150, min_samples_split=10)\"\"\"\n",
    "\n",
    "clf = RandomForestClassifier(\n",
    "    n_estimators=150,\n",
    "    min_samples_split=10,  # class_weight=\"balanced\"\n",
    ")\n",
    "\n",
    "\n",
    "sc = StandardScaler()\n",
    "data_train = sc.fit_transform(data_train)\n",
    "data_test = sc.transform(data_test)\n",
    "\n",
    "# fit the model on the whole dataset\n",
    "clf.fit(data_train, labels_train)\n",
    "# make a single prediction\n",
    "predicted = clf.predict(data_test)"
   ]
  },
  {
   "cell_type": "code",
   "execution_count": 185,
   "id": "64c48b49-9bdf-4711-ad55-5bca3a554094",
   "metadata": {
    "execution": {
     "iopub.execute_input": "2021-06-29T17:52:22.016905Z",
     "iopub.status.busy": "2021-06-29T17:52:22.016481Z",
     "iopub.status.idle": "2021-06-29T17:52:22.028887Z",
     "shell.execute_reply": "2021-06-29T17:52:22.028137Z",
     "shell.execute_reply.started": "2021-06-29T17:52:22.016857Z"
    },
    "tags": []
   },
   "outputs": [
    {
     "name": "stderr",
     "output_type": "stream",
     "text": [
      "/home/service/miniconda3/envs/py39v7/lib/python3.8/site-packages/ipykernel/ipkernel.py:283: DeprecationWarning: `should_run_async` will not call `transform_cell` automatically in the future. Please pass the result to `transformed_cell` argument and any exception that happen during thetransform in `preprocessing_exc_tuple` in IPython 7.17 and above.\n",
      "  and should_run_async(code)\n"
     ]
    }
   ],
   "source": [
    "from sklearn.metrics import plot_confusion_matrix, classification_report"
   ]
  },
  {
   "cell_type": "code",
   "execution_count": 184,
   "id": "d5810fa9-b48c-4627-a4b6-348f7cc12f0e",
   "metadata": {
    "execution": {
     "iopub.execute_input": "2021-06-28T13:40:37.407215Z",
     "iopub.status.busy": "2021-06-28T13:40:37.406667Z",
     "iopub.status.idle": "2021-06-28T13:40:37.595352Z",
     "shell.execute_reply": "2021-06-28T13:40:37.594734Z",
     "shell.execute_reply.started": "2021-06-28T13:40:37.407160Z"
    },
    "tags": []
   },
   "outputs": [
    {
     "name": "stderr",
     "output_type": "stream",
     "text": [
      "/home/service/miniconda3/envs/py39v7/lib/python3.8/site-packages/ipykernel/ipkernel.py:283: DeprecationWarning: `should_run_async` will not call `transform_cell` automatically in the future. Please pass the result to `transformed_cell` argument and any exception that happen during thetransform in `preprocessing_exc_tuple` in IPython 7.17 and above.\n",
      "  and should_run_async(code)\n",
      "/home/service/miniconda3/envs/py39v7/lib/python3.8/site-packages/sklearn/ensemble/_base.py:183: DeprecationWarning: `np.int` is a deprecated alias for the builtin `int`. To silence this warning, use `int` by itself. Doing this will not modify any behavior and is safe. When replacing `np.int`, you may wish to use e.g. `np.int64` or `np.int32` to specify the precision. If you wish to review your current use, check the release note link for additional information.\n",
      "Deprecated in NumPy 1.20; for more details and guidance: https://numpy.org/devdocs/release/1.20.0-notes.html#deprecations\n",
      "  dtype=np.int)\n"
     ]
    },
    {
     "data": {
      "text/plain": [
       "<sklearn.metrics._plot.confusion_matrix.ConfusionMatrixDisplay at 0x7f17f2acfb20>"
      ]
     },
     "execution_count": 184,
     "metadata": {},
     "output_type": "execute_result"
    },
    {
     "data": {
      "image/png": "[encoded data removed]",
      "text/plain": [
       "<Figure size 432x288 with 2 Axes>"
      ]
     },
     "metadata": {
      "needs_background": "light"
     },
     "output_type": "display_data"
    }
   ],
   "source": [
    "plot_confusion_matrix(\n",
    "    clf,\n",
    "    data_test,\n",
    "    labels_test,\n",
    "    display_labels=[\"<8\", \">=8\"],\n",
    "    cmap=plt.cm.Blues,\n",
    "    normalize=\"pred\",\n",
    ")"
   ]
  },
  {
   "cell_type": "code",
   "execution_count": 188,
   "id": "3c132323-e69a-430d-a5b3-760ed2b3599e",
   "metadata": {
    "execution": {
     "iopub.execute_input": "2021-06-29T17:53:03.204372Z",
     "iopub.status.busy": "2021-06-29T17:53:03.204086Z",
     "iopub.status.idle": "2021-06-29T17:53:03.215445Z",
     "shell.execute_reply": "2021-06-29T17:53:03.214769Z",
     "shell.execute_reply.started": "2021-06-29T17:53:03.204345Z"
    },
    "tags": []
   },
   "outputs": [
    {
     "name": "stdout",
     "output_type": "stream",
     "text": [
      "              precision    recall  f1-score   support\n",
      "\n",
      "           0       0.95      1.00      0.97      2187\n",
      "           1       0.83      0.26      0.40       170\n",
      "\n",
      "    accuracy                           0.94      2357\n",
      "   macro avg       0.89      0.63      0.69      2357\n",
      "weighted avg       0.94      0.94      0.93      2357\n",
      "\n"
     ]
    }
   ],
   "source": [
    "print(classification_report(labels_test, predicted))"
   ]
  },
  {
   "cell_type": "code",
   "execution_count": 190,
   "id": "855a4fa2-2db0-4fec-854e-b5164bc6969d",
   "metadata": {
    "execution": {
     "iopub.execute_input": "2021-06-29T17:54:35.519325Z",
     "iopub.status.busy": "2021-06-29T17:54:35.519029Z",
     "iopub.status.idle": "2021-06-29T17:54:35.525642Z",
     "shell.execute_reply": "2021-06-29T17:54:35.525068Z",
     "shell.execute_reply.started": "2021-06-29T17:54:35.519298Z"
    },
    "tags": []
   },
   "outputs": [
    {
     "name": "stderr",
     "output_type": "stream",
     "text": [
      "/home/service/miniconda3/envs/py39v7/lib/python3.8/site-packages/ipykernel/ipkernel.py:283: DeprecationWarning: `should_run_async` will not call `transform_cell` automatically in the future. Please pass the result to `transformed_cell` argument and any exception that happen during thetransform in `preprocessing_exc_tuple` in IPython 7.17 and above.\n",
      "  and should_run_async(code)\n"
     ]
    },
    {
     "data": {
      "text/plain": [
       "'hh_num nominal busy disrupted not_nom_arrival_ratio press temp atmap_visibility atmap_wind atmap_precipitation atmap_freezing atmap_danger nb_arr nb_dep nb H L L/M M H_count L_count L/M_count M_count H_count_ratio L_count_ratio L/M_count_ratio M_count_ratio turnaround_minutes'"
      ]
     },
     "execution_count": 190,
     "metadata": {},
     "output_type": "execute_result"
    }
   ],
   "source": [
    "\" \".join(feature_columns)"
   ]
  },
  {
   "cell_type": "markdown",
   "id": "111049df-0889-4139-932a-2e5c7c9600ec",
   "metadata": {},
   "source": [
    "### Feature importance"
   ]
  },
  {
   "cell_type": "code",
   "execution_count": 140,
   "id": "0b384614-9fb2-4c36-b492-09bdfafebb25",
   "metadata": {
    "execution": {
     "iopub.execute_input": "2021-06-28T12:35:40.483584Z",
     "iopub.status.busy": "2021-06-28T12:35:40.483283Z",
     "iopub.status.idle": "2021-06-28T12:35:40.488658Z",
     "shell.execute_reply": "2021-06-28T12:35:40.487994Z",
     "shell.execute_reply.started": "2021-06-28T12:35:40.483555Z"
    },
    "tags": []
   },
   "outputs": [
    {
     "name": "stderr",
     "output_type": "stream",
     "text": [
      "/home/service/miniconda3/envs/py39v7/lib/python3.8/site-packages/ipykernel/ipkernel.py:283: DeprecationWarning: `should_run_async` will not call `transform_cell` automatically in the future. Please pass the result to `transformed_cell` argument and any exception that happen during thetransform in `preprocessing_exc_tuple` in IPython 7.17 and above.\n",
      "  and should_run_async(code)\n"
     ]
    }
   ],
   "source": [
    "import matplotlib.pyplot as plt"
   ]
  },
  {
   "cell_type": "code",
   "execution_count": 167,
   "id": "cd4a9979-9d99-434f-942f-5c029af3f556",
   "metadata": {
    "execution": {
     "iopub.execute_input": "2021-06-28T13:34:13.369529Z",
     "iopub.status.busy": "2021-06-28T13:34:13.368952Z",
     "iopub.status.idle": "2021-06-28T13:34:13.610584Z",
     "shell.execute_reply": "2021-06-28T13:34:13.609910Z",
     "shell.execute_reply.started": "2021-06-28T13:34:13.369469Z"
    },
    "tags": []
   },
   "outputs": [
    {
     "name": "stderr",
     "output_type": "stream",
     "text": [
      "/home/service/miniconda3/envs/py39v7/lib/python3.8/site-packages/ipykernel/ipkernel.py:283: DeprecationWarning: `should_run_async` will not call `transform_cell` automatically in the future. Please pass the result to `transformed_cell` argument and any exception that happen during thetransform in `preprocessing_exc_tuple` in IPython 7.17 and above.\n",
      "  and should_run_async(code)\n"
     ]
    },
    {
     "data": {
      "image/png": "[encoded data removed]",
      "text/plain": [
       "<Figure size 468x396 with 1 Axes>"
      ]
     },
     "metadata": {
      "needs_background": "light"
     },
     "output_type": "display_data"
    },
    {
     "data": {
      "text/plain": [
       "<Figure size 360x360 with 0 Axes>"
      ]
     },
     "metadata": {},
     "output_type": "display_data"
    }
   ],
   "source": [
    "col = feature_columns\n",
    "# modelname.feature_importance_\n",
    "y = clf.feature_importances_\n",
    "# plot\n",
    "fig, ax = plt.subplots()\n",
    "width = 0.4  # the width of the bars\n",
    "ind = np.arange(len(y))  # the x locations for the groups\n",
    "ax.barh(ind, y, width, color=\"green\")\n",
    "ax.set_yticks(ind + width / 10)\n",
    "ax.set_yticklabels(col, minor=False)\n",
    "plt.title(\"Feature importance in RandomForest Classifier\")\n",
    "plt.xlabel(\"Relative importance\")\n",
    "plt.ylabel(\"feature\")\n",
    "plt.figure(figsize=(5, 5))\n",
    "fig.set_size_inches(6.5, 5.5, forward=True)"
   ]
  },
  {
   "cell_type": "code",
   "execution_count": 191,
   "id": "5c1e3bc6-331e-4271-94f7-b6f0e10eb2f2",
   "metadata": {
    "execution": {
     "iopub.execute_input": "2021-06-30T08:22:00.377797Z",
     "iopub.status.busy": "2021-06-30T08:22:00.377495Z",
     "iopub.status.idle": "2021-06-30T08:22:00.594830Z",
     "shell.execute_reply": "2021-06-30T08:22:00.541560Z",
     "shell.execute_reply.started": "2021-06-30T08:22:00.377769Z"
    }
   },
   "outputs": [],
   "source": [
    "dep_arr_3 = pd.read_pickle(\"../data/processed/dep_arr_df3.pkl\")"
   ]
  },
  {
   "cell_type": "code",
   "execution_count": 194,
   "id": "a82e72b9-6df5-4e34-ba09-2cbe22e0d22b",
   "metadata": {
    "execution": {
     "iopub.execute_input": "2021-06-30T08:22:20.984871Z",
     "iopub.status.busy": "2021-06-30T08:22:20.984381Z",
     "iopub.status.idle": "2021-06-30T08:22:21.076542Z",
     "shell.execute_reply": "2021-06-30T08:22:21.075767Z",
     "shell.execute_reply.started": "2021-06-30T08:22:20.984833Z"
    },
    "tags": []
   },
   "outputs": [
    {
     "name": "stdout",
     "output_type": "stream",
     "text": [
      "<class 'pandas.core.frame.DataFrame'>\n",
      "Int64Index: 35551 entries, 0 to 35550\n",
      "Data columns (total 85 columns):\n",
      " #   Column                             Non-Null Count  Dtype              \n",
      "---  ------                             --------------  -----              \n",
      " 0   flight_id                          35551 non-null  object             \n",
      " 1   on_runway_time                     35551 non-null  datetime64[ns, UTC]\n",
      " 2   taxi_holding_time                  35551 non-null  timedelta64[ns]    \n",
      " 3   rwy_holding_time                   0 non-null      object             \n",
      " 4   total_holding_time                 35551 non-null  timedelta64[ns]    \n",
      " 5   taxi_holding_time_minutes          35551 non-null  float64            \n",
      " 6   first_movement                     35551 non-null  datetime64[ns, UTC]\n",
      " 7   callsign                           35551 non-null  object             \n",
      " 8   registration                       28308 non-null  object             \n",
      " 9   typecode                           28308 non-null  object             \n",
      " 10  icao24                             35551 non-null  object             \n",
      " 11  firstseen_min                      35551 non-null  datetime64[ns, UTC]\n",
      " 12  start                              35551 non-null  datetime64[ns, UTC]\n",
      " 13  stop                               35551 non-null  datetime64[ns, UTC]\n",
      " 14  duration                           35551 non-null  timedelta64[ns]    \n",
      " 15  cumdist_max                        35551 non-null  float64            \n",
      " 16  parking_position                   11512 non-null  object             \n",
      " 17  parking_position_duration          11512 non-null  timedelta64[ns]    \n",
      " 18  runway                             35551 non-null  object             \n",
      " 19  pb_duration                        6334 non-null   timedelta64[ns]    \n",
      " 20  end_pb                             6334 non-null   datetime64[ns, UTC]\n",
      " 21  duration_minutes                   35551 non-null  float64            \n",
      " 22  parking_position_duration_minutes  11512 non-null  float64            \n",
      " 23  pb_duration_minutes                6334 non-null   float64            \n",
      " 24  first_movement_start               35551 non-null  datetime64[ns, UTC]\n",
      " 25  taxi_dist                          35551 non-null  float64            \n",
      " 26  total_holding_time_minutes         35551 non-null  float64            \n",
      " 27  real_dur                           35551 non-null  timedelta64[ns]    \n",
      " 28  real_dur_minutes                   35551 non-null  float64            \n",
      " 29  airline                            35551 non-null  object             \n",
      " 30  hh                                 35551 non-null  datetime64[ns, UTC]\n",
      " 31  hh_num                             35551 non-null  float64            \n",
      " 32  angle_sum                          34101 non-null  float64            \n",
      " 33  avg_speed                          35551 non-null  float64            \n",
      " 34  mvt_type                           35551 non-null  object             \n",
      " 35  taxiing_stop                       35551 non-null  datetime64[ns, UTC]\n",
      " 36  avg_outbound_delay_lastXmin        16355 non-null  float64            \n",
      " 37  turnaround                         10415 non-null  timedelta64[ns]    \n",
      " 38  turnaround_minutes                 16473 non-null  float64            \n",
      " 39  nominal                            35516 non-null  float64            \n",
      " 40  busy                               35516 non-null  float64            \n",
      " 41  disrupted                          35516 non-null  float64            \n",
      " 42  not_nom_arrival_ratio              35462 non-null  float64            \n",
      " 43  press                              32633 non-null  float64            \n",
      " 44  temp                               32633 non-null  float64            \n",
      " 45  atmap_visibility                   35551 non-null  int64              \n",
      " 46  atmap_wind                         35551 non-null  int64              \n",
      " 47  atmap_precipitation                35551 non-null  int64              \n",
      " 48  atmap_freezing                     35551 non-null  int64              \n",
      " 49  atmap_danger                       35551 non-null  int64              \n",
      " 50  atmap_score                        35551 non-null  float64            \n",
      " 51  config                             35527 non-null  object             \n",
      " 52  nb_arr                             35527 non-null  float64            \n",
      " 53  nb_dep                             35527 non-null  float64            \n",
      " 54  nb                                 35527 non-null  float64            \n",
      " 55  icao_wtc                           28297 non-null  object             \n",
      " 56  H                                  35551 non-null  uint8              \n",
      " 57  L                                  35551 non-null  uint8              \n",
      " 58  L/M                                35551 non-null  uint8              \n",
      " 59  M                                  35551 non-null  uint8              \n",
      " 60  H_count                            35551 non-null  float64            \n",
      " 61  L_count                            35551 non-null  float64            \n",
      " 62  L/M_count                          35551 non-null  float64            \n",
      " 63  M_count                            35551 non-null  float64            \n",
      " 64  H_count_ratio                      35527 non-null  float64            \n",
      " 65  L_count_ratio                      35527 non-null  float64            \n",
      " 66  L/M_count_ratio                    35527 non-null  float64            \n",
      " 67  M_count_ratio                      35527 non-null  float64            \n",
      " 68  H_occ                              35551 non-null  float64            \n",
      " 69  K_occ                              35551 non-null  float64            \n",
      " 70  B_occ                              35551 non-null  float64            \n",
      " 71  F_occ                              35551 non-null  float64            \n",
      " 72  L_occ                              35551 non-null  float64            \n",
      " 73  J_occ                              35551 non-null  float64            \n",
      " 74  E_occ                              35551 non-null  float64            \n",
      " 75  D_occ                              35551 non-null  float64            \n",
      " 76  C_occ                              35551 non-null  float64            \n",
      " 77  N_occ                              35551 non-null  float64            \n",
      " 78  A_occ                              35551 non-null  float64            \n",
      " 79  M_occ                              35551 non-null  float64            \n",
      " 80  Y_occ                              35551 non-null  float64            \n",
      " 81  R_occ                              35551 non-null  float64            \n",
      " 82  G_occ                              35551 non-null  float64            \n",
      " 83  Z_occ                              35551 non-null  float64            \n",
      " 84  P_occ                              35551 non-null  float64            \n",
      "dtypes: datetime64[ns, UTC](9), float64(48), int64(5), object(12), timedelta64[ns](7), uint8(4)\n",
      "memory usage: 22.4+ MB\n"
     ]
    }
   ],
   "source": [
    "dep_arr_3.info()"
   ]
  },
  {
   "cell_type": "code",
   "execution_count": 198,
   "id": "e37a9be2-06a8-49a4-bf46-a0fc28186916",
   "metadata": {
    "execution": {
     "iopub.execute_input": "2021-06-30T08:31:10.141517Z",
     "iopub.status.busy": "2021-06-30T08:31:10.141246Z",
     "iopub.status.idle": "2021-06-30T08:31:11.011865Z",
     "shell.execute_reply": "2021-06-30T08:31:11.006285Z",
     "shell.execute_reply.started": "2021-06-30T08:31:10.141491Z"
    },
    "tags": []
   },
   "outputs": [
    {
     "name": "stderr",
     "output_type": "stream",
     "text": [
      "/home/service/miniconda3/envs/py39v7/lib/python3.8/site-packages/ipykernel/ipkernel.py:283: DeprecationWarning: `should_run_async` will not call `transform_cell` automatically in the future. Please pass the result to `transformed_cell` argument and any exception that happen during thetransform in `preprocessing_exc_tuple` in IPython 7.17 and above.\n",
      "  and should_run_async(code)\n"
     ]
    },
    {
     "data": {
      "text/plain": [
       "<AxesSubplot:>"
      ]
     },
     "execution_count": 198,
     "metadata": {},
     "output_type": "execute_result"
    },
    {
     "data": {
      "image/png": "[encoded data removed]",
      "text/plain": [
       "<Figure size 432x288 with 1 Axes>"
      ]
     },
     "metadata": {
      "needs_background": "light"
     },
     "output_type": "display_data"
    }
   ],
   "source": [
    "dep_arr_3.query(\"turnaround_minutes>0\").turnaround_minutes.hist(bins=20)"
   ]
  },
  {
   "cell_type": "code",
   "execution_count": 200,
   "id": "bb093ad8-fa87-439b-b644-23c669d2f3a4",
   "metadata": {
    "execution": {
     "iopub.execute_input": "2021-06-30T08:31:30.845200Z",
     "iopub.status.busy": "2021-06-30T08:31:30.844947Z",
     "iopub.status.idle": "2021-06-30T08:31:30.867650Z",
     "shell.execute_reply": "2021-06-30T08:31:30.866922Z",
     "shell.execute_reply.started": "2021-06-30T08:31:30.845176Z"
    },
    "tags": []
   },
   "outputs": [
    {
     "name": "stderr",
     "output_type": "stream",
     "text": [
      "/home/service/miniconda3/envs/py39v7/lib/python3.8/site-packages/ipykernel/ipkernel.py:283: DeprecationWarning: `should_run_async` will not call `transform_cell` automatically in the future. Please pass the result to `transformed_cell` argument and any exception that happen during thetransform in `preprocessing_exc_tuple` in IPython 7.17 and above.\n",
      "  and should_run_async(code)\n"
     ]
    },
    {
     "data": {
      "text/plain": [
       "(10415, 85)"
      ]
     },
     "execution_count": 200,
     "metadata": {},
     "output_type": "execute_result"
    }
   ],
   "source": [
    "dep_arr_3.query(\"turnaround_minutes>0\").shape"
   ]
  },
  {
   "cell_type": "code",
   "execution_count": null,
   "id": "4ac9a009-404d-4ea4-a9f8-df392ae895f1",
   "metadata": {},
   "outputs": [],
   "source": [
    "dep_arr_3"
   ]
  }
 ],
 "metadata": {
  "kernelspec": {
   "display_name": "Python 3 (ipykernel)",
   "language": "python",
   "name": "python3"
  },
  "language_info": {
   "codemirror_mode": {
    "name": "ipython",
    "version": 3
   },
   "file_extension": ".py",
   "mimetype": "text/x-python",
   "name": "python",
   "nbconvert_exporter": "python",
   "pygments_lexer": "ipython3",
   "version": "3.8.8"
  }
 },
 "nbformat": 4,
 "nbformat_minor": 5
}
