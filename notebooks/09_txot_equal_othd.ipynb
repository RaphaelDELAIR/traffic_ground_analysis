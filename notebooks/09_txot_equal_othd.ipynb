{
 "cells": [
  {
   "cell_type": "code",
   "execution_count": 1,
   "id": "9e8adae0-124b-4707-8d54-ee40d30bee09",
   "metadata": {
    "execution": {
     "iopub.execute_input": "2021-08-16T10:28:30.067642Z",
     "iopub.status.busy": "2021-08-16T10:28:30.067327Z",
     "iopub.status.idle": "2021-08-16T10:28:30.303975Z",
     "shell.execute_reply": "2021-08-16T10:28:30.303298Z",
     "shell.execute_reply.started": "2021-08-16T10:28:30.067566Z"
    }
   },
   "outputs": [],
   "source": [
    "import pandas as pd"
   ]
  },
  {
   "cell_type": "code",
   "execution_count": 6,
   "id": "10a5a5b2-1c06-4bac-ab7d-848b342ed60e",
   "metadata": {
    "execution": {
     "iopub.execute_input": "2021-08-16T10:33:13.921504Z",
     "iopub.status.busy": "2021-08-16T10:33:13.920525Z",
     "iopub.status.idle": "2021-08-16T10:34:23.449737Z",
     "shell.execute_reply": "2021-08-16T10:34:23.449020Z",
     "shell.execute_reply.started": "2021-08-16T10:33:13.921433Z"
    },
    "tags": []
   },
   "outputs": [],
   "source": [
    "fact_df = pd.read_csv(\"../data/raw/LSZH_2019_FACT.csv\", delimiter=\";\", dayfirst=True, parse_dates=['MVT_TIME_UTC' , 'BLOCK_TIME_UTC', 'SCHED_TIME_UTC', 'C40_CROSS_TIME', 'C100_CROSS_TIME'])"
   ]
  },
  {
   "cell_type": "code",
   "execution_count": 7,
   "id": "cd374f23-0b44-4b8c-a6d7-727a8e5fae8a",
   "metadata": {
    "execution": {
     "iopub.execute_input": "2021-08-16T10:34:50.403270Z",
     "iopub.status.busy": "2021-08-16T10:34:50.402790Z",
     "iopub.status.idle": "2021-08-16T10:34:50.507270Z",
     "shell.execute_reply": "2021-08-16T10:34:50.506655Z",
     "shell.execute_reply.started": "2021-08-16T10:34:50.403239Z"
    },
    "tags": []
   },
   "outputs": [
    {
     "name": "stdout",
     "output_type": "stream",
     "text": [
      "<class 'pandas.core.frame.DataFrame'>\n",
      "RangeIndex: 275012 entries, 0 to 275011\n",
      "Data columns (total 20 columns):\n",
      " #   Column           Non-Null Count   Dtype         \n",
      "---  ------           --------------   -----         \n",
      " 0   FLTID            275012 non-null  object        \n",
      " 1   REG              275012 non-null  object        \n",
      " 2   ADEP             275012 non-null  object        \n",
      " 3   ADES             275012 non-null  object        \n",
      " 4   MVT_TIME_UTC     275012 non-null  datetime64[ns]\n",
      " 5   BLOCK_TIME_UTC   275012 non-null  datetime64[ns]\n",
      " 6   SCHED_TIME_UTC   275012 non-null  datetime64[ns]\n",
      " 7   TYPE             275008 non-null  object        \n",
      " 8   FLTRUL           275012 non-null  object        \n",
      " 9   RWY              275012 non-null  object        \n",
      " 10  STND             275012 non-null  object        \n",
      " 11  C40_CROSS_TIME   257706 non-null  datetime64[ns]\n",
      " 12  C40_CROSS_LAT    257706 non-null  float64       \n",
      " 13  C40_CROSS_LON    257706 non-null  float64       \n",
      " 14  C40_CROSS_FL     257706 non-null  float64       \n",
      " 15  C100_CROSS_TIME  255475 non-null  datetime64[ns]\n",
      " 16  C100_CROSS_LAT   255475 non-null  float64       \n",
      " 17  C100_CROSS_LON   255475 non-null  float64       \n",
      " 18  C100_CROSS_FL    255475 non-null  float64       \n",
      " 19  SRC_PHASE        275012 non-null  object        \n",
      "dtypes: datetime64[ns](5), float64(6), object(9)\n",
      "memory usage: 42.0+ MB\n"
     ]
    }
   ],
   "source": [
    "fact_df.info()"
   ]
  },
  {
   "cell_type": "code",
   "execution_count": 26,
   "id": "180ef7cf-6399-4185-96d2-661c8f6b0819",
   "metadata": {
    "execution": {
     "iopub.execute_input": "2021-08-16T10:40:39.095713Z",
     "iopub.status.busy": "2021-08-16T10:40:39.094407Z",
     "iopub.status.idle": "2021-08-16T10:40:39.168472Z",
     "shell.execute_reply": "2021-08-16T10:40:39.167727Z",
     "shell.execute_reply.started": "2021-08-16T10:40:39.095645Z"
    },
    "tags": []
   },
   "outputs": [
    {
     "data": {
      "text/html": [
       "<div>\n",
       "<style scoped>\n",
       "    .dataframe tbody tr th:only-of-type {\n",
       "        vertical-align: middle;\n",
       "    }\n",
       "\n",
       "    .dataframe tbody tr th {\n",
       "        vertical-align: top;\n",
       "    }\n",
       "\n",
       "    .dataframe thead th {\n",
       "        text-align: right;\n",
       "    }\n",
       "</style>\n",
       "<table border=\"1\" class=\"dataframe\">\n",
       "  <thead>\n",
       "    <tr style=\"text-align: right;\">\n",
       "      <th></th>\n",
       "      <th>FLTID</th>\n",
       "      <th>REG</th>\n",
       "      <th>ADEP</th>\n",
       "      <th>ADES</th>\n",
       "      <th>MVT_TIME_UTC</th>\n",
       "      <th>BLOCK_TIME_UTC</th>\n",
       "      <th>SCHED_TIME_UTC</th>\n",
       "      <th>TYPE</th>\n",
       "      <th>FLTRUL</th>\n",
       "      <th>RWY</th>\n",
       "      <th>STND</th>\n",
       "      <th>C40_CROSS_TIME</th>\n",
       "      <th>C40_CROSS_LAT</th>\n",
       "      <th>C40_CROSS_LON</th>\n",
       "      <th>C40_CROSS_FL</th>\n",
       "      <th>C100_CROSS_TIME</th>\n",
       "      <th>C100_CROSS_LAT</th>\n",
       "      <th>C100_CROSS_LON</th>\n",
       "      <th>C100_CROSS_FL</th>\n",
       "      <th>SRC_PHASE</th>\n",
       "    </tr>\n",
       "  </thead>\n",
       "  <tbody>\n",
       "    <tr>\n",
       "      <th>211044</th>\n",
       "      <td>SWR1628</td>\n",
       "      <td>HBJVP</td>\n",
       "      <td>LSZH</td>\n",
       "      <td>LIMC</td>\n",
       "      <td>2019-10-01 11:11:08</td>\n",
       "      <td>2019-10-01 11:01:07</td>\n",
       "      <td>2019-10-01 11:00:00</td>\n",
       "      <td>E190</td>\n",
       "      <td>IFR</td>\n",
       "      <td>28</td>\n",
       "      <td>A07</td>\n",
       "      <td>2019-10-01 11:21:01</td>\n",
       "      <td>4.679194e+14</td>\n",
       "      <td>8.567222e+14</td>\n",
       "      <td>140.0</td>\n",
       "      <td>2019-10-01 11:31:24</td>\n",
       "      <td>4.580389e+14</td>\n",
       "      <td>8.822778e+14</td>\n",
       "      <td>123.0</td>\n",
       "      <td>DEP</td>\n",
       "    </tr>\n",
       "    <tr>\n",
       "      <th>211045</th>\n",
       "      <td>SWR1638</td>\n",
       "      <td>HBJVR</td>\n",
       "      <td>LSZH</td>\n",
       "      <td>LIMC</td>\n",
       "      <td>2019-10-01 19:11:01</td>\n",
       "      <td>2019-10-01 19:05:54</td>\n",
       "      <td>2019-10-01 18:55:00</td>\n",
       "      <td>E190</td>\n",
       "      <td>IFR</td>\n",
       "      <td>32</td>\n",
       "      <td>I04</td>\n",
       "      <td>2019-10-01 19:22:45</td>\n",
       "      <td>4.679250e+05</td>\n",
       "      <td>8.566111e+14</td>\n",
       "      <td>210.0</td>\n",
       "      <td>2019-10-01 19:33:08</td>\n",
       "      <td>4.579306e+14</td>\n",
       "      <td>8.583611e+14</td>\n",
       "      <td>150.0</td>\n",
       "      <td>DEP</td>\n",
       "    </tr>\n",
       "    <tr>\n",
       "      <th>211046</th>\n",
       "      <td>SWR1660</td>\n",
       "      <td>HBJCF</td>\n",
       "      <td>LSZH</td>\n",
       "      <td>LIPZ</td>\n",
       "      <td>2019-10-01 07:05:51</td>\n",
       "      <td>2019-10-01 06:54:00</td>\n",
       "      <td>2019-10-01 06:55:00</td>\n",
       "      <td>BCS3</td>\n",
       "      <td>IFR</td>\n",
       "      <td>28</td>\n",
       "      <td>A02</td>\n",
       "      <td>2019-10-01 07:15:17</td>\n",
       "      <td>4.727611e+14</td>\n",
       "      <td>9.493611e+14</td>\n",
       "      <td>201.0</td>\n",
       "      <td>2019-10-01 07:24:11</td>\n",
       "      <td>4.671167e+14</td>\n",
       "      <td>1.073889e+14</td>\n",
       "      <td>270.0</td>\n",
       "      <td>DEP</td>\n",
       "    </tr>\n",
       "    <tr>\n",
       "      <th>211047</th>\n",
       "      <td>SWR1662</td>\n",
       "      <td>HBIJN</td>\n",
       "      <td>LSZH</td>\n",
       "      <td>LIPZ</td>\n",
       "      <td>2019-10-01 11:37:15</td>\n",
       "      <td>2019-10-01 11:21:00</td>\n",
       "      <td>2019-10-01 11:05:00</td>\n",
       "      <td>A320</td>\n",
       "      <td>IFR</td>\n",
       "      <td>28</td>\n",
       "      <td>A08</td>\n",
       "      <td>2019-10-01 11:46:53</td>\n",
       "      <td>4.728333e+14</td>\n",
       "      <td>9.496667e+14</td>\n",
       "      <td>192.0</td>\n",
       "      <td>2019-10-01 11:55:27</td>\n",
       "      <td>4.663167e+14</td>\n",
       "      <td>1.067750e+05</td>\n",
       "      <td>255.0</td>\n",
       "      <td>DEP</td>\n",
       "    </tr>\n",
       "    <tr>\n",
       "      <th>211048</th>\n",
       "      <td>SWR1664</td>\n",
       "      <td>HBJBA</td>\n",
       "      <td>LSZH</td>\n",
       "      <td>LIPZ</td>\n",
       "      <td>2019-10-01 16:15:58</td>\n",
       "      <td>2019-10-01 16:01:03</td>\n",
       "      <td>2019-10-01 15:45:00</td>\n",
       "      <td>BCS1</td>\n",
       "      <td>IFR</td>\n",
       "      <td>32</td>\n",
       "      <td>G11</td>\n",
       "      <td>2019-10-01 16:27:39</td>\n",
       "      <td>4.693750e+05</td>\n",
       "      <td>9.156944e+14</td>\n",
       "      <td>257.0</td>\n",
       "      <td>2019-10-01 16:35:36</td>\n",
       "      <td>4.626861e+14</td>\n",
       "      <td>1.024778e+14</td>\n",
       "      <td>270.0</td>\n",
       "      <td>DEP</td>\n",
       "    </tr>\n",
       "    <tr>\n",
       "      <th>211049</th>\n",
       "      <td>SWR1674</td>\n",
       "      <td>HBJVN</td>\n",
       "      <td>LSZH</td>\n",
       "      <td>LIRQ</td>\n",
       "      <td>2019-10-01 10:23:21</td>\n",
       "      <td>2019-10-01 10:14:44</td>\n",
       "      <td>2019-10-01 10:05:00</td>\n",
       "      <td>E190</td>\n",
       "      <td>IFR</td>\n",
       "      <td>28</td>\n",
       "      <td>I05</td>\n",
       "      <td>2019-10-01 10:32:57</td>\n",
       "      <td>4.679194e+14</td>\n",
       "      <td>8.566944e+14</td>\n",
       "      <td>198.0</td>\n",
       "      <td>2019-10-01 10:42:00</td>\n",
       "      <td>4.582694e+14</td>\n",
       "      <td>9.026389e+14</td>\n",
       "      <td>310.0</td>\n",
       "      <td>DEP</td>\n",
       "    </tr>\n",
       "    <tr>\n",
       "      <th>211050</th>\n",
       "      <td>SWR1678</td>\n",
       "      <td>HBJBC</td>\n",
       "      <td>LSZH</td>\n",
       "      <td>LIRQ</td>\n",
       "      <td>2019-10-01 05:22:09</td>\n",
       "      <td>2019-10-01 05:16:00</td>\n",
       "      <td>2019-10-01 05:05:00</td>\n",
       "      <td>BCS1</td>\n",
       "      <td>IFR</td>\n",
       "      <td>28</td>\n",
       "      <td>D05</td>\n",
       "      <td>2019-10-01 05:31:14</td>\n",
       "      <td>4.679250e+05</td>\n",
       "      <td>8.566944e+14</td>\n",
       "      <td>229.0</td>\n",
       "      <td>2019-10-01 05:40:47</td>\n",
       "      <td>4.582639e+14</td>\n",
       "      <td>9.026944e+14</td>\n",
       "      <td>310.0</td>\n",
       "      <td>DEP</td>\n",
       "    </tr>\n",
       "    <tr>\n",
       "      <th>211051</th>\n",
       "      <td>SWR1680</td>\n",
       "      <td>HBJVP</td>\n",
       "      <td>LSZH</td>\n",
       "      <td>LIRQ</td>\n",
       "      <td>2019-10-01 15:26:12</td>\n",
       "      <td>2019-10-01 15:13:37</td>\n",
       "      <td>2019-10-01 15:15:00</td>\n",
       "      <td>E190</td>\n",
       "      <td>IFR</td>\n",
       "      <td>32</td>\n",
       "      <td>I05</td>\n",
       "      <td>2019-10-01 15:36:37</td>\n",
       "      <td>4.679250e+05</td>\n",
       "      <td>8.568333e+14</td>\n",
       "      <td>222.0</td>\n",
       "      <td>2019-10-01 15:45:54</td>\n",
       "      <td>4.581528e+14</td>\n",
       "      <td>8.937778e+14</td>\n",
       "      <td>310.0</td>\n",
       "      <td>DEP</td>\n",
       "    </tr>\n",
       "    <tr>\n",
       "      <th>211052</th>\n",
       "      <td>SWR1710</td>\n",
       "      <td>HBIJS</td>\n",
       "      <td>LSZH</td>\n",
       "      <td>LIRN</td>\n",
       "      <td>2019-10-01 07:13:12</td>\n",
       "      <td>2019-10-01 07:03:00</td>\n",
       "      <td>2019-10-01 07:05:00</td>\n",
       "      <td>A320</td>\n",
       "      <td>IFR</td>\n",
       "      <td>28</td>\n",
       "      <td>A17</td>\n",
       "      <td>2019-10-01 07:22:40</td>\n",
       "      <td>4.727167e+14</td>\n",
       "      <td>9.492500e+04</td>\n",
       "      <td>207.0</td>\n",
       "      <td>2019-10-01 07:31:28</td>\n",
       "      <td>4.670667e+14</td>\n",
       "      <td>1.073667e+14</td>\n",
       "      <td>318.0</td>\n",
       "      <td>DEP</td>\n",
       "    </tr>\n",
       "    <tr>\n",
       "      <th>211053</th>\n",
       "      <td>SWR1722</td>\n",
       "      <td>HBIJQ</td>\n",
       "      <td>LSZH</td>\n",
       "      <td>LIBR</td>\n",
       "      <td>2019-10-01 10:07:20</td>\n",
       "      <td>2019-10-01 09:58:00</td>\n",
       "      <td>2019-10-01 09:55:00</td>\n",
       "      <td>A320</td>\n",
       "      <td>IFR</td>\n",
       "      <td>28</td>\n",
       "      <td>A07</td>\n",
       "      <td>2019-10-01 10:16:03</td>\n",
       "      <td>4.732861e+14</td>\n",
       "      <td>9.513611e+14</td>\n",
       "      <td>191.0</td>\n",
       "      <td>2019-10-01 10:23:58</td>\n",
       "      <td>4.687417e+14</td>\n",
       "      <td>1.084556e+14</td>\n",
       "      <td>307.0</td>\n",
       "      <td>DEP</td>\n",
       "    </tr>\n",
       "  </tbody>\n",
       "</table>\n",
       "</div>"
      ],
      "text/plain": [
       "          FLTID    REG  ADEP  ADES        MVT_TIME_UTC      BLOCK_TIME_UTC  \\\n",
       "211044  SWR1628  HBJVP  LSZH  LIMC 2019-10-01 11:11:08 2019-10-01 11:01:07   \n",
       "211045  SWR1638  HBJVR  LSZH  LIMC 2019-10-01 19:11:01 2019-10-01 19:05:54   \n",
       "211046  SWR1660  HBJCF  LSZH  LIPZ 2019-10-01 07:05:51 2019-10-01 06:54:00   \n",
       "211047  SWR1662  HBIJN  LSZH  LIPZ 2019-10-01 11:37:15 2019-10-01 11:21:00   \n",
       "211048  SWR1664  HBJBA  LSZH  LIPZ 2019-10-01 16:15:58 2019-10-01 16:01:03   \n",
       "211049  SWR1674  HBJVN  LSZH  LIRQ 2019-10-01 10:23:21 2019-10-01 10:14:44   \n",
       "211050  SWR1678  HBJBC  LSZH  LIRQ 2019-10-01 05:22:09 2019-10-01 05:16:00   \n",
       "211051  SWR1680  HBJVP  LSZH  LIRQ 2019-10-01 15:26:12 2019-10-01 15:13:37   \n",
       "211052  SWR1710  HBIJS  LSZH  LIRN 2019-10-01 07:13:12 2019-10-01 07:03:00   \n",
       "211053  SWR1722  HBIJQ  LSZH  LIBR 2019-10-01 10:07:20 2019-10-01 09:58:00   \n",
       "\n",
       "            SCHED_TIME_UTC  TYPE FLTRUL RWY STND      C40_CROSS_TIME  \\\n",
       "211044 2019-10-01 11:00:00  E190    IFR  28  A07 2019-10-01 11:21:01   \n",
       "211045 2019-10-01 18:55:00  E190    IFR  32  I04 2019-10-01 19:22:45   \n",
       "211046 2019-10-01 06:55:00  BCS3    IFR  28  A02 2019-10-01 07:15:17   \n",
       "211047 2019-10-01 11:05:00  A320    IFR  28  A08 2019-10-01 11:46:53   \n",
       "211048 2019-10-01 15:45:00  BCS1    IFR  32  G11 2019-10-01 16:27:39   \n",
       "211049 2019-10-01 10:05:00  E190    IFR  28  I05 2019-10-01 10:32:57   \n",
       "211050 2019-10-01 05:05:00  BCS1    IFR  28  D05 2019-10-01 05:31:14   \n",
       "211051 2019-10-01 15:15:00  E190    IFR  32  I05 2019-10-01 15:36:37   \n",
       "211052 2019-10-01 07:05:00  A320    IFR  28  A17 2019-10-01 07:22:40   \n",
       "211053 2019-10-01 09:55:00  A320    IFR  28  A07 2019-10-01 10:16:03   \n",
       "\n",
       "        C40_CROSS_LAT  C40_CROSS_LON  C40_CROSS_FL     C100_CROSS_TIME  \\\n",
       "211044   4.679194e+14   8.567222e+14         140.0 2019-10-01 11:31:24   \n",
       "211045   4.679250e+05   8.566111e+14         210.0 2019-10-01 19:33:08   \n",
       "211046   4.727611e+14   9.493611e+14         201.0 2019-10-01 07:24:11   \n",
       "211047   4.728333e+14   9.496667e+14         192.0 2019-10-01 11:55:27   \n",
       "211048   4.693750e+05   9.156944e+14         257.0 2019-10-01 16:35:36   \n",
       "211049   4.679194e+14   8.566944e+14         198.0 2019-10-01 10:42:00   \n",
       "211050   4.679250e+05   8.566944e+14         229.0 2019-10-01 05:40:47   \n",
       "211051   4.679250e+05   8.568333e+14         222.0 2019-10-01 15:45:54   \n",
       "211052   4.727167e+14   9.492500e+04         207.0 2019-10-01 07:31:28   \n",
       "211053   4.732861e+14   9.513611e+14         191.0 2019-10-01 10:23:58   \n",
       "\n",
       "        C100_CROSS_LAT  C100_CROSS_LON  C100_CROSS_FL SRC_PHASE  \n",
       "211044    4.580389e+14    8.822778e+14          123.0       DEP  \n",
       "211045    4.579306e+14    8.583611e+14          150.0       DEP  \n",
       "211046    4.671167e+14    1.073889e+14          270.0       DEP  \n",
       "211047    4.663167e+14    1.067750e+05          255.0       DEP  \n",
       "211048    4.626861e+14    1.024778e+14          270.0       DEP  \n",
       "211049    4.582694e+14    9.026389e+14          310.0       DEP  \n",
       "211050    4.582639e+14    9.026944e+14          310.0       DEP  \n",
       "211051    4.581528e+14    8.937778e+14          310.0       DEP  \n",
       "211052    4.670667e+14    1.073667e+14          318.0       DEP  \n",
       "211053    4.687417e+14    1.084556e+14          307.0       DEP  "
      ]
     },
     "execution_count": 26,
     "metadata": {},
     "output_type": "execute_result"
    }
   ],
   "source": [
    "fact_df.query(\"SRC_PHASE=='DEP' & (SCHED_TIME_UTC.dt.month==11 | SCHED_TIME_UTC.dt.month==10)\").head(10)"
   ]
  },
  {
   "cell_type": "code",
   "execution_count": 11,
   "id": "2e14f49e-becd-4c5e-bcbd-de6a2cc0cd6b",
   "metadata": {
    "execution": {
     "iopub.execute_input": "2021-08-16T10:36:30.490461Z",
     "iopub.status.busy": "2021-08-16T10:36:30.489978Z",
     "iopub.status.idle": "2021-08-16T10:36:30.960991Z",
     "shell.execute_reply": "2021-08-16T10:36:30.960184Z",
     "shell.execute_reply.started": "2021-08-16T10:36:30.490417Z"
    }
   },
   "outputs": [],
   "source": [
    "our_df = pd.read_pickle(\"../data/processed/dep_arr_df14_nextavgdelaybetteraffected.pkl\")"
   ]
  },
  {
   "cell_type": "code",
   "execution_count": 28,
   "id": "f8344949-b341-48be-a07d-b336f36420c1",
   "metadata": {
    "execution": {
     "iopub.execute_input": "2021-08-16T10:40:54.471489Z",
     "iopub.status.busy": "2021-08-16T10:40:54.470327Z",
     "iopub.status.idle": "2021-08-16T10:40:54.499627Z",
     "shell.execute_reply": "2021-08-16T10:40:54.498724Z",
     "shell.execute_reply.started": "2021-08-16T10:40:54.471427Z"
    },
    "tags": []
   },
   "outputs": [
    {
     "data": {
      "text/html": [
       "<div>\n",
       "<style scoped>\n",
       "    .dataframe tbody tr th:only-of-type {\n",
       "        vertical-align: middle;\n",
       "    }\n",
       "\n",
       "    .dataframe tbody tr th {\n",
       "        vertical-align: top;\n",
       "    }\n",
       "\n",
       "    .dataframe thead th {\n",
       "        text-align: right;\n",
       "    }\n",
       "</style>\n",
       "<table border=\"1\" class=\"dataframe\">\n",
       "  <thead>\n",
       "    <tr style=\"text-align: right;\">\n",
       "      <th></th>\n",
       "      <th>flight_id</th>\n",
       "      <th>on_runway_time</th>\n",
       "      <th>taxi_holding_time</th>\n",
       "      <th>rwy_holding_time</th>\n",
       "      <th>total_holding_time</th>\n",
       "      <th>taxi_holding_time_minutes</th>\n",
       "      <th>first_movement</th>\n",
       "      <th>callsign</th>\n",
       "      <th>registration</th>\n",
       "      <th>typecode</th>\n",
       "      <th>...</th>\n",
       "      <th>runway_14</th>\n",
       "      <th>runway_16</th>\n",
       "      <th>runway_28</th>\n",
       "      <th>runway_32</th>\n",
       "      <th>runway_34</th>\n",
       "      <th>config_EAST</th>\n",
       "      <th>config_NORTH0</th>\n",
       "      <th>config_NORTH1</th>\n",
       "      <th>config_SOUTH</th>\n",
       "      <th>taxi_holding_time_minutes_cat</th>\n",
       "    </tr>\n",
       "  </thead>\n",
       "  <tbody>\n",
       "    <tr>\n",
       "      <th>113</th>\n",
       "      <td>SWR1710_7718</td>\n",
       "      <td>2019-10-01 07:11:39+00:00</td>\n",
       "      <td>0 days 00:03:44</td>\n",
       "      <td>None</td>\n",
       "      <td>0 days 00:06:49</td>\n",
       "      <td>3.733333</td>\n",
       "      <td>2019-10-01 07:03:31+00:00</td>\n",
       "      <td>SWR1710</td>\n",
       "      <td>HB-IJS</td>\n",
       "      <td>A320</td>\n",
       "      <td>...</td>\n",
       "      <td>0</td>\n",
       "      <td>0</td>\n",
       "      <td>1</td>\n",
       "      <td>0</td>\n",
       "      <td>0</td>\n",
       "      <td>0</td>\n",
       "      <td>1</td>\n",
       "      <td>0</td>\n",
       "      <td>0</td>\n",
       "      <td>0.0</td>\n",
       "    </tr>\n",
       "  </tbody>\n",
       "</table>\n",
       "<p>1 rows × 121 columns</p>\n",
       "</div>"
      ],
      "text/plain": [
       "        flight_id            on_runway_time taxi_holding_time  \\\n",
       "113  SWR1710_7718 2019-10-01 07:11:39+00:00   0 days 00:03:44   \n",
       "\n",
       "    rwy_holding_time total_holding_time  taxi_holding_time_minutes  \\\n",
       "113             None    0 days 00:06:49                   3.733333   \n",
       "\n",
       "               first_movement callsign registration typecode  ... runway_14  \\\n",
       "113 2019-10-01 07:03:31+00:00  SWR1710       HB-IJS     A320  ...         0   \n",
       "\n",
       "    runway_16 runway_28 runway_32 runway_34  config_EAST config_NORTH0  \\\n",
       "113         0         1         0         0            0             1   \n",
       "\n",
       "    config_NORTH1 config_SOUTH taxi_holding_time_minutes_cat  \n",
       "113             0            0                           0.0  \n",
       "\n",
       "[1 rows x 121 columns]"
      ]
     },
     "execution_count": 28,
     "metadata": {},
     "output_type": "execute_result"
    }
   ],
   "source": [
    "our_df.query(\"callsign=='SWR1710' & on_runway_time.dt.floor('1d') == '2019-10-01 00:00:00+00:00'\")"
   ]
  },
  {
   "cell_type": "code",
   "execution_count": 30,
   "id": "72391dd7-1dc6-44e0-9d67-d23629428d67",
   "metadata": {
    "execution": {
     "iopub.execute_input": "2021-08-16T12:26:56.640126Z",
     "iopub.status.busy": "2021-08-16T12:26:56.638946Z",
     "iopub.status.idle": "2021-08-16T12:26:56.657297Z",
     "shell.execute_reply": "2021-08-16T12:26:56.656773Z",
     "shell.execute_reply.started": "2021-08-16T12:26:56.640063Z"
    },
    "tags": []
   },
   "outputs": [],
   "source": [
    "full_dep_df = our_df.query('mvt_type==\"DEP\" & end_pb==end_pb & parking_position==parking_position')"
   ]
  },
  {
   "cell_type": "code",
   "execution_count": 163,
   "id": "a61a442a-c8a6-4fd6-a145-b71c64e63aa3",
   "metadata": {
    "execution": {
     "iopub.execute_input": "2021-08-28T11:20:02.750610Z",
     "iopub.status.busy": "2021-08-28T11:20:02.749907Z",
     "iopub.status.idle": "2021-08-28T11:20:02.758517Z",
     "shell.execute_reply": "2021-08-28T11:20:02.757779Z",
     "shell.execute_reply.started": "2021-08-28T11:20:02.750581Z"
    },
    "tags": []
   },
   "outputs": [
    {
     "data": {
      "text/plain": [
       "A17    418\n",
       "A57    374\n",
       "A13    289\n",
       "E58    279\n",
       "B45    254\n",
       "A09    235\n",
       "A49    233\n",
       "A11    210\n",
       "E20    207\n",
       "A15    180\n",
       "E19    154\n",
       "E42    152\n",
       "E62    144\n",
       "E67    134\n",
       "E4M    121\n",
       "E52    120\n",
       "B38    119\n",
       "A05    114\n",
       "E26    113\n",
       "E34    110\n",
       "B34    107\n",
       "B37     96\n",
       "A07     85\n",
       "B43     84\n",
       "P31     81\n",
       "Name: parking_position, dtype: int64"
      ]
     },
     "execution_count": 163,
     "metadata": {},
     "output_type": "execute_result"
    }
   ],
   "source": [
    "full_dep_df.parking_position.value_counts().head(25)"
   ]
  },
  {
   "cell_type": "code",
   "execution_count": 42,
   "id": "2d599909-f28f-4e74-9183-e408ae1146d7",
   "metadata": {
    "execution": {
     "iopub.execute_input": "2021-08-16T12:33:08.091335Z",
     "iopub.status.busy": "2021-08-16T12:33:08.090209Z",
     "iopub.status.idle": "2021-08-16T12:33:08.108422Z",
     "shell.execute_reply": "2021-08-16T12:33:08.107998Z",
     "shell.execute_reply.started": "2021-08-16T12:33:08.091276Z"
    },
    "tags": []
   },
   "outputs": [
    {
     "data": {
      "text/plain": [
       "4.0      37\n",
       "3.0      36\n",
       "6.0      29\n",
       "5.0      27\n",
       "7.0      20\n",
       "2.0      17\n",
       "8.0      17\n",
       "1.0      16\n",
       "9.0      15\n",
       "10.0      8\n",
       "13.0      4\n",
       "11.0      4\n",
       "12.0      3\n",
       "14.0      3\n",
       "0.0       3\n",
       "265.0     3\n",
       "15.0      1\n",
       "17.0      1\n",
       "266.0     1\n",
       "147.0     1\n",
       "264.0     1\n",
       "263.0     1\n",
       "258.0     1\n",
       "257.0     1\n",
       "774.0     1\n",
       "262.0     1\n",
       "16.0      1\n",
       "516.0     1\n",
       "Name: scfi_DEP, dtype: int64"
      ]
     },
     "execution_count": 42,
     "metadata": {},
     "output_type": "execute_result"
    }
   ],
   "source": [
    "full_dep_df.query(\"parking_position=='B45'\").scfi_DEP.value_counts()"
   ]
  },
  {
   "cell_type": "code",
   "execution_count": 45,
   "id": "42abe3a4-08dc-47d0-847d-a8da47608e03",
   "metadata": {
    "execution": {
     "iopub.execute_input": "2021-08-16T12:35:58.507931Z",
     "iopub.status.busy": "2021-08-16T12:35:58.507667Z",
     "iopub.status.idle": "2021-08-16T12:35:58.518384Z",
     "shell.execute_reply": "2021-08-16T12:35:58.517900Z",
     "shell.execute_reply.started": "2021-08-16T12:35:58.507909Z"
    },
    "tags": []
   },
   "outputs": [
    {
     "data": {
      "text/plain": [
       "8050    SWR185N_8704\n",
       "Name: flight_id, dtype: object"
      ]
     },
     "execution_count": 45,
     "metadata": {},
     "output_type": "execute_result"
    }
   ],
   "source": [
    "full_dep_df.query(\"scfi_DEP==516\").flight_id"
   ]
  },
  {
   "cell_type": "code",
   "execution_count": 36,
   "id": "fa09c964-90ef-4cbc-9e9a-ab0817a6ef68",
   "metadata": {
    "execution": {
     "iopub.execute_input": "2021-08-16T12:29:45.354153Z",
     "iopub.status.busy": "2021-08-16T12:29:45.353182Z",
     "iopub.status.idle": "2021-08-16T12:29:45.368105Z",
     "shell.execute_reply": "2021-08-16T12:29:45.367321Z",
     "shell.execute_reply.started": "2021-08-16T12:29:45.354101Z"
    }
   },
   "outputs": [],
   "source": [
    "b45_low_sifi = full_dep_df.query(\"parking_position=='B45' & sifi_DEP<=3\")"
   ]
  },
  {
   "cell_type": "code",
   "execution_count": 164,
   "id": "a75421ae-0a62-4a2c-83d6-ba253ea1537d",
   "metadata": {
    "execution": {
     "iopub.execute_input": "2021-08-28T11:21:06.911200Z",
     "iopub.status.busy": "2021-08-28T11:21:06.910431Z",
     "iopub.status.idle": "2021-08-28T11:21:06.921101Z",
     "shell.execute_reply": "2021-08-28T11:21:06.920481Z",
     "shell.execute_reply.started": "2021-08-28T11:21:06.911172Z"
    },
    "tags": []
   },
   "outputs": [],
   "source": [
    "b45_high_sifi = full_dep_df.query(\"parking_position=='B45' & sifi_DEP>3\")"
   ]
  },
  {
   "cell_type": "code",
   "execution_count": 112,
   "id": "676d96c6-e02c-4b35-8cdb-f12ebcd1711e",
   "metadata": {
    "execution": {
     "iopub.execute_input": "2021-08-28T10:44:42.280376Z",
     "iopub.status.busy": "2021-08-28T10:44:42.279837Z",
     "iopub.status.idle": "2021-08-28T10:44:42.293887Z",
     "shell.execute_reply": "2021-08-28T10:44:42.293171Z",
     "shell.execute_reply.started": "2021-08-28T10:44:42.280349Z"
    },
    "tags": []
   },
   "outputs": [
    {
     "data": {
      "text/plain": [
       "28    163\n",
       "32     65\n",
       "16     18\n",
       "34      3\n",
       "10      3\n",
       "14      2\n",
       "Name: runway, dtype: int64"
      ]
     },
     "execution_count": 112,
     "metadata": {},
     "output_type": "execute_result"
    }
   ],
   "source": [
    "full_dep_df.query(\"parking_position=='B45'\").runway.value_counts()"
   ]
  },
  {
   "cell_type": "code",
   "execution_count": 40,
   "id": "2b3d19bf-a010-44fb-898e-e06a63b04e2e",
   "metadata": {
    "execution": {
     "iopub.execute_input": "2021-08-16T12:31:57.637564Z",
     "iopub.status.busy": "2021-08-16T12:31:57.637139Z",
     "iopub.status.idle": "2021-08-16T12:31:57.645221Z",
     "shell.execute_reply": "2021-08-16T12:31:57.644791Z",
     "shell.execute_reply.started": "2021-08-16T12:31:57.637538Z"
    },
    "tags": []
   },
   "outputs": [
    {
     "data": {
      "text/plain": [
       "count     154.000000\n",
       "mean     2012.271792\n",
       "std       379.425362\n",
       "min       749.689596\n",
       "25%      1845.012865\n",
       "50%      1922.994621\n",
       "75%      2063.572378\n",
       "max      3586.735218\n",
       "Name: taxi_dist, dtype: float64"
      ]
     },
     "execution_count": 40,
     "metadata": {},
     "output_type": "execute_result"
    }
   ],
   "source": [
    "b45_low_sifi.taxi_dist.describe()"
   ]
  },
  {
   "cell_type": "code",
   "execution_count": 51,
   "id": "dacf18f0-0181-4962-94ea-2e09cba45ce9",
   "metadata": {
    "execution": {
     "iopub.execute_input": "2021-08-28T09:46:46.212479Z",
     "iopub.status.busy": "2021-08-28T09:46:46.212146Z",
     "iopub.status.idle": "2021-08-28T09:46:46.240607Z",
     "shell.execute_reply": "2021-08-28T09:46:46.239993Z",
     "shell.execute_reply.started": "2021-08-28T09:46:46.212434Z"
    },
    "tags": []
   },
   "outputs": [
    {
     "data": {
      "text/plain": [
       "count     100.000000\n",
       "mean     2212.175387\n",
       "std       765.696884\n",
       "min       219.647331\n",
       "25%      1888.604073\n",
       "50%      1965.380900\n",
       "75%      2161.484771\n",
       "max      5427.200996\n",
       "Name: taxi_dist, dtype: float64"
      ]
     },
     "execution_count": 51,
     "metadata": {},
     "output_type": "execute_result"
    }
   ],
   "source": [
    "b45_high_sifi.taxi_dist.describe()"
   ]
  },
  {
   "cell_type": "code",
   "execution_count": 55,
   "id": "b5965ce8-47eb-43d9-8e5c-e6f8044cbe71",
   "metadata": {
    "execution": {
     "iopub.execute_input": "2021-08-28T09:48:48.752226Z",
     "iopub.status.busy": "2021-08-28T09:48:48.750881Z",
     "iopub.status.idle": "2021-08-28T09:50:28.909185Z",
     "shell.execute_reply": "2021-08-28T09:50:28.908254Z",
     "shell.execute_reply.started": "2021-08-28T09:48:48.752172Z"
    },
    "tags": []
   },
   "outputs": [],
   "source": [
    "from traffic.core import Traffic\n",
    "traf = Traffic.from_file('../data/intermediate/taxi_zurich_2019_takeoff_TWY_.pkl')"
   ]
  },
  {
   "cell_type": "code",
   "execution_count": 226,
   "id": "ff7f17ab-2e8b-4474-8aa0-709e252e3c00",
   "metadata": {
    "execution": {
     "iopub.execute_input": "2021-08-28T11:49:12.249707Z",
     "iopub.status.busy": "2021-08-28T11:49:12.249058Z",
     "iopub.status.idle": "2021-08-28T11:49:12.266606Z",
     "shell.execute_reply": "2021-08-28T11:49:12.266050Z",
     "shell.execute_reply.started": "2021-08-28T11:49:12.249682Z"
    },
    "tags": []
   },
   "outputs": [],
   "source": [
    "full_deps_df = our_df.query(\"mvt_type=='DEP' & end_pb==end_pb & parking_position=='B45' & runway=='32'\")"
   ]
  },
  {
   "cell_type": "code",
   "execution_count": 187,
   "id": "10756ed1-bf29-4783-bbd7-6c549be7570f",
   "metadata": {
    "execution": {
     "iopub.execute_input": "2021-08-28T11:37:02.488838Z",
     "iopub.status.busy": "2021-08-28T11:37:02.487555Z",
     "iopub.status.idle": "2021-08-28T11:37:02.520017Z",
     "shell.execute_reply": "2021-08-28T11:37:02.519444Z",
     "shell.execute_reply.started": "2021-08-28T11:37:02.488781Z"
    },
    "tags": []
   },
   "outputs": [
    {
     "data": {
      "text/plain": [
       "B45    65\n",
       "B37    31\n",
       "B34    24\n",
       "B43    21\n",
       "B38    15\n",
       "B41    11\n",
       "B39     9\n",
       "B33     5\n",
       "B35     5\n",
       "B31     3\n",
       "B36     2\n",
       "Name: parking_position, dtype: int64"
      ]
     },
     "execution_count": 187,
     "metadata": {},
     "output_type": "execute_result"
    }
   ],
   "source": [
    "our_df.query(\"mvt_type=='DEP' & end_pb==end_pb & runway=='32' & parking_position.str.startswith('B')\").parking_position.value_counts()"
   ]
  },
  {
   "cell_type": "code",
   "execution_count": 227,
   "id": "106f2208-aabf-4803-89f8-acd3755255b6",
   "metadata": {
    "execution": {
     "iopub.execute_input": "2021-08-28T11:49:14.887469Z",
     "iopub.status.busy": "2021-08-28T11:49:14.885986Z",
     "iopub.status.idle": "2021-08-28T11:49:14.893983Z",
     "shell.execute_reply": "2021-08-28T11:49:14.893153Z",
     "shell.execute_reply.started": "2021-08-28T11:49:14.887414Z"
    },
    "tags": []
   },
   "outputs": [
    {
     "data": {
      "text/plain": [
       "(65, 123)"
      ]
     },
     "execution_count": 227,
     "metadata": {},
     "output_type": "execute_result"
    }
   ],
   "source": [
    "full_deps_df.shape"
   ]
  },
  {
   "cell_type": "code",
   "execution_count": 228,
   "id": "2fcfeec7-8723-418d-8534-9082871e9a51",
   "metadata": {
    "execution": {
     "iopub.execute_input": "2021-08-28T11:49:18.163689Z",
     "iopub.status.busy": "2021-08-28T11:49:18.162705Z",
     "iopub.status.idle": "2021-08-28T11:49:27.351220Z",
     "shell.execute_reply": "2021-08-28T11:49:27.350321Z",
     "shell.execute_reply.started": "2021-08-28T11:49:18.163630Z"
    },
    "tags": []
   },
   "outputs": [],
   "source": [
    "traf_full_deps_gate = Traffic.from_flights([f for f in traf if f.flight_id in list(full_deps_df.flight_id)] )"
   ]
  },
  {
   "cell_type": "code",
   "execution_count": 229,
   "id": "8413ba0c-65c0-405f-afcc-007c25686681",
   "metadata": {
    "execution": {
     "iopub.execute_input": "2021-08-28T11:49:27.352817Z",
     "iopub.status.busy": "2021-08-28T11:49:27.352640Z",
     "iopub.status.idle": "2021-08-28T11:49:49.826846Z",
     "shell.execute_reply": "2021-08-28T11:49:49.826232Z",
     "shell.execute_reply.started": "2021-08-28T11:49:27.352800Z"
    },
    "tags": []
   },
   "outputs": [
    {
     "name": "stderr",
     "output_type": "stream",
     "text": [
      "/home/service/miniconda3/envs/traffic/lib/python3.9/site-packages/numpy/lib/function_base.py:2192: RuntimeWarning: invalid value encountered in ? (vectorized)\n",
      "  outputs = ufunc(*inputs)\n"
     ]
    },
    {
     "data": {
      "text/html": [
       "<div>\n",
       "<style scoped>\n",
       "    .dataframe tbody tr th:only-of-type {\n",
       "        vertical-align: middle;\n",
       "    }\n",
       "\n",
       "    .dataframe tbody tr th {\n",
       "        vertical-align: top;\n",
       "    }\n",
       "\n",
       "    .dataframe thead th {\n",
       "        text-align: right;\n",
       "    }\n",
       "</style>\n",
       "<table border=\"1\" class=\"dataframe\">\n",
       "  <thead>\n",
       "    <tr style=\"text-align: right;\">\n",
       "      <th></th>\n",
       "      <th>flight_id</th>\n",
       "      <th>twys</th>\n",
       "    </tr>\n",
       "  </thead>\n",
       "  <tbody>\n",
       "    <tr>\n",
       "      <th>0</th>\n",
       "      <td>ASL29P_18733</td>\n",
       "      <td>[N, F, LINK 3, INNER, K, H3]</td>\n",
       "    </tr>\n",
       "    <tr>\n",
       "      <th>1</th>\n",
       "      <td>BAW707H_2434</td>\n",
       "      <td>[N, LINK 2, F, A, K, H3]</td>\n",
       "    </tr>\n",
       "    <tr>\n",
       "      <th>2</th>\n",
       "      <td>DLH6C_1771</td>\n",
       "      <td>[N, F, LINK 2, F, LINK 3, INNER, H3]</td>\n",
       "    </tr>\n",
       "    <tr>\n",
       "      <th>3</th>\n",
       "      <td>DLH6C_2006</td>\n",
       "      <td>[N, F, A, K, H3]</td>\n",
       "    </tr>\n",
       "    <tr>\n",
       "      <th>4</th>\n",
       "      <td>EDW130_8005</td>\n",
       "      <td>[N, F, LINK 3, INNER, K, H3]</td>\n",
       "    </tr>\n",
       "    <tr>\n",
       "      <th>...</th>\n",
       "      <td>...</td>\n",
       "      <td>...</td>\n",
       "    </tr>\n",
       "    <tr>\n",
       "      <th>60</th>\n",
       "      <td>SWR89KJ_14350</td>\n",
       "      <td>[N, F, LINK 3, INNER, K, H3]</td>\n",
       "    </tr>\n",
       "    <tr>\n",
       "      <th>61</th>\n",
       "      <td>SWR91C_17916</td>\n",
       "      <td>[N, F, LINK 3, INNER, H3]</td>\n",
       "    </tr>\n",
       "    <tr>\n",
       "      <th>62</th>\n",
       "      <td>SWR93W_11210</td>\n",
       "      <td>[N, F, INNER, K, H3]</td>\n",
       "    </tr>\n",
       "    <tr>\n",
       "      <th>63</th>\n",
       "      <td>SWR962_9584</td>\n",
       "      <td>[N, F, LINK 3, INNER, K, H3]</td>\n",
       "    </tr>\n",
       "    <tr>\n",
       "      <th>64</th>\n",
       "      <td>SWR962_9923</td>\n",
       "      <td>[N, F, LINK 3, INNER, K, H3]</td>\n",
       "    </tr>\n",
       "  </tbody>\n",
       "</table>\n",
       "<p>65 rows × 2 columns</p>\n",
       "</div>"
      ],
      "text/plain": [
       "        flight_id                                  twys\n",
       "0    ASL29P_18733          [N, F, LINK 3, INNER, K, H3]\n",
       "1    BAW707H_2434              [N, LINK 2, F, A, K, H3]\n",
       "2      DLH6C_1771  [N, F, LINK 2, F, LINK 3, INNER, H3]\n",
       "3      DLH6C_2006                      [N, F, A, K, H3]\n",
       "4     EDW130_8005          [N, F, LINK 3, INNER, K, H3]\n",
       "..            ...                                   ...\n",
       "60  SWR89KJ_14350          [N, F, LINK 3, INNER, K, H3]\n",
       "61   SWR91C_17916             [N, F, LINK 3, INNER, H3]\n",
       "62   SWR93W_11210                  [N, F, INNER, K, H3]\n",
       "63    SWR962_9584          [N, F, LINK 3, INNER, K, H3]\n",
       "64    SWR962_9923          [N, F, LINK 3, INNER, K, H3]\n",
       "\n",
       "[65 rows x 2 columns]"
      ]
     },
     "execution_count": 229,
     "metadata": {},
     "output_type": "execute_result"
    }
   ],
   "source": [
    "df = pd.DataFrame([])\n",
    "\n",
    "for f in traf_full_deps_gate:\n",
    "    l_twy = []\n",
    "    for t in f.on_taxiway('LSZH'):\n",
    "        l_twy.append(t.taxiway_max)\n",
    "    df = df.append({'flight_id':f.flight_id, 'twys':l_twy }, ignore_index=True)\n",
    "    \n",
    "df"
   ]
  },
  {
   "cell_type": "code",
   "execution_count": 230,
   "id": "358d54cf-d812-4817-8651-122eb6bda92a",
   "metadata": {
    "execution": {
     "iopub.execute_input": "2021-08-28T11:49:49.828041Z",
     "iopub.status.busy": "2021-08-28T11:49:49.827853Z",
     "iopub.status.idle": "2021-08-28T11:49:49.832106Z",
     "shell.execute_reply": "2021-08-28T11:49:49.831619Z",
     "shell.execute_reply.started": "2021-08-28T11:49:49.828024Z"
    },
    "tags": []
   },
   "outputs": [],
   "source": [
    "df['twys'] = df['twys'].apply(lambda x: \"-\".join(x)) "
   ]
  },
  {
   "cell_type": "code",
   "execution_count": 231,
   "id": "eca7633b-73e7-4977-9e9e-6a9f94a416eb",
   "metadata": {
    "execution": {
     "iopub.execute_input": "2021-08-28T11:49:49.833548Z",
     "iopub.status.busy": "2021-08-28T11:49:49.833284Z",
     "iopub.status.idle": "2021-08-28T11:49:49.838618Z",
     "shell.execute_reply": "2021-08-28T11:49:49.838200Z",
     "shell.execute_reply.started": "2021-08-28T11:49:49.833531Z"
    },
    "tags": []
   },
   "outputs": [
    {
     "data": {
      "text/plain": [
       "N-F-LINK 3-INNER-K-H3           33\n",
       "N-F-A-K-H3                       9\n",
       "N-F-INNER-K-H3                   9\n",
       "N-LINK 2-E-LINK 3-INNER-K-H3     3\n",
       "N-F-LINK 3-INNER-H3              3\n",
       "N-F-INNER-H3                     2\n",
       "N-LINK 2-F-A-K-H3                2\n",
       "N-LINK 2-E-LINK 2-F-A-K-H3       1\n",
       "N-F-A-J-C-K-H3                   1\n",
       "N-F-LINK 2-F-LINK 3-INNER-H3     1\n",
       "N-F-E-LINK 3-INNER-K-H3          1\n",
       "Name: twys, dtype: int64"
      ]
     },
     "execution_count": 231,
     "metadata": {},
     "output_type": "execute_result"
    }
   ],
   "source": [
    "df.twys.value_counts()"
   ]
  },
  {
   "cell_type": "code",
   "execution_count": 232,
   "id": "c12681de-529c-4c18-ad26-2318d4f78d08",
   "metadata": {
    "execution": {
     "iopub.execute_input": "2021-08-28T11:52:14.983776Z",
     "iopub.status.busy": "2021-08-28T11:52:14.982535Z",
     "iopub.status.idle": "2021-08-28T11:52:14.991442Z",
     "shell.execute_reply": "2021-08-28T11:52:14.990125Z",
     "shell.execute_reply.started": "2021-08-28T11:52:14.983728Z"
    },
    "tags": []
   },
   "outputs": [],
   "source": [
    "# N-F-LINK 3-INNER-A           \n",
    "route = df.twys.value_counts().idxmax()"
   ]
  },
  {
   "cell_type": "code",
   "execution_count": 233,
   "id": "aa1866cb-ce30-446d-b717-53150bfebf49",
   "metadata": {
    "execution": {
     "iopub.execute_input": "2021-08-28T11:52:17.369073Z",
     "iopub.status.busy": "2021-08-28T11:52:17.368582Z",
     "iopub.status.idle": "2021-08-28T11:52:17.375285Z",
     "shell.execute_reply": "2021-08-28T11:52:17.374721Z",
     "shell.execute_reply.started": "2021-08-28T11:52:17.369048Z"
    },
    "tags": []
   },
   "outputs": [],
   "source": [
    "\n",
    "fid_mostfreqroute = list(df.query(f\"twys=='{route}'\").flight_id)"
   ]
  },
  {
   "cell_type": "code",
   "execution_count": 234,
   "id": "2a204a70-6fd1-450b-b630-623b0a82b357",
   "metadata": {
    "execution": {
     "iopub.execute_input": "2021-08-28T11:52:18.320599Z",
     "iopub.status.busy": "2021-08-28T11:52:18.319868Z",
     "iopub.status.idle": "2021-08-28T11:52:18.332393Z",
     "shell.execute_reply": "2021-08-28T11:52:18.331620Z",
     "shell.execute_reply.started": "2021-08-28T11:52:18.320571Z"
    },
    "tags": []
   },
   "outputs": [],
   "source": [
    "our_df_mostfreqroute = our_df.query('flight_id in @fid_mostfreqroute')"
   ]
  },
  {
   "cell_type": "code",
   "execution_count": 235,
   "id": "fbf42845-e8bf-437e-b1c2-14352190a735",
   "metadata": {
    "execution": {
     "iopub.execute_input": "2021-08-28T11:52:18.920103Z",
     "iopub.status.busy": "2021-08-28T11:52:18.918934Z",
     "iopub.status.idle": "2021-08-28T11:52:18.936629Z",
     "shell.execute_reply": "2021-08-28T11:52:18.935845Z",
     "shell.execute_reply.started": "2021-08-28T11:52:18.920066Z"
    },
    "tags": []
   },
   "outputs": [
    {
     "data": {
      "text/plain": [
       "count     7.000000\n",
       "mean      7.573810\n",
       "std       2.269970\n",
       "min       4.016667\n",
       "25%       6.458333\n",
       "50%       8.250000\n",
       "75%       8.900000\n",
       "max      10.033333\n",
       "Name: real_dur_minutes, dtype: float64"
      ]
     },
     "execution_count": 235,
     "metadata": {},
     "output_type": "execute_result"
    }
   ],
   "source": [
    "our_df_mostfreqroute.query(\"taxi_holding_time_minutes<1\").real_dur_minutes.describe()"
   ]
  },
  {
   "cell_type": "code",
   "execution_count": 236,
   "id": "44cb7c57-b3b7-4e3f-a91a-af3dd2fa287f",
   "metadata": {
    "execution": {
     "iopub.execute_input": "2021-08-28T11:52:26.562390Z",
     "iopub.status.busy": "2021-08-28T11:52:26.561097Z",
     "iopub.status.idle": "2021-08-28T11:52:26.686432Z",
     "shell.execute_reply": "2021-08-28T11:52:26.685676Z",
     "shell.execute_reply.started": "2021-08-28T11:52:26.562338Z"
    },
    "tags": []
   },
   "outputs": [
    {
     "data": {
      "text/plain": [
       "<AxesSubplot:>"
      ]
     },
     "execution_count": 236,
     "metadata": {},
     "output_type": "execute_result"
    },
    {
     "data": {
      "image/png": "[encoded data removed]",
      "text/plain": [
       "<Figure size 432x288 with 1 Axes>"
      ]
     },
     "metadata": {
      "needs_background": "light"
     },
     "output_type": "display_data"
    }
   ],
   "source": [
    "our_df_mostfreqroute.query(\"taxi_holding_time_minutes<1\").real_dur_minutes.hist(bins=10)"
   ]
  },
  {
   "cell_type": "code",
   "execution_count": 237,
   "id": "1676bb5b-c407-46a4-94df-b327facc548b",
   "metadata": {
    "execution": {
     "iopub.execute_input": "2021-08-28T11:52:30.818157Z",
     "iopub.status.busy": "2021-08-28T11:52:30.817461Z",
     "iopub.status.idle": "2021-08-28T11:52:30.827360Z",
     "shell.execute_reply": "2021-08-28T11:52:30.826819Z",
     "shell.execute_reply.started": "2021-08-28T11:52:30.818122Z"
    },
    "tags": []
   },
   "outputs": [],
   "source": [
    "q1 = our_df_mostfreqroute.query(\"taxi_holding_time_minutes<1\").real_dur_minutes.mean()#quantile(0.25)"
   ]
  },
  {
   "cell_type": "code",
   "execution_count": 238,
   "id": "41466742-8b62-4ffa-b0c0-51eb16f6eeab",
   "metadata": {
    "execution": {
     "iopub.execute_input": "2021-08-28T11:52:32.584903Z",
     "iopub.status.busy": "2021-08-28T11:52:32.584340Z",
     "iopub.status.idle": "2021-08-28T11:52:32.591374Z",
     "shell.execute_reply": "2021-08-28T11:52:32.590545Z",
     "shell.execute_reply.started": "2021-08-28T11:52:32.584867Z"
    },
    "tags": []
   },
   "outputs": [
    {
     "name": "stderr",
     "output_type": "stream",
     "text": [
      "/tmp/ipykernel_232561/461950103.py:1: SettingWithCopyWarning: \n",
      "A value is trying to be set on a copy of a slice from a DataFrame.\n",
      "Try using .loc[row_indexer,col_indexer] = value instead\n",
      "\n",
      "See the caveats in the documentation: https://pandas.pydata.org/pandas-docs/stable/user_guide/indexing.html#returning-a-view-versus-a-copy\n",
      "  full_deps_df['add_txot'] = full_deps_df.real_dur_minutes-q1\n"
     ]
    }
   ],
   "source": [
    "full_deps_df['add_txot'] = full_deps_df.real_dur_minutes-q1"
   ]
  },
  {
   "cell_type": "code",
   "execution_count": 239,
   "id": "62ffea36-a9d1-4d83-8d9e-9307b3eabae8",
   "metadata": {
    "execution": {
     "iopub.execute_input": "2021-08-28T11:52:32.858894Z",
     "iopub.status.busy": "2021-08-28T11:52:32.857577Z",
     "iopub.status.idle": "2021-08-28T11:52:32.863530Z",
     "shell.execute_reply": "2021-08-28T11:52:32.862918Z",
     "shell.execute_reply.started": "2021-08-28T11:52:32.858853Z"
    },
    "tags": []
   },
   "outputs": [
    {
     "name": "stderr",
     "output_type": "stream",
     "text": [
      "/tmp/ipykernel_232561/789136261.py:1: SettingWithCopyWarning: \n",
      "A value is trying to be set on a copy of a slice from a DataFrame.\n",
      "Try using .loc[row_indexer,col_indexer] = value instead\n",
      "\n",
      "See the caveats in the documentation: https://pandas.pydata.org/pandas-docs/stable/user_guide/indexing.html#returning-a-view-versus-a-copy\n",
      "  full_deps_df['delta_txot'] = full_deps_df.add_txot - full_deps_df.taxi_holding_time_minutes\n"
     ]
    }
   ],
   "source": [
    "full_deps_df['delta_txot'] = full_deps_df.add_txot - full_deps_df.taxi_holding_time_minutes"
   ]
  },
  {
   "cell_type": "code",
   "execution_count": 240,
   "id": "9de325fd-9d2a-4763-83f3-2a3f78cca32b",
   "metadata": {
    "execution": {
     "iopub.execute_input": "2021-08-28T11:52:33.183794Z",
     "iopub.status.busy": "2021-08-28T11:52:33.183095Z",
     "iopub.status.idle": "2021-08-28T11:52:33.192939Z",
     "shell.execute_reply": "2021-08-28T11:52:33.192222Z",
     "shell.execute_reply.started": "2021-08-28T11:52:33.183766Z"
    },
    "tags": []
   },
   "outputs": [
    {
     "data": {
      "text/plain": [
       "count    65.000000\n",
       "mean     -0.329963\n",
       "std       1.780999\n",
       "min      -4.090476\n",
       "25%      -0.990476\n",
       "50%       0.126190\n",
       "75%       0.676190\n",
       "max       3.409524\n",
       "Name: delta_txot, dtype: float64"
      ]
     },
     "execution_count": 240,
     "metadata": {},
     "output_type": "execute_result"
    }
   ],
   "source": [
    "full_deps_df['delta_txot'].describe()"
   ]
  },
  {
   "cell_type": "code",
   "execution_count": 241,
   "id": "d19e8aa3-cabe-41a6-817a-d80e1bfa2598",
   "metadata": {
    "execution": {
     "iopub.execute_input": "2021-08-28T11:52:34.442532Z",
     "iopub.status.busy": "2021-08-28T11:52:34.441727Z",
     "iopub.status.idle": "2021-08-28T11:52:34.446449Z",
     "shell.execute_reply": "2021-08-28T11:52:34.445786Z",
     "shell.execute_reply.started": "2021-08-28T11:52:34.442506Z"
    }
   },
   "outputs": [
    {
     "ename": "SyntaxError",
     "evalue": "invalid syntax (1815659018.py, line 1)",
     "output_type": "error",
     "traceback": [
      "\u001b[0;36m  File \u001b[0;32m\"/tmp/ipykernel_232561/1815659018.py\"\u001b[0;36m, line \u001b[0;32m1\u001b[0m\n\u001b[0;31m    why do OTHD overestimates Add txot ?\u001b[0m\n\u001b[0m        ^\u001b[0m\n\u001b[0;31mSyntaxError\u001b[0m\u001b[0;31m:\u001b[0m invalid syntax\n"
     ]
    }
   ],
   "source": [
    "why do OTHD overestimates Add txot ?\n",
    "\n"
   ]
  },
  {
   "cell_type": "code",
   "execution_count": 249,
   "id": "afe0fb6b-93c1-40b6-9fa4-3c3f682b6ab3",
   "metadata": {
    "execution": {
     "iopub.execute_input": "2021-08-28T11:59:37.101026Z",
     "iopub.status.busy": "2021-08-28T11:59:37.100539Z",
     "iopub.status.idle": "2021-08-28T11:59:37.830899Z",
     "shell.execute_reply": "2021-08-28T11:59:37.830181Z",
     "shell.execute_reply.started": "2021-08-28T11:59:37.101002Z"
    },
    "tags": []
   },
   "outputs": [
    {
     "data": {
      "application/vnd.jupyter.widget-view+json": {
       "model_id": "055f5f98416f4e34bf5144fc7ea78e22",
       "version_major": 2,
       "version_minor": 0
      },
      "text/plain": [
       "Map(center=[47.45571155990373, 8.554327144325763], controls=(ZoomControl(options=['position', 'zoom_in_text', …"
      ]
     },
     "metadata": {},
     "output_type": "display_data"
    }
   ],
   "source": [
    "traf['IBE3477_268'].map_leaflet(zoom=13)"
   ]
  },
  {
   "cell_type": "code",
   "execution_count": 245,
   "id": "0b1dbe09-8c01-4c04-b8c5-33c51c8dc6c3",
   "metadata": {
    "execution": {
     "iopub.execute_input": "2021-08-28T11:59:02.697828Z",
     "iopub.status.busy": "2021-08-28T11:59:02.696888Z",
     "iopub.status.idle": "2021-08-28T11:59:02.739871Z",
     "shell.execute_reply": "2021-08-28T11:59:02.739124Z",
     "shell.execute_reply.started": "2021-08-28T11:59:02.697777Z"
    },
    "tags": []
   },
   "outputs": [
    {
     "data": {
      "text/html": [
       "<div>\n",
       "<style scoped>\n",
       "    .dataframe tbody tr th:only-of-type {\n",
       "        vertical-align: middle;\n",
       "    }\n",
       "\n",
       "    .dataframe tbody tr th {\n",
       "        vertical-align: top;\n",
       "    }\n",
       "\n",
       "    .dataframe thead th {\n",
       "        text-align: right;\n",
       "    }\n",
       "</style>\n",
       "<table border=\"1\" class=\"dataframe\">\n",
       "  <thead>\n",
       "    <tr style=\"text-align: right;\">\n",
       "      <th></th>\n",
       "      <th>flight_id</th>\n",
       "      <th>on_runway_time</th>\n",
       "      <th>taxi_holding_time</th>\n",
       "      <th>rwy_holding_time</th>\n",
       "      <th>total_holding_time</th>\n",
       "      <th>taxi_holding_time_minutes</th>\n",
       "      <th>first_movement</th>\n",
       "      <th>callsign</th>\n",
       "      <th>registration</th>\n",
       "      <th>typecode</th>\n",
       "      <th>...</th>\n",
       "      <th>runway_28</th>\n",
       "      <th>runway_32</th>\n",
       "      <th>runway_34</th>\n",
       "      <th>config_EAST</th>\n",
       "      <th>config_NORTH0</th>\n",
       "      <th>config_NORTH1</th>\n",
       "      <th>config_SOUTH</th>\n",
       "      <th>taxi_holding_time_minutes_cat</th>\n",
       "      <th>add_txot</th>\n",
       "      <th>delta_txot</th>\n",
       "    </tr>\n",
       "  </thead>\n",
       "  <tbody>\n",
       "    <tr>\n",
       "      <th>58</th>\n",
       "      <td>SWR293M_11175</td>\n",
       "      <td>2019-10-01 05:48:36+00:00</td>\n",
       "      <td>0 days 00:00:00</td>\n",
       "      <td>None</td>\n",
       "      <td>0 days 00:03:34</td>\n",
       "      <td>0.000000</td>\n",
       "      <td>2019-10-01 05:43:18+00:00</td>\n",
       "      <td>SWR293M</td>\n",
       "      <td>HB-JCD</td>\n",
       "      <td>BCS3</td>\n",
       "      <td>...</td>\n",
       "      <td>1</td>\n",
       "      <td>0</td>\n",
       "      <td>0</td>\n",
       "      <td>0</td>\n",
       "      <td>1</td>\n",
       "      <td>0</td>\n",
       "      <td>0</td>\n",
       "      <td>0.0</td>\n",
       "      <td>0.325817</td>\n",
       "      <td>0.325817</td>\n",
       "    </tr>\n",
       "    <tr>\n",
       "      <th>255</th>\n",
       "      <td>SWR79W_14677</td>\n",
       "      <td>2019-10-01 10:37:28+00:00</td>\n",
       "      <td>0 days 00:02:28</td>\n",
       "      <td>None</td>\n",
       "      <td>0 days 00:06:34</td>\n",
       "      <td>2.466667</td>\n",
       "      <td>2019-10-01 10:25:38+00:00</td>\n",
       "      <td>SWR79W</td>\n",
       "      <td>HB-JLS</td>\n",
       "      <td>A320</td>\n",
       "      <td>...</td>\n",
       "      <td>1</td>\n",
       "      <td>0</td>\n",
       "      <td>0</td>\n",
       "      <td>0</td>\n",
       "      <td>1</td>\n",
       "      <td>0</td>\n",
       "      <td>0</td>\n",
       "      <td>0.0</td>\n",
       "      <td>6.859150</td>\n",
       "      <td>4.392484</td>\n",
       "    </tr>\n",
       "    <tr>\n",
       "      <th>261</th>\n",
       "      <td>SWR203L_9492</td>\n",
       "      <td>2019-10-01 10:39:01+00:00</td>\n",
       "      <td>0 days 00:05:29</td>\n",
       "      <td>None</td>\n",
       "      <td>0 days 00:06:42</td>\n",
       "      <td>5.483333</td>\n",
       "      <td>2019-10-01 10:30:03+00:00</td>\n",
       "      <td>SWR203L</td>\n",
       "      <td>HB-IPT</td>\n",
       "      <td>A319</td>\n",
       "      <td>...</td>\n",
       "      <td>1</td>\n",
       "      <td>0</td>\n",
       "      <td>0</td>\n",
       "      <td>0</td>\n",
       "      <td>1</td>\n",
       "      <td>0</td>\n",
       "      <td>0</td>\n",
       "      <td>1.0</td>\n",
       "      <td>3.992484</td>\n",
       "      <td>-1.490850</td>\n",
       "    </tr>\n",
       "    <tr>\n",
       "      <th>260</th>\n",
       "      <td>SWR58PQ_17891</td>\n",
       "      <td>2019-10-01 10:41:29+00:00</td>\n",
       "      <td>0 days 00:02:54</td>\n",
       "      <td>None</td>\n",
       "      <td>0 days 00:08:43</td>\n",
       "      <td>2.900000</td>\n",
       "      <td>2019-10-01 10:29:16+00:00</td>\n",
       "      <td>SWR58PQ</td>\n",
       "      <td>None</td>\n",
       "      <td>None</td>\n",
       "      <td>...</td>\n",
       "      <td>1</td>\n",
       "      <td>0</td>\n",
       "      <td>0</td>\n",
       "      <td>0</td>\n",
       "      <td>1</td>\n",
       "      <td>0</td>\n",
       "      <td>0</td>\n",
       "      <td>0.0</td>\n",
       "      <td>7.242484</td>\n",
       "      <td>4.342484</td>\n",
       "    </tr>\n",
       "    <tr>\n",
       "      <th>420</th>\n",
       "      <td>SWR56N_14315</td>\n",
       "      <td>2019-10-01 15:15:50+00:00</td>\n",
       "      <td>0 days 00:00:00</td>\n",
       "      <td>None</td>\n",
       "      <td>0 days 00:04:51</td>\n",
       "      <td>0.000000</td>\n",
       "      <td>2019-10-01 15:08:46+00:00</td>\n",
       "      <td>SWR56N</td>\n",
       "      <td>HB-JLQ</td>\n",
       "      <td>A320</td>\n",
       "      <td>...</td>\n",
       "      <td>1</td>\n",
       "      <td>0</td>\n",
       "      <td>0</td>\n",
       "      <td>0</td>\n",
       "      <td>1</td>\n",
       "      <td>0</td>\n",
       "      <td>0</td>\n",
       "      <td>0.0</td>\n",
       "      <td>2.092484</td>\n",
       "      <td>2.092484</td>\n",
       "    </tr>\n",
       "    <tr>\n",
       "      <th>...</th>\n",
       "      <td>...</td>\n",
       "      <td>...</td>\n",
       "      <td>...</td>\n",
       "      <td>...</td>\n",
       "      <td>...</td>\n",
       "      <td>...</td>\n",
       "      <td>...</td>\n",
       "      <td>...</td>\n",
       "      <td>...</td>\n",
       "      <td>...</td>\n",
       "      <td>...</td>\n",
       "      <td>...</td>\n",
       "      <td>...</td>\n",
       "      <td>...</td>\n",
       "      <td>...</td>\n",
       "      <td>...</td>\n",
       "      <td>...</td>\n",
       "      <td>...</td>\n",
       "      <td>...</td>\n",
       "      <td>...</td>\n",
       "      <td>...</td>\n",
       "    </tr>\n",
       "    <tr>\n",
       "      <th>78143</th>\n",
       "      <td>IBE3477_268</td>\n",
       "      <td>2019-11-29 11:11:29+00:00</td>\n",
       "      <td>0 days 00:04:16</td>\n",
       "      <td>None</td>\n",
       "      <td>0 days 00:08:24</td>\n",
       "      <td>4.266667</td>\n",
       "      <td>2019-11-29 11:01:46+00:00</td>\n",
       "      <td>IBE3477</td>\n",
       "      <td>EC-IZH</td>\n",
       "      <td>A320</td>\n",
       "      <td>...</td>\n",
       "      <td>1</td>\n",
       "      <td>0</td>\n",
       "      <td>0</td>\n",
       "      <td>0</td>\n",
       "      <td>1</td>\n",
       "      <td>0</td>\n",
       "      <td>0</td>\n",
       "      <td>1.0</td>\n",
       "      <td>4.742484</td>\n",
       "      <td>0.475817</td>\n",
       "    </tr>\n",
       "    <tr>\n",
       "      <th>78208</th>\n",
       "      <td>SWR95P_6317</td>\n",
       "      <td>2019-11-29 12:53:33+00:00</td>\n",
       "      <td>0 days 00:01:23</td>\n",
       "      <td>None</td>\n",
       "      <td>0 days 00:04:55</td>\n",
       "      <td>1.383333</td>\n",
       "      <td>2019-11-29 12:46:12+00:00</td>\n",
       "      <td>SWR95P</td>\n",
       "      <td>HB-IJI</td>\n",
       "      <td>A320</td>\n",
       "      <td>...</td>\n",
       "      <td>1</td>\n",
       "      <td>0</td>\n",
       "      <td>0</td>\n",
       "      <td>0</td>\n",
       "      <td>1</td>\n",
       "      <td>0</td>\n",
       "      <td>0</td>\n",
       "      <td>0.0</td>\n",
       "      <td>2.375817</td>\n",
       "      <td>0.992484</td>\n",
       "    </tr>\n",
       "    <tr>\n",
       "      <th>78600</th>\n",
       "      <td>EWG6NL_1428</td>\n",
       "      <td>2019-11-30 08:06:25+00:00</td>\n",
       "      <td>0 days 00:01:27</td>\n",
       "      <td>None</td>\n",
       "      <td>0 days 00:06:10</td>\n",
       "      <td>1.450000</td>\n",
       "      <td>2019-11-30 07:57:51+00:00</td>\n",
       "      <td>EWG6NL</td>\n",
       "      <td>D-AEWS</td>\n",
       "      <td>A320</td>\n",
       "      <td>...</td>\n",
       "      <td>1</td>\n",
       "      <td>0</td>\n",
       "      <td>0</td>\n",
       "      <td>0</td>\n",
       "      <td>0</td>\n",
       "      <td>0</td>\n",
       "      <td>1</td>\n",
       "      <td>0.0</td>\n",
       "      <td>3.592484</td>\n",
       "      <td>2.142484</td>\n",
       "    </tr>\n",
       "    <tr>\n",
       "      <th>78701</th>\n",
       "      <td>AFL2487_3103</td>\n",
       "      <td>2019-11-30 10:59:52+00:00</td>\n",
       "      <td>0 days 00:00:00</td>\n",
       "      <td>None</td>\n",
       "      <td>0 days 00:00:00</td>\n",
       "      <td>0.000000</td>\n",
       "      <td>2019-11-30 10:54:26+00:00</td>\n",
       "      <td>AFL2487</td>\n",
       "      <td>None</td>\n",
       "      <td>None</td>\n",
       "      <td>...</td>\n",
       "      <td>1</td>\n",
       "      <td>0</td>\n",
       "      <td>0</td>\n",
       "      <td>0</td>\n",
       "      <td>1</td>\n",
       "      <td>0</td>\n",
       "      <td>0</td>\n",
       "      <td>0.0</td>\n",
       "      <td>0.459150</td>\n",
       "      <td>0.459150</td>\n",
       "    </tr>\n",
       "    <tr>\n",
       "      <th>78712</th>\n",
       "      <td>PGT948_18503</td>\n",
       "      <td>2019-11-30 11:22:12+00:00</td>\n",
       "      <td>0 days 00:03:34</td>\n",
       "      <td>None</td>\n",
       "      <td>0 days 00:03:34</td>\n",
       "      <td>3.566667</td>\n",
       "      <td>2019-11-30 11:12:04+00:00</td>\n",
       "      <td>PGT948</td>\n",
       "      <td>None</td>\n",
       "      <td>None</td>\n",
       "      <td>...</td>\n",
       "      <td>1</td>\n",
       "      <td>0</td>\n",
       "      <td>0</td>\n",
       "      <td>0</td>\n",
       "      <td>1</td>\n",
       "      <td>0</td>\n",
       "      <td>0</td>\n",
       "      <td>0.0</td>\n",
       "      <td>5.159150</td>\n",
       "      <td>1.592484</td>\n",
       "    </tr>\n",
       "  </tbody>\n",
       "</table>\n",
       "<p>267 rows × 123 columns</p>\n",
       "</div>"
      ],
      "text/plain": [
       "           flight_id            on_runway_time taxi_holding_time  \\\n",
       "58     SWR293M_11175 2019-10-01 05:48:36+00:00   0 days 00:00:00   \n",
       "255     SWR79W_14677 2019-10-01 10:37:28+00:00   0 days 00:02:28   \n",
       "261     SWR203L_9492 2019-10-01 10:39:01+00:00   0 days 00:05:29   \n",
       "260    SWR58PQ_17891 2019-10-01 10:41:29+00:00   0 days 00:02:54   \n",
       "420     SWR56N_14315 2019-10-01 15:15:50+00:00   0 days 00:00:00   \n",
       "...              ...                       ...               ...   \n",
       "78143    IBE3477_268 2019-11-29 11:11:29+00:00   0 days 00:04:16   \n",
       "78208    SWR95P_6317 2019-11-29 12:53:33+00:00   0 days 00:01:23   \n",
       "78600    EWG6NL_1428 2019-11-30 08:06:25+00:00   0 days 00:01:27   \n",
       "78701   AFL2487_3103 2019-11-30 10:59:52+00:00   0 days 00:00:00   \n",
       "78712   PGT948_18503 2019-11-30 11:22:12+00:00   0 days 00:03:34   \n",
       "\n",
       "      rwy_holding_time total_holding_time  taxi_holding_time_minutes  \\\n",
       "58                None    0 days 00:03:34                   0.000000   \n",
       "255               None    0 days 00:06:34                   2.466667   \n",
       "261               None    0 days 00:06:42                   5.483333   \n",
       "260               None    0 days 00:08:43                   2.900000   \n",
       "420               None    0 days 00:04:51                   0.000000   \n",
       "...                ...                ...                        ...   \n",
       "78143             None    0 days 00:08:24                   4.266667   \n",
       "78208             None    0 days 00:04:55                   1.383333   \n",
       "78600             None    0 days 00:06:10                   1.450000   \n",
       "78701             None    0 days 00:00:00                   0.000000   \n",
       "78712             None    0 days 00:03:34                   3.566667   \n",
       "\n",
       "                 first_movement callsign registration typecode  ... runway_28  \\\n",
       "58    2019-10-01 05:43:18+00:00  SWR293M       HB-JCD     BCS3  ...         1   \n",
       "255   2019-10-01 10:25:38+00:00   SWR79W       HB-JLS     A320  ...         1   \n",
       "261   2019-10-01 10:30:03+00:00  SWR203L       HB-IPT     A319  ...         1   \n",
       "260   2019-10-01 10:29:16+00:00  SWR58PQ         None     None  ...         1   \n",
       "420   2019-10-01 15:08:46+00:00   SWR56N       HB-JLQ     A320  ...         1   \n",
       "...                         ...      ...          ...      ...  ...       ...   \n",
       "78143 2019-11-29 11:01:46+00:00  IBE3477       EC-IZH     A320  ...         1   \n",
       "78208 2019-11-29 12:46:12+00:00   SWR95P       HB-IJI     A320  ...         1   \n",
       "78600 2019-11-30 07:57:51+00:00   EWG6NL       D-AEWS     A320  ...         1   \n",
       "78701 2019-11-30 10:54:26+00:00  AFL2487         None     None  ...         1   \n",
       "78712 2019-11-30 11:12:04+00:00   PGT948         None     None  ...         1   \n",
       "\n",
       "      runway_32 runway_34 config_EAST config_NORTH0  config_NORTH1  \\\n",
       "58            0         0           0             1              0   \n",
       "255           0         0           0             1              0   \n",
       "261           0         0           0             1              0   \n",
       "260           0         0           0             1              0   \n",
       "420           0         0           0             1              0   \n",
       "...         ...       ...         ...           ...            ...   \n",
       "78143         0         0           0             1              0   \n",
       "78208         0         0           0             1              0   \n",
       "78600         0         0           0             0              0   \n",
       "78701         0         0           0             1              0   \n",
       "78712         0         0           0             1              0   \n",
       "\n",
       "      config_SOUTH taxi_holding_time_minutes_cat  add_txot delta_txot  \n",
       "58               0                           0.0  0.325817   0.325817  \n",
       "255              0                           0.0  6.859150   4.392484  \n",
       "261              0                           1.0  3.992484  -1.490850  \n",
       "260              0                           0.0  7.242484   4.342484  \n",
       "420              0                           0.0  2.092484   2.092484  \n",
       "...            ...                           ...       ...        ...  \n",
       "78143            0                           1.0  4.742484   0.475817  \n",
       "78208            0                           0.0  2.375817   0.992484  \n",
       "78600            1                           0.0  3.592484   2.142484  \n",
       "78701            0                           0.0  0.459150   0.459150  \n",
       "78712            0                           0.0  5.159150   1.592484  \n",
       "\n",
       "[267 rows x 123 columns]"
      ]
     },
     "execution_count": 245,
     "metadata": {},
     "output_type": "execute_result"
    }
   ],
   "source": [
    "our_df.query(\"mvt_type=='DEP' & end_pb==end_pb & runway=='28' & parking_position=='A57'\")"
   ]
  },
  {
   "cell_type": "code",
   "execution_count": null,
   "id": "e21cb928-8b8d-4187-84b5-8ec418448458",
   "metadata": {},
   "outputs": [],
   "source": []
  }
 ],
 "metadata": {
  "kernelspec": {
   "display_name": "Python 3 (ipykernel)",
   "language": "python",
   "name": "python3"
  },
  "language_info": {
   "codemirror_mode": {
    "name": "ipython",
    "version": 3
   },
   "file_extension": ".py",
   "mimetype": "text/x-python",
   "name": "python",
   "nbconvert_exporter": "python",
   "pygments_lexer": "ipython3",
   "version": "3.9.6"
  }
 },
 "nbformat": 4,
 "nbformat_minor": 5
}
