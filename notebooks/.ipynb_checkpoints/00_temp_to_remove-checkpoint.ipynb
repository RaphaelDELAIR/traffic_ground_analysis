{
 "cells": [
  {
   "cell_type": "code",
   "execution_count": 1,
   "id": "8aa8ac95-fcdb-4b05-9a4b-ccf56f9dd962",
   "metadata": {
    "execution": {
     "iopub.execute_input": "2021-06-25T12:43:36.071270Z",
     "iopub.status.busy": "2021-06-25T12:43:36.070962Z",
     "iopub.status.idle": "2021-06-25T12:43:40.101646Z",
     "shell.execute_reply": "2021-06-25T12:43:40.100998Z",
     "shell.execute_reply.started": "2021-06-25T12:43:36.071201Z"
    }
   },
   "outputs": [],
   "source": [
    "from traffic.core import Traffic"
   ]
  },
  {
   "cell_type": "code",
   "execution_count": 3,
   "id": "e00cc7d8-f468-4f7b-b8a9-e1385e6c8428",
   "metadata": {
    "execution": {
     "iopub.execute_input": "2021-06-25T12:44:35.135693Z",
     "iopub.status.busy": "2021-06-25T12:44:35.135423Z",
     "iopub.status.idle": "2021-06-25T12:44:35.138414Z",
     "shell.execute_reply": "2021-06-25T12:44:35.137928Z",
     "shell.execute_reply.started": "2021-06-25T12:44:35.135670Z"
    }
   },
   "outputs": [],
   "source": [
    "import pandas as pd"
   ]
  },
  {
   "cell_type": "code",
   "execution_count": null,
   "id": "f2053aec-2a01-4818-afd6-2200dc18ffcd",
   "metadata": {
    "execution": {
     "iopub.execute_input": "2021-06-25T12:45:18.724509Z",
     "iopub.status.busy": "2021-06-25T12:45:18.724014Z"
    },
    "tags": []
   },
   "outputs": [],
   "source": [
    "arrtraf = \"../data/intermediate/taxi_zurich_2019_landin_v3_TWY_.pkl\"\n",
    "deptraf = \"../data/intermediate/taxi_zurich_2019_takeoff_TWY_.pkl\"\n",
    "day = pd.Timestamp(\"2019-10-05 00:00:00+00:00\")\n",
    "t_dep_full = Traffic.from_file(deptraf).between(day, day+pd.Timedelta('1d'))\n",
    "t_arr_full = Traffic.from_file(arrtraf).between(day, day+pd.Timedelta('1d'))\n",
    "t=t_dep_full+t_arr_full\n",
    "t.to_pickle('../data/samples/t_5_10_dep_arr.pkl')"
   ]
  },
  {
   "cell_type": "code",
   "execution_count": null,
   "id": "adbb5042-ede1-45e2-9f11-80e4550ad6a3",
   "metadata": {},
   "outputs": [],
   "source": []
  },
  {
   "cell_type": "code",
   "execution_count": null,
   "id": "06fefd77-8111-4be2-9265-f46c32c52a6e",
   "metadata": {},
   "outputs": [],
   "source": []
  }
 ],
 "metadata": {
  "kernelspec": {
   "display_name": "Python 3",
   "language": "python",
   "name": "python3"
  },
  "language_info": {
   "codemirror_mode": {
    "name": "ipython",
    "version": 3
   },
   "file_extension": ".py",
   "mimetype": "text/x-python",
   "name": "python",
   "nbconvert_exporter": "python",
   "pygments_lexer": "ipython3",
   "version": "3.8.8"
  }
 },
 "nbformat": 4,
 "nbformat_minor": 5
}
