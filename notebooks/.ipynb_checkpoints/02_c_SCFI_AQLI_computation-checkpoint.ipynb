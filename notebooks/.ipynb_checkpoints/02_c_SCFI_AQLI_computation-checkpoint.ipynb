{
 "cells": [
  {
   "cell_type": "code",
   "execution_count": 1,
   "id": "2def8a3c-7e6a-4eac-83b1-f3df3c8fab68",
   "metadata": {
    "execution": {
     "iopub.execute_input": "2021-06-30T17:08:48.857568Z",
     "iopub.status.busy": "2021-06-30T17:08:48.857261Z",
     "iopub.status.idle": "2021-06-30T17:08:49.068294Z",
     "shell.execute_reply": "2021-06-30T17:08:49.067731Z",
     "shell.execute_reply.started": "2021-06-30T17:08:48.857494Z"
    }
   },
   "outputs": [],
   "source": [
    "import numpy as np\n",
    "import pandas as pd\n"
   ]
  },
  {
   "cell_type": "code",
   "execution_count": 28,
   "id": "ddc62dd4-83e0-4ff9-bc9c-309862b0bee4",
   "metadata": {
    "execution": {
     "iopub.execute_input": "2021-06-30T18:07:43.739855Z",
     "iopub.status.busy": "2021-06-30T18:07:43.739362Z",
     "iopub.status.idle": "2021-06-30T18:07:43.800802Z",
     "shell.execute_reply": "2021-06-30T18:07:43.800218Z",
     "shell.execute_reply.started": "2021-06-30T18:07:43.739824Z"
    },
    "tags": []
   },
   "outputs": [],
   "source": [
    "dep_arr_df = pd.read_pickle(\"../data/processed/dep_arr_df4_twymaxoccAndNextAvgDelay.pkl\")"
   ]
  },
  {
   "cell_type": "code",
   "execution_count": 4,
   "id": "0d490294-d663-4e8f-a15e-26cbed3c3924",
   "metadata": {
    "execution": {
     "iopub.execute_input": "2021-06-30T17:09:29.523415Z",
     "iopub.status.busy": "2021-06-30T17:09:29.523134Z",
     "iopub.status.idle": "2021-06-30T17:09:29.600985Z",
     "shell.execute_reply": "2021-06-30T17:09:29.600479Z",
     "shell.execute_reply.started": "2021-06-30T17:09:29.523387Z"
    },
    "tags": []
   },
   "outputs": [
    {
     "data": {
      "text/html": [
       "<div>\n",
       "<style scoped>\n",
       "    .dataframe tbody tr th:only-of-type {\n",
       "        vertical-align: middle;\n",
       "    }\n",
       "\n",
       "    .dataframe tbody tr th {\n",
       "        vertical-align: top;\n",
       "    }\n",
       "\n",
       "    .dataframe thead th {\n",
       "        text-align: right;\n",
       "    }\n",
       "</style>\n",
       "<table border=\"1\" class=\"dataframe\">\n",
       "  <thead>\n",
       "    <tr style=\"text-align: right;\">\n",
       "      <th></th>\n",
       "      <th>flight_id</th>\n",
       "      <th>on_runway_time</th>\n",
       "      <th>taxi_holding_time</th>\n",
       "      <th>rwy_holding_time</th>\n",
       "      <th>total_holding_time</th>\n",
       "      <th>taxi_holding_time_minutes</th>\n",
       "      <th>first_movement</th>\n",
       "      <th>callsign</th>\n",
       "      <th>registration</th>\n",
       "      <th>typecode</th>\n",
       "      <th>...</th>\n",
       "      <th>N</th>\n",
       "      <th>A</th>\n",
       "      <th>M</th>\n",
       "      <th>M</th>\n",
       "      <th>Y</th>\n",
       "      <th>R</th>\n",
       "      <th>G</th>\n",
       "      <th>Z</th>\n",
       "      <th>P</th>\n",
       "      <th>nextAvgDelay</th>\n",
       "    </tr>\n",
       "  </thead>\n",
       "  <tbody>\n",
       "    <tr>\n",
       "      <th>0</th>\n",
       "      <td>GSW4942_15738</td>\n",
       "      <td>2019-10-01 04:00:28+00:00</td>\n",
       "      <td>0 days 00:01:23</td>\n",
       "      <td>None</td>\n",
       "      <td>0 days 00:01:23</td>\n",
       "      <td>1.383333</td>\n",
       "      <td>2019-10-01 03:59:06+00:00</td>\n",
       "      <td>GSW4942</td>\n",
       "      <td>HB-JOG</td>\n",
       "      <td>A319</td>\n",
       "      <td>...</td>\n",
       "      <td>0.0</td>\n",
       "      <td>0.0</td>\n",
       "      <td>1.0</td>\n",
       "      <td>0.0</td>\n",
       "      <td>0.0</td>\n",
       "      <td>0.0</td>\n",
       "      <td>0.0</td>\n",
       "      <td>0.0</td>\n",
       "      <td>0.0</td>\n",
       "      <td>3.455556</td>\n",
       "    </tr>\n",
       "    <tr>\n",
       "      <th>1</th>\n",
       "      <td>EDW200_5718</td>\n",
       "      <td>2019-10-01 04:10:37+00:00</td>\n",
       "      <td>0 days 00:01:18</td>\n",
       "      <td>None</td>\n",
       "      <td>0 days 00:04:56</td>\n",
       "      <td>1.300000</td>\n",
       "      <td>2019-10-01 04:03:36+00:00</td>\n",
       "      <td>EDW200</td>\n",
       "      <td>HB-IHZ</td>\n",
       "      <td>A320</td>\n",
       "      <td>...</td>\n",
       "      <td>0.0</td>\n",
       "      <td>0.0</td>\n",
       "      <td>1.0</td>\n",
       "      <td>0.0</td>\n",
       "      <td>0.0</td>\n",
       "      <td>0.0</td>\n",
       "      <td>0.0</td>\n",
       "      <td>0.0</td>\n",
       "      <td>0.0</td>\n",
       "      <td>3.925000</td>\n",
       "    </tr>\n",
       "    <tr>\n",
       "      <th>2</th>\n",
       "      <td>SWR177_15809</td>\n",
       "      <td>2019-10-01 04:05:11+00:00</td>\n",
       "      <td>0 days 00:00:00</td>\n",
       "      <td>None</td>\n",
       "      <td>0 days 00:00:00</td>\n",
       "      <td>0.000000</td>\n",
       "      <td>2019-10-01 04:05:48+00:00</td>\n",
       "      <td>SWR177</td>\n",
       "      <td>HB-JNI</td>\n",
       "      <td>B77W</td>\n",
       "      <td>...</td>\n",
       "      <td>0.0</td>\n",
       "      <td>1.0</td>\n",
       "      <td>1.0</td>\n",
       "      <td>0.0</td>\n",
       "      <td>0.0</td>\n",
       "      <td>0.0</td>\n",
       "      <td>0.0</td>\n",
       "      <td>0.0</td>\n",
       "      <td>0.0</td>\n",
       "      <td>NaN</td>\n",
       "    </tr>\n",
       "    <tr>\n",
       "      <th>3</th>\n",
       "      <td>SWR139_15706</td>\n",
       "      <td>2019-10-01 04:07:25+00:00</td>\n",
       "      <td>0 days 00:00:00</td>\n",
       "      <td>None</td>\n",
       "      <td>0 days 00:00:00</td>\n",
       "      <td>0.000000</td>\n",
       "      <td>2019-10-01 04:07:33+00:00</td>\n",
       "      <td>SWR139</td>\n",
       "      <td>HB-JNG</td>\n",
       "      <td>B77W</td>\n",
       "      <td>...</td>\n",
       "      <td>0.0</td>\n",
       "      <td>1.0</td>\n",
       "      <td>1.0</td>\n",
       "      <td>0.0</td>\n",
       "      <td>0.0</td>\n",
       "      <td>0.0</td>\n",
       "      <td>0.0</td>\n",
       "      <td>0.0</td>\n",
       "      <td>0.0</td>\n",
       "      <td>NaN</td>\n",
       "    </tr>\n",
       "    <tr>\n",
       "      <th>4</th>\n",
       "      <td>SWR296_13638</td>\n",
       "      <td>2019-10-01 04:09:53+00:00</td>\n",
       "      <td>0 days 00:00:00</td>\n",
       "      <td>None</td>\n",
       "      <td>0 days 00:00:00</td>\n",
       "      <td>0.000000</td>\n",
       "      <td>2019-10-01 04:10:25+00:00</td>\n",
       "      <td>SWR296</td>\n",
       "      <td>HB-JHM</td>\n",
       "      <td>A333</td>\n",
       "      <td>...</td>\n",
       "      <td>0.0</td>\n",
       "      <td>1.0</td>\n",
       "      <td>1.0</td>\n",
       "      <td>0.0</td>\n",
       "      <td>0.0</td>\n",
       "      <td>0.0</td>\n",
       "      <td>0.0</td>\n",
       "      <td>0.0</td>\n",
       "      <td>0.0</td>\n",
       "      <td>NaN</td>\n",
       "    </tr>\n",
       "    <tr>\n",
       "      <th>...</th>\n",
       "      <td>...</td>\n",
       "      <td>...</td>\n",
       "      <td>...</td>\n",
       "      <td>...</td>\n",
       "      <td>...</td>\n",
       "      <td>...</td>\n",
       "      <td>...</td>\n",
       "      <td>...</td>\n",
       "      <td>...</td>\n",
       "      <td>...</td>\n",
       "      <td>...</td>\n",
       "      <td>...</td>\n",
       "      <td>...</td>\n",
       "      <td>...</td>\n",
       "      <td>...</td>\n",
       "      <td>...</td>\n",
       "      <td>...</td>\n",
       "      <td>...</td>\n",
       "      <td>...</td>\n",
       "      <td>...</td>\n",
       "      <td>...</td>\n",
       "    </tr>\n",
       "    <tr>\n",
       "      <th>36005</th>\n",
       "      <td>SWR176_15653</td>\n",
       "      <td>2019-11-30 22:02:47+00:00</td>\n",
       "      <td>0 days 00:02:16</td>\n",
       "      <td>None</td>\n",
       "      <td>0 days 00:15:41</td>\n",
       "      <td>2.266667</td>\n",
       "      <td>2019-11-30 21:44:51+00:00</td>\n",
       "      <td>SWR176</td>\n",
       "      <td>HB-JNJ</td>\n",
       "      <td>B77W</td>\n",
       "      <td>...</td>\n",
       "      <td>0.0</td>\n",
       "      <td>0.0</td>\n",
       "      <td>1.0</td>\n",
       "      <td>0.0</td>\n",
       "      <td>0.0</td>\n",
       "      <td>0.0</td>\n",
       "      <td>0.0</td>\n",
       "      <td>0.0</td>\n",
       "      <td>0.0</td>\n",
       "      <td>9.105556</td>\n",
       "    </tr>\n",
       "    <tr>\n",
       "      <th>36006</th>\n",
       "      <td>SWR288_13280</td>\n",
       "      <td>2019-11-30 21:49:46+00:00</td>\n",
       "      <td>0 days 00:02:03</td>\n",
       "      <td>None</td>\n",
       "      <td>0 days 00:02:03</td>\n",
       "      <td>2.050000</td>\n",
       "      <td>2019-11-30 21:46:26+00:00</td>\n",
       "      <td>SWR288</td>\n",
       "      <td>HB-JHI</td>\n",
       "      <td>A333</td>\n",
       "      <td>...</td>\n",
       "      <td>0.0</td>\n",
       "      <td>0.0</td>\n",
       "      <td>1.0</td>\n",
       "      <td>0.0</td>\n",
       "      <td>0.0</td>\n",
       "      <td>0.0</td>\n",
       "      <td>0.0</td>\n",
       "      <td>0.0</td>\n",
       "      <td>0.0</td>\n",
       "      <td>9.105556</td>\n",
       "    </tr>\n",
       "    <tr>\n",
       "      <th>36007</th>\n",
       "      <td>THY8HD_18663</td>\n",
       "      <td>2019-11-30 21:49:30+00:00</td>\n",
       "      <td>0 days 00:00:00</td>\n",
       "      <td>None</td>\n",
       "      <td>0 days 00:00:00</td>\n",
       "      <td>0.000000</td>\n",
       "      <td>2019-11-30 21:49:52+00:00</td>\n",
       "      <td>THY8HD</td>\n",
       "      <td>TC-JTN</td>\n",
       "      <td>A321</td>\n",
       "      <td>...</td>\n",
       "      <td>0.0</td>\n",
       "      <td>0.0</td>\n",
       "      <td>1.0</td>\n",
       "      <td>0.0</td>\n",
       "      <td>0.0</td>\n",
       "      <td>0.0</td>\n",
       "      <td>0.0</td>\n",
       "      <td>0.0</td>\n",
       "      <td>0.0</td>\n",
       "      <td>9.105556</td>\n",
       "    </tr>\n",
       "    <tr>\n",
       "      <th>36008</th>\n",
       "      <td>SWR92_15689</td>\n",
       "      <td>2019-11-30 22:04:18+00:00</td>\n",
       "      <td>0 days 00:03:29</td>\n",
       "      <td>None</td>\n",
       "      <td>0 days 00:09:35</td>\n",
       "      <td>3.483333</td>\n",
       "      <td>2019-11-30 21:53:56+00:00</td>\n",
       "      <td>SWR92</td>\n",
       "      <td>None</td>\n",
       "      <td>None</td>\n",
       "      <td>...</td>\n",
       "      <td>0.0</td>\n",
       "      <td>0.0</td>\n",
       "      <td>1.0</td>\n",
       "      <td>0.0</td>\n",
       "      <td>0.0</td>\n",
       "      <td>0.0</td>\n",
       "      <td>0.0</td>\n",
       "      <td>0.0</td>\n",
       "      <td>0.0</td>\n",
       "      <td>9.105556</td>\n",
       "    </tr>\n",
       "    <tr>\n",
       "      <th>36009</th>\n",
       "      <td>SWR138_15564</td>\n",
       "      <td>2019-11-30 22:12:48+00:00</td>\n",
       "      <td>0 days 00:00:00</td>\n",
       "      <td>None</td>\n",
       "      <td>0 days 00:00:00</td>\n",
       "      <td>0.000000</td>\n",
       "      <td>2019-11-30 22:11:16+00:00</td>\n",
       "      <td>SWR138</td>\n",
       "      <td>HB-JNH</td>\n",
       "      <td>B77W</td>\n",
       "      <td>...</td>\n",
       "      <td>0.0</td>\n",
       "      <td>0.0</td>\n",
       "      <td>0.0</td>\n",
       "      <td>0.0</td>\n",
       "      <td>0.0</td>\n",
       "      <td>0.0</td>\n",
       "      <td>0.0</td>\n",
       "      <td>0.0</td>\n",
       "      <td>0.0</td>\n",
       "      <td>9.105556</td>\n",
       "    </tr>\n",
       "  </tbody>\n",
       "</table>\n",
       "<p>36010 rows × 86 columns</p>\n",
       "</div>"
      ],
      "text/plain": [
       "           flight_id            on_runway_time taxi_holding_time  \\\n",
       "0      GSW4942_15738 2019-10-01 04:00:28+00:00   0 days 00:01:23   \n",
       "1        EDW200_5718 2019-10-01 04:10:37+00:00   0 days 00:01:18   \n",
       "2       SWR177_15809 2019-10-01 04:05:11+00:00   0 days 00:00:00   \n",
       "3       SWR139_15706 2019-10-01 04:07:25+00:00   0 days 00:00:00   \n",
       "4       SWR296_13638 2019-10-01 04:09:53+00:00   0 days 00:00:00   \n",
       "...              ...                       ...               ...   \n",
       "36005   SWR176_15653 2019-11-30 22:02:47+00:00   0 days 00:02:16   \n",
       "36006   SWR288_13280 2019-11-30 21:49:46+00:00   0 days 00:02:03   \n",
       "36007   THY8HD_18663 2019-11-30 21:49:30+00:00   0 days 00:00:00   \n",
       "36008    SWR92_15689 2019-11-30 22:04:18+00:00   0 days 00:03:29   \n",
       "36009   SWR138_15564 2019-11-30 22:12:48+00:00   0 days 00:00:00   \n",
       "\n",
       "      rwy_holding_time total_holding_time  taxi_holding_time_minutes  \\\n",
       "0                 None    0 days 00:01:23                   1.383333   \n",
       "1                 None    0 days 00:04:56                   1.300000   \n",
       "2                 None    0 days 00:00:00                   0.000000   \n",
       "3                 None    0 days 00:00:00                   0.000000   \n",
       "4                 None    0 days 00:00:00                   0.000000   \n",
       "...                ...                ...                        ...   \n",
       "36005             None    0 days 00:15:41                   2.266667   \n",
       "36006             None    0 days 00:02:03                   2.050000   \n",
       "36007             None    0 days 00:00:00                   0.000000   \n",
       "36008             None    0 days 00:09:35                   3.483333   \n",
       "36009             None    0 days 00:00:00                   0.000000   \n",
       "\n",
       "                 first_movement callsign registration typecode  ...    N    A  \\\n",
       "0     2019-10-01 03:59:06+00:00  GSW4942       HB-JOG     A319  ...  0.0  0.0   \n",
       "1     2019-10-01 04:03:36+00:00   EDW200       HB-IHZ     A320  ...  0.0  0.0   \n",
       "2     2019-10-01 04:05:48+00:00   SWR177       HB-JNI     B77W  ...  0.0  1.0   \n",
       "3     2019-10-01 04:07:33+00:00   SWR139       HB-JNG     B77W  ...  0.0  1.0   \n",
       "4     2019-10-01 04:10:25+00:00   SWR296       HB-JHM     A333  ...  0.0  1.0   \n",
       "...                         ...      ...          ...      ...  ...  ...  ...   \n",
       "36005 2019-11-30 21:44:51+00:00   SWR176       HB-JNJ     B77W  ...  0.0  0.0   \n",
       "36006 2019-11-30 21:46:26+00:00   SWR288       HB-JHI     A333  ...  0.0  0.0   \n",
       "36007 2019-11-30 21:49:52+00:00   THY8HD       TC-JTN     A321  ...  0.0  0.0   \n",
       "36008 2019-11-30 21:53:56+00:00    SWR92         None     None  ...  0.0  0.0   \n",
       "36009 2019-11-30 22:11:16+00:00   SWR138       HB-JNH     B77W  ...  0.0  0.0   \n",
       "\n",
       "         M    M    Y    R    G    Z    P nextAvgDelay  \n",
       "0      1.0  0.0  0.0  0.0  0.0  0.0  0.0     3.455556  \n",
       "1      1.0  0.0  0.0  0.0  0.0  0.0  0.0     3.925000  \n",
       "2      1.0  0.0  0.0  0.0  0.0  0.0  0.0          NaN  \n",
       "3      1.0  0.0  0.0  0.0  0.0  0.0  0.0          NaN  \n",
       "4      1.0  0.0  0.0  0.0  0.0  0.0  0.0          NaN  \n",
       "...    ...  ...  ...  ...  ...  ...  ...          ...  \n",
       "36005  1.0  0.0  0.0  0.0  0.0  0.0  0.0     9.105556  \n",
       "36006  1.0  0.0  0.0  0.0  0.0  0.0  0.0     9.105556  \n",
       "36007  1.0  0.0  0.0  0.0  0.0  0.0  0.0     9.105556  \n",
       "36008  1.0  0.0  0.0  0.0  0.0  0.0  0.0     9.105556  \n",
       "36009  0.0  0.0  0.0  0.0  0.0  0.0  0.0     9.105556  \n",
       "\n",
       "[36010 rows x 86 columns]"
      ]
     },
     "execution_count": 4,
     "metadata": {},
     "output_type": "execute_result"
    }
   ],
   "source": [
    "dep_arr_df"
   ]
  },
  {
   "cell_type": "code",
   "execution_count": 7,
   "id": "472079fe-639c-4494-9969-d2d50a2f0d9f",
   "metadata": {
    "execution": {
     "iopub.execute_input": "2021-06-30T17:11:23.283724Z",
     "iopub.status.busy": "2021-06-30T17:11:23.283455Z",
     "iopub.status.idle": "2021-06-30T17:11:23.318968Z",
     "shell.execute_reply": "2021-06-30T17:11:23.318370Z",
     "shell.execute_reply.started": "2021-06-30T17:11:23.283699Z"
    },
    "tags": []
   },
   "outputs": [],
   "source": [
    "dep_df = dep_arr_df.query(\"mvt_type=='DEP'\").sort_values('first_movement_start')"
   ]
  },
  {
   "cell_type": "markdown",
   "id": "6e1f0057-2449-4110-b331-26882cdfa467",
   "metadata": {},
   "source": [
    "# SFCI: number of dep/arr resp having a taxiing period overlapping with current aircraft"
   ]
  },
  {
   "cell_type": "code",
   "execution_count": 8,
   "id": "277b5205-f30c-4258-83ee-0d2f4e72755a",
   "metadata": {
    "execution": {
     "iopub.execute_input": "2021-06-30T17:11:34.864407Z",
     "iopub.status.busy": "2021-06-30T17:11:34.864137Z",
     "iopub.status.idle": "2021-06-30T17:11:34.868913Z",
     "shell.execute_reply": "2021-06-30T17:11:34.868412Z",
     "shell.execute_reply.started": "2021-06-30T17:11:34.864382Z"
    },
    "tags": []
   },
   "outputs": [
    {
     "data": {
      "text/plain": [
       "Index(['flight_id', 'on_runway_time', 'taxi_holding_time', 'rwy_holding_time',\n",
       "       'total_holding_time', 'taxi_holding_time_minutes', 'first_movement',\n",
       "       'callsign', 'registration', 'typecode', 'icao24', 'firstseen_min',\n",
       "       'start', 'stop', 'duration', 'cumdist_max', 'parking_position',\n",
       "       'parking_position_duration', 'runway', 'pb_duration', 'end_pb',\n",
       "       'duration_minutes', 'parking_position_duration_minutes',\n",
       "       'pb_duration_minutes', 'first_movement_start', 'taxi_dist',\n",
       "       'total_holding_time_minutes', 'real_dur', 'real_dur_minutes', 'airline',\n",
       "       'hh', 'hh_num', 'angle_sum', 'avg_speed', 'mvt_type', 'taxiing_stop',\n",
       "       'avg_outbound_delay_lastXmin', 'turnaround', 'turnaround_minutes',\n",
       "       'nominal', 'busy', 'disrupted', 'not_nom_arrival_ratio', 'press',\n",
       "       'temp', 'atmap_visibility', 'atmap_wind', 'atmap_precipitation',\n",
       "       'atmap_freezing', 'atmap_danger', 'atmap_score', 'config', 'nb_arr',\n",
       "       'nb_dep', 'nb', 'icao_wtc', 'L/M', 'H_count', 'L_count', 'L/M_count',\n",
       "       'M_count', 'H_count_ratio', 'L_count_ratio', 'L/M_count_ratio',\n",
       "       'M_count_ratio', 'H', 'H', 'K', 'B', 'F', 'L', 'L', 'J', 'E', 'D', 'C',\n",
       "       'N', 'A', 'M', 'M', 'Y', 'R', 'G', 'Z', 'P', 'nextAvgDelay'],\n",
       "      dtype='object')"
      ]
     },
     "execution_count": 8,
     "metadata": {},
     "output_type": "execute_result"
    }
   ],
   "source": [
    "dep_df\n",
    "on_runway_time\n",
    "first_movement_start"
   ]
  },
  {
   "cell_type": "code",
   "execution_count": 9,
   "id": "03b0cc8f-b319-424d-958f-a9cc2e664b4c",
   "metadata": {
    "execution": {
     "iopub.execute_input": "2021-06-30T17:22:21.442887Z",
     "iopub.status.busy": "2021-06-30T17:22:21.442618Z",
     "iopub.status.idle": "2021-06-30T17:22:21.445730Z",
     "shell.execute_reply": "2021-06-30T17:22:21.445183Z",
     "shell.execute_reply.started": "2021-06-30T17:22:21.442863Z"
    }
   },
   "outputs": [],
   "source": [
    "flight_df=dep_df"
   ]
  },
  {
   "cell_type": "code",
   "execution_count": 14,
   "id": "9e7112f5-6976-40e3-8008-f8f5c64f8b38",
   "metadata": {
    "execution": {
     "iopub.execute_input": "2021-06-30T17:41:16.293057Z",
     "iopub.status.busy": "2021-06-30T17:41:16.292789Z",
     "iopub.status.idle": "2021-06-30T17:41:16.298497Z",
     "shell.execute_reply": "2021-06-30T17:41:16.297820Z",
     "shell.execute_reply.started": "2021-06-30T17:41:16.293033Z"
    },
    "tags": []
   },
   "outputs": [],
   "source": [
    "\n",
    "def compute_scfi(dep_arr_df, mvt_type='DEP'):\n",
    "    \"\"\"\n",
    "    Based on end_pb and first_movement_start columns to know how many aircraft are taxiing while one is during pushback\n",
    "    Consider passing only departures in flight_df (dep_df) counts should be specific \n",
    "    to that type of movement\n",
    "    \n",
    "    refers to the number of\n",
    "    departures and arrivals, given the dataframe given, whose taxiing period has\n",
    "    overlap with the taxiing period of d0 . The\n",
    "    \"\"\"\n",
    "    flight_df=dep_arr_df # to not change directly the input dataframe\n",
    "    for i, r in flight_df.sort_values(\"first_movement_start\").iterrows():\n",
    "        if r.end_pb == r.end_pb and r.first_movement_start == r.first_movement_start:\n",
    "            t0 = r.first_movement_start\n",
    "            t1 = r.on_runway_time\n",
    "            # count overlaps between other flights duration and current flight pushback\n",
    "            temp = flight_df.loc[\n",
    "                (flight_df.index != i)\n",
    "                & (flight_df.mvt_type==mvt_type)\n",
    "                & ~(\n",
    "                    (flight_df.first_movement_start > t1)\n",
    "                    | (flight_df.on_runway_time < t0)\n",
    "                )\n",
    "                \n",
    "            ]\n",
    "            flight_df.loc[i, f\"scfi_{mvt_type}\"] = len(temp)\n",
    "    flight_df[f\"scfi_{mvt_type}\"] = flight_df[f\"scfi_{mvt_type}\"].fillna(0)\n",
    "    return flight_df\n",
    "\n"
   ]
  },
  {
   "cell_type": "code",
   "execution_count": 15,
   "id": "fddef374-a2db-4cac-a682-ecf9e0ec1426",
   "metadata": {
    "execution": {
     "iopub.execute_input": "2021-06-30T17:41:16.640299Z",
     "iopub.status.busy": "2021-06-30T17:41:16.640029Z",
     "iopub.status.idle": "2021-06-30T17:42:33.567145Z",
     "shell.execute_reply": "2021-06-30T17:42:33.566535Z",
     "shell.execute_reply.started": "2021-06-30T17:41:16.640275Z"
    },
    "tags": []
   },
   "outputs": [],
   "source": [
    "sfci_dep = compute_scfi(dep_arr_df, mvt_type='DEP')\n",
    "sfci_arr = compute_scfi(dep_arr_df, mvt_type='ARR')"
   ]
  },
  {
   "cell_type": "code",
   "execution_count": 17,
   "id": "626a1a0a-d7af-47c2-b24b-845132d15dad",
   "metadata": {
    "execution": {
     "iopub.execute_input": "2021-06-30T17:49:54.410019Z",
     "iopub.status.busy": "2021-06-30T17:49:54.409747Z",
     "iopub.status.idle": "2021-06-30T17:49:54.415797Z",
     "shell.execute_reply": "2021-06-30T17:49:54.415253Z",
     "shell.execute_reply.started": "2021-06-30T17:49:54.409994Z"
    },
    "tags": []
   },
   "outputs": [],
   "source": [
    "\n",
    "def compute_aqli(dep_arr_df, mvt_type='DEP'):\n",
    "    \"\"\"\n",
    "    Based on end_pb and first_movement_start columns to know how many aircraft are taxiing while one is during pushback\n",
    "    Consider passing only departures in flight_df (dep_df) counts should be specific \n",
    "    to that type of movement\n",
    "    \n",
    "    refers to the number of departures and arrivals, given the dataframe given, whose taxiing period has\n",
    "    overlap with the taxiing period of d0\n",
    "    \"\"\"\n",
    "    flight_df=dep_arr_df # to not change directly the input dataframe\n",
    "    for i, r in flight_df.sort_values(\"first_movement_start\").iterrows():\n",
    "        if r.end_pb == r.end_pb and r.first_movement_start == r.first_movement_start:\n",
    "            t0 = r.first_movement_start\n",
    "            t1 = r.on_runway_time\n",
    "            # count overlaps between other flights duration and current flight pushback\n",
    "            temp = flight_df.loc[\n",
    "                (flight_df.index != i)\n",
    "                & (flight_df.mvt_type==mvt_type)\n",
    "                & (flight_df.on_runway_time > t0)\n",
    "                & (flight_df.on_runway_time < t1)\n",
    "            ]\n",
    "            flight_df.loc[i, f\"aqli_{mvt_type}\"] = len(temp)\n",
    "    flight_df[f\"aqli_{mvt_type}\"] = flight_df[f\"aqli_{mvt_type}\"].fillna(0)\n",
    "    return flight_df\n",
    "\n"
   ]
  },
  {
   "cell_type": "markdown",
   "id": "ca682119-10cb-48df-a957-db20101b3097",
   "metadata": {},
   "source": [
    "# Little data analysis"
   ]
  },
  {
   "cell_type": "code",
   "execution_count": 29,
   "id": "f08e4cff-eb54-4d89-977e-63339b12f9df",
   "metadata": {
    "execution": {
     "iopub.execute_input": "2021-06-30T18:07:55.937334Z",
     "iopub.status.busy": "2021-06-30T18:07:55.936820Z",
     "iopub.status.idle": "2021-06-30T18:10:31.706696Z",
     "shell.execute_reply": "2021-06-30T18:10:31.706045Z",
     "shell.execute_reply.started": "2021-06-30T18:07:55.937303Z"
    }
   },
   "outputs": [
    {
     "data": {
      "text/plain": [
       "Index(['flight_id', 'on_runway_time', 'taxi_holding_time', 'rwy_holding_time',\n",
       "       'total_holding_time', 'taxi_holding_time_minutes', 'first_movement',\n",
       "       'callsign', 'registration', 'typecode', 'icao24', 'firstseen_min',\n",
       "       'start', 'stop', 'duration', 'cumdist_max', 'parking_position',\n",
       "       'parking_position_duration', 'runway', 'pb_duration', 'end_pb',\n",
       "       'duration_minutes', 'parking_position_duration_minutes',\n",
       "       'pb_duration_minutes', 'first_movement_start', 'taxi_dist',\n",
       "       'total_holding_time_minutes', 'real_dur', 'real_dur_minutes', 'airline',\n",
       "       'hh', 'hh_num', 'angle_sum', 'avg_speed', 'mvt_type', 'taxiing_stop',\n",
       "       'avg_outbound_delay_lastXmin', 'turnaround', 'turnaround_minutes',\n",
       "       'nominal', 'busy', 'disrupted', 'not_nom_arrival_ratio', 'press',\n",
       "       'temp', 'atmap_visibility', 'atmap_wind', 'atmap_precipitation',\n",
       "       'atmap_freezing', 'atmap_danger', 'atmap_score', 'config', 'nb_arr',\n",
       "       'nb_dep', 'nb', 'icao_wtc', 'L/M', 'H_count', 'L_count', 'L/M_count',\n",
       "       'M_count', 'H_count_ratio', 'L_count_ratio', 'L/M_count_ratio',\n",
       "       'M_count_ratio', 'H', 'H', 'K', 'B', 'F', 'L', 'L', 'J', 'E', 'D', 'C',\n",
       "       'N', 'A', 'M', 'M', 'Y', 'R', 'G', 'Z', 'P', 'nextAvgDelay', 'aqli_DEP',\n",
       "       'scfi_DEP', 'aqli_ARR', 'scfi_ARR'],\n",
       "      dtype='object')"
      ]
     },
     "execution_count": 29,
     "metadata": {},
     "output_type": "execute_result"
    }
   ],
   "source": [
    "dep_arr_df = compute_aqli(dep_arr_df, mvt_type=\"DEP\")\n",
    "dep_arr_df = compute_scfi(dep_arr_df, mvt_type=\"DEP\")\n",
    "dep_arr_df = compute_aqli(dep_arr_df, mvt_type=\"ARR\")\n",
    "dep_arr_df = compute_scfi(dep_arr_df, mvt_type=\"ARR\")\n"
   ]
  },
  {
   "cell_type": "code",
   "execution_count": 30,
   "id": "a061e24e-a166-4a74-a7ce-8fae25250ce7",
   "metadata": {
    "execution": {
     "iopub.execute_input": "2021-06-30T18:14:59.595388Z",
     "iopub.status.busy": "2021-06-30T18:14:59.595121Z",
     "iopub.status.idle": "2021-06-30T18:14:59.637101Z",
     "shell.execute_reply": "2021-06-30T18:14:59.636419Z",
     "shell.execute_reply.started": "2021-06-30T18:14:59.595364Z"
    },
    "tags": []
   },
   "outputs": [],
   "source": [
    "dep_arr_df = pd.read_pickle(\"../data/processed/dep_arr_df5_sifiAqliScfi.pkl\")"
   ]
  },
  {
   "cell_type": "code",
   "execution_count": 31,
   "id": "59255ec1-057e-4905-afd1-fb3d7f4629e1",
   "metadata": {
    "execution": {
     "iopub.execute_input": "2021-06-30T18:15:13.195279Z",
     "iopub.status.busy": "2021-06-30T18:15:13.195007Z",
     "iopub.status.idle": "2021-06-30T18:15:13.200373Z",
     "shell.execute_reply": "2021-06-30T18:15:13.199742Z",
     "shell.execute_reply.started": "2021-06-30T18:15:13.195255Z"
    }
   },
   "outputs": [
    {
     "data": {
      "text/plain": [
       "Index(['flight_id', 'on_runway_time', 'taxi_holding_time', 'rwy_holding_time',\n",
       "       'total_holding_time', 'taxi_holding_time_minutes', 'first_movement',\n",
       "       'callsign', 'registration', 'typecode', 'icao24', 'firstseen_min',\n",
       "       'start', 'stop', 'duration', 'cumdist_max', 'parking_position',\n",
       "       'parking_position_duration', 'runway', 'pb_duration', 'end_pb',\n",
       "       'duration_minutes', 'parking_position_duration_minutes',\n",
       "       'pb_duration_minutes', 'first_movement_start', 'taxi_dist',\n",
       "       'total_holding_time_minutes', 'real_dur', 'real_dur_minutes', 'airline',\n",
       "       'hh', 'hh_num', 'angle_sum', 'avg_speed', 'mvt_type', 'taxiing_stop',\n",
       "       'avg_outbound_delay_lastXmin', 'turnaround', 'turnaround_minutes',\n",
       "       'NDepDep', 'nominal', 'busy', 'disrupted', 'not_nom_arrival_ratio',\n",
       "       'press', 'temp', 'atmap_visibility', 'atmap_wind',\n",
       "       'atmap_precipitation', 'atmap_freezing', 'atmap_danger', 'atmap_score',\n",
       "       'config', 'nb_arr', 'nb_dep', 'nb', 'icao_wtc', 'H', 'L', 'L/M', 'M',\n",
       "       'H_count', 'L_count', 'L/M_count', 'M_count', 'H_count_ratio',\n",
       "       'L_count_ratio', 'L/M_count_ratio', 'M_count_ratio', 'H_occ', 'K_occ',\n",
       "       'B_occ', 'F_occ', 'L_occ', 'J_occ', 'E_occ', 'D_occ', 'C_occ', 'N_occ',\n",
       "       'A_occ', 'M_occ', 'Y_occ', 'R_occ', 'G_occ', 'Z_occ', 'P_occ',\n",
       "       'nextAvgDelay', 'aqli_DEP', 'scfi_DEP', 'aqli_ARR', 'scfi_ARR'],\n",
       "      dtype='object')"
      ]
     },
     "execution_count": 31,
     "metadata": {},
     "output_type": "execute_result"
    }
   ],
   "source": [
    "dep_arr_df.columns"
   ]
  },
  {
   "cell_type": "code",
   "execution_count": 35,
   "id": "376fa4bd-d1ea-4173-b652-b4b1b2f0d00f",
   "metadata": {
    "execution": {
     "iopub.execute_input": "2021-06-30T18:16:29.749331Z",
     "iopub.status.busy": "2021-06-30T18:16:29.749058Z",
     "iopub.status.idle": "2021-06-30T18:16:29.885318Z",
     "shell.execute_reply": "2021-06-30T18:16:29.884743Z",
     "shell.execute_reply.started": "2021-06-30T18:16:29.749306Z"
    },
    "tags": []
   },
   "outputs": [
    {
     "data": {
      "text/plain": [
       "<AxesSubplot:>"
      ]
     },
     "execution_count": 35,
     "metadata": {},
     "output_type": "execute_result"
    },
    {
     "data": {
      "image/png": "[encoded data removed]",
      "text/plain": [
       "<Figure size 432x288 with 1 Axes>"
      ]
     },
     "metadata": {
      "needs_background": "light"
     },
     "output_type": "display_data"
    }
   ],
   "source": [
    "dep_arr_df.query(\"scfi_DEP>0\")['scfi_DEP'].hist(bins=20)"
   ]
  },
  {
   "cell_type": "code",
   "execution_count": 36,
   "id": "e62d7218-a83c-4612-aaa0-393c30d231fb",
   "metadata": {
    "execution": {
     "iopub.execute_input": "2021-06-30T18:17:42.410184Z",
     "iopub.status.busy": "2021-06-30T18:17:42.409903Z",
     "iopub.status.idle": "2021-06-30T18:17:42.543064Z",
     "shell.execute_reply": "2021-06-30T18:17:42.542289Z",
     "shell.execute_reply.started": "2021-06-30T18:17:42.410158Z"
    },
    "tags": []
   },
   "outputs": [
    {
     "data": {
      "text/plain": [
       "<AxesSubplot:>"
      ]
     },
     "execution_count": 36,
     "metadata": {},
     "output_type": "execute_result"
    },
    {
     "data": {
      "image/png": "[encoded data removed]",
      "text/plain": [
       "<Figure size 432x288 with 1 Axes>"
      ]
     },
     "metadata": {
      "needs_background": "light"
     },
     "output_type": "display_data"
    }
   ],
   "source": [
    "dep_arr_df.query(\"scfi_DEP>0\")['aqli_ARR'].hist(bins=20)"
   ]
  },
  {
   "cell_type": "code",
   "execution_count": 37,
   "id": "60e3055c-93d5-43aa-80f8-1014bd071d06",
   "metadata": {
    "execution": {
     "iopub.execute_input": "2021-06-30T18:17:42.544210Z",
     "iopub.status.busy": "2021-06-30T18:17:42.544032Z",
     "iopub.status.idle": "2021-06-30T18:17:42.676642Z",
     "shell.execute_reply": "2021-06-30T18:17:42.676020Z",
     "shell.execute_reply.started": "2021-06-30T18:17:42.544191Z"
    },
    "tags": []
   },
   "outputs": [
    {
     "data": {
      "text/plain": [
       "<AxesSubplot:>"
      ]
     },
     "execution_count": 37,
     "metadata": {},
     "output_type": "execute_result"
    },
    {
     "data": {
      "image/png": "[encoded data removed]",
      "text/plain": [
       "<Figure size 432x288 with 1 Axes>"
      ]
     },
     "metadata": {
      "needs_background": "light"
     },
     "output_type": "display_data"
    }
   ],
   "source": [
    "dep_arr_df.query(\"scfi_DEP>0\")['scfi_ARR'].hist(bins=20)"
   ]
  },
  {
   "cell_type": "code",
   "execution_count": 38,
   "id": "cd1bcae5-c1f7-4258-8abd-c6df720b2104",
   "metadata": {
    "execution": {
     "iopub.execute_input": "2021-06-30T18:18:22.195361Z",
     "iopub.status.busy": "2021-06-30T18:18:22.195086Z",
     "iopub.status.idle": "2021-06-30T18:18:22.325693Z",
     "shell.execute_reply": "2021-06-30T18:18:22.325062Z",
     "shell.execute_reply.started": "2021-06-30T18:18:22.195336Z"
    },
    "tags": []
   },
   "outputs": [
    {
     "data": {
      "text/plain": [
       "<AxesSubplot:>"
      ]
     },
     "execution_count": 38,
     "metadata": {},
     "output_type": "execute_result"
    },
    {
     "data": {
      "image/png": "[encoded data removed]",
      "text/plain": [
       "<Figure size 432x288 with 1 Axes>"
      ]
     },
     "metadata": {
      "needs_background": "light"
     },
     "output_type": "display_data"
    }
   ],
   "source": [
    "dep_arr_df.query(\"aqli_DEP>0\")['scfi_ARR'].hist(bins=20)"
   ]
  },
  {
   "cell_type": "code",
   "execution_count": 41,
   "id": "382bcd06-3442-4a4b-a7b6-78d03cd41b2c",
   "metadata": {
    "execution": {
     "iopub.execute_input": "2021-06-30T18:20:11.357656Z",
     "iopub.status.busy": "2021-06-30T18:20:11.357392Z",
     "iopub.status.idle": "2021-06-30T18:20:11.393913Z",
     "shell.execute_reply": "2021-06-30T18:20:11.393235Z",
     "shell.execute_reply.started": "2021-06-30T18:20:11.357631Z"
    },
    "tags": []
   },
   "outputs": [
    {
     "data": {
      "text/html": [
       "<div>\n",
       "<style scoped>\n",
       "    .dataframe tbody tr th:only-of-type {\n",
       "        vertical-align: middle;\n",
       "    }\n",
       "\n",
       "    .dataframe tbody tr th {\n",
       "        vertical-align: top;\n",
       "    }\n",
       "\n",
       "    .dataframe thead th {\n",
       "        text-align: right;\n",
       "    }\n",
       "</style>\n",
       "<table border=\"1\" class=\"dataframe\">\n",
       "  <thead>\n",
       "    <tr style=\"text-align: right;\">\n",
       "      <th></th>\n",
       "      <th>aqli_DEP</th>\n",
       "      <th>scfi_DEP</th>\n",
       "      <th>aqli_ARR</th>\n",
       "      <th>scfi_ARR</th>\n",
       "    </tr>\n",
       "  </thead>\n",
       "  <tbody>\n",
       "    <tr>\n",
       "      <th>count</th>\n",
       "      <td>16932.000000</td>\n",
       "      <td>16932.000000</td>\n",
       "      <td>16932.000000</td>\n",
       "      <td>16932.000000</td>\n",
       "    </tr>\n",
       "    <tr>\n",
       "      <th>mean</th>\n",
       "      <td>1.189995</td>\n",
       "      <td>2.082093</td>\n",
       "      <td>1.097862</td>\n",
       "      <td>1.077014</td>\n",
       "    </tr>\n",
       "    <tr>\n",
       "      <th>std</th>\n",
       "      <td>2.241170</td>\n",
       "      <td>3.591575</td>\n",
       "      <td>2.012260</td>\n",
       "      <td>1.992893</td>\n",
       "    </tr>\n",
       "    <tr>\n",
       "      <th>min</th>\n",
       "      <td>0.000000</td>\n",
       "      <td>0.000000</td>\n",
       "      <td>0.000000</td>\n",
       "      <td>0.000000</td>\n",
       "    </tr>\n",
       "    <tr>\n",
       "      <th>25%</th>\n",
       "      <td>0.000000</td>\n",
       "      <td>0.000000</td>\n",
       "      <td>0.000000</td>\n",
       "      <td>0.000000</td>\n",
       "    </tr>\n",
       "    <tr>\n",
       "      <th>50%</th>\n",
       "      <td>0.000000</td>\n",
       "      <td>0.000000</td>\n",
       "      <td>0.000000</td>\n",
       "      <td>0.000000</td>\n",
       "    </tr>\n",
       "    <tr>\n",
       "      <th>75%</th>\n",
       "      <td>2.000000</td>\n",
       "      <td>3.000000</td>\n",
       "      <td>2.000000</td>\n",
       "      <td>2.000000</td>\n",
       "    </tr>\n",
       "    <tr>\n",
       "      <th>max</th>\n",
       "      <td>30.000000</td>\n",
       "      <td>37.000000</td>\n",
       "      <td>20.000000</td>\n",
       "      <td>19.000000</td>\n",
       "    </tr>\n",
       "  </tbody>\n",
       "</table>\n",
       "</div>"
      ],
      "text/plain": [
       "           aqli_DEP      scfi_DEP      aqli_ARR      scfi_ARR\n",
       "count  16932.000000  16932.000000  16932.000000  16932.000000\n",
       "mean       1.189995      2.082093      1.097862      1.077014\n",
       "std        2.241170      3.591575      2.012260      1.992893\n",
       "min        0.000000      0.000000      0.000000      0.000000\n",
       "25%        0.000000      0.000000      0.000000      0.000000\n",
       "50%        0.000000      0.000000      0.000000      0.000000\n",
       "75%        2.000000      3.000000      2.000000      2.000000\n",
       "max       30.000000     37.000000     20.000000     19.000000"
      ]
     },
     "execution_count": 41,
     "metadata": {},
     "output_type": "execute_result"
    }
   ],
   "source": [
    "dep_arr_df.query('mvt_type==\"DEP\"')[[ 'aqli_DEP', 'scfi_DEP', 'aqli_ARR', 'scfi_ARR']].describe()"
   ]
  },
  {
   "cell_type": "code",
   "execution_count": 48,
   "id": "b5aa8ee5-5b48-4708-8f30-8ce615b0b6f7",
   "metadata": {
    "execution": {
     "iopub.execute_input": "2021-06-30T18:25:00.983970Z",
     "iopub.status.busy": "2021-06-30T18:25:00.983698Z",
     "iopub.status.idle": "2021-06-30T18:25:01.115639Z",
     "shell.execute_reply": "2021-06-30T18:25:01.114932Z",
     "shell.execute_reply.started": "2021-06-30T18:25:00.983947Z"
    },
    "tags": []
   },
   "outputs": [
    {
     "data": {
      "text/plain": [
       "<AxesSubplot:>"
      ]
     },
     "execution_count": 48,
     "metadata": {},
     "output_type": "execute_result"
    },
    {
     "data": {
      "image/png": "[encoded data removed]",
      "text/plain": [
       "<Figure size 432x288 with 1 Axes>"
      ]
     },
     "metadata": {
      "needs_background": "light"
     },
     "output_type": "display_data"
    }
   ],
   "source": [
    "dep_arr_df.query(\"taxi_dist<10000 & end_pb==end_pb\").taxi_dist.hist(bins=20)"
   ]
  },
  {
   "cell_type": "code",
   "execution_count": null,
   "id": "95733264-8544-4b16-be06-a3ec973c20dd",
   "metadata": {},
   "outputs": [],
   "source": []
  }
 ],
 "metadata": {
  "kernelspec": {
   "display_name": "Python 3",
   "language": "python",
   "name": "python3"
  },
  "language_info": {
   "codemirror_mode": {
    "name": "ipython",
    "version": 3
   },
   "file_extension": ".py",
   "mimetype": "text/x-python",
   "name": "python",
   "nbconvert_exporter": "python",
   "pygments_lexer": "ipython3",
   "version": "3.8.8"
  }
 },
 "nbformat": 4,
 "nbformat_minor": 5
}
