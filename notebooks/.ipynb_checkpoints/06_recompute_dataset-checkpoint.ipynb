{
 "cells": [
  {
   "cell_type": "code",
   "execution_count": null,
   "id": "f730cd2e-5284-4630-b0bc-9310386cb756",
   "metadata": {},
   "outputs": [],
   "source": []
  },
  {
   "cell_type": "code",
   "execution_count": null,
   "id": "6e76547e-789a-4315-a469-4d3ada07eb45",
   "metadata": {
    "tags": []
   },
   "outputs": [],
   "source": [
    "from traffic.core import Traffic"
   ]
  },
  {
   "cell_type": "code",
   "execution_count": 3,
   "id": "6fddb01b-36a6-4a04-8e2e-cdddf8310619",
   "metadata": {
    "execution": {
     "iopub.execute_input": "2021-07-17T09:36:18.522185Z",
     "iopub.status.busy": "2021-07-17T09:36:18.522030Z",
     "iopub.status.idle": "2021-07-17T09:36:24.588922Z",
     "shell.execute_reply": "2021-07-17T09:36:24.588217Z",
     "shell.execute_reply.started": "2021-07-17T09:36:18.522167Z"
    },
    "tags": []
   },
   "outputs": [],
   "source": [
    "t_5_10 = Traffic.from_file(\"../data/samples/t_5_10_dep_arr.pkl\")"
   ]
  },
  {
   "cell_type": "code",
   "execution_count": null,
   "id": "55764340-166e-4c14-b99b-636665a59d1d",
   "metadata": {},
   "outputs": [],
   "source": [
    "def taxi_dist(f, tolerance=15):\n",
    "    if f is None or len(f) <= 3:\n",
    "        return None\n",
    "    f=f.onground()\n",
    "    f_mask = douglas_peucker(\n",
    "        df=f.data, tolerance=tolerance, lat=\"latitude\", lon=\"longitude\"\n",
    "    )\n",
    "    f_simplified = Flight(f.data.loc[f_mask])\n",
    "    return (\n",
    "        f_simplified.cumulative_distance()\n",
    "        .cumdist_max\n",
    "    )"
   ]
  }
 ],
 "metadata": {
  "kernelspec": {
   "display_name": "",
   "name": ""
  },
  "language_info": {
   "name": ""
  }
 },
 "nbformat": 4,
 "nbformat_minor": 5
}
