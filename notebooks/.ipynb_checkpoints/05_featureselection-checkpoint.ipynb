{
 "cells": [
  {
   "cell_type": "code",
   "execution_count": 4,
   "id": "1c134803-7666-478e-a6f5-7311eb0fe82a",
   "metadata": {
    "execution": {
     "iopub.execute_input": "2021-07-21T12:40:25.975682Z",
     "iopub.status.busy": "2021-07-21T12:40:25.975419Z",
     "iopub.status.idle": "2021-07-21T12:40:26.174591Z",
     "shell.execute_reply": "2021-07-21T12:40:26.173761Z",
     "shell.execute_reply.started": "2021-07-21T12:40:25.975659Z"
    },
    "tags": []
   },
   "outputs": [],
   "source": [
    "%load_ext lab_black"
   ]
  },
  {
   "cell_type": "markdown",
   "id": "23ce4395-6aa4-4ac3-812f-acb4f6cc9c2a",
   "metadata": {},
   "source": [
    "# import"
   ]
  },
  {
   "cell_type": "code",
   "execution_count": 5,
   "id": "a2fd42d5-2b5e-4179-bd01-f1ed6e3e46e6",
   "metadata": {
    "execution": {
     "iopub.execute_input": "2021-07-21T12:40:26.176029Z",
     "iopub.status.busy": "2021-07-21T12:40:26.175861Z",
     "iopub.status.idle": "2021-07-21T12:40:28.518755Z",
     "shell.execute_reply": "2021-07-21T12:40:28.518102Z",
     "shell.execute_reply.started": "2021-07-21T12:40:26.176013Z"
    },
    "tags": []
   },
   "outputs": [],
   "source": [
    "# one hot encode runway\n",
    "# ordinal encode airline\n",
    "# TODO: Try with avg pb time, ratioH/M, ratio nominal\n",
    "from traffic.core import Traffic\n",
    "\n",
    "import pandas as pd\n",
    "import numpy as np\n",
    "import pickle\n",
    "\n",
    "import os.path\n",
    "\n",
    "from ipyleaflet import Polygon\n",
    "from ipywidgets import Layout\n",
    "from ipyleaflet import Map, Marker\n",
    "\n",
    "from cartes.osm import Overpass\n",
    "\n",
    "from sklearn import svm\n",
    "\n",
    "from sklearn.compose import ColumnTransformer\n",
    "from sklearn.model_selection import train_test_split\n",
    "from sklearn.model_selection import cross_val_score\n",
    "from sklearn.model_selection import RepeatedStratifiedKFold\n",
    "from sklearn.metrics import classification_report, confusion_matrix\n",
    "\n",
    "from sklearn.pipeline import Pipeline\n",
    "from sklearn.impute import SimpleImputer\n",
    "from sklearn.preprocessing import StandardScaler, OneHotEncoder, OrdinalEncoder\n",
    "from sklearn.linear_model import LogisticRegression\n",
    "from sklearn.model_selection import train_test_split, GridSearchCV\n",
    "\n",
    "from sklearn.metrics import mean_squared_error, mean_absolute_error, r2_score\n",
    "import altair as alt\n",
    "\n",
    "from sklearn.ensemble import RandomForestClassifier\n",
    "from sklearn.ensemble import RandomForestRegressor\n",
    "\n",
    "import matplotlib.pyplot as plt\n",
    "\n",
    "from collections import namedtuple\n",
    "\n",
    "import os"
   ]
  },
  {
   "cell_type": "code",
   "execution_count": 6,
   "id": "4bd5304e-91ca-47a0-99a7-cc27826df98a",
   "metadata": {
    "execution": {
     "iopub.execute_input": "2021-07-21T12:40:28.520185Z",
     "iopub.status.busy": "2021-07-21T12:40:28.519989Z",
     "iopub.status.idle": "2021-07-21T12:40:28.685839Z",
     "shell.execute_reply": "2021-07-21T12:40:28.685296Z",
     "shell.execute_reply.started": "2021-07-21T12:40:28.520164Z"
    },
    "tags": []
   },
   "outputs": [],
   "source": [
    "from ground_analysis.build_features import gather_data"
   ]
  },
  {
   "cell_type": "code",
   "execution_count": 7,
   "id": "0169685d-9022-4089-84ed-e9412f7138b3",
   "metadata": {
    "execution": {
     "iopub.execute_input": "2021-07-21T12:40:28.686791Z",
     "iopub.status.busy": "2021-07-21T12:40:28.686620Z",
     "iopub.status.idle": "2021-07-21T12:40:28.835913Z",
     "shell.execute_reply": "2021-07-21T12:40:28.835207Z",
     "shell.execute_reply.started": "2021-07-21T12:40:28.686774Z"
    },
    "tags": []
   },
   "outputs": [],
   "source": [
    "import xgboost"
   ]
  },
  {
   "cell_type": "code",
   "execution_count": 309,
   "id": "154a32b9-e4b0-493e-b333-f639a1aabc5e",
   "metadata": {
    "execution": {
     "iopub.execute_input": "2021-07-26T08:57:47.309020Z",
     "iopub.status.busy": "2021-07-26T08:57:47.308649Z",
     "iopub.status.idle": "2021-07-26T08:57:47.452328Z",
     "shell.execute_reply": "2021-07-26T08:57:47.451214Z",
     "shell.execute_reply.started": "2021-07-26T08:57:47.308995Z"
    },
    "tags": []
   },
   "outputs": [],
   "source": [
    "import pandas as pd\n",
    "import numpy as np\n",
    "\n",
    "from sklearn.preprocessing import StandardScaler\n",
    "from sklearn.metrics import mean_squared_error, mean_absolute_error, r2_score\n",
    "import altair as alt\n",
    "\n",
    "from sklearn.ensemble import RandomForestClassifier\n",
    "from sklearn.ensemble import RandomForestRegressor\n",
    "from sklearn.model_selection import train_test_split\n",
    "\n",
    "import matplotlib.pyplot as plt\n",
    "\n",
    "from collections import namedtuple\n",
    "\n",
    "import os\n",
    "\n",
    "\n",
    "ResMetrics = namedtuple(  # create a personalized tuple\n",
    "    \"ResMetrics\", \"mae mse rmse acc1min acc3min acc5min r2\"\n",
    ")\n",
    "\n",
    "\n",
    "def within_Xmin(real, pred, m=1):\n",
    "    assert len(real) == len(pred)\n",
    "    c = 0\n",
    "    for r, p in zip(real, pred):\n",
    "        if abs(r - p) < m:\n",
    "            c += 1\n",
    "    return c / len(real) * 100\n",
    "\n",
    "\n",
    "def plot_results(labels_test, predicted):\n",
    "    # plot pred vs truth\n",
    "    data_chart = pd.DataFrame(\n",
    "        {\"true\": labels_test.values.reshape((-1,)), \"pred\": predicted}\n",
    "    )\n",
    "    predVStrue_chart = alt.Chart(data_chart).mark_circle(opacity=0.5).encode(\n",
    "        x=\"true\", y=\"pred\"\n",
    "    ) + alt.Chart(\n",
    "        pd.DataFrame({\"x\": np.linspace(0, 25, 10), \"y\": np.linspace(0, 25, 10)})\n",
    "    ).mark_line(\n",
    "        color=\"black\"\n",
    "    ).encode(\n",
    "        x=\"x\", y=\"y\"\n",
    "    )\n",
    "    return predVStrue_chart\n",
    "\n",
    "\n",
    "def feature_importance_chart(feature_columns, clf):\n",
    "    col = feature_columns\n",
    "    # modelname.feature_importance_\n",
    "    y = clf.feature_importances_\n",
    "    datachart = pd.DataFrame({\"feature\": col, \"importance\": y}).sort_values(\n",
    "        \"importance\"\n",
    "    )\n",
    "    chart = (\n",
    "        alt.Chart(datachart)\n",
    "        .mark_bar()\n",
    "        .encode(alt.Y(\"feature\", sort=\"-x\"), alt.X(\"importance\"))\n",
    "        .transform_window(\n",
    "            rank=\"rank(importance)\",\n",
    "            sort=[alt.SortField(\"importance\", order=\"descending\")],\n",
    "        )\n",
    "        .transform_filter((alt.datum.rank < 20))\n",
    "        .configure_axis(\n",
    "            labelFont=\"Ubuntu\",\n",
    "            titleFont=\"Fira Sans\",\n",
    "            labelFontSize=15,\n",
    "            titleFontSize=16,\n",
    "        )\n",
    "        .configure_legend(\n",
    "            orient=\"bottom\", labelFontSize=14, titleFontSize=14, labelFont=\"Ubuntu\"\n",
    "        )\n",
    "        .configure_view(stroke=None)\n",
    "        .configure_title(font=\"Fira Sans\", fontSize=18, anchor=\"start\", dy=-10)\n",
    "        .configure_header(\n",
    "            labelFont=\"Ubuntu\",\n",
    "            labelFontSize=18,\n",
    "            labelOrient=\"top\",\n",
    "        )\n",
    "        .properties(width=200)\n",
    "    )\n",
    "    return chart\n",
    "\n",
    "\n",
    "def plot_feature_importance(\n",
    "    feature_columns,\n",
    "    clf,  # saveas=\"../prediction_results/result.png\"\n",
    "):\n",
    "    col = feature_columns\n",
    "    # modelname.feature_importance_\n",
    "    y = clf.feature_importances_\n",
    "    # plot\n",
    "    fig, ax = plt.subplots()\n",
    "    width = 0.2  # the width of the bars\n",
    "    ind = np.arange(len(y))  # the x locations for the groups\n",
    "    ax.barh(ind, y, width, color=\"green\")\n",
    "    ax.set_yticks(ind + width / 10)\n",
    "    ax.set_yticklabels(col, minor=False)\n",
    "    plt.title(\"Feature importance in RandomForest Classifier\")\n",
    "    plt.xlabel(\"Relative importance\")\n",
    "    plt.ylabel(\"feature\")\n",
    "    plt.figure(figsize=(5, 8))\n",
    "    fig.set_size_inches(6.5, 9.5, forward=True)\n",
    "    return fig\n",
    "\n",
    "\n",
    "def results(labels_test, predicted):\n",
    "    mae = mean_absolute_error(labels_test.values.reshape((-1,)), predicted)\n",
    "    mse = mean_squared_error(labels_test.values.reshape((-1,)), predicted)\n",
    "    rmse = mse ** (1 / 2)\n",
    "    acc1min = within_Xmin(labels_test.values.reshape((-1,)), predicted)\n",
    "    acc3min = within_Xmin(labels_test.values.reshape((-1,)), predicted, m=3)\n",
    "    acc5min = within_Xmin(labels_test.values.reshape((-1,)), predicted, m=5)\n",
    "    r2 = r2_score(labels_test.values.reshape((-1,)), predicted)\n",
    "\n",
    "    return ResMetrics(\n",
    "        mae=mae,\n",
    "        mse=mse,\n",
    "        rmse=rmse,\n",
    "        acc1min=acc1min,\n",
    "        acc3min=acc3min,\n",
    "        acc5min=acc5min,\n",
    "        r2=r2,\n",
    "    )\n",
    "\n",
    "\n",
    "def train_rf(\n",
    "    flight_df,\n",
    "    feature_columns,\n",
    "    target_column,\n",
    "    query,\n",
    "    dirname=\"../prediction_results/rf/\",\n",
    "    dropna=True,\n",
    "):\n",
    "    \"\"\"\n",
    "    function that will train and plot performance metric\n",
    "    \"\"\"\n",
    "    test_name = dirname.split(\"/\")[-2]\n",
    "    flight_df = flight_df.query(query)\n",
    "    data_df = flight_df[feature_columns + [target_column, \"on_runway_time\"]]\n",
    "    if dropna:\n",
    "        data_df = data_df.dropna()\n",
    "    else:\n",
    "        data_df = (\n",
    "            data_df.sort_values(\"on_runway_time\").fillna(method=\"backfill\").dropna()\n",
    "        )\n",
    "    data_df = data_df.drop([\"on_runway_time\"], axis=1)\n",
    "    input_df = data_df[feature_columns]\n",
    "    target_df = data_df[[target_column]]\n",
    "\n",
    "    data_train, data_test, labels_train, labels_test = train_test_split(\n",
    "        input_df, target_df, test_size=0.20, random_state=42\n",
    "    )\n",
    "\n",
    "    clf = RandomForestRegressor(n_estimators=150, min_samples_split=10, random_state=42)\n",
    "\n",
    "    # fit the model on the whole dataset\n",
    "    clf.fit(data_train, labels_train)\n",
    "    # make a single prediction\n",
    "    predicted = clf.predict(data_test)\n",
    "\n",
    "    res_metrics = results(labels_test, predicted)\n",
    "\n",
    "    res_txt = \"Results for Random Forest on the following features :\\n\"\n",
    "    res_txt += \" \".join(feature_columns) + \"\\n\"\n",
    "    res_txt += f\"Target var : {target_column}\\n\"\n",
    "    res_txt += \"Selecting the subset with following query : \\n\" + query + \"\\n\"\n",
    "    res_txt += f\"mae=\\t{res_metrics.mae}\\nmse=\\t{res_metrics.mse}\\nrmse=\\t{res_metrics.rmse}\\nacc1min={res_metrics.acc1min}\\nacc3min={res_metrics.acc3min}\\nacc5min={res_metrics.acc5min}\\nR2=\\t{res_metrics.r2}\\n\"\n",
    "    res_txt += f\"n_sample training : {data_train.shape[0]}\\nn_sample test : {data_test.shape[0]}\\nn_sample_tot={input_df.shape[0]}\\n\"\n",
    "\n",
    "    print(res_txt)\n",
    "\n",
    "    corr_chart = plot_results(labels_test, predicted)\n",
    "    feature_chart = plot_feature_importance(feature_columns, clf)\n",
    "    top10features_chart = feature_importance_chart(feature_columns, clf)\n",
    "\n",
    "    os.makedirs(os.path.dirname(dirname), exist_ok=True)\n",
    "    with open(dirname + \"res.txt\", \"w\") as text_file:\n",
    "        text_file.write(res_txt)\n",
    "    with open(dirname + f\"{test_name}.pkl\", \"wb\") as pklfile:\n",
    "        pickle.dump(res_metrics, pklfile)\n",
    "\n",
    "    feature_chart.savefig(dirname + \"features.png\")\n",
    "    corr_chart.save(dirname + \"corr_chart.html\")\n",
    "    top10features_chart.save(dirname + \"top10features.html\")\n",
    "    display(top10features_chart)\n",
    "\n",
    "    with open(dirname + \"clf.pkl\", \"wb\") as f:\n",
    "        pickle.dump(clf, f)\n",
    "\n",
    "    return res_metrics, labels_test, predicted, clf"
   ]
  },
  {
   "cell_type": "markdown",
   "id": "b430248f-afcd-4156-ac1a-60f8298e5e44",
   "metadata": {},
   "source": [
    "# Load"
   ]
  },
  {
   "cell_type": "code",
   "execution_count": 9,
   "id": "c52d9717-1e9f-45d2-84f4-be0f6e7267b0",
   "metadata": {
    "execution": {
     "iopub.execute_input": "2021-07-21T12:41:10.437540Z",
     "iopub.status.busy": "2021-07-21T12:41:10.437096Z",
     "iopub.status.idle": "2021-07-21T12:41:10.500491Z",
     "shell.execute_reply": "2021-07-21T12:41:10.499885Z",
     "shell.execute_reply.started": "2021-07-21T12:41:10.437514Z"
    },
    "tags": []
   },
   "outputs": [],
   "source": [
    "dep_arr_df = pd.read_pickle(\n",
    "    \"../data/processed/dep_arr_df12BIS_onehotconfig_addedsifis_anglesummfixed.pkl\"\n",
    ")"
   ]
  },
  {
   "cell_type": "code",
   "execution_count": null,
   "id": "7fe1480f-4aa6-42aa-90cf-dcc544cd7502",
   "metadata": {},
   "outputs": [],
   "source": [
    "from ground_analysis.extract_flight_info import compute_avg_duration"
   ]
  },
  {
   "cell_type": "code",
   "execution_count": 18,
   "id": "54d9d261-bf6e-46fc-a1fb-d66ad03aef4c",
   "metadata": {
    "execution": {
     "iopub.execute_input": "2021-07-21T12:44:20.983981Z",
     "iopub.status.busy": "2021-07-21T12:44:20.983495Z",
     "iopub.status.idle": "2021-07-21T12:44:20.999105Z",
     "shell.execute_reply": "2021-07-21T12:44:20.998351Z",
     "shell.execute_reply.started": "2021-07-21T12:44:20.983934Z"
    }
   },
   "outputs": [],
   "source": [
    "dep_arr_df[\"DEP\"] = np.where(dep_arr_df[\"mvt_type\"] == \"DEP\", 1, 0)"
   ]
  },
  {
   "cell_type": "code",
   "execution_count": 20,
   "id": "e3466245-4945-4e76-bd9d-d9245d30bd3c",
   "metadata": {
    "execution": {
     "iopub.execute_input": "2021-07-21T12:44:40.630579Z",
     "iopub.status.busy": "2021-07-21T12:44:40.630074Z",
     "iopub.status.idle": "2021-07-21T12:44:40.639398Z",
     "shell.execute_reply": "2021-07-21T12:44:40.638924Z",
     "shell.execute_reply.started": "2021-07-21T12:44:40.630535Z"
    },
    "tags": []
   },
   "outputs": [
    {
     "data": {
      "text/plain": [
       "0    19072\n",
       "1    16458\n",
       "Name: DEP, dtype: int64"
      ]
     },
     "execution_count": 20,
     "metadata": {},
     "output_type": "execute_result"
    }
   ],
   "source": [
    "dep_arr_df[\"DEP\"].value_counts()"
   ]
  },
  {
   "cell_type": "markdown",
   "id": "5d260292-3bd1-4873-a936-4addc259fc22",
   "metadata": {},
   "source": [
    "### Test recompute avg delay "
   ]
  },
  {
   "cell_type": "code",
   "execution_count": 171,
   "id": "52278458-8b28-427d-b3d6-8f2473825edd",
   "metadata": {
    "execution": {
     "iopub.execute_input": "2021-07-23T14:43:24.730607Z",
     "iopub.status.busy": "2021-07-23T14:43:24.730180Z",
     "iopub.status.idle": "2021-07-23T14:43:24.743841Z",
     "shell.execute_reply": "2021-07-23T14:43:24.743275Z",
     "shell.execute_reply.started": "2021-07-23T14:43:24.730574Z"
    },
    "tags": []
   },
   "outputs": [],
   "source": [
    "def assign_next_avg_delay(\n",
    "    flight_df,\n",
    "    avg_delay_col=\"avg_delay\",\n",
    "    dt=\"30T\",\n",
    "    name=\"nextAvgDelay\",\n",
    "    tolerance=pd.Timedelta(\"2T\"),\n",
    "):\n",
    "    dt_pred = pd.Timedelta(dt)\n",
    "    flight_df = flight_df.sort_values(\"first_movement_start\")\n",
    "    target_df = (\n",
    "        flight_df[[\"first_movement_start\", avg_delay_col]]\n",
    "        .assign(first_movement_start=lambda x: x.first_movement_start - dt_pred)\n",
    "        .rename(columns={avg_delay_col: name})\n",
    "    )\n",
    "    return pd.merge(\n",
    "        flight_df,\n",
    "        target_df,\n",
    "        on=\"first_movement_start\",\n",
    "        direction=\"nearest\",\n",
    "        tolerance=tolerance,\n",
    "        how=\"left\",\n",
    "    )"
   ]
  },
  {
   "cell_type": "code",
   "execution_count": 189,
   "id": "eb5a48f6-3577-4ea2-b3bc-d6318ac15357",
   "metadata": {
    "execution": {
     "iopub.execute_input": "2021-07-23T15:04:42.293163Z",
     "iopub.status.busy": "2021-07-23T15:04:42.292756Z",
     "iopub.status.idle": "2021-07-23T15:04:42.308670Z",
     "shell.execute_reply": "2021-07-23T15:04:42.308166Z",
     "shell.execute_reply.started": "2021-07-23T15:04:42.293138Z"
    },
    "tags": []
   },
   "outputs": [],
   "source": [
    "def compute_avg_duration(\n",
    "    dep_df,\n",
    "    dt=\"30T\",\n",
    "    time_col=\"on_runway_time\",\n",
    "    on_col=\"taxi_holding_time_minutes\",\n",
    "    col_name=\"avg_delay\",\n",
    "    internal_query=None,\n",
    "    tolerance=pd.Timedelta(\"2T\"),\n",
    "):\n",
    "    def mean_on_internal_query(df):\n",
    "        print(df)\n",
    "        if internal_query is not None:\n",
    "            df = dep_df.query(internal_query)\n",
    "        return df[on_col].mean()\n",
    "\n",
    "    # Index is on_runway_time because it makes more sense to compute average\n",
    "    # ground delays with flights having completed their taxi\n",
    "    df = dep_df\n",
    "    # if internal_query is not None:\n",
    "    #    df = dep_df.query(internal_query)\n",
    "    #\n",
    "    avg_delays = (\n",
    "        df.set_index(time_col)\n",
    "        .sort_index()\n",
    "        .rolling(dt, closed=\"left\")  # can be a feature to help predict next delay\n",
    "        .apply(mean_on_internal_query)\n",
    "        .rename(col_name)\n",
    "    )\n",
    "    dep_df = pd.merge(\n",
    "        dep_df.sort_values(time_col),\n",
    "        avg_delays,\n",
    "        left_on=time_col,\n",
    "        right_index=True,\n",
    "        how=\"left\",\n",
    "    )\n",
    "    return dep_df"
   ]
  },
  {
   "cell_type": "code",
   "execution_count": 190,
   "id": "9c8d1ae9-d90e-431d-9c96-29d8e4837f93",
   "metadata": {
    "execution": {
     "iopub.execute_input": "2021-07-23T15:04:42.622205Z",
     "iopub.status.busy": "2021-07-23T15:04:42.621789Z",
     "iopub.status.idle": "2021-07-23T15:04:42.643409Z",
     "shell.execute_reply": "2021-07-23T15:04:42.642806Z",
     "shell.execute_reply.started": "2021-07-23T15:04:42.622181Z"
    },
    "tags": []
   },
   "outputs": [],
   "source": [
    "dep_df = dep_arr_df.query(\"mvt_type=='DEP'\")"
   ]
  },
  {
   "cell_type": "code",
   "execution_count": 191,
   "id": "7730761d-d8f1-4291-a110-038d0e00be36",
   "metadata": {
    "collapsed": true,
    "execution": {
     "iopub.execute_input": "2021-07-23T15:04:43.012575Z",
     "iopub.status.busy": "2021-07-23T15:04:43.011821Z",
     "iopub.status.idle": "2021-07-23T15:04:43.099248Z",
     "shell.execute_reply": "2021-07-23T15:04:43.098445Z",
     "shell.execute_reply.started": "2021-07-23T15:04:43.012551Z"
    },
    "jupyter": {
     "outputs_hidden": true
    },
    "tags": []
   },
   "outputs": [
    {
     "name": "stdout",
     "output_type": "stream",
     "text": [
      "first_movement_start\n",
      "2019-10-01 03:59:06+00:00    1.38\n",
      "dtype: float64\n"
     ]
    },
    {
     "ename": "KeyError",
     "evalue": "'taxi_holding_time_minutes'",
     "output_type": "error",
     "traceback": [
      "\u001b[0;31m---------------------------------------------------------------------------\u001b[0m",
      "\u001b[0;31mParserError\u001b[0m                               Traceback (most recent call last)",
      "\u001b[0;32mpandas/_libs/tslibs/conversion.pyx\u001b[0m in \u001b[0;36mpandas._libs.tslibs.conversion._convert_str_to_tsobject\u001b[0;34m()\u001b[0m\n",
      "\u001b[0;32mpandas/_libs/tslibs/parsing.pyx\u001b[0m in \u001b[0;36mpandas._libs.tslibs.parsing.parse_datetime_string\u001b[0;34m()\u001b[0m\n",
      "\u001b[0;32m~/miniconda3/envs/traffic/lib/python3.9/site-packages/dateutil/parser/_parser.py\u001b[0m in \u001b[0;36mparse\u001b[0;34m(timestr, parserinfo, **kwargs)\u001b[0m\n\u001b[1;32m   1367\u001b[0m     \u001b[0;32melse\u001b[0m\u001b[0;34m:\u001b[0m\u001b[0;34m\u001b[0m\u001b[0;34m\u001b[0m\u001b[0m\n\u001b[0;32m-> 1368\u001b[0;31m         \u001b[0;32mreturn\u001b[0m \u001b[0mDEFAULTPARSER\u001b[0m\u001b[0;34m.\u001b[0m\u001b[0mparse\u001b[0m\u001b[0;34m(\u001b[0m\u001b[0mtimestr\u001b[0m\u001b[0;34m,\u001b[0m \u001b[0;34m**\u001b[0m\u001b[0mkwargs\u001b[0m\u001b[0;34m)\u001b[0m\u001b[0;34m\u001b[0m\u001b[0;34m\u001b[0m\u001b[0m\n\u001b[0m\u001b[1;32m   1369\u001b[0m \u001b[0;34m\u001b[0m\u001b[0m\n",
      "\u001b[0;32m~/miniconda3/envs/traffic/lib/python3.9/site-packages/dateutil/parser/_parser.py\u001b[0m in \u001b[0;36mparse\u001b[0;34m(self, timestr, default, ignoretz, tzinfos, **kwargs)\u001b[0m\n\u001b[1;32m    642\u001b[0m         \u001b[0;32mif\u001b[0m \u001b[0mres\u001b[0m \u001b[0;32mis\u001b[0m \u001b[0;32mNone\u001b[0m\u001b[0;34m:\u001b[0m\u001b[0;34m\u001b[0m\u001b[0;34m\u001b[0m\u001b[0m\n\u001b[0;32m--> 643\u001b[0;31m             \u001b[0;32mraise\u001b[0m \u001b[0mParserError\u001b[0m\u001b[0;34m(\u001b[0m\u001b[0;34m\"Unknown string format: %s\"\u001b[0m\u001b[0;34m,\u001b[0m \u001b[0mtimestr\u001b[0m\u001b[0;34m)\u001b[0m\u001b[0;34m\u001b[0m\u001b[0;34m\u001b[0m\u001b[0m\n\u001b[0m\u001b[1;32m    644\u001b[0m \u001b[0;34m\u001b[0m\u001b[0m\n",
      "\u001b[0;31mParserError\u001b[0m: Unknown string format: taxi_holding_time_minutes",
      "\nDuring handling of the above exception, another exception occurred:\n",
      "\u001b[0;31mValueError\u001b[0m                                Traceback (most recent call last)",
      "\u001b[0;32m~/miniconda3/envs/traffic/lib/python3.9/site-packages/pandas/core/indexes/datetimes.py\u001b[0m in \u001b[0;36mget_loc\u001b[0;34m(self, key, method, tolerance)\u001b[0m\n\u001b[1;32m    663\u001b[0m             \u001b[0;32mtry\u001b[0m\u001b[0;34m:\u001b[0m\u001b[0;34m\u001b[0m\u001b[0;34m\u001b[0m\u001b[0m\n\u001b[0;32m--> 664\u001b[0;31m                 \u001b[0mkey\u001b[0m \u001b[0;34m=\u001b[0m \u001b[0mself\u001b[0m\u001b[0;34m.\u001b[0m\u001b[0m_maybe_cast_for_get_loc\u001b[0m\u001b[0;34m(\u001b[0m\u001b[0mkey\u001b[0m\u001b[0;34m)\u001b[0m\u001b[0;34m\u001b[0m\u001b[0;34m\u001b[0m\u001b[0m\n\u001b[0m\u001b[1;32m    665\u001b[0m             \u001b[0;32mexcept\u001b[0m \u001b[0mValueError\u001b[0m \u001b[0;32mas\u001b[0m \u001b[0merr\u001b[0m\u001b[0;34m:\u001b[0m\u001b[0;34m\u001b[0m\u001b[0;34m\u001b[0m\u001b[0m\n",
      "\u001b[0;32m~/miniconda3/envs/traffic/lib/python3.9/site-packages/pandas/core/indexes/datetimes.py\u001b[0m in \u001b[0;36m_maybe_cast_for_get_loc\u001b[0;34m(self, key)\u001b[0m\n\u001b[1;32m    691\u001b[0m         \u001b[0;31m# needed to localize naive datetimes or dates (GH 35690)\u001b[0m\u001b[0;34m\u001b[0m\u001b[0;34m\u001b[0m\u001b[0;34m\u001b[0m\u001b[0m\n\u001b[0;32m--> 692\u001b[0;31m         \u001b[0mkey\u001b[0m \u001b[0;34m=\u001b[0m \u001b[0mTimestamp\u001b[0m\u001b[0;34m(\u001b[0m\u001b[0mkey\u001b[0m\u001b[0;34m)\u001b[0m\u001b[0;34m\u001b[0m\u001b[0;34m\u001b[0m\u001b[0m\n\u001b[0m\u001b[1;32m    693\u001b[0m         \u001b[0;32mif\u001b[0m \u001b[0mkey\u001b[0m\u001b[0;34m.\u001b[0m\u001b[0mtzinfo\u001b[0m \u001b[0;32mis\u001b[0m \u001b[0;32mNone\u001b[0m\u001b[0;34m:\u001b[0m\u001b[0;34m\u001b[0m\u001b[0;34m\u001b[0m\u001b[0m\n",
      "\u001b[0;32mpandas/_libs/tslibs/timestamps.pyx\u001b[0m in \u001b[0;36mpandas._libs.tslibs.timestamps.Timestamp.__new__\u001b[0;34m()\u001b[0m\n",
      "\u001b[0;32mpandas/_libs/tslibs/conversion.pyx\u001b[0m in \u001b[0;36mpandas._libs.tslibs.conversion.convert_to_tsobject\u001b[0;34m()\u001b[0m\n",
      "\u001b[0;32mpandas/_libs/tslibs/conversion.pyx\u001b[0m in \u001b[0;36mpandas._libs.tslibs.conversion._convert_str_to_tsobject\u001b[0;34m()\u001b[0m\n",
      "\u001b[0;31mValueError\u001b[0m: could not convert string to Timestamp",
      "\nThe above exception was the direct cause of the following exception:\n",
      "\u001b[0;31mKeyError\u001b[0m                                  Traceback (most recent call last)",
      "\u001b[0;32m/tmp/ipykernel_140950/1390175544.py\u001b[0m in \u001b[0;36m<module>\u001b[0;34m\u001b[0m\n\u001b[0;32m----> 1\u001b[0;31m \u001b[0mt_dep_df\u001b[0m \u001b[0;34m=\u001b[0m \u001b[0mcompute_avg_duration\u001b[0m\u001b[0;34m(\u001b[0m\u001b[0mdep_df\u001b[0m\u001b[0;34m,\u001b[0m \u001b[0mtime_col\u001b[0m\u001b[0;34m=\u001b[0m\u001b[0;34m'first_movement_start'\u001b[0m\u001b[0;34m)\u001b[0m\u001b[0;34m\u001b[0m\u001b[0;34m\u001b[0m\u001b[0m\n\u001b[0m\u001b[1;32m      2\u001b[0m \u001b[0mt_dep_df\u001b[0m\u001b[0;34m\u001b[0m\u001b[0;34m\u001b[0m\u001b[0m\n",
      "\u001b[0;32m/tmp/ipykernel_140950/3282700327.py\u001b[0m in \u001b[0;36mcompute_avg_duration\u001b[0;34m(dep_df, dt, time_col, on_col, col_name, internal_query, tolerance)\u001b[0m\n\u001b[1;32m     21\u001b[0m \u001b[0;31m#\u001b[0m\u001b[0;34m\u001b[0m\u001b[0;34m\u001b[0m\u001b[0;34m\u001b[0m\u001b[0m\n\u001b[1;32m     22\u001b[0m     avg_delays = (\n\u001b[0;32m---> 23\u001b[0;31m         \u001b[0mdf\u001b[0m\u001b[0;34m.\u001b[0m\u001b[0mset_index\u001b[0m\u001b[0;34m(\u001b[0m\u001b[0mtime_col\u001b[0m\u001b[0;34m)\u001b[0m\u001b[0;34m\u001b[0m\u001b[0;34m\u001b[0m\u001b[0m\n\u001b[0m\u001b[1;32m     24\u001b[0m         \u001b[0;34m.\u001b[0m\u001b[0msort_index\u001b[0m\u001b[0;34m(\u001b[0m\u001b[0;34m)\u001b[0m\u001b[0;34m\u001b[0m\u001b[0;34m\u001b[0m\u001b[0m\n\u001b[1;32m     25\u001b[0m         \u001b[0;34m.\u001b[0m\u001b[0mrolling\u001b[0m\u001b[0;34m(\u001b[0m\u001b[0mdt\u001b[0m\u001b[0;34m,\u001b[0m \u001b[0mclosed\u001b[0m\u001b[0;34m=\u001b[0m\u001b[0;34m\"left\"\u001b[0m\u001b[0;34m)\u001b[0m  \u001b[0;31m# can be a feature to help predict next delay\u001b[0m\u001b[0;34m\u001b[0m\u001b[0;34m\u001b[0m\u001b[0m\n",
      "\u001b[0;32m~/miniconda3/envs/traffic/lib/python3.9/site-packages/pandas/core/window/rolling.py\u001b[0m in \u001b[0;36mapply\u001b[0;34m(self, func, raw, engine, engine_kwargs, args, kwargs)\u001b[0m\n\u001b[1;32m   2028\u001b[0m         \u001b[0mself\u001b[0m\u001b[0;34m,\u001b[0m \u001b[0mfunc\u001b[0m\u001b[0;34m,\u001b[0m \u001b[0mraw\u001b[0m\u001b[0;34m=\u001b[0m\u001b[0;32mFalse\u001b[0m\u001b[0;34m,\u001b[0m \u001b[0mengine\u001b[0m\u001b[0;34m=\u001b[0m\u001b[0;32mNone\u001b[0m\u001b[0;34m,\u001b[0m \u001b[0mengine_kwargs\u001b[0m\u001b[0;34m=\u001b[0m\u001b[0;32mNone\u001b[0m\u001b[0;34m,\u001b[0m \u001b[0margs\u001b[0m\u001b[0;34m=\u001b[0m\u001b[0;32mNone\u001b[0m\u001b[0;34m,\u001b[0m \u001b[0mkwargs\u001b[0m\u001b[0;34m=\u001b[0m\u001b[0;32mNone\u001b[0m\u001b[0;34m\u001b[0m\u001b[0;34m\u001b[0m\u001b[0m\n\u001b[1;32m   2029\u001b[0m     ):\n\u001b[0;32m-> 2030\u001b[0;31m         return super().apply(\n\u001b[0m\u001b[1;32m   2031\u001b[0m             \u001b[0mfunc\u001b[0m\u001b[0;34m,\u001b[0m\u001b[0;34m\u001b[0m\u001b[0;34m\u001b[0m\u001b[0m\n\u001b[1;32m   2032\u001b[0m             \u001b[0mraw\u001b[0m\u001b[0;34m=\u001b[0m\u001b[0mraw\u001b[0m\u001b[0;34m,\u001b[0m\u001b[0;34m\u001b[0m\u001b[0;34m\u001b[0m\u001b[0m\n",
      "\u001b[0;32m~/miniconda3/envs/traffic/lib/python3.9/site-packages/pandas/core/window/rolling.py\u001b[0m in \u001b[0;36mapply\u001b[0;34m(self, func, raw, engine, engine_kwargs, args, kwargs)\u001b[0m\n\u001b[1;32m   1317\u001b[0m             \u001b[0;32mraise\u001b[0m \u001b[0mValueError\u001b[0m\u001b[0;34m(\u001b[0m\u001b[0;34m\"engine must be either 'numba' or 'cython'\"\u001b[0m\u001b[0;34m)\u001b[0m\u001b[0;34m\u001b[0m\u001b[0;34m\u001b[0m\u001b[0m\n\u001b[1;32m   1318\u001b[0m \u001b[0;34m\u001b[0m\u001b[0m\n\u001b[0;32m-> 1319\u001b[0;31m         return self._apply(\n\u001b[0m\u001b[1;32m   1320\u001b[0m             \u001b[0mapply_func\u001b[0m\u001b[0;34m,\u001b[0m\u001b[0;34m\u001b[0m\u001b[0;34m\u001b[0m\u001b[0m\n\u001b[1;32m   1321\u001b[0m             \u001b[0mnumba_cache_key\u001b[0m\u001b[0;34m=\u001b[0m\u001b[0mnumba_cache_key\u001b[0m\u001b[0;34m,\u001b[0m\u001b[0;34m\u001b[0m\u001b[0;34m\u001b[0m\u001b[0m\n",
      "\u001b[0;32m~/miniconda3/envs/traffic/lib/python3.9/site-packages/pandas/core/window/rolling.py\u001b[0m in \u001b[0;36m_apply\u001b[0;34m(self, func, name, numba_cache_key, **kwargs)\u001b[0m\n\u001b[1;32m    467\u001b[0m             \u001b[0;32mreturn\u001b[0m \u001b[0mresult\u001b[0m\u001b[0;34m\u001b[0m\u001b[0;34m\u001b[0m\u001b[0m\n\u001b[1;32m    468\u001b[0m \u001b[0;34m\u001b[0m\u001b[0m\n\u001b[0;32m--> 469\u001b[0;31m         \u001b[0;32mreturn\u001b[0m \u001b[0mself\u001b[0m\u001b[0;34m.\u001b[0m\u001b[0m_apply_blockwise\u001b[0m\u001b[0;34m(\u001b[0m\u001b[0mhomogeneous_func\u001b[0m\u001b[0;34m,\u001b[0m \u001b[0mname\u001b[0m\u001b[0;34m)\u001b[0m\u001b[0;34m\u001b[0m\u001b[0;34m\u001b[0m\u001b[0m\n\u001b[0m\u001b[1;32m    470\u001b[0m \u001b[0;34m\u001b[0m\u001b[0m\n\u001b[1;32m    471\u001b[0m     \u001b[0;32mdef\u001b[0m \u001b[0maggregate\u001b[0m\u001b[0;34m(\u001b[0m\u001b[0mself\u001b[0m\u001b[0;34m,\u001b[0m \u001b[0mfunc\u001b[0m\u001b[0;34m,\u001b[0m \u001b[0;34m*\u001b[0m\u001b[0margs\u001b[0m\u001b[0;34m,\u001b[0m \u001b[0;34m**\u001b[0m\u001b[0mkwargs\u001b[0m\u001b[0;34m)\u001b[0m\u001b[0;34m:\u001b[0m\u001b[0;34m\u001b[0m\u001b[0;34m\u001b[0m\u001b[0m\n",
      "\u001b[0;32m~/miniconda3/envs/traffic/lib/python3.9/site-packages/pandas/core/window/rolling.py\u001b[0m in \u001b[0;36m_apply_blockwise\u001b[0;34m(self, homogeneous_func, name)\u001b[0m\n\u001b[1;32m    397\u001b[0m             \u001b[0;32mreturn\u001b[0m \u001b[0mgetattr\u001b[0m\u001b[0;34m(\u001b[0m\u001b[0mres_values\u001b[0m\u001b[0;34m,\u001b[0m \u001b[0;34m\"T\"\u001b[0m\u001b[0;34m,\u001b[0m \u001b[0mres_values\u001b[0m\u001b[0;34m)\u001b[0m\u001b[0;34m\u001b[0m\u001b[0;34m\u001b[0m\u001b[0m\n\u001b[1;32m    398\u001b[0m \u001b[0;34m\u001b[0m\u001b[0m\n\u001b[0;32m--> 399\u001b[0;31m         \u001b[0mnew_mgr\u001b[0m \u001b[0;34m=\u001b[0m \u001b[0mmgr\u001b[0m\u001b[0;34m.\u001b[0m\u001b[0mapply\u001b[0m\u001b[0;34m(\u001b[0m\u001b[0mhfunc\u001b[0m\u001b[0;34m,\u001b[0m \u001b[0mignore_failures\u001b[0m\u001b[0;34m=\u001b[0m\u001b[0;32mTrue\u001b[0m\u001b[0;34m)\u001b[0m\u001b[0;34m\u001b[0m\u001b[0;34m\u001b[0m\u001b[0m\n\u001b[0m\u001b[1;32m    400\u001b[0m         \u001b[0mout\u001b[0m \u001b[0;34m=\u001b[0m \u001b[0mobj\u001b[0m\u001b[0;34m.\u001b[0m\u001b[0m_constructor\u001b[0m\u001b[0;34m(\u001b[0m\u001b[0mnew_mgr\u001b[0m\u001b[0;34m)\u001b[0m\u001b[0;34m\u001b[0m\u001b[0;34m\u001b[0m\u001b[0m\n\u001b[1;32m    401\u001b[0m \u001b[0;34m\u001b[0m\u001b[0m\n",
      "\u001b[0;32m~/miniconda3/envs/traffic/lib/python3.9/site-packages/pandas/core/internals/managers.py\u001b[0m in \u001b[0;36mapply\u001b[0;34m(self, f, align_keys, ignore_failures, **kwargs)\u001b[0m\n\u001b[1;32m    423\u001b[0m             \u001b[0;32mtry\u001b[0m\u001b[0;34m:\u001b[0m\u001b[0;34m\u001b[0m\u001b[0;34m\u001b[0m\u001b[0m\n\u001b[1;32m    424\u001b[0m                 \u001b[0;32mif\u001b[0m \u001b[0mcallable\u001b[0m\u001b[0;34m(\u001b[0m\u001b[0mf\u001b[0m\u001b[0;34m)\u001b[0m\u001b[0;34m:\u001b[0m\u001b[0;34m\u001b[0m\u001b[0;34m\u001b[0m\u001b[0m\n\u001b[0;32m--> 425\u001b[0;31m                     \u001b[0mapplied\u001b[0m \u001b[0;34m=\u001b[0m \u001b[0mb\u001b[0m\u001b[0;34m.\u001b[0m\u001b[0mapply\u001b[0m\u001b[0;34m(\u001b[0m\u001b[0mf\u001b[0m\u001b[0;34m,\u001b[0m \u001b[0;34m**\u001b[0m\u001b[0mkwargs\u001b[0m\u001b[0;34m)\u001b[0m\u001b[0;34m\u001b[0m\u001b[0;34m\u001b[0m\u001b[0m\n\u001b[0m\u001b[1;32m    426\u001b[0m                 \u001b[0;32melse\u001b[0m\u001b[0;34m:\u001b[0m\u001b[0;34m\u001b[0m\u001b[0;34m\u001b[0m\u001b[0m\n\u001b[1;32m    427\u001b[0m                     \u001b[0mapplied\u001b[0m \u001b[0;34m=\u001b[0m \u001b[0mgetattr\u001b[0m\u001b[0;34m(\u001b[0m\u001b[0mb\u001b[0m\u001b[0;34m,\u001b[0m \u001b[0mf\u001b[0m\u001b[0;34m)\u001b[0m\u001b[0;34m(\u001b[0m\u001b[0;34m**\u001b[0m\u001b[0mkwargs\u001b[0m\u001b[0;34m)\u001b[0m\u001b[0;34m\u001b[0m\u001b[0;34m\u001b[0m\u001b[0m\n",
      "\u001b[0;32m~/miniconda3/envs/traffic/lib/python3.9/site-packages/pandas/core/internals/blocks.py\u001b[0m in \u001b[0;36mapply\u001b[0;34m(self, func, **kwargs)\u001b[0m\n\u001b[1;32m    376\u001b[0m         \"\"\"\n\u001b[1;32m    377\u001b[0m         \u001b[0;32mwith\u001b[0m \u001b[0mnp\u001b[0m\u001b[0;34m.\u001b[0m\u001b[0merrstate\u001b[0m\u001b[0;34m(\u001b[0m\u001b[0mall\u001b[0m\u001b[0;34m=\u001b[0m\u001b[0;34m\"ignore\"\u001b[0m\u001b[0;34m)\u001b[0m\u001b[0;34m:\u001b[0m\u001b[0;34m\u001b[0m\u001b[0;34m\u001b[0m\u001b[0m\n\u001b[0;32m--> 378\u001b[0;31m             \u001b[0mresult\u001b[0m \u001b[0;34m=\u001b[0m \u001b[0mfunc\u001b[0m\u001b[0;34m(\u001b[0m\u001b[0mself\u001b[0m\u001b[0;34m.\u001b[0m\u001b[0mvalues\u001b[0m\u001b[0;34m,\u001b[0m \u001b[0;34m**\u001b[0m\u001b[0mkwargs\u001b[0m\u001b[0;34m)\u001b[0m\u001b[0;34m\u001b[0m\u001b[0;34m\u001b[0m\u001b[0m\n\u001b[0m\u001b[1;32m    379\u001b[0m \u001b[0;34m\u001b[0m\u001b[0m\n\u001b[1;32m    380\u001b[0m         \u001b[0;32mreturn\u001b[0m \u001b[0mself\u001b[0m\u001b[0;34m.\u001b[0m\u001b[0m_split_op_result\u001b[0m\u001b[0;34m(\u001b[0m\u001b[0mresult\u001b[0m\u001b[0;34m)\u001b[0m\u001b[0;34m\u001b[0m\u001b[0;34m\u001b[0m\u001b[0m\n",
      "\u001b[0;32m~/miniconda3/envs/traffic/lib/python3.9/site-packages/pandas/core/window/rolling.py\u001b[0m in \u001b[0;36mhfunc\u001b[0;34m(bvalues)\u001b[0m\n\u001b[1;32m    394\u001b[0m             \u001b[0;31m# TODO(EA2D): getattr unnecessary with 2D EAs\u001b[0m\u001b[0;34m\u001b[0m\u001b[0;34m\u001b[0m\u001b[0;34m\u001b[0m\u001b[0m\n\u001b[1;32m    395\u001b[0m             \u001b[0mvalues\u001b[0m \u001b[0;34m=\u001b[0m \u001b[0mself\u001b[0m\u001b[0;34m.\u001b[0m\u001b[0m_prep_values\u001b[0m\u001b[0;34m(\u001b[0m\u001b[0mgetattr\u001b[0m\u001b[0;34m(\u001b[0m\u001b[0mbvalues\u001b[0m\u001b[0;34m,\u001b[0m \u001b[0;34m\"T\"\u001b[0m\u001b[0;34m,\u001b[0m \u001b[0mbvalues\u001b[0m\u001b[0;34m)\u001b[0m\u001b[0;34m)\u001b[0m\u001b[0;34m\u001b[0m\u001b[0;34m\u001b[0m\u001b[0m\n\u001b[0;32m--> 396\u001b[0;31m             \u001b[0mres_values\u001b[0m \u001b[0;34m=\u001b[0m \u001b[0mhomogeneous_func\u001b[0m\u001b[0;34m(\u001b[0m\u001b[0mvalues\u001b[0m\u001b[0;34m)\u001b[0m\u001b[0;34m\u001b[0m\u001b[0;34m\u001b[0m\u001b[0m\n\u001b[0m\u001b[1;32m    397\u001b[0m             \u001b[0;32mreturn\u001b[0m \u001b[0mgetattr\u001b[0m\u001b[0;34m(\u001b[0m\u001b[0mres_values\u001b[0m\u001b[0;34m,\u001b[0m \u001b[0;34m\"T\"\u001b[0m\u001b[0;34m,\u001b[0m \u001b[0mres_values\u001b[0m\u001b[0;34m)\u001b[0m\u001b[0;34m\u001b[0m\u001b[0;34m\u001b[0m\u001b[0m\n\u001b[1;32m    398\u001b[0m \u001b[0;34m\u001b[0m\u001b[0m\n",
      "\u001b[0;32m~/miniconda3/envs/traffic/lib/python3.9/site-packages/pandas/core/window/rolling.py\u001b[0m in \u001b[0;36mhomogeneous_func\u001b[0;34m(values)\u001b[0m\n\u001b[1;32m    457\u001b[0m             \u001b[0;32mwith\u001b[0m \u001b[0mnp\u001b[0m\u001b[0;34m.\u001b[0m\u001b[0merrstate\u001b[0m\u001b[0;34m(\u001b[0m\u001b[0mall\u001b[0m\u001b[0;34m=\u001b[0m\u001b[0;34m\"ignore\"\u001b[0m\u001b[0;34m)\u001b[0m\u001b[0;34m:\u001b[0m\u001b[0;34m\u001b[0m\u001b[0;34m\u001b[0m\u001b[0m\n\u001b[1;32m    458\u001b[0m                 \u001b[0;32mif\u001b[0m \u001b[0mvalues\u001b[0m\u001b[0;34m.\u001b[0m\u001b[0mndim\u001b[0m \u001b[0;34m>\u001b[0m \u001b[0;36m1\u001b[0m\u001b[0;34m:\u001b[0m\u001b[0;34m\u001b[0m\u001b[0;34m\u001b[0m\u001b[0m\n\u001b[0;32m--> 459\u001b[0;31m                     \u001b[0mresult\u001b[0m \u001b[0;34m=\u001b[0m \u001b[0mnp\u001b[0m\u001b[0;34m.\u001b[0m\u001b[0mapply_along_axis\u001b[0m\u001b[0;34m(\u001b[0m\u001b[0mcalc\u001b[0m\u001b[0;34m,\u001b[0m \u001b[0mself\u001b[0m\u001b[0;34m.\u001b[0m\u001b[0maxis\u001b[0m\u001b[0;34m,\u001b[0m \u001b[0mvalues\u001b[0m\u001b[0;34m)\u001b[0m\u001b[0;34m\u001b[0m\u001b[0;34m\u001b[0m\u001b[0m\n\u001b[0m\u001b[1;32m    460\u001b[0m                 \u001b[0;32melse\u001b[0m\u001b[0;34m:\u001b[0m\u001b[0;34m\u001b[0m\u001b[0;34m\u001b[0m\u001b[0m\n\u001b[1;32m    461\u001b[0m                     \u001b[0mresult\u001b[0m \u001b[0;34m=\u001b[0m \u001b[0mcalc\u001b[0m\u001b[0;34m(\u001b[0m\u001b[0mvalues\u001b[0m\u001b[0;34m)\u001b[0m\u001b[0;34m\u001b[0m\u001b[0;34m\u001b[0m\u001b[0m\n",
      "\u001b[0;32m<__array_function__ internals>\u001b[0m in \u001b[0;36mapply_along_axis\u001b[0;34m(*args, **kwargs)\u001b[0m\n",
      "\u001b[0;32m~/miniconda3/envs/traffic/lib/python3.9/site-packages/numpy/lib/shape_base.py\u001b[0m in \u001b[0;36mapply_along_axis\u001b[0;34m(func1d, axis, arr, *args, **kwargs)\u001b[0m\n\u001b[1;32m    377\u001b[0m             \u001b[0;34m'Cannot apply_along_axis when any iteration dimensions are 0'\u001b[0m\u001b[0;34m\u001b[0m\u001b[0;34m\u001b[0m\u001b[0m\n\u001b[1;32m    378\u001b[0m         ) from None\n\u001b[0;32m--> 379\u001b[0;31m     \u001b[0mres\u001b[0m \u001b[0;34m=\u001b[0m \u001b[0masanyarray\u001b[0m\u001b[0;34m(\u001b[0m\u001b[0mfunc1d\u001b[0m\u001b[0;34m(\u001b[0m\u001b[0minarr_view\u001b[0m\u001b[0;34m[\u001b[0m\u001b[0mind0\u001b[0m\u001b[0;34m]\u001b[0m\u001b[0;34m,\u001b[0m \u001b[0;34m*\u001b[0m\u001b[0margs\u001b[0m\u001b[0;34m,\u001b[0m \u001b[0;34m**\u001b[0m\u001b[0mkwargs\u001b[0m\u001b[0;34m)\u001b[0m\u001b[0;34m)\u001b[0m\u001b[0;34m\u001b[0m\u001b[0;34m\u001b[0m\u001b[0m\n\u001b[0m\u001b[1;32m    380\u001b[0m \u001b[0;34m\u001b[0m\u001b[0m\n\u001b[1;32m    381\u001b[0m     \u001b[0;31m# build a buffer for storing evaluations of func1d.\u001b[0m\u001b[0;34m\u001b[0m\u001b[0;34m\u001b[0m\u001b[0;34m\u001b[0m\u001b[0m\n",
      "\u001b[0;32m~/miniconda3/envs/traffic/lib/python3.9/site-packages/pandas/core/window/rolling.py\u001b[0m in \u001b[0;36mcalc\u001b[0;34m(x)\u001b[0m\n\u001b[1;32m    453\u001b[0m                     \u001b[0mclosed\u001b[0m\u001b[0;34m=\u001b[0m\u001b[0mself\u001b[0m\u001b[0;34m.\u001b[0m\u001b[0mclosed\u001b[0m\u001b[0;34m,\u001b[0m\u001b[0;34m\u001b[0m\u001b[0;34m\u001b[0m\u001b[0m\n\u001b[1;32m    454\u001b[0m                 )\n\u001b[0;32m--> 455\u001b[0;31m                 \u001b[0;32mreturn\u001b[0m \u001b[0mfunc\u001b[0m\u001b[0;34m(\u001b[0m\u001b[0mx\u001b[0m\u001b[0;34m,\u001b[0m \u001b[0mstart\u001b[0m\u001b[0;34m,\u001b[0m \u001b[0mend\u001b[0m\u001b[0;34m,\u001b[0m \u001b[0mmin_periods\u001b[0m\u001b[0;34m)\u001b[0m\u001b[0;34m\u001b[0m\u001b[0;34m\u001b[0m\u001b[0m\n\u001b[0m\u001b[1;32m    456\u001b[0m \u001b[0;34m\u001b[0m\u001b[0m\n\u001b[1;32m    457\u001b[0m             \u001b[0;32mwith\u001b[0m \u001b[0mnp\u001b[0m\u001b[0;34m.\u001b[0m\u001b[0merrstate\u001b[0m\u001b[0;34m(\u001b[0m\u001b[0mall\u001b[0m\u001b[0;34m=\u001b[0m\u001b[0;34m\"ignore\"\u001b[0m\u001b[0;34m)\u001b[0m\u001b[0;34m:\u001b[0m\u001b[0;34m\u001b[0m\u001b[0;34m\u001b[0m\u001b[0m\n",
      "\u001b[0;32m~/miniconda3/envs/traffic/lib/python3.9/site-packages/pandas/core/window/rolling.py\u001b[0m in \u001b[0;36mapply_func\u001b[0;34m(values, begin, end, min_periods, raw)\u001b[0m\n\u001b[1;32m   1342\u001b[0m             \u001b[0;32mif\u001b[0m \u001b[0;32mnot\u001b[0m \u001b[0mraw\u001b[0m\u001b[0;34m:\u001b[0m\u001b[0;34m\u001b[0m\u001b[0;34m\u001b[0m\u001b[0m\n\u001b[1;32m   1343\u001b[0m                 \u001b[0mvalues\u001b[0m \u001b[0;34m=\u001b[0m \u001b[0mSeries\u001b[0m\u001b[0;34m(\u001b[0m\u001b[0mvalues\u001b[0m\u001b[0;34m,\u001b[0m \u001b[0mindex\u001b[0m\u001b[0;34m=\u001b[0m\u001b[0mself\u001b[0m\u001b[0;34m.\u001b[0m\u001b[0mobj\u001b[0m\u001b[0;34m.\u001b[0m\u001b[0mindex\u001b[0m\u001b[0;34m)\u001b[0m\u001b[0;34m\u001b[0m\u001b[0;34m\u001b[0m\u001b[0m\n\u001b[0;32m-> 1344\u001b[0;31m             \u001b[0;32mreturn\u001b[0m \u001b[0mwindow_func\u001b[0m\u001b[0;34m(\u001b[0m\u001b[0mvalues\u001b[0m\u001b[0;34m,\u001b[0m \u001b[0mbegin\u001b[0m\u001b[0;34m,\u001b[0m \u001b[0mend\u001b[0m\u001b[0;34m,\u001b[0m \u001b[0mmin_periods\u001b[0m\u001b[0;34m)\u001b[0m\u001b[0;34m\u001b[0m\u001b[0;34m\u001b[0m\u001b[0m\n\u001b[0m\u001b[1;32m   1345\u001b[0m \u001b[0;34m\u001b[0m\u001b[0m\n\u001b[1;32m   1346\u001b[0m         \u001b[0;32mreturn\u001b[0m \u001b[0mapply_func\u001b[0m\u001b[0;34m\u001b[0m\u001b[0;34m\u001b[0m\u001b[0m\n",
      "\u001b[0;32mpandas/_libs/window/aggregations.pyx\u001b[0m in \u001b[0;36mpandas._libs.window.aggregations.roll_apply\u001b[0;34m()\u001b[0m\n",
      "\u001b[0;32m/tmp/ipykernel_140950/3282700327.py\u001b[0m in \u001b[0;36mmean_on_internal_query\u001b[0;34m(df)\u001b[0m\n\u001b[1;32m     12\u001b[0m         \u001b[0;32mif\u001b[0m \u001b[0minternal_query\u001b[0m \u001b[0;32mis\u001b[0m \u001b[0;32mnot\u001b[0m \u001b[0;32mNone\u001b[0m\u001b[0;34m:\u001b[0m\u001b[0;34m\u001b[0m\u001b[0;34m\u001b[0m\u001b[0m\n\u001b[1;32m     13\u001b[0m             \u001b[0mdf\u001b[0m \u001b[0;34m=\u001b[0m \u001b[0mdep_df\u001b[0m\u001b[0;34m.\u001b[0m\u001b[0mquery\u001b[0m\u001b[0;34m(\u001b[0m\u001b[0minternal_query\u001b[0m\u001b[0;34m)\u001b[0m\u001b[0;34m\u001b[0m\u001b[0;34m\u001b[0m\u001b[0m\n\u001b[0;32m---> 14\u001b[0;31m         \u001b[0;32mreturn\u001b[0m \u001b[0mdf\u001b[0m\u001b[0;34m[\u001b[0m\u001b[0mon_col\u001b[0m\u001b[0;34m]\u001b[0m\u001b[0;34m.\u001b[0m\u001b[0mmean\u001b[0m\u001b[0;34m(\u001b[0m\u001b[0;34m)\u001b[0m\u001b[0;34m\u001b[0m\u001b[0;34m\u001b[0m\u001b[0m\n\u001b[0m\u001b[1;32m     15\u001b[0m \u001b[0;34m\u001b[0m\u001b[0m\n\u001b[1;32m     16\u001b[0m     \u001b[0;31m# Index is on_runway_time because it makes more sense to compute average\u001b[0m\u001b[0;34m\u001b[0m\u001b[0;34m\u001b[0m\u001b[0;34m\u001b[0m\u001b[0m\n",
      "\u001b[0;32m~/miniconda3/envs/traffic/lib/python3.9/site-packages/pandas/core/series.py\u001b[0m in \u001b[0;36m__getitem__\u001b[0;34m(self, key)\u001b[0m\n\u001b[1;32m    851\u001b[0m \u001b[0;34m\u001b[0m\u001b[0m\n\u001b[1;32m    852\u001b[0m         \u001b[0;32melif\u001b[0m \u001b[0mkey_is_scalar\u001b[0m\u001b[0;34m:\u001b[0m\u001b[0;34m\u001b[0m\u001b[0;34m\u001b[0m\u001b[0m\n\u001b[0;32m--> 853\u001b[0;31m             \u001b[0;32mreturn\u001b[0m \u001b[0mself\u001b[0m\u001b[0;34m.\u001b[0m\u001b[0m_get_value\u001b[0m\u001b[0;34m(\u001b[0m\u001b[0mkey\u001b[0m\u001b[0;34m)\u001b[0m\u001b[0;34m\u001b[0m\u001b[0;34m\u001b[0m\u001b[0m\n\u001b[0m\u001b[1;32m    854\u001b[0m \u001b[0;34m\u001b[0m\u001b[0m\n\u001b[1;32m    855\u001b[0m         \u001b[0;32mif\u001b[0m \u001b[0mis_hashable\u001b[0m\u001b[0;34m(\u001b[0m\u001b[0mkey\u001b[0m\u001b[0;34m)\u001b[0m\u001b[0;34m:\u001b[0m\u001b[0;34m\u001b[0m\u001b[0;34m\u001b[0m\u001b[0m\n",
      "\u001b[0;32m~/miniconda3/envs/traffic/lib/python3.9/site-packages/pandas/core/series.py\u001b[0m in \u001b[0;36m_get_value\u001b[0;34m(self, label, takeable)\u001b[0m\n\u001b[1;32m    959\u001b[0m \u001b[0;34m\u001b[0m\u001b[0m\n\u001b[1;32m    960\u001b[0m         \u001b[0;31m# Similar to Index.get_value, but we do not fall back to positional\u001b[0m\u001b[0;34m\u001b[0m\u001b[0;34m\u001b[0m\u001b[0;34m\u001b[0m\u001b[0m\n\u001b[0;32m--> 961\u001b[0;31m         \u001b[0mloc\u001b[0m \u001b[0;34m=\u001b[0m \u001b[0mself\u001b[0m\u001b[0;34m.\u001b[0m\u001b[0mindex\u001b[0m\u001b[0;34m.\u001b[0m\u001b[0mget_loc\u001b[0m\u001b[0;34m(\u001b[0m\u001b[0mlabel\u001b[0m\u001b[0;34m)\u001b[0m\u001b[0;34m\u001b[0m\u001b[0;34m\u001b[0m\u001b[0m\n\u001b[0m\u001b[1;32m    962\u001b[0m         \u001b[0;32mreturn\u001b[0m \u001b[0mself\u001b[0m\u001b[0;34m.\u001b[0m\u001b[0mindex\u001b[0m\u001b[0;34m.\u001b[0m\u001b[0m_get_values_for_loc\u001b[0m\u001b[0;34m(\u001b[0m\u001b[0mself\u001b[0m\u001b[0;34m,\u001b[0m \u001b[0mloc\u001b[0m\u001b[0;34m,\u001b[0m \u001b[0mlabel\u001b[0m\u001b[0;34m)\u001b[0m\u001b[0;34m\u001b[0m\u001b[0;34m\u001b[0m\u001b[0m\n\u001b[1;32m    963\u001b[0m \u001b[0;34m\u001b[0m\u001b[0m\n",
      "\u001b[0;32m~/miniconda3/envs/traffic/lib/python3.9/site-packages/pandas/core/indexes/datetimes.py\u001b[0m in \u001b[0;36mget_loc\u001b[0;34m(self, key, method, tolerance)\u001b[0m\n\u001b[1;32m    664\u001b[0m                 \u001b[0mkey\u001b[0m \u001b[0;34m=\u001b[0m \u001b[0mself\u001b[0m\u001b[0;34m.\u001b[0m\u001b[0m_maybe_cast_for_get_loc\u001b[0m\u001b[0;34m(\u001b[0m\u001b[0mkey\u001b[0m\u001b[0;34m)\u001b[0m\u001b[0;34m\u001b[0m\u001b[0;34m\u001b[0m\u001b[0m\n\u001b[1;32m    665\u001b[0m             \u001b[0;32mexcept\u001b[0m \u001b[0mValueError\u001b[0m \u001b[0;32mas\u001b[0m \u001b[0merr\u001b[0m\u001b[0;34m:\u001b[0m\u001b[0;34m\u001b[0m\u001b[0;34m\u001b[0m\u001b[0m\n\u001b[0;32m--> 666\u001b[0;31m                 \u001b[0;32mraise\u001b[0m \u001b[0mKeyError\u001b[0m\u001b[0;34m(\u001b[0m\u001b[0mkey\u001b[0m\u001b[0;34m)\u001b[0m \u001b[0;32mfrom\u001b[0m \u001b[0merr\u001b[0m\u001b[0;34m\u001b[0m\u001b[0;34m\u001b[0m\u001b[0m\n\u001b[0m\u001b[1;32m    667\u001b[0m \u001b[0;34m\u001b[0m\u001b[0m\n\u001b[1;32m    668\u001b[0m         \u001b[0;32melif\u001b[0m \u001b[0misinstance\u001b[0m\u001b[0;34m(\u001b[0m\u001b[0mkey\u001b[0m\u001b[0;34m,\u001b[0m \u001b[0mtimedelta\u001b[0m\u001b[0;34m)\u001b[0m\u001b[0;34m:\u001b[0m\u001b[0;34m\u001b[0m\u001b[0;34m\u001b[0m\u001b[0m\n",
      "\u001b[0;31mKeyError\u001b[0m: 'taxi_holding_time_minutes'"
     ]
    }
   ],
   "source": [
    "t_dep_df = compute_avg_duration(dep_df, time_col='first_movement_start')\n",
    "t_dep_df"
   ]
  },
  {
   "cell_type": "code",
   "execution_count": 176,
   "id": "26ab2cc4-483e-49b3-8979-4ef1dc262f37",
   "metadata": {
    "execution": {
     "iopub.execute_input": "2021-07-23T14:52:01.015833Z",
     "iopub.status.busy": "2021-07-23T14:52:01.015170Z",
     "iopub.status.idle": "2021-07-23T14:52:01.029030Z",
     "shell.execute_reply": "2021-07-23T14:52:01.028509Z",
     "shell.execute_reply.started": "2021-07-23T14:52:01.015806Z"
    },
    "tags": []
   },
   "outputs": [
    {
     "name": "stdout",
     "output_type": "stream",
     "text": [
      "<class 'pandas.core.frame.DataFrame'>\n",
      "Int64Index: 16458 entries, 0 to 35529\n",
      "Data columns (total 3 columns):\n",
      " #   Column                     Non-Null Count  Dtype  \n",
      "---  ------                     --------------  -----  \n",
      " 0   taxi_holding_time_minutes  16458 non-null  float64\n",
      " 1   avg_delay_30min            8587 non-null   float64\n",
      " 2   avg_delay_in30min          8642 non-null   float64\n",
      "dtypes: float64(3)\n",
      "memory usage: 514.3 KB\n"
     ]
    }
   ],
   "source": [
    "dep_df[[\"taxi_holding_time_minutes\", \"avg_delay_30min\", \"avg_delay_in30min\"]].info()"
   ]
  },
  {
   "cell_type": "code",
   "execution_count": 170,
   "id": "e2e45971-e49a-42dd-a7b1-29fcf00cd904",
   "metadata": {
    "execution": {
     "iopub.execute_input": "2021-07-23T14:23:58.361185Z",
     "iopub.status.busy": "2021-07-23T14:23:58.360450Z",
     "iopub.status.idle": "2021-07-23T14:23:58.423744Z",
     "shell.execute_reply": "2021-07-23T14:23:58.423043Z",
     "shell.execute_reply.started": "2021-07-23T14:23:58.361136Z"
    },
    "tags": []
   },
   "outputs": [
    {
     "name": "stdout",
     "output_type": "stream",
     "text": [
      "<class 'pandas.core.frame.DataFrame'>\n",
      "Int64Index: 7198 entries, 0 to 7197\n",
      "Data columns (total 3 columns):\n",
      " #   Column                Non-Null Count  Dtype              \n",
      "---  ------                --------------  -----              \n",
      " 0   first_movement_start  7198 non-null   datetime64[ns, UTC]\n",
      " 1   avg_delay_30min       7198 non-null   float64            \n",
      " 2   nextAvgDelay          6181 non-null   float64            \n",
      "dtypes: datetime64[ns, UTC](1), float64(2)\n",
      "memory usage: 224.9 KB\n"
     ]
    }
   ],
   "source": [
    "assign_next_avg_delay(\n",
    "    dep_df, avg_delay_col=\"avg_delay_30min\", tolerance=pd.Timedelta(\"10T\")\n",
    ")[[\"first_movement_start\", \"avg_delay_30min\", \"nextAvgDelay\"]].info()"
   ]
  },
  {
   "cell_type": "code",
   "execution_count": null,
   "id": "3b41287f-bfd6-495e-b03f-0e0d8faaa71e",
   "metadata": {},
   "outputs": [],
   "source": [
    "def f_test(df):\n",
    "    \"\"\" Takes a dataframe resulting from a rolling window and compute average \"\"\"\n",
    "\n",
    "dep_arr_df.sort_values('first_movement_start').set_index('first_movement_start').rolling(\"30T\", closed='left').agg(f_test)"
   ]
  },
  {
   "cell_type": "markdown",
   "id": "27071185-3993-4c56-b982-7e2f77df1f6e",
   "metadata": {},
   "source": [
    "# Feature sets"
   ]
  },
  {
   "cell_type": "code",
   "execution_count": 312,
   "id": "01839286-d79a-4c4b-bded-dfb1db05d24f",
   "metadata": {
    "execution": {
     "iopub.execute_input": "2021-07-26T09:08:54.328377Z",
     "iopub.status.busy": "2021-07-26T09:08:54.327861Z",
     "iopub.status.idle": "2021-07-26T09:08:54.386546Z",
     "shell.execute_reply": "2021-07-26T09:08:54.385684Z",
     "shell.execute_reply.started": "2021-07-26T09:08:54.328350Z"
    },
    "tags": []
   },
   "outputs": [],
   "source": [
    "dict_feature_sets = {}\n",
    "dict_feature_sets[\"target_cols\"] = [\n",
    "    \"taxi_holding_time_minutes\",\n",
    "    \"total_holding_time_minutes\",\n",
    "    \"real_dur_minutes\",\n",
    "    \"avg_delay_30min\",\n",
    "    \"avg_delay_30min_all_trajs\",\n",
    "    \"avg_delay_in30min\",\n",
    "    \"avg_delay_in60min\",\n",
    "    \"avg_delay_in90min\",\n",
    "    \"avg_delay_in30min_cat\",\n",
    "    \"avg_delay_in60min_cat\",\n",
    "    \"avg_delay_in90min_cat\",\n",
    "    \"taxi_holding_time_minutes_cat\",\n",
    "]\n",
    "dict_feature_sets[\"taxi_geom_cols\"] = [\"taxi_dist\", \"angle_sum\"]\n",
    "dict_feature_sets[\"leaving_gate_cols\"] = [\"turnaround_minutes\", \"sifi_DEP\", \"sifi_ARR\"]\n",
    "dict_feature_sets[\"additional_cols\"] = [\"max_turnaround_minutes_last30T\", \"hh_num\"]\n",
    "dict_feature_sets[\"one_hot_flight_rel\"] = [\n",
    "    \"H\",\n",
    "    \"L\",\n",
    "    \"L/M\",\n",
    "    \"M\",\n",
    "    \"runway_10\",\n",
    "    \"runway_14\",\n",
    "    \"runway_16\",\n",
    "    \"runway_28\",\n",
    "    \"runway_32\",\n",
    "    \"runway_34\",\n",
    "]\n",
    "dict_feature_sets[\"wtc_counts_ratios\"] = [\n",
    "    \"H_count\",\n",
    "    \"L_count\",\n",
    "    \"L/M_count\",\n",
    "    \"M_count\",\n",
    "    \"H_count_ratio\",\n",
    "    \"L_count_ratio\",\n",
    "    \"L/M_count_ratio\",\n",
    "    \"M_count_ratio\",\n",
    "]\n",
    "dict_feature_sets[\"twy_occ_cols\"] = [\n",
    "    \"H_occ\",\n",
    "    \"K_occ\",\n",
    "    \"B_occ\",\n",
    "    \"F_occ\",\n",
    "    \"L_occ\",\n",
    "    \"J_occ\",\n",
    "    \"E_occ\",\n",
    "    \"D_occ\",\n",
    "    \"C_occ\",\n",
    "    \"N_occ\",\n",
    "    \"A_occ\",\n",
    "    \"M_occ\",\n",
    "    \"Y_occ\",\n",
    "    \"R_occ\",\n",
    "    \"G_occ\",\n",
    "    \"Z_occ\",\n",
    "    \"P_occ\",\n",
    "    \"twy_pca_0\",\n",
    "    \"twy_pca_1\",\n",
    "    \"twy_pca_2\",\n",
    "]\n",
    "dict_feature_sets[\"aqlis_scfis_cols\"] = [\n",
    "    \"aqli_DEP\",\n",
    "    \"scfi_DEP\",\n",
    "    \"aqli_ARR\",\n",
    "    \"scfi_ARR\",\n",
    "    \"mean_sifi_DEP_last30T\",\n",
    "    \"mean_sifi_ARR_last30T\",\n",
    "    \"mean_aqli_DEP_last30T\",\n",
    "    \"mean_scfi_DEP_last30T\",\n",
    "    \"mean_aqli_ARR_last30T\",\n",
    "    \"mean_scfi_ARR_last30T\",\n",
    "]\n",
    "dict_feature_sets[\"weather_cols\"] = [\n",
    "    \"press\",\n",
    "    \"temp\",\n",
    "    \"atmap_visibility\",\n",
    "    \"atmap_wind\",\n",
    "    \"atmap_precipitation\",\n",
    "    \"atmap_freezing\",\n",
    "    \"atmap_danger\",\n",
    "    \"atmap_score\",\n",
    "]\n",
    "dict_feature_sets[\"apt_congest_cols\"] = [\n",
    "    \"nominal\",\n",
    "    \"busy\",\n",
    "    \"disrupted\",\n",
    "    \"not_nom_arrival_ratio\",\n",
    "    \"nb_arr\",\n",
    "    \"nb_dep\",\n",
    "    \"nb\",\n",
    "    \"avg_speed_last30T\",\n",
    "    \"avg_speed_last15T\",\n",
    "    \"config_EAST\",\n",
    "    \"config_NORTH0\",\n",
    "    \"config_NORTH1\",\n",
    "    \"config_SOUTH\",\n",
    "]\n",
    "\n",
    "dict_feature_sets[\"taxi_profile_cols\"] = [\"avg_speed\"]"
   ]
  },
  {
   "cell_type": "code",
   "execution_count": 311,
   "id": "cb83a50c-b618-488a-8966-f8a8d156b15e",
   "metadata": {
    "execution": {
     "iopub.execute_input": "2021-07-26T09:01:51.580571Z",
     "iopub.status.busy": "2021-07-26T09:01:51.579554Z",
     "iopub.status.idle": "2021-07-26T09:01:51.607710Z",
     "shell.execute_reply": "2021-07-26T09:01:51.606591Z",
     "shell.execute_reply.started": "2021-07-26T09:01:51.580518Z"
    },
    "tags": []
   },
   "outputs": [],
   "source": [
    "main_feature_sets = dict(\n",
    "    wang_all=dict_feature_sets[\"taxi_geom_cols\"]\n",
    "    + dict_feature_sets[\"leaving_gate_cols\"]\n",
    "    + dict_feature_sets[\"additional_cols\"]\n",
    "    + dict_feature_sets[\"one_hot_flight_rel\"]\n",
    "    + dict_feature_sets[\"wtc_counts_ratios\"]\n",
    "    + dict_feature_sets[\"twy_occ_cols\"]\n",
    "    + dict_feature_sets[\"aqlis_scfis_cols\"]\n",
    "    + dict_feature_sets[\"weather_cols\"]\n",
    "    + dict_feature_sets[\"apt_congest_cols\"]\n",
    "    + [\"DEP\"],\n",
    "    wang_noaqlis=dict_feature_sets[\"taxi_geom_cols\"]\n",
    "    + dict_feature_sets[\"leaving_gate_cols\"]\n",
    "    + dict_feature_sets[\"additional_cols\"]\n",
    "    + dict_feature_sets[\"one_hot_flight_rel\"]\n",
    "    + dict_feature_sets[\"wtc_counts_ratios\"]\n",
    "    + dict_feature_sets[\"twy_occ_cols\"]\n",
    "    + dict_feature_sets[\"weather_cols\"]\n",
    "    + dict_feature_sets[\"apt_congest_cols\"]\n",
    "    + [\"DEP\"],\n",
    "    wang_few=[\"taxi_dist\", \"angle_sum\", \"DEP\", \"temp\", \"sifi_DEP\"],\n",
    "    # For prediction of average delay : no flight specific feature\n",
    "    avg_delay_pred=  # dict_feature_sets[\"taxi_geom_cols\"]\n",
    "    # + dict_feature_sets[\"leaving_gate_cols\"]\n",
    "    dict_feature_sets[\"additional_cols\"]  # max turnaround 30 min is ok\n",
    "    # + dict_feature_sets[\"one_hot_flight_rel\"]\n",
    "    + dict_feature_sets[\"wtc_counts_ratios\"]\n",
    "    + dict_feature_sets[\"twy_occ_cols\"]\n",
    "    + dict_feature_sets[\"weather_cols\"]\n",
    "    + dict_feature_sets[\"apt_congest_cols\"],\n",
    "    # + [\"DEP\"], we know it is a departure\n",
    ")\n",
    "\n",
    "main_feature_sets[\"avg_delay_pred_with_prevAvgDelay\"] = main_feature_sets[\n",
    "    \"avg_delay_pred\"\n",
    "] + [\"avg_delay_30min\"]"
   ]
  },
  {
   "cell_type": "code",
   "execution_count": 288,
   "id": "08ffdef4-aa41-45a7-8374-b8e853701603",
   "metadata": {
    "execution": {
     "iopub.execute_input": "2021-07-26T06:29:52.675886Z",
     "iopub.status.busy": "2021-07-26T06:29:52.675195Z",
     "iopub.status.idle": "2021-07-26T06:29:52.681521Z",
     "shell.execute_reply": "2021-07-26T06:29:52.680912Z",
     "shell.execute_reply.started": "2021-07-26T06:29:52.675852Z"
    },
    "tags": []
   },
   "outputs": [
    {
     "data": {
      "text/plain": [
       "51"
      ]
     },
     "execution_count": 288,
     "metadata": {},
     "output_type": "execute_result"
    }
   ],
   "source": [
    "len(main_feature_sets[\"avg_delay_pred\"])"
   ]
  },
  {
   "cell_type": "code",
   "execution_count": 40,
   "id": "33b3afb4-b02b-4edc-9127-a43b7897fd34",
   "metadata": {
    "execution": {
     "iopub.execute_input": "2021-07-21T14:03:15.011787Z",
     "iopub.status.busy": "2021-07-21T14:03:15.011325Z",
     "iopub.status.idle": "2021-07-21T14:03:15.046594Z",
     "shell.execute_reply": "2021-07-21T14:03:15.045964Z",
     "shell.execute_reply.started": "2021-07-21T14:03:15.011761Z"
    },
    "tags": []
   },
   "outputs": [
    {
     "name": "stdout",
     "output_type": "stream",
     "text": [
      "<class 'pandas.core.frame.DataFrame'>\n",
      "Int64Index: 11499 entries, 4 to 35528\n",
      "Data columns (total 76 columns):\n",
      " #   Column                          Non-Null Count  Dtype  \n",
      "---  ------                          --------------  -----  \n",
      " 0   taxi_dist                       11499 non-null  float64\n",
      " 1   angle_sum                       11495 non-null  float64\n",
      " 2   turnaround_minutes              7198 non-null   float64\n",
      " 3   sifi_DEP                        6113 non-null   float64\n",
      " 4   sifi_ARR                        6113 non-null   float64\n",
      " 5   max_turnaround_minutes_last30T  4866 non-null   float64\n",
      " 6   H                               11499 non-null  uint8  \n",
      " 7   L                               11499 non-null  uint8  \n",
      " 8   L/M                             11499 non-null  uint8  \n",
      " 9   M                               11499 non-null  uint8  \n",
      " 10  runway_10                       11499 non-null  uint8  \n",
      " 11  runway_14                       11499 non-null  uint8  \n",
      " 12  runway_16                       11499 non-null  uint8  \n",
      " 13  runway_28                       11499 non-null  uint8  \n",
      " 14  runway_32                       11499 non-null  uint8  \n",
      " 15  runway_34                       11499 non-null  uint8  \n",
      " 16  config_EAST                     11499 non-null  uint8  \n",
      " 17  config_NORTH0                   11499 non-null  uint8  \n",
      " 18  config_NORTH1                   11499 non-null  uint8  \n",
      " 19  config_SOUTH                    11499 non-null  uint8  \n",
      " 20  H_count                         11499 non-null  float64\n",
      " 21  L_count                         11499 non-null  float64\n",
      " 22  L/M_count                       11499 non-null  float64\n",
      " 23  M_count                         11499 non-null  float64\n",
      " 24  H_count_ratio                   11487 non-null  float64\n",
      " 25  L_count_ratio                   11487 non-null  float64\n",
      " 26  L/M_count_ratio                 11487 non-null  float64\n",
      " 27  M_count_ratio                   11487 non-null  float64\n",
      " 28  H_occ                           11499 non-null  float64\n",
      " 29  K_occ                           11499 non-null  float64\n",
      " 30  B_occ                           11499 non-null  float64\n",
      " 31  F_occ                           11499 non-null  float64\n",
      " 32  L_occ                           11499 non-null  float64\n",
      " 33  J_occ                           11499 non-null  float64\n",
      " 34  E_occ                           11499 non-null  float64\n",
      " 35  D_occ                           11499 non-null  float64\n",
      " 36  C_occ                           11499 non-null  float64\n",
      " 37  N_occ                           11499 non-null  float64\n",
      " 38  A_occ                           11499 non-null  float64\n",
      " 39  M_occ                           11499 non-null  float64\n",
      " 40  Y_occ                           11499 non-null  float64\n",
      " 41  R_occ                           11499 non-null  float64\n",
      " 42  G_occ                           11499 non-null  float64\n",
      " 43  Z_occ                           11499 non-null  float64\n",
      " 44  P_occ                           11499 non-null  float64\n",
      " 45  twy_pca_0                       11499 non-null  float64\n",
      " 46  twy_pca_1                       11499 non-null  float64\n",
      " 47  twy_pca_2                       11499 non-null  float64\n",
      " 48  aqli_DEP                        11499 non-null  float64\n",
      " 49  scfi_DEP                        11499 non-null  float64\n",
      " 50  aqli_ARR                        11499 non-null  float64\n",
      " 51  scfi_ARR                        11499 non-null  float64\n",
      " 52  mean_sifi_DEP_last30T           7642 non-null   float64\n",
      " 53  mean_sifi_ARR_last30T           7642 non-null   float64\n",
      " 54  mean_aqli_DEP_last30T           7776 non-null   float64\n",
      " 55  mean_scfi_DEP_last30T           7776 non-null   float64\n",
      " 56  mean_aqli_ARR_last30T           7776 non-null   float64\n",
      " 57  mean_scfi_ARR_last30T           7776 non-null   float64\n",
      " 58  press                           10788 non-null  float64\n",
      " 59  temp                            10788 non-null  float64\n",
      " 60  atmap_visibility                11499 non-null  int64  \n",
      " 61  atmap_wind                      11499 non-null  int64  \n",
      " 62  atmap_precipitation             11499 non-null  int64  \n",
      " 63  atmap_freezing                  11499 non-null  int64  \n",
      " 64  atmap_danger                    11499 non-null  int64  \n",
      " 65  atmap_score                     11499 non-null  float64\n",
      " 66  nominal                         11363 non-null  float64\n",
      " 67  busy                            11363 non-null  float64\n",
      " 68  disrupted                       11363 non-null  float64\n",
      " 69  not_nom_arrival_ratio           11353 non-null  float64\n",
      " 70  nb_arr                          11487 non-null  float64\n",
      " 71  nb_dep                          11487 non-null  float64\n",
      " 72  nb                              11487 non-null  float64\n",
      " 73  avg_speed_last30T               6708 non-null   float64\n",
      " 74  avg_speed_last15T               5884 non-null   float64\n",
      " 75  DEP                             11499 non-null  int64  \n",
      "dtypes: float64(56), int64(6), uint8(14)\n",
      "memory usage: 5.7 MB\n"
     ]
    }
   ],
   "source": [
    "dep_arr_df.query(\"parking_position==parking_position\")[\n",
    "    main_feature_sets[\"wang_all\"]\n",
    "].info()"
   ]
  },
  {
   "cell_type": "code",
   "execution_count": 65,
   "id": "f896bef8-21a0-499f-9a81-e5a179d8e40f",
   "metadata": {
    "execution": {
     "iopub.execute_input": "2021-07-22T07:20:40.430488Z",
     "iopub.status.busy": "2021-07-22T07:20:40.430220Z",
     "iopub.status.idle": "2021-07-22T07:21:14.045161Z",
     "shell.execute_reply": "2021-07-22T07:21:14.044377Z",
     "shell.execute_reply.started": "2021-07-22T07:20:40.430466Z"
    },
    "tags": []
   },
   "outputs": [
    {
     "name": "stdout",
     "output_type": "stream",
     "text": [
      "Results for Random Forest on the following features :\n",
      "taxi_dist angle_sum turnaround_minutes sifi_DEP sifi_ARR max_turnaround_minutes_last30T H L L/M M runway_10 runway_14 runway_16 runway_28 runway_32 runway_34 config_EAST config_NORTH0 config_NORTH1 config_SOUTH H_count L_count L/M_count M_count H_count_ratio L_count_ratio L/M_count_ratio M_count_ratio H_occ K_occ B_occ F_occ L_occ J_occ E_occ D_occ C_occ N_occ A_occ M_occ Y_occ R_occ G_occ Z_occ P_occ twy_pca_0 twy_pca_1 twy_pca_2 aqli_DEP scfi_DEP aqli_ARR scfi_ARR mean_sifi_DEP_last30T mean_sifi_ARR_last30T mean_aqli_DEP_last30T mean_scfi_DEP_last30T mean_aqli_ARR_last30T mean_scfi_ARR_last30T press temp atmap_visibility atmap_wind atmap_precipitation atmap_freezing atmap_danger atmap_score nominal busy disrupted not_nom_arrival_ratio nb_arr nb_dep nb avg_speed_last30T avg_speed_last15T DEP\n",
      "Target var : avg_delay_in60min\n",
      "Selecting the subset with following query : \n",
      "parking_position==parking_position & mvt_type=='DEP'\n",
      "mae=\t1.5128401232640307\n",
      "mse=\t4.12079061913432\n",
      "rmse=\t2.0299730587213025\n",
      "acc1min=42.31578947368421\n",
      "acc3min=88.7719298245614\n",
      "acc5min=98.10526315789474\n",
      "R2=\t0.31468084032411026\n",
      "n_sample training : 5696\n",
      "n_sample test : 1425\n",
      "n_sample_tot=7121\n",
      "\n"
     ]
    },
    {
     "data": {
      "text/html": [
       "\n",
       "<div id=\"altair-viz-254951bb83f14960800fda869508747a\"></div>\n",
       "<script type=\"text/javascript\">\n",
       "  (function(spec, embedOpt){\n",
       "    let outputDiv = document.currentScript.previousElementSibling;\n",
       "    if (outputDiv.id !== \"altair-viz-254951bb83f14960800fda869508747a\") {\n",
       "      outputDiv = document.getElementById(\"altair-viz-254951bb83f14960800fda869508747a\");\n",
       "    }\n",
       "    const paths = {\n",
       "      \"vega\": \"https://cdn.jsdelivr.net/npm//vega@5?noext\",\n",
       "      \"vega-lib\": \"https://cdn.jsdelivr.net/npm//vega-lib?noext\",\n",
       "      \"vega-lite\": \"https://cdn.jsdelivr.net/npm//vega-lite@4.8.1?noext\",\n",
       "      \"vega-embed\": \"https://cdn.jsdelivr.net/npm//vega-embed@6?noext\",\n",
       "    };\n",
       "\n",
       "    function loadScript(lib) {\n",
       "      return new Promise(function(resolve, reject) {\n",
       "        var s = document.createElement('script');\n",
       "        s.src = paths[lib];\n",
       "        s.async = true;\n",
       "        s.onload = () => resolve(paths[lib]);\n",
       "        s.onerror = () => reject(`Error loading script: ${paths[lib]}`);\n",
       "        document.getElementsByTagName(\"head\")[0].appendChild(s);\n",
       "      });\n",
       "    }\n",
       "\n",
       "    function showError(err) {\n",
       "      outputDiv.innerHTML = `<div class=\"error\" style=\"color:red;\">${err}</div>`;\n",
       "      throw err;\n",
       "    }\n",
       "\n",
       "    function displayChart(vegaEmbed) {\n",
       "      vegaEmbed(outputDiv, spec, embedOpt)\n",
       "        .catch(err => showError(`Javascript Error: ${err.message}<br>This usually means there's a typo in your chart specification. See the javascript console for the full traceback.`));\n",
       "    }\n",
       "\n",
       "    if(typeof define === \"function\" && define.amd) {\n",
       "      requirejs.config({paths});\n",
       "      require([\"vega-embed\"], displayChart, err => showError(`Error loading script: ${err.message}`));\n",
       "    } else if (typeof vegaEmbed === \"function\") {\n",
       "      displayChart(vegaEmbed);\n",
       "    } else {\n",
       "      loadScript(\"vega\")\n",
       "        .then(() => loadScript(\"vega-lite\"))\n",
       "        .then(() => loadScript(\"vega-embed\"))\n",
       "        .catch(showError)\n",
       "        .then(() => displayChart(vegaEmbed));\n",
       "    }\n",
       "  })({\"config\": {\"view\": {\"continuousWidth\": 400, \"continuousHeight\": 300, \"stroke\": null}, \"axis\": {\"labelFont\": \"Ubuntu\", \"labelFontSize\": 15, \"titleFont\": \"Fira Sans\", \"titleFontSize\": 16}, \"header\": {\"labelFont\": \"Ubuntu\", \"labelFontSize\": 18, \"labelOrient\": \"top\"}, \"legend\": {\"labelFont\": \"Ubuntu\", \"labelFontSize\": 14, \"orient\": \"bottom\", \"titleFontSize\": 14}, \"title\": {\"anchor\": \"start\", \"dy\": -10, \"font\": \"Fira Sans\", \"fontSize\": 18}}, \"data\": {\"name\": \"data-8ed893985f4e6553e0fd9f9a88b4365d\"}, \"mark\": \"bar\", \"encoding\": {\"x\": {\"type\": \"quantitative\", \"field\": \"importance\"}, \"y\": {\"type\": \"nominal\", \"field\": \"feature\", \"sort\": \"-x\"}}, \"transform\": [{\"window\": [{\"op\": \"rank\", \"field\": \"importance\", \"as\": \"rank\"}], \"sort\": [{\"field\": \"importance\", \"order\": \"descending\"}]}, {\"filter\": \"(datum.rank < 20)\"}], \"width\": 200, \"$schema\": \"https://vega.github.io/schema/vega-lite/v4.8.1.json\", \"datasets\": {\"data-8ed893985f4e6553e0fd9f9a88b4365d\": [{\"feature\": \"DEP\", \"importance\": 0.0}, {\"feature\": \"mean_sifi_ARR_last30T\", \"importance\": 0.0}, {\"feature\": \"sifi_ARR\", \"importance\": 0.0}, {\"feature\": \"config_NORTH1\", \"importance\": 0.0}, {\"feature\": \"L\", \"importance\": 0.0}, {\"feature\": \"L/M\", \"importance\": 0.0}, {\"feature\": \"P_occ\", \"importance\": 7.781292529987607e-05}, {\"feature\": \"runway_14\", \"importance\": 0.00021767461859340507}, {\"feature\": \"atmap_danger\", \"importance\": 0.00023050830550546856}, {\"feature\": \"L/M_count\", \"importance\": 0.0002923697256281992}, {\"feature\": \"runway_34\", \"importance\": 0.00035308126329389395}, {\"feature\": \"runway_10\", \"importance\": 0.00042300248504721725}, {\"feature\": \"L/M_count_ratio\", \"importance\": 0.0005636304049828952}, {\"feature\": \"R_occ\", \"importance\": 0.0005637388256814982}, {\"feature\": \"Y_occ\", \"importance\": 0.0007654118479292602}, {\"feature\": \"L_count\", \"importance\": 0.0008334597897996584}, {\"feature\": \"L_occ\", \"importance\": 0.0008573335537669618}, {\"feature\": \"H\", \"importance\": 0.0009563703488654457}, {\"feature\": \"atmap_visibility\", \"importance\": 0.000988660034246919}, {\"feature\": \"runway_16\", \"importance\": 0.001008688076296435}, {\"feature\": \"config_NORTH0\", \"importance\": 0.0011021535132410662}, {\"feature\": \"atmap_freezing\", \"importance\": 0.0013556159860729832}, {\"feature\": \"atmap_wind\", \"importance\": 0.001364298751380414}, {\"feature\": \"M\", \"importance\": 0.0014141501672646553}, {\"feature\": \"config_SOUTH\", \"importance\": 0.0018387087704696073}, {\"feature\": \"atmap_precipitation\", \"importance\": 0.0021858686309847554}, {\"feature\": \"G_occ\", \"importance\": 0.002321076922200391}, {\"feature\": \"runway_28\", \"importance\": 0.002632068587651161}, {\"feature\": \"M_occ\", \"importance\": 0.0027899727836859472}, {\"feature\": \"runway_32\", \"importance\": 0.002790789323806407}, {\"feature\": \"D_occ\", \"importance\": 0.0032504934848093603}, {\"feature\": \"Z_occ\", \"importance\": 0.0035288556422948605}, {\"feature\": \"atmap_score\", \"importance\": 0.003877286395298757}, {\"feature\": \"C_occ\", \"importance\": 0.00396497933126353}, {\"feature\": \"busy\", \"importance\": 0.004157664907115578}, {\"feature\": \"L_count_ratio\", \"importance\": 0.0045188681145959565}, {\"feature\": \"J_occ\", \"importance\": 0.004610045998477328}, {\"feature\": \"K_occ\", \"importance\": 0.004986441182608967}, {\"feature\": \"F_occ\", \"importance\": 0.005810278309472889}, {\"feature\": \"E_occ\", \"importance\": 0.006956796827994305}, {\"feature\": \"H_occ\", \"importance\": 0.0069620506584459445}, {\"feature\": \"H_count\", \"importance\": 0.00747237920529153}, {\"feature\": \"scfi_ARR\", \"importance\": 0.007814368049306915}, {\"feature\": \"aqli_DEP\", \"importance\": 0.008118394503149402}, {\"feature\": \"B_occ\", \"importance\": 0.00831076295501981}, {\"feature\": \"aqli_ARR\", \"importance\": 0.008365283012220807}, {\"feature\": \"A_occ\", \"importance\": 0.009083644432849555}, {\"feature\": \"disrupted\", \"importance\": 0.009351389017193923}, {\"feature\": \"not_nom_arrival_ratio\", \"importance\": 0.010413102256964697}, {\"feature\": \"N_occ\", \"importance\": 0.013311165647755568}, {\"feature\": \"sifi_DEP\", \"importance\": 0.015901946991023354}, {\"feature\": \"config_EAST\", \"importance\": 0.017949177368233777}, {\"feature\": \"mean_aqli_ARR_last30T\", \"importance\": 0.019403902392795935}, {\"feature\": \"mean_scfi_ARR_last30T\", \"importance\": 0.01974751212629244}, {\"feature\": \"nb_dep\", \"importance\": 0.020112682853358828}, {\"feature\": \"M_count\", \"importance\": 0.020234436372994852}, {\"feature\": \"nb\", \"importance\": 0.02046541888439004}, {\"feature\": \"mean_aqli_DEP_last30T\", \"importance\": 0.023174709141969934}, {\"feature\": \"mean_scfi_DEP_last30T\", \"importance\": 0.023588703443532647}, {\"feature\": \"mean_sifi_DEP_last30T\", \"importance\": 0.024009734263475694}, {\"feature\": \"scfi_DEP\", \"importance\": 0.02440795322269635}, {\"feature\": \"nb_arr\", \"importance\": 0.025669146179464968}, {\"feature\": \"angle_sum\", \"importance\": 0.028607698361347578}, {\"feature\": \"nominal\", \"importance\": 0.029674657305411616}, {\"feature\": \"taxi_dist\", \"importance\": 0.029765428930756548}, {\"feature\": \"turnaround_minutes\", \"importance\": 0.030403524760790276}, {\"feature\": \"M_count_ratio\", \"importance\": 0.03247542092928491}, {\"feature\": \"H_count_ratio\", \"importance\": 0.03368663899202794}, {\"feature\": \"avg_speed_last15T\", \"importance\": 0.035957861790524105}, {\"feature\": \"twy_pca_2\", \"importance\": 0.03742691362873079}, {\"feature\": \"twy_pca_1\", \"importance\": 0.03993846407452354}, {\"feature\": \"avg_speed_last30T\", \"importance\": 0.0459923477459138}, {\"feature\": \"twy_pca_0\", \"importance\": 0.04716190688747062}, {\"feature\": \"press\", \"importance\": 0.05215760277935972}, {\"feature\": \"temp\", \"importance\": 0.06329713084878823}, {\"feature\": \"max_turnaround_minutes_last30T\", \"importance\": 0.07599838415101741}]}}, {\"mode\": \"vega-lite\"});\n",
       "</script>"
      ],
      "text/plain": [
       "alt.Chart(...)"
      ]
     },
     "metadata": {},
     "output_type": "display_data"
    },
    {
     "name": "stdout",
     "output_type": "stream",
     "text": [
      "Results for Random Forest on the following features :\n",
      "taxi_dist angle_sum turnaround_minutes sifi_DEP sifi_ARR max_turnaround_minutes_last30T H L L/M M runway_10 runway_14 runway_16 runway_28 runway_32 runway_34 config_EAST config_NORTH0 config_NORTH1 config_SOUTH H_count L_count L/M_count M_count H_count_ratio L_count_ratio L/M_count_ratio M_count_ratio H_occ K_occ B_occ F_occ L_occ J_occ E_occ D_occ C_occ N_occ A_occ M_occ Y_occ R_occ G_occ Z_occ P_occ twy_pca_0 twy_pca_1 twy_pca_2 press temp atmap_visibility atmap_wind atmap_precipitation atmap_freezing atmap_danger atmap_score nominal busy disrupted not_nom_arrival_ratio nb_arr nb_dep nb avg_speed_last30T avg_speed_last15T DEP\n",
      "Target var : avg_delay_in60min\n",
      "Selecting the subset with following query : \n",
      "parking_position==parking_position & mvt_type=='DEP'\n",
      "mae=\t1.4943512083759434\n",
      "mse=\t4.062227371039784\n",
      "rmse=\t2.0154968050185005\n",
      "acc1min=43.228070175438596\n",
      "acc3min=88.70175438596492\n",
      "acc5min=98.10526315789474\n",
      "R2=\t0.3244203587033454\n",
      "n_sample training : 5696\n",
      "n_sample test : 1425\n",
      "n_sample_tot=7121\n",
      "\n"
     ]
    },
    {
     "data": {
      "text/html": [
       "\n",
       "<div id=\"altair-viz-e426a0a8f3dc406e95955fbbe6524b40\"></div>\n",
       "<script type=\"text/javascript\">\n",
       "  (function(spec, embedOpt){\n",
       "    let outputDiv = document.currentScript.previousElementSibling;\n",
       "    if (outputDiv.id !== \"altair-viz-e426a0a8f3dc406e95955fbbe6524b40\") {\n",
       "      outputDiv = document.getElementById(\"altair-viz-e426a0a8f3dc406e95955fbbe6524b40\");\n",
       "    }\n",
       "    const paths = {\n",
       "      \"vega\": \"https://cdn.jsdelivr.net/npm//vega@5?noext\",\n",
       "      \"vega-lib\": \"https://cdn.jsdelivr.net/npm//vega-lib?noext\",\n",
       "      \"vega-lite\": \"https://cdn.jsdelivr.net/npm//vega-lite@4.8.1?noext\",\n",
       "      \"vega-embed\": \"https://cdn.jsdelivr.net/npm//vega-embed@6?noext\",\n",
       "    };\n",
       "\n",
       "    function loadScript(lib) {\n",
       "      return new Promise(function(resolve, reject) {\n",
       "        var s = document.createElement('script');\n",
       "        s.src = paths[lib];\n",
       "        s.async = true;\n",
       "        s.onload = () => resolve(paths[lib]);\n",
       "        s.onerror = () => reject(`Error loading script: ${paths[lib]}`);\n",
       "        document.getElementsByTagName(\"head\")[0].appendChild(s);\n",
       "      });\n",
       "    }\n",
       "\n",
       "    function showError(err) {\n",
       "      outputDiv.innerHTML = `<div class=\"error\" style=\"color:red;\">${err}</div>`;\n",
       "      throw err;\n",
       "    }\n",
       "\n",
       "    function displayChart(vegaEmbed) {\n",
       "      vegaEmbed(outputDiv, spec, embedOpt)\n",
       "        .catch(err => showError(`Javascript Error: ${err.message}<br>This usually means there's a typo in your chart specification. See the javascript console for the full traceback.`));\n",
       "    }\n",
       "\n",
       "    if(typeof define === \"function\" && define.amd) {\n",
       "      requirejs.config({paths});\n",
       "      require([\"vega-embed\"], displayChart, err => showError(`Error loading script: ${err.message}`));\n",
       "    } else if (typeof vegaEmbed === \"function\") {\n",
       "      displayChart(vegaEmbed);\n",
       "    } else {\n",
       "      loadScript(\"vega\")\n",
       "        .then(() => loadScript(\"vega-lite\"))\n",
       "        .then(() => loadScript(\"vega-embed\"))\n",
       "        .catch(showError)\n",
       "        .then(() => displayChart(vegaEmbed));\n",
       "    }\n",
       "  })({\"config\": {\"view\": {\"continuousWidth\": 400, \"continuousHeight\": 300, \"stroke\": null}, \"axis\": {\"labelFont\": \"Ubuntu\", \"labelFontSize\": 15, \"titleFont\": \"Fira Sans\", \"titleFontSize\": 16}, \"header\": {\"labelFont\": \"Ubuntu\", \"labelFontSize\": 18, \"labelOrient\": \"top\"}, \"legend\": {\"labelFont\": \"Ubuntu\", \"labelFontSize\": 14, \"orient\": \"bottom\", \"titleFontSize\": 14}, \"title\": {\"anchor\": \"start\", \"dy\": -10, \"font\": \"Fira Sans\", \"fontSize\": 18}}, \"data\": {\"name\": \"data-da22715740f21c78e85407ee12fd2bc9\"}, \"mark\": \"bar\", \"encoding\": {\"x\": {\"type\": \"quantitative\", \"field\": \"importance\"}, \"y\": {\"type\": \"nominal\", \"field\": \"feature\", \"sort\": \"-x\"}}, \"transform\": [{\"window\": [{\"op\": \"rank\", \"field\": \"importance\", \"as\": \"rank\"}], \"sort\": [{\"field\": \"importance\", \"order\": \"descending\"}]}, {\"filter\": \"(datum.rank < 20)\"}], \"width\": 200, \"$schema\": \"https://vega.github.io/schema/vega-lite/v4.8.1.json\", \"datasets\": {\"data-da22715740f21c78e85407ee12fd2bc9\": [{\"feature\": \"DEP\", \"importance\": 0.0}, {\"feature\": \"sifi_ARR\", \"importance\": 0.0}, {\"feature\": \"L\", \"importance\": 0.0}, {\"feature\": \"L/M\", \"importance\": 0.0}, {\"feature\": \"config_NORTH1\", \"importance\": 0.0}, {\"feature\": \"P_occ\", \"importance\": 5.332741521823142e-05}, {\"feature\": \"runway_34\", \"importance\": 0.0001509547801064539}, {\"feature\": \"L/M_count\", \"importance\": 0.00027172353663993326}, {\"feature\": \"runway_14\", \"importance\": 0.00034247205744210107}, {\"feature\": \"atmap_danger\", \"importance\": 0.00044903704723767276}, {\"feature\": \"runway_10\", \"importance\": 0.00048490209065750136}, {\"feature\": \"L/M_count_ratio\", \"importance\": 0.0007559319828282731}, {\"feature\": \"L_count\", \"importance\": 0.000919655760868758}, {\"feature\": \"Y_occ\", \"importance\": 0.0009350509042943911}, {\"feature\": \"atmap_visibility\", \"importance\": 0.0011382599426970007}, {\"feature\": \"L_occ\", \"importance\": 0.001185881980324268}, {\"feature\": \"R_occ\", \"importance\": 0.0012065149872946667}, {\"feature\": \"runway_16\", \"importance\": 0.001430044308949782}, {\"feature\": \"atmap_wind\", \"importance\": 0.001441321486160152}, {\"feature\": \"M\", \"importance\": 0.0014578897654706833}, {\"feature\": \"H\", \"importance\": 0.0015240955127552578}, {\"feature\": \"config_NORTH0\", \"importance\": 0.0015913815333708518}, {\"feature\": \"config_SOUTH\", \"importance\": 0.0019185065003160607}, {\"feature\": \"atmap_freezing\", \"importance\": 0.0020554932277737016}, {\"feature\": \"atmap_precipitation\", \"importance\": 0.0027885983510296244}, {\"feature\": \"runway_32\", \"importance\": 0.0030896411705612055}, {\"feature\": \"runway_28\", \"importance\": 0.0032352376672486814}, {\"feature\": \"M_occ\", \"importance\": 0.0032800123951388736}, {\"feature\": \"G_occ\", \"importance\": 0.003650589819312521}, {\"feature\": \"Z_occ\", \"importance\": 0.003772646487570995}, {\"feature\": \"atmap_score\", \"importance\": 0.004179649509700554}, {\"feature\": \"D_occ\", \"importance\": 0.004268656224255577}, {\"feature\": \"L_count_ratio\", \"importance\": 0.004388227671912569}, {\"feature\": \"busy\", \"importance\": 0.004489746326401859}, {\"feature\": \"C_occ\", \"importance\": 0.00522472706943751}, {\"feature\": \"J_occ\", \"importance\": 0.0056030333052631874}, {\"feature\": \"K_occ\", \"importance\": 0.00660232329325728}, {\"feature\": \"F_occ\", \"importance\": 0.00664313104750431}, {\"feature\": \"H_occ\", \"importance\": 0.0076402277508262435}, {\"feature\": \"E_occ\", \"importance\": 0.008355923492699334}, {\"feature\": \"H_count\", \"importance\": 0.009348465936403132}, {\"feature\": \"B_occ\", \"importance\": 0.009865163953900616}, {\"feature\": \"disrupted\", \"importance\": 0.009873180138800888}, {\"feature\": \"not_nom_arrival_ratio\", \"importance\": 0.011469234794451121}, {\"feature\": \"A_occ\", \"importance\": 0.011976332497933239}, {\"feature\": \"N_occ\", \"importance\": 0.014788124143046831}, {\"feature\": \"config_EAST\", \"importance\": 0.018251861981661552}, {\"feature\": \"sifi_DEP\", \"importance\": 0.024062551932089015}, {\"feature\": \"nb\", \"importance\": 0.024379388608302018}, {\"feature\": \"M_count\", \"importance\": 0.024504990298238553}, {\"feature\": \"nb_dep\", \"importance\": 0.026203580565335727}, {\"feature\": \"nb_arr\", \"importance\": 0.031336720980784175}, {\"feature\": \"angle_sum\", \"importance\": 0.03464112755342833}, {\"feature\": \"nominal\", \"importance\": 0.03466717134204181}, {\"feature\": \"turnaround_minutes\", \"importance\": 0.03581197615330814}, {\"feature\": \"taxi_dist\", \"importance\": 0.03758241395578874}, {\"feature\": \"H_count_ratio\", \"importance\": 0.03812867813847481}, {\"feature\": \"M_count_ratio\", \"importance\": 0.038273586730832296}, {\"feature\": \"avg_speed_last15T\", \"importance\": 0.043492183628296946}, {\"feature\": \"twy_pca_2\", \"importance\": 0.045875298713234654}, {\"feature\": \"twy_pca_1\", \"importance\": 0.04839854224832315}, {\"feature\": \"twy_pca_0\", \"importance\": 0.05469501216208151}, {\"feature\": \"avg_speed_last30T\", \"importance\": 0.054989102861907405}, {\"feature\": \"press\", \"importance\": 0.06013480531326145}, {\"feature\": \"temp\", \"importance\": 0.0734283941419327}, {\"feature\": \"max_turnaround_minutes_last30T\", \"importance\": 0.08729729482361524}]}}, {\"mode\": \"vega-lite\"});\n",
       "</script>"
      ],
      "text/plain": [
       "alt.Chart(...)"
      ]
     },
     "metadata": {},
     "output_type": "display_data"
    },
    {
     "name": "stdout",
     "output_type": "stream",
     "text": [
      "Results for Random Forest on the following features :\n",
      "taxi_dist angle_sum DEP temp sifi_DEP\n",
      "Target var : avg_delay_in60min\n",
      "Selecting the subset with following query : \n",
      "parking_position==parking_position & mvt_type=='DEP'\n",
      "mae=\t1.8520936708866016\n",
      "mse=\t5.678758576964927\n",
      "rmse=\t2.3830145985631157\n",
      "acc1min=32.590529247910865\n",
      "acc3min=82.03342618384401\n",
      "acc5min=96.7966573816156\n",
      "R2=\t0.001114920189482116\n",
      "n_sample training : 5740\n",
      "n_sample test : 1436\n",
      "n_sample_tot=7176\n",
      "\n"
     ]
    },
    {
     "data": {
      "text/html": [
       "\n",
       "<div id=\"altair-viz-71d52e7d9a1347b3940e1395bc24c334\"></div>\n",
       "<script type=\"text/javascript\">\n",
       "  (function(spec, embedOpt){\n",
       "    let outputDiv = document.currentScript.previousElementSibling;\n",
       "    if (outputDiv.id !== \"altair-viz-71d52e7d9a1347b3940e1395bc24c334\") {\n",
       "      outputDiv = document.getElementById(\"altair-viz-71d52e7d9a1347b3940e1395bc24c334\");\n",
       "    }\n",
       "    const paths = {\n",
       "      \"vega\": \"https://cdn.jsdelivr.net/npm//vega@5?noext\",\n",
       "      \"vega-lib\": \"https://cdn.jsdelivr.net/npm//vega-lib?noext\",\n",
       "      \"vega-lite\": \"https://cdn.jsdelivr.net/npm//vega-lite@4.8.1?noext\",\n",
       "      \"vega-embed\": \"https://cdn.jsdelivr.net/npm//vega-embed@6?noext\",\n",
       "    };\n",
       "\n",
       "    function loadScript(lib) {\n",
       "      return new Promise(function(resolve, reject) {\n",
       "        var s = document.createElement('script');\n",
       "        s.src = paths[lib];\n",
       "        s.async = true;\n",
       "        s.onload = () => resolve(paths[lib]);\n",
       "        s.onerror = () => reject(`Error loading script: ${paths[lib]}`);\n",
       "        document.getElementsByTagName(\"head\")[0].appendChild(s);\n",
       "      });\n",
       "    }\n",
       "\n",
       "    function showError(err) {\n",
       "      outputDiv.innerHTML = `<div class=\"error\" style=\"color:red;\">${err}</div>`;\n",
       "      throw err;\n",
       "    }\n",
       "\n",
       "    function displayChart(vegaEmbed) {\n",
       "      vegaEmbed(outputDiv, spec, embedOpt)\n",
       "        .catch(err => showError(`Javascript Error: ${err.message}<br>This usually means there's a typo in your chart specification. See the javascript console for the full traceback.`));\n",
       "    }\n",
       "\n",
       "    if(typeof define === \"function\" && define.amd) {\n",
       "      requirejs.config({paths});\n",
       "      require([\"vega-embed\"], displayChart, err => showError(`Error loading script: ${err.message}`));\n",
       "    } else if (typeof vegaEmbed === \"function\") {\n",
       "      displayChart(vegaEmbed);\n",
       "    } else {\n",
       "      loadScript(\"vega\")\n",
       "        .then(() => loadScript(\"vega-lite\"))\n",
       "        .then(() => loadScript(\"vega-embed\"))\n",
       "        .catch(showError)\n",
       "        .then(() => displayChart(vegaEmbed));\n",
       "    }\n",
       "  })({\"config\": {\"view\": {\"continuousWidth\": 400, \"continuousHeight\": 300, \"stroke\": null}, \"axis\": {\"labelFont\": \"Ubuntu\", \"labelFontSize\": 15, \"titleFont\": \"Fira Sans\", \"titleFontSize\": 16}, \"header\": {\"labelFont\": \"Ubuntu\", \"labelFontSize\": 18, \"labelOrient\": \"top\"}, \"legend\": {\"labelFont\": \"Ubuntu\", \"labelFontSize\": 14, \"orient\": \"bottom\", \"titleFontSize\": 14}, \"title\": {\"anchor\": \"start\", \"dy\": -10, \"font\": \"Fira Sans\", \"fontSize\": 18}}, \"data\": {\"name\": \"data-5061f0e16c9391c025ac5ede22308b1c\"}, \"mark\": \"bar\", \"encoding\": {\"x\": {\"type\": \"quantitative\", \"field\": \"importance\"}, \"y\": {\"type\": \"nominal\", \"field\": \"feature\", \"sort\": \"-x\"}}, \"transform\": [{\"window\": [{\"op\": \"rank\", \"field\": \"importance\", \"as\": \"rank\"}], \"sort\": [{\"field\": \"importance\", \"order\": \"descending\"}]}, {\"filter\": \"(datum.rank < 20)\"}], \"width\": 200, \"$schema\": \"https://vega.github.io/schema/vega-lite/v4.8.1.json\", \"datasets\": {\"data-5061f0e16c9391c025ac5ede22308b1c\": [{\"feature\": \"DEP\", \"importance\": 0.0}, {\"feature\": \"sifi_DEP\", \"importance\": 0.09250040106741159}, {\"feature\": \"temp\", \"importance\": 0.1629247137164599}, {\"feature\": \"angle_sum\", \"importance\": 0.36691893580022383}, {\"feature\": \"taxi_dist\", \"importance\": 0.3776559494159048}]}}, {\"mode\": \"vega-lite\"});\n",
       "</script>"
      ],
      "text/plain": [
       "alt.Chart(...)"
      ]
     },
     "metadata": {},
     "output_type": "display_data"
    },
    {
     "name": "stdout",
     "output_type": "stream",
     "text": [
      "Results for Random Forest on the following features :\n",
      "max_turnaround_minutes_last30T H_count L_count L/M_count M_count H_count_ratio L_count_ratio L/M_count_ratio M_count_ratio H_occ K_occ B_occ F_occ L_occ J_occ E_occ D_occ C_occ N_occ A_occ M_occ Y_occ R_occ G_occ Z_occ P_occ twy_pca_0 twy_pca_1 twy_pca_2 press temp atmap_visibility atmap_wind atmap_precipitation atmap_freezing atmap_danger atmap_score nominal busy disrupted not_nom_arrival_ratio nb_arr nb_dep nb avg_speed_last30T avg_speed_last15T\n",
      "Target var : avg_delay_in60min\n",
      "Selecting the subset with following query : \n",
      "parking_position==parking_position & mvt_type=='DEP'\n",
      "mae=\t1.4409028845317535\n",
      "mse=\t3.867475304824049\n",
      "rmse=\t1.9665897652596611\n",
      "acc1min=46.03508771929825\n",
      "acc3min=89.05263157894737\n",
      "acc5min=98.3157894736842\n",
      "R2=\t0.35680912452521796\n",
      "n_sample training : 5696\n",
      "n_sample test : 1425\n",
      "n_sample_tot=7121\n",
      "\n"
     ]
    },
    {
     "data": {
      "text/html": [
       "\n",
       "<div id=\"altair-viz-855f701925464f85a628d70de506d5c0\"></div>\n",
       "<script type=\"text/javascript\">\n",
       "  (function(spec, embedOpt){\n",
       "    let outputDiv = document.currentScript.previousElementSibling;\n",
       "    if (outputDiv.id !== \"altair-viz-855f701925464f85a628d70de506d5c0\") {\n",
       "      outputDiv = document.getElementById(\"altair-viz-855f701925464f85a628d70de506d5c0\");\n",
       "    }\n",
       "    const paths = {\n",
       "      \"vega\": \"https://cdn.jsdelivr.net/npm//vega@5?noext\",\n",
       "      \"vega-lib\": \"https://cdn.jsdelivr.net/npm//vega-lib?noext\",\n",
       "      \"vega-lite\": \"https://cdn.jsdelivr.net/npm//vega-lite@4.8.1?noext\",\n",
       "      \"vega-embed\": \"https://cdn.jsdelivr.net/npm//vega-embed@6?noext\",\n",
       "    };\n",
       "\n",
       "    function loadScript(lib) {\n",
       "      return new Promise(function(resolve, reject) {\n",
       "        var s = document.createElement('script');\n",
       "        s.src = paths[lib];\n",
       "        s.async = true;\n",
       "        s.onload = () => resolve(paths[lib]);\n",
       "        s.onerror = () => reject(`Error loading script: ${paths[lib]}`);\n",
       "        document.getElementsByTagName(\"head\")[0].appendChild(s);\n",
       "      });\n",
       "    }\n",
       "\n",
       "    function showError(err) {\n",
       "      outputDiv.innerHTML = `<div class=\"error\" style=\"color:red;\">${err}</div>`;\n",
       "      throw err;\n",
       "    }\n",
       "\n",
       "    function displayChart(vegaEmbed) {\n",
       "      vegaEmbed(outputDiv, spec, embedOpt)\n",
       "        .catch(err => showError(`Javascript Error: ${err.message}<br>This usually means there's a typo in your chart specification. See the javascript console for the full traceback.`));\n",
       "    }\n",
       "\n",
       "    if(typeof define === \"function\" && define.amd) {\n",
       "      requirejs.config({paths});\n",
       "      require([\"vega-embed\"], displayChart, err => showError(`Error loading script: ${err.message}`));\n",
       "    } else if (typeof vegaEmbed === \"function\") {\n",
       "      displayChart(vegaEmbed);\n",
       "    } else {\n",
       "      loadScript(\"vega\")\n",
       "        .then(() => loadScript(\"vega-lite\"))\n",
       "        .then(() => loadScript(\"vega-embed\"))\n",
       "        .catch(showError)\n",
       "        .then(() => displayChart(vegaEmbed));\n",
       "    }\n",
       "  })({\"config\": {\"view\": {\"continuousWidth\": 400, \"continuousHeight\": 300, \"stroke\": null}, \"axis\": {\"labelFont\": \"Ubuntu\", \"labelFontSize\": 15, \"titleFont\": \"Fira Sans\", \"titleFontSize\": 16}, \"header\": {\"labelFont\": \"Ubuntu\", \"labelFontSize\": 18, \"labelOrient\": \"top\"}, \"legend\": {\"labelFont\": \"Ubuntu\", \"labelFontSize\": 14, \"orient\": \"bottom\", \"titleFontSize\": 14}, \"title\": {\"anchor\": \"start\", \"dy\": -10, \"font\": \"Fira Sans\", \"fontSize\": 18}}, \"data\": {\"name\": \"data-31b373cd3778097c98818f9baca4073c\"}, \"mark\": \"bar\", \"encoding\": {\"x\": {\"type\": \"quantitative\", \"field\": \"importance\"}, \"y\": {\"type\": \"nominal\", \"field\": \"feature\", \"sort\": \"-x\"}}, \"transform\": [{\"window\": [{\"op\": \"rank\", \"field\": \"importance\", \"as\": \"rank\"}], \"sort\": [{\"field\": \"importance\", \"order\": \"descending\"}]}, {\"filter\": \"(datum.rank < 20)\"}], \"width\": 200, \"$schema\": \"https://vega.github.io/schema/vega-lite/v4.8.1.json\", \"datasets\": {\"data-31b373cd3778097c98818f9baca4073c\": [{\"feature\": \"P_occ\", \"importance\": 7.58736628566107e-05}, {\"feature\": \"atmap_danger\", \"importance\": 0.00027848708852485775}, {\"feature\": \"L/M_count\", \"importance\": 0.00028257320946282403}, {\"feature\": \"L/M_count_ratio\", \"importance\": 0.0006994940215452717}, {\"feature\": \"L_count\", \"importance\": 0.0009694904293613834}, {\"feature\": \"Y_occ\", \"importance\": 0.0011332153749841636}, {\"feature\": \"R_occ\", \"importance\": 0.0013021022755792526}, {\"feature\": \"atmap_visibility\", \"importance\": 0.0015863471679634508}, {\"feature\": \"L_occ\", \"importance\": 0.0016354671733723892}, {\"feature\": \"atmap_freezing\", \"importance\": 0.002081132051539742}, {\"feature\": \"atmap_precipitation\", \"importance\": 0.002223420437956468}, {\"feature\": \"atmap_wind\", \"importance\": 0.002233076019372225}, {\"feature\": \"M_occ\", \"importance\": 0.004103593519847854}, {\"feature\": \"G_occ\", \"importance\": 0.004594577535065613}, {\"feature\": \"busy\", \"importance\": 0.004825605638637124}, {\"feature\": \"Z_occ\", \"importance\": 0.0049789313990558385}, {\"feature\": \"D_occ\", \"importance\": 0.005003584937655649}, {\"feature\": \"L_count_ratio\", \"importance\": 0.005225996578196387}, {\"feature\": \"atmap_score\", \"importance\": 0.005438236228654035}, {\"feature\": \"C_occ\", \"importance\": 0.005606867407740746}, {\"feature\": \"disrupted\", \"importance\": 0.006127124523576819}, {\"feature\": \"F_occ\", \"importance\": 0.006983710717404287}, {\"feature\": \"J_occ\", \"importance\": 0.00709194911760968}, {\"feature\": \"K_occ\", \"importance\": 0.008231988674906106}, {\"feature\": \"H_occ\", \"importance\": 0.009703803940686444}, {\"feature\": \"H_count\", \"importance\": 0.010341292383071604}, {\"feature\": \"B_occ\", \"importance\": 0.01090379889683993}, {\"feature\": \"E_occ\", \"importance\": 0.011169087072779492}, {\"feature\": \"not_nom_arrival_ratio\", \"importance\": 0.013268126757857915}, {\"feature\": \"A_occ\", \"importance\": 0.015701623723110757}, {\"feature\": \"N_occ\", \"importance\": 0.01649877207644906}, {\"feature\": \"nb\", \"importance\": 0.02747720918230711}, {\"feature\": \"M_count\", \"importance\": 0.03140880522446618}, {\"feature\": \"nb_dep\", \"importance\": 0.0326230944615778}, {\"feature\": \"nb_arr\", \"importance\": 0.039782491381435615}, {\"feature\": \"nominal\", \"importance\": 0.040506849949670826}, {\"feature\": \"H_count_ratio\", \"importance\": 0.043620667626877316}, {\"feature\": \"M_count_ratio\", \"importance\": 0.04464105048706317}, {\"feature\": \"twy_pca_2\", \"importance\": 0.051866674579928974}, {\"feature\": \"avg_speed_last15T\", \"importance\": 0.05275921048347869}, {\"feature\": \"twy_pca_1\", \"importance\": 0.06028813556766714}, {\"feature\": \"avg_speed_last30T\", \"importance\": 0.0650924433285749}, {\"feature\": \"press\", \"importance\": 0.07491246797321609}, {\"feature\": \"twy_pca_0\", \"importance\": 0.07971128452747352}, {\"feature\": \"temp\", \"importance\": 0.08458434067660468}, {\"feature\": \"max_turnaround_minutes_last30T\", \"importance\": 0.1004259245079939}]}}, {\"mode\": \"vega-lite\"});\n",
       "</script>"
      ],
      "text/plain": [
       "alt.Chart(...)"
      ]
     },
     "metadata": {},
     "output_type": "display_data"
    },
    {
     "data": {
      "text/html": [
       "<div>\n",
       "<style scoped>\n",
       "    .dataframe tbody tr th:only-of-type {\n",
       "        vertical-align: middle;\n",
       "    }\n",
       "\n",
       "    .dataframe tbody tr th {\n",
       "        vertical-align: top;\n",
       "    }\n",
       "\n",
       "    .dataframe thead th {\n",
       "        text-align: right;\n",
       "    }\n",
       "</style>\n",
       "<table border=\"1\" class=\"dataframe\">\n",
       "  <thead>\n",
       "    <tr style=\"text-align: right;\">\n",
       "      <th></th>\n",
       "      <th>acc1min</th>\n",
       "      <th>acc3min</th>\n",
       "      <th>acc5min</th>\n",
       "      <th>mae</th>\n",
       "      <th>mse</th>\n",
       "      <th>name</th>\n",
       "      <th>r2</th>\n",
       "      <th>rmse</th>\n",
       "    </tr>\n",
       "  </thead>\n",
       "  <tbody>\n",
       "    <tr>\n",
       "      <th>0</th>\n",
       "      <td>42.32</td>\n",
       "      <td>88.77</td>\n",
       "      <td>98.11</td>\n",
       "      <td>1.51</td>\n",
       "      <td>4.12</td>\n",
       "      <td>310_avg_add_txot_in60_wang_all/</td>\n",
       "      <td>3.15e-01</td>\n",
       "      <td>2.03</td>\n",
       "    </tr>\n",
       "    <tr>\n",
       "      <th>1</th>\n",
       "      <td>43.23</td>\n",
       "      <td>88.70</td>\n",
       "      <td>98.11</td>\n",
       "      <td>1.49</td>\n",
       "      <td>4.06</td>\n",
       "      <td>311_avg_add_txot_in60_wang_noaqlis/</td>\n",
       "      <td>3.24e-01</td>\n",
       "      <td>2.02</td>\n",
       "    </tr>\n",
       "    <tr>\n",
       "      <th>2</th>\n",
       "      <td>32.59</td>\n",
       "      <td>82.03</td>\n",
       "      <td>96.80</td>\n",
       "      <td>1.85</td>\n",
       "      <td>5.68</td>\n",
       "      <td>312_avg_add_txot_in60_wang_few/</td>\n",
       "      <td>1.11e-03</td>\n",
       "      <td>2.38</td>\n",
       "    </tr>\n",
       "    <tr>\n",
       "      <th>3</th>\n",
       "      <td>46.04</td>\n",
       "      <td>89.05</td>\n",
       "      <td>98.32</td>\n",
       "      <td>1.44</td>\n",
       "      <td>3.87</td>\n",
       "      <td>313_avg_add_txot_in60_avg_delay_pred/</td>\n",
       "      <td>3.57e-01</td>\n",
       "      <td>1.97</td>\n",
       "    </tr>\n",
       "  </tbody>\n",
       "</table>\n",
       "</div>"
      ],
      "text/plain": [
       "   acc1min  acc3min  acc5min   mae   mse  \\\n",
       "0    42.32    88.77    98.11  1.51  4.12   \n",
       "1    43.23    88.70    98.11  1.49  4.06   \n",
       "2    32.59    82.03    96.80  1.85  5.68   \n",
       "3    46.04    89.05    98.32  1.44  3.87   \n",
       "\n",
       "                                    name        r2  rmse  \n",
       "0        310_avg_add_txot_in60_wang_all/  3.15e-01  2.03  \n",
       "1    311_avg_add_txot_in60_wang_noaqlis/  3.24e-01  2.02  \n",
       "2        312_avg_add_txot_in60_wang_few/  1.11e-03  2.38  \n",
       "3  313_avg_add_txot_in60_avg_delay_pred/  3.57e-01  1.97  "
      ]
     },
     "execution_count": 65,
     "metadata": {},
     "output_type": "execute_result"
    },
    {
     "data": {
      "image/png": "[encoded data removed]",
      "text/plain": [
       "<Figure size 468x684 with 1 Axes>"
      ]
     },
     "metadata": {
      "needs_background": "light"
     },
     "output_type": "display_data"
    },
    {
     "data": {
      "text/plain": [
       "<Figure size 360x576 with 0 Axes>"
      ]
     },
     "metadata": {},
     "output_type": "display_data"
    },
    {
     "data": {
      "image/png": "[encoded data removed]",
      "text/plain": [
       "<Figure size 468x684 with 1 Axes>"
      ]
     },
     "metadata": {
      "needs_background": "light"
     },
     "output_type": "display_data"
    },
    {
     "data": {
      "text/plain": [
       "<Figure size 360x576 with 0 Axes>"
      ]
     },
     "metadata": {},
     "output_type": "display_data"
    },
    {
     "data": {
      "image/png": "[encoded data removed]",
      "text/plain": [
       "<Figure size 468x684 with 1 Axes>"
      ]
     },
     "metadata": {
      "needs_background": "light"
     },
     "output_type": "display_data"
    },
    {
     "data": {
      "text/plain": [
       "<Figure size 360x576 with 0 Axes>"
      ]
     },
     "metadata": {},
     "output_type": "display_data"
    },
    {
     "data": {
      "image/png": "[encoded data removed]",
      "text/plain": [
       "<Figure size 468x684 with 1 Axes>"
      ]
     },
     "metadata": {
      "needs_background": "light"
     },
     "output_type": "display_data"
    },
    {
     "data": {
      "text/plain": [
       "<Figure size 360x576 with 0 Axes>"
      ]
     },
     "metadata": {},
     "output_type": "display_data"
    }
   ],
   "source": [
    "base_dir = \"../prediction_results/\"\n",
    "df_res = pd.DataFrame()\n",
    "for i, (set_name, features) in enumerate(main_feature_sets.items()):\n",
    "    test_name = f\"31{i}_avg_add_txot_in60_{set_name}/\"\n",
    "    # avg_delay_in30min   real_dur_minutes taxi_holding_time_minutes\n",
    "    res, labels_test, predicted, clf = train_rf(\n",
    "        dep_arr_df,\n",
    "        features,\n",
    "        \"avg_delay_in60min\",\n",
    "        query=\"parking_position==parking_position & mvt_type=='DEP'\",\n",
    "        dirname=base_dir + test_name,\n",
    "        dropna=False,\n",
    "    )\n",
    "    d_res = res._asdict()\n",
    "    d_res[\"name\"] = test_name\n",
    "    df_res = df_res.append(d_res, ignore_index=True)\n",
    "df_res"
   ]
  },
  {
   "cell_type": "code",
   "execution_count": 75,
   "id": "41c6eada-2c79-4683-9057-e7d6697133b7",
   "metadata": {
    "execution": {
     "iopub.execute_input": "2021-07-22T12:39:07.693450Z",
     "iopub.status.busy": "2021-07-22T12:39:07.691966Z",
     "iopub.status.idle": "2021-07-22T12:39:41.048410Z",
     "shell.execute_reply": "2021-07-22T12:39:41.047728Z",
     "shell.execute_reply.started": "2021-07-22T12:39:07.693391Z"
    },
    "tags": []
   },
   "outputs": [
    {
     "name": "stdout",
     "output_type": "stream",
     "text": [
      "Results for Random Forest on the following features :\n",
      "taxi_dist angle_sum turnaround_minutes sifi_DEP sifi_ARR max_turnaround_minutes_last30T H L L/M M runway_10 runway_14 runway_16 runway_28 runway_32 runway_34 H_count L_count L/M_count M_count H_count_ratio L_count_ratio L/M_count_ratio M_count_ratio H_occ K_occ B_occ F_occ L_occ J_occ E_occ D_occ C_occ N_occ A_occ M_occ Y_occ R_occ G_occ Z_occ P_occ twy_pca_0 twy_pca_1 twy_pca_2 aqli_DEP scfi_DEP aqli_ARR scfi_ARR mean_sifi_DEP_last30T mean_sifi_ARR_last30T mean_aqli_DEP_last30T mean_scfi_DEP_last30T mean_aqli_ARR_last30T mean_scfi_ARR_last30T press temp atmap_visibility atmap_wind atmap_precipitation atmap_freezing atmap_danger atmap_score nominal busy disrupted not_nom_arrival_ratio nb_arr nb_dep nb avg_speed_last30T avg_speed_last15T config_EAST config_NORTH0 config_NORTH1 config_SOUTH DEP\n",
      "Target var : avg_delay_in30min\n",
      "Selecting the subset with following query : \n",
      "parking_position==parking_position & mvt_type=='DEP'\n",
      "mae=\t1.4685799679350238\n",
      "mse=\t4.079334838243502\n",
      "rmse=\t2.019736328891349\n",
      "acc1min=45.40350877192982\n",
      "acc3min=89.47368421052632\n",
      "acc5min=97.75438596491229\n",
      "R2=\t0.3045949898620498\n",
      "n_sample training : 5696\n",
      "n_sample test : 1425\n",
      "n_sample_tot=7121\n",
      "\n"
     ]
    },
    {
     "data": {
      "text/html": [
       "\n",
       "<div id=\"altair-viz-7f80420ce8c7441ca58e466235a5df32\"></div>\n",
       "<script type=\"text/javascript\">\n",
       "  (function(spec, embedOpt){\n",
       "    let outputDiv = document.currentScript.previousElementSibling;\n",
       "    if (outputDiv.id !== \"altair-viz-7f80420ce8c7441ca58e466235a5df32\") {\n",
       "      outputDiv = document.getElementById(\"altair-viz-7f80420ce8c7441ca58e466235a5df32\");\n",
       "    }\n",
       "    const paths = {\n",
       "      \"vega\": \"https://cdn.jsdelivr.net/npm//vega@5?noext\",\n",
       "      \"vega-lib\": \"https://cdn.jsdelivr.net/npm//vega-lib?noext\",\n",
       "      \"vega-lite\": \"https://cdn.jsdelivr.net/npm//vega-lite@4.8.1?noext\",\n",
       "      \"vega-embed\": \"https://cdn.jsdelivr.net/npm//vega-embed@6?noext\",\n",
       "    };\n",
       "\n",
       "    function loadScript(lib) {\n",
       "      return new Promise(function(resolve, reject) {\n",
       "        var s = document.createElement('script');\n",
       "        s.src = paths[lib];\n",
       "        s.async = true;\n",
       "        s.onload = () => resolve(paths[lib]);\n",
       "        s.onerror = () => reject(`Error loading script: ${paths[lib]}`);\n",
       "        document.getElementsByTagName(\"head\")[0].appendChild(s);\n",
       "      });\n",
       "    }\n",
       "\n",
       "    function showError(err) {\n",
       "      outputDiv.innerHTML = `<div class=\"error\" style=\"color:red;\">${err}</div>`;\n",
       "      throw err;\n",
       "    }\n",
       "\n",
       "    function displayChart(vegaEmbed) {\n",
       "      vegaEmbed(outputDiv, spec, embedOpt)\n",
       "        .catch(err => showError(`Javascript Error: ${err.message}<br>This usually means there's a typo in your chart specification. See the javascript console for the full traceback.`));\n",
       "    }\n",
       "\n",
       "    if(typeof define === \"function\" && define.amd) {\n",
       "      requirejs.config({paths});\n",
       "      require([\"vega-embed\"], displayChart, err => showError(`Error loading script: ${err.message}`));\n",
       "    } else if (typeof vegaEmbed === \"function\") {\n",
       "      displayChart(vegaEmbed);\n",
       "    } else {\n",
       "      loadScript(\"vega\")\n",
       "        .then(() => loadScript(\"vega-lite\"))\n",
       "        .then(() => loadScript(\"vega-embed\"))\n",
       "        .catch(showError)\n",
       "        .then(() => displayChart(vegaEmbed));\n",
       "    }\n",
       "  })({\"config\": {\"view\": {\"continuousWidth\": 400, \"continuousHeight\": 300, \"stroke\": null}, \"axis\": {\"labelFont\": \"Ubuntu\", \"labelFontSize\": 15, \"titleFont\": \"Fira Sans\", \"titleFontSize\": 16}, \"header\": {\"labelFont\": \"Ubuntu\", \"labelFontSize\": 18, \"labelOrient\": \"top\"}, \"legend\": {\"labelFont\": \"Ubuntu\", \"labelFontSize\": 14, \"orient\": \"bottom\", \"titleFontSize\": 14}, \"title\": {\"anchor\": \"start\", \"dy\": -10, \"font\": \"Fira Sans\", \"fontSize\": 18}}, \"data\": {\"name\": \"data-32d2c1034575655511883eaf97556de8\"}, \"mark\": \"bar\", \"encoding\": {\"x\": {\"type\": \"quantitative\", \"field\": \"importance\"}, \"y\": {\"type\": \"nominal\", \"field\": \"feature\", \"sort\": \"-x\"}}, \"transform\": [{\"window\": [{\"op\": \"rank\", \"field\": \"importance\", \"as\": \"rank\"}], \"sort\": [{\"field\": \"importance\", \"order\": \"descending\"}]}, {\"filter\": \"(datum.rank < 20)\"}], \"width\": 200, \"$schema\": \"https://vega.github.io/schema/vega-lite/v4.8.1.json\", \"datasets\": {\"data-32d2c1034575655511883eaf97556de8\": [{\"feature\": \"DEP\", \"importance\": 0.0}, {\"feature\": \"L\", \"importance\": 0.0}, {\"feature\": \"mean_sifi_ARR_last30T\", \"importance\": 0.0}, {\"feature\": \"sifi_ARR\", \"importance\": 0.0}, {\"feature\": \"L/M\", \"importance\": 0.0}, {\"feature\": \"config_NORTH1\", \"importance\": 0.0}, {\"feature\": \"L/M_count\", \"importance\": 6.492382598459846e-05}, {\"feature\": \"P_occ\", \"importance\": 7.850793935122477e-05}, {\"feature\": \"runway_10\", \"importance\": 0.00013595661741253287}, {\"feature\": \"L/M_count_ratio\", \"importance\": 0.00014117074412286728}, {\"feature\": \"atmap_danger\", \"importance\": 0.00015517432711180965}, {\"feature\": \"runway_14\", \"importance\": 0.00017207813453262786}, {\"feature\": \"atmap_wind\", \"importance\": 0.00032535256689387033}, {\"feature\": \"L_count\", \"importance\": 0.0003495005295585192}, {\"feature\": \"L_occ\", \"importance\": 0.0004175561282125419}, {\"feature\": \"atmap_visibility\", \"importance\": 0.0004332745630622535}, {\"feature\": \"runway_34\", \"importance\": 0.0005681390256559186}, {\"feature\": \"R_occ\", \"importance\": 0.0006568822234221232}, {\"feature\": \"atmap_freezing\", \"importance\": 0.0007815173025807662}, {\"feature\": \"L_count_ratio\", \"importance\": 0.0008885310745965704}, {\"feature\": \"config_NORTH0\", \"importance\": 0.001017005656434856}, {\"feature\": \"Y_occ\", \"importance\": 0.0011328958048932348}, {\"feature\": \"H\", \"importance\": 0.0012264334858503876}, {\"feature\": \"M\", \"importance\": 0.0015140409557336087}, {\"feature\": \"config_SOUTH\", \"importance\": 0.0015199230622717694}, {\"feature\": \"Z_occ\", \"importance\": 0.0015459006876068903}, {\"feature\": \"M_occ\", \"importance\": 0.0017137152301734476}, {\"feature\": \"config_EAST\", \"importance\": 0.0018300287405110696}, {\"feature\": \"runway_32\", \"importance\": 0.002058999898647291}, {\"feature\": \"atmap_score\", \"importance\": 0.0020816819585075157}, {\"feature\": \"atmap_precipitation\", \"importance\": 0.002295308010286025}, {\"feature\": \"runway_28\", \"importance\": 0.0026712157951784363}, {\"feature\": \"busy\", \"importance\": 0.0027612633938914866}, {\"feature\": \"J_occ\", \"importance\": 0.002769592202273013}, {\"feature\": \"D_occ\", \"importance\": 0.003065821223711684}, {\"feature\": \"H_occ\", \"importance\": 0.003191052937372401}, {\"feature\": \"disrupted\", \"importance\": 0.0033756099212366077}, {\"feature\": \"runway_16\", \"importance\": 0.0033913797150377342}, {\"feature\": \"F_occ\", \"importance\": 0.003835535410887112}, {\"feature\": \"K_occ\", \"importance\": 0.004088618944731467}, {\"feature\": \"B_occ\", \"importance\": 0.004335073192778304}, {\"feature\": \"A_occ\", \"importance\": 0.0062258894299051905}, {\"feature\": \"aqli_ARR\", \"importance\": 0.006393459632650996}, {\"feature\": \"C_occ\", \"importance\": 0.006629878267407923}, {\"feature\": \"H_count\", \"importance\": 0.006641697574310084}, {\"feature\": \"E_occ\", \"importance\": 0.006729518643967051}, {\"feature\": \"G_occ\", \"importance\": 0.006840237039181761}, {\"feature\": \"scfi_ARR\", \"importance\": 0.007159129653723893}, {\"feature\": \"not_nom_arrival_ratio\", \"importance\": 0.007344505851098744}, {\"feature\": \"N_occ\", \"importance\": 0.007992835436674652}, {\"feature\": \"aqli_DEP\", \"importance\": 0.011711798988082441}, {\"feature\": \"nb_dep\", \"importance\": 0.014645201793265254}, {\"feature\": \"mean_scfi_ARR_last30T\", \"importance\": 0.01632548039685288}, {\"feature\": \"M_count\", \"importance\": 0.016466459099304092}, {\"feature\": \"mean_aqli_ARR_last30T\", \"importance\": 0.016551692978522253}, {\"feature\": \"nb\", \"importance\": 0.016721173094554405}, {\"feature\": \"nb_arr\", \"importance\": 0.018281373544173574}, {\"feature\": \"H_count_ratio\", \"importance\": 0.020871879471423646}, {\"feature\": \"sifi_DEP\", \"importance\": 0.023006797052847684}, {\"feature\": \"turnaround_minutes\", \"importance\": 0.024420228518035686}, {\"feature\": \"mean_aqli_DEP_last30T\", \"importance\": 0.024735659587821545}, {\"feature\": \"nominal\", \"importance\": 0.025192770997636157}, {\"feature\": \"angle_sum\", \"importance\": 0.025321153278728137}, {\"feature\": \"M_count_ratio\", \"importance\": 0.025977674523343406}, {\"feature\": \"mean_sifi_DEP_last30T\", \"importance\": 0.029461060481348087}, {\"feature\": \"mean_scfi_DEP_last30T\", \"importance\": 0.030371035362112855}, {\"feature\": \"taxi_dist\", \"importance\": 0.03258789715788961}, {\"feature\": \"twy_pca_2\", \"importance\": 0.033456301718431496}, {\"feature\": \"avg_speed_last15T\", \"importance\": 0.03523315391150709}, {\"feature\": \"avg_speed_last30T\", \"importance\": 0.036048074356912437}, {\"feature\": \"press\", \"importance\": 0.0370368615850707}, {\"feature\": \"twy_pca_1\", \"importance\": 0.0380565867852001}, {\"feature\": \"temp\", \"importance\": 0.0468852898277396}, {\"feature\": \"twy_pca_0\", \"importance\": 0.05788971497275184}, {\"feature\": \"max_turnaround_minutes_last30T\", \"importance\": 0.08423561913324545}, {\"feature\": \"scfi_DEP\", \"importance\": 0.13996224862376688}]}}, {\"mode\": \"vega-lite\"});\n",
       "</script>"
      ],
      "text/plain": [
       "alt.Chart(...)"
      ]
     },
     "metadata": {},
     "output_type": "display_data"
    },
    {
     "name": "stdout",
     "output_type": "stream",
     "text": [
      "Results for Random Forest on the following features :\n",
      "taxi_dist angle_sum turnaround_minutes sifi_DEP sifi_ARR max_turnaround_minutes_last30T H L L/M M runway_10 runway_14 runway_16 runway_28 runway_32 runway_34 H_count L_count L/M_count M_count H_count_ratio L_count_ratio L/M_count_ratio M_count_ratio H_occ K_occ B_occ F_occ L_occ J_occ E_occ D_occ C_occ N_occ A_occ M_occ Y_occ R_occ G_occ Z_occ P_occ twy_pca_0 twy_pca_1 twy_pca_2 press temp atmap_visibility atmap_wind atmap_precipitation atmap_freezing atmap_danger atmap_score nominal busy disrupted not_nom_arrival_ratio nb_arr nb_dep nb avg_speed_last30T avg_speed_last15T config_EAST config_NORTH0 config_NORTH1 config_SOUTH DEP\n",
      "Target var : avg_delay_in30min\n",
      "Selecting the subset with following query : \n",
      "parking_position==parking_position & mvt_type=='DEP'\n",
      "mae=\t1.470310534216697\n",
      "mse=\t4.107449900432944\n",
      "rmse=\t2.0266844600067726\n",
      "acc1min=44.42105263157895\n",
      "acc3min=89.33333333333333\n",
      "acc5min=98.10526315789474\n",
      "R2=\t0.2998022096951497\n",
      "n_sample training : 5696\n",
      "n_sample test : 1425\n",
      "n_sample_tot=7121\n",
      "\n"
     ]
    },
    {
     "data": {
      "text/html": [
       "\n",
       "<div id=\"altair-viz-ddfbc28110cf4a68b24fc1260f5a2406\"></div>\n",
       "<script type=\"text/javascript\">\n",
       "  (function(spec, embedOpt){\n",
       "    let outputDiv = document.currentScript.previousElementSibling;\n",
       "    if (outputDiv.id !== \"altair-viz-ddfbc28110cf4a68b24fc1260f5a2406\") {\n",
       "      outputDiv = document.getElementById(\"altair-viz-ddfbc28110cf4a68b24fc1260f5a2406\");\n",
       "    }\n",
       "    const paths = {\n",
       "      \"vega\": \"https://cdn.jsdelivr.net/npm//vega@5?noext\",\n",
       "      \"vega-lib\": \"https://cdn.jsdelivr.net/npm//vega-lib?noext\",\n",
       "      \"vega-lite\": \"https://cdn.jsdelivr.net/npm//vega-lite@4.8.1?noext\",\n",
       "      \"vega-embed\": \"https://cdn.jsdelivr.net/npm//vega-embed@6?noext\",\n",
       "    };\n",
       "\n",
       "    function loadScript(lib) {\n",
       "      return new Promise(function(resolve, reject) {\n",
       "        var s = document.createElement('script');\n",
       "        s.src = paths[lib];\n",
       "        s.async = true;\n",
       "        s.onload = () => resolve(paths[lib]);\n",
       "        s.onerror = () => reject(`Error loading script: ${paths[lib]}`);\n",
       "        document.getElementsByTagName(\"head\")[0].appendChild(s);\n",
       "      });\n",
       "    }\n",
       "\n",
       "    function showError(err) {\n",
       "      outputDiv.innerHTML = `<div class=\"error\" style=\"color:red;\">${err}</div>`;\n",
       "      throw err;\n",
       "    }\n",
       "\n",
       "    function displayChart(vegaEmbed) {\n",
       "      vegaEmbed(outputDiv, spec, embedOpt)\n",
       "        .catch(err => showError(`Javascript Error: ${err.message}<br>This usually means there's a typo in your chart specification. See the javascript console for the full traceback.`));\n",
       "    }\n",
       "\n",
       "    if(typeof define === \"function\" && define.amd) {\n",
       "      requirejs.config({paths});\n",
       "      require([\"vega-embed\"], displayChart, err => showError(`Error loading script: ${err.message}`));\n",
       "    } else if (typeof vegaEmbed === \"function\") {\n",
       "      displayChart(vegaEmbed);\n",
       "    } else {\n",
       "      loadScript(\"vega\")\n",
       "        .then(() => loadScript(\"vega-lite\"))\n",
       "        .then(() => loadScript(\"vega-embed\"))\n",
       "        .catch(showError)\n",
       "        .then(() => displayChart(vegaEmbed));\n",
       "    }\n",
       "  })({\"config\": {\"view\": {\"continuousWidth\": 400, \"continuousHeight\": 300, \"stroke\": null}, \"axis\": {\"labelFont\": \"Ubuntu\", \"labelFontSize\": 15, \"titleFont\": \"Fira Sans\", \"titleFontSize\": 16}, \"header\": {\"labelFont\": \"Ubuntu\", \"labelFontSize\": 18, \"labelOrient\": \"top\"}, \"legend\": {\"labelFont\": \"Ubuntu\", \"labelFontSize\": 14, \"orient\": \"bottom\", \"titleFontSize\": 14}, \"title\": {\"anchor\": \"start\", \"dy\": -10, \"font\": \"Fira Sans\", \"fontSize\": 18}}, \"data\": {\"name\": \"data-29b80369d62f2588503c5eb3f6799c04\"}, \"mark\": \"bar\", \"encoding\": {\"x\": {\"type\": \"quantitative\", \"field\": \"importance\"}, \"y\": {\"type\": \"nominal\", \"field\": \"feature\", \"sort\": \"-x\"}}, \"transform\": [{\"window\": [{\"op\": \"rank\", \"field\": \"importance\", \"as\": \"rank\"}], \"sort\": [{\"field\": \"importance\", \"order\": \"descending\"}]}, {\"filter\": \"(datum.rank < 20)\"}], \"width\": 200, \"$schema\": \"https://vega.github.io/schema/vega-lite/v4.8.1.json\", \"datasets\": {\"data-29b80369d62f2588503c5eb3f6799c04\": [{\"feature\": \"DEP\", \"importance\": 0.0}, {\"feature\": \"config_NORTH1\", \"importance\": 0.0}, {\"feature\": \"sifi_ARR\", \"importance\": 0.0}, {\"feature\": \"L\", \"importance\": 0.0}, {\"feature\": \"L/M\", \"importance\": 0.0}, {\"feature\": \"P_occ\", \"importance\": 6.522330127300312e-05}, {\"feature\": \"L/M_count_ratio\", \"importance\": 0.00011925822318926278}, {\"feature\": \"L/M_count\", \"importance\": 0.00013317787543353155}, {\"feature\": \"runway_14\", \"importance\": 0.0001896391320323945}, {\"feature\": \"atmap_danger\", \"importance\": 0.00019374736428283515}, {\"feature\": \"runway_10\", \"importance\": 0.00026452443020118997}, {\"feature\": \"runway_34\", \"importance\": 0.00045454514644121895}, {\"feature\": \"L_count\", \"importance\": 0.0005536835651044384}, {\"feature\": \"atmap_visibility\", \"importance\": 0.0005891144272894825}, {\"feature\": \"atmap_wind\", \"importance\": 0.0006535850564311572}, {\"feature\": \"L_occ\", \"importance\": 0.0006623651718384837}, {\"feature\": \"atmap_freezing\", \"importance\": 0.0008086234380637284}, {\"feature\": \"R_occ\", \"importance\": 0.0008808905722761094}, {\"feature\": \"L_count_ratio\", \"importance\": 0.0013219340447402437}, {\"feature\": \"Y_occ\", \"importance\": 0.001348138533751801}, {\"feature\": \"config_NORTH0\", \"importance\": 0.0015419068794462248}, {\"feature\": \"config_EAST\", \"importance\": 0.0016922007363663386}, {\"feature\": \"runway_32\", \"importance\": 0.001950163927196018}, {\"feature\": \"M\", \"importance\": 0.0019526718169842142}, {\"feature\": \"H\", \"importance\": 0.0021717762722466977}, {\"feature\": \"Z_occ\", \"importance\": 0.0023445270463725437}, {\"feature\": \"M_occ\", \"importance\": 0.0026144552861396175}, {\"feature\": \"atmap_precipitation\", \"importance\": 0.002833719625046333}, {\"feature\": \"config_SOUTH\", \"importance\": 0.0031260736955473515}, {\"feature\": \"busy\", \"importance\": 0.0031555352675393077}, {\"feature\": \"atmap_score\", \"importance\": 0.0033761642585407804}, {\"feature\": \"runway_28\", \"importance\": 0.0035934907898349626}, {\"feature\": \"H_occ\", \"importance\": 0.0036840870592845234}, {\"feature\": \"J_occ\", \"importance\": 0.0039018672974004305}, {\"feature\": \"F_occ\", \"importance\": 0.005055327161472324}, {\"feature\": \"D_occ\", \"importance\": 0.005638535647670792}, {\"feature\": \"disrupted\", \"importance\": 0.006006979927313315}, {\"feature\": \"B_occ\", \"importance\": 0.007185993514391188}, {\"feature\": \"H_count\", \"importance\": 0.008270684694410647}, {\"feature\": \"not_nom_arrival_ratio\", \"importance\": 0.008587026292481597}, {\"feature\": \"C_occ\", \"importance\": 0.009575690124809872}, {\"feature\": \"K_occ\", \"importance\": 0.009690009367318503}, {\"feature\": \"N_occ\", \"importance\": 0.009697137651218353}, {\"feature\": \"A_occ\", \"importance\": 0.009875571165494723}, {\"feature\": \"runway_16\", \"importance\": 0.010560391416292102}, {\"feature\": \"G_occ\", \"importance\": 0.010831336004924294}, {\"feature\": \"E_occ\", \"importance\": 0.012498483034426357}, {\"feature\": \"nb\", \"importance\": 0.01886083048103873}, {\"feature\": \"M_count\", \"importance\": 0.020767559551722697}, {\"feature\": \"nb_dep\", \"importance\": 0.020980543017913175}, {\"feature\": \"H_count_ratio\", \"importance\": 0.02776096526964794}, {\"feature\": \"nb_arr\", \"importance\": 0.028549781922240614}, {\"feature\": \"angle_sum\", \"importance\": 0.0299602222720648}, {\"feature\": \"turnaround_minutes\", \"importance\": 0.03132645029162825}, {\"feature\": \"M_count_ratio\", \"importance\": 0.0314466608425682}, {\"feature\": \"nominal\", \"importance\": 0.034562155810451495}, {\"feature\": \"taxi_dist\", \"importance\": 0.03662472411403668}, {\"feature\": \"twy_pca_2\", \"importance\": 0.04094766352979181}, {\"feature\": \"press\", \"importance\": 0.04480338399030929}, {\"feature\": \"avg_speed_last15T\", \"importance\": 0.047093774257083616}, {\"feature\": \"twy_pca_1\", \"importance\": 0.04726511566853241}, {\"feature\": \"avg_speed_last30T\", \"importance\": 0.04762509979450919}, {\"feature\": \"twy_pca_0\", \"importance\": 0.060112185323595045}, {\"feature\": \"temp\", \"importance\": 0.06399667449845815}, {\"feature\": \"max_turnaround_minutes_last30T\", \"importance\": 0.0963839546330435}, {\"feature\": \"sifi_DEP\", \"importance\": 0.11128199848884596}]}}, {\"mode\": \"vega-lite\"});\n",
       "</script>"
      ],
      "text/plain": [
       "alt.Chart(...)"
      ]
     },
     "metadata": {},
     "output_type": "display_data"
    },
    {
     "name": "stdout",
     "output_type": "stream",
     "text": [
      "Results for Random Forest on the following features :\n",
      "taxi_dist angle_sum DEP temp sifi_DEP\n",
      "Target var : avg_delay_in30min\n",
      "Selecting the subset with following query : \n",
      "parking_position==parking_position & mvt_type=='DEP'\n",
      "mae=\t1.7309395286384186\n",
      "mse=\t5.0633567206423\n",
      "rmse=\t2.2501903743110936\n",
      "acc1min=35.16713091922006\n",
      "acc3min=83.84401114206128\n",
      "acc5min=97.07520891364902\n",
      "R2=\t0.08166904990100443\n",
      "n_sample training : 5740\n",
      "n_sample test : 1436\n",
      "n_sample_tot=7176\n",
      "\n"
     ]
    },
    {
     "data": {
      "text/html": [
       "\n",
       "<div id=\"altair-viz-aa3d312c10e6486a8ade1a9c724e1121\"></div>\n",
       "<script type=\"text/javascript\">\n",
       "  (function(spec, embedOpt){\n",
       "    let outputDiv = document.currentScript.previousElementSibling;\n",
       "    if (outputDiv.id !== \"altair-viz-aa3d312c10e6486a8ade1a9c724e1121\") {\n",
       "      outputDiv = document.getElementById(\"altair-viz-aa3d312c10e6486a8ade1a9c724e1121\");\n",
       "    }\n",
       "    const paths = {\n",
       "      \"vega\": \"https://cdn.jsdelivr.net/npm//vega@5?noext\",\n",
       "      \"vega-lib\": \"https://cdn.jsdelivr.net/npm//vega-lib?noext\",\n",
       "      \"vega-lite\": \"https://cdn.jsdelivr.net/npm//vega-lite@4.8.1?noext\",\n",
       "      \"vega-embed\": \"https://cdn.jsdelivr.net/npm//vega-embed@6?noext\",\n",
       "    };\n",
       "\n",
       "    function loadScript(lib) {\n",
       "      return new Promise(function(resolve, reject) {\n",
       "        var s = document.createElement('script');\n",
       "        s.src = paths[lib];\n",
       "        s.async = true;\n",
       "        s.onload = () => resolve(paths[lib]);\n",
       "        s.onerror = () => reject(`Error loading script: ${paths[lib]}`);\n",
       "        document.getElementsByTagName(\"head\")[0].appendChild(s);\n",
       "      });\n",
       "    }\n",
       "\n",
       "    function showError(err) {\n",
       "      outputDiv.innerHTML = `<div class=\"error\" style=\"color:red;\">${err}</div>`;\n",
       "      throw err;\n",
       "    }\n",
       "\n",
       "    function displayChart(vegaEmbed) {\n",
       "      vegaEmbed(outputDiv, spec, embedOpt)\n",
       "        .catch(err => showError(`Javascript Error: ${err.message}<br>This usually means there's a typo in your chart specification. See the javascript console for the full traceback.`));\n",
       "    }\n",
       "\n",
       "    if(typeof define === \"function\" && define.amd) {\n",
       "      requirejs.config({paths});\n",
       "      require([\"vega-embed\"], displayChart, err => showError(`Error loading script: ${err.message}`));\n",
       "    } else if (typeof vegaEmbed === \"function\") {\n",
       "      displayChart(vegaEmbed);\n",
       "    } else {\n",
       "      loadScript(\"vega\")\n",
       "        .then(() => loadScript(\"vega-lite\"))\n",
       "        .then(() => loadScript(\"vega-embed\"))\n",
       "        .catch(showError)\n",
       "        .then(() => displayChart(vegaEmbed));\n",
       "    }\n",
       "  })({\"config\": {\"view\": {\"continuousWidth\": 400, \"continuousHeight\": 300, \"stroke\": null}, \"axis\": {\"labelFont\": \"Ubuntu\", \"labelFontSize\": 15, \"titleFont\": \"Fira Sans\", \"titleFontSize\": 16}, \"header\": {\"labelFont\": \"Ubuntu\", \"labelFontSize\": 18, \"labelOrient\": \"top\"}, \"legend\": {\"labelFont\": \"Ubuntu\", \"labelFontSize\": 14, \"orient\": \"bottom\", \"titleFontSize\": 14}, \"title\": {\"anchor\": \"start\", \"dy\": -10, \"font\": \"Fira Sans\", \"fontSize\": 18}}, \"data\": {\"name\": \"data-3b47fd3bb32c9e87f8b35ee601d9d34e\"}, \"mark\": \"bar\", \"encoding\": {\"x\": {\"type\": \"quantitative\", \"field\": \"importance\"}, \"y\": {\"type\": \"nominal\", \"field\": \"feature\", \"sort\": \"-x\"}}, \"transform\": [{\"window\": [{\"op\": \"rank\", \"field\": \"importance\", \"as\": \"rank\"}], \"sort\": [{\"field\": \"importance\", \"order\": \"descending\"}]}, {\"filter\": \"(datum.rank < 20)\"}], \"width\": 200, \"$schema\": \"https://vega.github.io/schema/vega-lite/v4.8.1.json\", \"datasets\": {\"data-3b47fd3bb32c9e87f8b35ee601d9d34e\": [{\"feature\": \"DEP\", \"importance\": 0.0}, {\"feature\": \"sifi_DEP\", \"importance\": 0.1737104733441833}, {\"feature\": \"temp\", \"importance\": 0.17877823502361473}, {\"feature\": \"angle_sum\", \"importance\": 0.3094174524489856}, {\"feature\": \"taxi_dist\", \"importance\": 0.3380938391832164}]}}, {\"mode\": \"vega-lite\"});\n",
       "</script>"
      ],
      "text/plain": [
       "alt.Chart(...)"
      ]
     },
     "metadata": {},
     "output_type": "display_data"
    },
    {
     "name": "stdout",
     "output_type": "stream",
     "text": [
      "Results for Random Forest on the following features :\n",
      "max_turnaround_minutes_last30T H_count L_count L/M_count M_count H_count_ratio L_count_ratio L/M_count_ratio M_count_ratio H_occ K_occ B_occ F_occ L_occ J_occ E_occ D_occ C_occ N_occ A_occ M_occ Y_occ R_occ G_occ Z_occ P_occ twy_pca_0 twy_pca_1 twy_pca_2 press temp atmap_visibility atmap_wind atmap_precipitation atmap_freezing atmap_danger atmap_score nominal busy disrupted not_nom_arrival_ratio nb_arr nb_dep nb avg_speed_last30T avg_speed_last15T config_EAST config_NORTH0 config_NORTH1 config_SOUTH\n",
      "Target var : avg_delay_in30min\n",
      "Selecting the subset with following query : \n",
      "parking_position==parking_position & mvt_type=='DEP'\n",
      "mae=\t1.3784283427332207\n",
      "mse=\t3.707991469645145\n",
      "rmse=\t1.9256145693375777\n",
      "acc1min=48.84210526315789\n",
      "acc3min=90.94736842105263\n",
      "acc5min=97.96491228070175\n",
      "R2=\t0.36789796675521236\n",
      "n_sample training : 5696\n",
      "n_sample test : 1425\n",
      "n_sample_tot=7121\n",
      "\n"
     ]
    },
    {
     "data": {
      "text/html": [
       "\n",
       "<div id=\"altair-viz-39cf9b402e2240c68c3cd085f43f2afb\"></div>\n",
       "<script type=\"text/javascript\">\n",
       "  (function(spec, embedOpt){\n",
       "    let outputDiv = document.currentScript.previousElementSibling;\n",
       "    if (outputDiv.id !== \"altair-viz-39cf9b402e2240c68c3cd085f43f2afb\") {\n",
       "      outputDiv = document.getElementById(\"altair-viz-39cf9b402e2240c68c3cd085f43f2afb\");\n",
       "    }\n",
       "    const paths = {\n",
       "      \"vega\": \"https://cdn.jsdelivr.net/npm//vega@5?noext\",\n",
       "      \"vega-lib\": \"https://cdn.jsdelivr.net/npm//vega-lib?noext\",\n",
       "      \"vega-lite\": \"https://cdn.jsdelivr.net/npm//vega-lite@4.8.1?noext\",\n",
       "      \"vega-embed\": \"https://cdn.jsdelivr.net/npm//vega-embed@6?noext\",\n",
       "    };\n",
       "\n",
       "    function loadScript(lib) {\n",
       "      return new Promise(function(resolve, reject) {\n",
       "        var s = document.createElement('script');\n",
       "        s.src = paths[lib];\n",
       "        s.async = true;\n",
       "        s.onload = () => resolve(paths[lib]);\n",
       "        s.onerror = () => reject(`Error loading script: ${paths[lib]}`);\n",
       "        document.getElementsByTagName(\"head\")[0].appendChild(s);\n",
       "      });\n",
       "    }\n",
       "\n",
       "    function showError(err) {\n",
       "      outputDiv.innerHTML = `<div class=\"error\" style=\"color:red;\">${err}</div>`;\n",
       "      throw err;\n",
       "    }\n",
       "\n",
       "    function displayChart(vegaEmbed) {\n",
       "      vegaEmbed(outputDiv, spec, embedOpt)\n",
       "        .catch(err => showError(`Javascript Error: ${err.message}<br>This usually means there's a typo in your chart specification. See the javascript console for the full traceback.`));\n",
       "    }\n",
       "\n",
       "    if(typeof define === \"function\" && define.amd) {\n",
       "      requirejs.config({paths});\n",
       "      require([\"vega-embed\"], displayChart, err => showError(`Error loading script: ${err.message}`));\n",
       "    } else if (typeof vegaEmbed === \"function\") {\n",
       "      displayChart(vegaEmbed);\n",
       "    } else {\n",
       "      loadScript(\"vega\")\n",
       "        .then(() => loadScript(\"vega-lite\"))\n",
       "        .then(() => loadScript(\"vega-embed\"))\n",
       "        .catch(showError)\n",
       "        .then(() => displayChart(vegaEmbed));\n",
       "    }\n",
       "  })({\"config\": {\"view\": {\"continuousWidth\": 400, \"continuousHeight\": 300, \"stroke\": null}, \"axis\": {\"labelFont\": \"Ubuntu\", \"labelFontSize\": 15, \"titleFont\": \"Fira Sans\", \"titleFontSize\": 16}, \"header\": {\"labelFont\": \"Ubuntu\", \"labelFontSize\": 18, \"labelOrient\": \"top\"}, \"legend\": {\"labelFont\": \"Ubuntu\", \"labelFontSize\": 14, \"orient\": \"bottom\", \"titleFontSize\": 14}, \"title\": {\"anchor\": \"start\", \"dy\": -10, \"font\": \"Fira Sans\", \"fontSize\": 18}}, \"data\": {\"name\": \"data-84f99c8a5121e4be34d0a1f579b07746\"}, \"mark\": \"bar\", \"encoding\": {\"x\": {\"type\": \"quantitative\", \"field\": \"importance\"}, \"y\": {\"type\": \"nominal\", \"field\": \"feature\", \"sort\": \"-x\"}}, \"transform\": [{\"window\": [{\"op\": \"rank\", \"field\": \"importance\", \"as\": \"rank\"}], \"sort\": [{\"field\": \"importance\", \"order\": \"descending\"}]}, {\"filter\": \"(datum.rank < 20)\"}], \"width\": 200, \"$schema\": \"https://vega.github.io/schema/vega-lite/v4.8.1.json\", \"datasets\": {\"data-84f99c8a5121e4be34d0a1f579b07746\": [{\"feature\": \"config_NORTH1\", \"importance\": 0.0}, {\"feature\": \"P_occ\", \"importance\": 9.870357954396578e-05}, {\"feature\": \"L/M_count\", \"importance\": 0.0001785085559357831}, {\"feature\": \"L/M_count_ratio\", \"importance\": 0.00020610914479686027}, {\"feature\": \"atmap_danger\", \"importance\": 0.00022026289443150427}, {\"feature\": \"atmap_wind\", \"importance\": 0.0005924812015367764}, {\"feature\": \"L_occ\", \"importance\": 0.0006201178284272459}, {\"feature\": \"atmap_visibility\", \"importance\": 0.0006927561748709053}, {\"feature\": \"L_count\", \"importance\": 0.0006966101210142741}, {\"feature\": \"atmap_freezing\", \"importance\": 0.0012955868762957448}, {\"feature\": \"R_occ\", \"importance\": 0.0013735371865577898}, {\"feature\": \"config_NORTH0\", \"importance\": 0.0017463454910179481}, {\"feature\": \"Y_occ\", \"importance\": 0.0017493604255521325}, {\"feature\": \"L_count_ratio\", \"importance\": 0.0022831123257941593}, {\"feature\": \"Z_occ\", \"importance\": 0.00259843008200023}, {\"feature\": \"config_EAST\", \"importance\": 0.002881252546720319}, {\"feature\": \"atmap_precipitation\", \"importance\": 0.00335706520683275}, {\"feature\": \"atmap_score\", \"importance\": 0.004033731155919082}, {\"feature\": \"J_occ\", \"importance\": 0.004100637020128465}, {\"feature\": \"busy\", \"importance\": 0.004210700390888287}, {\"feature\": \"M_occ\", \"importance\": 0.004653181720393609}, {\"feature\": \"config_SOUTH\", \"importance\": 0.004966298923704299}, {\"feature\": \"H_occ\", \"importance\": 0.005540360148541779}, {\"feature\": \"D_occ\", \"importance\": 0.006100141145242763}, {\"feature\": \"F_occ\", \"importance\": 0.006200406477743001}, {\"feature\": \"disrupted\", \"importance\": 0.007160227517918054}, {\"feature\": \"B_occ\", \"importance\": 0.008483537809907377}, {\"feature\": \"G_occ\", \"importance\": 0.008541455699364668}, {\"feature\": \"not_nom_arrival_ratio\", \"importance\": 0.009377158610671999}, {\"feature\": \"A_occ\", \"importance\": 0.010638219812731175}, {\"feature\": \"H_count\", \"importance\": 0.010704474710960985}, {\"feature\": \"N_occ\", \"importance\": 0.010924872152863491}, {\"feature\": \"C_occ\", \"importance\": 0.011286168112570022}, {\"feature\": \"K_occ\", \"importance\": 0.015503163610347339}, {\"feature\": \"E_occ\", \"importance\": 0.017367412504278625}, {\"feature\": \"nb\", \"importance\": 0.02208567736422423}, {\"feature\": \"M_count\", \"importance\": 0.023514060284697963}, {\"feature\": \"H_count_ratio\", \"importance\": 0.03285232229579345}, {\"feature\": \"nb_arr\", \"importance\": 0.034431353610915046}, {\"feature\": \"M_count_ratio\", \"importance\": 0.03794500026375704}, {\"feature\": \"nominal\", \"importance\": 0.04683422312193146}, {\"feature\": \"twy_pca_2\", \"importance\": 0.04901840939607125}, {\"feature\": \"press\", \"importance\": 0.057485971581596226}, {\"feature\": \"avg_speed_last15T\", \"importance\": 0.057950999575277405}, {\"feature\": \"twy_pca_1\", \"importance\": 0.05807120036885303}, {\"feature\": \"avg_speed_last30T\", \"importance\": 0.0588430527524274}, {\"feature\": \"nb_dep\", \"importance\": 0.06110684803723243}, {\"feature\": \"temp\", \"importance\": 0.07808712399409912}, {\"feature\": \"twy_pca_0\", \"importance\": 0.09837928661427196}, {\"feature\": \"max_turnaround_minutes_last30T\", \"importance\": 0.1130120835733486}]}}, {\"mode\": \"vega-lite\"});\n",
       "</script>"
      ],
      "text/plain": [
       "alt.Chart(...)"
      ]
     },
     "metadata": {},
     "output_type": "display_data"
    },
    {
     "data": {
      "text/html": [
       "<div>\n",
       "<style scoped>\n",
       "    .dataframe tbody tr th:only-of-type {\n",
       "        vertical-align: middle;\n",
       "    }\n",
       "\n",
       "    .dataframe tbody tr th {\n",
       "        vertical-align: top;\n",
       "    }\n",
       "\n",
       "    .dataframe thead th {\n",
       "        text-align: right;\n",
       "    }\n",
       "</style>\n",
       "<table border=\"1\" class=\"dataframe\">\n",
       "  <thead>\n",
       "    <tr style=\"text-align: right;\">\n",
       "      <th></th>\n",
       "      <th>acc1min</th>\n",
       "      <th>acc3min</th>\n",
       "      <th>acc5min</th>\n",
       "      <th>mae</th>\n",
       "      <th>mse</th>\n",
       "      <th>name</th>\n",
       "      <th>r2</th>\n",
       "      <th>rmse</th>\n",
       "    </tr>\n",
       "  </thead>\n",
       "  <tbody>\n",
       "    <tr>\n",
       "      <th>0</th>\n",
       "      <td>45.40</td>\n",
       "      <td>89.47</td>\n",
       "      <td>97.75</td>\n",
       "      <td>1.47</td>\n",
       "      <td>4.08</td>\n",
       "      <td>300_avg_add_txot_wang_all/</td>\n",
       "      <td>0.30</td>\n",
       "      <td>2.02</td>\n",
       "    </tr>\n",
       "    <tr>\n",
       "      <th>1</th>\n",
       "      <td>44.42</td>\n",
       "      <td>89.33</td>\n",
       "      <td>98.11</td>\n",
       "      <td>1.47</td>\n",
       "      <td>4.11</td>\n",
       "      <td>301_avg_add_txot_wang_noaqlis/</td>\n",
       "      <td>0.30</td>\n",
       "      <td>2.03</td>\n",
       "    </tr>\n",
       "    <tr>\n",
       "      <th>2</th>\n",
       "      <td>35.17</td>\n",
       "      <td>83.84</td>\n",
       "      <td>97.08</td>\n",
       "      <td>1.73</td>\n",
       "      <td>5.06</td>\n",
       "      <td>302_avg_add_txot_wang_few/</td>\n",
       "      <td>0.08</td>\n",
       "      <td>2.25</td>\n",
       "    </tr>\n",
       "    <tr>\n",
       "      <th>3</th>\n",
       "      <td>48.84</td>\n",
       "      <td>90.95</td>\n",
       "      <td>97.96</td>\n",
       "      <td>1.38</td>\n",
       "      <td>3.71</td>\n",
       "      <td>303_avg_add_txot_avg_delay_pred/</td>\n",
       "      <td>0.37</td>\n",
       "      <td>1.93</td>\n",
       "    </tr>\n",
       "  </tbody>\n",
       "</table>\n",
       "</div>"
      ],
      "text/plain": [
       "   acc1min  acc3min  acc5min   mae   mse                              name  \\\n",
       "0    45.40    89.47    97.75  1.47  4.08        300_avg_add_txot_wang_all/   \n",
       "1    44.42    89.33    98.11  1.47  4.11    301_avg_add_txot_wang_noaqlis/   \n",
       "2    35.17    83.84    97.08  1.73  5.06        302_avg_add_txot_wang_few/   \n",
       "3    48.84    90.95    97.96  1.38  3.71  303_avg_add_txot_avg_delay_pred/   \n",
       "\n",
       "     r2  rmse  \n",
       "0  0.30  2.02  \n",
       "1  0.30  2.03  \n",
       "2  0.08  2.25  \n",
       "3  0.37  1.93  "
      ]
     },
     "execution_count": 75,
     "metadata": {},
     "output_type": "execute_result"
    },
    {
     "data": {
      "image/png": "[encoded data removed]",
      "text/plain": [
       "<Figure size 468x684 with 1 Axes>"
      ]
     },
     "metadata": {
      "needs_background": "light"
     },
     "output_type": "display_data"
    },
    {
     "data": {
      "text/plain": [
       "<Figure size 360x576 with 0 Axes>"
      ]
     },
     "metadata": {},
     "output_type": "display_data"
    },
    {
     "data": {
      "image/png": "[encoded data removed]",
      "text/plain": [
       "<Figure size 468x684 with 1 Axes>"
      ]
     },
     "metadata": {
      "needs_background": "light"
     },
     "output_type": "display_data"
    },
    {
     "data": {
      "text/plain": [
       "<Figure size 360x576 with 0 Axes>"
      ]
     },
     "metadata": {},
     "output_type": "display_data"
    },
    {
     "data": {
      "image/png": "[encoded data removed]",
      "text/plain": [
       "<Figure size 468x684 with 1 Axes>"
      ]
     },
     "metadata": {
      "needs_background": "light"
     },
     "output_type": "display_data"
    },
    {
     "data": {
      "text/plain": [
       "<Figure size 360x576 with 0 Axes>"
      ]
     },
     "metadata": {},
     "output_type": "display_data"
    },
    {
     "data": {
      "image/png": "[encoded data removed]",
      "text/plain": [
       "<Figure size 468x684 with 1 Axes>"
      ]
     },
     "metadata": {
      "needs_background": "light"
     },
     "output_type": "display_data"
    },
    {
     "data": {
      "text/plain": [
       "<Figure size 360x576 with 0 Axes>"
      ]
     },
     "metadata": {},
     "output_type": "display_data"
    }
   ],
   "source": [
    "base_dir = \"../prediction_results/\"\n",
    "df_res = pd.DataFrame()\n",
    "for i, (set_name, features) in enumerate(main_feature_sets.items()):\n",
    "    test_name = f\"30{i}_avg_add_txot_{set_name}/\"\n",
    "    # avg_delay_in30min   real_dur_minutes taxi_holding_time_minutes\n",
    "    res, labels_test, predicted, clf = train_rf(\n",
    "        dep_arr_df,\n",
    "        features,\n",
    "        \"avg_delay_in30min\",\n",
    "        query=\"parking_position==parking_position & mvt_type=='DEP'\",\n",
    "        dirname=base_dir + test_name,\n",
    "        dropna=False,\n",
    "    )\n",
    "    d_res = res._asdict()\n",
    "    d_res[\"name\"] = test_name\n",
    "    df_res = df_res.append(d_res, ignore_index=True)\n",
    "df_res"
   ]
  },
  {
   "cell_type": "code",
   "execution_count": 76,
   "id": "6b7c481f-28c7-48cc-9557-2099f248dd12",
   "metadata": {
    "execution": {
     "iopub.execute_input": "2021-07-22T12:39:41.049828Z",
     "iopub.status.busy": "2021-07-22T12:39:41.049660Z",
     "iopub.status.idle": "2021-07-22T12:39:41.063652Z",
     "shell.execute_reply": "2021-07-22T12:39:41.062858Z",
     "shell.execute_reply.started": "2021-07-22T12:39:41.049810Z"
    },
    "tags": []
   },
   "outputs": [
    {
     "data": {
      "text/html": [
       "<div>\n",
       "<style scoped>\n",
       "    .dataframe tbody tr th:only-of-type {\n",
       "        vertical-align: middle;\n",
       "    }\n",
       "\n",
       "    .dataframe tbody tr th {\n",
       "        vertical-align: top;\n",
       "    }\n",
       "\n",
       "    .dataframe thead th {\n",
       "        text-align: right;\n",
       "    }\n",
       "</style>\n",
       "<table border=\"1\" class=\"dataframe\">\n",
       "  <thead>\n",
       "    <tr style=\"text-align: right;\">\n",
       "      <th>name</th>\n",
       "      <th>300_avg_add_txot_wang_all/</th>\n",
       "      <th>301_avg_add_txot_wang_noaqlis/</th>\n",
       "      <th>302_avg_add_txot_wang_few/</th>\n",
       "      <th>303_avg_add_txot_avg_delay_pred/</th>\n",
       "    </tr>\n",
       "  </thead>\n",
       "  <tbody>\n",
       "    <tr>\n",
       "      <th>acc1min</th>\n",
       "      <td>45.4</td>\n",
       "      <td>44.42</td>\n",
       "      <td>35.17</td>\n",
       "      <td>48.84</td>\n",
       "    </tr>\n",
       "    <tr>\n",
       "      <th>acc3min</th>\n",
       "      <td>89.47</td>\n",
       "      <td>89.33</td>\n",
       "      <td>83.84</td>\n",
       "      <td>90.95</td>\n",
       "    </tr>\n",
       "    <tr>\n",
       "      <th>acc5min</th>\n",
       "      <td>97.75</td>\n",
       "      <td>98.11</td>\n",
       "      <td>97.08</td>\n",
       "      <td>97.96</td>\n",
       "    </tr>\n",
       "    <tr>\n",
       "      <th>mae</th>\n",
       "      <td>1.47</td>\n",
       "      <td>1.47</td>\n",
       "      <td>1.73</td>\n",
       "      <td>1.38</td>\n",
       "    </tr>\n",
       "    <tr>\n",
       "      <th>mse</th>\n",
       "      <td>4.08</td>\n",
       "      <td>4.11</td>\n",
       "      <td>5.06</td>\n",
       "      <td>3.71</td>\n",
       "    </tr>\n",
       "    <tr>\n",
       "      <th>name</th>\n",
       "      <td>300_avg_add_txot_wang_all/</td>\n",
       "      <td>301_avg_add_txot_wang_noaqlis/</td>\n",
       "      <td>302_avg_add_txot_wang_few/</td>\n",
       "      <td>303_avg_add_txot_avg_delay_pred/</td>\n",
       "    </tr>\n",
       "    <tr>\n",
       "      <th>r2</th>\n",
       "      <td>0.3</td>\n",
       "      <td>0.3</td>\n",
       "      <td>0.08</td>\n",
       "      <td>0.37</td>\n",
       "    </tr>\n",
       "    <tr>\n",
       "      <th>rmse</th>\n",
       "      <td>2.02</td>\n",
       "      <td>2.03</td>\n",
       "      <td>2.25</td>\n",
       "      <td>1.93</td>\n",
       "    </tr>\n",
       "  </tbody>\n",
       "</table>\n",
       "</div>"
      ],
      "text/plain": [
       "name     300_avg_add_txot_wang_all/  301_avg_add_txot_wang_noaqlis/  \\\n",
       "acc1min                        45.4                           44.42   \n",
       "acc3min                       89.47                           89.33   \n",
       "acc5min                       97.75                           98.11   \n",
       "mae                            1.47                            1.47   \n",
       "mse                            4.08                            4.11   \n",
       "name     300_avg_add_txot_wang_all/  301_avg_add_txot_wang_noaqlis/   \n",
       "r2                              0.3                             0.3   \n",
       "rmse                           2.02                            2.03   \n",
       "\n",
       "name     302_avg_add_txot_wang_few/  303_avg_add_txot_avg_delay_pred/  \n",
       "acc1min                       35.17                             48.84  \n",
       "acc3min                       83.84                             90.95  \n",
       "acc5min                       97.08                             97.96  \n",
       "mae                            1.73                              1.38  \n",
       "mse                            5.06                              3.71  \n",
       "name     302_avg_add_txot_wang_few/  303_avg_add_txot_avg_delay_pred/  \n",
       "r2                             0.08                              0.37  \n",
       "rmse                           2.25                              1.93  "
      ]
     },
     "execution_count": 76,
     "metadata": {},
     "output_type": "execute_result"
    }
   ],
   "source": [
    "tolatex = df_res.transpose()\n",
    "tolatex.columns = tolatex.loc[\"name\"]\n",
    "tolatex"
   ]
  },
  {
   "cell_type": "code",
   "execution_count": 77,
   "id": "ad7041cb-af58-4bde-b86d-49944dcc326f",
   "metadata": {
    "execution": {
     "iopub.execute_input": "2021-07-22T12:39:41.064785Z",
     "iopub.status.busy": "2021-07-22T12:39:41.064628Z",
     "iopub.status.idle": "2021-07-22T12:39:41.077703Z",
     "shell.execute_reply": "2021-07-22T12:39:41.076764Z",
     "shell.execute_reply.started": "2021-07-22T12:39:41.064767Z"
    },
    "tags": []
   },
   "outputs": [
    {
     "name": "stdout",
     "output_type": "stream",
     "text": [
      "\\begin{tabular}{lllll}\n",
      "\\toprule\n",
      "name &  300\\_avg\\_add\\_txot\\_wang\\_all/ &  301\\_avg\\_add\\_txot\\_wang\\_noaqlis/ &  302\\_avg\\_add\\_txot\\_wang\\_few/ &  303\\_avg\\_add\\_txot\\_avg\\_delay\\_pred/ \\\\\n",
      "\\midrule\n",
      "acc1min &                        45.4 &                           44.42 &                       35.17 &                             48.84 \\\\\n",
      "acc3min &                       89.47 &                           89.33 &                       83.84 &                             90.95 \\\\\n",
      "acc5min &                       97.75 &                           98.11 &                       97.08 &                             97.96 \\\\\n",
      "mae     &                        1.47 &                            1.47 &                        1.73 &                              1.38 \\\\\n",
      "mse     &                        4.08 &                            4.11 &                        5.06 &                              3.71 \\\\\n",
      "name    &  300\\_avg\\_add\\_txot\\_wang\\_all/ &  301\\_avg\\_add\\_txot\\_wang\\_noaqlis/ &  302\\_avg\\_add\\_txot\\_wang\\_few/ &  303\\_avg\\_add\\_txot\\_avg\\_delay\\_pred/ \\\\\n",
      "r2      &                         0.3 &                             0.3 &                        0.08 &                              0.37 \\\\\n",
      "rmse    &                        2.02 &                            2.03 &                        2.25 &                              1.93 \\\\\n",
      "\\bottomrule\n",
      "\\end{tabular}\n",
      "\n"
     ]
    }
   ],
   "source": [
    "print(tolatex.to_latex())"
   ]
  },
  {
   "cell_type": "code",
   "execution_count": 43,
   "id": "bbbe75f6-b1aa-4107-9a28-a721a50331fe",
   "metadata": {
    "execution": {
     "iopub.execute_input": "2021-07-21T14:08:31.825114Z",
     "iopub.status.busy": "2021-07-21T14:08:31.824412Z",
     "iopub.status.idle": "2021-07-21T14:08:31.844853Z",
     "shell.execute_reply": "2021-07-21T14:08:31.844062Z",
     "shell.execute_reply.started": "2021-07-21T14:08:31.825088Z"
    },
    "tags": []
   },
   "outputs": [
    {
     "data": {
      "text/html": [
       "<div>\n",
       "<style scoped>\n",
       "    .dataframe tbody tr th:only-of-type {\n",
       "        vertical-align: middle;\n",
       "    }\n",
       "\n",
       "    .dataframe tbody tr th {\n",
       "        vertical-align: top;\n",
       "    }\n",
       "\n",
       "    .dataframe thead th {\n",
       "        text-align: right;\n",
       "    }\n",
       "</style>\n",
       "<table border=\"1\" class=\"dataframe\">\n",
       "  <thead>\n",
       "    <tr style=\"text-align: right;\">\n",
       "      <th></th>\n",
       "      <th>r2</th>\n",
       "      <th>mae</th>\n",
       "      <th>rmse</th>\n",
       "      <th>acc1min</th>\n",
       "      <th>acc3min</th>\n",
       "      <th>acc5min</th>\n",
       "    </tr>\n",
       "    <tr>\n",
       "      <th>name</th>\n",
       "      <th></th>\n",
       "      <th></th>\n",
       "      <th></th>\n",
       "      <th></th>\n",
       "      <th></th>\n",
       "      <th></th>\n",
       "    </tr>\n",
       "  </thead>\n",
       "  <tbody>\n",
       "    <tr>\n",
       "      <th>110_txot_ONLYdep_wang_all/</th>\n",
       "      <td>0.73</td>\n",
       "      <td>1.69</td>\n",
       "      <td>2.41</td>\n",
       "      <td>40.49</td>\n",
       "      <td>86.53</td>\n",
       "      <td>96.07</td>\n",
       "    </tr>\n",
       "    <tr>\n",
       "      <th>111_txot_ONLYdep_wang_noaqlis/</th>\n",
       "      <td>0.48</td>\n",
       "      <td>2.24</td>\n",
       "      <td>3.31</td>\n",
       "      <td>32.98</td>\n",
       "      <td>74.46</td>\n",
       "      <td>91.44</td>\n",
       "    </tr>\n",
       "    <tr>\n",
       "      <th>112_txot_ONLYdep_wang_few/</th>\n",
       "      <td>0.45</td>\n",
       "      <td>2.46</td>\n",
       "      <td>3.54</td>\n",
       "      <td>28.97</td>\n",
       "      <td>71.10</td>\n",
       "      <td>89.07</td>\n",
       "    </tr>\n",
       "  </tbody>\n",
       "</table>\n",
       "</div>"
      ],
      "text/plain": [
       "                                  r2   mae  rmse  acc1min  acc3min  acc5min\n",
       "name                                                                       \n",
       "110_txot_ONLYdep_wang_all/      0.73  1.69  2.41    40.49    86.53    96.07\n",
       "111_txot_ONLYdep_wang_noaqlis/  0.48  2.24  3.31    32.98    74.46    91.44\n",
       "112_txot_ONLYdep_wang_few/      0.45  2.46  3.54    28.97    71.10    89.07"
      ]
     },
     "execution_count": 43,
     "metadata": {},
     "output_type": "execute_result"
    }
   ],
   "source": [
    "pd.set_option(\"precision\", 2)\n",
    "df_res.pivot_table(index=\"name\")[[\"r2\", \"mae\", \"rmse\", \"acc1min\", \"acc3min\", \"acc5min\"]]"
   ]
  },
  {
   "cell_type": "code",
   "execution_count": 37,
   "id": "c8f9eeb2-3a1f-44ba-aadb-6f840f134c15",
   "metadata": {
    "execution": {
     "iopub.execute_input": "2021-07-20T12:54:21.551639Z",
     "iopub.status.busy": "2021-07-20T12:54:21.550444Z",
     "iopub.status.idle": "2021-07-20T12:54:21.560579Z",
     "shell.execute_reply": "2021-07-20T12:54:21.559980Z",
     "shell.execute_reply.started": "2021-07-20T12:54:21.551594Z"
    },
    "tags": []
   },
   "outputs": [
    {
     "data": {
      "text/plain": [
       "87"
      ]
     },
     "execution_count": 37,
     "metadata": {},
     "output_type": "execute_result"
    }
   ],
   "source": [
    "len(sum(dict_feature_sets.values(), []))"
   ]
  },
  {
   "cell_type": "code",
   "execution_count": 32,
   "id": "f3c30d90-e4a8-4209-90d0-57f839905918",
   "metadata": {
    "execution": {
     "iopub.execute_input": "2021-07-20T12:02:11.560459Z",
     "iopub.status.busy": "2021-07-20T12:02:11.560090Z",
     "iopub.status.idle": "2021-07-20T12:02:11.581284Z",
     "shell.execute_reply": "2021-07-20T12:02:11.580472Z",
     "shell.execute_reply.started": "2021-07-20T12:02:11.560436Z"
    },
    "tags": []
   },
   "outputs": [
    {
     "data": {
      "text/plain": [
       "(6113, 121)"
      ]
     },
     "execution_count": 32,
     "metadata": {},
     "output_type": "execute_result"
    }
   ],
   "source": [
    "dep_arr_df.query(\"mvt_type=='DEP' & end_pb==end_pb\").shape"
   ]
  },
  {
   "cell_type": "code",
   "execution_count": 31,
   "id": "8cb0cc75-4115-4ea6-b1e8-d8627ac0b5bf",
   "metadata": {
    "execution": {
     "iopub.execute_input": "2021-07-20T11:47:58.068540Z",
     "iopub.status.busy": "2021-07-20T11:47:58.067553Z",
     "iopub.status.idle": "2021-07-20T11:47:58.082273Z",
     "shell.execute_reply": "2021-07-20T11:47:58.081883Z",
     "shell.execute_reply.started": "2021-07-20T11:47:58.068488Z"
    },
    "tags": []
   },
   "outputs": [
    {
     "data": {
      "text/plain": [
       "ARR    19072\n",
       "DEP    16458\n",
       "Name: mvt_type, dtype: int64"
      ]
     },
     "execution_count": 31,
     "metadata": {},
     "output_type": "execute_result"
    }
   ],
   "source": [
    "dep_arr_df.mvt_type.value_counts()"
   ]
  },
  {
   "cell_type": "code",
   "execution_count": null,
   "id": "9e2affc7-b0d2-4a45-ac2c-8da9a208fb9b",
   "metadata": {
    "tags": []
   },
   "outputs": [],
   "source": [
    "6113 / 16458 * 100"
   ]
  },
  {
   "cell_type": "code",
   "execution_count": 93,
   "id": "c2cb3774-cf49-40c4-bb31-61521beb7d02",
   "metadata": {
    "execution": {
     "iopub.execute_input": "2021-07-23T07:53:47.616352Z",
     "iopub.status.busy": "2021-07-23T07:53:47.616048Z",
     "iopub.status.idle": "2021-07-23T07:53:47.620885Z",
     "shell.execute_reply": "2021-07-23T07:53:47.620319Z",
     "shell.execute_reply.started": "2021-07-23T07:53:47.616330Z"
    },
    "tags": []
   },
   "outputs": [
    {
     "data": {
      "text/plain": [
       "(35530, 122)"
      ]
     },
     "execution_count": 93,
     "metadata": {},
     "output_type": "execute_result"
    }
   ],
   "source": [
    "dep_arr_df.shape"
   ]
  },
  {
   "cell_type": "markdown",
   "id": "783d3606-b46e-4084-ac55-9f6635d325d6",
   "metadata": {},
   "source": [
    "# Including lasst avgdelay"
   ]
  },
  {
   "cell_type": "code",
   "execution_count": 145,
   "id": "cffa0ac0-dce9-4879-aca7-d8dbfb07d649",
   "metadata": {
    "collapsed": true,
    "execution": {
     "iopub.execute_input": "2021-07-23T12:33:57.864548Z",
     "iopub.status.busy": "2021-07-23T12:33:57.864064Z",
     "iopub.status.idle": "2021-07-23T12:33:57.870313Z",
     "shell.execute_reply": "2021-07-23T12:33:57.869853Z",
     "shell.execute_reply.started": "2021-07-23T12:33:57.864523Z"
    },
    "jupyter": {
     "outputs_hidden": true
    },
    "tags": []
   },
   "outputs": [
    {
     "data": {
      "text/plain": [
       "['max_turnaround_minutes_last30T',\n",
       " 'H_count',\n",
       " 'L_count',\n",
       " 'L/M_count',\n",
       " 'M_count',\n",
       " 'H_count_ratio',\n",
       " 'L_count_ratio',\n",
       " 'L/M_count_ratio',\n",
       " 'M_count_ratio',\n",
       " 'H_occ',\n",
       " 'K_occ',\n",
       " 'B_occ',\n",
       " 'F_occ',\n",
       " 'L_occ',\n",
       " 'J_occ',\n",
       " 'E_occ',\n",
       " 'D_occ',\n",
       " 'C_occ',\n",
       " 'N_occ',\n",
       " 'A_occ',\n",
       " 'M_occ',\n",
       " 'Y_occ',\n",
       " 'R_occ',\n",
       " 'G_occ',\n",
       " 'Z_occ',\n",
       " 'P_occ',\n",
       " 'twy_pca_0',\n",
       " 'twy_pca_1',\n",
       " 'twy_pca_2',\n",
       " 'press',\n",
       " 'temp',\n",
       " 'atmap_visibility',\n",
       " 'atmap_wind',\n",
       " 'atmap_precipitation',\n",
       " 'atmap_freezing',\n",
       " 'atmap_danger',\n",
       " 'atmap_score',\n",
       " 'nominal',\n",
       " 'busy',\n",
       " 'disrupted',\n",
       " 'not_nom_arrival_ratio',\n",
       " 'nb_arr',\n",
       " 'nb_dep',\n",
       " 'nb',\n",
       " 'avg_speed_last30T',\n",
       " 'avg_speed_last15T',\n",
       " 'config_EAST',\n",
       " 'config_NORTH0',\n",
       " 'config_NORTH1',\n",
       " 'config_SOUTH',\n",
       " 'avg_delay_30min']"
      ]
     },
     "execution_count": 145,
     "metadata": {},
     "output_type": "execute_result"
    }
   ],
   "source": [
    "main_feature_sets[\"avg_delay_pred_with_prevAvgDelay\"]"
   ]
  },
  {
   "cell_type": "code",
   "execution_count": 149,
   "id": "d2383529-e3a8-4ad3-b388-de47c698da9a",
   "metadata": {
    "execution": {
     "iopub.execute_input": "2021-07-23T12:37:38.329191Z",
     "iopub.status.busy": "2021-07-23T12:37:38.328264Z",
     "iopub.status.idle": "2021-07-23T12:37:38.360394Z",
     "shell.execute_reply": "2021-07-23T12:37:38.359466Z",
     "shell.execute_reply.started": "2021-07-23T12:37:38.329139Z"
    },
    "tags": []
   },
   "outputs": [
    {
     "data": {
      "text/html": [
       "<div>\n",
       "<style scoped>\n",
       "    .dataframe tbody tr th:only-of-type {\n",
       "        vertical-align: middle;\n",
       "    }\n",
       "\n",
       "    .dataframe tbody tr th {\n",
       "        vertical-align: top;\n",
       "    }\n",
       "\n",
       "    .dataframe thead th {\n",
       "        text-align: right;\n",
       "    }\n",
       "</style>\n",
       "<table border=\"1\" class=\"dataframe\">\n",
       "  <thead>\n",
       "    <tr style=\"text-align: right;\">\n",
       "      <th></th>\n",
       "      <th>flight_id</th>\n",
       "      <th>avg_delay_30min</th>\n",
       "    </tr>\n",
       "  </thead>\n",
       "  <tbody>\n",
       "    <tr>\n",
       "      <th>4</th>\n",
       "      <td>EDW200_5718</td>\n",
       "      <td>1.30</td>\n",
       "    </tr>\n",
       "    <tr>\n",
       "      <th>12</th>\n",
       "      <td>EDW77D_14374</td>\n",
       "      <td>0.65</td>\n",
       "    </tr>\n",
       "    <tr>\n",
       "      <th>14</th>\n",
       "      <td>EDW15T_7910</td>\n",
       "      <td>0.78</td>\n",
       "    </tr>\n",
       "    <tr>\n",
       "      <th>18</th>\n",
       "      <td>EDW214_7815</td>\n",
       "      <td>1.39</td>\n",
       "    </tr>\n",
       "    <tr>\n",
       "      <th>19</th>\n",
       "      <td>TAP929_5192</td>\n",
       "      <td>1.67</td>\n",
       "    </tr>\n",
       "    <tr>\n",
       "      <th>...</th>\n",
       "      <td>...</td>\n",
       "      <td>...</td>\n",
       "    </tr>\n",
       "    <tr>\n",
       "      <th>35521</th>\n",
       "      <td>SWR80KF_10610</td>\n",
       "      <td>0.00</td>\n",
       "    </tr>\n",
       "    <tr>\n",
       "      <th>35523</th>\n",
       "      <td>UAE86_20078</td>\n",
       "      <td>1.57</td>\n",
       "    </tr>\n",
       "    <tr>\n",
       "      <th>35524</th>\n",
       "      <td>SWR256_9233</td>\n",
       "      <td>1.04</td>\n",
       "    </tr>\n",
       "    <tr>\n",
       "      <th>35527</th>\n",
       "      <td>SWR176_15653</td>\n",
       "      <td>1.35</td>\n",
       "    </tr>\n",
       "    <tr>\n",
       "      <th>35528</th>\n",
       "      <td>SWR92_15689</td>\n",
       "      <td>1.78</td>\n",
       "    </tr>\n",
       "  </tbody>\n",
       "</table>\n",
       "<p>7198 rows × 2 columns</p>\n",
       "</div>"
      ],
      "text/plain": [
       "           flight_id  avg_delay_30min\n",
       "4        EDW200_5718             1.30\n",
       "12      EDW77D_14374             0.65\n",
       "14       EDW15T_7910             0.78\n",
       "18       EDW214_7815             1.39\n",
       "19       TAP929_5192             1.67\n",
       "...              ...              ...\n",
       "35521  SWR80KF_10610             0.00\n",
       "35523    UAE86_20078             1.57\n",
       "35524    SWR256_9233             1.04\n",
       "35527   SWR176_15653             1.35\n",
       "35528    SWR92_15689             1.78\n",
       "\n",
       "[7198 rows x 2 columns]"
      ]
     },
     "execution_count": 149,
     "metadata": {},
     "output_type": "execute_result"
    }
   ],
   "source": [
    "dep_arr_df.query(\"parking_position==parking_position & mvt_type=='DEP'\")[\n",
    "    [\"flight_id\", \"avg_delay_30min\"]\n",
    "]"
   ]
  },
  {
   "cell_type": "code",
   "execution_count": 318,
   "id": "54d2dffc-6657-4d23-8bb0-7bd866ea7e75",
   "metadata": {
    "execution": {
     "iopub.execute_input": "2021-07-26T09:49:50.946569Z",
     "iopub.status.busy": "2021-07-26T09:49:50.945794Z",
     "iopub.status.idle": "2021-07-26T09:49:59.152238Z",
     "shell.execute_reply": "2021-07-26T09:49:59.150020Z",
     "shell.execute_reply.started": "2021-07-26T09:49:50.946531Z"
    },
    "tags": []
   },
   "outputs": [
    {
     "name": "stdout",
     "output_type": "stream",
     "text": [
      "Results for Random Forest on the following features :\n",
      "max_turnaround_minutes_last30T hh_num H_count L_count L/M_count M_count H_count_ratio L_count_ratio L/M_count_ratio M_count_ratio H_occ K_occ B_occ F_occ L_occ J_occ E_occ D_occ C_occ N_occ A_occ M_occ Y_occ R_occ G_occ Z_occ P_occ twy_pca_0 twy_pca_1 twy_pca_2 press temp atmap_visibility atmap_wind atmap_precipitation atmap_freezing atmap_danger atmap_score nominal busy disrupted not_nom_arrival_ratio nb_arr nb_dep nb avg_speed_last30T avg_speed_last15T config_EAST config_NORTH0 config_NORTH1 config_SOUTH avg_delay_30min\n",
      "Target var : avg_delay_in30min\n",
      "Selecting the subset with following query : \n",
      "parking_position==parking_position & mvt_type=='DEP'\n",
      "mae=\t1.3716293571196512\n",
      "mse=\t3.8094422944336968\n",
      "rmse=\t1.9517792637574816\n",
      "acc1min=51.2280701754386\n",
      "acc3min=89.26315789473685\n",
      "acc5min=98.10526315789474\n",
      "R2=\t0.37449051586142945\n",
      "n_sample training : 5696\n",
      "n_sample test : 1425\n",
      "n_sample_tot=7121\n",
      "\n"
     ]
    },
    {
     "data": {
      "text/html": [
       "\n",
       "<div id=\"altair-viz-35ba5859aed84853a94b0578d7cb33a6\"></div>\n",
       "<script type=\"text/javascript\">\n",
       "  (function(spec, embedOpt){\n",
       "    let outputDiv = document.currentScript.previousElementSibling;\n",
       "    if (outputDiv.id !== \"altair-viz-35ba5859aed84853a94b0578d7cb33a6\") {\n",
       "      outputDiv = document.getElementById(\"altair-viz-35ba5859aed84853a94b0578d7cb33a6\");\n",
       "    }\n",
       "    const paths = {\n",
       "      \"vega\": \"https://cdn.jsdelivr.net/npm//vega@5?noext\",\n",
       "      \"vega-lib\": \"https://cdn.jsdelivr.net/npm//vega-lib?noext\",\n",
       "      \"vega-lite\": \"https://cdn.jsdelivr.net/npm//vega-lite@4.8.1?noext\",\n",
       "      \"vega-embed\": \"https://cdn.jsdelivr.net/npm//vega-embed@6?noext\",\n",
       "    };\n",
       "\n",
       "    function loadScript(lib) {\n",
       "      return new Promise(function(resolve, reject) {\n",
       "        var s = document.createElement('script');\n",
       "        s.src = paths[lib];\n",
       "        s.async = true;\n",
       "        s.onload = () => resolve(paths[lib]);\n",
       "        s.onerror = () => reject(`Error loading script: ${paths[lib]}`);\n",
       "        document.getElementsByTagName(\"head\")[0].appendChild(s);\n",
       "      });\n",
       "    }\n",
       "\n",
       "    function showError(err) {\n",
       "      outputDiv.innerHTML = `<div class=\"error\" style=\"color:red;\">${err}</div>`;\n",
       "      throw err;\n",
       "    }\n",
       "\n",
       "    function displayChart(vegaEmbed) {\n",
       "      vegaEmbed(outputDiv, spec, embedOpt)\n",
       "        .catch(err => showError(`Javascript Error: ${err.message}<br>This usually means there's a typo in your chart specification. See the javascript console for the full traceback.`));\n",
       "    }\n",
       "\n",
       "    if(typeof define === \"function\" && define.amd) {\n",
       "      requirejs.config({paths});\n",
       "      require([\"vega-embed\"], displayChart, err => showError(`Error loading script: ${err.message}`));\n",
       "    } else if (typeof vegaEmbed === \"function\") {\n",
       "      displayChart(vegaEmbed);\n",
       "    } else {\n",
       "      loadScript(\"vega\")\n",
       "        .then(() => loadScript(\"vega-lite\"))\n",
       "        .then(() => loadScript(\"vega-embed\"))\n",
       "        .catch(showError)\n",
       "        .then(() => displayChart(vegaEmbed));\n",
       "    }\n",
       "  })({\"config\": {\"view\": {\"continuousWidth\": 400, \"continuousHeight\": 300, \"stroke\": null}, \"axis\": {\"labelFont\": \"Ubuntu\", \"labelFontSize\": 15, \"titleFont\": \"Fira Sans\", \"titleFontSize\": 16}, \"header\": {\"labelFont\": \"Ubuntu\", \"labelFontSize\": 18, \"labelOrient\": \"top\"}, \"legend\": {\"labelFont\": \"Ubuntu\", \"labelFontSize\": 14, \"orient\": \"bottom\", \"titleFontSize\": 14}, \"title\": {\"anchor\": \"start\", \"dy\": -10, \"font\": \"Fira Sans\", \"fontSize\": 18}}, \"data\": {\"name\": \"data-1b419447262d39449823507704983945\"}, \"mark\": \"bar\", \"encoding\": {\"x\": {\"type\": \"quantitative\", \"field\": \"importance\"}, \"y\": {\"type\": \"nominal\", \"field\": \"feature\", \"sort\": \"-x\"}}, \"transform\": [{\"window\": [{\"op\": \"rank\", \"field\": \"importance\", \"as\": \"rank\"}], \"sort\": [{\"field\": \"importance\", \"order\": \"descending\"}]}, {\"filter\": \"(datum.rank < 20)\"}], \"width\": 200, \"$schema\": \"https://vega.github.io/schema/vega-lite/v4.8.1.json\", \"datasets\": {\"data-1b419447262d39449823507704983945\": [{\"feature\": \"config_NORTH1\", \"importance\": 0.0}, {\"feature\": \"P_occ\", \"importance\": 1.6977676573615397e-05}, {\"feature\": \"atmap_wind\", \"importance\": 0.00014793634031704753}, {\"feature\": \"L/M_count_ratio\", \"importance\": 0.00023879637412835023}, {\"feature\": \"atmap_danger\", \"importance\": 0.0002482799893902932}, {\"feature\": \"L/M_count\", \"importance\": 0.00026030460727567353}, {\"feature\": \"atmap_visibility\", \"importance\": 0.0002803503146143382}, {\"feature\": \"R_occ\", \"importance\": 0.0006404175678140828}, {\"feature\": \"L_occ\", \"importance\": 0.0006952069553157458}, {\"feature\": \"L_count\", \"importance\": 0.0007992944527611923}, {\"feature\": \"config_NORTH0\", \"importance\": 0.0010691082997464228}, {\"feature\": \"atmap_freezing\", \"importance\": 0.0011429715895239583}, {\"feature\": \"config_SOUTH\", \"importance\": 0.0011994228181249227}, {\"feature\": \"Y_occ\", \"importance\": 0.0013872813564037552}, {\"feature\": \"config_EAST\", \"importance\": 0.0015133892166987472}, {\"feature\": \"Z_occ\", \"importance\": 0.0021957855246933227}, {\"feature\": \"M_occ\", \"importance\": 0.002846435232725646}, {\"feature\": \"busy\", \"importance\": 0.002886972051798479}, {\"feature\": \"atmap_score\", \"importance\": 0.0030135287430196793}, {\"feature\": \"D_occ\", \"importance\": 0.0034842019260548866}, {\"feature\": \"J_occ\", \"importance\": 0.004065933431755}, {\"feature\": \"G_occ\", \"importance\": 0.004138889520527741}, {\"feature\": \"L_count_ratio\", \"importance\": 0.004160410100807453}, {\"feature\": \"disrupted\", \"importance\": 0.0044062148608902925}, {\"feature\": \"atmap_precipitation\", \"importance\": 0.004832930381929453}, {\"feature\": \"H_occ\", \"importance\": 0.004979509166463804}, {\"feature\": \"B_occ\", \"importance\": 0.005299766119922208}, {\"feature\": \"not_nom_arrival_ratio\", \"importance\": 0.005634410685814922}, {\"feature\": \"K_occ\", \"importance\": 0.006453010665174409}, {\"feature\": \"N_occ\", \"importance\": 0.008075858393833327}, {\"feature\": \"F_occ\", \"importance\": 0.008155928345942594}, {\"feature\": \"H_count\", \"importance\": 0.009032767231412681}, {\"feature\": \"A_occ\", \"importance\": 0.010925605542826386}, {\"feature\": \"C_occ\", \"importance\": 0.011253831496786958}, {\"feature\": \"E_occ\", \"importance\": 0.012383252848519028}, {\"feature\": \"nb\", \"importance\": 0.01880264071484567}, {\"feature\": \"M_count\", \"importance\": 0.023531854131681164}, {\"feature\": \"nominal\", \"importance\": 0.02909548336848256}, {\"feature\": \"nb_arr\", \"importance\": 0.03153252774925758}, {\"feature\": \"nb_dep\", \"importance\": 0.03176024619250967}, {\"feature\": \"H_count_ratio\", \"importance\": 0.035535869761307556}, {\"feature\": \"M_count_ratio\", \"importance\": 0.03580502668471522}, {\"feature\": \"twy_pca_1\", \"importance\": 0.039654597143560934}, {\"feature\": \"avg_speed_last15T\", \"importance\": 0.03988004362434408}, {\"feature\": \"avg_speed_last30T\", \"importance\": 0.04298999293450598}, {\"feature\": \"press\", \"importance\": 0.045765886765151614}, {\"feature\": \"twy_pca_2\", \"importance\": 0.049541891656637235}, {\"feature\": \"twy_pca_0\", \"importance\": 0.052405486324627264}, {\"feature\": \"temp\", \"importance\": 0.05703407070787189}, {\"feature\": \"max_turnaround_minutes_last30T\", \"importance\": 0.07597987821869055}, {\"feature\": \"hh_num\", \"importance\": 0.08061860007457444}, {\"feature\": \"avg_delay_30min\", \"importance\": 0.18220092411765032}]}}, {\"mode\": \"vega-lite\"});\n",
       "</script>"
      ],
      "text/plain": [
       "alt.Chart(...)"
      ]
     },
     "metadata": {},
     "output_type": "display_data"
    },
    {
     "data": {
      "image/png": "[encoded data removed]",
      "text/plain": [
       "<Figure size 468x684 with 1 Axes>"
      ]
     },
     "metadata": {
      "needs_background": "light"
     },
     "output_type": "display_data"
    },
    {
     "data": {
      "text/plain": [
       "<Figure size 360x576 with 0 Axes>"
      ]
     },
     "metadata": {},
     "output_type": "display_data"
    }
   ],
   "source": [
    "base_dir = \"../prediction_results/\"\n",
    "set_name = \"avg_delay_pred_with_prevAvgDelay\"\n",
    "target_var = \"avg_delay_in30min\"\n",
    "features = main_feature_sets[set_name]\n",
    "\n",
    "test_name = f\"400_{target_var}_{set_name}/\"\n",
    "dep_arr_df_ = dep_arr_df\n",
    "dep_arr_df_[target_var] = dep_arr_df_[target_var].fillna(method=\"ffill\")\n",
    "\n",
    "res, labels_test, predicted, clf = train_rf(\n",
    "    dep_arr_df_,\n",
    "    features,\n",
    "    \"avg_delay_in30min\",\n",
    "    query=\"parking_position==parking_position & mvt_type=='DEP'\",\n",
    "    dirname=base_dir + test_name,\n",
    "    dropna=False,\n",
    ")"
   ]
  },
  {
   "cell_type": "code",
   "execution_count": 316,
   "id": "797df1ba-a326-46c2-806a-962103a2bfc6",
   "metadata": {
    "execution": {
     "iopub.execute_input": "2021-07-26T09:12:52.621079Z",
     "iopub.status.busy": "2021-07-26T09:12:52.619662Z",
     "iopub.status.idle": "2021-07-26T09:12:55.852297Z",
     "shell.execute_reply": "2021-07-26T09:12:55.849507Z",
     "shell.execute_reply.started": "2021-07-26T09:12:52.621032Z"
    },
    "tags": []
   },
   "outputs": [
    {
     "name": "stdout",
     "output_type": "stream",
     "text": [
      "Results for Random Forest on the following features :\n",
      "max_turnaround_minutes_last30T L/M_count_ratio H_occ K_occ B_occ E_occ D_occ N_occ A_occ press temp atmap_visibility atmap_wind atmap_precipitation nominal disrupted not_nom_arrival_ratio nb_arr config_EAST config_NORTH0 avg_delay_30min\n",
      "Target var : avg_delay_in30min\n",
      "Selecting the subset with following query : \n",
      "parking_position==parking_position & mvt_type=='DEP'\n",
      "mae=\t1.4212814006872434\n",
      "mse=\t4.097238952938132\n",
      "rmse=\t2.024163766333676\n",
      "acc1min=49.05263157894737\n",
      "acc3min=89.33333333333333\n",
      "acc5min=97.75438596491229\n",
      "R2=\t0.32723437559623747\n",
      "n_sample training : 5696\n",
      "n_sample test : 1425\n",
      "n_sample_tot=7121\n",
      "\n"
     ]
    },
    {
     "data": {
      "text/html": [
       "\n",
       "<div id=\"altair-viz-bf5a57ea0d01491b972de9b085f166f8\"></div>\n",
       "<script type=\"text/javascript\">\n",
       "  (function(spec, embedOpt){\n",
       "    let outputDiv = document.currentScript.previousElementSibling;\n",
       "    if (outputDiv.id !== \"altair-viz-bf5a57ea0d01491b972de9b085f166f8\") {\n",
       "      outputDiv = document.getElementById(\"altair-viz-bf5a57ea0d01491b972de9b085f166f8\");\n",
       "    }\n",
       "    const paths = {\n",
       "      \"vega\": \"https://cdn.jsdelivr.net/npm//vega@5?noext\",\n",
       "      \"vega-lib\": \"https://cdn.jsdelivr.net/npm//vega-lib?noext\",\n",
       "      \"vega-lite\": \"https://cdn.jsdelivr.net/npm//vega-lite@4.8.1?noext\",\n",
       "      \"vega-embed\": \"https://cdn.jsdelivr.net/npm//vega-embed@6?noext\",\n",
       "    };\n",
       "\n",
       "    function loadScript(lib) {\n",
       "      return new Promise(function(resolve, reject) {\n",
       "        var s = document.createElement('script');\n",
       "        s.src = paths[lib];\n",
       "        s.async = true;\n",
       "        s.onload = () => resolve(paths[lib]);\n",
       "        s.onerror = () => reject(`Error loading script: ${paths[lib]}`);\n",
       "        document.getElementsByTagName(\"head\")[0].appendChild(s);\n",
       "      });\n",
       "    }\n",
       "\n",
       "    function showError(err) {\n",
       "      outputDiv.innerHTML = `<div class=\"error\" style=\"color:red;\">${err}</div>`;\n",
       "      throw err;\n",
       "    }\n",
       "\n",
       "    function displayChart(vegaEmbed) {\n",
       "      vegaEmbed(outputDiv, spec, embedOpt)\n",
       "        .catch(err => showError(`Javascript Error: ${err.message}<br>This usually means there's a typo in your chart specification. See the javascript console for the full traceback.`));\n",
       "    }\n",
       "\n",
       "    if(typeof define === \"function\" && define.amd) {\n",
       "      requirejs.config({paths});\n",
       "      require([\"vega-embed\"], displayChart, err => showError(`Error loading script: ${err.message}`));\n",
       "    } else if (typeof vegaEmbed === \"function\") {\n",
       "      displayChart(vegaEmbed);\n",
       "    } else {\n",
       "      loadScript(\"vega\")\n",
       "        .then(() => loadScript(\"vega-lite\"))\n",
       "        .then(() => loadScript(\"vega-embed\"))\n",
       "        .catch(showError)\n",
       "        .then(() => displayChart(vegaEmbed));\n",
       "    }\n",
       "  })({\"config\": {\"view\": {\"continuousWidth\": 400, \"continuousHeight\": 300, \"stroke\": null}, \"axis\": {\"labelFont\": \"Ubuntu\", \"labelFontSize\": 15, \"titleFont\": \"Fira Sans\", \"titleFontSize\": 16}, \"header\": {\"labelFont\": \"Ubuntu\", \"labelFontSize\": 18, \"labelOrient\": \"top\"}, \"legend\": {\"labelFont\": \"Ubuntu\", \"labelFontSize\": 14, \"orient\": \"bottom\", \"titleFontSize\": 14}, \"title\": {\"anchor\": \"start\", \"dy\": -10, \"font\": \"Fira Sans\", \"fontSize\": 18}}, \"data\": {\"name\": \"data-59448650a980abbcf5bf0c269989199c\"}, \"mark\": \"bar\", \"encoding\": {\"x\": {\"type\": \"quantitative\", \"field\": \"importance\"}, \"y\": {\"type\": \"nominal\", \"field\": \"feature\", \"sort\": \"-x\"}}, \"transform\": [{\"window\": [{\"op\": \"rank\", \"field\": \"importance\", \"as\": \"rank\"}], \"sort\": [{\"field\": \"importance\", \"order\": \"descending\"}]}, {\"filter\": \"(datum.rank < 20)\"}], \"width\": 200, \"$schema\": \"https://vega.github.io/schema/vega-lite/v4.8.1.json\", \"datasets\": {\"data-59448650a980abbcf5bf0c269989199c\": [{\"feature\": \"atmap_wind\", \"importance\": 0.0004610774017423355}, {\"feature\": \"L/M_count_ratio\", \"importance\": 0.0008554721588412877}, {\"feature\": \"atmap_visibility\", \"importance\": 0.0023920112864608753}, {\"feature\": \"config_NORTH0\", \"importance\": 0.004325714974178792}, {\"feature\": \"config_EAST\", \"importance\": 0.009683378595533625}, {\"feature\": \"disrupted\", \"importance\": 0.010066510627246183}, {\"feature\": \"D_occ\", \"importance\": 0.010522773597609643}, {\"feature\": \"atmap_precipitation\", \"importance\": 0.010794541693466837}, {\"feature\": \"H_occ\", \"importance\": 0.01472786857897422}, {\"feature\": \"B_occ\", \"importance\": 0.01585639500835693}, {\"feature\": \"N_occ\", \"importance\": 0.016593890009668575}, {\"feature\": \"not_nom_arrival_ratio\", \"importance\": 0.017209301077255875}, {\"feature\": \"K_occ\", \"importance\": 0.021618144777158767}, {\"feature\": \"E_occ\", \"importance\": 0.03837223546079278}, {\"feature\": \"A_occ\", \"importance\": 0.049420817054338255}, {\"feature\": \"nominal\", \"importance\": 0.06271312209755245}, {\"feature\": \"nb_arr\", \"importance\": 0.08161508155015476}, {\"feature\": \"press\", \"importance\": 0.09335621205312414}, {\"feature\": \"temp\", \"importance\": 0.11421928385309887}, {\"feature\": \"max_turnaround_minutes_last30T\", \"importance\": 0.16917316185934056}, {\"feature\": \"avg_delay_30min\", \"importance\": 0.2560230062851044}]}}, {\"mode\": \"vega-lite\"});\n",
       "</script>"
      ],
      "text/plain": [
       "alt.Chart(...)"
      ]
     },
     "metadata": {},
     "output_type": "display_data"
    },
    {
     "data": {
      "image/png": "[encoded data removed]",
      "text/plain": [
       "<Figure size 468x684 with 1 Axes>"
      ]
     },
     "metadata": {
      "needs_background": "light"
     },
     "output_type": "display_data"
    },
    {
     "data": {
      "text/plain": [
       "<Figure size 360x576 with 0 Axes>"
      ]
     },
     "metadata": {},
     "output_type": "display_data"
    }
   ],
   "source": [
    "base_dir = \"../prediction_results/\"\n",
    "set_name = \"sfs_bbackward_20\"\n",
    "target_var = \"avg_delay_in30min\"\n",
    "features = main_feature_sets[set_name] + [\"avg_delay_30min\"]\n",
    "\n",
    "test_name = f\"401_{target_var}_{set_name}/\"\n",
    "dep_arr_df_ = dep_arr_df.sort_values(\"on_runway_time\")\n",
    "dep_arr_df_[target_var] = dep_arr_df_[target_var].fillna(method=\"bfill\")\n",
    "\n",
    "res, labels_test, predicted, clf = train_rf(\n",
    "    dep_arr_df_,\n",
    "    features,\n",
    "    \"avg_delay_in30min\",\n",
    "    query=\"parking_position==parking_position & mvt_type=='DEP'\",\n",
    "    dirname=base_dir + test_name,\n",
    "    dropna=False,\n",
    ")"
   ]
  },
  {
   "cell_type": "code",
   "execution_count": null,
   "id": "296cefec-f9a7-492d-aa40-7e26073603f6",
   "metadata": {},
   "outputs": [],
   "source": []
  },
  {
   "cell_type": "markdown",
   "id": "0dcf66b7-0bd3-408d-a716-5a4e48e8b4eb",
   "metadata": {},
   "source": [
    "# Feature importance selection"
   ]
  },
  {
   "cell_type": "markdown",
   "id": "352fbccd-6b1c-46ab-8fa4-b53043ea7ed5",
   "metadata": {},
   "source": [
    "### SFS back ward 20 features"
   ]
  },
  {
   "cell_type": "code",
   "execution_count": 108,
   "id": "1ff22ad9-1eeb-482b-80a8-5655669baffe",
   "metadata": {
    "execution": {
     "iopub.execute_input": "2021-07-23T07:57:45.609360Z",
     "iopub.status.busy": "2021-07-23T07:57:45.608289Z",
     "iopub.status.idle": "2021-07-23T08:55:10.905055Z",
     "shell.execute_reply": "2021-07-23T08:55:10.903861Z",
     "shell.execute_reply.started": "2021-07-23T07:57:45.609286Z"
    },
    "tags": []
   },
   "outputs": [
    {
     "name": "stdout",
     "output_type": "stream",
     "text": [
      "CPU times: user 10.3 s, sys: 2.89 s, total: 13.2 s\n",
      "Wall time: 57min 25s\n"
     ]
    }
   ],
   "source": [
    "%%time\n",
    "len(main_feature_sets[\"avg_delay_pred\"])\n",
    "\n",
    "feature_columns = main_feature_sets[\"avg_delay_pred\"]\n",
    "target_column = \"avg_delay_in30min\"\n",
    "\n",
    "flight_df = dep_arr_df.query(\"parking_position==parking_position & mvt_type=='DEP'\")\n",
    "data_df = flight_df[feature_columns + [target_column, \"first_movement_start\"]]\n",
    "data_df = data_df.sort_values(\"first_movement_start\").fillna(method=\"backfill\").dropna()\n",
    "data_df = data_df.drop([\"first_movement_start\"], axis=1)\n",
    "input_df = data_df[feature_columns]\n",
    "target_df = data_df[[target_column]]\n",
    "\n",
    "data_train, data_test, labels_train, labels_test = train_test_split(\n",
    "    input_df, target_df, test_size=0.20, random_state=42\n",
    ")\n",
    "\n",
    "clf = RandomForestRegressor(n_estimators=150, min_samples_split=10, random_state=42)\n",
    "\n",
    "from sklearn.feature_selection import SequentialFeatureSelector\n",
    "\n",
    "sfs_forward = SequentialFeatureSelector(\n",
    "    clf, n_features_to_select=20, direction=\"backward\", n_jobs=23,\n",
    ").fit(data_train.values, labels_train.values.reshape((-1,)))"
   ]
  },
  {
   "cell_type": "code",
   "execution_count": 109,
   "id": "4d171cbb-b76f-498b-92dc-ec7107c5008f",
   "metadata": {
    "execution": {
     "iopub.execute_input": "2021-07-23T09:07:17.866625Z",
     "iopub.status.busy": "2021-07-23T09:07:17.866315Z",
     "iopub.status.idle": "2021-07-23T09:07:17.907624Z",
     "shell.execute_reply": "2021-07-23T09:07:17.907219Z",
     "shell.execute_reply.started": "2021-07-23T09:07:17.866589Z"
    }
   },
   "outputs": [
    {
     "data": {
      "text/plain": [
       "SequentialFeatureSelector(direction='backward',\n",
       "                          estimator=RandomForestRegressor(min_samples_split=10,\n",
       "                                                          n_estimators=150,\n",
       "                                                          random_state=42),\n",
       "                          n_features_to_select=20, n_jobs=23)"
      ]
     },
     "execution_count": 109,
     "metadata": {},
     "output_type": "execute_result"
    }
   ],
   "source": [
    "sfs_forward"
   ]
  },
  {
   "cell_type": "code",
   "execution_count": 114,
   "id": "9ba79dc4-5d41-4ae1-9cf3-ffc1cf1e5083",
   "metadata": {
    "execution": {
     "iopub.execute_input": "2021-07-23T09:10:47.743290Z",
     "iopub.status.busy": "2021-07-23T09:10:47.742817Z",
     "iopub.status.idle": "2021-07-23T09:10:47.747946Z",
     "shell.execute_reply": "2021-07-23T09:10:47.747328Z",
     "shell.execute_reply.started": "2021-07-23T09:10:47.743265Z"
    },
    "tags": []
   },
   "outputs": [],
   "source": [
    "mask_col_selected = sfs_forward.get_support()"
   ]
  },
  {
   "cell_type": "code",
   "execution_count": 121,
   "id": "7980a8ae-9385-4d05-84a1-1ed35434fc1c",
   "metadata": {
    "execution": {
     "iopub.execute_input": "2021-07-23T09:19:54.404044Z",
     "iopub.status.busy": "2021-07-23T09:19:54.403631Z",
     "iopub.status.idle": "2021-07-23T09:19:54.410854Z",
     "shell.execute_reply": "2021-07-23T09:19:54.410236Z",
     "shell.execute_reply.started": "2021-07-23T09:19:54.404015Z"
    },
    "tags": []
   },
   "outputs": [
    {
     "data": {
      "text/plain": [
       "array(['max_turnaround_minutes_last30T', 'L/M_count_ratio', 'H_occ',\n",
       "       'K_occ', 'B_occ', 'E_occ', 'D_occ', 'N_occ', 'A_occ', 'press',\n",
       "       'temp', 'atmap_visibility', 'atmap_wind', 'atmap_precipitation',\n",
       "       'nominal', 'disrupted', 'not_nom_arrival_ratio', 'nb_arr',\n",
       "       'config_EAST', 'config_NORTH0'], dtype=object)"
      ]
     },
     "execution_count": 121,
     "metadata": {},
     "output_type": "execute_result"
    }
   ],
   "source": [
    "data_train.columns[mask_col_selected].values"
   ]
  },
  {
   "cell_type": "code",
   "execution_count": 118,
   "id": "8bc22ca1-bc25-4ea0-bb64-6c231062db40",
   "metadata": {
    "execution": {
     "iopub.execute_input": "2021-07-23T09:11:20.086205Z",
     "iopub.status.busy": "2021-07-23T09:11:20.085794Z",
     "iopub.status.idle": "2021-07-23T09:11:20.091835Z",
     "shell.execute_reply": "2021-07-23T09:11:20.091369Z",
     "shell.execute_reply.started": "2021-07-23T09:11:20.086182Z"
    },
    "tags": []
   },
   "outputs": [
    {
     "data": {
      "text/plain": [
       "(20,)"
      ]
     },
     "execution_count": 118,
     "metadata": {},
     "output_type": "execute_result"
    }
   ],
   "source": [
    "_.shape"
   ]
  },
  {
   "cell_type": "code",
   "execution_count": 314,
   "id": "80fe2291-2f78-468d-84f3-b33eac780660",
   "metadata": {
    "execution": {
     "iopub.execute_input": "2021-07-26T09:11:59.418209Z",
     "iopub.status.busy": "2021-07-26T09:11:59.417799Z",
     "iopub.status.idle": "2021-07-26T09:11:59.429992Z",
     "shell.execute_reply": "2021-07-26T09:11:59.429489Z",
     "shell.execute_reply.started": "2021-07-26T09:11:59.418183Z"
    },
    "tags": []
   },
   "outputs": [],
   "source": [
    "main_feature_sets[\"sfs_bbackward_20\"] = [\n",
    "    \"max_turnaround_minutes_last30T\",\n",
    "    \"L/M_count_ratio\",\n",
    "    \"H_occ\",\n",
    "    \"K_occ\",\n",
    "    \"B_occ\",\n",
    "    \"E_occ\",\n",
    "    \"D_occ\",\n",
    "    \"N_occ\",\n",
    "    \"A_occ\",\n",
    "    \"press\",\n",
    "    \"temp\",\n",
    "    \"atmap_visibility\",\n",
    "    \"atmap_wind\",\n",
    "    \"atmap_precipitation\",\n",
    "    \"nominal\",\n",
    "    \"disrupted\",\n",
    "    \"not_nom_arrival_ratio\",\n",
    "    \"nb_arr\",\n",
    "    \"config_EAST\",\n",
    "    \"config_NORTH0\",\n",
    "]"
   ]
  },
  {
   "cell_type": "code",
   "execution_count": 205,
   "id": "918918b0-9ae9-4fdc-8e7c-84fb612e3d56",
   "metadata": {
    "execution": {
     "iopub.execute_input": "2021-07-24T14:23:57.287685Z",
     "iopub.status.busy": "2021-07-24T14:23:57.287205Z",
     "iopub.status.idle": "2021-07-24T14:24:00.030803Z",
     "shell.execute_reply": "2021-07-24T14:24:00.030239Z",
     "shell.execute_reply.started": "2021-07-24T14:23:57.287661Z"
    },
    "tags": []
   },
   "outputs": [
    {
     "name": "stdout",
     "output_type": "stream",
     "text": [
      "Results for Random Forest on the following features :\n",
      "max_turnaround_minutes_last30T L/M_count_ratio H_occ K_occ B_occ E_occ D_occ N_occ A_occ press temp atmap_visibility atmap_wind atmap_precipitation nominal disrupted not_nom_arrival_ratio nb_arr config_EAST config_NORTH0\n",
      "Target var : avg_delay_in30min\n",
      "Selecting the subset with following query : \n",
      "parking_position==parking_position & mvt_type=='DEP'\n",
      "mae=\t1.3647183279465214\n",
      "mse=\t3.909303197927158\n",
      "rmse=\t1.977195791500467\n",
      "acc1min=51.08771929824562\n",
      "acc3min=89.6842105263158\n",
      "acc5min=98.10526315789474\n",
      "R2=\t0.38237620402956096\n",
      "n_sample training : 5696\n",
      "n_sample test : 1425\n",
      "n_sample_tot=7121\n",
      "\n"
     ]
    },
    {
     "data": {
      "text/html": [
       "\n",
       "<div id=\"altair-viz-11d115186b28476ba08edfe528358d48\"></div>\n",
       "<script type=\"text/javascript\">\n",
       "  (function(spec, embedOpt){\n",
       "    let outputDiv = document.currentScript.previousElementSibling;\n",
       "    if (outputDiv.id !== \"altair-viz-11d115186b28476ba08edfe528358d48\") {\n",
       "      outputDiv = document.getElementById(\"altair-viz-11d115186b28476ba08edfe528358d48\");\n",
       "    }\n",
       "    const paths = {\n",
       "      \"vega\": \"https://cdn.jsdelivr.net/npm//vega@5?noext\",\n",
       "      \"vega-lib\": \"https://cdn.jsdelivr.net/npm//vega-lib?noext\",\n",
       "      \"vega-lite\": \"https://cdn.jsdelivr.net/npm//vega-lite@4.8.1?noext\",\n",
       "      \"vega-embed\": \"https://cdn.jsdelivr.net/npm//vega-embed@6?noext\",\n",
       "    };\n",
       "\n",
       "    function loadScript(lib) {\n",
       "      return new Promise(function(resolve, reject) {\n",
       "        var s = document.createElement('script');\n",
       "        s.src = paths[lib];\n",
       "        s.async = true;\n",
       "        s.onload = () => resolve(paths[lib]);\n",
       "        s.onerror = () => reject(`Error loading script: ${paths[lib]}`);\n",
       "        document.getElementsByTagName(\"head\")[0].appendChild(s);\n",
       "      });\n",
       "    }\n",
       "\n",
       "    function showError(err) {\n",
       "      outputDiv.innerHTML = `<div class=\"error\" style=\"color:red;\">${err}</div>`;\n",
       "      throw err;\n",
       "    }\n",
       "\n",
       "    function displayChart(vegaEmbed) {\n",
       "      vegaEmbed(outputDiv, spec, embedOpt)\n",
       "        .catch(err => showError(`Javascript Error: ${err.message}<br>This usually means there's a typo in your chart specification. See the javascript console for the full traceback.`));\n",
       "    }\n",
       "\n",
       "    if(typeof define === \"function\" && define.amd) {\n",
       "      requirejs.config({paths});\n",
       "      require([\"vega-embed\"], displayChart, err => showError(`Error loading script: ${err.message}`));\n",
       "    } else if (typeof vegaEmbed === \"function\") {\n",
       "      displayChart(vegaEmbed);\n",
       "    } else {\n",
       "      loadScript(\"vega\")\n",
       "        .then(() => loadScript(\"vega-lite\"))\n",
       "        .then(() => loadScript(\"vega-embed\"))\n",
       "        .catch(showError)\n",
       "        .then(() => displayChart(vegaEmbed));\n",
       "    }\n",
       "  })({\"config\": {\"view\": {\"continuousWidth\": 400, \"continuousHeight\": 300, \"stroke\": null}, \"axis\": {\"labelFont\": \"Ubuntu\", \"labelFontSize\": 15, \"titleFont\": \"Fira Sans\", \"titleFontSize\": 16}, \"header\": {\"labelFont\": \"Ubuntu\", \"labelFontSize\": 18, \"labelOrient\": \"top\"}, \"legend\": {\"labelFont\": \"Ubuntu\", \"labelFontSize\": 14, \"orient\": \"bottom\", \"titleFontSize\": 14}, \"title\": {\"anchor\": \"start\", \"dy\": -10, \"font\": \"Fira Sans\", \"fontSize\": 18}}, \"data\": {\"name\": \"data-a4977b707df1e9a73128d4f50529a905\"}, \"mark\": \"bar\", \"encoding\": {\"x\": {\"type\": \"quantitative\", \"field\": \"importance\"}, \"y\": {\"type\": \"nominal\", \"field\": \"feature\", \"sort\": \"-x\"}}, \"transform\": [{\"window\": [{\"op\": \"rank\", \"field\": \"importance\", \"as\": \"rank\"}], \"sort\": [{\"field\": \"importance\", \"order\": \"descending\"}]}, {\"filter\": \"(datum.rank < 20)\"}], \"width\": 200, \"$schema\": \"https://vega.github.io/schema/vega-lite/v4.8.1.json\", \"datasets\": {\"data-a4977b707df1e9a73128d4f50529a905\": [{\"feature\": \"L/M_count_ratio\", \"importance\": 0.0011519555255899122}, {\"feature\": \"atmap_wind\", \"importance\": 0.0013228156843046487}, {\"feature\": \"atmap_visibility\", \"importance\": 0.0030443738782285072}, {\"feature\": \"config_EAST\", \"importance\": 0.00972446427231472}, {\"feature\": \"config_NORTH0\", \"importance\": 0.01036709338698377}, {\"feature\": \"disrupted\", \"importance\": 0.012701701011381213}, {\"feature\": \"D_occ\", \"importance\": 0.014882592372258113}, {\"feature\": \"N_occ\", \"importance\": 0.01568416111973749}, {\"feature\": \"atmap_precipitation\", \"importance\": 0.0159919042285782}, {\"feature\": \"H_occ\", \"importance\": 0.02017008746293426}, {\"feature\": \"not_nom_arrival_ratio\", \"importance\": 0.02063880935739967}, {\"feature\": \"B_occ\", \"importance\": 0.027552537791343947}, {\"feature\": \"K_occ\", \"importance\": 0.039389242947753915}, {\"feature\": \"A_occ\", \"importance\": 0.05745581200527821}, {\"feature\": \"E_occ\", \"importance\": 0.07483708018017422}, {\"feature\": \"nb_arr\", \"importance\": 0.08818069768442208}, {\"feature\": \"nominal\", \"importance\": 0.09129492098133891}, {\"feature\": \"press\", \"importance\": 0.11843622659163702}, {\"feature\": \"temp\", \"importance\": 0.15284998818692336}, {\"feature\": \"max_turnaround_minutes_last30T\", \"importance\": 0.22432353533141783}]}}, {\"mode\": \"vega-lite\"});\n",
       "</script>"
      ],
      "text/plain": [
       "alt.Chart(...)"
      ]
     },
     "metadata": {},
     "output_type": "display_data"
    },
    {
     "data": {
      "image/png": "[encoded data removed]",
      "text/plain": [
       "<Figure size 468x684 with 1 Axes>"
      ]
     },
     "metadata": {
      "needs_background": "light"
     },
     "output_type": "display_data"
    },
    {
     "data": {
      "text/plain": [
       "<Figure size 360x576 with 0 Axes>"
      ]
     },
     "metadata": {},
     "output_type": "display_data"
    }
   ],
   "source": [
    "base_dir = \"../prediction_results/\"\n",
    "set_name = \"sfs_bbackward_20\"\n",
    "target_var = \"avg_delay_in30min\"\n",
    "test_name = f\"304_{target_var}_{set_name}/\"\n",
    "dep_arr_df_ = dep_arr_df\n",
    "dep_arr_df_[target_var] = dep_arr_df_[target_var].fillna(method=\"bfill\")\n",
    "\n",
    "res, labels_test, predicted, clf = train_rf(\n",
    "    dep_arr_df_,\n",
    "    main_feature_sets[set_name],\n",
    "    target_var,\n",
    "    query=\"parking_position==parking_position & mvt_type=='DEP'\",\n",
    "    dirname=base_dir + test_name,\n",
    "    dropna=False,\n",
    ")"
   ]
  },
  {
   "cell_type": "code",
   "execution_count": 119,
   "id": "946f9c8e-9e56-4cbd-8f7e-a8a9d0c273cd",
   "metadata": {
    "execution": {
     "iopub.execute_input": "2021-07-23T09:12:48.876618Z",
     "iopub.status.busy": "2021-07-23T09:12:48.876289Z",
     "iopub.status.idle": "2021-07-23T09:12:48.889478Z",
     "shell.execute_reply": "2021-07-23T09:12:48.888831Z",
     "shell.execute_reply.started": "2021-07-23T09:12:48.876596Z"
    }
   },
   "outputs": [
    {
     "ename": "AttributeError",
     "evalue": "'SequentialFeatureSelector' object has no attribute 'score'",
     "output_type": "error",
     "traceback": [
      "\u001b[0;31m---------------------------------------------------------------------------\u001b[0m",
      "\u001b[0;31mAttributeError\u001b[0m                            Traceback (most recent call last)",
      "\u001b[0;32m/tmp/ipykernel_140950/492536831.py\u001b[0m in \u001b[0;36m<module>\u001b[0;34m\u001b[0m\n\u001b[0;32m----> 1\u001b[0;31m \u001b[0msfs_forward\u001b[0m\u001b[0;34m.\u001b[0m\u001b[0mscore\u001b[0m\u001b[0;34m(\u001b[0m\u001b[0mdata_test\u001b[0m\u001b[0;34m.\u001b[0m\u001b[0mvalues\u001b[0m\u001b[0;34m,\u001b[0m \u001b[0mlabels_test\u001b[0m\u001b[0;34m.\u001b[0m\u001b[0mvalues\u001b[0m\u001b[0;34m.\u001b[0m\u001b[0mreshape\u001b[0m\u001b[0;34m(\u001b[0m\u001b[0;34m(\u001b[0m\u001b[0;34m-\u001b[0m\u001b[0;36m1\u001b[0m\u001b[0;34m,\u001b[0m\u001b[0;34m)\u001b[0m\u001b[0;34m)\u001b[0m \u001b[0;34m)\u001b[0m\u001b[0;34m\u001b[0m\u001b[0;34m\u001b[0m\u001b[0m\n\u001b[0m",
      "\u001b[0;31mAttributeError\u001b[0m: 'SequentialFeatureSelector' object has no attribute 'score'"
     ]
    }
   ],
   "source": [
    "sfs_forward.score(data_test.values, labels_test.values.reshape((-1,)) )"
   ]
  },
  {
   "cell_type": "code",
   "execution_count": null,
   "id": "8939c42f-1090-4019-a817-1ddb692552d1",
   "metadata": {},
   "outputs": [],
   "source": []
  },
  {
   "cell_type": "code",
   "execution_count": null,
   "id": "fabf5fc8-cda6-4570-b58c-eb0df11ed55d",
   "metadata": {},
   "outputs": [],
   "source": []
  },
  {
   "cell_type": "markdown",
   "id": "79476bae-f239-4570-b247-8080316a5b31",
   "metadata": {},
   "source": [
    "### SFS forward 20 features"
   ]
  },
  {
   "cell_type": "code",
   "execution_count": 284,
   "id": "9eec94ed-6e4a-43b1-9a30-e5babf371ac5",
   "metadata": {
    "execution": {
     "iopub.execute_input": "2021-07-26T06:29:20.985801Z",
     "iopub.status.busy": "2021-07-26T06:29:20.985377Z",
     "iopub.status.idle": "2021-07-26T06:29:20.991886Z",
     "shell.execute_reply": "2021-07-26T06:29:20.991415Z",
     "shell.execute_reply.started": "2021-07-26T06:29:20.985776Z"
    },
    "tags": []
   },
   "outputs": [
    {
     "data": {
      "text/plain": [
       "True"
      ]
     },
     "execution_count": 284,
     "metadata": {},
     "output_type": "execute_result"
    }
   ],
   "source": [
    "\"hh_num\" in main_feature_sets[\"avg_delay_pred\"]"
   ]
  },
  {
   "cell_type": "code",
   "execution_count": 289,
   "id": "66c6b858-563c-4c47-9620-58ad3d4f09bd",
   "metadata": {
    "execution": {
     "iopub.execute_input": "2021-07-26T06:29:57.719052Z",
     "iopub.status.busy": "2021-07-26T06:29:57.718527Z",
     "iopub.status.idle": "2021-07-26T06:46:13.030743Z",
     "shell.execute_reply": "2021-07-26T06:46:13.029729Z",
     "shell.execute_reply.started": "2021-07-26T06:29:57.719016Z"
    },
    "tags": []
   },
   "outputs": [
    {
     "name": "stdout",
     "output_type": "stream",
     "text": [
      "CPU times: user 7.67 s, sys: 2.37 s, total: 10 s\n",
      "Wall time: 16min 15s\n"
     ]
    }
   ],
   "source": [
    "%%time\n",
    "feature_columns = main_feature_sets[\"avg_delay_pred\"]\n",
    "target_column = \"avg_delay_in30min\"\n",
    "\n",
    "dep_arr_df_ = dep_arr_df\n",
    "dep_arr_df_[target_column] = dep_arr_df_[target_column].fillna(method=\"bfill\")\n",
    "\n",
    "flight_df = dep_arr_df_.query(\"parking_position==parking_position & mvt_type=='DEP'\")\n",
    "data_df = flight_df[feature_columns + [target_column, \"first_movement_start\"]]\n",
    "data_df = data_df.sort_values(\"first_movement_start\").fillna(method=\"backfill\").dropna()\n",
    "data_df = data_df.drop([\"first_movement_start\"], axis=1)\n",
    "input_df = data_df[feature_columns]\n",
    "target_df = data_df[[target_column]]\n",
    "\n",
    "data_train, data_test, labels_train, labels_test = train_test_split(\n",
    "    input_df, target_df, test_size=0.20, random_state=42\n",
    ")\n",
    "\n",
    "clf = RandomForestRegressor(n_estimators=150, min_samples_split=10, random_state=42)\n",
    "\n",
    "from sklearn.feature_selection import SequentialFeatureSelector\n",
    "\n",
    "sfs_forward = SequentialFeatureSelector(\n",
    "    clf, n_features_to_select=20, direction=\"forward\", n_jobs=23,\n",
    ").fit(data_train.values, labels_train.values.reshape((-1,)))"
   ]
  },
  {
   "cell_type": "code",
   "execution_count": 290,
   "id": "ac57e903-9f00-415c-b752-c3718fe4fcb5",
   "metadata": {
    "execution": {
     "iopub.execute_input": "2021-07-26T06:56:15.880562Z",
     "iopub.status.busy": "2021-07-26T06:56:15.880148Z",
     "iopub.status.idle": "2021-07-26T06:56:15.889848Z",
     "shell.execute_reply": "2021-07-26T06:56:15.889338Z",
     "shell.execute_reply.started": "2021-07-26T06:56:15.880536Z"
    },
    "tags": []
   },
   "outputs": [
    {
     "data": {
      "text/plain": [
       "20"
      ]
     },
     "execution_count": 290,
     "metadata": {},
     "output_type": "execute_result"
    }
   ],
   "source": [
    "mask_col_selected = sfs_forward.get_support()\n",
    "\n",
    "forward_selected_cols = list(data_train.columns[mask_col_selected].values)\n",
    "\n",
    "len(forward_selected_cols)"
   ]
  },
  {
   "cell_type": "code",
   "execution_count": 292,
   "id": "8a2e3f6f-eab0-41c4-8148-1bc1980c52ba",
   "metadata": {
    "execution": {
     "iopub.execute_input": "2021-07-26T06:56:58.591668Z",
     "iopub.status.busy": "2021-07-26T06:56:58.591307Z",
     "iopub.status.idle": "2021-07-26T06:56:58.597204Z",
     "shell.execute_reply": "2021-07-26T06:56:58.596680Z",
     "shell.execute_reply.started": "2021-07-26T06:56:58.591645Z"
    },
    "tags": []
   },
   "outputs": [],
   "source": [
    "main_feature_sets[\"sfs_forward_20\"] = forward_selected_cols"
   ]
  },
  {
   "cell_type": "code",
   "execution_count": 298,
   "id": "99618e46-fda5-43b7-a6d9-99d5f0999d6b",
   "metadata": {
    "execution": {
     "iopub.execute_input": "2021-07-26T08:36:43.531384Z",
     "iopub.status.busy": "2021-07-26T08:36:43.530830Z",
     "iopub.status.idle": "2021-07-26T08:36:46.210722Z",
     "shell.execute_reply": "2021-07-26T08:36:46.210198Z",
     "shell.execute_reply.started": "2021-07-26T08:36:43.531355Z"
    },
    "tags": []
   },
   "outputs": [
    {
     "name": "stderr",
     "output_type": "stream",
     "text": [
      "/tmp/ipykernel_140950/145856943.py:8: SettingWithCopyWarning: \n",
      "A value is trying to be set on a copy of a slice from a DataFrame.\n",
      "Try using .loc[row_indexer,col_indexer] = value instead\n",
      "\n",
      "See the caveats in the documentation: https://pandas.pydata.org/pandas-docs/stable/user_guide/indexing.html#returning-a-view-versus-a-copy\n",
      "  dep_arr_df_[target_var] = dep_arr_df_[target_var].fillna(method=\"bfill\")\n"
     ]
    },
    {
     "name": "stdout",
     "output_type": "stream",
     "text": [
      "Results for Random Forest on the following features :\n",
      "max_turnaround_minutes_last30T hh_num L_count L/M_count L/M_count_ratio K_occ F_occ L_occ P_occ press temp atmap_visibility atmap_precipitation atmap_freezing atmap_danger busy disrupted config_EAST config_NORTH1 config_SOUTH\n",
      "Target var : avg_delay_in30min\n",
      "Selecting the subset with following query : \n",
      "parking_position==parking_position & mvt_type=='DEP'\n",
      "mae=\t1.1107521371987832\n",
      "mse=\t2.8515011954510094\n",
      "rmse=\t1.6886388588004866\n",
      "acc1min=61.935483870967744\n",
      "acc3min=93.47670250896057\n",
      "acc5min=98.56630824372759\n",
      "R2=\t0.5555051217450946\n",
      "n_sample training : 5576\n",
      "n_sample test : 1395\n",
      "n_sample_tot=6971\n",
      "\n"
     ]
    },
    {
     "data": {
      "text/html": [
       "\n",
       "<div id=\"altair-viz-3e3448549a954896ad74492ae3c99057\"></div>\n",
       "<script type=\"text/javascript\">\n",
       "  (function(spec, embedOpt){\n",
       "    let outputDiv = document.currentScript.previousElementSibling;\n",
       "    if (outputDiv.id !== \"altair-viz-3e3448549a954896ad74492ae3c99057\") {\n",
       "      outputDiv = document.getElementById(\"altair-viz-3e3448549a954896ad74492ae3c99057\");\n",
       "    }\n",
       "    const paths = {\n",
       "      \"vega\": \"https://cdn.jsdelivr.net/npm//vega@5?noext\",\n",
       "      \"vega-lib\": \"https://cdn.jsdelivr.net/npm//vega-lib?noext\",\n",
       "      \"vega-lite\": \"https://cdn.jsdelivr.net/npm//vega-lite@4.8.1?noext\",\n",
       "      \"vega-embed\": \"https://cdn.jsdelivr.net/npm//vega-embed@6?noext\",\n",
       "    };\n",
       "\n",
       "    function loadScript(lib) {\n",
       "      return new Promise(function(resolve, reject) {\n",
       "        var s = document.createElement('script');\n",
       "        s.src = paths[lib];\n",
       "        s.async = true;\n",
       "        s.onload = () => resolve(paths[lib]);\n",
       "        s.onerror = () => reject(`Error loading script: ${paths[lib]}`);\n",
       "        document.getElementsByTagName(\"head\")[0].appendChild(s);\n",
       "      });\n",
       "    }\n",
       "\n",
       "    function showError(err) {\n",
       "      outputDiv.innerHTML = `<div class=\"error\" style=\"color:red;\">${err}</div>`;\n",
       "      throw err;\n",
       "    }\n",
       "\n",
       "    function displayChart(vegaEmbed) {\n",
       "      vegaEmbed(outputDiv, spec, embedOpt)\n",
       "        .catch(err => showError(`Javascript Error: ${err.message}<br>This usually means there's a typo in your chart specification. See the javascript console for the full traceback.`));\n",
       "    }\n",
       "\n",
       "    if(typeof define === \"function\" && define.amd) {\n",
       "      requirejs.config({paths});\n",
       "      require([\"vega-embed\"], displayChart, err => showError(`Error loading script: ${err.message}`));\n",
       "    } else if (typeof vegaEmbed === \"function\") {\n",
       "      displayChart(vegaEmbed);\n",
       "    } else {\n",
       "      loadScript(\"vega\")\n",
       "        .then(() => loadScript(\"vega-lite\"))\n",
       "        .then(() => loadScript(\"vega-embed\"))\n",
       "        .catch(showError)\n",
       "        .then(() => displayChart(vegaEmbed));\n",
       "    }\n",
       "  })({\"config\": {\"view\": {\"continuousWidth\": 400, \"continuousHeight\": 300, \"stroke\": null}, \"axis\": {\"labelFont\": \"Ubuntu\", \"labelFontSize\": 15, \"titleFont\": \"Fira Sans\", \"titleFontSize\": 16}, \"header\": {\"labelFont\": \"Ubuntu\", \"labelFontSize\": 18, \"labelOrient\": \"top\"}, \"legend\": {\"labelFont\": \"Ubuntu\", \"labelFontSize\": 14, \"orient\": \"bottom\", \"titleFontSize\": 14}, \"title\": {\"anchor\": \"start\", \"dy\": -10, \"font\": \"Fira Sans\", \"fontSize\": 18}}, \"data\": {\"name\": \"data-4e05febab19cb641296b2e1863c7aa70\"}, \"mark\": \"bar\", \"encoding\": {\"x\": {\"type\": \"quantitative\", \"field\": \"importance\"}, \"y\": {\"type\": \"nominal\", \"field\": \"feature\", \"sort\": \"-x\"}}, \"transform\": [{\"window\": [{\"op\": \"rank\", \"field\": \"importance\", \"as\": \"rank\"}], \"sort\": [{\"field\": \"importance\", \"order\": \"descending\"}]}, {\"filter\": \"(datum.rank < 20)\"}], \"width\": 200, \"$schema\": \"https://vega.github.io/schema/vega-lite/v4.8.1.json\", \"datasets\": {\"data-4e05febab19cb641296b2e1863c7aa70\": [{\"feature\": \"config_NORTH1\", \"importance\": 9.66811048521056e-06}, {\"feature\": \"P_occ\", \"importance\": 0.00024268949641715804}, {\"feature\": \"atmap_danger\", \"importance\": 0.0010923266510614721}, {\"feature\": \"L/M_count\", \"importance\": 0.0017954693806277828}, {\"feature\": \"L/M_count_ratio\", \"importance\": 0.0019325558527081373}, {\"feature\": \"L_occ\", \"importance\": 0.002451195571209447}, {\"feature\": \"atmap_visibility\", \"importance\": 0.0029139435817648203}, {\"feature\": \"atmap_freezing\", \"importance\": 0.0035144540819358745}, {\"feature\": \"config_SOUTH\", \"importance\": 0.004669549667671224}, {\"feature\": \"L_count\", \"importance\": 0.008087768345693065}, {\"feature\": \"config_EAST\", \"importance\": 0.013199305350262683}, {\"feature\": \"disrupted\", \"importance\": 0.014336036519238812}, {\"feature\": \"atmap_precipitation\", \"importance\": 0.017174532926457747}, {\"feature\": \"busy\", \"importance\": 0.020600876730196175}, {\"feature\": \"K_occ\", \"importance\": 0.04476357826987353}, {\"feature\": \"F_occ\", \"importance\": 0.05894629772499859}, {\"feature\": \"press\", \"importance\": 0.15607157768444513}, {\"feature\": \"temp\", \"importance\": 0.1584429567137631}, {\"feature\": \"hh_num\", \"importance\": 0.24381283189813938}, {\"feature\": \"max_turnaround_minutes_last30T\", \"importance\": 0.24594238544305072}]}}, {\"mode\": \"vega-lite\"});\n",
       "</script>"
      ],
      "text/plain": [
       "alt.Chart(...)"
      ]
     },
     "metadata": {},
     "output_type": "display_data"
    },
    {
     "data": {
      "image/png": "[encoded data removed]",
      "text/plain": [
       "<Figure size 468x684 with 1 Axes>"
      ]
     },
     "metadata": {
      "needs_background": "light"
     },
     "output_type": "display_data"
    },
    {
     "data": {
      "text/plain": [
       "<Figure size 360x576 with 0 Axes>"
      ]
     },
     "metadata": {},
     "output_type": "display_data"
    }
   ],
   "source": [
    "base_dir = \"../prediction_results/\"\n",
    "set_name = \"sfs_forward_20\"\n",
    "target_var = \"avg_delay_in30min\"\n",
    "test_name = f\"307_{target_var}_{set_name}/\"\n",
    "dep_arr_df_ = dep_arr_df.query(\n",
    "    \"first_movement_start.dt.day!=20 | first_movement_start.dt.month!=10\"\n",
    ").sort_values('on_runway_time')\n",
    "\n",
    "dep_arr_df_[target_var] = dep_arr_df_[target_var].fillna(method=\"bfill\")\n",
    "\n",
    "res, labels_test, predicted, clf = train_rf(\n",
    "    dep_arr_df_,\n",
    "    main_feature_sets[set_name],\n",
    "    target_var,\n",
    "    query=\"parking_position==parking_position & mvt_type=='DEP'\",\n",
    "    dirname=base_dir + test_name,\n",
    "    dropna=False,\n",
    ")"
   ]
  },
  {
   "cell_type": "markdown",
   "id": "8f7db25f-4ace-45f8-bc57-1cae880623b1",
   "metadata": {},
   "source": [
    "##### Displaying prediction over one day"
   ]
  },
  {
   "cell_type": "code",
   "execution_count": 255,
   "id": "88208839-579e-4868-b496-442d87cc3095",
   "metadata": {
    "collapsed": true,
    "execution": {
     "iopub.execute_input": "2021-07-25T17:09:40.133305Z",
     "iopub.status.busy": "2021-07-25T17:09:40.132563Z",
     "iopub.status.idle": "2021-07-25T17:09:40.245604Z",
     "shell.execute_reply": "2021-07-25T17:09:40.245078Z",
     "shell.execute_reply.started": "2021-07-25T17:09:40.133267Z"
    },
    "jupyter": {
     "outputs_hidden": true,
     "source_hidden": true
    },
    "tags": []
   },
   "outputs": [
    {
     "data": {
      "text/html": [
       "\n",
       "<div id=\"altair-viz-c1bc4d966170479c9d500d4e18a5e2da\"></div>\n",
       "<script type=\"text/javascript\">\n",
       "  (function(spec, embedOpt){\n",
       "    let outputDiv = document.currentScript.previousElementSibling;\n",
       "    if (outputDiv.id !== \"altair-viz-c1bc4d966170479c9d500d4e18a5e2da\") {\n",
       "      outputDiv = document.getElementById(\"altair-viz-c1bc4d966170479c9d500d4e18a5e2da\");\n",
       "    }\n",
       "    const paths = {\n",
       "      \"vega\": \"https://cdn.jsdelivr.net/npm//vega@5?noext\",\n",
       "      \"vega-lib\": \"https://cdn.jsdelivr.net/npm//vega-lib?noext\",\n",
       "      \"vega-lite\": \"https://cdn.jsdelivr.net/npm//vega-lite@4.8.1?noext\",\n",
       "      \"vega-embed\": \"https://cdn.jsdelivr.net/npm//vega-embed@6?noext\",\n",
       "    };\n",
       "\n",
       "    function loadScript(lib) {\n",
       "      return new Promise(function(resolve, reject) {\n",
       "        var s = document.createElement('script');\n",
       "        s.src = paths[lib];\n",
       "        s.async = true;\n",
       "        s.onload = () => resolve(paths[lib]);\n",
       "        s.onerror = () => reject(`Error loading script: ${paths[lib]}`);\n",
       "        document.getElementsByTagName(\"head\")[0].appendChild(s);\n",
       "      });\n",
       "    }\n",
       "\n",
       "    function showError(err) {\n",
       "      outputDiv.innerHTML = `<div class=\"error\" style=\"color:red;\">${err}</div>`;\n",
       "      throw err;\n",
       "    }\n",
       "\n",
       "    function displayChart(vegaEmbed) {\n",
       "      vegaEmbed(outputDiv, spec, embedOpt)\n",
       "        .catch(err => showError(`Javascript Error: ${err.message}<br>This usually means there's a typo in your chart specification. See the javascript console for the full traceback.`));\n",
       "    }\n",
       "\n",
       "    if(typeof define === \"function\" && define.amd) {\n",
       "      requirejs.config({paths});\n",
       "      require([\"vega-embed\"], displayChart, err => showError(`Error loading script: ${err.message}`));\n",
       "    } else if (typeof vegaEmbed === \"function\") {\n",
       "      displayChart(vegaEmbed);\n",
       "    } else {\n",
       "      loadScript(\"vega\")\n",
       "        .then(() => loadScript(\"vega-lite\"))\n",
       "        .then(() => loadScript(\"vega-embed\"))\n",
       "        .catch(showError)\n",
       "        .then(() => displayChart(vegaEmbed));\n",
       "    }\n",
       "  })({\"config\": {\"view\": {\"continuousWidth\": 400, \"continuousHeight\": 300, \"stroke\": null}, \"header\": {\"labelFont\": \"Ubuntu\", \"labelFontSize\": 18, \"labelOrient\": \"top\"}, \"legend\": {\"labelFont\": \"Ubuntu\", \"labelFontSize\": 14, \"orient\": \"bottom\", \"titleFontSize\": 14}, \"title\": {\"anchor\": \"start\", \"dy\": -10, \"font\": \"Fira Sans\", \"fontSize\": 18}}, \"layer\": [{\"mark\": {\"type\": \"circle\", \"color\": \"yellow\", \"opacity\": 0.9, \"size\": 50}, \"encoding\": {\"x\": {\"type\": \"temporal\", \"field\": \"on_runway_time\", \"title\": \"Time of day\"}, \"y\": {\"type\": \"quantitative\", \"field\": \"taxi_holding_time_minutes\", \"title\": \"Additional TXOT\"}}}, {\"mark\": {\"type\": \"line\", \"color\": \"orange\", \"opacity\": 1}, \"encoding\": {\"x\": {\"type\": \"temporal\", \"field\": \"on_runway_time\", \"title\": \"Time of day\"}, \"y\": {\"type\": \"quantitative\", \"field\": \"avg_delay_30min\", \"title\": \"Average additional TXOT\"}}}, {\"data\": {\"name\": \"data-b86f0460052470a913b1f7575915fde8\"}, \"mark\": {\"type\": \"line\", \"color\": \"green\"}, \"encoding\": {\"x\": {\"type\": \"temporal\", \"field\": \"on_runway_time\"}, \"y\": {\"type\": \"quantitative\", \"field\": \"avg_delay_30min_all_trajs\"}}}, {\"data\": {\"name\": \"data-b86f0460052470a913b1f7575915fde8\"}, \"mark\": {\"type\": \"circle\", \"color\": \"green\", \"opacity\": 0.2}, \"encoding\": {\"x\": {\"type\": \"temporal\", \"field\": \"on_runway_time\"}, \"y\": {\"type\": \"quantitative\", \"field\": \"taxi_holding_time_minutes\"}}}], \"data\": {\"name\": \"data-7a6a21d909902db88f79546de482b17b\"}, \"$schema\": \"https://vega.github.io/schema/vega-lite/v4.8.1.json\", \"datasets\": {\"data-7a6a21d909902db88f79546de482b17b\": [{\"on_runway_time\": \"2019-11-15T05:25:28+00:00\", \"taxi_holding_time_minutes\": 1.3, \"avg_delay_30min\": 1.300000000000008, \"linelabel\": \"Additional TXOT\", \"barlabel\": \"Additional TXOT averaged by 30min rolling window\"}, {\"on_runway_time\": \"2019-11-15T05:39:39+00:00\", \"taxi_holding_time_minutes\": 11.766666666666667, \"avg_delay_30min\": 6.533333333333338, \"linelabel\": \"Additional TXOT\", \"barlabel\": \"Additional TXOT averaged by 30min rolling window\"}, {\"on_runway_time\": \"2019-11-15T06:13:24+00:00\", \"taxi_holding_time_minutes\": 4.666666666666667, \"avg_delay_30min\": 4.666666666666674, \"linelabel\": \"Additional TXOT\", \"barlabel\": \"Additional TXOT averaged by 30min rolling window\"}, {\"on_runway_time\": \"2019-11-15T06:20:05+00:00\", \"taxi_holding_time_minutes\": 1.55, \"avg_delay_30min\": 3.108333333333337, \"linelabel\": \"Additional TXOT\", \"barlabel\": \"Additional TXOT averaged by 30min rolling window\"}, {\"on_runway_time\": \"2019-11-15T06:24:11+00:00\", \"taxi_holding_time_minutes\": 2.433333333333333, \"avg_delay_30min\": 2.883333333333336, \"linelabel\": \"Additional TXOT\", \"barlabel\": \"Additional TXOT averaged by 30min rolling window\"}, {\"on_runway_time\": \"2019-11-15T06:35:38+00:00\", \"taxi_holding_time_minutes\": 3.0166666666666666, \"avg_delay_30min\": 2.9166666666666687, \"linelabel\": \"Additional TXOT\", \"barlabel\": \"Additional TXOT averaged by 30min rolling window\"}, {\"on_runway_time\": \"2019-11-15T06:43:36+00:00\", \"taxi_holding_time_minutes\": 12.366666666666667, \"avg_delay_30min\": 4.841666666666669, \"linelabel\": \"Additional TXOT\", \"barlabel\": \"Additional TXOT averaged by 30min rolling window\"}, {\"on_runway_time\": \"2019-11-15T06:45:53+00:00\", \"taxi_holding_time_minutes\": 5.366666666666666, \"avg_delay_30min\": 4.946666666666668, \"linelabel\": \"Additional TXOT\", \"barlabel\": \"Additional TXOT averaged by 30min rolling window\"}, {\"on_runway_time\": \"2019-11-15T06:48:08+00:00\", \"taxi_holding_time_minutes\": 3.0833333333333335, \"avg_delay_30min\": 4.636111111111112, \"linelabel\": \"Additional TXOT\", \"barlabel\": \"Additional TXOT averaged by 30min rolling window\"}, {\"on_runway_time\": \"2019-11-15T06:48:34+00:00\", \"taxi_holding_time_minutes\": 4.2, \"avg_delay_30min\": 4.573809523809524, \"linelabel\": \"Additional TXOT\", \"barlabel\": \"Additional TXOT averaged by 30min rolling window\"}, {\"on_runway_time\": \"2019-11-15T06:54:16+00:00\", \"taxi_holding_time_minutes\": 17.65, \"avg_delay_30min\": 7.61388888888889, \"linelabel\": \"Additional TXOT\", \"barlabel\": \"Additional TXOT averaged by 30min rolling window\"}, {\"on_runway_time\": \"2019-11-15T07:03:51+00:00\", \"taxi_holding_time_minutes\": 6.683333333333334, \"avg_delay_30min\": 7.480952380952382, \"linelabel\": \"Additional TXOT\", \"barlabel\": \"Additional TXOT averaged by 30min rolling window\"}, {\"on_runway_time\": \"2019-11-15T07:05:45+00:00\", \"taxi_holding_time_minutes\": 1.4, \"avg_delay_30min\": 7.250000000000001, \"linelabel\": \"Additional TXOT\", \"barlabel\": \"Additional TXOT averaged by 30min rolling window\"}, {\"on_runway_time\": \"2019-11-15T07:12:53+00:00\", \"taxi_holding_time_minutes\": 18.483333333333334, \"avg_delay_30min\": 8.654166666666667, \"linelabel\": \"Additional TXOT\", \"barlabel\": \"Additional TXOT averaged by 30min rolling window\"}, {\"on_runway_time\": \"2019-11-15T07:23:10+00:00\", \"taxi_holding_time_minutes\": 7.766666666666667, \"avg_delay_30min\": 10.396666666666668, \"linelabel\": \"Additional TXOT\", \"barlabel\": \"Additional TXOT averaged by 30min rolling window\"}, {\"on_runway_time\": \"2019-11-15T07:40:18+00:00\", \"taxi_holding_time_minutes\": 1.1833333333333333, \"avg_delay_30min\": 9.144444444444447, \"linelabel\": \"Additional TXOT\", \"barlabel\": \"Additional TXOT averaged by 30min rolling window\"}, {\"on_runway_time\": \"2019-11-15T07:54:31+00:00\", \"taxi_holding_time_minutes\": 0.0, \"avg_delay_30min\": 0.5916666666666702, \"linelabel\": \"Additional TXOT\", \"barlabel\": \"Additional TXOT averaged by 30min rolling window\"}, {\"on_runway_time\": \"2019-11-15T07:57:16+00:00\", \"taxi_holding_time_minutes\": 4.266666666666667, \"avg_delay_30min\": 1.816666666666669, \"linelabel\": \"Additional TXOT\", \"barlabel\": \"Additional TXOT averaged by 30min rolling window\"}, {\"on_runway_time\": \"2019-11-15T08:12:39+00:00\", \"taxi_holding_time_minutes\": 1.05, \"avg_delay_30min\": 1.7722222222222246, \"linelabel\": \"Additional TXOT\", \"barlabel\": \"Additional TXOT averaged by 30min rolling window\"}, {\"on_runway_time\": \"2019-11-15T08:23:06+00:00\", \"taxi_holding_time_minutes\": 0.0, \"avg_delay_30min\": 1.3291666666666684, \"linelabel\": \"Additional TXOT\", \"barlabel\": \"Additional TXOT averaged by 30min rolling window\"}, {\"on_runway_time\": \"2019-11-15T08:40:35+00:00\", \"taxi_holding_time_minutes\": 1.2166666666666666, \"avg_delay_30min\": 0.7555555555555579, \"linelabel\": \"Additional TXOT\", \"barlabel\": \"Additional TXOT averaged by 30min rolling window\"}, {\"on_runway_time\": \"2019-11-15T08:44:51+00:00\", \"taxi_holding_time_minutes\": 2.35, \"avg_delay_30min\": 1.188888888888891, \"linelabel\": \"Additional TXOT\", \"barlabel\": \"Additional TXOT averaged by 30min rolling window\"}, {\"on_runway_time\": \"2019-11-15T08:47:46+00:00\", \"taxi_holding_time_minutes\": 12.433333333333334, \"avg_delay_30min\": 4.000000000000002, \"linelabel\": \"Additional TXOT\", \"barlabel\": \"Additional TXOT averaged by 30min rolling window\"}, {\"on_runway_time\": \"2019-11-15T08:57:48+00:00\", \"taxi_holding_time_minutes\": 1.3, \"avg_delay_30min\": 4.325000000000002, \"linelabel\": \"Additional TXOT\", \"barlabel\": \"Additional TXOT averaged by 30min rolling window\"}, {\"on_runway_time\": \"2019-11-15T09:00:04+00:00\", \"taxi_holding_time_minutes\": 12.666666666666666, \"avg_delay_30min\": 5.993333333333335, \"linelabel\": \"Additional TXOT\", \"barlabel\": \"Additional TXOT averaged by 30min rolling window\"}, {\"on_runway_time\": \"2019-11-15T09:11:25+00:00\", \"taxi_holding_time_minutes\": 10.283333333333333, \"avg_delay_30min\": 7.806666666666669, \"linelabel\": \"Additional TXOT\", \"barlabel\": \"Additional TXOT averaged by 30min rolling window\"}, {\"on_runway_time\": \"2019-11-15T09:12:48+00:00\", \"taxi_holding_time_minutes\": 7.666666666666667, \"avg_delay_30min\": 7.783333333333335, \"linelabel\": \"Additional TXOT\", \"barlabel\": \"Additional TXOT averaged by 30min rolling window\"}, {\"on_runway_time\": \"2019-11-15T09:13:54+00:00\", \"taxi_holding_time_minutes\": 6.033333333333333, \"avg_delay_30min\": 7.533333333333334, \"linelabel\": \"Additional TXOT\", \"barlabel\": \"Additional TXOT averaged by 30min rolling window\"}, {\"on_runway_time\": \"2019-11-15T09:23:43+00:00\", \"taxi_holding_time_minutes\": 10.566666666666666, \"avg_delay_30min\": 8.08611111111111, \"linelabel\": \"Additional TXOT\", \"barlabel\": \"Additional TXOT averaged by 30min rolling window\"}, {\"on_runway_time\": \"2019-11-15T09:32:36+00:00\", \"taxi_holding_time_minutes\": 1.05, \"avg_delay_30min\": 7.120000000000002, \"linelabel\": \"Additional TXOT\", \"barlabel\": \"Additional TXOT averaged by 30min rolling window\"}, {\"on_runway_time\": \"2019-11-15T09:41:39+00:00\", \"taxi_holding_time_minutes\": 11.4, \"avg_delay_30min\": 7.3433333333333355, \"linelabel\": \"Additional TXOT\", \"barlabel\": \"Additional TXOT averaged by 30min rolling window\"}, {\"on_runway_time\": \"2019-11-15T09:48:49+00:00\", \"taxi_holding_time_minutes\": 0.0, \"avg_delay_30min\": 5.754166666666668, \"linelabel\": \"Additional TXOT\", \"barlabel\": \"Additional TXOT averaged by 30min rolling window\"}, {\"on_runway_time\": \"2019-11-15T10:01:54+00:00\", \"taxi_holding_time_minutes\": 5.5, \"avg_delay_30min\": 4.4875000000000025, \"linelabel\": \"Additional TXOT\", \"barlabel\": \"Additional TXOT averaged by 30min rolling window\"}, {\"on_runway_time\": \"2019-11-15T10:02:18+00:00\", \"taxi_holding_time_minutes\": 1.8333333333333333, \"avg_delay_30min\": 3.9566666666666683, \"linelabel\": \"Additional TXOT\", \"barlabel\": \"Additional TXOT averaged by 30min rolling window\"}, {\"on_runway_time\": \"2019-11-15T10:13:38+00:00\", \"taxi_holding_time_minutes\": 4.516666666666667, \"avg_delay_30min\": 2.9625000000000017, \"linelabel\": \"Additional TXOT\", \"barlabel\": \"Additional TXOT averaged by 30min rolling window\"}, {\"on_runway_time\": \"2019-11-15T10:15:20+00:00\", \"taxi_holding_time_minutes\": 7.5, \"avg_delay_30min\": 3.870000000000002, \"linelabel\": \"Additional TXOT\", \"barlabel\": \"Additional TXOT averaged by 30min rolling window\"}, {\"on_runway_time\": \"2019-11-15T10:21:21+00:00\", \"taxi_holding_time_minutes\": 16.883333333333333, \"avg_delay_30min\": 7.246666666666668, \"linelabel\": \"Additional TXOT\", \"barlabel\": \"Additional TXOT averaged by 30min rolling window\"}, {\"on_runway_time\": \"2019-11-15T10:25:32+00:00\", \"taxi_holding_time_minutes\": 0.0, \"avg_delay_30min\": 6.0388888888888905, \"linelabel\": \"Additional TXOT\", \"barlabel\": \"Additional TXOT averaged by 30min rolling window\"}, {\"on_runway_time\": \"2019-11-15T10:53:41+00:00\", \"taxi_holding_time_minutes\": 7.933333333333334, \"avg_delay_30min\": 3.9666666666666703, \"linelabel\": \"Additional TXOT\", \"barlabel\": \"Additional TXOT averaged by 30min rolling window\"}, {\"on_runway_time\": \"2019-11-15T10:55:30+00:00\", \"taxi_holding_time_minutes\": 4.683333333333334, \"avg_delay_30min\": 4.205555555555558, \"linelabel\": \"Additional TXOT\", \"barlabel\": \"Additional TXOT averaged by 30min rolling window\"}, {\"on_runway_time\": \"2019-11-15T10:59:17+00:00\", \"taxi_holding_time_minutes\": 6.1, \"avg_delay_30min\": 6.238888888888892, \"linelabel\": \"Additional TXOT\", \"barlabel\": \"Additional TXOT averaged by 30min rolling window\"}, {\"on_runway_time\": \"2019-11-15T11:10:41+00:00\", \"taxi_holding_time_minutes\": 7.466666666666667, \"avg_delay_30min\": 6.545833333333335, \"linelabel\": \"Additional TXOT\", \"barlabel\": \"Additional TXOT averaged by 30min rolling window\"}, {\"on_runway_time\": \"2019-11-15T11:22:19+00:00\", \"taxi_holding_time_minutes\": 14.466666666666667, \"avg_delay_30min\": 8.13, \"linelabel\": \"Additional TXOT\", \"barlabel\": \"Additional TXOT averaged by 30min rolling window\"}, {\"on_runway_time\": \"2019-11-15T11:29:04+00:00\", \"taxi_holding_time_minutes\": 4.016666666666667, \"avg_delay_30min\": 8.012500000000001, \"linelabel\": \"Additional TXOT\", \"barlabel\": \"Additional TXOT averaged by 30min rolling window\"}, {\"on_runway_time\": \"2019-11-15T11:34:32+00:00\", \"taxi_holding_time_minutes\": 4.033333333333333, \"avg_delay_30min\": 7.4958333333333345, \"linelabel\": \"Additional TXOT\", \"barlabel\": \"Additional TXOT averaged by 30min rolling window\"}, {\"on_runway_time\": \"2019-11-15T11:37:09+00:00\", \"taxi_holding_time_minutes\": 4.35, \"avg_delay_30min\": 6.866666666666667, \"linelabel\": \"Additional TXOT\", \"barlabel\": \"Additional TXOT averaged by 30min rolling window\"}, {\"on_runway_time\": \"2019-11-15T11:40:56+00:00\", \"taxi_holding_time_minutes\": 5.1, \"avg_delay_30min\": 6.393333333333334, \"linelabel\": \"Additional TXOT\", \"barlabel\": \"Additional TXOT averaged by 30min rolling window\"}, {\"on_runway_time\": \"2019-11-15T11:42:59+00:00\", \"taxi_holding_time_minutes\": 3.85, \"avg_delay_30min\": 5.969444444444445, \"linelabel\": \"Additional TXOT\", \"barlabel\": \"Additional TXOT averaged by 30min rolling window\"}, {\"on_runway_time\": \"2019-11-15T11:46:03+00:00\", \"taxi_holding_time_minutes\": 7.116666666666666, \"avg_delay_30min\": 6.133333333333334, \"linelabel\": \"Additional TXOT\", \"barlabel\": \"Additional TXOT averaged by 30min rolling window\"}, {\"on_runway_time\": \"2019-11-15T11:48:35+00:00\", \"taxi_holding_time_minutes\": 2.75, \"avg_delay_30min\": 5.710416666666667, \"linelabel\": \"Additional TXOT\", \"barlabel\": \"Additional TXOT averaged by 30min rolling window\"}, {\"on_runway_time\": \"2019-11-15T11:57:49+00:00\", \"taxi_holding_time_minutes\": 3.35, \"avg_delay_30min\": 4.320833333333334, \"linelabel\": \"Additional TXOT\", \"barlabel\": \"Additional TXOT averaged by 30min rolling window\"}, {\"on_runway_time\": \"2019-11-15T11:59:15+00:00\", \"taxi_holding_time_minutes\": 5.3, \"avg_delay_30min\": 4.481250000000001, \"linelabel\": \"Additional TXOT\", \"barlabel\": \"Additional TXOT averaged by 30min rolling window\"}, {\"on_runway_time\": \"2019-11-15T12:02:59+00:00\", \"taxi_holding_time_minutes\": 3.8, \"avg_delay_30min\": 4.405555555555556, \"linelabel\": \"Additional TXOT\", \"barlabel\": \"Additional TXOT averaged by 30min rolling window\"}, {\"on_runway_time\": \"2019-11-15T12:04:14+00:00\", \"taxi_holding_time_minutes\": 3.1333333333333333, \"avg_delay_30min\": 4.278333333333334, \"linelabel\": \"Additional TXOT\", \"barlabel\": \"Additional TXOT averaged by 30min rolling window\"}, {\"on_runway_time\": \"2019-11-15T12:10:54+00:00\", \"taxi_holding_time_minutes\": 1.2166666666666666, \"avg_delay_30min\": 3.957407407407408, \"linelabel\": \"Additional TXOT\", \"barlabel\": \"Additional TXOT averaged by 30min rolling window\"}, {\"on_runway_time\": \"2019-11-15T12:11:38+00:00\", \"taxi_holding_time_minutes\": 1.8, \"avg_delay_30min\": 3.590740740740742, \"linelabel\": \"Additional TXOT\", \"barlabel\": \"Additional TXOT averaged by 30min rolling window\"}, {\"on_runway_time\": \"2019-11-15T12:13:12+00:00\", \"taxi_holding_time_minutes\": 2.466666666666667, \"avg_delay_30min\": 3.437037037037038, \"linelabel\": \"Additional TXOT\", \"barlabel\": \"Additional TXOT averaged by 30min rolling window\"}, {\"on_runway_time\": \"2019-11-15T12:17:09+00:00\", \"taxi_holding_time_minutes\": 1.4666666666666666, \"avg_delay_30min\": 2.8092592592592602, \"linelabel\": \"Additional TXOT\", \"barlabel\": \"Additional TXOT averaged by 30min rolling window\"}, {\"on_runway_time\": \"2019-11-15T12:27:59+00:00\", \"taxi_holding_time_minutes\": 11.133333333333333, \"avg_delay_30min\": 3.789583333333334, \"linelabel\": \"Additional TXOT\", \"barlabel\": \"Additional TXOT averaged by 30min rolling window\"}, {\"on_runway_time\": \"2019-11-15T12:29:55+00:00\", \"taxi_holding_time_minutes\": 6.066666666666666, \"avg_delay_30min\": 3.8854166666666674, \"linelabel\": \"Additional TXOT\", \"barlabel\": \"Additional TXOT averaged by 30min rolling window\"}, {\"on_runway_time\": \"2019-11-15T12:36:50+00:00\", \"taxi_holding_time_minutes\": 5.016666666666667, \"avg_delay_30min\": 4.166666666666667, \"linelabel\": \"Additional TXOT\", \"barlabel\": \"Additional TXOT averaged by 30min rolling window\"}, {\"on_runway_time\": \"2019-11-15T12:39:04+00:00\", \"taxi_holding_time_minutes\": 5.9, \"avg_delay_30min\": 4.383333333333334, \"linelabel\": \"Additional TXOT\", \"barlabel\": \"Additional TXOT averaged by 30min rolling window\"}, {\"on_runway_time\": \"2019-11-15T12:51:17+00:00\", \"taxi_holding_time_minutes\": 8.166666666666666, \"avg_delay_30min\": 7.256666666666668, \"linelabel\": \"Additional TXOT\", \"barlabel\": \"Additional TXOT averaged by 30min rolling window\"}, {\"on_runway_time\": \"2019-11-15T12:54:15+00:00\", \"taxi_holding_time_minutes\": 0.9666666666666667, \"avg_delay_30min\": 6.208333333333335, \"linelabel\": \"Additional TXOT\", \"barlabel\": \"Additional TXOT averaged by 30min rolling window\"}, {\"on_runway_time\": \"2019-11-15T12:55:49+00:00\", \"taxi_holding_time_minutes\": 4.133333333333334, \"avg_delay_30min\": 5.911904761904763, \"linelabel\": \"Additional TXOT\", \"barlabel\": \"Additional TXOT averaged by 30min rolling window\"}, {\"on_runway_time\": \"2019-11-15T12:59:26+00:00\", \"taxi_holding_time_minutes\": 0.0, \"avg_delay_30min\": 4.321428571428572, \"linelabel\": \"Additional TXOT\", \"barlabel\": \"Additional TXOT averaged by 30min rolling window\"}, {\"on_runway_time\": \"2019-11-15T13:00:20+00:00\", \"taxi_holding_time_minutes\": 1.2166666666666666, \"avg_delay_30min\": 3.6285714285714294, \"linelabel\": \"Additional TXOT\", \"barlabel\": \"Additional TXOT averaged by 30min rolling window\"}, {\"on_runway_time\": \"2019-11-15T13:39:15+00:00\", \"taxi_holding_time_minutes\": 0.0, \"avg_delay_30min\": 7.105427357601002e-15, \"linelabel\": \"Additional TXOT\", \"barlabel\": \"Additional TXOT averaged by 30min rolling window\"}, {\"on_runway_time\": \"2019-11-15T13:56:13+00:00\", \"taxi_holding_time_minutes\": 3.8, \"avg_delay_30min\": 1.9000000000000035, \"linelabel\": \"Additional TXOT\", \"barlabel\": \"Additional TXOT averaged by 30min rolling window\"}, {\"on_runway_time\": \"2019-11-15T14:02:27+00:00\", \"taxi_holding_time_minutes\": 1.7166666666666666, \"avg_delay_30min\": 1.8388888888888912, \"linelabel\": \"Additional TXOT\", \"barlabel\": \"Additional TXOT averaged by 30min rolling window\"}, {\"on_runway_time\": \"2019-11-15T14:32:44+00:00\", \"taxi_holding_time_minutes\": 1.4666666666666666, \"avg_delay_30min\": 1.4666666666666737, \"linelabel\": \"Additional TXOT\", \"barlabel\": \"Additional TXOT averaged by 30min rolling window\"}, {\"on_runway_time\": \"2019-11-15T14:33:06+00:00\", \"taxi_holding_time_minutes\": 2.0, \"avg_delay_30min\": 1.733333333333337, \"linelabel\": \"Additional TXOT\", \"barlabel\": \"Additional TXOT averaged by 30min rolling window\"}, {\"on_runway_time\": \"2019-11-15T14:59:18+00:00\", \"taxi_holding_time_minutes\": 0.0, \"avg_delay_30min\": 1.155555555555558, \"linelabel\": \"Additional TXOT\", \"barlabel\": \"Additional TXOT averaged by 30min rolling window\"}, {\"on_runway_time\": \"2019-11-15T15:10:32+00:00\", \"taxi_holding_time_minutes\": 1.55, \"avg_delay_30min\": 0.7750000000000037, \"linelabel\": \"Additional TXOT\", \"barlabel\": \"Additional TXOT averaged by 30min rolling window\"}, {\"on_runway_time\": \"2019-11-15T15:21:33+00:00\", \"taxi_holding_time_minutes\": 2.683333333333333, \"avg_delay_30min\": 1.4111111111111134, \"linelabel\": \"Additional TXOT\", \"barlabel\": \"Additional TXOT averaged by 30min rolling window\"}, {\"on_runway_time\": \"2019-11-15T15:44:46+00:00\", \"taxi_holding_time_minutes\": 0.9666666666666667, \"avg_delay_30min\": 1.8250000000000037, \"linelabel\": \"Additional TXOT\", \"barlabel\": \"Additional TXOT averaged by 30min rolling window\"}, {\"on_runway_time\": \"2019-11-15T15:48:05+00:00\", \"taxi_holding_time_minutes\": 2.2333333333333334, \"avg_delay_30min\": 1.9611111111111137, \"linelabel\": \"Additional TXOT\", \"barlabel\": \"Additional TXOT averaged by 30min rolling window\"}, {\"on_runway_time\": \"2019-11-15T15:59:32+00:00\", \"taxi_holding_time_minutes\": 2.966666666666667, \"avg_delay_30min\": 2.055555555555558, \"linelabel\": \"Additional TXOT\", \"barlabel\": \"Additional TXOT averaged by 30min rolling window\"}, {\"on_runway_time\": \"2019-11-15T16:12:24+00:00\", \"taxi_holding_time_minutes\": 11.25, \"avg_delay_30min\": 4.354166666666669, \"linelabel\": \"Additional TXOT\", \"barlabel\": \"Additional TXOT averaged by 30min rolling window\"}, {\"on_runway_time\": \"2019-11-15T16:12:45+00:00\", \"taxi_holding_time_minutes\": 6.4, \"avg_delay_30min\": 4.763333333333335, \"linelabel\": \"Additional TXOT\", \"barlabel\": \"Additional TXOT averaged by 30min rolling window\"}, {\"on_runway_time\": \"2019-11-15T16:17:46+00:00\", \"taxi_holding_time_minutes\": 10.1, \"avg_delay_30min\": 6.590000000000002, \"linelabel\": \"Additional TXOT\", \"barlabel\": \"Additional TXOT averaged by 30min rolling window\"}, {\"on_runway_time\": \"2019-11-15T16:27:35+00:00\", \"taxi_holding_time_minutes\": 1.55, \"avg_delay_30min\": 6.453333333333335, \"linelabel\": \"Additional TXOT\", \"barlabel\": \"Additional TXOT averaged by 30min rolling window\"}, {\"on_runway_time\": \"2019-11-15T16:33:38+00:00\", \"taxi_holding_time_minutes\": 3.85, \"avg_delay_30min\": 6.630000000000001, \"linelabel\": \"Additional TXOT\", \"barlabel\": \"Additional TXOT averaged by 30min rolling window\"}, {\"on_runway_time\": \"2019-11-15T16:41:09+00:00\", \"taxi_holding_time_minutes\": 5.616666666666666, \"avg_delay_30min\": 6.461111111111112, \"linelabel\": \"Additional TXOT\", \"barlabel\": \"Additional TXOT averaged by 30min rolling window\"}, {\"on_runway_time\": \"2019-11-15T16:42:43+00:00\", \"taxi_holding_time_minutes\": 2.35, \"avg_delay_30min\": 4.977777777777779, \"linelabel\": \"Additional TXOT\", \"barlabel\": \"Additional TXOT averaged by 30min rolling window\"}, {\"on_runway_time\": \"2019-11-15T16:45:43+00:00\", \"taxi_holding_time_minutes\": 2.216666666666667, \"avg_delay_30min\": 4.280555555555557, \"linelabel\": \"Additional TXOT\", \"barlabel\": \"Additional TXOT averaged by 30min rolling window\"}, {\"on_runway_time\": \"2019-11-15T16:56:05+00:00\", \"taxi_holding_time_minutes\": 6.883333333333334, \"avg_delay_30min\": 3.744444444444446, \"linelabel\": \"Additional TXOT\", \"barlabel\": \"Additional TXOT averaged by 30min rolling window\"}, {\"on_runway_time\": \"2019-11-15T17:07:22+00:00\", \"taxi_holding_time_minutes\": 5.9, \"avg_delay_30min\": 4.5933333333333355, \"linelabel\": \"Additional TXOT\", \"barlabel\": \"Additional TXOT averaged by 30min rolling window\"}, {\"on_runway_time\": \"2019-11-15T17:13:41+00:00\", \"taxi_holding_time_minutes\": 4.883333333333334, \"avg_delay_30min\": 4.970833333333335, \"linelabel\": \"Additional TXOT\", \"barlabel\": \"Additional TXOT averaged by 30min rolling window\"}, {\"on_runway_time\": \"2019-11-15T17:17:26+00:00\", \"taxi_holding_time_minutes\": 9.216666666666667, \"avg_delay_30min\": 6.720833333333336, \"linelabel\": \"Additional TXOT\", \"barlabel\": \"Additional TXOT averaged by 30min rolling window\"}, {\"on_runway_time\": \"2019-11-15T17:20:20+00:00\", \"taxi_holding_time_minutes\": 3.216666666666667, \"avg_delay_30min\": 6.020000000000001, \"linelabel\": \"Additional TXOT\", \"barlabel\": \"Additional TXOT averaged by 30min rolling window\"}, {\"on_runway_time\": \"2019-11-15T17:21:31+00:00\", \"taxi_holding_time_minutes\": 5.1, \"avg_delay_30min\": 5.866666666666668, \"linelabel\": \"Additional TXOT\", \"barlabel\": \"Additional TXOT averaged by 30min rolling window\"}, {\"on_runway_time\": \"2019-11-15T17:23:09+00:00\", \"taxi_holding_time_minutes\": 4.666666666666667, \"avg_delay_30min\": 5.695238095238096, \"linelabel\": \"Additional TXOT\", \"barlabel\": \"Additional TXOT averaged by 30min rolling window\"}, {\"on_runway_time\": \"2019-11-15T17:24:01+00:00\", \"taxi_holding_time_minutes\": 5.183333333333334, \"avg_delay_30min\": 5.631250000000001, \"linelabel\": \"Additional TXOT\", \"barlabel\": \"Additional TXOT averaged by 30min rolling window\"}, {\"on_runway_time\": \"2019-11-15T17:25:40+00:00\", \"taxi_holding_time_minutes\": 9.4, \"avg_delay_30min\": 6.050000000000001, \"linelabel\": \"Additional TXOT\", \"barlabel\": \"Additional TXOT averaged by 30min rolling window\"}, {\"on_runway_time\": \"2019-11-15T17:31:04+00:00\", \"taxi_holding_time_minutes\": 10.85, \"avg_delay_30min\": 6.490740740740742, \"linelabel\": \"Additional TXOT\", \"barlabel\": \"Additional TXOT averaged by 30min rolling window\"}, {\"on_runway_time\": \"2019-11-15T17:34:44+00:00\", \"taxi_holding_time_minutes\": 3.8333333333333335, \"avg_delay_30min\": 6.2250000000000005, \"linelabel\": \"Additional TXOT\", \"barlabel\": \"Additional TXOT averaged by 30min rolling window\"}, {\"on_runway_time\": \"2019-11-15T17:39:45+00:00\", \"taxi_holding_time_minutes\": 3.2333333333333334, \"avg_delay_30min\": 5.958333333333334, \"linelabel\": \"Additional TXOT\", \"barlabel\": \"Additional TXOT averaged by 30min rolling window\"}, {\"on_runway_time\": \"2019-11-15T17:43:07+00:00\", \"taxi_holding_time_minutes\": 4.9, \"avg_delay_30min\": 5.862121212121213, \"linelabel\": \"Additional TXOT\", \"barlabel\": \"Additional TXOT averaged by 30min rolling window\"}, {\"on_runway_time\": \"2019-11-15T17:48:29+00:00\", \"taxi_holding_time_minutes\": 1.2166666666666666, \"avg_delay_30min\": 5.16, \"linelabel\": \"Additional TXOT\", \"barlabel\": \"Additional TXOT averaged by 30min rolling window\"}, {\"on_runway_time\": \"2019-11-15T17:52:33+00:00\", \"taxi_holding_time_minutes\": 6.9, \"avg_delay_30min\": 5.575925925925926, \"linelabel\": \"Additional TXOT\", \"barlabel\": \"Additional TXOT averaged by 30min rolling window\"}, {\"on_runway_time\": \"2019-11-15T18:00:38+00:00\", \"taxi_holding_time_minutes\": 6.45, \"avg_delay_30min\": 5.340476190476191, \"linelabel\": \"Additional TXOT\", \"barlabel\": \"Additional TXOT averaged by 30min rolling window\"}, {\"on_runway_time\": \"2019-11-15T18:03:18+00:00\", \"taxi_holding_time_minutes\": 3.05, \"avg_delay_30min\": 4.226190476190477, \"linelabel\": \"Additional TXOT\", \"barlabel\": \"Additional TXOT averaged by 30min rolling window\"}, {\"on_runway_time\": \"2019-11-15T18:15:38+00:00\", \"taxi_holding_time_minutes\": 0.0, \"avg_delay_30min\": 3.5233333333333348, \"linelabel\": \"Additional TXOT\", \"barlabel\": \"Additional TXOT averaged by 30min rolling window\"}, {\"on_runway_time\": \"2019-11-15T18:21:26+00:00\", \"taxi_holding_time_minutes\": 0.0, \"avg_delay_30min\": 3.280000000000002, \"linelabel\": \"Additional TXOT\", \"barlabel\": \"Additional TXOT averaged by 30min rolling window\"}, {\"on_runway_time\": \"2019-11-15T18:25:12+00:00\", \"taxi_holding_time_minutes\": 0.0, \"avg_delay_30min\": 1.9000000000000015, \"linelabel\": \"Additional TXOT\", \"barlabel\": \"Additional TXOT averaged by 30min rolling window\"}, {\"on_runway_time\": \"2019-11-15T18:26:08+00:00\", \"taxi_holding_time_minutes\": 0.0, \"avg_delay_30min\": 1.5833333333333346, \"linelabel\": \"Additional TXOT\", \"barlabel\": \"Additional TXOT averaged by 30min rolling window\"}, {\"on_runway_time\": \"2019-11-15T18:31:21+00:00\", \"taxi_holding_time_minutes\": 0.0, \"avg_delay_30min\": 0.5083333333333345, \"linelabel\": \"Additional TXOT\", \"barlabel\": \"Additional TXOT averaged by 30min rolling window\"}, {\"on_runway_time\": \"2019-11-15T18:35:12+00:00\", \"taxi_holding_time_minutes\": 2.5166666666666666, \"avg_delay_30min\": 0.4194444444444456, \"linelabel\": \"Additional TXOT\", \"barlabel\": \"Additional TXOT averaged by 30min rolling window\"}, {\"on_runway_time\": \"2019-11-15T18:37:29+00:00\", \"taxi_holding_time_minutes\": 6.816666666666666, \"avg_delay_30min\": 1.3333333333333341, \"linelabel\": \"Additional TXOT\", \"barlabel\": \"Additional TXOT averaged by 30min rolling window\"}, {\"on_runway_time\": \"2019-11-15T18:58:09+00:00\", \"taxi_holding_time_minutes\": 2.466666666666667, \"avg_delay_30min\": 2.950000000000002, \"linelabel\": \"Additional TXOT\", \"barlabel\": \"Additional TXOT averaged by 30min rolling window\"}, {\"on_runway_time\": \"2019-11-15T19:00:31+00:00\", \"taxi_holding_time_minutes\": 3.9833333333333334, \"avg_delay_30min\": 3.156666666666668, \"linelabel\": \"Additional TXOT\", \"barlabel\": \"Additional TXOT averaged by 30min rolling window\"}, {\"on_runway_time\": \"2019-11-15T19:04:17+00:00\", \"taxi_holding_time_minutes\": 1.8833333333333333, \"avg_delay_30min\": 3.533333333333335, \"linelabel\": \"Additional TXOT\", \"barlabel\": \"Additional TXOT averaged by 30min rolling window\"}, {\"on_runway_time\": \"2019-11-15T19:20:32+00:00\", \"taxi_holding_time_minutes\": 1.75, \"avg_delay_30min\": 2.5208333333333353, \"linelabel\": \"Additional TXOT\", \"barlabel\": \"Additional TXOT averaged by 30min rolling window\"}, {\"on_runway_time\": \"2019-11-15T19:24:54+00:00\", \"taxi_holding_time_minutes\": 5.266666666666667, \"avg_delay_30min\": 3.0700000000000016, \"linelabel\": \"Additional TXOT\", \"barlabel\": \"Additional TXOT averaged by 30min rolling window\"}, {\"on_runway_time\": \"2019-11-15T19:29:40+00:00\", \"taxi_holding_time_minutes\": 0.0, \"avg_delay_30min\": 2.576666666666668, \"linelabel\": \"Additional TXOT\", \"barlabel\": \"Additional TXOT averaged by 30min rolling window\"}, {\"on_runway_time\": \"2019-11-15T19:33:33+00:00\", \"taxi_holding_time_minutes\": 0.9333333333333333, \"avg_delay_30min\": 1.9666666666666681, \"linelabel\": \"Additional TXOT\", \"barlabel\": \"Additional TXOT averaged by 30min rolling window\"}, {\"on_runway_time\": \"2019-11-15T20:01:19+00:00\", \"taxi_holding_time_minutes\": 0.0, \"avg_delay_30min\": 0.4666666666666702, \"linelabel\": \"Additional TXOT\", \"barlabel\": \"Additional TXOT averaged by 30min rolling window\"}, {\"on_runway_time\": \"2019-11-15T20:03:13+00:00\", \"taxi_holding_time_minutes\": 1.3, \"avg_delay_30min\": 0.7444444444444468, \"linelabel\": \"Additional TXOT\", \"barlabel\": \"Additional TXOT averaged by 30min rolling window\"}, {\"on_runway_time\": \"2019-11-15T20:04:00+00:00\", \"taxi_holding_time_minutes\": 2.0166666666666666, \"avg_delay_30min\": 1.1055555555555578, \"linelabel\": \"Additional TXOT\", \"barlabel\": \"Additional TXOT averaged by 30min rolling window\"}, {\"on_runway_time\": \"2019-11-15T20:06:03+00:00\", \"taxi_holding_time_minutes\": 4.9, \"avg_delay_30min\": 2.0541666666666685, \"linelabel\": \"Additional TXOT\", \"barlabel\": \"Additional TXOT averaged by 30min rolling window\"}, {\"on_runway_time\": \"2019-11-15T20:08:50+00:00\", \"taxi_holding_time_minutes\": 1.6333333333333333, \"avg_delay_30min\": 1.9700000000000013, \"linelabel\": \"Additional TXOT\", \"barlabel\": \"Additional TXOT averaged by 30min rolling window\"}, {\"on_runway_time\": \"2019-11-15T20:14:27+00:00\", \"taxi_holding_time_minutes\": 0.0, \"avg_delay_30min\": 1.6416666666666677, \"linelabel\": \"Additional TXOT\", \"barlabel\": \"Additional TXOT averaged by 30min rolling window\"}, {\"on_runway_time\": \"2019-11-15T20:22:32+00:00\", \"taxi_holding_time_minutes\": 0.0, \"avg_delay_30min\": 1.4071428571428581, \"linelabel\": \"Additional TXOT\", \"barlabel\": \"Additional TXOT averaged by 30min rolling window\"}, {\"on_runway_time\": \"2019-11-15T20:24:51+00:00\", \"taxi_holding_time_minutes\": 0.0, \"avg_delay_30min\": 1.2312500000000008, \"linelabel\": \"Additional TXOT\", \"barlabel\": \"Additional TXOT averaged by 30min rolling window\"}, {\"on_runway_time\": \"2019-11-15T20:26:15+00:00\", \"taxi_holding_time_minutes\": 0.0, \"avg_delay_30min\": 1.0944444444444452, \"linelabel\": \"Additional TXOT\", \"barlabel\": \"Additional TXOT averaged by 30min rolling window\"}, {\"on_runway_time\": \"2019-11-15T20:38:00+00:00\", \"taxi_holding_time_minutes\": 1.5333333333333334, \"avg_delay_30min\": 0.527777777777779, \"linelabel\": \"Additional TXOT\", \"barlabel\": \"Additional TXOT averaged by 30min rolling window\"}, {\"on_runway_time\": \"2019-11-15T20:45:05+00:00\", \"taxi_holding_time_minutes\": 7.016666666666667, \"avg_delay_30min\": 1.7100000000000015, \"linelabel\": \"Additional TXOT\", \"barlabel\": \"Additional TXOT averaged by 30min rolling window\"}, {\"on_runway_time\": \"2019-11-15T21:17:03+00:00\", \"taxi_holding_time_minutes\": 0.0, \"avg_delay_30min\": 7.105427357601002e-15, \"linelabel\": \"Additional TXOT\", \"barlabel\": \"Additional TXOT averaged by 30min rolling window\"}, {\"on_runway_time\": \"2019-11-15T21:29:36+00:00\", \"taxi_holding_time_minutes\": 0.0, \"avg_delay_30min\": 3.552713678800501e-15, \"linelabel\": \"Additional TXOT\", \"barlabel\": \"Additional TXOT averaged by 30min rolling window\"}, {\"on_runway_time\": \"2019-11-15T22:04:53+00:00\", \"taxi_holding_time_minutes\": 0.0, \"avg_delay_30min\": 7.105427357601002e-15, \"linelabel\": \"Additional TXOT\", \"barlabel\": \"Additional TXOT averaged by 30min rolling window\"}, {\"on_runway_time\": \"2019-11-15T22:09:27+00:00\", \"taxi_holding_time_minutes\": 1.1166666666666667, \"avg_delay_30min\": 0.5583333333333369, \"linelabel\": \"Additional TXOT\", \"barlabel\": \"Additional TXOT averaged by 30min rolling window\"}, {\"on_runway_time\": \"2019-11-15T22:41:54+00:00\", \"taxi_holding_time_minutes\": 0.0, \"avg_delay_30min\": 7.105427357601002e-15, \"linelabel\": \"Additional TXOT\", \"barlabel\": \"Additional TXOT averaged by 30min rolling window\"}], \"data-b86f0460052470a913b1f7575915fde8\": [{\"on_runway_time\": \"2019-11-15T05:13:42+00:00\", \"taxi_holding_time_minutes\": 1.05, \"avg_delay_30min_all_trajs\": 1.0500000000000107}, {\"on_runway_time\": \"2019-11-15T05:16:57+00:00\", \"taxi_holding_time_minutes\": 1.55, \"avg_delay_30min_all_trajs\": 1.3000000000000054}, {\"on_runway_time\": \"2019-11-15T05:25:28+00:00\", \"taxi_holding_time_minutes\": 1.3, \"avg_delay_30min_all_trajs\": 1.3000000000000036}, {\"on_runway_time\": \"2019-11-15T05:29:42+00:00\", \"taxi_holding_time_minutes\": 0.0, \"avg_delay_30min_all_trajs\": 0.9750000000000028}, {\"on_runway_time\": \"2019-11-15T05:39:39+00:00\", \"taxi_holding_time_minutes\": 11.766666666666667, \"avg_delay_30min_all_trajs\": 3.1333333333333355}, {\"on_runway_time\": \"2019-11-15T06:08:32+00:00\", \"taxi_holding_time_minutes\": 1.8, \"avg_delay_30min_all_trajs\": 6.783333333333339}, {\"on_runway_time\": \"2019-11-15T06:13:24+00:00\", \"taxi_holding_time_minutes\": 4.666666666666667, \"avg_delay_30min_all_trajs\": 3.2333333333333387}, {\"on_runway_time\": \"2019-11-15T06:14:33+00:00\", \"taxi_holding_time_minutes\": 11.983333333333333, \"avg_delay_30min_all_trajs\": 6.150000000000003}, {\"on_runway_time\": \"2019-11-15T06:20:05+00:00\", \"taxi_holding_time_minutes\": 1.55, \"avg_delay_30min_all_trajs\": 5.000000000000003}, {\"on_runway_time\": \"2019-11-15T06:21:31+00:00\", \"taxi_holding_time_minutes\": 1.1833333333333333, \"avg_delay_30min_all_trajs\": 4.236666666666669}, {\"on_runway_time\": \"2019-11-15T06:24:11+00:00\", \"taxi_holding_time_minutes\": 2.433333333333333, \"avg_delay_30min_all_trajs\": 3.936111111111113}, {\"on_runway_time\": \"2019-11-15T06:29:09+00:00\", \"taxi_holding_time_minutes\": 12.983333333333333, \"avg_delay_30min_all_trajs\": 5.2285714285714295}, {\"on_runway_time\": \"2019-11-15T06:31:07+00:00\", \"taxi_holding_time_minutes\": 1.3833333333333333, \"avg_delay_30min_all_trajs\": 4.747916666666668}, {\"on_runway_time\": \"2019-11-15T06:35:38+00:00\", \"taxi_holding_time_minutes\": 3.0166666666666666, \"avg_delay_30min_all_trajs\": 4.555555555555556}, {\"on_runway_time\": \"2019-11-15T06:40:04+00:00\", \"taxi_holding_time_minutes\": 4.85, \"avg_delay_30min_all_trajs\": 4.894444444444446}, {\"on_runway_time\": \"2019-11-15T06:43:36+00:00\", \"taxi_holding_time_minutes\": 12.366666666666667, \"avg_delay_30min_all_trajs\": 5.750000000000001}, {\"on_runway_time\": \"2019-11-15T06:45:53+00:00\", \"taxi_holding_time_minutes\": 5.366666666666666, \"avg_delay_30min_all_trajs\": 5.014814814814816}, {\"on_runway_time\": \"2019-11-15T06:48:08+00:00\", \"taxi_holding_time_minutes\": 3.0833333333333335, \"avg_delay_30min_all_trajs\": 4.821666666666668}, {\"on_runway_time\": \"2019-11-15T06:48:34+00:00\", \"taxi_holding_time_minutes\": 4.2, \"avg_delay_30min_all_trajs\": 4.7651515151515165}, {\"on_runway_time\": \"2019-11-15T06:52:13+00:00\", \"taxi_holding_time_minutes\": 0.0, \"avg_delay_30min_all_trajs\": 4.968333333333335}, {\"on_runway_time\": \"2019-11-15T06:54:16+00:00\", \"taxi_holding_time_minutes\": 17.65, \"avg_delay_30min_all_trajs\": 6.49}, {\"on_runway_time\": \"2019-11-15T06:56:37+00:00\", \"taxi_holding_time_minutes\": 18.7, \"avg_delay_30min_all_trajs\": 7.6000000000000005}, {\"on_runway_time\": \"2019-11-15T06:58:04+00:00\", \"taxi_holding_time_minutes\": 2.783333333333333, \"avg_delay_30min_all_trajs\": 7.198611111111112}, {\"on_runway_time\": \"2019-11-15T07:00:54+00:00\", \"taxi_holding_time_minutes\": 17.833333333333332, \"avg_delay_30min_all_trajs\": 7.602777777777778}, {\"on_runway_time\": \"2019-11-15T07:02:01+00:00\", \"taxi_holding_time_minutes\": 1.3166666666666667, \"avg_delay_30min_all_trajs\": 7.597222222222222}, {\"on_runway_time\": \"2019-11-15T07:03:51+00:00\", \"taxi_holding_time_minutes\": 6.683333333333334, \"avg_delay_30min_all_trajs\": 7.526923076923078}, {\"on_runway_time\": \"2019-11-15T07:04:52+00:00\", \"taxi_holding_time_minutes\": 0.0, \"avg_delay_30min_all_trajs\": 6.989285714285715}, {\"on_runway_time\": \"2019-11-15T07:05:45+00:00\", \"taxi_holding_time_minutes\": 1.4, \"avg_delay_30min_all_trajs\": 6.873809523809525}, {\"on_runway_time\": \"2019-11-15T07:07:37+00:00\", \"taxi_holding_time_minutes\": 8.85, \"avg_delay_30min_all_trajs\": 7.005555555555556}, {\"on_runway_time\": \"2019-11-15T07:09:03+00:00\", \"taxi_holding_time_minutes\": 0.0, \"avg_delay_30min_all_trajs\": 6.567708333333334}, {\"on_runway_time\": \"2019-11-15T07:09:41+00:00\", \"taxi_holding_time_minutes\": 4.083333333333333, \"avg_delay_30min_all_trajs\": 6.421568627450981}, {\"on_runway_time\": \"2019-11-15T07:12:53+00:00\", \"taxi_holding_time_minutes\": 18.483333333333334, \"avg_delay_30min_all_trajs\": 7.223529411764706}, {\"on_runway_time\": \"2019-11-15T07:20:52+00:00\", \"taxi_holding_time_minutes\": 17.066666666666666, \"avg_delay_30min_all_trajs\": 8.203571428571427}, {\"on_runway_time\": \"2019-11-15T07:23:10+00:00\", \"taxi_holding_time_minutes\": 7.766666666666667, \"avg_delay_30min_all_trajs\": 8.758333333333335}, {\"on_runway_time\": \"2019-11-15T07:27:26+00:00\", \"taxi_holding_time_minutes\": 4.15, \"avg_delay_30min_all_trajs\": 6.955128205128205}, {\"on_runway_time\": \"2019-11-15T07:40:18+00:00\", \"taxi_holding_time_minutes\": 1.1833333333333333, \"avg_delay_30min_all_trajs\": 9.73}, {\"on_runway_time\": \"2019-11-15T07:54:31+00:00\", \"taxi_holding_time_minutes\": 0.0, \"avg_delay_30min_all_trajs\": 1.7777777777777803}, {\"on_runway_time\": \"2019-11-15T07:57:16+00:00\", \"taxi_holding_time_minutes\": 4.266666666666667, \"avg_delay_30min_all_trajs\": 2.400000000000002}, {\"on_runway_time\": \"2019-11-15T07:58:31+00:00\", \"taxi_holding_time_minutes\": 0.9666666666666667, \"avg_delay_30min_all_trajs\": 1.6041666666666685}, {\"on_runway_time\": \"2019-11-15T08:03:13+00:00\", \"taxi_holding_time_minutes\": 2.05, \"avg_delay_30min_all_trajs\": 1.6933333333333347}, {\"on_runway_time\": \"2019-11-15T08:05:06+00:00\", \"taxi_holding_time_minutes\": 0.0, \"avg_delay_30min_all_trajs\": 1.4111111111111123}, {\"on_runway_time\": \"2019-11-15T08:07:34+00:00\", \"taxi_holding_time_minutes\": 1.3, \"avg_delay_30min_all_trajs\": 1.3952380952380963}, {\"on_runway_time\": \"2019-11-15T08:07:50+00:00\", \"taxi_holding_time_minutes\": 1.9, \"avg_delay_30min_all_trajs\": 1.4583333333333341}, {\"on_runway_time\": \"2019-11-15T08:12:39+00:00\", \"taxi_holding_time_minutes\": 1.05, \"avg_delay_30min_all_trajs\": 1.4416666666666675}, {\"on_runway_time\": \"2019-11-15T08:20:17+00:00\", \"taxi_holding_time_minutes\": 0.0, \"avg_delay_30min_all_trajs\": 1.2814814814814823}, {\"on_runway_time\": \"2019-11-15T08:23:06+00:00\", \"taxi_holding_time_minutes\": 0.0, \"avg_delay_30min_all_trajs\": 1.153333333333334}, {\"on_runway_time\": \"2019-11-15T08:29:17+00:00\", \"taxi_holding_time_minutes\": 0.0, \"avg_delay_30min_all_trajs\": 0.7875000000000009}, {\"on_runway_time\": \"2019-11-15T08:31:05+00:00\", \"taxi_holding_time_minutes\": 1.2, \"avg_delay_30min_all_trajs\": 0.8333333333333341}, {\"on_runway_time\": \"2019-11-15T08:40:35+00:00\", \"taxi_holding_time_minutes\": 1.2166666666666666, \"avg_delay_30min_all_trajs\": 0.577777777777779}, {\"on_runway_time\": \"2019-11-15T08:42:54+00:00\", \"taxi_holding_time_minutes\": 0.0, \"avg_delay_30min_all_trajs\": 0.40277777777777896}, {\"on_runway_time\": \"2019-11-15T08:44:51+00:00\", \"taxi_holding_time_minutes\": 2.35, \"avg_delay_30min_all_trajs\": 0.680952380952382}, {\"on_runway_time\": \"2019-11-15T08:46:26+00:00\", \"taxi_holding_time_minutes\": 1.7, \"avg_delay_30min_all_trajs\": 0.8083333333333342}, {\"on_runway_time\": \"2019-11-15T08:47:46+00:00\", \"taxi_holding_time_minutes\": 12.433333333333334, \"avg_delay_30min_all_trajs\": 2.1000000000000005}, {\"on_runway_time\": \"2019-11-15T08:50:08+00:00\", \"taxi_holding_time_minutes\": 10.45, \"avg_delay_30min_all_trajs\": 2.935000000000001}, {\"on_runway_time\": \"2019-11-15T08:50:51+00:00\", \"taxi_holding_time_minutes\": 13.75, \"avg_delay_30min_all_trajs\": 4.3100000000000005}, {\"on_runway_time\": \"2019-11-15T08:54:30+00:00\", \"taxi_holding_time_minutes\": 2.433333333333333, \"avg_delay_30min_all_trajs\": 4.553333333333334}, {\"on_runway_time\": \"2019-11-15T08:57:09+00:00\", \"taxi_holding_time_minutes\": 0.9666666666666667, \"avg_delay_30min_all_trajs\": 4.2272727272727275}, {\"on_runway_time\": \"2019-11-15T08:57:48+00:00\", \"taxi_holding_time_minutes\": 1.3, \"avg_delay_30min_all_trajs\": 3.983333333333334}, {\"on_runway_time\": \"2019-11-15T09:00:04+00:00\", \"taxi_holding_time_minutes\": 12.666666666666666, \"avg_delay_30min_all_trajs\": 5.038888888888889}, {\"on_runway_time\": \"2019-11-15T09:00:47+00:00\", \"taxi_holding_time_minutes\": 9.233333333333333, \"avg_delay_30min_all_trajs\": 5.361538461538462}, {\"on_runway_time\": \"2019-11-15T09:09:31+00:00\", \"taxi_holding_time_minutes\": 3.6, \"avg_delay_30min_all_trajs\": 5.546153846153847}, {\"on_runway_time\": \"2019-11-15T09:11:25+00:00\", \"taxi_holding_time_minutes\": 10.283333333333333, \"avg_delay_30min_all_trajs\": 6.243589743589744}, {\"on_runway_time\": \"2019-11-15T09:12:48+00:00\", \"taxi_holding_time_minutes\": 7.666666666666667, \"avg_delay_30min_all_trajs\": 6.345238095238095}, {\"on_runway_time\": \"2019-11-15T09:13:54+00:00\", \"taxi_holding_time_minutes\": 6.033333333333333, \"avg_delay_30min_all_trajs\": 6.776190476190476}, {\"on_runway_time\": \"2019-11-15T09:16:41+00:00\", \"taxi_holding_time_minutes\": 4.766666666666667, \"avg_delay_30min_all_trajs\": 7.352564102564103}, {\"on_runway_time\": \"2019-11-15T09:18:39+00:00\", \"taxi_holding_time_minutes\": 8.916666666666666, \"avg_delay_30min_all_trajs\": 7.082051282051282}, {\"on_runway_time\": \"2019-11-15T09:23:43+00:00\", \"taxi_holding_time_minutes\": 10.566666666666666, \"avg_delay_30min_all_trajs\": 6.536111111111111}, {\"on_runway_time\": \"2019-11-15T09:32:36+00:00\", \"taxi_holding_time_minutes\": 1.05, \"avg_delay_30min_all_trajs\": 6.6104166666666675}, {\"on_runway_time\": \"2019-11-15T09:33:38+00:00\", \"taxi_holding_time_minutes\": 2.5166666666666666, \"avg_delay_30min_all_trajs\": 6.155555555555556}, {\"on_runway_time\": \"2019-11-15T09:41:39+00:00\", \"taxi_holding_time_minutes\": 11.4, \"avg_delay_30min_all_trajs\": 6.614583333333334}, {\"on_runway_time\": \"2019-11-15T09:48:49+00:00\", \"taxi_holding_time_minutes\": 0.0, \"avg_delay_30min_all_trajs\": 5.106666666666668}, {\"on_runway_time\": \"2019-11-15T09:49:13+00:00\", \"taxi_holding_time_minutes\": 5.016666666666667, \"avg_delay_30min_all_trajs\": 5.091666666666668}, {\"on_runway_time\": \"2019-11-15T10:01:54+00:00\", \"taxi_holding_time_minutes\": 5.5, \"avg_delay_30min_all_trajs\": 4.247222222222224}, {\"on_runway_time\": \"2019-11-15T10:02:18+00:00\", \"taxi_holding_time_minutes\": 1.8333333333333333, \"avg_delay_30min_all_trajs\": 3.902380952380954}, {\"on_runway_time\": \"2019-11-15T10:13:38+00:00\", \"taxi_holding_time_minutes\": 4.516666666666667, \"avg_delay_30min_all_trajs\": 3.373333333333335}, {\"on_runway_time\": \"2019-11-15T10:15:20+00:00\", \"taxi_holding_time_minutes\": 7.5, \"avg_delay_30min_all_trajs\": 4.061111111111113}, {\"on_runway_time\": \"2019-11-15T10:17:23+00:00\", \"taxi_holding_time_minutes\": 5.566666666666666, \"avg_delay_30min_all_trajs\": 4.276190476190477}, {\"on_runway_time\": \"2019-11-15T10:21:21+00:00\", \"taxi_holding_time_minutes\": 16.883333333333333, \"avg_delay_30min_all_trajs\": 6.966666666666669}, {\"on_runway_time\": \"2019-11-15T10:25:32+00:00\", \"taxi_holding_time_minutes\": 0.0, \"avg_delay_30min_all_trajs\": 5.971428571428573}, {\"on_runway_time\": \"2019-11-15T10:43:37+00:00\", \"taxi_holding_time_minutes\": 4.266666666666667, \"avg_delay_30min_all_trajs\": 6.455555555555557}, {\"on_runway_time\": \"2019-11-15T10:49:34+00:00\", \"taxi_holding_time_minutes\": 1.05, \"avg_delay_30min_all_trajs\": 5.550000000000002}, {\"on_runway_time\": \"2019-11-15T10:53:41+00:00\", \"taxi_holding_time_minutes\": 7.933333333333334, \"avg_delay_30min_all_trajs\": 3.3125000000000018}, {\"on_runway_time\": \"2019-11-15T10:55:30+00:00\", \"taxi_holding_time_minutes\": 4.683333333333334, \"avg_delay_30min_all_trajs\": 3.5866666666666682}, {\"on_runway_time\": \"2019-11-15T10:59:17+00:00\", \"taxi_holding_time_minutes\": 6.1, \"avg_delay_30min_all_trajs\": 4.8066666666666675}, {\"on_runway_time\": \"2019-11-15T11:00:36+00:00\", \"taxi_holding_time_minutes\": 4.183333333333334, \"avg_delay_30min_all_trajs\": 4.702777777777779}, {\"on_runway_time\": \"2019-11-15T11:04:49+00:00\", \"taxi_holding_time_minutes\": 1.1166666666666667, \"avg_delay_30min_all_trajs\": 4.190476190476192}, {\"on_runway_time\": \"2019-11-15T11:06:14+00:00\", \"taxi_holding_time_minutes\": 1.7166666666666666, \"avg_delay_30min_all_trajs\": 3.881250000000001}, {\"on_runway_time\": \"2019-11-15T11:07:53+00:00\", \"taxi_holding_time_minutes\": 1.1166666666666667, \"avg_delay_30min_all_trajs\": 3.5740740740740744}, {\"on_runway_time\": \"2019-11-15T11:09:28+00:00\", \"taxi_holding_time_minutes\": 12.233333333333333, \"avg_delay_30min_all_trajs\": 4.44}, {\"on_runway_time\": \"2019-11-15T11:10:41+00:00\", \"taxi_holding_time_minutes\": 7.466666666666667, \"avg_delay_30min_all_trajs\": 4.715151515151516}, {\"on_runway_time\": \"2019-11-15T11:14:35+00:00\", \"taxi_holding_time_minutes\": 4.766666666666667, \"avg_delay_30min_all_trajs\": 4.760606060606062}, {\"on_runway_time\": \"2019-11-15T11:17:17+00:00\", \"taxi_holding_time_minutes\": 0.0, \"avg_delay_30min_all_trajs\": 4.36388888888889}, {\"on_runway_time\": \"2019-11-15T11:19:48+00:00\", \"taxi_holding_time_minutes\": 6.516666666666667, \"avg_delay_30min_all_trajs\": 4.819444444444445}, {\"on_runway_time\": \"2019-11-15T11:21:21+00:00\", \"taxi_holding_time_minutes\": 0.0, \"avg_delay_30min_all_trajs\": 4.448717948717949}, {\"on_runway_time\": \"2019-11-15T11:22:19+00:00\", \"taxi_holding_time_minutes\": 14.466666666666667, \"avg_delay_30min_all_trajs\": 5.164285714285714}, {\"on_runway_time\": \"2019-11-15T11:29:04+00:00\", \"taxi_holding_time_minutes\": 4.016666666666667, \"avg_delay_30min_all_trajs\": 4.9}, {\"on_runway_time\": \"2019-11-15T11:31:24+00:00\", \"taxi_holding_time_minutes\": 1.9833333333333334, \"avg_delay_30min_all_trajs\": 4.616666666666667}, {\"on_runway_time\": \"2019-11-15T11:33:48+00:00\", \"taxi_holding_time_minutes\": 4.35, \"avg_delay_30min_all_trajs\": 4.596153846153846}, {\"on_runway_time\": \"2019-11-15T11:34:32+00:00\", \"taxi_holding_time_minutes\": 4.033333333333333, \"avg_delay_30min_all_trajs\": 4.555952380952381}, {\"on_runway_time\": \"2019-11-15T11:37:09+00:00\", \"taxi_holding_time_minutes\": 4.35, \"avg_delay_30min_all_trajs\": 5.023076923076924}, {\"on_runway_time\": \"2019-11-15T11:38:29+00:00\", \"taxi_holding_time_minutes\": 3.5166666666666666, \"avg_delay_30min_all_trajs\": 5.207692307692308}, {\"on_runway_time\": \"2019-11-15T11:39:17+00:00\", \"taxi_holding_time_minutes\": 0.0, \"avg_delay_30min_all_trajs\": 4.835714285714286}, {\"on_runway_time\": \"2019-11-15T11:40:56+00:00\", \"taxi_holding_time_minutes\": 5.1, \"avg_delay_30min_all_trajs\": 4.084615384615384}, {\"on_runway_time\": \"2019-11-15T11:42:59+00:00\", \"taxi_holding_time_minutes\": 3.85, \"avg_delay_30min_all_trajs\": 4.067857142857143}, {\"on_runway_time\": \"2019-11-15T11:44:37+00:00\", \"taxi_holding_time_minutes\": 1.6333333333333333, \"avg_delay_30min_all_trajs\": 3.844047619047619}, {\"on_runway_time\": \"2019-11-15T11:45:42+00:00\", \"taxi_holding_time_minutes\": 1.3, \"avg_delay_30min_all_trajs\": 3.674444444444445}, {\"on_runway_time\": \"2019-11-15T11:46:03+00:00\", \"taxi_holding_time_minutes\": 7.116666666666666, \"avg_delay_30min_all_trajs\": 3.8895833333333334}, {\"on_runway_time\": \"2019-11-15T11:46:28+00:00\", \"taxi_holding_time_minutes\": 5.1, \"avg_delay_30min_all_trajs\": 3.960784313725491}, {\"on_runway_time\": \"2019-11-15T11:47:43+00:00\", \"taxi_holding_time_minutes\": 3.6333333333333333, \"avg_delay_30min_all_trajs\": 4.174509803921569}, {\"on_runway_time\": \"2019-11-15T11:48:35+00:00\", \"taxi_holding_time_minutes\": 2.75, \"avg_delay_30min_all_trajs\": 4.095370370370371}, {\"on_runway_time\": \"2019-11-15T11:49:25+00:00\", \"taxi_holding_time_minutes\": 4.483333333333333, \"avg_delay_30min_all_trajs\": 4.11578947368421}, {\"on_runway_time\": \"2019-11-15T11:51:40+00:00\", \"taxi_holding_time_minutes\": 1.4, \"avg_delay_30min_all_trajs\": 4.060185185185186}, {\"on_runway_time\": \"2019-11-15T11:57:49+00:00\", \"taxi_holding_time_minutes\": 3.35, \"avg_delay_30min_all_trajs\": 3.4425925925925926}, {\"on_runway_time\": \"2019-11-15T11:59:15+00:00\", \"taxi_holding_time_minutes\": 5.3, \"avg_delay_30min_all_trajs\": 3.5138888888888893}, {\"on_runway_time\": \"2019-11-15T11:59:59+00:00\", \"taxi_holding_time_minutes\": 6.316666666666666, \"avg_delay_30min_all_trajs\": 3.6614035087719303}, {\"on_runway_time\": \"2019-11-15T12:01:19+00:00\", \"taxi_holding_time_minutes\": 5.15, \"avg_delay_30min_all_trajs\": 3.7358333333333333}, {\"on_runway_time\": \"2019-11-15T12:02:59+00:00\", \"taxi_holding_time_minutes\": 3.8, \"avg_delay_30min_all_trajs\": 3.8266666666666667}, {\"on_runway_time\": \"2019-11-15T12:04:14+00:00\", \"taxi_holding_time_minutes\": 3.1333333333333333, \"avg_delay_30min_all_trajs\": 3.765833333333334}, {\"on_runway_time\": \"2019-11-15T12:08:41+00:00\", \"taxi_holding_time_minutes\": 2.716666666666667, \"avg_delay_30min_all_trajs\": 3.6740740740740745}, {\"on_runway_time\": \"2019-11-15T12:10:54+00:00\", \"taxi_holding_time_minutes\": 1.2166666666666666, \"avg_delay_30min_all_trajs\": 3.741666666666667}, {\"on_runway_time\": \"2019-11-15T12:11:38+00:00\", \"taxi_holding_time_minutes\": 1.8, \"avg_delay_30min_all_trajs\": 3.558333333333334}, {\"on_runway_time\": \"2019-11-15T12:13:12+00:00\", \"taxi_holding_time_minutes\": 2.466666666666667, \"avg_delay_30min_all_trajs\": 3.481481481481482}, {\"on_runway_time\": \"2019-11-15T12:17:09+00:00\", \"taxi_holding_time_minutes\": 1.4666666666666666, \"avg_delay_30min_all_trajs\": 3.265555555555556}, {\"on_runway_time\": \"2019-11-15T12:17:48+00:00\", \"taxi_holding_time_minutes\": 2.85, \"avg_delay_30min_all_trajs\": 3.213333333333334}, {\"on_runway_time\": \"2019-11-15T12:20:20+00:00\", \"taxi_holding_time_minutes\": 3.816666666666667, \"avg_delay_30min_all_trajs\": 3.198809523809525}, {\"on_runway_time\": \"2019-11-15T12:23:55+00:00\", \"taxi_holding_time_minutes\": 1.4666666666666666, \"avg_delay_30min_all_trajs\": 3.203571428571429}, {\"on_runway_time\": \"2019-11-15T12:27:20+00:00\", \"taxi_holding_time_minutes\": 7.066666666666666, \"avg_delay_30min_all_trajs\": 3.4611111111111117}, {\"on_runway_time\": \"2019-11-15T12:27:59+00:00\", \"taxi_holding_time_minutes\": 11.133333333333333, \"avg_delay_30min_all_trajs\": 3.980000000000001}, {\"on_runway_time\": \"2019-11-15T12:29:55+00:00\", \"taxi_holding_time_minutes\": 6.066666666666666, \"avg_delay_30min_all_trajs\": 4.0311111111111115}, {\"on_runway_time\": \"2019-11-15T12:33:33+00:00\", \"taxi_holding_time_minutes\": 0.43333333333333335, \"avg_delay_30min_all_trajs\": 3.5102564102564107}, {\"on_runway_time\": \"2019-11-15T12:36:50+00:00\", \"taxi_holding_time_minutes\": 5.016666666666667, \"avg_delay_30min_all_trajs\": 3.6551282051282055}, {\"on_runway_time\": \"2019-11-15T12:39:04+00:00\", \"taxi_holding_time_minutes\": 5.9, \"avg_delay_30min_all_trajs\": 3.9000000000000004}, {\"on_runway_time\": \"2019-11-15T12:43:08+00:00\", \"taxi_holding_time_minutes\": 9.983333333333333, \"avg_delay_30min_all_trajs\": 4.805555555555556}, {\"on_runway_time\": \"2019-11-15T12:49:18+00:00\", \"taxi_holding_time_minutes\": 0.95, \"avg_delay_30min_all_trajs\": 5.1833333333333345}, {\"on_runway_time\": \"2019-11-15T12:51:17+00:00\", \"taxi_holding_time_minutes\": 8.166666666666666, \"avg_delay_30min_all_trajs\": 5.618333333333334}, {\"on_runway_time\": \"2019-11-15T12:54:15+00:00\", \"taxi_holding_time_minutes\": 0.9666666666666667, \"avg_delay_30min_all_trajs\": 5.568333333333333}, {\"on_runway_time\": \"2019-11-15T12:55:49+00:00\", \"taxi_holding_time_minutes\": 4.133333333333334, \"avg_delay_30min_all_trajs\": 5.437878787878788}, {\"on_runway_time\": \"2019-11-15T12:59:26+00:00\", \"taxi_holding_time_minutes\": 0.0, \"avg_delay_30min_all_trajs\": 4.161666666666667}, {\"on_runway_time\": \"2019-11-15T13:00:20+00:00\", \"taxi_holding_time_minutes\": 1.2166666666666666, \"avg_delay_30min_all_trajs\": 3.676666666666667}, {\"on_runway_time\": \"2019-11-15T13:06:39+00:00\", \"taxi_holding_time_minutes\": 0.0, \"avg_delay_30min_all_trajs\": 3.6333333333333337}, {\"on_runway_time\": \"2019-11-15T13:39:15+00:00\", \"taxi_holding_time_minutes\": 0.0, \"avg_delay_30min_all_trajs\": 7.105427357601002e-15}, {\"on_runway_time\": \"2019-11-15T13:56:13+00:00\", \"taxi_holding_time_minutes\": 3.8, \"avg_delay_30min_all_trajs\": 1.9000000000000035}, {\"on_runway_time\": \"2019-11-15T13:58:29+00:00\", \"taxi_holding_time_minutes\": 8.4, \"avg_delay_30min_all_trajs\": 4.066666666666669}, {\"on_runway_time\": \"2019-11-15T14:02:27+00:00\", \"taxi_holding_time_minutes\": 1.7166666666666666, \"avg_delay_30min_all_trajs\": 3.4791666666666687}, {\"on_runway_time\": \"2019-11-15T14:10:29+00:00\", \"taxi_holding_time_minutes\": 1.4666666666666666, \"avg_delay_30min_all_trajs\": 3.8458333333333354}, {\"on_runway_time\": \"2019-11-15T14:18:30+00:00\", \"taxi_holding_time_minutes\": 3.466666666666667, \"avg_delay_30min_all_trajs\": 3.770000000000002}, {\"on_runway_time\": \"2019-11-15T14:20:10+00:00\", \"taxi_holding_time_minutes\": 1.05, \"avg_delay_30min_all_trajs\": 3.316666666666668}, {\"on_runway_time\": \"2019-11-15T14:32:44+00:00\", \"taxi_holding_time_minutes\": 1.4666666666666666, \"avg_delay_30min_all_trajs\": 1.862500000000002}, {\"on_runway_time\": \"2019-11-15T14:33:06+00:00\", \"taxi_holding_time_minutes\": 2.0, \"avg_delay_30min_all_trajs\": 1.8900000000000017}, {\"on_runway_time\": \"2019-11-15T14:43:12+00:00\", \"taxi_holding_time_minutes\": 0.0, \"avg_delay_30min_all_trajs\": 1.5966666666666682}, {\"on_runway_time\": \"2019-11-15T14:52:40+00:00\", \"taxi_holding_time_minutes\": 0.0, \"avg_delay_30min_all_trajs\": 0.8666666666666688}, {\"on_runway_time\": \"2019-11-15T14:59:18+00:00\", \"taxi_holding_time_minutes\": 0.0, \"avg_delay_30min_all_trajs\": 0.693333333333335}, {\"on_runway_time\": \"2019-11-15T15:04:16+00:00\", \"taxi_holding_time_minutes\": 0.0, \"avg_delay_30min_all_trajs\": 2.220446049250313e-15}, {\"on_runway_time\": \"2019-11-15T15:05:52+00:00\", \"taxi_holding_time_minutes\": 1.0833333333333333, \"avg_delay_30min_all_trajs\": 0.21666666666666842}, {\"on_runway_time\": \"2019-11-15T15:08:17+00:00\", \"taxi_holding_time_minutes\": 2.2, \"avg_delay_30min_all_trajs\": 0.5472222222222237}, {\"on_runway_time\": \"2019-11-15T15:10:32+00:00\", \"taxi_holding_time_minutes\": 1.55, \"avg_delay_30min_all_trajs\": 0.6904761904761917}, {\"on_runway_time\": \"2019-11-15T15:13:45+00:00\", \"taxi_holding_time_minutes\": 1.6, \"avg_delay_30min_all_trajs\": 0.9190476190476203}, {\"on_runway_time\": \"2019-11-15T15:21:33+00:00\", \"taxi_holding_time_minutes\": 2.683333333333333, \"avg_delay_30min_all_trajs\": 1.1395833333333343}, {\"on_runway_time\": \"2019-11-15T15:25:19+00:00\", \"taxi_holding_time_minutes\": 1.6333333333333333, \"avg_delay_30min_all_trajs\": 1.343750000000001}, {\"on_runway_time\": \"2019-11-15T15:28:30+00:00\", \"taxi_holding_time_minutes\": 0.0, \"avg_delay_30min_all_trajs\": 1.1944444444444455}, {\"on_runway_time\": \"2019-11-15T15:35:25+00:00\", \"taxi_holding_time_minutes\": 0.0, \"avg_delay_30min_all_trajs\": 1.343750000000001}, {\"on_runway_time\": \"2019-11-15T15:36:44+00:00\", \"taxi_holding_time_minutes\": 1.3, \"avg_delay_30min_all_trajs\": 1.3708333333333342}, {\"on_runway_time\": \"2019-11-15T15:44:46+00:00\", \"taxi_holding_time_minutes\": 0.9666666666666667, \"avg_delay_30min_all_trajs\": 1.0972222222222237}, {\"on_runway_time\": \"2019-11-15T15:48:05+00:00\", \"taxi_holding_time_minutes\": 2.2333333333333334, \"avg_delay_30min_all_trajs\": 1.2595238095238108}, {\"on_runway_time\": \"2019-11-15T15:49:41+00:00\", \"taxi_holding_time_minutes\": 2.35, \"avg_delay_30min_all_trajs\": 1.3958333333333344}, {\"on_runway_time\": \"2019-11-15T15:59:32+00:00\", \"taxi_holding_time_minutes\": 2.966666666666667, \"avg_delay_30min_all_trajs\": 1.6361111111111126}, {\"on_runway_time\": \"2019-11-15T16:09:10+00:00\", \"taxi_holding_time_minutes\": 5.683333333333334, \"avg_delay_30min_all_trajs\": 2.840000000000002}, {\"on_runway_time\": \"2019-11-15T16:09:48+00:00\", \"taxi_holding_time_minutes\": 1.3, \"avg_delay_30min_all_trajs\": 2.5833333333333353}, {\"on_runway_time\": \"2019-11-15T16:10:23+00:00\", \"taxi_holding_time_minutes\": 5.2, \"avg_delay_30min_all_trajs\": 2.9571428571428586}, {\"on_runway_time\": \"2019-11-15T16:12:24+00:00\", \"taxi_holding_time_minutes\": 11.25, \"avg_delay_30min_all_trajs\": 3.9937500000000012}, {\"on_runway_time\": \"2019-11-15T16:12:45+00:00\", \"taxi_holding_time_minutes\": 6.4, \"avg_delay_30min_all_trajs\": 4.261111111111112}, {\"on_runway_time\": \"2019-11-15T16:15:42+00:00\", \"taxi_holding_time_minutes\": 6.066666666666666, \"avg_delay_30min_all_trajs\": 4.827777777777779}, {\"on_runway_time\": \"2019-11-15T16:17:46+00:00\", \"taxi_holding_time_minutes\": 10.1, \"avg_delay_30min_all_trajs\": 5.355000000000001}, {\"on_runway_time\": \"2019-11-15T16:19:40+00:00\", \"taxi_holding_time_minutes\": 4.233333333333333, \"avg_delay_30min_all_trajs\": 5.555000000000001}, {\"on_runway_time\": \"2019-11-15T16:20:30+00:00\", \"taxi_holding_time_minutes\": 2.1333333333333333, \"avg_delay_30min_all_trajs\": 5.533333333333333}, {\"on_runway_time\": \"2019-11-15T16:23:46+00:00\", \"taxi_holding_time_minutes\": 4.983333333333333, \"avg_delay_30min_all_trajs\": 5.483333333333333}, {\"on_runway_time\": \"2019-11-15T16:25:21+00:00\", \"taxi_holding_time_minutes\": 2.433333333333333, \"avg_delay_30min_all_trajs\": 5.229166666666667}, {\"on_runway_time\": \"2019-11-15T16:27:35+00:00\", \"taxi_holding_time_minutes\": 1.55, \"avg_delay_30min_all_trajs\": 4.946153846153847}, {\"on_runway_time\": \"2019-11-15T16:30:50+00:00\", \"taxi_holding_time_minutes\": 5.733333333333333, \"avg_delay_30min_all_trajs\": 5.15897435897436}, {\"on_runway_time\": \"2019-11-15T16:32:21+00:00\", \"taxi_holding_time_minutes\": 4.65, \"avg_delay_30min_all_trajs\": 5.1226190476190485}, {\"on_runway_time\": \"2019-11-15T16:33:38+00:00\", \"taxi_holding_time_minutes\": 3.85, \"avg_delay_30min_all_trajs\": 5.037777777777778}, {\"on_runway_time\": \"2019-11-15T16:35:02+00:00\", \"taxi_holding_time_minutes\": 4.483333333333333, \"avg_delay_30min_all_trajs\": 5.003125000000001}, {\"on_runway_time\": \"2019-11-15T16:37:07+00:00\", \"taxi_holding_time_minutes\": 0.0, \"avg_delay_30min_all_trajs\": 4.708823529411766}, {\"on_runway_time\": \"2019-11-15T16:37:50+00:00\", \"taxi_holding_time_minutes\": 5.133333333333334, \"avg_delay_30min_all_trajs\": 4.7324074074074085}, {\"on_runway_time\": \"2019-11-15T16:41:09+00:00\", \"taxi_holding_time_minutes\": 5.616666666666666, \"avg_delay_30min_all_trajs\": 4.913541666666667}, {\"on_runway_time\": \"2019-11-15T16:42:43+00:00\", \"taxi_holding_time_minutes\": 2.35, \"avg_delay_30min_all_trajs\": 4.357291666666667}, {\"on_runway_time\": \"2019-11-15T16:44:03+00:00\", \"taxi_holding_time_minutes\": 1.55, \"avg_delay_30min_all_trajs\": 4.054166666666667}, {\"on_runway_time\": \"2019-11-15T16:45:43+00:00\", \"taxi_holding_time_minutes\": 2.216666666666667, \"avg_delay_30min_all_trajs\": 3.8135416666666675}, {\"on_runway_time\": \"2019-11-15T16:47:02+00:00\", \"taxi_holding_time_minutes\": 6.05, \"avg_delay_30min_all_trajs\": 3.945098039215687}, {\"on_runway_time\": \"2019-11-15T16:51:45+00:00\", \"taxi_holding_time_minutes\": 2.55, \"avg_delay_30min_all_trajs\": 3.5433333333333343}, {\"on_runway_time\": \"2019-11-15T16:54:44+00:00\", \"taxi_holding_time_minutes\": 6.4, \"avg_delay_30min_all_trajs\": 3.6377777777777784}, {\"on_runway_time\": \"2019-11-15T16:56:05+00:00\", \"taxi_holding_time_minutes\": 6.883333333333334, \"avg_delay_30min_all_trajs\": 3.9344444444444453}, {\"on_runway_time\": \"2019-11-15T16:58:16+00:00\", \"taxi_holding_time_minutes\": 1.0166666666666666, \"avg_delay_30min_all_trajs\": 3.8988888888888895}, {\"on_runway_time\": \"2019-11-15T17:00:01+00:00\", \"taxi_holding_time_minutes\": 0.0, \"avg_delay_30min_all_trajs\": 3.655208333333334}, {\"on_runway_time\": \"2019-11-15T17:03:24+00:00\", \"taxi_holding_time_minutes\": 6.616666666666666, \"avg_delay_30min_all_trajs\": 3.6477777777777782}, {\"on_runway_time\": \"2019-11-15T17:03:46+00:00\", \"taxi_holding_time_minutes\": 4.783333333333333, \"avg_delay_30min_all_trajs\": 3.7100000000000004}, {\"on_runway_time\": \"2019-11-15T17:05:23+00:00\", \"taxi_holding_time_minutes\": 3.7333333333333334, \"avg_delay_30min_all_trajs\": 3.6600000000000006}, {\"on_runway_time\": \"2019-11-15T17:07:22+00:00\", \"taxi_holding_time_minutes\": 5.9, \"avg_delay_30min_all_trajs\": 4.053333333333334}, {\"on_runway_time\": \"2019-11-15T17:11:59+00:00\", \"taxi_holding_time_minutes\": 6.483333333333333, \"avg_delay_30min_all_trajs\": 4.038095238095239}, {\"on_runway_time\": \"2019-11-15T17:13:41+00:00\", \"taxi_holding_time_minutes\": 4.883333333333334, \"avg_delay_30min_all_trajs\": 4.21904761904762}, {\"on_runway_time\": \"2019-11-15T17:14:19+00:00\", \"taxi_holding_time_minutes\": 6.233333333333333, \"avg_delay_30min_all_trajs\": 4.553571428571429}, {\"on_runway_time\": \"2019-11-15T17:16:34+00:00\", \"taxi_holding_time_minutes\": 5.7, \"avg_delay_30min_all_trajs\": 4.802380952380953}, {\"on_runway_time\": \"2019-11-15T17:17:26+00:00\", \"taxi_holding_time_minutes\": 9.216666666666667, \"avg_delay_30min_all_trajs\": 5.028571428571429}, {\"on_runway_time\": \"2019-11-15T17:20:20+00:00\", \"taxi_holding_time_minutes\": 3.216666666666667, \"avg_delay_30min_all_trajs\": 4.9077777777777785}, {\"on_runway_time\": \"2019-11-15T17:21:31+00:00\", \"taxi_holding_time_minutes\": 5.1, \"avg_delay_30min_all_trajs\": 4.919791666666668}, {\"on_runway_time\": \"2019-11-15T17:23:09+00:00\", \"taxi_holding_time_minutes\": 4.666666666666667, \"avg_delay_30min_all_trajs\": 5.052083333333334}, {\"on_runway_time\": \"2019-11-15T17:24:01+00:00\", \"taxi_holding_time_minutes\": 5.183333333333334, \"avg_delay_30min_all_trajs\": 5.059803921568628}, {\"on_runway_time\": \"2019-11-15T17:25:40+00:00\", \"taxi_holding_time_minutes\": 9.4, \"avg_delay_30min_all_trajs\": 5.2362745098039225}, {\"on_runway_time\": \"2019-11-15T17:26:57+00:00\", \"taxi_holding_time_minutes\": 12.1, \"avg_delay_30min_all_trajs\": 5.5431372549019615}, {\"on_runway_time\": \"2019-11-15T17:28:16+00:00\", \"taxi_holding_time_minutes\": 10.65, \"avg_delay_30min_all_trajs\": 6.109803921568628}, {\"on_runway_time\": \"2019-11-15T17:31:04+00:00\", \"taxi_holding_time_minutes\": 10.85, \"avg_delay_30min_all_trajs\": 6.7480392156862745}, {\"on_runway_time\": \"2019-11-15T17:34:44+00:00\", \"taxi_holding_time_minutes\": 3.8333333333333335, \"avg_delay_30min_all_trajs\": 6.696875}, {\"on_runway_time\": \"2019-11-15T17:37:09+00:00\", \"taxi_holding_time_minutes\": 0.0, \"avg_delay_30min_all_trajs\": 6.463541666666667}, {\"on_runway_time\": \"2019-11-15T17:38:52+00:00\", \"taxi_holding_time_minutes\": 6.166666666666667, \"avg_delay_30min_all_trajs\": 6.480208333333334}, {\"on_runway_time\": \"2019-11-15T17:39:45+00:00\", \"taxi_holding_time_minutes\": 3.2333333333333334, \"avg_delay_30min_all_trajs\": 6.28921568627451}, {\"on_runway_time\": \"2019-11-15T17:43:07+00:00\", \"taxi_holding_time_minutes\": 4.9, \"avg_delay_30min_all_trajs\": 6.196078431372549}, {\"on_runway_time\": \"2019-11-15T17:48:29+00:00\", \"taxi_holding_time_minutes\": 1.2166666666666666, \"avg_delay_30min_all_trajs\": 5.7511904761904775}, {\"on_runway_time\": \"2019-11-15T17:51:20+00:00\", \"taxi_holding_time_minutes\": 2.85, \"avg_delay_30min_all_trajs\": 5.7250000000000005}, {\"on_runway_time\": \"2019-11-15T17:52:33+00:00\", \"taxi_holding_time_minutes\": 6.9, \"avg_delay_30min_all_trajs\": 5.8535714285714295}, {\"on_runway_time\": \"2019-11-15T17:55:13+00:00\", \"taxi_holding_time_minutes\": 1.4333333333333333, \"avg_delay_30min_all_trajs\": 5.656410256410258}, {\"on_runway_time\": \"2019-11-15T18:00:38+00:00\", \"taxi_holding_time_minutes\": 6.45, \"avg_delay_30min_all_trajs\": 4.3484848484848495}, {\"on_runway_time\": \"2019-11-15T18:03:18+00:00\", \"taxi_holding_time_minutes\": 3.05, \"avg_delay_30min_all_trajs\": 3.6393939393939405}, {\"on_runway_time\": \"2019-11-15T18:07:38+00:00\", \"taxi_holding_time_minutes\": 0.0, \"avg_delay_30min_all_trajs\": 3.620000000000002}, {\"on_runway_time\": \"2019-11-15T18:09:32+00:00\", \"taxi_holding_time_minutes\": 0.0, \"avg_delay_30min_all_trajs\": 3.0033333333333343}, {\"on_runway_time\": \"2019-11-15T18:14:22+00:00\", \"taxi_holding_time_minutes\": 0.0, \"avg_delay_30min_all_trajs\": 2.4333333333333345}, {\"on_runway_time\": \"2019-11-15T18:15:38+00:00\", \"taxi_holding_time_minutes\": 0.0, \"avg_delay_30min_all_trajs\": 2.190000000000001}, {\"on_runway_time\": \"2019-11-15T18:19:21+00:00\", \"taxi_holding_time_minutes\": 0.0, \"avg_delay_30min_all_trajs\": 2.0683333333333342}, {\"on_runway_time\": \"2019-11-15T18:21:26+00:00\", \"taxi_holding_time_minutes\": 0.0, \"avg_delay_30min_all_trajs\": 1.7833333333333343}, {\"on_runway_time\": \"2019-11-15T18:23:43+00:00\", \"taxi_holding_time_minutes\": 1.7166666666666666, \"avg_delay_30min_all_trajs\": 1.265000000000001}, {\"on_runway_time\": \"2019-11-15T18:25:12+00:00\", \"taxi_holding_time_minutes\": 0.0, \"avg_delay_30min_all_trajs\": 1.150000000000001}, {\"on_runway_time\": \"2019-11-15T18:26:08+00:00\", \"taxi_holding_time_minutes\": 0.0, \"avg_delay_30min_all_trajs\": 1.0196969696969707}, {\"on_runway_time\": \"2019-11-15T18:31:21+00:00\", \"taxi_holding_time_minutes\": 0.0, \"avg_delay_30min_all_trajs\": 0.4333333333333343}, {\"on_runway_time\": \"2019-11-15T18:34:21+00:00\", \"taxi_holding_time_minutes\": 1.0333333333333334, \"avg_delay_30min_all_trajs\": 0.25000000000000094}, {\"on_runway_time\": \"2019-11-15T18:35:12+00:00\", \"taxi_holding_time_minutes\": 2.5166666666666666, \"avg_delay_30min_all_trajs\": 0.43888888888888977}, {\"on_runway_time\": \"2019-11-15T18:37:29+00:00\", \"taxi_holding_time_minutes\": 6.816666666666666, \"avg_delay_30min_all_trajs\": 0.9294871794871802}, {\"on_runway_time\": \"2019-11-15T18:58:09+00:00\", \"taxi_holding_time_minutes\": 2.466666666666667, \"avg_delay_30min_all_trajs\": 2.5666666666666687}, {\"on_runway_time\": \"2019-11-15T19:00:31+00:00\", \"taxi_holding_time_minutes\": 3.9833333333333334, \"avg_delay_30min_all_trajs\": 2.8027777777777794}, {\"on_runway_time\": \"2019-11-15T19:04:17+00:00\", \"taxi_holding_time_minutes\": 1.8833333333333333, \"avg_delay_30min_all_trajs\": 3.1166666666666685}, {\"on_runway_time\": \"2019-11-15T19:20:32+00:00\", \"taxi_holding_time_minutes\": 1.75, \"avg_delay_30min_all_trajs\": 2.5208333333333357}, {\"on_runway_time\": \"2019-11-15T19:24:54+00:00\", \"taxi_holding_time_minutes\": 5.266666666666667, \"avg_delay_30min_all_trajs\": 3.070000000000002}, {\"on_runway_time\": \"2019-11-15T19:29:40+00:00\", \"taxi_holding_time_minutes\": 0.0, \"avg_delay_30min_all_trajs\": 2.576666666666669}, {\"on_runway_time\": \"2019-11-15T19:33:33+00:00\", \"taxi_holding_time_minutes\": 0.9333333333333333, \"avg_delay_30min_all_trajs\": 1.966666666666669}, {\"on_runway_time\": \"2019-11-15T19:52:02+00:00\", \"taxi_holding_time_minutes\": 0.0, \"avg_delay_30min_all_trajs\": 1.550000000000003}, {\"on_runway_time\": \"2019-11-15T20:01:19+00:00\", \"taxi_holding_time_minutes\": 0.0, \"avg_delay_30min_all_trajs\": 0.31111111111111467}, {\"on_runway_time\": \"2019-11-15T20:03:13+00:00\", \"taxi_holding_time_minutes\": 1.3, \"avg_delay_30min_all_trajs\": 0.558333333333336}, {\"on_runway_time\": \"2019-11-15T20:04:00+00:00\", \"taxi_holding_time_minutes\": 2.0166666666666666, \"avg_delay_30min_all_trajs\": 0.8291666666666693}, {\"on_runway_time\": \"2019-11-15T20:06:03+00:00\", \"taxi_holding_time_minutes\": 4.9, \"avg_delay_30min_all_trajs\": 1.6433333333333355}, {\"on_runway_time\": \"2019-11-15T20:08:50+00:00\", \"taxi_holding_time_minutes\": 1.6333333333333333, \"avg_delay_30min_all_trajs\": 1.6416666666666684}, {\"on_runway_time\": \"2019-11-15T20:11:04+00:00\", \"taxi_holding_time_minutes\": 1.3833333333333333, \"avg_delay_30min_all_trajs\": 1.6047619047619064}, {\"on_runway_time\": \"2019-11-15T20:14:27+00:00\", \"taxi_holding_time_minutes\": 0.0, \"avg_delay_30min_all_trajs\": 1.4041666666666681}, {\"on_runway_time\": \"2019-11-15T20:16:25+00:00\", \"taxi_holding_time_minutes\": 1.0333333333333334, \"avg_delay_30min_all_trajs\": 1.3629629629629643}, {\"on_runway_time\": \"2019-11-15T20:19:02+00:00\", \"taxi_holding_time_minutes\": 2.1333333333333333, \"avg_delay_30min_all_trajs\": 1.440000000000001}, {\"on_runway_time\": \"2019-11-15T20:22:32+00:00\", \"taxi_holding_time_minutes\": 0.0, \"avg_delay_30min_all_trajs\": 1.440000000000001}, {\"on_runway_time\": \"2019-11-15T20:24:51+00:00\", \"taxi_holding_time_minutes\": 0.0, \"avg_delay_30min_all_trajs\": 1.3090909090909102}, {\"on_runway_time\": \"2019-11-15T20:26:15+00:00\", \"taxi_holding_time_minutes\": 0.0, \"avg_delay_30min_all_trajs\": 1.2000000000000008}, {\"on_runway_time\": \"2019-11-15T20:34:31+00:00\", \"taxi_holding_time_minutes\": 0.0, \"avg_delay_30min_all_trajs\": 1.1083333333333345}, {\"on_runway_time\": \"2019-11-15T20:38:00+00:00\", \"taxi_holding_time_minutes\": 1.5333333333333334, \"avg_delay_30min_all_trajs\": 0.7716666666666677}, {\"on_runway_time\": \"2019-11-15T20:43:53+00:00\", \"taxi_holding_time_minutes\": 3.216666666666667, \"avg_delay_30min_all_trajs\": 0.8796296296296309}, {\"on_runway_time\": \"2019-11-15T20:45:05+00:00\", \"taxi_holding_time_minutes\": 7.016666666666667, \"avg_delay_30min_all_trajs\": 1.6592592592592605}, {\"on_runway_time\": \"2019-11-15T20:52:50+00:00\", \"taxi_holding_time_minutes\": 2.6333333333333333, \"avg_delay_30min_all_trajs\": 2.0571428571428583}, {\"on_runway_time\": \"2019-11-15T21:17:03+00:00\", \"taxi_holding_time_minutes\": 0.0, \"avg_delay_30min_all_trajs\": 1.316666666666672}, {\"on_runway_time\": \"2019-11-15T21:29:36+00:00\", \"taxi_holding_time_minutes\": 0.0, \"avg_delay_30min_all_trajs\": 5.329070518200751e-15}, {\"on_runway_time\": \"2019-11-15T21:48:13+00:00\", \"taxi_holding_time_minutes\": 3.2666666666666666, \"avg_delay_30min_all_trajs\": 1.6333333333333386}, {\"on_runway_time\": \"2019-11-15T21:52:21+00:00\", \"taxi_holding_time_minutes\": 0.0, \"avg_delay_30min_all_trajs\": 1.0888888888888923}, {\"on_runway_time\": \"2019-11-15T21:54:37+00:00\", \"taxi_holding_time_minutes\": 1.2166666666666666, \"avg_delay_30min_all_trajs\": 1.120833333333336}, {\"on_runway_time\": \"2019-11-15T22:04:53+00:00\", \"taxi_holding_time_minutes\": 0.0, \"avg_delay_30min_all_trajs\": 1.120833333333336}, {\"on_runway_time\": \"2019-11-15T22:09:27+00:00\", \"taxi_holding_time_minutes\": 1.1166666666666667, \"avg_delay_30min_all_trajs\": 1.120000000000002}, {\"on_runway_time\": \"2019-11-15T22:41:54+00:00\", \"taxi_holding_time_minutes\": 0.0, \"avg_delay_30min_all_trajs\": 1.0658141036401503e-14}]}}, {\"mode\": \"vega-lite\"});\n",
       "</script>"
      ],
      "text/plain": [
       "alt.LayerChart(...)"
      ]
     },
     "execution_count": 255,
     "metadata": {},
     "output_type": "execute_result"
    }
   ],
   "source": [
    "nday = 15\n",
    "nmonth = 11\n",
    "\n",
    "datachart = dep_arr_df.query(\n",
    "    f\"parking_position==parking_position & mvt_type=='DEP' & on_runway_time.dt.day=={nday} & on_runway_time.dt.month=={nmonth}\"\n",
    ")[[\"on_runway_time\", \"taxi_holding_time_minutes\", \"avg_delay_30min\"]].assign(\n",
    "    linelabel=\"Additional TXOT\",\n",
    "    barlabel=\"Additional TXOT averaged by 30min rolling window\",\n",
    ")\n",
    "taxidelay_chart = (\n",
    "    alt.Chart(datachart)\n",
    "    .mark_circle(opacity=0.9, size=50, color=\"yellow\")\n",
    "    .encode(\n",
    "        alt.X(\"on_runway_time\", title=\"Time of day\"),\n",
    "        alt.Y(\"taxi_holding_time_minutes\", title=\"Additional TXOT\"),\n",
    "        # color=\"barlabel\",\n",
    "    )\n",
    ")\n",
    "avgdelay_chart = (\n",
    "    alt.Chart(datachart)\n",
    "    .mark_line(color=\"orange\", opacity=1)\n",
    "    .encode(\n",
    "        alt.X(\"on_runway_time\", title=\"Time of day\"),\n",
    "        alt.Y(\"avg_delay_30min\", title=\"Average additional TXOT\"),\n",
    "        # opacity=\"linelabel\",\n",
    "    )\n",
    ")\n",
    "\n",
    "avgdelay_addtxot_sample_day_chart = (\n",
    "    (taxidelay_chart + avgdelay_chart)\n",
    "    .configure_legend(\n",
    "        orient=\"bottom\", labelFontSize=14, titleFontSize=14, labelFont=\"Ubuntu\"\n",
    "    )\n",
    "    .configure_view(stroke=None)\n",
    "    .configure_title(font=\"Fira Sans\", fontSize=18, anchor=\"start\", dy=-10)\n",
    "    .configure_header(\n",
    "        labelFont=\"Ubuntu\",\n",
    "        labelFontSize=18,\n",
    "        labelOrient=\"top\",\n",
    "    )\n",
    ")\n",
    "\n",
    "\n",
    "datachart = dep_arr_df.query(\n",
    "    f\"mvt_type=='DEP'  & on_runway_time.dt.day=={nday} & on_runway_time.dt.month=={nmonth}\"\n",
    ")[[\"on_runway_time\", \"taxi_holding_time_minutes\", \"avg_delay_30min_all_trajs\"]]\n",
    "alltrajsdelay_chart = (\n",
    "    alt.Chart(datachart)\n",
    "    .mark_line(color=\"green\")\n",
    "    .encode(x=\"on_runway_time\", y=\"avg_delay_30min_all_trajs\")\n",
    ")\n",
    "\n",
    "datachart = dep_arr_df.query(\n",
    "    f\"mvt_type=='DEP' & on_runway_time.dt.day=={nday} & on_runway_time.dt.month=={nmonth}\"\n",
    ")[[\"on_runway_time\", \"taxi_holding_time_minutes\", \"avg_delay_30min_all_trajs\"]]\n",
    "taxidelayalltrajs_chart = (\n",
    "    alt.Chart(datachart)\n",
    "    .mark_circle(color=\"green\", opacity=0.2)\n",
    "    .encode(x=\"on_runway_time\", y=\"taxi_holding_time_minutes\")\n",
    ")\n",
    "\n",
    "\n",
    "avgdelay_addtxot_sample_day_chart + alltrajsdelay_chart + taxidelayalltrajs_chart"
   ]
  },
  {
   "cell_type": "code",
   "execution_count": 299,
   "id": "5e75d685-a238-4756-8855-e74a735ffc74",
   "metadata": {
    "execution": {
     "iopub.execute_input": "2021-07-26T08:37:25.926357Z",
     "iopub.status.busy": "2021-07-26T08:37:25.925909Z",
     "iopub.status.idle": "2021-07-26T08:37:25.933118Z",
     "shell.execute_reply": "2021-07-26T08:37:25.932422Z",
     "shell.execute_reply.started": "2021-07-26T08:37:25.926331Z"
    },
    "tags": []
   },
   "outputs": [],
   "source": [
    "feature_columns = main_feature_sets[\"sfs_forward_20\"]\n",
    "target_column = \"avg_delay_in30min\""
   ]
  },
  {
   "cell_type": "code",
   "execution_count": 305,
   "id": "b679c4ec-369b-46cb-ade0-20fc35f57653",
   "metadata": {
    "execution": {
     "iopub.execute_input": "2021-07-26T08:39:13.999547Z",
     "iopub.status.busy": "2021-07-26T08:39:13.998729Z",
     "iopub.status.idle": "2021-07-26T08:39:14.043847Z",
     "shell.execute_reply": "2021-07-26T08:39:14.042685Z",
     "shell.execute_reply.started": "2021-07-26T08:39:13.999519Z"
    },
    "tags": []
   },
   "outputs": [],
   "source": [
    "flight_df = dep_arr_df.query(\n",
    "    \"parking_position==parking_position & mvt_type=='DEP' & first_movement_start.dt.day==20 & first_movement_start.dt.month==10\"\n",
    ")\n",
    "data_df = flight_df[feature_columns + [target_column, \"on_runway_time\"]]\n",
    "\n",
    "data_df = data_df.sort_values(\"on_runway_time\").fillna(method=\"backfill\").dropna()\n",
    "times = data_df[\"on_runway_time\"]\n",
    "data_df = data_df.drop([\"on_runway_time\"], axis=1)\n",
    "input_df = data_df[feature_columns]\n",
    "target_df = data_df[[target_column]]\n",
    "\n",
    "predicted = clf.predict(input_df)"
   ]
  },
  {
   "cell_type": "code",
   "execution_count": 306,
   "id": "4950f268-796b-4cf7-a7bd-6e13482618fe",
   "metadata": {
    "execution": {
     "iopub.execute_input": "2021-07-26T08:39:14.812277Z",
     "iopub.status.busy": "2021-07-26T08:39:14.812001Z",
     "iopub.status.idle": "2021-07-26T08:39:14.821300Z",
     "shell.execute_reply": "2021-07-26T08:39:14.820794Z",
     "shell.execute_reply.started": "2021-07-26T08:39:14.812253Z"
    },
    "tags": []
   },
   "outputs": [],
   "source": [
    "daily_compare_res_df = pd.DataFrame(\n",
    "    {\n",
    "        \"times\": times,\n",
    "        \"truth\": target_df.values.reshape((-1,)),\n",
    "        \"predicted\": predicted.reshape((-1,)),\n",
    "    }\n",
    ")"
   ]
  },
  {
   "cell_type": "code",
   "execution_count": 307,
   "id": "6dec5dfa-aece-4305-b58f-bb3e51b683fd",
   "metadata": {
    "execution": {
     "iopub.execute_input": "2021-07-26T08:39:15.354458Z",
     "iopub.status.busy": "2021-07-26T08:39:15.354002Z",
     "iopub.status.idle": "2021-07-26T08:39:15.388718Z",
     "shell.execute_reply": "2021-07-26T08:39:15.388008Z",
     "shell.execute_reply.started": "2021-07-26T08:39:15.354432Z"
    },
    "tags": []
   },
   "outputs": [
    {
     "data": {
      "text/html": [
       "\n",
       "<div id=\"altair-viz-c3ef0b48cf0647d29f5d64b62526ef87\"></div>\n",
       "<script type=\"text/javascript\">\n",
       "  (function(spec, embedOpt){\n",
       "    let outputDiv = document.currentScript.previousElementSibling;\n",
       "    if (outputDiv.id !== \"altair-viz-c3ef0b48cf0647d29f5d64b62526ef87\") {\n",
       "      outputDiv = document.getElementById(\"altair-viz-c3ef0b48cf0647d29f5d64b62526ef87\");\n",
       "    }\n",
       "    const paths = {\n",
       "      \"vega\": \"https://cdn.jsdelivr.net/npm//vega@5?noext\",\n",
       "      \"vega-lib\": \"https://cdn.jsdelivr.net/npm//vega-lib?noext\",\n",
       "      \"vega-lite\": \"https://cdn.jsdelivr.net/npm//vega-lite@4.8.1?noext\",\n",
       "      \"vega-embed\": \"https://cdn.jsdelivr.net/npm//vega-embed@6?noext\",\n",
       "    };\n",
       "\n",
       "    function loadScript(lib) {\n",
       "      return new Promise(function(resolve, reject) {\n",
       "        var s = document.createElement('script');\n",
       "        s.src = paths[lib];\n",
       "        s.async = true;\n",
       "        s.onload = () => resolve(paths[lib]);\n",
       "        s.onerror = () => reject(`Error loading script: ${paths[lib]}`);\n",
       "        document.getElementsByTagName(\"head\")[0].appendChild(s);\n",
       "      });\n",
       "    }\n",
       "\n",
       "    function showError(err) {\n",
       "      outputDiv.innerHTML = `<div class=\"error\" style=\"color:red;\">${err}</div>`;\n",
       "      throw err;\n",
       "    }\n",
       "\n",
       "    function displayChart(vegaEmbed) {\n",
       "      vegaEmbed(outputDiv, spec, embedOpt)\n",
       "        .catch(err => showError(`Javascript Error: ${err.message}<br>This usually means there's a typo in your chart specification. See the javascript console for the full traceback.`));\n",
       "    }\n",
       "\n",
       "    if(typeof define === \"function\" && define.amd) {\n",
       "      requirejs.config({paths});\n",
       "      require([\"vega-embed\"], displayChart, err => showError(`Error loading script: ${err.message}`));\n",
       "    } else if (typeof vegaEmbed === \"function\") {\n",
       "      displayChart(vegaEmbed);\n",
       "    } else {\n",
       "      loadScript(\"vega\")\n",
       "        .then(() => loadScript(\"vega-lite\"))\n",
       "        .then(() => loadScript(\"vega-embed\"))\n",
       "        .catch(showError)\n",
       "        .then(() => displayChart(vegaEmbed));\n",
       "    }\n",
       "  })({\"config\": {\"view\": {\"continuousWidth\": 400, \"continuousHeight\": 300}}, \"layer\": [{\"mark\": {\"type\": \"line\", \"color\": \"red\"}, \"encoding\": {\"x\": {\"type\": \"temporal\", \"field\": \"times\"}, \"y\": {\"type\": \"quantitative\", \"field\": \"truth\"}}}, {\"mark\": {\"type\": \"line\", \"color\": \"blue\"}, \"encoding\": {\"x\": {\"type\": \"temporal\", \"field\": \"times\"}, \"y\": {\"type\": \"quantitative\", \"field\": \"predicted\"}}}], \"data\": {\"name\": \"data-3a3d9241cee4e2aaa2ad28b0043f52c4\"}, \"$schema\": \"https://vega.github.io/schema/vega-lite/v4.8.1.json\", \"datasets\": {\"data-3a3d9241cee4e2aaa2ad28b0043f52c4\": [{\"times\": \"2019-10-20T05:07:08+00:00\", \"truth\": 6.136111111111112, \"predicted\": 2.6914345598587426}, {\"times\": \"2019-10-20T05:24:29+00:00\", \"truth\": 5.15625, \"predicted\": 4.016227016277561}, {\"times\": \"2019-10-20T05:27:28+00:00\", \"truth\": 5.15625, \"predicted\": 3.903871328911757}, {\"times\": \"2019-10-20T05:35:45+00:00\", \"truth\": 5.15625, \"predicted\": 3.9083848092594695}, {\"times\": \"2019-10-20T05:37:46+00:00\", \"truth\": 5.15625, \"predicted\": 3.903871328911757}, {\"times\": \"2019-10-20T05:42:23+00:00\", \"truth\": 5.15625, \"predicted\": 3.887339350245571}, {\"times\": \"2019-10-20T05:46:25+00:00\", \"truth\": 5.054761904761905, \"predicted\": 3.887339350245571}, {\"times\": \"2019-10-20T05:48:33+00:00\", \"truth\": 5.054761904761905, \"predicted\": 3.887339350245571}, {\"times\": \"2019-10-20T05:56:23+00:00\", \"truth\": 2.880555555555556, \"predicted\": 3.7064390786060954}, {\"times\": \"2019-10-20T05:59:42+00:00\", \"truth\": 2.880555555555556, \"predicted\": 3.7064390786060954}, {\"times\": \"2019-10-20T06:04:14+00:00\", \"truth\": 2.880555555555556, \"predicted\": 3.7064390786060954}, {\"times\": \"2019-10-20T06:08:56+00:00\", \"truth\": 1.7763568394002505e-15, \"predicted\": 3.7064390786060954}, {\"times\": \"2019-10-20T06:13:40+00:00\", \"truth\": 1.7763568394002505e-15, \"predicted\": 3.4553546445322056}, {\"times\": \"2019-10-20T06:25:17+00:00\", \"truth\": 1.7763568394002505e-15, \"predicted\": 3.4553546445322056}, {\"times\": \"2019-10-20T06:44:30+00:00\", \"truth\": 1.9700000000000006, \"predicted\": 3.322240344590243}, {\"times\": \"2019-10-20T06:55:56+00:00\", \"truth\": 1.8055555555555565, \"predicted\": 3.220617711576765}, {\"times\": \"2019-10-20T07:00:38+00:00\", \"truth\": 1.8055555555555565, \"predicted\": 3.220617711576765}, {\"times\": \"2019-10-20T07:06:54+00:00\", \"truth\": 4.016666666666668, \"predicted\": 3.322240344590243}, {\"times\": \"2019-10-20T07:08:22+00:00\", \"truth\": 1.8055555555555565, \"predicted\": 3.534258916463895}, {\"times\": \"2019-10-20T07:32:12+00:00\", \"truth\": 5.151851851851853, \"predicted\": 3.213959766540547}, {\"times\": \"2019-10-20T07:39:16+00:00\", \"truth\": 4.85952380952381, \"predicted\": 3.5831399345895574}, {\"times\": \"2019-10-20T07:44:59+00:00\", \"truth\": 9.081481481481482, \"predicted\": 4.413699028141395}, {\"times\": \"2019-10-20T07:49:45+00:00\", \"truth\": 9.081481481481482, \"predicted\": 4.413699028141395}, {\"times\": \"2019-10-20T07:52:04+00:00\", \"truth\": 9.081481481481482, \"predicted\": 4.291914591401337}, {\"times\": \"2019-10-20T07:55:09+00:00\", \"truth\": 9.081481481481482, \"predicted\": 4.291914591401337}, {\"times\": \"2019-10-20T07:58:09+00:00\", \"truth\": 9.081481481481482, \"predicted\": 4.291914591401337}, {\"times\": \"2019-10-20T08:07:21+00:00\", \"truth\": 9.081481481481482, \"predicted\": 4.291914591401337}, {\"times\": \"2019-10-20T08:10:24+00:00\", \"truth\": 9.081481481481482, \"predicted\": 4.291914591401337}, {\"times\": \"2019-10-20T08:10:54+00:00\", \"truth\": 1.8666666666666685, \"predicted\": 4.031691050730788}, {\"times\": \"2019-10-20T08:14:35+00:00\", \"truth\": 1.8666666666666685, \"predicted\": 4.673427277490416}, {\"times\": \"2019-10-20T08:18:41+00:00\", \"truth\": 1.8666666666666685, \"predicted\": 4.031691050730788}, {\"times\": \"2019-10-20T08:23:39+00:00\", \"truth\": 1.8666666666666685, \"predicted\": 4.031691050730788}, {\"times\": \"2019-10-20T08:25:24+00:00\", \"truth\": 1.8666666666666685, \"predicted\": 4.031691050730788}, {\"times\": \"2019-10-20T08:27:00+00:00\", \"truth\": 1.8666666666666685, \"predicted\": 4.031691050730788}, {\"times\": \"2019-10-20T08:56:42+00:00\", \"truth\": 2.4416666666666673, \"predicted\": 3.7968593271003708}, {\"times\": \"2019-10-20T09:00:52+00:00\", \"truth\": 2.4416666666666673, \"predicted\": 3.7968593271003708}, {\"times\": \"2019-10-20T09:14:54+00:00\", \"truth\": 1.7500000000000009, \"predicted\": 3.71024309677125}, {\"times\": \"2019-10-20T09:19:25+00:00\", \"truth\": 2.330555555555556, \"predicted\": 3.791213431996969}, {\"times\": \"2019-10-20T09:32:33+00:00\", \"truth\": 7.605555555555556, \"predicted\": 3.582530978448175}, {\"times\": \"2019-10-20T09:41:56+00:00\", \"truth\": 3.525000000000001, \"predicted\": 5.422573915050869}, {\"times\": \"2019-10-20T09:42:27+00:00\", \"truth\": 7.605555555555556, \"predicted\": 4.070291837749348}, {\"times\": \"2019-10-20T09:44:41+00:00\", \"truth\": 6.585416666666667, \"predicted\": 5.422573915050869}, {\"times\": \"2019-10-20T10:03:09+00:00\", \"truth\": 6.585416666666667, \"predicted\": 5.422573915050869}, {\"times\": \"2019-10-20T10:05:07+00:00\", \"truth\": 6.895833333333334, \"predicted\": 4.101315233905861}, {\"times\": \"2019-10-20T10:07:04+00:00\", \"truth\": 6.67, \"predicted\": 5.422573915050869}, {\"times\": \"2019-10-20T10:09:17+00:00\", \"truth\": 6.895833333333334, \"predicted\": 4.101315233905861}, {\"times\": \"2019-10-20T10:13:20+00:00\", \"truth\": 6.895833333333334, \"predicted\": 4.101315233905861}, {\"times\": \"2019-10-20T10:14:07+00:00\", \"truth\": 5.785416666666668, \"predicted\": 5.422573915050869}, {\"times\": \"2019-10-20T10:18:13+00:00\", \"truth\": 6.67, \"predicted\": 5.422573915050869}, {\"times\": \"2019-10-20T10:19:44+00:00\", \"truth\": 6.67, \"predicted\": 4.045716500864827}, {\"times\": \"2019-10-20T10:19:57+00:00\", \"truth\": 6.67, \"predicted\": 5.422573915050869}, {\"times\": \"2019-10-20T10:20:40+00:00\", \"truth\": 4.557142857142859, \"predicted\": 4.045716500864827}, {\"times\": \"2019-10-20T10:31:56+00:00\", \"truth\": 6.705555555555557, \"predicted\": 4.045716500864827}, {\"times\": \"2019-10-20T10:35:38+00:00\", \"truth\": 6.705555555555557, \"predicted\": 4.045716500864827}, {\"times\": \"2019-10-20T10:43:28+00:00\", \"truth\": 6.705555555555557, \"predicted\": 3.9149107627551714}, {\"times\": \"2019-10-20T10:47:44+00:00\", \"truth\": 6.705555555555557, \"predicted\": 3.9149107627551714}, {\"times\": \"2019-10-20T10:49:56+00:00\", \"truth\": 6.292857142857144, \"predicted\": 4.066527835262996}, {\"times\": \"2019-10-20T10:52:15+00:00\", \"truth\": 7.208333333333335, \"predicted\": 4.234369789631767}, {\"times\": \"2019-10-20T10:57:11+00:00\", \"truth\": 6.292857142857144, \"predicted\": 4.1433376026490905}, {\"times\": \"2019-10-20T11:00:52+00:00\", \"truth\": 7.892857142857144, \"predicted\": 4.234369789631767}, {\"times\": \"2019-10-20T11:12:47+00:00\", \"truth\": 7.823809523809524, \"predicted\": 5.34750185970844}, {\"times\": \"2019-10-20T11:14:02+00:00\", \"truth\": 7.823809523809524, \"predicted\": 5.34750185970844}, {\"times\": \"2019-10-20T11:21:11+00:00\", \"truth\": 7.823809523809524, \"predicted\": 4.619030770952186}, {\"times\": \"2019-10-20T11:22:45+00:00\", \"truth\": 7.823809523809524, \"predicted\": 5.419579915698043}, {\"times\": \"2019-10-20T11:25:27+00:00\", \"truth\": 7.823809523809524, \"predicted\": 4.029897004876287}, {\"times\": \"2019-10-20T11:34:23+00:00\", \"truth\": 6.723809523809524, \"predicted\": 4.161989464539553}, {\"times\": \"2019-10-20T11:41:43+00:00\", \"truth\": 6.723809523809524, \"predicted\": 4.359725493150742}, {\"times\": \"2019-10-20T11:45:55+00:00\", \"truth\": 6.723809523809524, \"predicted\": 5.973827602752664}, {\"times\": \"2019-10-20T11:46:52+00:00\", \"truth\": 6.723809523809524, \"predicted\": 6.269727845539046}, {\"times\": \"2019-10-20T11:52:57+00:00\", \"truth\": 1.3000000000000071, \"predicted\": 6.269727845539046}, {\"times\": \"2019-10-20T11:58:38+00:00\", \"truth\": 1.3000000000000071, \"predicted\": 6.269727845539046}, {\"times\": \"2019-10-20T12:02:58+00:00\", \"truth\": 1.3000000000000071, \"predicted\": 6.269727845539046}, {\"times\": \"2019-10-20T12:46:29+00:00\", \"truth\": 1.255555555555558, \"predicted\": 3.3960353049486978}, {\"times\": \"2019-10-20T12:50:11+00:00\", \"truth\": 1.9000000000000024, \"predicted\": 2.7813440002091427}, {\"times\": \"2019-10-20T13:04:37+00:00\", \"truth\": 1.4250000000000018, \"predicted\": 2.8713143353520274}, {\"times\": \"2019-10-20T13:26:42+00:00\", \"truth\": 4.991666666666669, \"predicted\": 2.811005670122348}, {\"times\": \"2019-10-20T13:28:14+00:00\", \"truth\": 4.991666666666669, \"predicted\": 3.051013492518206}, {\"times\": \"2019-10-20T13:32:47+00:00\", \"truth\": 4.991666666666669, \"predicted\": 3.051013492518206}, {\"times\": \"2019-10-20T13:58:12+00:00\", \"truth\": 2.920833333333335, \"predicted\": 2.3271922326450127}, {\"times\": \"2019-10-20T14:17:25+00:00\", \"truth\": 4.943333333333335, \"predicted\": 2.354818529664204}, {\"times\": \"2019-10-20T14:19:33+00:00\", \"truth\": 4.103333333333334, \"predicted\": 1.9017158067637885}, {\"times\": \"2019-10-20T14:24:10+00:00\", \"truth\": 4.103333333333334, \"predicted\": 2.354818529664204}, {\"times\": \"2019-10-20T14:29:48+00:00\", \"truth\": 3.4194444444444456, \"predicted\": 2.354818529664204}, {\"times\": \"2019-10-20T14:39:11+00:00\", \"truth\": 4.103333333333334, \"predicted\": 2.803537641353489}, {\"times\": \"2019-10-20T14:49:15+00:00\", \"truth\": 4.103333333333334, \"predicted\": 2.803537641353489}, {\"times\": \"2019-10-20T14:57:01+00:00\", \"truth\": 1.3690476190476202, \"predicted\": 3.3169424343170992}, {\"times\": \"2019-10-20T15:01:18+00:00\", \"truth\": 1.835714285714287, \"predicted\": 3.1961062703424803}, {\"times\": \"2019-10-20T15:03:24+00:00\", \"truth\": 3.0194444444444457, \"predicted\": 3.3169424343170992}, {\"times\": \"2019-10-20T15:06:21+00:00\", \"truth\": 3.0194444444444457, \"predicted\": 4.089281039534397}, {\"times\": \"2019-10-20T15:14:16+00:00\", \"truth\": 3.0194444444444457, \"predicted\": 4.089281039534397}, {\"times\": \"2019-10-20T15:14:53+00:00\", \"truth\": 3.1666666666666683, \"predicted\": 2.1128171528155337}, {\"times\": \"2019-10-20T15:28:00+00:00\", \"truth\": 6.033333333333336, \"predicted\": 2.1128171528155337}, {\"times\": \"2019-10-20T15:29:39+00:00\", \"truth\": 5.070833333333335, \"predicted\": 2.1128171528155337}, {\"times\": \"2019-10-20T15:31:23+00:00\", \"truth\": 5.070833333333335, \"predicted\": 2.1128171528155337}, {\"times\": \"2019-10-20T15:39:37+00:00\", \"truth\": 5.070833333333335, \"predicted\": 4.20099886346077}, {\"times\": \"2019-10-20T15:49:16+00:00\", \"truth\": 5.4700000000000015, \"predicted\": 3.9093583210509495}, {\"times\": \"2019-10-20T16:04:11+00:00\", \"truth\": 5.4700000000000015, \"predicted\": 3.9093583210509495}, {\"times\": \"2019-10-20T16:12:23+00:00\", \"truth\": 7.902380952380954, \"predicted\": 3.641696131344398}, {\"times\": \"2019-10-20T16:15:01+00:00\", \"truth\": 7.902380952380954, \"predicted\": 3.641696131344398}, {\"times\": \"2019-10-20T16:16:45+00:00\", \"truth\": 7.833333333333334, \"predicted\": 3.8944259697773034}, {\"times\": \"2019-10-20T16:25:06+00:00\", \"truth\": 2.6472222222222235, \"predicted\": 3.8944259697773034}, {\"times\": \"2019-10-20T16:27:41+00:00\", \"truth\": 2.6472222222222235, \"predicted\": 3.8944259697773034}, {\"times\": \"2019-10-20T16:35:31+00:00\", \"truth\": 7.833333333333334, \"predicted\": 3.8944259697773034}, {\"times\": \"2019-10-20T16:38:48+00:00\", \"truth\": 4.350000000000001, \"predicted\": 3.8976413728880206}, {\"times\": \"2019-10-20T16:47:39+00:00\", \"truth\": 3.0233333333333348, \"predicted\": 4.794858974283794}, {\"times\": \"2019-10-20T16:53:29+00:00\", \"truth\": 3.0233333333333348, \"predicted\": 3.9927795037060103}, {\"times\": \"2019-10-20T17:02:45+00:00\", \"truth\": 3.0233333333333348, \"predicted\": 3.2275524450377135}, {\"times\": \"2019-10-20T17:03:46+00:00\", \"truth\": 3.696666666666668, \"predicted\": 3.2275524450377135}, {\"times\": \"2019-10-20T17:09:26+00:00\", \"truth\": 1.3033333333333348, \"predicted\": 2.904344049513188}, {\"times\": \"2019-10-20T17:11:47+00:00\", \"truth\": 1.3033333333333348, \"predicted\": 2.904344049513188}, {\"times\": \"2019-10-20T17:25:25+00:00\", \"truth\": 1.6250000000000018, \"predicted\": 2.9073846338268154}, {\"times\": \"2019-10-20T17:33:36+00:00\", \"truth\": 1.6250000000000018, \"predicted\": 2.4311578783455197}, {\"times\": \"2019-10-20T17:36:43+00:00\", \"truth\": 1.6250000000000018, \"predicted\": 3.746478547199052}, {\"times\": \"2019-10-20T17:47:03+00:00\", \"truth\": 1.4666666666666688, \"predicted\": 3.981348750405238}, {\"times\": \"2019-10-20T18:08:45+00:00\", \"truth\": 0.8583333333333351, \"predicted\": 3.1553355356828674}, {\"times\": \"2019-10-20T18:21:27+00:00\", \"truth\": 0.8583333333333351, \"predicted\": 4.220038505034297}, {\"times\": \"2019-10-20T18:26:17+00:00\", \"truth\": 0.8583333333333351, \"predicted\": 3.707804820976155}, {\"times\": \"2019-10-20T18:30:02+00:00\", \"truth\": 1.7000000000000022, \"predicted\": 3.5266556307586785}, {\"times\": \"2019-10-20T18:43:12+00:00\", \"truth\": 2.141666666666668, \"predicted\": 3.1148317466119204}, {\"times\": \"2019-10-20T18:56:31+00:00\", \"truth\": 2.8263888888888893, \"predicted\": 2.4790908248282446}, {\"times\": \"2019-10-20T19:00:02+00:00\", \"truth\": 2.1388888888888897, \"predicted\": 2.6228957475127412}, {\"times\": \"2019-10-20T19:06:57+00:00\", \"truth\": 2.8263888888888893, \"predicted\": 2.600123129739109}, {\"times\": \"2019-10-20T19:09:58+00:00\", \"truth\": 3.6466666666666674, \"predicted\": 3.1838362982158963}, {\"times\": \"2019-10-20T19:11:43+00:00\", \"truth\": 3.6466666666666674, \"predicted\": 3.1838362982158963}, {\"times\": \"2019-10-20T19:13:36+00:00\", \"truth\": 3.6466666666666674, \"predicted\": 3.103163204491658}, {\"times\": \"2019-10-20T19:14:45+00:00\", \"truth\": 3.6466666666666674, \"predicted\": 3.103163204491658}, {\"times\": \"2019-10-20T19:17:18+00:00\", \"truth\": 3.393750000000001, \"predicted\": 3.103163204491658}, {\"times\": \"2019-10-20T19:20:15+00:00\", \"truth\": 3.393750000000001, \"predicted\": 3.2176881582868906}, {\"times\": \"2019-10-20T19:22:50+00:00\", \"truth\": 3.2416666666666676, \"predicted\": 3.103163204491658}, {\"times\": \"2019-10-20T19:24:40+00:00\", \"truth\": 3.2416666666666676, \"predicted\": 3.1301153479500514}, {\"times\": \"2019-10-20T19:25:59+00:00\", \"truth\": 3.2416666666666676, \"predicted\": 3.103163204491658}, {\"times\": \"2019-10-20T19:28:34+00:00\", \"truth\": 3.2416666666666676, \"predicted\": 3.2176881582868906}, {\"times\": \"2019-10-20T19:34:26+00:00\", \"truth\": 3.100000000000001, \"predicted\": 3.1301153479500514}, {\"times\": \"2019-10-20T19:42:04+00:00\", \"truth\": 1.7611111111111135, \"predicted\": 2.413607730888438}, {\"times\": \"2019-10-20T19:48:28+00:00\", \"truth\": 1.7611111111111135, \"predicted\": 2.2051022423117583}, {\"times\": \"2019-10-20T19:52:10+00:00\", \"truth\": 1.7611111111111135, \"predicted\": 2.4292471744973767}, {\"times\": \"2019-10-20T19:53:59+00:00\", \"truth\": 1.7611111111111135, \"predicted\": 2.2051022423117583}, {\"times\": \"2019-10-20T19:57:56+00:00\", \"truth\": 1.7611111111111135, \"predicted\": 3.198387671638535}, {\"times\": \"2019-10-20T19:59:20+00:00\", \"truth\": 1.7611111111111135, \"predicted\": 2.570530289379909}, {\"times\": \"2019-10-20T20:06:58+00:00\", \"truth\": 1.7611111111111135, \"predicted\": 3.198387671638535}, {\"times\": \"2019-10-20T20:33:33+00:00\", \"truth\": 2.0571428571428583, \"predicted\": 1.568749717807314}, {\"times\": \"2019-10-20T20:35:43+00:00\", \"truth\": 2.3595238095238105, \"predicted\": 2.8673593117724803}, {\"times\": \"2019-10-20T20:39:16+00:00\", \"truth\": 2.0571428571428583, \"predicted\": 1.531090533212833}, {\"times\": \"2019-10-20T20:50:13+00:00\", \"truth\": 2.3595238095238105, \"predicted\": 2.873577923015238}, {\"times\": \"2019-10-20T20:53:45+00:00\", \"truth\": 2.3595238095238105, \"predicted\": 2.873577923015238}, {\"times\": \"2019-10-20T20:58:30+00:00\", \"truth\": 2.3595238095238105, \"predicted\": 2.8390692969553863}, {\"times\": \"2019-10-20T21:01:32+00:00\", \"truth\": 2.3595238095238105, \"predicted\": 2.41885020035436}, {\"times\": \"2019-10-20T21:03:50+00:00\", \"truth\": 2.3595238095238105, \"predicted\": 2.41885020035436}, {\"times\": \"2019-10-20T21:05:52+00:00\", \"truth\": 2.3595238095238105, \"predicted\": 2.41885020035436}, {\"times\": \"2019-10-20T21:09:53+00:00\", \"truth\": 2.3595238095238105, \"predicted\": 2.8637543306097015}]}}, {\"mode\": \"vega-lite\"});\n",
       "</script>"
      ],
      "text/plain": [
       "alt.LayerChart(...)"
      ]
     },
     "execution_count": 307,
     "metadata": {},
     "output_type": "execute_result"
    }
   ],
   "source": [
    "truth_chart = (\n",
    "    alt.Chart(daily_compare_res_df)\n",
    "    .mark_line(color=\"red\")\n",
    "    .encode(x=\"times:T\", y=\"truth\")\n",
    ")\n",
    "predicted_chart = (\n",
    "    alt.Chart(daily_compare_res_df)\n",
    "    .mark_line(color=\"blue\")\n",
    "    .encode(x=\"times:T\", y=\"predicted\")\n",
    ")\n",
    "truth_chart + predicted_chart"
   ]
  },
  {
   "cell_type": "code",
   "execution_count": null,
   "id": "af64f0b5-c5e3-4f47-82c1-5cf307e1097e",
   "metadata": {},
   "outputs": [],
   "source": []
  },
  {
   "cell_type": "markdown",
   "id": "8e8f12f4-91ea-4b72-b7b7-20cd7505b7bd",
   "metadata": {},
   "source": [
    "### SFS backward 20 features 60min prded"
   ]
  },
  {
   "cell_type": "code",
   "execution_count": 137,
   "id": "c214f06e-7457-4c5e-abc2-b66d46df0cfb",
   "metadata": {
    "execution": {
     "iopub.execute_input": "2021-07-23T10:05:20.052739Z",
     "iopub.status.busy": "2021-07-23T10:05:20.052440Z",
     "iopub.status.idle": "2021-07-23T11:01:09.243900Z",
     "shell.execute_reply": "2021-07-23T11:01:09.242728Z",
     "shell.execute_reply.started": "2021-07-23T10:05:20.052717Z"
    },
    "tags": []
   },
   "outputs": [
    {
     "name": "stdout",
     "output_type": "stream",
     "text": [
      "CPU times: user 11 s, sys: 3.1 s, total: 14.1 s\n",
      "Wall time: 55min 49s\n"
     ]
    }
   ],
   "source": [
    "%%time\n",
    "len(main_feature_sets[\"avg_delay_pred\"])\n",
    "\n",
    "feature_columns = main_feature_sets[\"avg_delay_pred\"]\n",
    "target_column = \"avg_delay_in60min\"\n",
    "\n",
    "flight_df = dep_arr_df.query(\"parking_position==parking_position & mvt_type=='DEP'\")\n",
    "data_df = flight_df[feature_columns + [target_column, \"first_movement_start\"]]\n",
    "data_df = data_df.sort_values(\"first_movement_start\").fillna(method=\"backfill\").dropna()\n",
    "data_df = data_df.drop([\"first_movement_start\"], axis=1)\n",
    "input_df = data_df[feature_columns]\n",
    "target_df = data_df[[target_column]]\n",
    "\n",
    "data_train, data_test, labels_train, labels_test = train_test_split(\n",
    "    input_df, target_df, test_size=0.20, random_state=42\n",
    ")\n",
    "\n",
    "clf = RandomForestRegressor(n_estimators=150, min_samples_split=10, random_state=42)\n",
    "\n",
    "from sklearn.feature_selection import SequentialFeatureSelector\n",
    "\n",
    "sfs_forward = SequentialFeatureSelector(\n",
    "    clf, n_features_to_select=20, direction=\"backward\", n_jobs=23,\n",
    ").fit(data_train.values, labels_train.values.reshape((-1,)))"
   ]
  },
  {
   "cell_type": "code",
   "execution_count": 138,
   "id": "2ef74157-c015-4722-aac4-0d2c2b363a10",
   "metadata": {
    "execution": {
     "iopub.execute_input": "2021-07-23T11:01:09.247628Z",
     "iopub.status.busy": "2021-07-23T11:01:09.247203Z",
     "iopub.status.idle": "2021-07-23T11:01:09.257399Z",
     "shell.execute_reply": "2021-07-23T11:01:09.256861Z",
     "shell.execute_reply.started": "2021-07-23T11:01:09.247600Z"
    },
    "tags": []
   },
   "outputs": [
    {
     "data": {
      "text/plain": [
       "20"
      ]
     },
     "execution_count": 138,
     "metadata": {},
     "output_type": "execute_result"
    }
   ],
   "source": [
    "mask_col_selected = sfs_forward.get_support()\n",
    "\n",
    "data_train.columns[mask_col_selected].values\n",
    "\n",
    "main_feature_sets[\"sfs_bbackward_20_in60min\"] = list(\n",
    "    data_train.columns[mask_col_selected].values\n",
    ")\n",
    "\n",
    "len(main_feature_sets[\"sfs_bbackward_20_in60min\"])"
   ]
  },
  {
   "cell_type": "code",
   "execution_count": 209,
   "id": "e4bc6f3a-1b4a-4785-b977-ebe842a68b18",
   "metadata": {
    "execution": {
     "iopub.execute_input": "2021-07-24T14:33:00.765798Z",
     "iopub.status.busy": "2021-07-24T14:33:00.764765Z",
     "iopub.status.idle": "2021-07-24T14:33:00.785371Z",
     "shell.execute_reply": "2021-07-24T14:33:00.784893Z",
     "shell.execute_reply.started": "2021-07-24T14:33:00.765748Z"
    },
    "tags": []
   },
   "outputs": [],
   "source": [
    "main_feature_sets[\"sfs_bbackward_20_in60min\"] = [\n",
    "    \"max_turnaround_minutes_last30T\",\n",
    "    \"L/M_count_ratio\",\n",
    "    \"K_occ\",\n",
    "    \"F_occ\",\n",
    "    \"L_occ\",\n",
    "    \"E_occ\",\n",
    "    \"M_occ\",\n",
    "    \"R_occ\",\n",
    "    \"G_occ\",\n",
    "    \"press\",\n",
    "    \"temp\",\n",
    "    \"atmap_wind\",\n",
    "    \"atmap_precipitation\",\n",
    "    \"atmap_freezing\",\n",
    "    \"atmap_score\",\n",
    "    \"nominal\",\n",
    "    \"busy\",\n",
    "    \"disrupted\",\n",
    "    \"config_NORTH0\",\n",
    "    \"config_SOUTH\",\n",
    "]"
   ]
  },
  {
   "cell_type": "code",
   "execution_count": 210,
   "id": "776a3ad1-2301-4ac0-ae34-480de3471f96",
   "metadata": {
    "execution": {
     "iopub.execute_input": "2021-07-24T14:33:12.974900Z",
     "iopub.status.busy": "2021-07-24T14:33:12.974617Z",
     "iopub.status.idle": "2021-07-24T14:33:12.982550Z",
     "shell.execute_reply": "2021-07-24T14:33:12.982076Z",
     "shell.execute_reply.started": "2021-07-24T14:33:12.974876Z"
    }
   },
   "outputs": [
    {
     "data": {
      "text/plain": [
       "20"
      ]
     },
     "execution_count": 210,
     "metadata": {},
     "output_type": "execute_result"
    }
   ],
   "source": [
    "len(main_feature_sets[\"sfs_bbackward_20_in60min\"])"
   ]
  },
  {
   "cell_type": "code",
   "execution_count": 211,
   "id": "746d0bf9-2445-49f6-8d1e-746672c0a6af",
   "metadata": {
    "execution": {
     "iopub.execute_input": "2021-07-24T14:33:17.320520Z",
     "iopub.status.busy": "2021-07-24T14:33:17.319497Z",
     "iopub.status.idle": "2021-07-24T14:33:19.638704Z",
     "shell.execute_reply": "2021-07-24T14:33:19.638247Z",
     "shell.execute_reply.started": "2021-07-24T14:33:17.320470Z"
    },
    "tags": []
   },
   "outputs": [
    {
     "name": "stdout",
     "output_type": "stream",
     "text": [
      "Results for Random Forest on the following features :\n",
      "max_turnaround_minutes_last30T L/M_count_ratio K_occ F_occ L_occ E_occ M_occ R_occ G_occ press temp atmap_wind atmap_precipitation atmap_freezing atmap_score nominal busy disrupted config_NORTH0 config_SOUTH\n",
      "Target var : avg_delay_in60min\n",
      "Selecting the subset with following query : \n",
      "parking_position==parking_position & mvt_type=='DEP'\n",
      "mae=\t1.2102886660948018\n",
      "mse=\t3.055179509643808\n",
      "rmse=\t1.7479071799279868\n",
      "acc1min=54.666666666666664\n",
      "acc3min=92.84210526315789\n",
      "acc5min=98.52631578947368\n",
      "R2=\t0.5097572653229596\n",
      "n_sample training : 5696\n",
      "n_sample test : 1425\n",
      "n_sample_tot=7121\n",
      "\n"
     ]
    },
    {
     "data": {
      "text/html": [
       "\n",
       "<div id=\"altair-viz-7293030dd4124389b8c7f4f7dc180c60\"></div>\n",
       "<script type=\"text/javascript\">\n",
       "  (function(spec, embedOpt){\n",
       "    let outputDiv = document.currentScript.previousElementSibling;\n",
       "    if (outputDiv.id !== \"altair-viz-7293030dd4124389b8c7f4f7dc180c60\") {\n",
       "      outputDiv = document.getElementById(\"altair-viz-7293030dd4124389b8c7f4f7dc180c60\");\n",
       "    }\n",
       "    const paths = {\n",
       "      \"vega\": \"https://cdn.jsdelivr.net/npm//vega@5?noext\",\n",
       "      \"vega-lib\": \"https://cdn.jsdelivr.net/npm//vega-lib?noext\",\n",
       "      \"vega-lite\": \"https://cdn.jsdelivr.net/npm//vega-lite@4.8.1?noext\",\n",
       "      \"vega-embed\": \"https://cdn.jsdelivr.net/npm//vega-embed@6?noext\",\n",
       "    };\n",
       "\n",
       "    function loadScript(lib) {\n",
       "      return new Promise(function(resolve, reject) {\n",
       "        var s = document.createElement('script');\n",
       "        s.src = paths[lib];\n",
       "        s.async = true;\n",
       "        s.onload = () => resolve(paths[lib]);\n",
       "        s.onerror = () => reject(`Error loading script: ${paths[lib]}`);\n",
       "        document.getElementsByTagName(\"head\")[0].appendChild(s);\n",
       "      });\n",
       "    }\n",
       "\n",
       "    function showError(err) {\n",
       "      outputDiv.innerHTML = `<div class=\"error\" style=\"color:red;\">${err}</div>`;\n",
       "      throw err;\n",
       "    }\n",
       "\n",
       "    function displayChart(vegaEmbed) {\n",
       "      vegaEmbed(outputDiv, spec, embedOpt)\n",
       "        .catch(err => showError(`Javascript Error: ${err.message}<br>This usually means there's a typo in your chart specification. See the javascript console for the full traceback.`));\n",
       "    }\n",
       "\n",
       "    if(typeof define === \"function\" && define.amd) {\n",
       "      requirejs.config({paths});\n",
       "      require([\"vega-embed\"], displayChart, err => showError(`Error loading script: ${err.message}`));\n",
       "    } else if (typeof vegaEmbed === \"function\") {\n",
       "      displayChart(vegaEmbed);\n",
       "    } else {\n",
       "      loadScript(\"vega\")\n",
       "        .then(() => loadScript(\"vega-lite\"))\n",
       "        .then(() => loadScript(\"vega-embed\"))\n",
       "        .catch(showError)\n",
       "        .then(() => displayChart(vegaEmbed));\n",
       "    }\n",
       "  })({\"config\": {\"view\": {\"continuousWidth\": 400, \"continuousHeight\": 300, \"stroke\": null}, \"axis\": {\"labelFont\": \"Ubuntu\", \"labelFontSize\": 15, \"titleFont\": \"Fira Sans\", \"titleFontSize\": 16}, \"header\": {\"labelFont\": \"Ubuntu\", \"labelFontSize\": 18, \"labelOrient\": \"top\"}, \"legend\": {\"labelFont\": \"Ubuntu\", \"labelFontSize\": 14, \"orient\": \"bottom\", \"titleFontSize\": 14}, \"title\": {\"anchor\": \"start\", \"dy\": -10, \"font\": \"Fira Sans\", \"fontSize\": 18}}, \"data\": {\"name\": \"data-92decc58ca8bb524637fa47b8a304d00\"}, \"mark\": \"bar\", \"encoding\": {\"x\": {\"type\": \"quantitative\", \"field\": \"importance\"}, \"y\": {\"type\": \"nominal\", \"field\": \"feature\", \"sort\": \"-x\"}}, \"transform\": [{\"window\": [{\"op\": \"rank\", \"field\": \"importance\", \"as\": \"rank\"}], \"sort\": [{\"field\": \"importance\", \"order\": \"descending\"}]}, {\"filter\": \"(datum.rank < 20)\"}], \"width\": 200, \"$schema\": \"https://vega.github.io/schema/vega-lite/v4.8.1.json\", \"datasets\": {\"data-92decc58ca8bb524637fa47b8a304d00\": [{\"feature\": \"L/M_count_ratio\", \"importance\": 0.002241758275809718}, {\"feature\": \"atmap_wind\", \"importance\": 0.00228516460536679}, {\"feature\": \"L_occ\", \"importance\": 0.0023102370700914814}, {\"feature\": \"atmap_freezing\", \"importance\": 0.0027417811487443332}, {\"feature\": \"R_occ\", \"importance\": 0.0046096995275663015}, {\"feature\": \"M_occ\", \"importance\": 0.008791373270273291}, {\"feature\": \"atmap_precipitation\", \"importance\": 0.01041936908537605}, {\"feature\": \"disrupted\", \"importance\": 0.014778550260191153}, {\"feature\": \"config_SOUTH\", \"importance\": 0.01492068665137141}, {\"feature\": \"atmap_score\", \"importance\": 0.016133408492171483}, {\"feature\": \"config_NORTH0\", \"importance\": 0.01963576401328074}, {\"feature\": \"G_occ\", \"importance\": 0.02256900517271076}, {\"feature\": \"busy\", \"importance\": 0.022715490898633346}, {\"feature\": \"K_occ\", \"importance\": 0.03534973393597302}, {\"feature\": \"E_occ\", \"importance\": 0.04132939012309782}, {\"feature\": \"F_occ\", \"importance\": 0.04350646759387529}, {\"feature\": \"nominal\", \"importance\": 0.12111178445822957}, {\"feature\": \"temp\", \"importance\": 0.16390012608994936}, {\"feature\": \"press\", \"importance\": 0.16434711811041222}, {\"feature\": \"max_turnaround_minutes_last30T\", \"importance\": 0.2863030912168761}]}}, {\"mode\": \"vega-lite\"});\n",
       "</script>"
      ],
      "text/plain": [
       "alt.Chart(...)"
      ]
     },
     "metadata": {},
     "output_type": "display_data"
    },
    {
     "data": {
      "image/png": "[encoded data removed]",
      "text/plain": [
       "<Figure size 468x684 with 1 Axes>"
      ]
     },
     "metadata": {
      "needs_background": "light"
     },
     "output_type": "display_data"
    },
    {
     "data": {
      "text/plain": [
       "<Figure size 360x576 with 0 Axes>"
      ]
     },
     "metadata": {},
     "output_type": "display_data"
    }
   ],
   "source": [
    "base_dir = \"../prediction_results/\"\n",
    "set_name = \"sfs_bbackward_20_in60min\"\n",
    "target_var = \"avg_delay_in60min\"\n",
    "test_name = f\"306_{target_var}_{set_name}/\"\n",
    "dep_arr_df_ = dep_arr_df\n",
    "dep_arr_df_[target_var] = dep_arr_df_[target_var].fillna(method=\"bfill\")\n",
    "\n",
    "\n",
    "res, labels_test, predicted, clf = train_rf(\n",
    "    dep_arr_df_,\n",
    "    main_feature_sets[set_name],\n",
    "    target_var,\n",
    "    query=\"parking_position==parking_position & mvt_type=='DEP'\",\n",
    "    dirname=base_dir + test_name,\n",
    "    dropna=False,\n",
    ")"
   ]
  },
  {
   "cell_type": "markdown",
   "id": "79cafd55-3308-44dd-866d-0f54cbbcdb8d",
   "metadata": {},
   "source": [
    "### SFS backward wrt individuals delays"
   ]
  },
  {
   "cell_type": "code",
   "execution_count": 194,
   "id": "aafe52ca-117d-4238-978f-7dfa0d3bc3e4",
   "metadata": {
    "execution": {
     "iopub.execute_input": "2021-07-23T15:25:03.834086Z",
     "iopub.status.busy": "2021-07-23T15:25:03.833400Z",
     "iopub.status.idle": "2021-07-23T18:11:07.249634Z",
     "shell.execute_reply": "2021-07-23T18:11:07.249072Z",
     "shell.execute_reply.started": "2021-07-23T15:25:03.834060Z"
    },
    "tags": []
   },
   "outputs": [
    {
     "name": "stdout",
     "output_type": "stream",
     "text": [
      "CPU times: user 24.2 s, sys: 6.52 s, total: 30.7 s\n",
      "Wall time: 2h 46min 3s\n"
     ]
    }
   ],
   "source": [
    "%%time\n",
    "feature_columns = main_feature_sets[\"wang_noaqlis\"]\n",
    "target_column = \"taxi_holding_time_minutes\"\n",
    "\n",
    "flight_df = dep_arr_df.query(\"parking_position==parking_position & mvt_type=='DEP'\")\n",
    "data_df = flight_df[feature_columns + [target_column, \"first_movement_start\"]]\n",
    "data_df = data_df.sort_values(\"first_movement_start\").fillna(method=\"backfill\").dropna()\n",
    "data_df = data_df.drop([\"first_movement_start\"], axis=1)\n",
    "input_df = data_df[feature_columns]\n",
    "target_df = data_df[[target_column]]\n",
    "\n",
    "data_train, data_test, labels_train, labels_test = train_test_split(\n",
    "    input_df, target_df, test_size=0.20, random_state=42\n",
    ")\n",
    "\n",
    "clf = RandomForestRegressor(n_estimators=150, min_samples_split=10, random_state=42)\n",
    "\n",
    "from sklearn.feature_selection import SequentialFeatureSelector\n",
    "\n",
    "sfs_forward = SequentialFeatureSelector(\n",
    "    clf, n_features_to_select=20, direction=\"backward\", n_jobs=23,\n",
    ").fit(data_train.values, labels_train.values.reshape((-1,)))"
   ]
  },
  {
   "cell_type": "code",
   "execution_count": 195,
   "id": "27bc3775-abc0-465d-95dc-7df92beafba2",
   "metadata": {
    "execution": {
     "iopub.execute_input": "2021-07-23T18:11:07.251181Z",
     "iopub.status.busy": "2021-07-23T18:11:07.250862Z",
     "iopub.status.idle": "2021-07-23T18:11:07.260550Z",
     "shell.execute_reply": "2021-07-23T18:11:07.260133Z",
     "shell.execute_reply.started": "2021-07-23T18:11:07.251158Z"
    },
    "tags": []
   },
   "outputs": [
    {
     "data": {
      "text/plain": [
       "20"
      ]
     },
     "execution_count": 195,
     "metadata": {},
     "output_type": "execute_result"
    }
   ],
   "source": [
    "mask_col_selected = sfs_forward.get_support()\n",
    "\n",
    "data_train.columns[mask_col_selected].values\n",
    "\n",
    "main_feature_sets[\"sfs_bbackward_20_taxidelays\"] = list(\n",
    "    data_train.columns[mask_col_selected].values\n",
    ")\n",
    "\n",
    "len(main_feature_sets[\"sfs_bbackward_20_taxidelays\"])"
   ]
  },
  {
   "cell_type": "code",
   "execution_count": 212,
   "id": "8e645264-40cd-4bcd-94b0-9cc6315728e8",
   "metadata": {
    "execution": {
     "iopub.execute_input": "2021-07-24T14:41:29.283899Z",
     "iopub.status.busy": "2021-07-24T14:41:29.282752Z",
     "iopub.status.idle": "2021-07-24T14:41:29.298454Z",
     "shell.execute_reply": "2021-07-24T14:41:29.297982Z",
     "shell.execute_reply.started": "2021-07-24T14:41:29.283845Z"
    }
   },
   "outputs": [],
   "source": [
    "main_feature_sets[\"sfs_bbackward_20_taxidelays\"] = [\n",
    "    \"taxi_dist\",\n",
    "    \"angle_sum\",\n",
    "    \"turnaround_minutes\",\n",
    "    \"runway_16\",\n",
    "    \"H_count\",\n",
    "    \"L_count_ratio\",\n",
    "    \"M_count_ratio\",\n",
    "    \"K_occ\",\n",
    "    \"B_occ\",\n",
    "    \"E_occ\",\n",
    "    \"D_occ\",\n",
    "    \"A_occ\",\n",
    "    \"M_occ\",\n",
    "    \"Z_occ\",\n",
    "    \"temp\",\n",
    "    \"nb_arr\",\n",
    "    \"nb_dep\",\n",
    "    \"avg_speed_last30T\",\n",
    "    \"avg_speed_last15T\",\n",
    "    \"config_SOUTH\",\n",
    "]"
   ]
  },
  {
   "cell_type": "code",
   "execution_count": 215,
   "id": "4f1f86fc-3a74-46d3-a038-0018a0e5d12b",
   "metadata": {
    "execution": {
     "iopub.execute_input": "2021-07-24T14:47:24.809842Z",
     "iopub.status.busy": "2021-07-24T14:47:24.809313Z",
     "iopub.status.idle": "2021-07-24T14:47:29.516034Z",
     "shell.execute_reply": "2021-07-24T14:47:29.515578Z",
     "shell.execute_reply.started": "2021-07-24T14:47:24.809798Z"
    },
    "tags": []
   },
   "outputs": [
    {
     "name": "stdout",
     "output_type": "stream",
     "text": [
      "test_name\n",
      "Results for Random Forest on the following features :\n",
      "taxi_dist angle_sum turnaround_minutes runway_16 H_count L_count_ratio M_count_ratio K_occ B_occ E_occ D_occ A_occ M_occ Z_occ temp nb_arr nb_dep avg_speed_last30T avg_speed_last15T config_SOUTH\n",
      "Target var : taxi_holding_time_minutes\n",
      "Selecting the subset with following query : \n",
      "parking_position==parking_position & mvt_type=='DEP'\n",
      "mae=\t2.358712851046525\n",
      "mse=\t10.80580816614052\n",
      "rmse=\t3.2872189105900023\n",
      "acc1min=27.85515320334262\n",
      "acc3min=71.65738161559888\n",
      "acc5min=91.5041782729805\n",
      "R2=\t0.2195751823199672\n",
      "n_sample training : 5740\n",
      "n_sample test : 1436\n",
      "n_sample_tot=7176\n",
      "\n"
     ]
    },
    {
     "data": {
      "text/html": [
       "\n",
       "<div id=\"altair-viz-3388d9b20be840d2b262b2863b2ecfa4\"></div>\n",
       "<script type=\"text/javascript\">\n",
       "  (function(spec, embedOpt){\n",
       "    let outputDiv = document.currentScript.previousElementSibling;\n",
       "    if (outputDiv.id !== \"altair-viz-3388d9b20be840d2b262b2863b2ecfa4\") {\n",
       "      outputDiv = document.getElementById(\"altair-viz-3388d9b20be840d2b262b2863b2ecfa4\");\n",
       "    }\n",
       "    const paths = {\n",
       "      \"vega\": \"https://cdn.jsdelivr.net/npm//vega@5?noext\",\n",
       "      \"vega-lib\": \"https://cdn.jsdelivr.net/npm//vega-lib?noext\",\n",
       "      \"vega-lite\": \"https://cdn.jsdelivr.net/npm//vega-lite@4.8.1?noext\",\n",
       "      \"vega-embed\": \"https://cdn.jsdelivr.net/npm//vega-embed@6?noext\",\n",
       "    };\n",
       "\n",
       "    function loadScript(lib) {\n",
       "      return new Promise(function(resolve, reject) {\n",
       "        var s = document.createElement('script');\n",
       "        s.src = paths[lib];\n",
       "        s.async = true;\n",
       "        s.onload = () => resolve(paths[lib]);\n",
       "        s.onerror = () => reject(`Error loading script: ${paths[lib]}`);\n",
       "        document.getElementsByTagName(\"head\")[0].appendChild(s);\n",
       "      });\n",
       "    }\n",
       "\n",
       "    function showError(err) {\n",
       "      outputDiv.innerHTML = `<div class=\"error\" style=\"color:red;\">${err}</div>`;\n",
       "      throw err;\n",
       "    }\n",
       "\n",
       "    function displayChart(vegaEmbed) {\n",
       "      vegaEmbed(outputDiv, spec, embedOpt)\n",
       "        .catch(err => showError(`Javascript Error: ${err.message}<br>This usually means there's a typo in your chart specification. See the javascript console for the full traceback.`));\n",
       "    }\n",
       "\n",
       "    if(typeof define === \"function\" && define.amd) {\n",
       "      requirejs.config({paths});\n",
       "      require([\"vega-embed\"], displayChart, err => showError(`Error loading script: ${err.message}`));\n",
       "    } else if (typeof vegaEmbed === \"function\") {\n",
       "      displayChart(vegaEmbed);\n",
       "    } else {\n",
       "      loadScript(\"vega\")\n",
       "        .then(() => loadScript(\"vega-lite\"))\n",
       "        .then(() => loadScript(\"vega-embed\"))\n",
       "        .catch(showError)\n",
       "        .then(() => displayChart(vegaEmbed));\n",
       "    }\n",
       "  })({\"config\": {\"view\": {\"continuousWidth\": 400, \"continuousHeight\": 300, \"stroke\": null}, \"axis\": {\"labelFont\": \"Ubuntu\", \"labelFontSize\": 15, \"titleFont\": \"Fira Sans\", \"titleFontSize\": 16}, \"header\": {\"labelFont\": \"Ubuntu\", \"labelFontSize\": 18, \"labelOrient\": \"top\"}, \"legend\": {\"labelFont\": \"Ubuntu\", \"labelFontSize\": 14, \"orient\": \"bottom\", \"titleFontSize\": 14}, \"title\": {\"anchor\": \"start\", \"dy\": -10, \"font\": \"Fira Sans\", \"fontSize\": 18}}, \"data\": {\"name\": \"data-c5704da4499b655f25361b9c19a8b1ee\"}, \"mark\": \"bar\", \"encoding\": {\"x\": {\"type\": \"quantitative\", \"field\": \"importance\"}, \"y\": {\"type\": \"nominal\", \"field\": \"feature\", \"sort\": \"-x\"}}, \"transform\": [{\"window\": [{\"op\": \"rank\", \"field\": \"importance\", \"as\": \"rank\"}], \"sort\": [{\"field\": \"importance\", \"order\": \"descending\"}]}, {\"filter\": \"(datum.rank < 20)\"}], \"width\": 200, \"$schema\": \"https://vega.github.io/schema/vega-lite/v4.8.1.json\", \"datasets\": {\"data-c5704da4499b655f25361b9c19a8b1ee\": [{\"feature\": \"D_occ\", \"importance\": 0.00690333923276529}, {\"feature\": \"Z_occ\", \"importance\": 0.007077849410195673}, {\"feature\": \"config_SOUTH\", \"importance\": 0.007815446052688123}, {\"feature\": \"K_occ\", \"importance\": 0.011328687542615746}, {\"feature\": \"B_occ\", \"importance\": 0.013298736601483669}, {\"feature\": \"M_occ\", \"importance\": 0.01348601896683756}, {\"feature\": \"L_count_ratio\", \"importance\": 0.01376533473352692}, {\"feature\": \"A_occ\", \"importance\": 0.018033529781254245}, {\"feature\": \"E_occ\", \"importance\": 0.019977534116507406}, {\"feature\": \"H_count\", \"importance\": 0.039138165343989256}, {\"feature\": \"temp\", \"importance\": 0.05475729113579749}, {\"feature\": \"nb_arr\", \"importance\": 0.05809444832423704}, {\"feature\": \"avg_speed_last30T\", \"importance\": 0.06398409713652624}, {\"feature\": \"turnaround_minutes\", \"importance\": 0.06779559758561023}, {\"feature\": \"M_count_ratio\", \"importance\": 0.06887957067389214}, {\"feature\": \"nb_dep\", \"importance\": 0.0878641903974856}, {\"feature\": \"taxi_dist\", \"importance\": 0.09371437284809786}, {\"feature\": \"avg_speed_last15T\", \"importance\": 0.09660004519600056}, {\"feature\": \"runway_16\", \"importance\": 0.11218184734883185}, {\"feature\": \"angle_sum\", \"importance\": 0.145303897571657}]}}, {\"mode\": \"vega-lite\"});\n",
       "</script>"
      ],
      "text/plain": [
       "alt.Chart(...)"
      ]
     },
     "metadata": {},
     "output_type": "display_data"
    },
    {
     "data": {
      "image/png": "[encoded data removed]",
      "text/plain": [
       "<Figure size 468x684 with 1 Axes>"
      ]
     },
     "metadata": {
      "needs_background": "light"
     },
     "output_type": "display_data"
    },
    {
     "data": {
      "text/plain": [
       "<Figure size 360x576 with 0 Axes>"
      ]
     },
     "metadata": {},
     "output_type": "display_data"
    }
   ],
   "source": [
    "base_dir = \"../prediction_results/\"\n",
    "\n",
    "set_name = \"sfs_bbackward_20_taxidelays\"\n",
    "target_var = \"taxi_holding_time_minutes\"\n",
    "test_name = f\"204_{target_var}_{set_name}/\"\n",
    "print(\"test_name\")\n",
    "\n",
    "\n",
    "res, labels_test, predicted, clf = train_rf(\n",
    "    dep_arr_df,\n",
    "    main_feature_sets[set_name],\n",
    "    target_var,\n",
    "    query=\"parking_position==parking_position & mvt_type=='DEP'\",\n",
    "    dirname=base_dir + test_name,\n",
    "    dropna=False,\n",
    ")"
   ]
  },
  {
   "cell_type": "code",
   "execution_count": 198,
   "id": "c0c4072f-6ea6-4ba0-80bf-4b72397fb21a",
   "metadata": {
    "execution": {
     "iopub.execute_input": "2021-07-23T18:11:12.460176Z",
     "iopub.status.busy": "2021-07-23T18:11:12.460010Z",
     "iopub.status.idle": "2021-07-23T18:11:12.464948Z",
     "shell.execute_reply": "2021-07-23T18:11:12.464550Z",
     "shell.execute_reply.started": "2021-07-23T18:11:12.460158Z"
    }
   },
   "outputs": [
    {
     "name": "stdout",
     "output_type": "stream",
     "text": [
      "lol\n"
     ]
    }
   ],
   "source": [
    "print(\"lol\")"
   ]
  },
  {
   "cell_type": "code",
   "execution_count": null,
   "id": "7d407195-f236-4c16-b47a-d16149925faf",
   "metadata": {},
   "outputs": [],
   "source": []
  },
  {
   "cell_type": "markdown",
   "id": "91957a53-9204-45b3-83d6-31ebb82146ff",
   "metadata": {},
   "source": [
    "### RFECV"
   ]
  },
  {
   "cell_type": "code",
   "execution_count": 126,
   "id": "22210069-2312-4466-90a8-2176864418b2",
   "metadata": {
    "execution": {
     "iopub.execute_input": "2021-07-23T09:30:28.230393Z",
     "iopub.status.busy": "2021-07-23T09:30:28.230029Z",
     "iopub.status.idle": "2021-07-23T09:30:28.234838Z",
     "shell.execute_reply": "2021-07-23T09:30:28.234337Z",
     "shell.execute_reply.started": "2021-07-23T09:30:28.230370Z"
    },
    "tags": []
   },
   "outputs": [],
   "source": [
    "from sklearn.feature_selection import RFECV"
   ]
  },
  {
   "cell_type": "code",
   "execution_count": 245,
   "id": "b3b4ce1e-ca32-4e68-8334-00ded74458a3",
   "metadata": {
    "execution": {
     "iopub.execute_input": "2021-07-24T16:44:17.942965Z",
     "iopub.status.busy": "2021-07-24T16:44:17.942696Z",
     "iopub.status.idle": "2021-07-24T16:49:39.237482Z",
     "shell.execute_reply": "2021-07-24T16:49:39.236845Z",
     "shell.execute_reply.started": "2021-07-24T16:44:17.942945Z"
    },
    "tags": []
   },
   "outputs": [
    {
     "name": "stdout",
     "output_type": "stream",
     "text": [
      "CPU times: user 1min 38s, sys: 768 ms, total: 1min 39s\n",
      "Wall time: 5min 21s\n"
     ]
    }
   ],
   "source": [
    "%%time\n",
    "\n",
    "feature_columns = main_feature_sets[\"avg_delay_pred\"] #   avg_delay_pred\n",
    "target_column = \"avg_delay_in30min\"\n",
    "\n",
    "flight_df = dep_arr_df.query(\"parking_position==parking_position & mvt_type=='DEP'\")\n",
    "data_df = flight_df[feature_columns + [target_column, \"first_movement_start\"]]\n",
    "data_df = data_df.sort_values(\"first_movement_start\").fillna(method=\"backfill\").dropna()\n",
    "data_df = data_df.drop([\"first_movement_start\"], axis=1)\n",
    "input_df = data_df[feature_columns]\n",
    "target_df = data_df[[target_column]]\n",
    "\n",
    "data_train, data_test, labels_train, labels_test = train_test_split(\n",
    "    input_df, target_df, test_size=0.20, random_state=42\n",
    ")\n",
    "\n",
    "clf = RandomForestRegressor(n_estimators=150, min_samples_split=10, random_state=42)\n",
    "selector = RFECV(clf, step=1, cv=5, n_jobs=23)\n",
    "selector = selector.fit(data_train.values, labels_train.values.reshape((-1,)))"
   ]
  },
  {
   "cell_type": "code",
   "execution_count": 246,
   "id": "40e2f1ec-c4f5-489b-9ead-8ba70da67a48",
   "metadata": {
    "execution": {
     "iopub.execute_input": "2021-07-24T16:49:39.239142Z",
     "iopub.status.busy": "2021-07-24T16:49:39.238832Z",
     "iopub.status.idle": "2021-07-24T16:49:39.244564Z",
     "shell.execute_reply": "2021-07-24T16:49:39.244068Z",
     "shell.execute_reply.started": "2021-07-24T16:49:39.239003Z"
    },
    "tags": []
   },
   "outputs": [],
   "source": [
    "mask_col_selected = selector.get_support()"
   ]
  },
  {
   "cell_type": "code",
   "execution_count": 247,
   "id": "0e1b1f34-393a-4d39-81a1-c4304fec59e4",
   "metadata": {
    "execution": {
     "iopub.execute_input": "2021-07-24T16:49:39.245523Z",
     "iopub.status.busy": "2021-07-24T16:49:39.245365Z",
     "iopub.status.idle": "2021-07-24T16:49:39.252540Z",
     "shell.execute_reply": "2021-07-24T16:49:39.252088Z",
     "shell.execute_reply.started": "2021-07-24T16:49:39.245506Z"
    },
    "tags": []
   },
   "outputs": [
    {
     "data": {
      "text/plain": [
       "array(['max_turnaround_minutes_last30T', 'H_count', 'M_count',\n",
       "       'H_count_ratio', 'L_count_ratio', 'M_count_ratio', 'H_occ',\n",
       "       'K_occ', 'B_occ', 'F_occ', 'J_occ', 'E_occ', 'D_occ', 'C_occ',\n",
       "       'N_occ', 'A_occ', 'M_occ', 'G_occ', 'Z_occ', 'twy_pca_0',\n",
       "       'twy_pca_1', 'twy_pca_2', 'press', 'temp', 'atmap_precipitation',\n",
       "       'atmap_score', 'nominal', 'busy', 'disrupted',\n",
       "       'not_nom_arrival_ratio', 'nb_arr', 'nb_dep', 'nb',\n",
       "       'avg_speed_last30T', 'avg_speed_last15T', 'config_EAST',\n",
       "       'config_NORTH0', 'config_SOUTH'], dtype=object)"
      ]
     },
     "execution_count": 247,
     "metadata": {},
     "output_type": "execute_result"
    }
   ],
   "source": [
    "data_train.columns[mask_col_selected].values"
   ]
  },
  {
   "cell_type": "code",
   "execution_count": 248,
   "id": "90df25ea-f2cb-414a-b7de-dfb57dc28089",
   "metadata": {
    "execution": {
     "iopub.execute_input": "2021-07-24T16:49:39.253775Z",
     "iopub.status.busy": "2021-07-24T16:49:39.253614Z",
     "iopub.status.idle": "2021-07-24T16:49:39.259099Z",
     "shell.execute_reply": "2021-07-24T16:49:39.258627Z",
     "shell.execute_reply.started": "2021-07-24T16:49:39.253758Z"
    },
    "tags": []
   },
   "outputs": [
    {
     "data": {
      "text/plain": [
       "(38,)"
      ]
     },
     "execution_count": 248,
     "metadata": {},
     "output_type": "execute_result"
    }
   ],
   "source": [
    "_.shape"
   ]
  },
  {
   "cell_type": "code",
   "execution_count": 249,
   "id": "70891329-cbc8-409e-8602-f789cc9c1647",
   "metadata": {
    "execution": {
     "iopub.execute_input": "2021-07-24T16:49:39.260858Z",
     "iopub.status.busy": "2021-07-24T16:49:39.260643Z",
     "iopub.status.idle": "2021-07-24T16:49:39.266824Z",
     "shell.execute_reply": "2021-07-24T16:49:39.266205Z",
     "shell.execute_reply.started": "2021-07-24T16:49:39.260838Z"
    },
    "tags": []
   },
   "outputs": [],
   "source": [
    "main_feature_sets[\"from_avg_delay_pred_to_rfecv\"] = list(\n",
    "    data_train.columns[mask_col_selected].values\n",
    ")"
   ]
  },
  {
   "cell_type": "code",
   "execution_count": 251,
   "id": "03a6dc05-52ed-4383-9c28-842a527e3e57",
   "metadata": {
    "execution": {
     "iopub.execute_input": "2021-07-25T16:28:32.819579Z",
     "iopub.status.busy": "2021-07-25T16:28:32.819317Z",
     "iopub.status.idle": "2021-07-25T16:28:40.098209Z",
     "shell.execute_reply": "2021-07-25T16:28:40.097482Z",
     "shell.execute_reply.started": "2021-07-25T16:28:32.819558Z"
    },
    "tags": []
   },
   "outputs": [
    {
     "name": "stdout",
     "output_type": "stream",
     "text": [
      "Results for Random Forest on the following features :\n",
      "max_turnaround_minutes_last30T H_count M_count H_count_ratio L_count_ratio M_count_ratio H_occ K_occ B_occ F_occ J_occ E_occ D_occ C_occ N_occ A_occ M_occ G_occ Z_occ twy_pca_0 twy_pca_1 twy_pca_2 press temp atmap_precipitation atmap_score nominal busy disrupted not_nom_arrival_ratio nb_arr nb_dep nb avg_speed_last30T avg_speed_last15T config_EAST config_NORTH0 config_SOUTH\n",
      "Target var : avg_delay_in30min\n",
      "Selecting the subset with following query : \n",
      "parking_position==parking_position & mvt_type=='DEP'\n",
      "mae=\t1.457273556031144\n",
      "mse=\t4.118138923596153\n",
      "rmse=\t2.029319817967625\n",
      "acc1min=46.87719298245614\n",
      "acc3min=88.98245614035088\n",
      "acc5min=97.75438596491229\n",
      "R2=\t0.3493826225416078\n",
      "n_sample training : 5696\n",
      "n_sample test : 1425\n",
      "n_sample_tot=7121\n",
      "\n"
     ]
    },
    {
     "data": {
      "text/html": [
       "\n",
       "<div id=\"altair-viz-b75c6a21f99a47f0a3043345da73eaf9\"></div>\n",
       "<script type=\"text/javascript\">\n",
       "  (function(spec, embedOpt){\n",
       "    let outputDiv = document.currentScript.previousElementSibling;\n",
       "    if (outputDiv.id !== \"altair-viz-b75c6a21f99a47f0a3043345da73eaf9\") {\n",
       "      outputDiv = document.getElementById(\"altair-viz-b75c6a21f99a47f0a3043345da73eaf9\");\n",
       "    }\n",
       "    const paths = {\n",
       "      \"vega\": \"https://cdn.jsdelivr.net/npm//vega@5?noext\",\n",
       "      \"vega-lib\": \"https://cdn.jsdelivr.net/npm//vega-lib?noext\",\n",
       "      \"vega-lite\": \"https://cdn.jsdelivr.net/npm//vega-lite@4.8.1?noext\",\n",
       "      \"vega-embed\": \"https://cdn.jsdelivr.net/npm//vega-embed@6?noext\",\n",
       "    };\n",
       "\n",
       "    function loadScript(lib) {\n",
       "      return new Promise(function(resolve, reject) {\n",
       "        var s = document.createElement('script');\n",
       "        s.src = paths[lib];\n",
       "        s.async = true;\n",
       "        s.onload = () => resolve(paths[lib]);\n",
       "        s.onerror = () => reject(`Error loading script: ${paths[lib]}`);\n",
       "        document.getElementsByTagName(\"head\")[0].appendChild(s);\n",
       "      });\n",
       "    }\n",
       "\n",
       "    function showError(err) {\n",
       "      outputDiv.innerHTML = `<div class=\"error\" style=\"color:red;\">${err}</div>`;\n",
       "      throw err;\n",
       "    }\n",
       "\n",
       "    function displayChart(vegaEmbed) {\n",
       "      vegaEmbed(outputDiv, spec, embedOpt)\n",
       "        .catch(err => showError(`Javascript Error: ${err.message}<br>This usually means there's a typo in your chart specification. See the javascript console for the full traceback.`));\n",
       "    }\n",
       "\n",
       "    if(typeof define === \"function\" && define.amd) {\n",
       "      requirejs.config({paths});\n",
       "      require([\"vega-embed\"], displayChart, err => showError(`Error loading script: ${err.message}`));\n",
       "    } else if (typeof vegaEmbed === \"function\") {\n",
       "      displayChart(vegaEmbed);\n",
       "    } else {\n",
       "      loadScript(\"vega\")\n",
       "        .then(() => loadScript(\"vega-lite\"))\n",
       "        .then(() => loadScript(\"vega-embed\"))\n",
       "        .catch(showError)\n",
       "        .then(() => displayChart(vegaEmbed));\n",
       "    }\n",
       "  })({\"config\": {\"view\": {\"continuousWidth\": 400, \"continuousHeight\": 300, \"stroke\": null}, \"axis\": {\"labelFont\": \"Ubuntu\", \"labelFontSize\": 15, \"titleFont\": \"Fira Sans\", \"titleFontSize\": 16}, \"header\": {\"labelFont\": \"Ubuntu\", \"labelFontSize\": 18, \"labelOrient\": \"top\"}, \"legend\": {\"labelFont\": \"Ubuntu\", \"labelFontSize\": 14, \"orient\": \"bottom\", \"titleFontSize\": 14}, \"title\": {\"anchor\": \"start\", \"dy\": -10, \"font\": \"Fira Sans\", \"fontSize\": 18}}, \"data\": {\"name\": \"data-629ade72096ded04ba6ce50a290cf17c\"}, \"mark\": \"bar\", \"encoding\": {\"x\": {\"type\": \"quantitative\", \"field\": \"importance\"}, \"y\": {\"type\": \"nominal\", \"field\": \"feature\", \"sort\": \"-x\"}}, \"transform\": [{\"window\": [{\"op\": \"rank\", \"field\": \"importance\", \"as\": \"rank\"}], \"sort\": [{\"field\": \"importance\", \"order\": \"descending\"}]}, {\"filter\": \"(datum.rank < 20)\"}], \"width\": 200, \"$schema\": \"https://vega.github.io/schema/vega-lite/v4.8.1.json\", \"datasets\": {\"data-629ade72096ded04ba6ce50a290cf17c\": [{\"feature\": \"config_NORTH0\", \"importance\": 0.002136445740800896}, {\"feature\": \"Z_occ\", \"importance\": 0.0029515819170056533}, {\"feature\": \"busy\", \"importance\": 0.0033872880104920235}, {\"feature\": \"D_occ\", \"importance\": 0.0039866881327320774}, {\"feature\": \"L_count_ratio\", \"importance\": 0.0041957807659430205}, {\"feature\": \"config_EAST\", \"importance\": 0.004265868357155868}, {\"feature\": \"J_occ\", \"importance\": 0.004292059621906615}, {\"feature\": \"M_occ\", \"importance\": 0.0044332087374274}, {\"feature\": \"config_SOUTH\", \"importance\": 0.0045148087371444014}, {\"feature\": \"G_occ\", \"importance\": 0.004531002105779319}, {\"feature\": \"atmap_precipitation\", \"importance\": 0.0049580998653908}, {\"feature\": \"atmap_score\", \"importance\": 0.005357854484526835}, {\"feature\": \"H_occ\", \"importance\": 0.0061876960864485474}, {\"feature\": \"F_occ\", \"importance\": 0.006926815455569053}, {\"feature\": \"disrupted\", \"importance\": 0.007715655140531353}, {\"feature\": \"not_nom_arrival_ratio\", \"importance\": 0.007978704924214186}, {\"feature\": \"B_occ\", \"importance\": 0.008394237703410835}, {\"feature\": \"N_occ\", \"importance\": 0.009103083114920222}, {\"feature\": \"A_occ\", \"importance\": 0.009879998494601708}, {\"feature\": \"H_count\", \"importance\": 0.010700542013571781}, {\"feature\": \"C_occ\", \"importance\": 0.010805534005793784}, {\"feature\": \"K_occ\", \"importance\": 0.011735091283222886}, {\"feature\": \"E_occ\", \"importance\": 0.017091668842690873}, {\"feature\": \"nb\", \"importance\": 0.02395498803553003}, {\"feature\": \"M_count\", \"importance\": 0.02542220515580938}, {\"feature\": \"nb_arr\", \"importance\": 0.031684118860945173}, {\"feature\": \"H_count_ratio\", \"importance\": 0.03309870112889179}, {\"feature\": \"nominal\", \"importance\": 0.03953216877606351}, {\"feature\": \"M_count_ratio\", \"importance\": 0.04451750658986248}, {\"feature\": \"twy_pca_2\", \"importance\": 0.052008655395214376}, {\"feature\": \"press\", \"importance\": 0.05383066496811957}, {\"feature\": \"twy_pca_1\", \"importance\": 0.056711730740646955}, {\"feature\": \"avg_speed_last15T\", \"importance\": 0.05949872082506657}, {\"feature\": \"avg_speed_last30T\", \"importance\": 0.061242265016227315}, {\"feature\": \"nb_dep\", \"importance\": 0.0823834135075338}, {\"feature\": \"temp\", \"importance\": 0.08404644436341284}, {\"feature\": \"twy_pca_0\", \"importance\": 0.09309806285918763}, {\"feature\": \"max_turnaround_minutes_last30T\", \"importance\": 0.10344064023620833}]}}, {\"mode\": \"vega-lite\"});\n",
       "</script>"
      ],
      "text/plain": [
       "alt.Chart(...)"
      ]
     },
     "metadata": {},
     "output_type": "display_data"
    },
    {
     "data": {
      "image/png": "[encoded data removed]",
      "text/plain": [
       "<Figure size 468x684 with 1 Axes>"
      ]
     },
     "metadata": {
      "needs_background": "light"
     },
     "output_type": "display_data"
    },
    {
     "data": {
      "text/plain": [
       "<Figure size 360x576 with 0 Axes>"
      ]
     },
     "metadata": {},
     "output_type": "display_data"
    }
   ],
   "source": [
    "base_dir = \"../prediction_results/\"\n",
    "set_name = \"from_avg_delay_pred_to_rfecv\"\n",
    "test_name = f\"305BIS_avg_add_txot_{set_name}/\"\n",
    "res, labels_test, predicted, clf = train_rf(\n",
    "    dep_arr_df,\n",
    "    main_feature_sets[set_name],\n",
    "    \"avg_delay_in30min\",\n",
    "    query=\"parking_position==parking_position & mvt_type=='DEP'\",\n",
    "    dirname=base_dir + test_name,\n",
    "    dropna=False,\n",
    ")"
   ]
  },
  {
   "cell_type": "code",
   "execution_count": 252,
   "id": "85eff1e1-db44-4605-adb8-9015557d2a3d",
   "metadata": {
    "execution": {
     "iopub.execute_input": "2021-07-25T16:28:40.099528Z",
     "iopub.status.busy": "2021-07-25T16:28:40.099355Z",
     "iopub.status.idle": "2021-07-25T16:28:40.135699Z",
     "shell.execute_reply": "2021-07-25T16:28:40.135106Z",
     "shell.execute_reply.started": "2021-07-25T16:28:40.099509Z"
    },
    "tags": []
   },
   "outputs": [
    {
     "data": {
      "text/html": [
       "\n",
       "<div id=\"altair-viz-b4733e09269343668e3d18da0ca166e2\"></div>\n",
       "<script type=\"text/javascript\">\n",
       "  (function(spec, embedOpt){\n",
       "    let outputDiv = document.currentScript.previousElementSibling;\n",
       "    if (outputDiv.id !== \"altair-viz-b4733e09269343668e3d18da0ca166e2\") {\n",
       "      outputDiv = document.getElementById(\"altair-viz-b4733e09269343668e3d18da0ca166e2\");\n",
       "    }\n",
       "    const paths = {\n",
       "      \"vega\": \"https://cdn.jsdelivr.net/npm//vega@5?noext\",\n",
       "      \"vega-lib\": \"https://cdn.jsdelivr.net/npm//vega-lib?noext\",\n",
       "      \"vega-lite\": \"https://cdn.jsdelivr.net/npm//vega-lite@4.8.1?noext\",\n",
       "      \"vega-embed\": \"https://cdn.jsdelivr.net/npm//vega-embed@6?noext\",\n",
       "    };\n",
       "\n",
       "    function loadScript(lib) {\n",
       "      return new Promise(function(resolve, reject) {\n",
       "        var s = document.createElement('script');\n",
       "        s.src = paths[lib];\n",
       "        s.async = true;\n",
       "        s.onload = () => resolve(paths[lib]);\n",
       "        s.onerror = () => reject(`Error loading script: ${paths[lib]}`);\n",
       "        document.getElementsByTagName(\"head\")[0].appendChild(s);\n",
       "      });\n",
       "    }\n",
       "\n",
       "    function showError(err) {\n",
       "      outputDiv.innerHTML = `<div class=\"error\" style=\"color:red;\">${err}</div>`;\n",
       "      throw err;\n",
       "    }\n",
       "\n",
       "    function displayChart(vegaEmbed) {\n",
       "      vegaEmbed(outputDiv, spec, embedOpt)\n",
       "        .catch(err => showError(`Javascript Error: ${err.message}<br>This usually means there's a typo in your chart specification. See the javascript console for the full traceback.`));\n",
       "    }\n",
       "\n",
       "    if(typeof define === \"function\" && define.amd) {\n",
       "      requirejs.config({paths});\n",
       "      require([\"vega-embed\"], displayChart, err => showError(`Error loading script: ${err.message}`));\n",
       "    } else if (typeof vegaEmbed === \"function\") {\n",
       "      displayChart(vegaEmbed);\n",
       "    } else {\n",
       "      loadScript(\"vega\")\n",
       "        .then(() => loadScript(\"vega-lite\"))\n",
       "        .then(() => loadScript(\"vega-embed\"))\n",
       "        .catch(showError)\n",
       "        .then(() => displayChart(vegaEmbed));\n",
       "    }\n",
       "  })({\"config\": {\"view\": {\"continuousWidth\": 400, \"continuousHeight\": 300}}, \"layer\": [{\"data\": {\"name\": \"data-93220fbf21558cd522fbf18e6ff77d65\"}, \"mark\": {\"type\": \"circle\", \"opacity\": 0.5}, \"encoding\": {\"x\": {\"type\": \"quantitative\", \"field\": \"true\"}, \"y\": {\"type\": \"quantitative\", \"field\": \"pred\"}}}, {\"data\": {\"name\": \"data-32de56843fa3f113496d15045ef6b3ab\"}, \"mark\": {\"type\": \"line\", \"color\": \"black\"}, \"encoding\": {\"x\": {\"type\": \"quantitative\", \"field\": \"x\"}, \"y\": {\"type\": \"quantitative\", \"field\": \"y\"}}}], \"$schema\": \"https://vega.github.io/schema/vega-lite/v4.8.1.json\", \"datasets\": {\"data-93220fbf21558cd522fbf18e6ff77d65\": [{\"true\": 1.9555555555555577, \"pred\": 2.6666308339865905}, {\"true\": 4.355555555555555, \"pred\": 3.8463259740726934}, {\"true\": 4.072222222222222, \"pred\": 4.6188362870511614}, {\"true\": 2.9499999999999997, \"pred\": 3.372811818879925}, {\"true\": 1.161111111111117, \"pred\": 1.722757458304333}, {\"true\": 1.158333333333332, \"pred\": 3.5107411792796004}, {\"true\": 0.8333333333333371, \"pred\": 3.4894195545736526}, {\"true\": 2.491666666666665, \"pred\": 4.252387904246247}, {\"true\": 3.9333333333333345, \"pred\": 3.57390977691691}, {\"true\": 3.5733333333333333, \"pred\": 4.638119571903083}, {\"true\": 0.691666666666672, \"pred\": 2.4948191636435917}, {\"true\": 7.291666666666666, \"pred\": 4.022633612709538}, {\"true\": 0.0, \"pred\": 4.328389461657628}, {\"true\": 8.400000000000011, \"pred\": 2.487685551222908}, {\"true\": 3.1666666666666625, \"pred\": 3.8154362203304384}, {\"true\": 5.485416666666666, \"pred\": 4.787264362076908}, {\"true\": 2.727777777777778, \"pred\": 3.5902173091485468}, {\"true\": 4.394444444444445, \"pred\": 4.110454388359431}, {\"true\": 7.074999999999998, \"pred\": 2.917234668160696}, {\"true\": 6.605555555555557, \"pred\": 5.239423476013609}, {\"true\": 3.758333333333335, \"pred\": 3.489114197175946}, {\"true\": 2.194444444444449, \"pred\": 3.0579174078698035}, {\"true\": 7.691666666666664, \"pred\": 2.9756722881702684}, {\"true\": 3.2916666666666736, \"pred\": 2.493216142008363}, {\"true\": 2.03888888888889, \"pred\": 3.387354248546767}, {\"true\": 3.500000000000007, \"pred\": 3.0868738552564428}, {\"true\": 2.6, \"pred\": 2.9980226426593664}, {\"true\": 4.014285714285715, \"pred\": 3.9238654414193728}, {\"true\": 2.7416666666666667, \"pred\": 3.24755877084724}, {\"true\": 2.4138888888888923, \"pred\": 4.508955742417247}, {\"true\": 2.577777777777779, \"pred\": 4.514901972689703}, {\"true\": 4.3766666666666705, \"pred\": 3.485831842041293}, {\"true\": 6.85952380952381, \"pred\": 4.751630787015682}, {\"true\": 4.411111111111115, \"pred\": 3.583215574785761}, {\"true\": 4.183333333333334, \"pred\": 3.472203255430588}, {\"true\": 3.6916666666666718, \"pred\": 3.587049009120804}, {\"true\": 2.533333333333336, \"pred\": 3.513172113132495}, {\"true\": 2.850000000000018, \"pred\": 5.314062750479527}, {\"true\": 6.1333333333333355, \"pred\": 4.260756726751486}, {\"true\": 5.790000000000001, \"pred\": 4.922788130732192}, {\"true\": 3.8750000000000044, \"pred\": 4.2602855118933505}, {\"true\": 5.808333333333333, \"pred\": 4.12841917120053}, {\"true\": 0.0, \"pred\": 3.900209069803937}, {\"true\": 1.7222222222222185, \"pred\": 1.872258840862968}, {\"true\": 2.6472222222222235, \"pred\": 4.456455969917814}, {\"true\": 5.311111111111114, \"pred\": 3.839837674394451}, {\"true\": 2.0055555555555613, \"pred\": 3.726401586715023}, {\"true\": 0.0, \"pred\": 3.034010127994742}, {\"true\": 2.0041666666666664, \"pred\": 3.6959395323113555}, {\"true\": 1.255555555555559, \"pred\": 3.1064566518779504}, {\"true\": 3.1729166666666675, \"pred\": 3.6257072836609026}, {\"true\": 6.862500000000002, \"pred\": 4.35535295114943}, {\"true\": 5.327777777777779, \"pred\": 4.351720444361489}, {\"true\": 6.94444444444445, \"pred\": 4.601189793679677}, {\"true\": 4.666666666666674, \"pred\": 3.7923926148828286}, {\"true\": 4.358333333333334, \"pred\": 2.5515086752194946}, {\"true\": 5.116666666666668, \"pred\": 3.1475464154449946}, {\"true\": 4.185416666666667, \"pred\": 4.482430930765436}, {\"true\": 5.491666666666674, \"pred\": 3.7807478311689344}, {\"true\": 2.633333333333333, \"pred\": 2.555555141765427}, {\"true\": 1.5233333333333376, \"pred\": 3.5631405296128387}, {\"true\": 2.5599999999999996, \"pred\": 3.8640448875221787}, {\"true\": 8.600000000000009, \"pred\": 5.403643287928087}, {\"true\": 3.901851851851854, \"pred\": 3.3208418629883742}, {\"true\": 5.450000000000005, \"pred\": 5.8164429036171805}, {\"true\": 4.683333333333339, \"pred\": 2.293772430492983}, {\"true\": 2.855555555555562, \"pred\": 3.6440483724155492}, {\"true\": 1.8666666666666685, \"pred\": 4.585066301389312}, {\"true\": 5.453333333333337, \"pred\": 4.434895233098021}, {\"true\": 2.600000000000007, \"pred\": 4.531301377479774}, {\"true\": 7.9875000000000025, \"pred\": 6.237953739242206}, {\"true\": 0.8944444444444444, \"pred\": 2.452294745428569}, {\"true\": 10.195833333333335, \"pred\": 4.902344055275244}, {\"true\": 4.144444444444446, \"pred\": 5.167324829394642}, {\"true\": 4.746666666666667, \"pred\": 2.88223524841189}, {\"true\": 2.105555555555559, \"pred\": 3.600819071298898}, {\"true\": 4.987037037037037, \"pred\": 4.632996552865561}, {\"true\": 1.6111111111111114, \"pred\": 2.646048725539347}, {\"true\": 8.033333333333331, \"pred\": 6.786347907298757}, {\"true\": 1.5055555555555626, \"pred\": 2.885427948665182}, {\"true\": 4.72037037037037, \"pred\": 5.110558928123349}, {\"true\": 2.1055555555555574, \"pred\": 2.7821784765450666}, {\"true\": 2.6303030303030313, \"pred\": 4.425901384459064}, {\"true\": 2.5638888888888887, \"pred\": 3.2225979834221814}, {\"true\": 2.3722222222222245, \"pred\": 4.177276629787542}, {\"true\": 1.6291666666666667, \"pred\": 2.6904239567366726}, {\"true\": 2.9966666666666706, \"pred\": 3.7189371386718455}, {\"true\": 5.056666666666669, \"pred\": 2.4910277300065204}, {\"true\": 5.755555555555559, \"pred\": 4.938047167915295}, {\"true\": 4.023809523809525, \"pred\": 3.7486703768718743}, {\"true\": 2.9388888888888887, \"pred\": 4.002763955830583}, {\"true\": 2.7966666666666664, \"pred\": 2.11658473118534}, {\"true\": 5.449999999999998, \"pred\": 3.8839943849092182}, {\"true\": 3.2166666666666694, \"pred\": 3.4042492733963288}, {\"true\": 10.216666666666667, \"pred\": 2.35834278009582}, {\"true\": 1.1400000000000035, \"pred\": 3.259518554137337}, {\"true\": 1.1388888888888855, \"pred\": 2.432710721669778}, {\"true\": 4.325925925925928, \"pred\": 4.8253136056931725}, {\"true\": 4.1000000000000005, \"pred\": 4.195311930994743}, {\"true\": 8.645238095238096, \"pred\": 4.185305528285723}, {\"true\": 5.313636363636364, \"pred\": 4.490400878599843}, {\"true\": 5.830303030303029, \"pred\": 5.418121612614033}, {\"true\": 2.6125000000000016, \"pred\": 4.004310060060376}, {\"true\": 1.5944444444444443, \"pred\": 2.3375050500943644}, {\"true\": 2.7645833333333334, \"pred\": 3.030481700475819}, {\"true\": 4.516666666666677, \"pred\": 5.966879549715486}, {\"true\": 7.161111111111109, \"pred\": 5.713489061036998}, {\"true\": 0.7333333333333297, \"pred\": 4.189939941498136}, {\"true\": 0.6708333333333351, \"pred\": 4.186963107816493}, {\"true\": 2.2833333333333297, \"pred\": 2.430930702070977}, {\"true\": 4.862500000000001, \"pred\": 4.861058619733703}, {\"true\": 1.9433333333333334, \"pred\": 3.3576546141295633}, {\"true\": 0.9541666666666694, \"pred\": 2.122698164100626}, {\"true\": 4.991666666666664, \"pred\": 4.58939871582096}, {\"true\": 2.6638888888888923, \"pred\": 3.0654696178155585}, {\"true\": 1.7583333333333298, \"pred\": 4.219497420142069}, {\"true\": 2.6444444444444457, \"pred\": 3.7189404044249392}, {\"true\": 5.300000000000001, \"pred\": 5.006496954892227}, {\"true\": 0.6708333333333351, \"pred\": 4.304129310490973}, {\"true\": 4.442592592592593, \"pred\": 4.7950200145068695}, {\"true\": 3.421428571428573, \"pred\": 4.215886032449685}, {\"true\": 2.7250000000000085, \"pred\": 2.894620633836722}, {\"true\": 4.240277777777778, \"pred\": 3.550275146758931}, {\"true\": 5.444444444444447, \"pred\": 4.381817974193498}, {\"true\": 0.8944444444444444, \"pred\": 2.0777009550594414}, {\"true\": 5.011666666666667, \"pred\": 4.7754025946011955}, {\"true\": 3.7619047619047628, \"pred\": 3.234293436417547}, {\"true\": 5.076666666666665, \"pred\": 4.5019004386862616}, {\"true\": 6.957692307692308, \"pred\": 6.351452586883031}, {\"true\": 5.744444444444447, \"pred\": 3.201590748245744}, {\"true\": 1.872916666666669, \"pred\": 3.477590281294653}, {\"true\": 0.0, \"pred\": 2.4586039880155743}, {\"true\": 8.523333333333332, \"pred\": 4.400036165221868}, {\"true\": 2.162500000000002, \"pred\": 4.339094359839888}, {\"true\": 5.329166666666669, \"pred\": 4.1410756681472725}, {\"true\": 5.22777777777778, \"pred\": 5.1408442816646085}, {\"true\": 1.5499999999999998, \"pred\": 3.5025218262821407}, {\"true\": 5.2166666666666694, \"pred\": 5.292826765837395}, {\"true\": 9.769962616701378e-15, \"pred\": 3.340047770087609}, {\"true\": 3.5516666666666667, \"pred\": 3.6186065345467204}, {\"true\": 2.4583333333333304, \"pred\": 2.295694475872162}, {\"true\": 11.995833333333334, \"pred\": 5.467980842066894}, {\"true\": 4.383333333333333, \"pred\": 3.830945392051776}, {\"true\": 24.066666666666677, \"pred\": 5.447353203906536}, {\"true\": 4.166666666666671, \"pred\": 4.153232859700089}, {\"true\": 3.6958333333333337, \"pred\": 2.934822388739647}, {\"true\": 2.575, \"pred\": 2.2416809679370355}, {\"true\": 5.699999999999998, \"pred\": 3.26768061477782}, {\"true\": 8.318750000000003, \"pred\": 6.618771935860547}, {\"true\": 5.266666666666667, \"pred\": 5.354537394200742}, {\"true\": 3.1300000000000017, \"pred\": 4.424994936217529}, {\"true\": 3.4119047619047618, \"pred\": 4.071929891024278}, {\"true\": 5.411111111111111, \"pred\": 5.191635535635612}, {\"true\": 3.9500000000000006, \"pred\": 2.836360785101577}, {\"true\": 2.608333333333332, \"pred\": 3.2287565616091998}, {\"true\": 7.586111111111113, \"pred\": 2.5749820791623828}, {\"true\": 2.3500000000000183, \"pred\": 3.453260589358374}, {\"true\": 5.240909090909091, \"pred\": 4.538804654832559}, {\"true\": 3.044444444444448, \"pred\": 6.426215875615053}, {\"true\": 2.8333333333333344, \"pred\": 3.254892679921123}, {\"true\": 1.0624999999999978, \"pred\": 1.7175432329034561}, {\"true\": 1.0500000000000018, \"pred\": 2.5221741347143625}, {\"true\": 1.1000000000000099, \"pred\": 3.359176866601199}, {\"true\": 6.036666666666665, \"pred\": 4.358696239369148}, {\"true\": 2.791666666666663, \"pred\": 4.002198942775049}, {\"true\": 1.9875000000000025, \"pred\": 2.219003547525812}, {\"true\": 1.8000000000000014, \"pred\": 4.946989657571727}, {\"true\": 8.031481481481482, \"pred\": 5.808723122665614}, {\"true\": 2.2166666666666703, \"pred\": 4.852246263529754}, {\"true\": 0.6750000000000054, \"pred\": 3.841961510985046}, {\"true\": 3.333333333333337, \"pred\": 4.440536888326472}, {\"true\": 4.345833333333334, \"pred\": 3.5290095093692675}, {\"true\": 2.972916666666669, \"pred\": 4.809790319250913}, {\"true\": 1.3400000000000007, \"pred\": 2.7562587223735706}, {\"true\": 2.662500000000001, \"pred\": 3.7764333903428}, {\"true\": 4.211111111111115, \"pred\": 2.287613899276309}, {\"true\": 1.7500000000000044, \"pred\": 2.0551812591252236}, {\"true\": 3.744444444444442, \"pred\": 3.7742014211573847}, {\"true\": 7.120000000000002, \"pred\": 5.191517417720392}, {\"true\": 4.081249999999998, \"pred\": 4.920450448381612}, {\"true\": 6.497916666666665, \"pred\": 6.007858642160846}, {\"true\": 5.133333333333334, \"pred\": 3.1645383727817866}, {\"true\": 4.297222222222223, \"pred\": 4.302073133167242}, {\"true\": 1.11388888888889, \"pred\": 2.1653199316022795}, {\"true\": 3.200000000000009, \"pred\": 3.2232803644313055}, {\"true\": 8.645238095238096, \"pred\": 5.322718193197566}, {\"true\": 5.461904761904762, \"pred\": 4.861364337464544}, {\"true\": 1.355555555555559, \"pred\": 3.502031317983007}, {\"true\": 2.1583333333333385, \"pred\": 5.109118270821089}, {\"true\": 3.233333333333333, \"pred\": 4.11632939589722}, {\"true\": 9.109523809523811, \"pred\": 4.377513982919734}, {\"true\": 7.214285714285714, \"pred\": 5.629562030934503}, {\"true\": 2.577777777777779, \"pred\": 2.4219581064932783}, {\"true\": 1.1277777777777838, \"pred\": 3.888565521843357}, {\"true\": 1.3277777777777777, \"pred\": 3.050278204966596}, {\"true\": 6.820833333333335, \"pred\": 5.111696521533958}, {\"true\": 3.01904761904762, \"pred\": 3.0699633161958264}, {\"true\": 8.223333333333338, \"pred\": 4.285628954952133}, {\"true\": 6.0500000000000025, \"pred\": 3.447676607972055}, {\"true\": 1.6166666666666738, \"pred\": 1.8075622940098703}, {\"true\": 4.7250000000000085, \"pred\": 2.9832979620766937}, {\"true\": 1.1916666666666738, \"pred\": 4.927487069862585}, {\"true\": 2.766666666666668, \"pred\": 3.303879467901825}, {\"true\": 7.040000000000001, \"pred\": 5.567398811008601}, {\"true\": 2.611111111111117, \"pred\": 3.940440963699727}, {\"true\": 2.095833333333336, \"pred\": 3.1228079561404396}, {\"true\": 2.2722222222222292, \"pred\": 3.197444887926532}, {\"true\": 5.004166666666671, \"pred\": 4.199342500968005}, {\"true\": 5.164285714285713, \"pred\": 3.6688355305576534}, {\"true\": 6.600000000000014, \"pred\": 6.062208267361233}, {\"true\": 3.545833333333335, \"pred\": 2.6794477577874707}, {\"true\": 1.9129629629629639, \"pred\": 4.5258249903529935}, {\"true\": 1.556666666666667, \"pred\": 3.0455400431880877}, {\"true\": 1.841666666666671, \"pred\": 1.5433585144669206}, {\"true\": 3.6666666666666665, \"pred\": 3.527481845013734}, {\"true\": 3.7000000000000006, \"pred\": 4.395512465547471}, {\"true\": 2.5599999999999996, \"pred\": 3.999696721364471}, {\"true\": 10.799999999999997, \"pred\": 3.4842224314799735}, {\"true\": 6.136111111111112, \"pred\": 4.11332258195975}, {\"true\": 0.8099999999999999, \"pred\": 2.2880309832740733}, {\"true\": 5.550000000000001, \"pred\": 5.126481663220644}, {\"true\": 5.699999999999998, \"pred\": 2.67193776979522}, {\"true\": 4.0875, \"pred\": 3.690433658355621}, {\"true\": 3.412500000000002, \"pred\": 3.520106554862908}, {\"true\": 3.054166666666668, \"pred\": 3.7120845225734986}, {\"true\": 5.15625, \"pred\": 4.617739588327964}, {\"true\": 1.872916666666669, \"pred\": 3.9461376583729044}, {\"true\": 3.727777777777781, \"pred\": 4.586998694030006}, {\"true\": 2.3233333333333333, \"pred\": 3.178706887978403}, {\"true\": 4.426666666666668, \"pred\": 4.342885489238657}, {\"true\": 0.44333333333333513, \"pred\": 3.2223869068726416}, {\"true\": 1.1133333333333362, \"pred\": 2.645301588735982}, {\"true\": 4.211111111111115, \"pred\": 2.865092301374478}, {\"true\": 1.897222222222225, \"pred\": 2.9510738709923117}, {\"true\": 3.473333333333335, \"pred\": 3.582506845901821}, {\"true\": 5.329070518200751e-15, \"pred\": 2.1520471897369293}, {\"true\": 3.2166666666666686, \"pred\": 2.859886323988451}, {\"true\": 7.366666666666668, \"pred\": 5.692786957952561}, {\"true\": 4.538333333333333, \"pred\": 4.951887575916469}, {\"true\": 7.193333333333333, \"pred\": 5.209343150704242}, {\"true\": 2.166666666666668, \"pred\": 3.292369264356774}, {\"true\": 3.7666666666666693, \"pred\": 3.8848156990258063}, {\"true\": 1.5566666666666713, \"pred\": 2.794867811931907}, {\"true\": 1.9666666666666879, \"pred\": 4.143346058392164}, {\"true\": 6.723809523809524, \"pred\": 4.422548445366837}, {\"true\": 1.2833333333333368, \"pred\": 3.022404814329759}, {\"true\": 1.5249999999999981, \"pred\": 3.8026029609070884}, {\"true\": 3.9266666666666685, \"pred\": 4.336237646245219}, {\"true\": 0.32222222222221986, \"pred\": 4.3273875051721316}, {\"true\": 1.6166666666666543, \"pred\": 3.1507075114292182}, {\"true\": 3.2812500000000013, \"pred\": 3.8342512850314265}, {\"true\": 5.483333333333333, \"pred\": 3.5853196624356882}, {\"true\": 5.827777777777779, \"pred\": 4.5625876146011874}, {\"true\": 0.322222222222221, \"pred\": 2.5533963799639547}, {\"true\": 1.9666666666666681, \"pred\": 2.5074853152033074}, {\"true\": 6.2100000000000035, \"pred\": 5.152820033257109}, {\"true\": 1.4666666666666595, \"pred\": 3.0673783746933765}, {\"true\": 4.880000000000004, \"pred\": 4.409716346285218}, {\"true\": 7.11851851851852, \"pred\": 5.0642204002877325}, {\"true\": 0.4888888888888865, \"pred\": 3.3108947774946693}, {\"true\": 5.830303030303029, \"pred\": 5.344895471654351}, {\"true\": 0.566666666666672, \"pred\": 3.3533598197461734}, {\"true\": 4.816666666666672, \"pred\": 4.679868344129512}, {\"true\": 7.183333333333335, \"pred\": 2.742409465436129}, {\"true\": 6.497619047619048, \"pred\": 5.44889140057185}, {\"true\": 2.4472222222222224, \"pred\": 4.571402313734382}, {\"true\": 3.4638888888888872, \"pred\": 2.4465804681782517}, {\"true\": 1.952777777777779, \"pred\": 3.326747701376381}, {\"true\": 2.152380952380951, \"pred\": 4.073336009171321}, {\"true\": 3.56388888888889, \"pred\": 3.593542018920454}, {\"true\": 1.606666666666667, \"pred\": 2.943633093096896}, {\"true\": 4.525000000000001, \"pred\": 4.311796243351012}, {\"true\": 4.700000000000005, \"pred\": 4.2752607393541995}, {\"true\": 5.57142857142857, \"pred\": 5.579640169949752}, {\"true\": 5.056666666666669, \"pred\": 3.7395688361156005}, {\"true\": 3.5196969696969704, \"pred\": 4.507233260643575}, {\"true\": 6.497916666666665, \"pred\": 5.737945234843493}, {\"true\": 4.877777777777777, \"pred\": 4.432859967104252}, {\"true\": 6.2100000000000035, \"pred\": 5.254937082813052}, {\"true\": 10.625, \"pred\": 4.862052144353356}, {\"true\": 1.4210854715202004e-14, \"pred\": 1.9373199760799737}, {\"true\": 5.116666666666666, \"pred\": 4.742329072231621}, {\"true\": 3.508333333333335, \"pred\": 3.9245663019873556}, {\"true\": 4.520833333333331, \"pred\": 4.217046231402887}, {\"true\": 4.701666666666667, \"pred\": 4.340952305313059}, {\"true\": 2.293333333333334, \"pred\": 2.4011317612445837}, {\"true\": 7.743333333333334, \"pred\": 5.387864165597116}, {\"true\": 3.361111111111111, \"pred\": 4.590347570475033}, {\"true\": 1.8833333333333366, \"pred\": 2.7638950388958374}, {\"true\": 3.4722222222222245, \"pred\": 4.525577171938212}, {\"true\": 0.0, \"pred\": 3.224620635554675}, {\"true\": 3.1095238095238105, \"pred\": 5.442243973082888}, {\"true\": 0.6733333333333335, \"pred\": 2.771391634179422}, {\"true\": 11.636666666666667, \"pred\": 7.159036574395986}, {\"true\": 8.012500000000001, \"pred\": 4.183808101290169}, {\"true\": 4.2738095238095255, \"pred\": 4.064240475021248}, {\"true\": 2.350000000000002, \"pred\": 2.6103587815082143}, {\"true\": 2.8444444444444508, \"pred\": 3.3536585767235976}, {\"true\": 4.300000000000004, \"pred\": 1.8941249277601457}, {\"true\": 3.933333333333332, \"pred\": 4.21825288283909}, {\"true\": 0.6555555555555531, \"pred\": 2.385586362343822}, {\"true\": 4.258333333333333, \"pred\": 3.874799999778599}, {\"true\": 7.250000000000001, \"pred\": 5.759021068708015}, {\"true\": 1.445833333333335, \"pred\": 5.7757844931765865}, {\"true\": 4.5958333333333385, \"pred\": 4.43287103407763}, {\"true\": 9.533333333333333, \"pred\": 8.512453126398373}, {\"true\": 1.466666666666668, \"pred\": 3.9826872969492295}, {\"true\": 1.458333333333328, \"pred\": 1.4273793603523466}, {\"true\": 6.479166666666667, \"pred\": 4.448579374771269}, {\"true\": 2.6416666666666613, \"pred\": 4.303818453544796}, {\"true\": 5.013888888888887, \"pred\": 4.5503362395858264}, {\"true\": 4.611111111111115, \"pred\": 4.547245820026404}, {\"true\": 2.4285714285714293, \"pred\": 2.759261416427066}, {\"true\": 3.8500000000000028, \"pred\": 3.4215147411205136}, {\"true\": 2.3595238095238105, \"pred\": 4.285356711815865}, {\"true\": 4.516666666666665, \"pred\": 3.4478924935832667}, {\"true\": 1.872916666666669, \"pred\": 2.707675114380758}, {\"true\": 8.662121212121212, \"pred\": 4.606636983758726}, {\"true\": 5.683333333333332, \"pred\": 3.9757322033019387}, {\"true\": 3.9, \"pred\": 3.08914080708032}, {\"true\": 7.291666666666666, \"pred\": 3.566130852908201}, {\"true\": 3.8125000000000027, \"pred\": 2.984740781646463}, {\"true\": 4.816666666666672, \"pred\": 5.5586688285026415}, {\"true\": 2.233333333333335, \"pred\": 3.3525323470411674}, {\"true\": 3.6916666666666718, \"pred\": 3.9779243055920235}, {\"true\": 6.911111111111116, \"pred\": 1.8771496771853649}, {\"true\": 5.785416666666668, \"pred\": 5.187682398235064}, {\"true\": 3.576666666666669, \"pred\": 4.324049141836929}, {\"true\": 1.6888888888888924, \"pred\": 3.1673885825334467}, {\"true\": 1.8916666666666668, \"pred\": 2.5568042248109513}, {\"true\": 2.7750000000000004, \"pred\": 3.3956142795223854}, {\"true\": 4.396296296296296, \"pred\": 4.299443408951793}, {\"true\": 4.75952380952381, \"pred\": 4.77626016443563}, {\"true\": 9.29666666666667, \"pred\": 5.535360852667632}, {\"true\": 5.945833333333331, \"pred\": 3.758574650681084}, {\"true\": 1.9666666666666879, \"pred\": 3.8193362557888757}, {\"true\": 2.619999999999998, \"pred\": 2.7590217250719586}, {\"true\": 2.100000000000004, \"pred\": 2.8865688463415093}, {\"true\": 6.054166666666667, \"pred\": 4.789175425845767}, {\"true\": 4.645000000000001, \"pred\": 3.024602862837021}, {\"true\": 3.8500000000000028, \"pred\": 3.191423300953646}, {\"true\": 4.653703703703702, \"pred\": 4.746401726897889}, {\"true\": 1.113333333333334, \"pred\": 3.5107116992923912}, {\"true\": 2.933333333333344, \"pred\": 3.6246030248689105}, {\"true\": 7.327471962526033e-15, \"pred\": 2.8404241171386415}, {\"true\": 1.1777777777777778, \"pred\": 4.373687853971043}, {\"true\": 4.099999999999998, \"pred\": 3.642467111856357}, {\"true\": 1.9916666666666667, \"pred\": 3.7639686184157464}, {\"true\": 0.9125000000000009, \"pred\": 2.5107456123335266}, {\"true\": 0.7277777777777837, \"pred\": 2.606497446063773}, {\"true\": 7.3433333333333355, \"pred\": 5.201013396577508}, {\"true\": 4.297916666666669, \"pred\": 3.523697066904673}, {\"true\": 1.250000000000004, \"pred\": 2.838568304066837}, {\"true\": 1.7277777777777812, \"pred\": 3.4330356466308385}, {\"true\": 4.426666666666668, \"pred\": 4.529948102139036}, {\"true\": 1.7763568394002505e-14, \"pred\": 2.0354227617961906}, {\"true\": 3.552713678800501e-15, \"pred\": 0.8922487206410047}, {\"true\": 5.765384615384615, \"pred\": 5.135038857691527}, {\"true\": 7.158333333333334, \"pred\": 4.275938609439945}, {\"true\": 7.892857142857144, \"pred\": 5.951531495624775}, {\"true\": 4.393333333333332, \"pred\": 4.871835172936634}, {\"true\": 2.566666666666673, \"pred\": 4.752050789571609}, {\"true\": 5.242857142857143, \"pred\": 3.575887092727948}, {\"true\": 1.6888888888888924, \"pred\": 2.8469296718554875}, {\"true\": 2.336666666666667, \"pred\": 3.2743338581969517}, {\"true\": 3.354166666666666, \"pred\": 3.483345494043089}, {\"true\": 3.6533333333333333, \"pred\": 2.797749929561073}, {\"true\": 3.8500000000000028, \"pred\": 3.701056270001281}, {\"true\": 2.4666666666666672, \"pred\": 2.6790077597466806}, {\"true\": 5.056666666666669, \"pred\": 3.5443396325551477}, {\"true\": 1.3400000000000007, \"pred\": 2.8793220741003323}, {\"true\": 7.511111111111112, \"pred\": 4.972818624763358}, {\"true\": 1.113333333333334, \"pred\": 2.723202617613068}, {\"true\": 15.100000000000003, \"pred\": 5.2374116005868325}, {\"true\": 4.67962962962963, \"pred\": 4.8215298853618584}, {\"true\": 4.458333333333335, \"pred\": 3.9534744264169452}, {\"true\": 1.383333333333333, \"pred\": 3.2966018409988243}, {\"true\": 6.529166666666669, \"pred\": 4.7641681709702945}, {\"true\": 0.5041666666666702, \"pred\": 4.157423691824754}, {\"true\": 4.650000000000002, \"pred\": 4.834025999200572}, {\"true\": 0.6291666666666649, \"pred\": 4.987500909157751}, {\"true\": 3.01904761904762, \"pred\": 3.973498143808976}, {\"true\": 2.7966666666666664, \"pred\": 2.633280774296691}, {\"true\": 3.6472222222222257, \"pred\": 4.194281794022504}, {\"true\": 9.939999999999998, \"pred\": 5.058268973356829}, {\"true\": 8.020833333333332, \"pred\": 5.398825909345301}, {\"true\": 6.919444444444445, \"pred\": 4.64094380241434}, {\"true\": 2.2404761904761905, \"pred\": 2.6917428366193756}, {\"true\": 3.550000000000001, \"pred\": 4.171274734204217}, {\"true\": 1.9666666666666879, \"pred\": 4.513066671864486}, {\"true\": 3.4119047619047618, \"pred\": 2.6937031641270393}, {\"true\": 5.070833333333335, \"pred\": 4.100991945416421}, {\"true\": 3.208333333333337, \"pred\": 3.9240531617620076}, {\"true\": 6.610000000000002, \"pred\": 2.1955147146853458}, {\"true\": 4.294444444444445, \"pred\": 5.106530081586979}, {\"true\": 0.0, \"pred\": 3.6474157594106917}, {\"true\": 2.375, \"pred\": 3.497054396133159}, {\"true\": 3.46875, \"pred\": 4.280089739136923}, {\"true\": 4.150000000000001, \"pred\": 3.768102215224359}, {\"true\": 3.56388888888889, \"pred\": 4.144027491482937}, {\"true\": 1.605555555555559, \"pred\": 2.1759648460700576}, {\"true\": 3.7416666666666685, \"pred\": 3.5653498080576225}, {\"true\": 5.865151515151515, \"pred\": 5.192686882385321}, {\"true\": 4.316666666666667, \"pred\": 5.962645544537856}, {\"true\": 4.342857142857143, \"pred\": 5.070652656108442}, {\"true\": 5.3233333333333315, \"pred\": 5.487034575728341}, {\"true\": 16.353333333333335, \"pred\": 7.41953082769498}, {\"true\": 5.865151515151515, \"pred\": 5.1177510244284665}, {\"true\": 4.880000000000001, \"pred\": 4.792522440237217}, {\"true\": 1.5291666666666637, \"pred\": 2.67174325422994}, {\"true\": 5.400000000000006, \"pred\": 3.1880837843576977}, {\"true\": 2.938095238095238, \"pred\": 4.165242324306171}, {\"true\": 6.819444444444444, \"pred\": 7.546791298905869}, {\"true\": 4.526190476190474, \"pred\": 4.821793411535981}, {\"true\": 3.1666666666666665, \"pred\": 3.82328259006265}, {\"true\": 7.783333333333342, \"pred\": 3.241084490385845}, {\"true\": 5.5916666666666694, \"pred\": 4.228590186051499}, {\"true\": 6.252777777777777, \"pred\": 3.2951282093383223}, {\"true\": 3.6958333333333315, \"pred\": 4.635953608875061}, {\"true\": 0.9041666666666648, \"pred\": 1.6878258996311262}, {\"true\": 0.0, \"pred\": 1.578496117693613}, {\"true\": 4.316666666666667, \"pred\": 5.7878770675028965}, {\"true\": 5.341666666666664, \"pred\": 4.466841864816587}, {\"true\": 3.2166666666666774, \"pred\": 5.646780337851545}, {\"true\": 3.572916666666668, \"pred\": 4.313893461229966}, {\"true\": 0.525, \"pred\": 3.4412602393975242}, {\"true\": 7.0583333333333345, \"pred\": 4.945984378119899}, {\"true\": 3.258333333333338, \"pred\": 2.9817242336883503}, {\"true\": 0.5433333333333344, \"pred\": 3.963758599567306}, {\"true\": 4.816666666666672, \"pred\": 5.050974808157161}, {\"true\": 6.383333333333337, \"pred\": 3.430763451050873}, {\"true\": 4.611111111111115, \"pred\": 5.056431616398769}, {\"true\": 1.2166666666666626, \"pred\": 2.618031211769904}, {\"true\": 4.927272727272729, \"pred\": 4.940505222054458}, {\"true\": 3.1300000000000012, \"pred\": 2.735114403480846}, {\"true\": 6.422222222222229, \"pred\": 5.017569749400565}, {\"true\": 1.377777777777778, \"pred\": 3.979334111387384}, {\"true\": 5.400000000000006, \"pred\": 3.7448066157035345}, {\"true\": 4.456666666666667, \"pred\": 3.1560507457953997}, {\"true\": 4.144444444444446, \"pred\": 3.986646108230159}, {\"true\": 4.988333333333333, \"pred\": 4.799599870976129}, {\"true\": 3.56111111111111, \"pred\": 3.7879034358240515}, {\"true\": 2.577777777777779, \"pred\": 4.732780245907779}, {\"true\": 2.6222222222222222, \"pred\": 2.5991370163379113}, {\"true\": 3.208333333333334, \"pred\": 3.576247743180489}, {\"true\": 4.311111111111112, \"pred\": 4.4465729267087735}, {\"true\": 4.880555555555559, \"pred\": 6.048366669723342}, {\"true\": 4.89, \"pred\": 5.049629247161577}, {\"true\": 1.2566666666666706, \"pred\": 2.5266000655271426}, {\"true\": 2.9847222222222225, \"pred\": 4.101937101418909}, {\"true\": 3.7111111111111117, \"pred\": 4.8788910329975295}, {\"true\": 1.6888888888888907, \"pred\": 1.7654747494910425}, {\"true\": 1.458333333333328, \"pred\": 1.9236726417587893}, {\"true\": 2.283333333333333, \"pred\": 3.1205218273994797}, {\"true\": 7.743333333333334, \"pred\": 5.80058915604183}, {\"true\": 1.1300000000000006, \"pred\": 2.8102383274399254}, {\"true\": 4.700000000000001, \"pred\": 4.584312715421524}, {\"true\": 2.994444444444445, \"pred\": 4.317194448962255}, {\"true\": 1.9777777777777796, \"pred\": 3.069007557368934}, {\"true\": 1.841666666666671, \"pred\": 1.3597916741753509}, {\"true\": 1.4500000000000017, \"pred\": 3.085782893489393}, {\"true\": 3.7000000000000215, \"pred\": 4.067885477658539}, {\"true\": 2.477777777777781, \"pred\": 3.186343691042162}, {\"true\": 8.645238095238096, \"pred\": 6.796225836760824}, {\"true\": 2.3595238095238105, \"pred\": 3.371240219986878}, {\"true\": 3.3687500000000012, \"pred\": 3.4654827771329164}, {\"true\": 3.055555555555555, \"pred\": 4.117682824226906}, {\"true\": 3.3875000000000015, \"pred\": 4.374797617313014}, {\"true\": 5.485416666666666, \"pred\": 4.794371152257983}, {\"true\": 3.7466666666666675, \"pred\": 3.61224774747515}, {\"true\": 1.3000000000000054, \"pred\": 4.284755888058168}, {\"true\": 8.738888888888889, \"pred\": 5.781223867031519}, {\"true\": 0.4583333333333333, \"pred\": 3.738508894152859}, {\"true\": 0.9833333333333386, \"pred\": 2.5000870312713737}, {\"true\": 7.452777777777778, \"pred\": 6.22498241441125}, {\"true\": 0.9666666666666773, \"pred\": 3.9548443020642026}, {\"true\": 4.27142857142857, \"pred\": 4.731758073927191}, {\"true\": 7.366666666666668, \"pred\": 4.090896582659442}, {\"true\": 0.894444444444448, \"pred\": 3.3703701166839837}, {\"true\": 2.841666666666664, \"pred\": 4.120013145311564}, {\"true\": 3.541666666666669, \"pred\": 3.2944120467156623}, {\"true\": 3.0111111111111097, \"pred\": 3.8105493782027247}, {\"true\": 6.566666666666679, \"pred\": 3.4946910396265927}, {\"true\": 5.96666666666667, \"pred\": 3.4972397466180314}, {\"true\": 1.2666666666666715, \"pred\": 3.2107154042863177}, {\"true\": 5.077083333333334, \"pred\": 5.217585948888044}, {\"true\": 5.200000000000009, \"pred\": 3.4560743880349105}, {\"true\": 4.683333333333344, \"pred\": 2.339788415706007}, {\"true\": 6.446666666666668, \"pred\": 5.378705750708152}, {\"true\": 1.1928571428571417, \"pred\": 2.2031150825917774}, {\"true\": 3.6285714285714294, \"pred\": 3.243034057070258}, {\"true\": 7.403333333333336, \"pred\": 4.646994299848036}, {\"true\": 7.97916666666667, \"pred\": 2.253944606888972}, {\"true\": 2.92142857142857, \"pred\": 4.085633661411081}, {\"true\": 3.055555555555561, \"pred\": 2.8846538272944726}, {\"true\": 2.1361111111111124, \"pred\": 2.1523952687419294}, {\"true\": 5.849999999999985, \"pred\": 2.665029602601078}, {\"true\": 2.1452380952380934, \"pred\": 5.156025456971562}, {\"true\": 7.6583333333333385, \"pred\": 4.34781133019782}, {\"true\": 1.1566666666666674, \"pred\": 4.088475728293445}, {\"true\": 0.0, \"pred\": 3.9856553175427476}, {\"true\": 3.1222222222222253, \"pred\": 3.2325212543149293}, {\"true\": 3.920833333333336, \"pred\": 4.173323095807585}, {\"true\": 1.377777777777778, \"pred\": 4.830623950181339}, {\"true\": 4.965277777777779, \"pred\": 4.3898196991444065}, {\"true\": 4.345833333333334, \"pred\": 4.822501743855305}, {\"true\": 2.787500000000005, \"pred\": 2.4261560781102163}, {\"true\": 1.550000000000005, \"pred\": 3.129573108706872}, {\"true\": 1.9539925233402755e-14, \"pred\": 3.844411870792947}, {\"true\": 4.136666666666667, \"pred\": 4.706021099039868}, {\"true\": 2.525000000000005, \"pred\": 3.228895886803308}, {\"true\": 7.96875, \"pred\": 6.812547663786713}, {\"true\": 6.916666666666663, \"pred\": 2.979440785381475}, {\"true\": 10.766666666666675, \"pred\": 5.192543974459109}, {\"true\": 6.43125, \"pred\": 4.463911418634157}, {\"true\": 3.258333333333334, \"pred\": 3.9694220672830647}, {\"true\": 0.0, \"pred\": 1.190761432410158}, {\"true\": 6.036666666666665, \"pred\": 4.997045537091375}, {\"true\": 4.841666666666661, \"pred\": 4.911943782527067}, {\"true\": 0.0, \"pred\": 2.8693353504980337}, {\"true\": 9.841666666666667, \"pred\": 8.894633649780788}, {\"true\": 4.549999999999998, \"pred\": 4.230498634167439}, {\"true\": 3.741666666666672, \"pred\": 4.043025783058423}, {\"true\": 6.605555555555557, \"pred\": 5.296966831295355}, {\"true\": 8.012500000000001, \"pred\": 4.097594639012582}, {\"true\": 4.391666666666676, \"pred\": 5.299534381212996}, {\"true\": 4.75, \"pred\": 3.96901665499262}, {\"true\": 5.240000000000002, \"pred\": 3.9968365731347655}, {\"true\": 8.311111111111112, \"pred\": 6.092371905833972}, {\"true\": 1.7611111111111135, \"pred\": 2.789343481229505}, {\"true\": 9.570000000000004, \"pred\": 4.893232622883549}, {\"true\": 3.241666666666671, \"pred\": 2.1905751990246562}, {\"true\": 5.942424242424243, \"pred\": 5.405990069858432}, {\"true\": 1.3633333333333375, \"pred\": 2.619513753738352}, {\"true\": 1.113333333333334, \"pred\": 3.445181777746784}, {\"true\": 5.497619047619049, \"pred\": 2.3214813686788767}, {\"true\": 3.3083333333333305, \"pred\": 3.7902310448180896}, {\"true\": 3.144444444444447, \"pred\": 2.835316350235272}, {\"true\": 8.223333333333338, \"pred\": 4.66432476322292}, {\"true\": 3.758333333333334, \"pred\": 3.560630947221363}, {\"true\": 2.525000000000005, \"pred\": 3.3403388072679476}, {\"true\": 7.366666666666668, \"pred\": 5.675444722044459}, {\"true\": 2.727777777777778, \"pred\": 3.7005828062119583}, {\"true\": 8.020833333333336, \"pred\": 7.0383001790765505}, {\"true\": 1.0699999999999978, \"pred\": 1.5014307166783043}, {\"true\": 3.1222222222222253, \"pred\": 2.992139348661212}, {\"true\": 1.2694444444444428, \"pred\": 2.635175827224638}, {\"true\": 1.7277777777777812, \"pred\": 3.6919893266569517}, {\"true\": 6.970370370370372, \"pred\": 5.903885199673617}, {\"true\": 2.4250000000000047, \"pred\": 2.8446623677487692}, {\"true\": 4.240277777777778, \"pred\": 4.242483763645729}, {\"true\": 5.27916666666667, \"pred\": 5.119416529257348}, {\"true\": 3.8666666666666694, \"pred\": 3.735404190850345}, {\"true\": 5.568518518518518, \"pred\": 4.940346154542372}, {\"true\": 3.0648148148148158, \"pred\": 3.8318442092602214}, {\"true\": 3.208333333333334, \"pred\": 3.747676216694826}, {\"true\": 1.0658141036401503e-14, \"pred\": 2.6521337069574202}, {\"true\": 15.100000000000003, \"pred\": 3.7107833480695946}, {\"true\": 7.300000000000002, \"pred\": 4.260756236699119}, {\"true\": 1.3277777777777777, \"pred\": 2.6970886019988924}, {\"true\": 3.111111111111114, \"pred\": 3.9988630305260435}, {\"true\": 4.011111111111111, \"pred\": 3.212180014747096}, {\"true\": 3.56, \"pred\": 4.920855795939306}, {\"true\": 3.5047619047619074, \"pred\": 3.592991628029765}, {\"true\": 4.150000000000001, \"pred\": 4.013613293525732}, {\"true\": 7.92037037037037, \"pred\": 8.114001454039867}, {\"true\": 2.6066666666666674, \"pred\": 3.592824260064204}, {\"true\": 0.0, \"pred\": 4.701995391776455}, {\"true\": 2.19375, \"pred\": 2.8696309203777965}, {\"true\": 3.150000000000004, \"pred\": 3.153482489558224}, {\"true\": 7.599999999999989, \"pred\": 2.4974208579599777}, {\"true\": 3.333333333333337, \"pred\": 5.554369818558837}, {\"true\": 6.94444444444445, \"pred\": 5.540515733622182}, {\"true\": 2.3833333333333333, \"pred\": 3.7373929891381437}, {\"true\": 2.516666666666669, \"pred\": 3.518312437173426}, {\"true\": 5.4559523809523816, \"pred\": 5.182742420851374}, {\"true\": 4.526190476190474, \"pred\": 4.728926708468988}, {\"true\": 5.106666666666671, \"pred\": 4.321089659426566}, {\"true\": 6.333333333333334, \"pred\": 5.058055653363862}, {\"true\": 1.7100000000000015, \"pred\": 3.0032421649416294}, {\"true\": 4.700000000000001, \"pred\": 4.109803606699805}, {\"true\": 8.311111111111112, \"pred\": 7.122570827322737}, {\"true\": 1.8666666666666685, \"pred\": 5.901064351098229}, {\"true\": 3.163333333333333, \"pred\": 2.6022912960321003}, {\"true\": 3.9749999999999996, \"pred\": 3.4711950712036392}, {\"true\": 4.57037037037037, \"pred\": 4.542277177339073}, {\"true\": 5.011666666666667, \"pred\": 5.119332002140063}, {\"true\": 6.566666666666677, \"pred\": 5.812402780619235}, {\"true\": 3.133333333333333, \"pred\": 4.157332491193471}, {\"true\": 4.422222222222223, \"pred\": 3.8851315484778177}, {\"true\": 0.36944444444444735, \"pred\": 2.605343068623165}, {\"true\": 0.6611111111111088, \"pred\": 2.3984463327856957}, {\"true\": 2.893333333333332, \"pred\": 3.8830603328241553}, {\"true\": 4.76666666666667, \"pred\": 4.541659442159665}, {\"true\": 3.7388888888888907, \"pred\": 2.477281400951642}, {\"true\": 0.6291666666666718, \"pred\": 2.4828919875047655}, {\"true\": 4.943333333333335, \"pred\": 4.153106318401561}, {\"true\": 0.9388888888888923, \"pred\": 3.1918161461016195}, {\"true\": 2.4037037037037043, \"pred\": 4.826145336298331}, {\"true\": 4.579166666666668, \"pred\": 5.16535533136806}, {\"true\": 5.280000000000001, \"pred\": 4.593044984879782}, {\"true\": 0.3933333333333326, \"pred\": 2.061225505955814}, {\"true\": 1.7611111111111135, \"pred\": 2.5378258929907194}, {\"true\": 2.5333333333333306, \"pred\": 2.5867442937314586}, {\"true\": 6.600000000000014, \"pred\": 5.613088318696549}, {\"true\": 3.158333333333336, \"pred\": 2.9003035760013307}, {\"true\": 4.570833333333337, \"pred\": 3.2037024642388134}, {\"true\": 5.329070518200751e-15, \"pred\": 3.1122861930883223}, {\"true\": 2.938095238095238, \"pred\": 3.9431894062887354}, {\"true\": 4.733333333333336, \"pred\": 5.64158417994331}, {\"true\": 4.575, \"pred\": 4.265632399885667}, {\"true\": 4.442592592592593, \"pred\": 4.27852477651546}, {\"true\": 3.1333333333333298, \"pred\": 3.840749032743944}, {\"true\": 1.600000000000006, \"pred\": 3.8074590288336547}, {\"true\": 6.577083333333334, \"pred\": 5.364235815116489}, {\"true\": 3.9333333333333336, \"pred\": 3.3063779967162206}, {\"true\": 1.0699999999999978, \"pred\": 1.757029395130814}, {\"true\": 3.1055555555555556, \"pred\": 3.468743429357417}, {\"true\": 3.361111111111111, \"pred\": 5.038382106383498}, {\"true\": 0.0, \"pred\": 3.1634058646711853}, {\"true\": 1.841666666666665, \"pred\": 2.711500372866104}, {\"true\": 2.9645833333333345, \"pred\": 4.202199887105858}, {\"true\": 11.323333333333334, \"pred\": 6.842014446570541}, {\"true\": 3.354166666666666, \"pred\": 3.646473148144716}, {\"true\": 3.4722222222222245, \"pred\": 4.611806922014288}, {\"true\": 0.0, \"pred\": 2.8868840892149135}, {\"true\": 2.336666666666667, \"pred\": 3.645141256220094}, {\"true\": 7.222222222222226, \"pred\": 5.275331029200275}, {\"true\": 5.600000000000006, \"pred\": 4.956215421516863}, {\"true\": 3.9312500000000012, \"pred\": 3.133308149694587}, {\"true\": 4.0625, \"pred\": 3.357561573247666}, {\"true\": 1.8833333333333386, \"pred\": 2.6072134729373753}, {\"true\": 2.229166666666671, \"pred\": 5.421852019483786}, {\"true\": 6.516666666666662, \"pred\": 4.944931966525711}, {\"true\": 1.2277777777777785, \"pred\": 3.165938086643604}, {\"true\": 5.324074074074075, \"pred\": 5.547069956276581}, {\"true\": 10.604166666666671, \"pred\": 5.51145057962562}, {\"true\": 7.427083333333332, \"pred\": 6.773770272631606}, {\"true\": 4.400000000000001, \"pred\": 4.614929480730913}, {\"true\": 2.8866666666666645, \"pred\": 3.4790468533904817}, {\"true\": 10.316666666666663, \"pred\": 5.359295391492307}, {\"true\": 6.40833333333334, \"pred\": 3.1445201214262184}, {\"true\": 0.6750000000000054, \"pred\": 3.3835524206354606}, {\"true\": 3.1133333333333355, \"pred\": 3.9035276237062346}, {\"true\": 1.377777777777778, \"pred\": 5.069811049718696}, {\"true\": 4.938888888888891, \"pred\": 4.595956864610807}, {\"true\": 3.788095238095239, \"pred\": 2.9120925354869795}, {\"true\": 6.033333333333336, \"pred\": 4.44956355323312}, {\"true\": 3.7600000000000007, \"pred\": 3.8895542919641937}, {\"true\": 8.112962962962964, \"pred\": 5.370921647013635}, {\"true\": 7.11851851851852, \"pred\": 4.506831023391987}, {\"true\": 3.6259259259259244, \"pred\": 4.104093921924987}, {\"true\": 4.397222222222223, \"pred\": 3.9425183143738325}, {\"true\": 4.458333333333335, \"pred\": 2.996181718491707}, {\"true\": 3.372916666666667, \"pred\": 3.334101818891636}, {\"true\": 3.372222222222225, \"pred\": 4.777729142039609}, {\"true\": 3.7000000000000215, \"pred\": 3.8498793478816644}, {\"true\": 3.2055555555555593, \"pred\": 3.3210529502616475}, {\"true\": 4.046666666666669, \"pred\": 3.5051167384794195}, {\"true\": 3.6666666666666665, \"pred\": 2.9363483754076767}, {\"true\": 3.945833333333334, \"pred\": 4.437542960043824}, {\"true\": 8.881784197001252e-15, \"pred\": 2.285111122215388}, {\"true\": 2.8166666666666664, \"pred\": 4.785263764474819}, {\"true\": 1.306666666666668, \"pred\": 2.4934852571903035}, {\"true\": 2.983333333333338, \"pred\": 3.8716741281350036}, {\"true\": 7.899999999999988, \"pred\": 4.066962188621875}, {\"true\": 2.9645833333333345, \"pred\": 3.3958319824213756}, {\"true\": 3.3875000000000015, \"pred\": 3.243644828664723}, {\"true\": 5.711111111111112, \"pred\": 4.799614563380158}, {\"true\": 4.766666666666684, \"pred\": 3.7958281792318167}, {\"true\": 1.7388888888888865, \"pred\": 3.2610962696166297}, {\"true\": 1.7750000000000115, \"pred\": 5.206655116336804}, {\"true\": 4.988888888888892, \"pred\": 2.9358890938765967}, {\"true\": 3.5272727272727282, \"pred\": 4.137394582763413}, {\"true\": 0.0, \"pred\": 2.5356050554570633}, {\"true\": 6.477777777777785, \"pred\": 4.933929067900436}, {\"true\": 3.8813725490196087, \"pred\": 3.861823082842459}, {\"true\": 3.568750000000002, \"pred\": 3.757441870265755}, {\"true\": 3.75, \"pred\": 3.870639645025423}, {\"true\": 2.088888888888886, \"pred\": 2.2249221484058928}, {\"true\": 3.545833333333335, \"pred\": 3.4571251215609844}, {\"true\": 1.6619047619047613, \"pred\": 4.3516428441244885}, {\"true\": 3.333333333333337, \"pred\": 4.566504456120844}, {\"true\": 4.485000000000002, \"pred\": 5.122532347686772}, {\"true\": 6.566666666666677, \"pred\": 6.382744823049533}, {\"true\": 4.9083333333333306, \"pred\": 4.895414642301748}, {\"true\": 2.744444444444445, \"pred\": 4.231741389284466}, {\"true\": 4.816666666666672, \"pred\": 3.343296078130347}, {\"true\": 8.495833333333335, \"pred\": 3.762585027673233}, {\"true\": 1.158333333333332, \"pred\": 2.851080160401033}, {\"true\": 3.2687500000000007, \"pred\": 5.073812556749803}, {\"true\": 4.790000000000001, \"pred\": 4.495617745354416}, {\"true\": 0.811111111111117, \"pred\": 1.878921972483983}, {\"true\": 4.150000000000001, \"pred\": 4.091338343435141}, {\"true\": 10.756666666666668, \"pred\": 8.849503168605349}, {\"true\": 7.075, \"pred\": 6.322266498143613}, {\"true\": 2.549999999999999, \"pred\": 4.146772148219206}, {\"true\": 1.9333333333333333, \"pred\": 2.4907447959257256}, {\"true\": 5.894444444444443, \"pred\": 2.006407635664142}, {\"true\": 2.4083333333333385, \"pred\": 3.2503512671007635}, {\"true\": 6.561111111111113, \"pred\": 3.731272781868168}, {\"true\": 3.1624999999999974, \"pred\": 3.3650022938267043}, {\"true\": 2.605555555555562, \"pred\": 3.75358884027623}, {\"true\": 5.438888888888889, \"pred\": 4.920483669133206}, {\"true\": 3.766666666666667, \"pred\": 3.986066290533395}, {\"true\": 3.2916666666666736, \"pred\": 2.0506767086196986}, {\"true\": 0.525, \"pred\": 3.033808889609743}, {\"true\": 0.5722222222222222, \"pred\": 1.4599261392701883}, {\"true\": 0.5250000000000089, \"pred\": 2.2405712886353837}, {\"true\": 4.104761904761906, \"pred\": 3.3958117581189318}, {\"true\": 0.6555555555555531, \"pred\": 2.3305158546945837}, {\"true\": 2.166666666666668, \"pred\": 2.3941203599820833}, {\"true\": 7.605555555555556, \"pred\": 3.0347434548498504}, {\"true\": 1.516666666666663, \"pred\": 2.4068029899320273}, {\"true\": 4.8083333333333425, \"pred\": 4.695668213892235}, {\"true\": 3.1300000000000017, \"pred\": 3.9854363897367366}, {\"true\": 2.9055555555555532, \"pred\": 5.378661542852794}, {\"true\": 4.355555555555561, \"pred\": 4.289975960271291}, {\"true\": 2.5777777777777784, \"pred\": 3.0578851373039275}, {\"true\": 3.316666666666663, \"pred\": 3.226888282255562}, {\"true\": 2.3555555555555623, \"pred\": 3.156717864686492}, {\"true\": 4.972222222222223, \"pred\": 4.90064605143877}, {\"true\": 3.696666666666668, \"pred\": 3.3380620248273347}, {\"true\": 5.699999999999998, \"pred\": 3.974122581274737}, {\"true\": 5.236666666666667, \"pred\": 3.2739705137016184}, {\"true\": 3.572916666666668, \"pred\": 4.015468665737464}, {\"true\": 4.729166666666667, \"pred\": 3.9859287816779747}, {\"true\": 3.083333333333337, \"pred\": 2.5246436861732824}, {\"true\": 1.829166666666668, \"pred\": 2.7769773898300043}, {\"true\": 4.79166666666667, \"pred\": 3.821107884700416}, {\"true\": 6.330555555555557, \"pred\": 3.9172770584477954}, {\"true\": 0.0, \"pred\": 4.574822325050318}, {\"true\": 5.855555555555557, \"pred\": 4.972137923296334}, {\"true\": 2.600000000000007, \"pred\": 3.835284687759333}, {\"true\": 1.866666666666665, \"pred\": 3.811211573553946}, {\"true\": 0.43333333333334045, \"pred\": 2.8441304877123694}, {\"true\": 2.050000000000004, \"pred\": 2.554158309465964}, {\"true\": 4.095833333333335, \"pred\": 3.867822013848398}, {\"true\": 4.841666666666669, \"pred\": 4.37733413974142}, {\"true\": 0.0, \"pred\": 2.44374115983391}, {\"true\": 6.33, \"pred\": 4.764154503582384}, {\"true\": 3.6404761904761913, \"pred\": 3.659857114756237}, {\"true\": 5.070833333333334, \"pred\": 4.871102445729678}, {\"true\": 3.758333333333335, \"pred\": 3.662863260375838}, {\"true\": 1.0416666666666667, \"pred\": 3.299409571871061}, {\"true\": 2.855555555555562, \"pred\": 3.613024234657305}, {\"true\": 4.593749999999998, \"pred\": 4.263243491087153}, {\"true\": 4.611111111111115, \"pred\": 5.057907469484623}, {\"true\": 3.1095238095238105, \"pred\": 3.7894782677225076}, {\"true\": 4.226190476190477, \"pred\": 3.9221166310531475}, {\"true\": 1.86666666666667, \"pred\": 2.9170938442530225}, {\"true\": 5.897222222222226, \"pred\": 5.456395253152672}, {\"true\": 2.383333333333337, \"pred\": 3.4874822209336056}, {\"true\": 4.306944444444445, \"pred\": 4.34753890819129}, {\"true\": 2.336666666666667, \"pred\": 3.5758671483448228}, {\"true\": 3.8125000000000027, \"pred\": 4.058862690750193}, {\"true\": 3.0990740740740748, \"pred\": 3.950708283333473}, {\"true\": 4.208333333333335, \"pred\": 4.50525835690764}, {\"true\": 3.1133333333333355, \"pred\": 1.734415702201956}, {\"true\": 3.006666666666668, \"pred\": 3.2700524823525736}, {\"true\": 2.7866666666666666, \"pred\": 4.78322838677794}, {\"true\": 3.7861111111111114, \"pred\": 4.444600936939844}, {\"true\": 3.333333333333337, \"pred\": 4.231619303184027}, {\"true\": 7.594444444444448, \"pred\": 6.637161574898919}, {\"true\": 5.64999999999999, \"pred\": 3.1649004304488186}, {\"true\": 3.85, \"pred\": 3.207707989463525}, {\"true\": 5.340476190476191, \"pred\": 3.9727813543666937}, {\"true\": 7.250000000000003, \"pred\": 3.838084598670188}, {\"true\": 5.005555555555552, \"pred\": 3.758261517242032}, {\"true\": 1.1466666666666674, \"pred\": 2.4285524345764364}, {\"true\": 3.358333333333335, \"pred\": 3.861371852494439}, {\"true\": 1.99444444444445, \"pred\": 2.4081297833921833}, {\"true\": 6.166666666666671, \"pred\": 3.5513188589387283}, {\"true\": 4.0958333333333385, \"pred\": 5.061579914606972}, {\"true\": 3.983333333333351, \"pred\": 4.314969429783332}, {\"true\": 0.9966666666666683, \"pred\": 1.8917912047728664}, {\"true\": 4.20897435897436, \"pred\": 4.034912778805218}, {\"true\": 2.6291666666666664, \"pred\": 2.5959729428971796}, {\"true\": 8.308333333333334, \"pred\": 4.552679792211158}, {\"true\": 0.0, \"pred\": 4.0683638223372975}, {\"true\": 3.645238095238096, \"pred\": 4.15301543655788}, {\"true\": 0.41111111111111825, \"pred\": 3.255577325713663}, {\"true\": 3.920833333333336, \"pred\": 4.2249792824169266}, {\"true\": 3.552713678800501e-15, \"pred\": 2.8235547384888937}, {\"true\": 2.3694444444444445, \"pred\": 3.8323075551563783}, {\"true\": 5.711111111111112, \"pred\": 4.868946682150391}, {\"true\": 0.9800000000000011, \"pred\": 3.957809068115077}, {\"true\": 0.8388888888888957, \"pred\": 2.9578006704019164}, {\"true\": 8.645238095238096, \"pred\": 4.495961068822213}, {\"true\": 8.561904761904762, \"pred\": 4.366261626842399}, {\"true\": 0.9800000000000036, \"pred\": 2.3055910743014385}, {\"true\": 3.361111111111111, \"pred\": 4.48924614053572}, {\"true\": 5.765384615384615, \"pred\": 4.877817751251057}, {\"true\": 3.2166666666666774, \"pred\": 6.2097129432392215}, {\"true\": 0.39333333333333187, \"pred\": 2.592784985346387}, {\"true\": 4.858333333333335, \"pred\": 4.171160933555921}, {\"true\": 1.3690476190476202, \"pred\": 3.725802434424908}, {\"true\": 3.5166666666666675, \"pred\": 3.6582247681326727}, {\"true\": 3.1133333333333355, \"pred\": 3.8969745311620865}, {\"true\": 3.933333333333332, \"pred\": 4.410857900374876}, {\"true\": 2.8263888888888893, \"pred\": 3.169731250165663}, {\"true\": 7.040000000000001, \"pred\": 5.784706518732241}, {\"true\": 1.195833333333335, \"pred\": 2.361416611561947}, {\"true\": 2.1595238095238103, \"pred\": 2.527190589178753}, {\"true\": 2.5555555555555554, \"pred\": 3.739719628689416}, {\"true\": 4.866666666666663, \"pred\": 4.751236071958914}, {\"true\": 2.356250000000001, \"pred\": 2.7754915382075085}, {\"true\": 5.811111111111117, \"pred\": 5.197458461728356}, {\"true\": 4.288888888888889, \"pred\": 4.019507473607774}, {\"true\": 5.036666666666669, \"pred\": 4.756100603431754}, {\"true\": 1.383333333333336, \"pred\": 2.134011002761739}, {\"true\": 2.012500000000001, \"pred\": 3.7350315790090827}, {\"true\": 7.633333333333353, \"pred\": 5.176188526467819}, {\"true\": 0.9800000000000036, \"pred\": 2.408090601653954}, {\"true\": 4.358333333333334, \"pred\": 4.5609824200866464}, {\"true\": 1.3000000000000071, \"pred\": 3.844176471775945}, {\"true\": 2.03888888888889, \"pred\": 2.967983260942075}, {\"true\": 3.733333333333333, \"pred\": 2.48984185123901}, {\"true\": 4.964285714285717, \"pred\": 4.160666028694396}, {\"true\": 6.958333333333336, \"pred\": 2.454141949286704}, {\"true\": 5.6833333333333345, \"pred\": 4.613778053235844}, {\"true\": 2.5600000000000036, \"pred\": 3.1736370826159845}, {\"true\": 4.965277777777779, \"pred\": 5.019587249374738}, {\"true\": 2.100000000000004, \"pred\": 3.9560770016991067}, {\"true\": 3.8125000000000027, \"pred\": 3.032134733422102}, {\"true\": 2.0666666666666633, \"pred\": 3.261989622319988}, {\"true\": 3.908333333333328, \"pred\": 2.5757426825762377}, {\"true\": 3.529166666666664, \"pred\": 5.249315693352832}, {\"true\": 4.822222222222227, \"pred\": 4.320793794069761}, {\"true\": 5.568518518518518, \"pred\": 4.93175679989706}, {\"true\": 3.9, \"pred\": 3.3771090827377037}, {\"true\": 2.1583333333333385, \"pred\": 4.875013773265223}, {\"true\": 11.418750000000001, \"pred\": 10.152840861519099}, {\"true\": 3.297619047619047, \"pred\": 3.651910773665457}, {\"true\": 1.9972222222222256, \"pred\": 4.437171764487997}, {\"true\": 1.7899999999999985, \"pred\": 3.919148319941667}, {\"true\": 5.180952380952381, \"pred\": 5.234898826098365}, {\"true\": 7.033333333333337, \"pred\": 4.94943203003665}, {\"true\": 13.111111111111112, \"pred\": 9.411257678863727}, {\"true\": 4.1000000000000005, \"pred\": 4.239706633555703}, {\"true\": 5.324999999999997, \"pred\": 3.633477780181197}, {\"true\": 3.083333333333337, \"pred\": 3.087303410739085}, {\"true\": 0.0, \"pred\": 1.8325464275371433}, {\"true\": 3.9333333333333345, \"pred\": 4.019596254064468}, {\"true\": 3.550000000000001, \"pred\": 3.3835001116964274}, {\"true\": 4.174999999999998, \"pred\": 4.789049619895312}, {\"true\": 4.5958333333333385, \"pred\": 3.9874879370378435}, {\"true\": 3.295238095238095, \"pred\": 4.035373886022549}, {\"true\": 2.3111111111111136, \"pred\": 3.54858921191406}, {\"true\": 0.7900000000000021, \"pred\": 3.0700880636133783}, {\"true\": 4.026666666666668, \"pred\": 3.9415530854389713}, {\"true\": 2.547619047619049, \"pred\": 4.366442038058182}, {\"true\": 0.0, \"pred\": 4.081172840345288}, {\"true\": 1.3500000000000179, \"pred\": 2.802446959295744}, {\"true\": 3.908333333333328, \"pred\": 2.302544845236238}, {\"true\": 3.1880952380952396, \"pred\": 3.941098144156235}, {\"true\": 2.1111111111111076, \"pred\": 2.333174717094272}, {\"true\": 4.03809523809524, \"pred\": 3.381291758679258}, {\"true\": 7.829166666666669, \"pred\": 3.802803357997909}, {\"true\": 3.01904761904762, \"pred\": 3.1519802149354565}, {\"true\": 5.5416666666666705, \"pred\": 5.111614777244154}, {\"true\": 5.735416666666668, \"pred\": 3.643354531157351}, {\"true\": 4.53333333333334, \"pred\": 4.870370517969429}, {\"true\": 3.7257575757575765, \"pred\": 3.2496831516482247}, {\"true\": 2.0866666666666696, \"pred\": 3.5390884305374555}, {\"true\": 4.545833333333333, \"pred\": 4.173921559969913}, {\"true\": 3.1583333333333337, \"pred\": 4.222091160881696}, {\"true\": 6.330555555555557, \"pred\": 5.068173242002288}, {\"true\": 3.2166666666666686, \"pred\": 2.867187739127442}, {\"true\": 1.6166666666666543, \"pred\": 2.566728155458837}, {\"true\": 5.019999999999998, \"pred\": 4.641373291548079}, {\"true\": 1.950000000000001, \"pred\": 2.1971032271000563}, {\"true\": 3.208333333333334, \"pred\": 4.560952434793859}, {\"true\": 5.773159728050814e-15, \"pred\": 3.5042322873426603}, {\"true\": 1.952777777777779, \"pred\": 2.870846418052661}, {\"true\": 0.0, \"pred\": 2.879932889170399}, {\"true\": 2.920833333333335, \"pred\": 3.2262922431960583}, {\"true\": 5.297619047619046, \"pred\": 4.033791480008301}, {\"true\": 7.894444444444446, \"pred\": 4.781721895423581}, {\"true\": 4.333333333333337, \"pred\": 3.686614373103503}, {\"true\": 0.0, \"pred\": 1.9301183999458937}, {\"true\": 5.090476190476191, \"pred\": 4.63672023604443}, {\"true\": 4.066666666666667, \"pred\": 4.4442360616542995}, {\"true\": 3.0729166666666674, \"pred\": 4.061674724620603}, {\"true\": 5.597916666666666, \"pred\": 4.812074245508102}, {\"true\": 3.5166666666666675, \"pred\": 5.020904453835438}, {\"true\": 2.356249999999999, \"pred\": 3.1160822903995555}, {\"true\": 5.96666666666667, \"pred\": 5.0624031546867805}, {\"true\": 3.766666666666667, \"pred\": 3.768803498913357}, {\"true\": 6.012500000000001, \"pred\": 3.9755266791476993}, {\"true\": 4.1433333333333335, \"pred\": 3.5902861137582445}, {\"true\": 1.3899999999999992, \"pred\": 3.761583144583559}, {\"true\": 3.552713678800501e-15, \"pred\": 1.2561944970047316}, {\"true\": 5.4559523809523816, \"pred\": 5.176640598723554}, {\"true\": 5.604761904761905, \"pred\": 5.615306294508911}, {\"true\": 3.8854166666666674, \"pred\": 4.413926604702466}, {\"true\": 2.613888888888889, \"pred\": 2.6404810098716793}, {\"true\": 4.8083333333333425, \"pred\": 3.5714377265895974}, {\"true\": 3.7466666666666675, \"pred\": 4.844307590768228}, {\"true\": 3.9299999999999984, \"pred\": 2.3200926653484935}, {\"true\": 3.0194444444444457, \"pred\": 3.4450627877877915}, {\"true\": 1.0555555555555591, \"pred\": 3.730121712607114}, {\"true\": 8.533333333333344, \"pred\": 3.7197857086400705}, {\"true\": 3.733333333333334, \"pred\": 4.555520530850631}, {\"true\": 2.3800000000000034, \"pred\": 5.818969291914907}, {\"true\": 5.127083333333336, \"pred\": 5.112832731442088}, {\"true\": 5.71666666666667, \"pred\": 2.9687014869679436}, {\"true\": 6.819444444444444, \"pred\": 4.720596165576951}, {\"true\": 0.32222222222221986, \"pred\": 2.7028818646976878}, {\"true\": 13.111111111111112, \"pred\": 6.449140333204042}, {\"true\": 0.0, \"pred\": 1.4822886968860682}, {\"true\": 5.012500000000001, \"pred\": 4.721661779218116}, {\"true\": 7.196296296296294, \"pred\": 6.137205933751792}, {\"true\": 2.633333333333343, \"pred\": 2.401506480005217}, {\"true\": 3.46875, \"pred\": 3.530885212914302}, {\"true\": 4.023809523809525, \"pred\": 3.819556323059709}, {\"true\": 2.983333333333336, \"pred\": 3.8620735928574534}, {\"true\": 3.8314814814814815, \"pred\": 3.503921111593618}, {\"true\": 4.150000000000001, \"pred\": 6.340247406747551}, {\"true\": 5.797222222222221, \"pred\": 4.643227702353834}, {\"true\": 8.09761904761905, \"pred\": 3.69817780626788}, {\"true\": 0.700000000000006, \"pred\": 2.478038896131619}, {\"true\": 6.330555555555557, \"pred\": 4.8751103236573545}, {\"true\": 4.240277777777778, \"pred\": 4.198515053339002}, {\"true\": 2.3000000000000007, \"pred\": 2.8936829218701763}, {\"true\": 2.4944444444444467, \"pred\": 2.3148869586936165}, {\"true\": 5.233333333333334, \"pred\": 4.840731373085804}, {\"true\": 3.055555555555555, \"pred\": 4.640482076827788}, {\"true\": 3.7619047619047628, \"pred\": 3.606502251063433}, {\"true\": 1.383333333333336, \"pred\": 2.0601671782269215}, {\"true\": 6.5000000000000036, \"pred\": 4.167738849325525}, {\"true\": 4.300000000000004, \"pred\": 2.672887632788503}, {\"true\": 5.329166666666666, \"pred\": 4.203231006376332}, {\"true\": 4.8625000000000025, \"pred\": 5.043475549629158}, {\"true\": 5.466666666666664, \"pred\": 4.0041570132765285}, {\"true\": 1.6291666666666667, \"pred\": 3.114489418542578}, {\"true\": 5.341666666666664, \"pred\": 4.280398979433899}, {\"true\": 7.030952380952383, \"pred\": 5.2317525688387745}, {\"true\": 7.866666666666663, \"pred\": 3.9442036809460457}, {\"true\": 2.633333333333343, \"pred\": 2.7806563135551974}, {\"true\": 4.971428571428572, \"pred\": 4.360325808594286}, {\"true\": 0.0, \"pred\": 2.66662040431712}, {\"true\": 0.48333333333333334, \"pred\": 3.100789755604306}, {\"true\": 1.3333333333333304, \"pred\": 4.313418047744196}, {\"true\": 4.454761904761907, \"pred\": 4.299420034096715}, {\"true\": 3.2888888888888896, \"pred\": 3.937537624431881}, {\"true\": 5.2738095238095255, \"pred\": 4.512463036695331}, {\"true\": 2.050000000000004, \"pred\": 2.7186003278378172}, {\"true\": 4.611111111111115, \"pred\": 5.002183219683675}, {\"true\": 3.7407407407407414, \"pred\": 3.8055848377477175}, {\"true\": 4.048333333333334, \"pred\": 4.525893597755588}, {\"true\": 2.916666666666668, \"pred\": 3.6093096322870095}, {\"true\": 1.6566666666666674, \"pred\": 3.390876753882897}, {\"true\": 2.0400000000000036, \"pred\": 5.710380384220119}, {\"true\": 2.277777777777779, \"pred\": 3.6185697154285994}, {\"true\": 3.6388888888888893, \"pred\": 3.9375907519438593}, {\"true\": 2.3233333333333333, \"pred\": 2.435667366575615}, {\"true\": 10.67051282051282, \"pred\": 7.80643161007205}, {\"true\": 3.1333333333333315, \"pred\": 4.589909165043351}, {\"true\": 1.600000000000006, \"pred\": 4.187417421307759}, {\"true\": 4.841666666666669, \"pred\": 4.760006313456037}, {\"true\": 4.5777777777777775, \"pred\": 4.414682543562071}, {\"true\": 4.445454545454545, \"pred\": 4.573752522956639}, {\"true\": 2.6750000000000025, \"pred\": 3.218702457594798}, {\"true\": 3.56, \"pred\": 4.615911724446221}, {\"true\": 1.9937500000000001, \"pred\": 3.0788321241133962}, {\"true\": 1.1733333333333373, \"pred\": 2.5990846783635324}, {\"true\": 0.0, \"pred\": 2.0113628923730364}, {\"true\": 1.0666666666666773, \"pred\": 3.038223834511195}, {\"true\": 5.008333333333334, \"pred\": 5.35391904220904}, {\"true\": 1.829166666666671, \"pred\": 2.783098384681395}, {\"true\": 2.783333333333332, \"pred\": 2.1532386482145736}, {\"true\": 5.540000000000001, \"pred\": 4.17813191654809}, {\"true\": 0.9833333333333347, \"pred\": 4.517431669642378}, {\"true\": 6.33, \"pred\": 5.744354747015817}, {\"true\": 3.8000000000000003, \"pred\": 3.554343076514811}, {\"true\": 6.479166666666667, \"pred\": 4.26150451856022}, {\"true\": 4.241666666666667, \"pred\": 4.091984069000657}, {\"true\": 5.704166666666668, \"pred\": 3.2119451838678232}, {\"true\": 13.575000000000001, \"pred\": 4.581899480806403}, {\"true\": 6.2, \"pred\": 3.918516828994573}, {\"true\": 5.633333333333323, \"pred\": 3.447486732860931}, {\"true\": 2.3722222222222245, \"pred\": 5.1684232698721555}, {\"true\": 3.75, \"pred\": 3.991101416929921}, {\"true\": 9.06969696969697, \"pred\": 8.48461303999819}, {\"true\": 3.733333333333333, \"pred\": 4.653826927347128}, {\"true\": 3.783333333333335, \"pred\": 4.2148012042232015}, {\"true\": 3.1624999999999974, \"pred\": 2.709760491960625}, {\"true\": 2.416666666666669, \"pred\": 2.7936774263689688}, {\"true\": 1.3291666666666684, \"pred\": 4.105477404844652}, {\"true\": 10.200000000000017, \"pred\": 5.644386993881143}, {\"true\": 5.090476190476191, \"pred\": 5.099513661643086}, {\"true\": 1.3899999999999992, \"pred\": 3.1972487912404146}, {\"true\": 4.987037037037037, \"pred\": 4.23086482587599}, {\"true\": 4.6166666666666725, \"pred\": 3.434753133826866}, {\"true\": 5.270833333333336, \"pred\": 4.991695395197346}, {\"true\": 3.083333333333337, \"pred\": 3.385928848064921}, {\"true\": 7.605555555555556, \"pred\": 3.1197740719301326}, {\"true\": 1.358333333333336, \"pred\": 4.316619224805631}, {\"true\": 5.696666666666668, \"pred\": 3.9129674577339224}, {\"true\": 4.340000000000001, \"pred\": 5.004262377467957}, {\"true\": 4.7250000000000085, \"pred\": 3.3360924714816687}, {\"true\": 1.606666666666671, \"pred\": 2.623079843901159}, {\"true\": 4.316666666666667, \"pred\": 4.149064424157584}, {\"true\": 0.8000000000000013, \"pred\": 3.803693025510374}, {\"true\": 6.396666666666668, \"pred\": 5.184510134513083}, {\"true\": 2.970833333333336, \"pred\": 4.572108112747417}, {\"true\": 5.596666666666667, \"pred\": 4.163315283860234}, {\"true\": 4.9222222222222225, \"pred\": 5.2146180415537415}, {\"true\": 5.897619047619051, \"pred\": 5.039283040589966}, {\"true\": 0.9541666666666694, \"pred\": 2.547231927798803}, {\"true\": 2.21, \"pred\": 3.0372568808394553}, {\"true\": 2.766666666666668, \"pred\": 3.2503018070512764}, {\"true\": 5.699999999999998, \"pred\": 2.9947527437682115}, {\"true\": 10.85416666666667, \"pred\": 5.667482637083395}, {\"true\": 2.586666666666671, \"pred\": 3.4331339530174514}, {\"true\": 3.870000000000002, \"pred\": 3.3875387061583466}, {\"true\": 4.454761904761907, \"pred\": 4.312805262598434}, {\"true\": 2.4214285714285713, \"pred\": 2.694334120717219}, {\"true\": 3.150000000000004, \"pred\": 2.767489190308971}, {\"true\": 7.553703703703704, \"pred\": 7.887337816244958}, {\"true\": 4.190476190476192, \"pred\": 4.905062712281932}, {\"true\": 0.6916666666666613, \"pred\": 3.3571843024372887}, {\"true\": 5.036666666666669, \"pred\": 4.936952106486738}, {\"true\": 6.381250000000001, \"pred\": 5.457177064955298}, {\"true\": 4.456666666666667, \"pred\": 3.2563236615120164}, {\"true\": 0.9666666666666667, \"pred\": 3.718543318806344}, {\"true\": 3.9, \"pred\": 3.001682367955499}, {\"true\": 7.39666666666667, \"pred\": 2.994227717114768}, {\"true\": 1.658333333333335, \"pred\": 2.266154054848136}, {\"true\": 7.535416666666667, \"pred\": 10.332905042686887}, {\"true\": 8.400000000000011, \"pred\": 2.856782017875301}, {\"true\": 14.325000000000003, \"pred\": 12.279389687259403}, {\"true\": 2.0166666666666684, \"pred\": 3.468482752229013}, {\"true\": 4.533333333333335, \"pred\": 4.1240051580488695}, {\"true\": 8.76875, \"pred\": 6.004882833491055}, {\"true\": 6.396666666666668, \"pred\": 5.496494494065685}, {\"true\": 3.9452380952380985, \"pred\": 4.185607610711852}, {\"true\": 8.56666666666666, \"pred\": 2.3849359021462124}, {\"true\": 4.369444444444445, \"pred\": 3.2885013448242715}, {\"true\": 1.377777777777778, \"pred\": 4.882569661624186}, {\"true\": 2.5777777777777833, \"pred\": 6.053466220994175}, {\"true\": 1.949999999999993, \"pred\": 3.1708337802879423}, {\"true\": 1.7763568394002505e-14, \"pred\": 6.2829895902802955}, {\"true\": 4.5166666666666675, \"pred\": 4.75707124205479}, {\"true\": 7.250000000000003, \"pred\": 3.562570477990832}, {\"true\": 6.116666666666667, \"pred\": 5.01444412574882}, {\"true\": 5.04814814814815, \"pred\": 4.6996171938506475}, {\"true\": 2.577777777777779, \"pred\": 2.992754697370845}, {\"true\": 3.0111111111111097, \"pred\": 4.031839515938315}, {\"true\": 5.004166666666666, \"pred\": 3.262176084719918}, {\"true\": 1.3833333333333513, \"pred\": 3.6731305681969624}, {\"true\": 8.351666666666668, \"pred\": 5.559639173424865}, {\"true\": 3.7861111111111114, \"pred\": 4.315611196882231}, {\"true\": 8.541666666666675, \"pred\": 4.483196346207684}, {\"true\": 5.702777777777779, \"pred\": 4.9120850119665675}, {\"true\": 2.6, \"pred\": 2.6459803275817175}, {\"true\": 5.561111111111111, \"pred\": 4.414922475020042}, {\"true\": 7.366666666666668, \"pred\": 3.216222192649467}, {\"true\": 0.4833333333333422, \"pred\": 3.6246202514865353}, {\"true\": 4.99047619047619, \"pred\": 4.452184258752508}, {\"true\": 6.56111111111111, \"pred\": 4.9123064410349775}, {\"true\": 3.0111111111111097, \"pred\": 3.7937382308368113}, {\"true\": 3.490000000000004, \"pred\": 2.9330323589976426}, {\"true\": 1.2583333333333333, \"pred\": 3.4301679243800423}, {\"true\": 1.3833333333333393, \"pred\": 2.4463744213762872}, {\"true\": 1.113333333333334, \"pred\": 3.283173473097319}, {\"true\": 3.5750000000000015, \"pred\": 3.4106570759967023}, {\"true\": 0.4055555555555585, \"pred\": 3.7205799474687735}, {\"true\": 2.744444444444445, \"pred\": 3.8413900925641027}, {\"true\": 10.200000000000017, \"pred\": 6.6918132155189145}, {\"true\": 2.983333333333336, \"pred\": 5.510195287509507}, {\"true\": 1.5500000000000018, \"pred\": 3.907637002302773}, {\"true\": 4.372916666666669, \"pred\": 4.582579965467559}, {\"true\": 7.787037037037038, \"pred\": 5.885567776921585}, {\"true\": 5.266666666666667, \"pred\": 4.93613679025404}, {\"true\": 2.283333333333342, \"pred\": 2.212760508168193}, {\"true\": 3.645833333333334, \"pred\": 2.769295833462896}, {\"true\": 1.5499999999999998, \"pred\": 2.8554730926487935}, {\"true\": 6.715000000000001, \"pred\": 4.646319847630382}, {\"true\": 2.3685185185185182, \"pred\": 3.293353768399616}, {\"true\": 7.586111111111113, \"pred\": 3.0041611851961068}, {\"true\": 1.6958333333333344, \"pred\": 2.6643523848667363}, {\"true\": 2.0433333333333357, \"pred\": 2.735635096545522}, {\"true\": 2.2772727272727273, \"pred\": 3.4406102213612977}, {\"true\": 1.8000000000000014, \"pred\": 4.880333998386866}, {\"true\": 1.8277777777777837, \"pred\": 3.240175515834342}, {\"true\": 4.993333333333331, \"pred\": 6.627308570472662}, {\"true\": 4.416666666666665, \"pred\": 2.858080019260449}, {\"true\": 6.705555555555557, \"pred\": 5.639424222129711}, {\"true\": 1.9361111111111118, \"pred\": 2.6381046705874787}, {\"true\": 2.100000000000004, \"pred\": 4.654349627382314}, {\"true\": 10.508333333333331, \"pred\": 8.232169013585212}, {\"true\": 2.319047619047619, \"pred\": 4.990152523462958}, {\"true\": 2.0500000000000034, \"pred\": 3.232707236667519}, {\"true\": 3.7407407407407414, \"pred\": 3.3571306785943658}, {\"true\": 3.8900000000000015, \"pred\": 4.099512910407113}, {\"true\": 3.316666666666664, \"pred\": 4.395537729673288}, {\"true\": 4.562500000000005, \"pred\": 3.818617240291494}, {\"true\": 3.4883333333333333, \"pred\": 5.353968074196695}, {\"true\": 1.48611111111111, \"pred\": 3.7470229602909946}, {\"true\": 5.104166666666671, \"pred\": 3.758001922002264}, {\"true\": 1.0658141036401503e-14, \"pred\": 2.913818886701646}, {\"true\": 2.566666666666673, \"pred\": 2.8889145279765884}, {\"true\": 2.855555555555562, \"pred\": 4.0119184693903405}, {\"true\": 5.041666666666672, \"pred\": 3.746324348165627}, {\"true\": 2.7833333333333363, \"pred\": 3.6545348768751684}, {\"true\": 4.104166666666666, \"pred\": 3.7342202230583426}, {\"true\": 4.547222222222226, \"pred\": 2.966783450933711}, {\"true\": 3.2555555555555586, \"pred\": 3.811398879088682}, {\"true\": 5.15625, \"pred\": 4.128870585144621}, {\"true\": 7.6833333333333265, \"pred\": 2.552740414759823}, {\"true\": 1.0611111111111176, \"pred\": 4.261131811271298}, {\"true\": 5.550000000000001, \"pred\": 5.26130531365943}, {\"true\": 2.4944444444444476, \"pred\": 3.4692788061313284}, {\"true\": 3.8708333333333336, \"pred\": 3.6145523191053885}, {\"true\": 2.788888888888889, \"pred\": 2.9937623420125665}, {\"true\": 2.0138888888888897, \"pred\": 3.0009376222200888}, {\"true\": 4.972222222222223, \"pred\": 4.877746787494847}, {\"true\": 3.9749999999999996, \"pred\": 3.941638749754502}, {\"true\": 8.09761904761905, \"pred\": 4.005930738518859}, {\"true\": 6.600000000000014, \"pred\": 6.150657033655019}, {\"true\": 4.211111111111115, \"pred\": 2.4702515048008773}, {\"true\": 2.152083333333333, \"pred\": 3.791457779008828}, {\"true\": 4.781250000000002, \"pred\": 5.467736883005193}, {\"true\": 1.5433333333333348, \"pred\": 3.5886538376309676}, {\"true\": 3.3833333333333315, \"pred\": 3.3884411053821064}, {\"true\": 1.2583333333333333, \"pred\": 4.050775089222252}, {\"true\": 1.1300000000000006, \"pred\": 2.3736860810582945}, {\"true\": 1.858333333333328, \"pred\": 2.602072824237367}, {\"true\": 1.4999999999999982, \"pred\": 2.525121525560571}, {\"true\": 2.7666666666666737, \"pred\": 2.942203498919828}, {\"true\": 2.5749999999999997, \"pred\": 3.3811374360230633}, {\"true\": 1.411111111111117, \"pred\": 2.9207105583366015}, {\"true\": 4.120000000000003, \"pred\": 4.119640180795562}, {\"true\": 6.0388888888888905, \"pred\": 4.572657659987048}, {\"true\": 6.091666666666671, \"pred\": 3.721158812236673}, {\"true\": 1.8833333333333262, \"pred\": 2.3414357620178037}, {\"true\": 2.3500000000000143, \"pred\": 2.6892461855609215}, {\"true\": 3.156666666666668, \"pred\": 3.570407668946443}, {\"true\": 7.0200000000000005, \"pred\": 3.630870551095322}, {\"true\": 2.233333333333335, \"pred\": 2.8143914768144493}, {\"true\": 2.033333333333332, \"pred\": 4.504046320461066}, {\"true\": 14.325000000000003, \"pred\": 11.582734589020463}, {\"true\": 4.1187499999999995, \"pred\": 3.5759738373915275}, {\"true\": 10.437499999999996, \"pred\": 4.3944741793073}, {\"true\": 4.037500000000001, \"pred\": 3.197007185170924}, {\"true\": 6.41904761904762, \"pred\": 5.346311964480172}, {\"true\": 3.447619047619046, \"pred\": 3.3557516841851447}, {\"true\": 2.723809523809524, \"pred\": 4.308937433017518}, {\"true\": 7.256666666666668, \"pred\": 5.229263810619901}, {\"true\": 3.2000000000000073, \"pred\": 5.014775995798734}, {\"true\": 5.691666666666665, \"pred\": 5.375402198756762}, {\"true\": 4.1999999999999975, \"pred\": 4.62735024610866}, {\"true\": 0.0, \"pred\": 3.51354034128389}, {\"true\": 0.5250000000000062, \"pred\": 4.359564067818553}, {\"true\": 6.970370370370372, \"pred\": 5.581198222626467}, {\"true\": 5.019444444444445, \"pred\": 4.3944129386454795}, {\"true\": 4.212962962962964, \"pred\": 4.425692590630136}, {\"true\": 7.67333333333333, \"pred\": 5.714325965665239}, {\"true\": 3.0458333333333383, \"pred\": 4.227867659642216}, {\"true\": 4.538333333333333, \"pred\": 4.939889303699494}, {\"true\": 4.511111111111115, \"pred\": 4.588194869464439}, {\"true\": 1.1666666666666632, \"pred\": 3.0033298728747044}, {\"true\": 1.9033333333333373, \"pred\": 3.853691298730235}, {\"true\": 8.100000000000001, \"pred\": 4.936764151441292}, {\"true\": 2.4305555555555585, \"pred\": 3.619805632657038}, {\"true\": 11.995833333333334, \"pred\": 5.404203962530984}, {\"true\": 1.1733333333333373, \"pred\": 3.1017179585958745}, {\"true\": 4.250000000000003, \"pred\": 2.918460652666786}, {\"true\": 5.5444444444444505, \"pred\": 6.739143635226963}, {\"true\": 6.900000000000018, \"pred\": 3.9022397430534057}, {\"true\": 5.014285714285718, \"pred\": 4.555175482717008}, {\"true\": 5.0625, \"pred\": 4.3493630620965}, {\"true\": 2.725, \"pred\": 4.92179111339993}, {\"true\": 10.756666666666668, \"pred\": 8.735393314025773}, {\"true\": 8.662121212121212, \"pred\": 3.9465343870681653}, {\"true\": 4.083333333333334, \"pred\": 3.375896507700813}, {\"true\": 8.016666666666667, \"pred\": 6.840149592289219}, {\"true\": 1.9958333333333356, \"pred\": 2.696703599986775}, {\"true\": 2.7645833333333334, \"pred\": 3.3342397155917145}, {\"true\": 5.635416666666667, \"pred\": 5.584915296496886}, {\"true\": 0.9833333333333386, \"pred\": 2.219482063570306}, {\"true\": 7.599999999999989, \"pred\": 2.4340484177437895}, {\"true\": 1.0658141036401503e-14, \"pred\": 1.7982175185370741}, {\"true\": 3.3687500000000012, \"pred\": 3.2510886614708534}, {\"true\": 1.4666666666666843, \"pred\": 3.5372840036712394}, {\"true\": 3.245, \"pred\": 3.624924375838382}, {\"true\": 1.2583333333333333, \"pred\": 3.6829213859933128}, {\"true\": 2.5833333333333397, \"pred\": 2.863085911798157}, {\"true\": 2.3666666666666707, \"pred\": 2.6739598217989777}, {\"true\": 1.255555555555552, \"pred\": 1.8562649325956415}, {\"true\": 12.085185185185187, \"pred\": 6.686788982545406}, {\"true\": 8.223333333333338, \"pred\": 2.6238427596861147}, {\"true\": 3.883333333333336, \"pred\": 3.933259770450689}, {\"true\": 1.4523809523809532, \"pred\": 2.670920918646857}, {\"true\": 3.4500000000000037, \"pred\": 2.5524593816878314}, {\"true\": 1.1842378929335002e-15, \"pred\": 2.5497116800317183}, {\"true\": 7.120000000000002, \"pred\": 5.095865620966858}, {\"true\": 3.9333333333333345, \"pred\": 4.136714806990116}, {\"true\": 4.991666666666669, \"pred\": 3.3822778189910823}, {\"true\": 3.3479166666666664, \"pred\": 4.206733235149375}, {\"true\": 0.43333333333334045, \"pred\": 2.981606935005266}, {\"true\": 4.086111111111112, \"pred\": 3.322942788651164}, {\"true\": 5.626666666666668, \"pred\": 4.024211570575186}, {\"true\": 5.0249999999999995, \"pred\": 5.701130192729626}, {\"true\": 2.969047619047622, \"pred\": 4.632952554394748}, {\"true\": 1.6666666666666665, \"pred\": 2.5072925629521894}, {\"true\": 5.626666666666668, \"pred\": 3.664422353370171}, {\"true\": 1.7000000000000037, \"pred\": 2.592807763466236}, {\"true\": 1.9972222222222256, \"pred\": 5.126226203468187}, {\"true\": 4.321428571428572, \"pred\": 4.892070690004999}, {\"true\": 7.6583333333333385, \"pred\": 3.694135081427183}, {\"true\": 3.8133333333333352, \"pred\": 3.120812670514176}, {\"true\": 5.6049999999999995, \"pred\": 4.4619878719514965}, {\"true\": 7.866666666666663, \"pred\": 4.4097552101376865}, {\"true\": 3.0944444444444503, \"pred\": 2.8351764893385605}, {\"true\": 1.4523809523809532, \"pred\": 3.513969203181818}, {\"true\": 4.454761904761907, \"pred\": 4.325799482456646}, {\"true\": 2.659999999999999, \"pred\": 4.204868499929633}, {\"true\": 1.6566666666666674, \"pred\": 3.3012308135621016}, {\"true\": 2.9966666666666706, \"pred\": 3.7181578297862536}, {\"true\": 3.6958333333333337, \"pred\": 3.0088842685220922}, {\"true\": 1.975000000000009, \"pred\": 3.441016936357265}, {\"true\": 4.463333333333333, \"pred\": 4.074882345927861}, {\"true\": 2.2250000000000005, \"pred\": 3.274052092242412}, {\"true\": 1.8833333333333262, \"pred\": 2.0410642957198113}, {\"true\": 3.2270833333333346, \"pred\": 3.900663161833146}, {\"true\": 3.090476190476189, \"pred\": 5.120095179188883}, {\"true\": 2.880555555555556, \"pred\": 2.7187833089096283}, {\"true\": 5.019999999999998, \"pred\": 4.280624634757883}, {\"true\": 5.090476190476191, \"pred\": 4.8598536655414275}, {\"true\": 8.895238095238094, \"pred\": 6.766286857015152}, {\"true\": 5.588888888888888, \"pred\": 4.375118583707275}, {\"true\": 3.2166666666666694, \"pred\": 4.520844212346904}, {\"true\": 4.170833333333331, \"pred\": 2.7211108386518585}, {\"true\": 2.416666666666669, \"pred\": 3.2157437369284594}, {\"true\": 4.103333333333334, \"pred\": 3.8344010225566754}, {\"true\": 3.2900000000000036, \"pred\": 2.9765849436464666}, {\"true\": 4.795238095238095, \"pred\": 4.8838524932701235}, {\"true\": 4.016666666666661, \"pred\": 3.1094662271793188}, {\"true\": 4.21666666666667, \"pred\": 3.3133322467780926}, {\"true\": 4.872916666666668, \"pred\": 3.9096888750417027}, {\"true\": 7.586111111111113, \"pred\": 2.3578634365369897}, {\"true\": 5.016666666666667, \"pred\": 3.9759794370403725}, {\"true\": 6.566666666666667, \"pred\": 5.200909942587996}, {\"true\": 7.214285714285714, \"pred\": 6.2153753427520515}, {\"true\": 2.754166666666671, \"pred\": 3.048107564217604}, {\"true\": 6.650000000000004, \"pred\": 3.8726830887554526}, {\"true\": 4.53333333333334, \"pred\": 4.670687301181944}, {\"true\": 0.0, \"pred\": 3.042546504424932}, {\"true\": 4.174999999999998, \"pred\": 5.165804859180615}, {\"true\": 4.337500000000002, \"pred\": 5.523356485304758}, {\"true\": 8.09761904761905, \"pred\": 5.605757324383842}, {\"true\": 2.472222222222228, \"pred\": 2.513638772973162}, {\"true\": 6.259523809523811, \"pred\": 4.809180979645432}, {\"true\": 5.438888888888889, \"pred\": 4.444470253465264}, {\"true\": 3.808333333333338, \"pred\": 4.012909427444239}, {\"true\": 4.737500000000002, \"pred\": 5.189483691595572}, {\"true\": 1.0249999999999972, \"pred\": 2.4456539031733278}, {\"true\": 2.9847222222222225, \"pred\": 4.85647532382088}, {\"true\": 4.120833333333335, \"pred\": 3.706903168089319}, {\"true\": 3.752777777777777, \"pred\": 3.499051809139186}, {\"true\": 1.600000000000006, \"pred\": 5.487968334443834}, {\"true\": 4.144444444444446, \"pred\": 3.5444028425017056}, {\"true\": 0.7833333333333333, \"pred\": 3.4943500087082167}, {\"true\": 4.136666666666667, \"pred\": 4.164588590918419}, {\"true\": 4.144444444444446, \"pred\": 4.420073093788194}, {\"true\": 10.604166666666671, \"pred\": 6.147503179741038}, {\"true\": 1.5733333333333355, \"pred\": 2.112162137089557}, {\"true\": 9.939999999999998, \"pred\": 5.067171826338941}, {\"true\": 2.8895833333333356, \"pred\": 4.585352933639789}, {\"true\": 2.366666666666669, \"pred\": 3.588059221472756}, {\"true\": 1.5249999999999981, \"pred\": 2.847629713389057}, {\"true\": 1.4210854715202004e-14, \"pred\": 4.333951745319288}, {\"true\": 4.916666666666664, \"pred\": 3.140333032246801}, {\"true\": 7.250000000000003, \"pred\": 3.341013373248422}, {\"true\": 4.2738095238095255, \"pred\": 4.2669710412644895}, {\"true\": 5.652777777777779, \"pred\": 4.7289022089920625}, {\"true\": 3.111111111111114, \"pred\": 4.703664743642949}, {\"true\": 3.295238095238095, \"pred\": 4.2157978585825955}, {\"true\": 7.452777777777778, \"pred\": 5.943027664184836}, {\"true\": 9.939999999999998, \"pred\": 4.993421346686491}, {\"true\": 1.6958333333333344, \"pred\": 2.7689286457493107}, {\"true\": 7.214285714285714, \"pred\": 5.069176289892643}, {\"true\": 4.972222222222223, \"pred\": 4.390933156870439}, {\"true\": 6.053333333333333, \"pred\": 3.7596520257320156}, {\"true\": 5.540000000000001, \"pred\": 3.8029856669786377}, {\"true\": 2.211111111111113, \"pred\": 4.006651543956778}, {\"true\": 3.6416666666666666, \"pred\": 2.565165887075245}, {\"true\": 2.322222222222226, \"pred\": 2.9664426310024736}, {\"true\": 3.752777777777777, \"pred\": 4.307774690111238}, {\"true\": 4.211111111111108, \"pred\": 3.409520171439594}, {\"true\": 0.6624999999999982, \"pred\": 1.9727927893852624}, {\"true\": 0.7000000000000001, \"pred\": 2.261192326563323}, {\"true\": 5.830303030303029, \"pred\": 5.595938906755442}, {\"true\": 1.955555555555553, \"pred\": 4.061947228022117}, {\"true\": 8.097222222222223, \"pred\": 3.8072254126462477}, {\"true\": 6.0388888888888905, \"pred\": 3.9170136244509868}, {\"true\": 11.469444444444443, \"pred\": 8.613786844261769}, {\"true\": 9.227777777777783, \"pred\": 6.041412103110455}, {\"true\": 2.0791666666666693, \"pred\": 2.9244043087830023}, {\"true\": 0.9666666666666667, \"pred\": 3.5113090642136293}, {\"true\": 3.0020833333333337, \"pred\": 2.3896236019031742}, {\"true\": 4.023333333333335, \"pred\": 3.842690743775957}, {\"true\": 4.20897435897436, \"pred\": 3.7670863593525676}, {\"true\": 5.0600000000000005, \"pred\": 6.53448141802113}, {\"true\": 3.576666666666669, \"pred\": 4.182501569873826}, {\"true\": 1.7875, \"pred\": 4.010116296019029}, {\"true\": 7.6583333333333385, \"pred\": 4.422085318541975}, {\"true\": 4.008333333333338, \"pred\": 3.4715570618137668}, {\"true\": 8.875, \"pred\": 6.2824871305442676}, {\"true\": 3.486111111111111, \"pred\": 3.631784262457774}, {\"true\": 8.112962962962964, \"pred\": 6.259187353829615}, {\"true\": 4.8533333333333335, \"pred\": 5.5510606250502486}, {\"true\": 3.1444444444444444, \"pred\": 4.325204535301223}, {\"true\": 1.3000000000000014, \"pred\": 2.3924646088316677}, {\"true\": 4.4, \"pred\": 6.391173090825959}, {\"true\": 1.9366666666666668, \"pred\": 4.033418169526387}, {\"true\": 6.020238095238095, \"pred\": 4.82714756316317}, {\"true\": 5.041666666666672, \"pred\": 3.466945534018225}, {\"true\": 7.13809523809524, \"pred\": 4.635424527130825}, {\"true\": 4.63888888888889, \"pred\": 4.39926312141139}, {\"true\": 5.005555555555552, \"pred\": 3.982033646881391}, {\"true\": 4.083333333333334, \"pred\": 3.426414928387278}, {\"true\": 2.6555555555555626, \"pred\": 3.2703680401853177}, {\"true\": 4.5738095238095235, \"pred\": 4.765136067822663}, {\"true\": 7.2750000000000075, \"pred\": 3.5903723893360135}, {\"true\": 1.7791666666666712, \"pred\": 3.1569108046535694}, {\"true\": 1.6750000000000071, \"pred\": 3.781573863771213}, {\"true\": 8.020833333333336, \"pred\": 7.764165079019984}, {\"true\": 16.280555555555555, \"pred\": 7.960867163728197}, {\"true\": 2.5291666666666694, \"pred\": 4.258266985690662}, {\"true\": 4.804166666666667, \"pred\": 3.1532761158082017}, {\"true\": 1.463888888888887, \"pred\": 2.1055800618560037}, {\"true\": 4.537878787878788, \"pred\": 5.312226930701128}, {\"true\": 0.9777777777777813, \"pred\": 3.769492992204326}, {\"true\": 2.683333333333332, \"pred\": 6.599502267581996}, {\"true\": 4.030000000000001, \"pred\": 4.457205501895417}, {\"true\": 3.683333333333351, \"pred\": 2.636377072576091}, {\"true\": 6.94444444444445, \"pred\": 5.429215436614584}, {\"true\": 2.783333333333332, \"pred\": 2.2147277972533512}, {\"true\": 7.881481481481482, \"pred\": 6.472450504527131}, {\"true\": 13.111111111111112, \"pred\": 4.274046337338528}, {\"true\": 4.67222222222222, \"pred\": 4.092394115680859}, {\"true\": 6.6466666666666665, \"pred\": 4.034846889715484}, {\"true\": 5.791666666666667, \"pred\": 4.429396029291903}, {\"true\": 1.733333333333337, \"pred\": 2.86888456934615}, {\"true\": 0.0, \"pred\": 1.967761734516828}, {\"true\": 8.020833333333332, \"pred\": 5.308123700445304}, {\"true\": 1.2583333333333369, \"pred\": 4.591971243721937}, {\"true\": 0.7277777777777777, \"pred\": 2.462744208591981}, {\"true\": 3.5571428571428583, \"pred\": 4.342086664157411}, {\"true\": 1.0966666666666642, \"pred\": 3.520324206546524}, {\"true\": 11.636666666666667, \"pred\": 6.480887580857265}, {\"true\": 3.1880952380952396, \"pred\": 3.945857607684085}, {\"true\": 1.2277777777777785, \"pred\": 2.472910774780668}, {\"true\": 1.7763568394002505e-15, \"pred\": 2.7064748557299176}, {\"true\": 1.5466666666666666, \"pred\": 3.563092191030618}, {\"true\": 5.154761904761905, \"pred\": 4.880507610808179}, {\"true\": 4.03809523809524, \"pred\": 3.390187181705729}, {\"true\": 3.2416666666666676, \"pred\": 3.2737636193385513}, {\"true\": 6.1333333333333355, \"pred\": 4.360500048841689}, {\"true\": 2.122222222222226, \"pred\": 3.293030271259126}, {\"true\": 5.0625, \"pred\": 3.619876343789853}, {\"true\": 5.200000000000009, \"pred\": 2.896408616558213}, {\"true\": 0.3777777777777798, \"pred\": 3.3477378327255614}, {\"true\": 8.316666666666668, \"pred\": 4.615090815392494}, {\"true\": 5.005555555555552, \"pred\": 3.0990772564801334}, {\"true\": 4.923333333333335, \"pred\": 2.6338672865277095}, {\"true\": 4.171666666666668, \"pred\": 4.2300016067077495}, {\"true\": 5.611111111111107, \"pred\": 3.438701854289794}, {\"true\": 0.9966666666666683, \"pred\": 2.065213748371045}, {\"true\": 3.1000000000000036, \"pred\": 4.158005202018509}, {\"true\": 3.685714285714286, \"pred\": 2.6770670461629233}, {\"true\": 4.938888888888891, \"pred\": 3.831634722872057}, {\"true\": 0.9666666666666773, \"pred\": 3.5146488809140677}, {\"true\": 2.3595238095238105, \"pred\": 2.8385393031231354}, {\"true\": 2.383333333333343, \"pred\": 3.3436893070433755}, {\"true\": 4.4, \"pred\": 5.968473693453173}, {\"true\": 1.9666666666666754, \"pred\": 2.878533819855272}, {\"true\": 3.1300000000000012, \"pred\": 2.239649500331201}, {\"true\": 3.2541666666666638, \"pred\": 4.42065122909609}, {\"true\": 1.9291666666666667, \"pred\": 2.6770794972166327}, {\"true\": 1.733333333333337, \"pred\": 3.2304632749258304}, {\"true\": 2.4666666666666757, \"pred\": 2.9429341020481017}, {\"true\": 1.4250000000000054, \"pred\": 3.712085386927892}, {\"true\": 3.4500000000000037, \"pred\": 2.689493134321968}, {\"true\": 5.004166666666671, \"pred\": 3.694200959108955}, {\"true\": 1.48611111111111, \"pred\": 3.8204134214124252}, {\"true\": 5.88095238095238, \"pred\": 4.8063631067705535}, {\"true\": 1.1000000000000099, \"pred\": 3.3141821601305796}, {\"true\": 7.833333333333334, \"pred\": 3.9440957141729647}, {\"true\": 3.333333333333334, \"pred\": 4.306949950187186}, {\"true\": 4.150000000000001, \"pred\": 2.9986514801292543}, {\"true\": 9.812962962962962, \"pred\": 7.6266906636516465}, {\"true\": 5.610000000000001, \"pred\": 3.926781123861299}, {\"true\": 2.9500000000000055, \"pred\": 3.945702630639559}, {\"true\": 6.4750000000000005, \"pred\": 3.3814366232115916}, {\"true\": 9.141666666666666, \"pred\": 7.339574199460776}, {\"true\": 3.8813725490196087, \"pred\": 3.7205811880554447}, {\"true\": 7.0200000000000005, \"pred\": 4.313914961184969}, {\"true\": 1.0666666666666844, \"pred\": 3.952292289348932}, {\"true\": 2.6907407407407407, \"pred\": 3.1381764048773033}, {\"true\": 6.94444444444445, \"pred\": 4.547032686606503}, {\"true\": 4.837499999999999, \"pred\": 3.4173563961601325}, {\"true\": 2.9083333333333323, \"pred\": 2.902098591395048}, {\"true\": 3.5777777777777793, \"pred\": 2.916386084824844}, {\"true\": 3.473333333333335, \"pred\": 3.275010100199698}, {\"true\": 0.6611111111111088, \"pred\": 2.4375260729958166}, {\"true\": 8.033333333333331, \"pred\": 6.1185628133930265}, {\"true\": 3.2416666666666676, \"pred\": 3.1925921929515395}, {\"true\": 0.7277777777777837, \"pred\": 2.468763550383683}, {\"true\": 3.2055555555555593, \"pred\": 3.197439609885976}, {\"true\": 2.7766666666666655, \"pred\": 4.630164949799646}, {\"true\": 2.3722222222222222, \"pred\": 2.8730735635481337}, {\"true\": 1.9666666666666879, \"pred\": 3.871535754222397}, {\"true\": 1.7100000000000015, \"pred\": 2.7708331287251937}, {\"true\": 4.086111111111112, \"pred\": 4.651006570390758}, {\"true\": 3.8666666666666702, \"pred\": 4.345376601758148}, {\"true\": 2.433333333333337, \"pred\": 5.385677806101295}, {\"true\": 4.451515151515152, \"pred\": 4.668187026987444}, {\"true\": 3.8566666666666705, \"pred\": 3.989784447569949}, {\"true\": 3.583333333333334, \"pred\": 3.258360123504963}, {\"true\": 3.3444444444444446, \"pred\": 5.0291359846989305}], \"data-32de56843fa3f113496d15045ef6b3ab\": [{\"x\": 0.0, \"y\": 0.0}, {\"x\": 2.7777777777777777, \"y\": 2.7777777777777777}, {\"x\": 5.555555555555555, \"y\": 5.555555555555555}, {\"x\": 8.333333333333332, \"y\": 8.333333333333332}, {\"x\": 11.11111111111111, \"y\": 11.11111111111111}, {\"x\": 13.88888888888889, \"y\": 13.88888888888889}, {\"x\": 16.666666666666664, \"y\": 16.666666666666664}, {\"x\": 19.444444444444443, \"y\": 19.444444444444443}, {\"x\": 22.22222222222222, \"y\": 22.22222222222222}, {\"x\": 25.0, \"y\": 25.0}]}}, {\"mode\": \"vega-lite\"});\n",
       "</script>"
      ],
      "text/plain": [
       "alt.LayerChart(...)"
      ]
     },
     "execution_count": 252,
     "metadata": {},
     "output_type": "execute_result"
    }
   ],
   "source": [
    "plot_results(labels_test, predicted)"
   ]
  },
  {
   "cell_type": "code",
   "execution_count": null,
   "id": "96c6f1b0-4942-4fa5-b5af-8c7a10697568",
   "metadata": {},
   "outputs": [],
   "source": []
  }
 ],
 "metadata": {
  "kernelspec": {
   "display_name": "Python 3 (ipykernel)",
   "language": "python",
   "name": "python3"
  },
  "language_info": {
   "codemirror_mode": {
    "name": "ipython",
    "version": 3
   },
   "file_extension": ".py",
   "mimetype": "text/x-python",
   "name": "python",
   "nbconvert_exporter": "python",
   "pygments_lexer": "ipython3",
   "version": "3.9.6"
  }
 },
 "nbformat": 4,
 "nbformat_minor": 5
}
