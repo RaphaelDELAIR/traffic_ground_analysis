{
 "cells": [
  {
   "cell_type": "code",
   "execution_count": 1,
   "id": "9568da13-8b96-454f-94f1-1e64040cf23c",
   "metadata": {
    "execution": {
     "iopub.execute_input": "2021-07-16T09:28:08.469675Z",
     "iopub.status.busy": "2021-07-16T09:28:08.469216Z",
     "iopub.status.idle": "2021-07-16T09:28:08.477324Z",
     "shell.execute_reply": "2021-07-16T09:28:08.476890Z",
     "shell.execute_reply.started": "2021-07-16T09:28:08.469602Z"
    }
   },
   "outputs": [
    {
     "name": "stdout",
     "output_type": "stream",
     "text": [
      "lpl\n"
     ]
    }
   ],
   "source": [
    "print('lpl')"
   ]
  },
  {
   "cell_type": "code",
   "execution_count": null,
   "id": "e596f416-0bfa-4fe7-811c-8b540e73d8ca",
   "metadata": {},
   "outputs": [],
   "source": []
  }
 ],
 "metadata": {
  "kernelspec": {
   "display_name": "Python 3 (ipykernel)",
   "language": "python",
   "name": "python3"
  },
  "language_info": {
   "codemirror_mode": {
    "name": "ipython",
    "version": 3
   },
   "file_extension": ".py",
   "mimetype": "text/x-python",
   "name": "python",
   "nbconvert_exporter": "python",
   "pygments_lexer": "ipython3",
   "version": "3.9.6"
  }
 },
 "nbformat": 4,
 "nbformat_minor": 5
}
