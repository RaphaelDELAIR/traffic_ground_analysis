{
 "cells": [
  {
   "cell_type": "code",
   "execution_count": 19,
   "id": "20499fd5-66a0-430d-8678-e1896251f9fb",
   "metadata": {
    "execution": {
     "iopub.execute_input": "2021-07-27T10:11:56.920683Z",
     "iopub.status.busy": "2021-07-27T10:11:56.920199Z",
     "iopub.status.idle": "2021-07-27T10:11:56.925960Z",
     "shell.execute_reply": "2021-07-27T10:11:56.925136Z",
     "shell.execute_reply.started": "2021-07-27T10:11:56.920638Z"
    },
    "tags": []
   },
   "outputs": [],
   "source": [
    "from ground_analysis.extract_flight_info import compute_sifi, extract_dep_info"
   ]
  },
  {
   "cell_type": "code",
   "execution_count": 2,
   "id": "4432032a-999c-4831-a54c-cf8067587893",
   "metadata": {
    "execution": {
     "iopub.execute_input": "2021-07-27T09:37:57.095319Z",
     "iopub.status.busy": "2021-07-27T09:37:57.094499Z",
     "iopub.status.idle": "2021-07-27T09:37:57.101219Z",
     "shell.execute_reply": "2021-07-27T09:37:57.100217Z",
     "shell.execute_reply.started": "2021-07-27T09:37:57.095259Z"
    }
   },
   "outputs": [],
   "source": [
    "import pandas as pd"
   ]
  },
  {
   "cell_type": "code",
   "execution_count": 5,
   "id": "f7b65707-f00f-44b9-b451-df5f8468ec40",
   "metadata": {
    "execution": {
     "iopub.execute_input": "2021-07-27T09:38:58.558099Z",
     "iopub.status.busy": "2021-07-27T09:38:58.557850Z",
     "iopub.status.idle": "2021-07-27T09:38:58.610449Z",
     "shell.execute_reply": "2021-07-27T09:38:58.609961Z",
     "shell.execute_reply.started": "2021-07-27T09:38:58.558077Z"
    },
    "tags": []
   },
   "outputs": [],
   "source": [
    "deparrdf = pd.read_parquet(\"../data/intermediate/flight_df_DEP_v28_2019-10-01 03:58:59+00:00_2019-11-30 22:14:59+00:00.pkl.parquet.gzip\")"
   ]
  },
  {
   "cell_type": "code",
   "execution_count": 13,
   "id": "383cae75-4cf3-4f9f-b758-bd8ebf52df51",
   "metadata": {
    "execution": {
     "iopub.execute_input": "2021-07-27T09:56:18.071788Z",
     "iopub.status.busy": "2021-07-27T09:56:18.071409Z",
     "iopub.status.idle": "2021-07-27T09:56:19.080790Z",
     "shell.execute_reply": "2021-07-27T09:56:19.080067Z",
     "shell.execute_reply.started": "2021-07-27T09:56:18.071761Z"
    },
    "tags": []
   },
   "outputs": [],
   "source": [
    "deparrdf_ = pd.read_pickle(\"../data/intermediate/flight_df_DEP_v27_2019-10-01 03:58:59+00:00_2019-11-30 22:14:59+00:00.pkl\")"
   ]
  },
  {
   "cell_type": "code",
   "execution_count": 29,
   "id": "770d7b96-a956-48af-8f0c-a0baa3fa29a0",
   "metadata": {
    "execution": {
     "iopub.execute_input": "2021-07-27T10:22:12.545881Z",
     "iopub.status.busy": "2021-07-27T10:22:12.545304Z",
     "iopub.status.idle": "2021-07-27T10:22:12.582726Z",
     "shell.execute_reply": "2021-07-27T10:22:12.581989Z",
     "shell.execute_reply.started": "2021-07-27T10:22:12.545853Z"
    },
    "tags": []
   },
   "outputs": [],
   "source": [
    "arrdf28 = pd.read_parquet(\"../data/intermediate/flight_df_ARR_v28_2019-10-01 04:03:04+00:00_2019-11-30 21:50:22+00:00.pkl.parquet.gzip\")"
   ]
  },
  {
   "cell_type": "code",
   "execution_count": 32,
   "id": "024e6bbd-04b2-4140-927a-57f850e284bd",
   "metadata": {
    "execution": {
     "iopub.execute_input": "2021-07-27T10:22:37.915572Z",
     "iopub.status.busy": "2021-07-27T10:22:37.915311Z",
     "iopub.status.idle": "2021-07-27T10:22:38.071608Z",
     "shell.execute_reply": "2021-07-27T10:22:38.071073Z",
     "shell.execute_reply.started": "2021-07-27T10:22:37.915550Z"
    },
    "tags": []
   },
   "outputs": [],
   "source": [
    "arrdf27 = pd.read_pickle(\"../data/intermediate/flight_df_ARR_v27_2019-10-01 04:03:04+00:00_2019-11-30 21:50:22+00:00.pkl\")"
   ]
  },
  {
   "cell_type": "code",
   "execution_count": 33,
   "id": "550369ef-af25-4af0-9b64-dc551b6cdcc2",
   "metadata": {
    "execution": {
     "iopub.execute_input": "2021-07-27T10:22:38.544915Z",
     "iopub.status.busy": "2021-07-27T10:22:38.544465Z",
     "iopub.status.idle": "2021-07-27T10:22:38.549584Z",
     "shell.execute_reply": "2021-07-27T10:22:38.549070Z",
     "shell.execute_reply.started": "2021-07-27T10:22:38.544889Z"
    },
    "tags": []
   },
   "outputs": [
    {
     "data": {
      "text/plain": [
       "((19072, 36), (19072, 36))"
      ]
     },
     "execution_count": 33,
     "metadata": {},
     "output_type": "execute_result"
    }
   ],
   "source": [
    "arrdf28.shape, arrdf27.shape"
   ]
  },
  {
   "cell_type": "code",
   "execution_count": 14,
   "id": "75ca1361-a5c2-4334-9c1c-46737e30cc07",
   "metadata": {
    "execution": {
     "iopub.execute_input": "2021-07-27T09:56:26.456013Z",
     "iopub.status.busy": "2021-07-27T09:56:26.455625Z",
     "iopub.status.idle": "2021-07-27T09:56:26.486387Z",
     "shell.execute_reply": "2021-07-27T09:56:26.485835Z",
     "shell.execute_reply.started": "2021-07-27T09:56:26.455983Z"
    }
   },
   "outputs": [
    {
     "name": "stdout",
     "output_type": "stream",
     "text": [
      "<class 'pandas.core.frame.DataFrame'>\n",
      "RangeIndex: 16458 entries, 0 to 16457\n",
      "Data columns (total 36 columns):\n",
      " #   Column                             Non-Null Count  Dtype              \n",
      "---  ------                             --------------  -----              \n",
      " 0   flight_id                          16458 non-null  object             \n",
      " 1   on_runway_time                     16458 non-null  datetime64[ns, UTC]\n",
      " 2   taxi_holding_time                  16458 non-null  timedelta64[ns]    \n",
      " 3   rwy_holding_time                   0 non-null      object             \n",
      " 4   total_holding_time                 16458 non-null  timedelta64[ns]    \n",
      " 5   taxi_holding_time_minutes          16458 non-null  float64            \n",
      " 6   first_movement                     16458 non-null  datetime64[ns, UTC]\n",
      " 7   callsign                           16458 non-null  object             \n",
      " 8   registration                       13378 non-null  object             \n",
      " 9   typecode                           13378 non-null  object             \n",
      " 10  icao24                             16458 non-null  object             \n",
      " 11  firstseen_min                      16458 non-null  datetime64[ns, UTC]\n",
      " 12  start                              16458 non-null  datetime64[ns, UTC]\n",
      " 13  stop                               16458 non-null  datetime64[ns, UTC]\n",
      " 14  duration                           16458 non-null  timedelta64[ns]    \n",
      " 15  cumdist_max                        16458 non-null  float64            \n",
      " 16  parking_position                   7198 non-null   object             \n",
      " 17  parking_position_duration          7198 non-null   timedelta64[ns]    \n",
      " 18  runway                             16458 non-null  object             \n",
      " 19  pb_duration                        6113 non-null   timedelta64[ns]    \n",
      " 20  end_pb                             6113 non-null   datetime64[ns, UTC]\n",
      " 21  duration_minutes                   16458 non-null  float64            \n",
      " 22  parking_position_duration_minutes  7198 non-null   float64            \n",
      " 23  pb_duration_minutes                6113 non-null   float64            \n",
      " 24  first_movement_start               16458 non-null  datetime64[ns, UTC]\n",
      " 25  taxi_dist                          16458 non-null  float64            \n",
      " 26  total_holding_time_minutes         16458 non-null  float64            \n",
      " 27  real_dur                           16458 non-null  timedelta64[ns]    \n",
      " 28  real_dur_minutes                   16458 non-null  float64            \n",
      " 29  airline                            16458 non-null  object             \n",
      " 30  hh                                 16458 non-null  datetime64[ns, UTC]\n",
      " 31  hh_num                             16458 non-null  float64            \n",
      " 32  angle_sum                          15476 non-null  float64            \n",
      " 33  avg_speed                          16458 non-null  float64            \n",
      " 34  mvt_type                           16458 non-null  object             \n",
      " 35  taxiing_stop                       16458 non-null  datetime64[ns, UTC]\n",
      "dtypes: datetime64[ns, UTC](9), float64(11), object(10), timedelta64[ns](6)\n",
      "memory usage: 4.5+ MB\n"
     ]
    }
   ],
   "source": [
    "deparrdf_.info()"
   ]
  },
  {
   "cell_type": "code",
   "execution_count": 7,
   "id": "aa3ce46e-7f2d-4de1-9880-64f54ebbe70f",
   "metadata": {
    "execution": {
     "iopub.execute_input": "2021-07-27T09:39:32.556904Z",
     "iopub.status.busy": "2021-07-27T09:39:32.555897Z",
     "iopub.status.idle": "2021-07-27T09:39:33.784494Z",
     "shell.execute_reply": "2021-07-27T09:39:33.783965Z",
     "shell.execute_reply.started": "2021-07-27T09:39:32.556835Z"
    },
    "tags": []
   },
   "outputs": [],
   "source": [
    "df = compute_sifi(deparrdf, col_name=\"sifi_DEP\", mvt_type=\"DEP\")"
   ]
  },
  {
   "cell_type": "code",
   "execution_count": 8,
   "id": "d2cf8096-73f0-477d-9922-51aaf8a90a8a",
   "metadata": {
    "execution": {
     "iopub.execute_input": "2021-07-27T09:39:47.591497Z",
     "iopub.status.busy": "2021-07-27T09:39:47.591023Z",
     "iopub.status.idle": "2021-07-27T09:39:47.599507Z",
     "shell.execute_reply": "2021-07-27T09:39:47.598467Z",
     "shell.execute_reply.started": "2021-07-27T09:39:47.591453Z"
    }
   },
   "outputs": [
    {
     "data": {
      "text/plain": [
       "'flight_id on_runway_time taxi_holding_time rwy_holding_time total_holding_time taxi_holding_time_minutes first_movement callsign registration typecode icao24 firstseen_min start stop duration cumdist_max parking_position parking_position_duration runway pb_duration end_pb duration_minutes parking_position_duration_minutes pb_duration_minutes first_movement_start taxi_dist total_holding_time_minutes real_dur real_dur_minutes airline hh hh_num angle_sum avg_speed mvt_type taxiing_stop'"
      ]
     },
     "execution_count": 8,
     "metadata": {},
     "output_type": "execute_result"
    }
   ],
   "source": [
    "\" \".join(df.columns)"
   ]
  },
  {
   "cell_type": "code",
   "execution_count": 16,
   "id": "3b7c1ae6-63e1-4f0f-b2b1-85389a1f92eb",
   "metadata": {
    "execution": {
     "iopub.execute_input": "2021-07-27T10:06:35.555202Z",
     "iopub.status.busy": "2021-07-27T10:06:35.554520Z",
     "iopub.status.idle": "2021-07-27T10:06:35.558589Z",
     "shell.execute_reply": "2021-07-27T10:06:35.557951Z",
     "shell.execute_reply.started": "2021-07-27T10:06:35.555176Z"
    }
   },
   "outputs": [],
   "source": [
    "from traffic.core import Traffic"
   ]
  },
  {
   "cell_type": "code",
   "execution_count": 17,
   "id": "0704cb24-da94-4910-b0fb-9cf048f77cbb",
   "metadata": {
    "execution": {
     "iopub.execute_input": "2021-07-27T10:06:36.795961Z",
     "iopub.status.busy": "2021-07-27T10:06:36.795688Z",
     "iopub.status.idle": "2021-07-27T10:07:56.275841Z",
     "shell.execute_reply": "2021-07-27T10:07:56.275117Z",
     "shell.execute_reply.started": "2021-07-27T10:06:36.795938Z"
    },
    "tags": []
   },
   "outputs": [],
   "source": [
    "traf = Traffic.from_file('../data/intermediate/taxi_zurich_2019_takeoff.pkl')"
   ]
  },
  {
   "cell_type": "code",
   "execution_count": 18,
   "id": "f383d513-0269-4614-a909-09f88c8a00f2",
   "metadata": {
    "execution": {
     "iopub.execute_input": "2021-07-27T10:11:09.199148Z",
     "iopub.status.busy": "2021-07-27T10:11:09.198629Z",
     "iopub.status.idle": "2021-07-27T10:11:16.706869Z",
     "shell.execute_reply": "2021-07-27T10:11:16.706190Z",
     "shell.execute_reply.started": "2021-07-27T10:11:09.198899Z"
    }
   },
   "outputs": [],
   "source": [
    "traf_sample = traf.query('timestamp.dt.day==25 & timestamp.dt.month==11')"
   ]
  },
  {
   "cell_type": "code",
   "execution_count": 23,
   "id": "d86157eb-bc27-48a1-8ef6-ed4d0d110bbb",
   "metadata": {
    "execution": {
     "iopub.execute_input": "2021-07-27T10:15:33.276463Z",
     "iopub.status.busy": "2021-07-27T10:15:33.275461Z",
     "iopub.status.idle": "2021-07-27T10:15:38.302264Z",
     "shell.execute_reply": "2021-07-27T10:15:38.301235Z",
     "shell.execute_reply.started": "2021-07-27T10:15:33.276413Z"
    },
    "tags": []
   },
   "outputs": [
    {
     "data": {
      "application/vnd.jupyter.widget-view+json": {
       "model_id": "",
       "version_major": 2,
       "version_minor": 0
      },
      "text/plain": [
       "  0%|          | 0/309 [00:00<?, ?it/s]"
      ]
     },
     "metadata": {},
     "output_type": "display_data"
    }
   ],
   "source": [
    "traf_sample = (\n",
    "    traf_sample.aircraft_data()\n",
    "    .cumulative_distance()\n",
    "    .eval(desc=\"\", max_workers=23)\n",
    ")"
   ]
  },
  {
   "cell_type": "code",
   "execution_count": 26,
   "id": "2d04df2b-bc0a-4b72-9c0d-cc49d6e95f10",
   "metadata": {
    "execution": {
     "iopub.execute_input": "2021-07-27T10:18:29.605552Z",
     "iopub.status.busy": "2021-07-27T10:18:29.604411Z",
     "iopub.status.idle": "2021-07-27T10:18:29.610171Z",
     "shell.execute_reply": "2021-07-27T10:18:29.609835Z",
     "shell.execute_reply.started": "2021-07-27T10:18:29.605497Z"
    }
   },
   "outputs": [
    {
     "data": {
      "text/plain": [
       "309"
      ]
     },
     "execution_count": 26,
     "metadata": {},
     "output_type": "execute_result"
    }
   ],
   "source": [
    "len(traf_sample)"
   ]
  },
  {
   "cell_type": "code",
   "execution_count": 28,
   "id": "5a1eba74-00c3-42d6-8338-251ef59bfca6",
   "metadata": {
    "execution": {
     "iopub.execute_input": "2021-07-27T10:19:34.791276Z",
     "iopub.status.busy": "2021-07-27T10:19:34.790521Z",
     "iopub.status.idle": "2021-07-27T10:19:34.810067Z",
     "shell.execute_reply": "2021-07-27T10:19:34.809701Z",
     "shell.execute_reply.started": "2021-07-27T10:19:34.791244Z"
    },
    "tags": []
   },
   "outputs": [
    {
     "name": "stdout",
     "output_type": "stream",
     "text": [
      "<class 'pandas.core.frame.DataFrame'>\n",
      "Int64Index: 221 entries, 68 to 16356\n",
      "Data columns (total 36 columns):\n",
      " #   Column                             Non-Null Count  Dtype              \n",
      "---  ------                             --------------  -----              \n",
      " 0   flight_id                          221 non-null    object             \n",
      " 1   on_runway_time                     221 non-null    datetime64[ns, UTC]\n",
      " 2   taxi_holding_time                  221 non-null    timedelta64[ns]    \n",
      " 3   rwy_holding_time                   0 non-null      object             \n",
      " 4   total_holding_time                 221 non-null    timedelta64[ns]    \n",
      " 5   taxi_holding_time_minutes          221 non-null    float64            \n",
      " 6   first_movement                     221 non-null    datetime64[ns, UTC]\n",
      " 7   callsign                           221 non-null    object             \n",
      " 8   registration                       181 non-null    object             \n",
      " 9   typecode                           181 non-null    object             \n",
      " 10  icao24                             221 non-null    object             \n",
      " 11  firstseen_min                      221 non-null    datetime64[ns, UTC]\n",
      " 12  start                              221 non-null    datetime64[ns, UTC]\n",
      " 13  stop                               221 non-null    datetime64[ns, UTC]\n",
      " 14  duration                           221 non-null    timedelta64[ns]    \n",
      " 15  cumdist_max                        221 non-null    float64            \n",
      " 16  parking_position                   80 non-null     object             \n",
      " 17  parking_position_duration          80 non-null     timedelta64[ns]    \n",
      " 18  runway                             221 non-null    object             \n",
      " 19  pb_duration                        64 non-null     timedelta64[ns]    \n",
      " 20  end_pb                             64 non-null     datetime64[ns, UTC]\n",
      " 21  duration_minutes                   221 non-null    float64            \n",
      " 22  parking_position_duration_minutes  80 non-null     float64            \n",
      " 23  pb_duration_minutes                64 non-null     float64            \n",
      " 24  first_movement_start               221 non-null    datetime64[ns, UTC]\n",
      " 25  taxi_dist                          221 non-null    float64            \n",
      " 26  total_holding_time_minutes         221 non-null    float64            \n",
      " 27  real_dur                           221 non-null    timedelta64[ns]    \n",
      " 28  real_dur_minutes                   221 non-null    float64            \n",
      " 29  airline                            221 non-null    object             \n",
      " 30  hh                                 221 non-null    datetime64[ns, UTC]\n",
      " 31  hh_num                             221 non-null    float64            \n",
      " 32  angle_sum                          189 non-null    float64            \n",
      " 33  avg_speed                          221 non-null    float64            \n",
      " 34  mvt_type                           221 non-null    object             \n",
      " 35  taxiing_stop                       221 non-null    datetime64[ns, UTC]\n",
      "dtypes: datetime64[ns, UTC](9), float64(11), object(10), timedelta64[ns](6)\n",
      "memory usage: 63.9+ KB\n"
     ]
    }
   ],
   "source": [
    "deparrdf_.query(\"first_movement_start.dt.day==25 & first_movement_start.dt.month==11\").info()"
   ]
  },
  {
   "cell_type": "code",
   "execution_count": 24,
   "id": "19a4b93e-9a99-4fdf-be8a-1ee077e5b90c",
   "metadata": {
    "execution": {
     "iopub.execute_input": "2021-07-27T10:15:42.361298Z",
     "iopub.status.busy": "2021-07-27T10:15:42.361032Z",
     "iopub.status.idle": "2021-07-27T10:16:32.289802Z",
     "shell.execute_reply": "2021-07-27T10:16:32.289325Z",
     "shell.execute_reply.started": "2021-07-27T10:15:42.361271Z"
    },
    "tags": []
   },
   "outputs": [
    {
     "name": "stdout",
     "output_type": "stream",
     "text": [
      "Launching on 24 cores\n"
     ]
    },
    {
     "name": "stderr",
     "output_type": "stream",
     "text": [
      "100%|█████████████████████████████████████████████████████████████████| 309/309 [00:46<00:00,  6.64it/s]\n"
     ]
    },
    {
     "name": "stdout",
     "output_type": "stream",
     "text": [
      "        flight_id            on_runway_time taxi_holding_time  \\\n",
      "0    ACA879_20574 2019-11-25 08:45:55+00:00   0 days 00:09:41   \n",
      "1    AFL2393_3030 2019-11-25 21:27:38+00:00   0 days 00:01:18   \n",
      "2    AFL2487_3033 2019-11-25 11:05:11+00:00   0 days 00:03:51   \n",
      "3     AFR161N_743 2019-11-25 14:22:34+00:00   0 days 00:00:00   \n",
      "4     AFR181L_762 2019-11-25 17:39:37+00:00   0 days 00:00:00   \n",
      "..            ...                       ...               ...   \n",
      "216  UAL135_20447 2019-11-25 09:38:50+00:00   0 days 00:08:36   \n",
      "217   UAL53_20484 2019-11-25 10:56:03+00:00   0 days 00:09:16   \n",
      "218  VJT453_19175 2019-11-25 18:13:22+00:00   0 days 00:01:28   \n",
      "219  VJT480_19197 2019-11-25 12:34:09+00:00   0 days 00:02:00   \n",
      "220   VLG64JB_379 2019-11-25 20:14:30+00:00   0 days 00:06:00   \n",
      "\n",
      "    rwy_holding_time total_holding_time  taxi_holding_time_minutes  \\\n",
      "0               None    0 days 00:09:41                   9.683333   \n",
      "1               None    0 days 00:01:18                   1.300000   \n",
      "2               None    0 days 00:03:51                   3.850000   \n",
      "3               None    0 days 00:03:33                   0.000000   \n",
      "4               None    0 days 00:00:00                   0.000000   \n",
      "..               ...                ...                        ...   \n",
      "216             None    0 days 00:08:36                   8.600000   \n",
      "217             None    0 days 00:09:16                   9.266667   \n",
      "218             None    0 days 00:01:28                   1.466667   \n",
      "219             None    0 days 00:02:00                   2.000000   \n",
      "220             None    0 days 00:07:50                   6.000000   \n",
      "\n",
      "               first_movement callsign registration typecode  ...  \\\n",
      "0   2019-11-25 08:33:02+00:00   ACA879       C-FGDT     B789  ...   \n",
      "1   2019-11-25 21:24:31+00:00  AFL2393       VP-BON     B738  ...   \n",
      "2   2019-11-25 10:57:16+00:00  AFL2487       VP-BON     B738  ...   \n",
      "3   2019-11-25 14:14:32+00:00  AFR161N       F-GRHB     A319  ...   \n",
      "4   2019-11-25 17:35:36+00:00  AFR181L       F-GRHR     A319  ...   \n",
      "..                        ...      ...          ...      ...  ...   \n",
      "216 2019-11-25 09:27:06+00:00   UAL135       N76055     B764  ...   \n",
      "217 2019-11-25 10:42:02+00:00    UAL53       N78060     B764  ...   \n",
      "218 2019-11-25 18:12:31+00:00   VJT453         None     None  ...   \n",
      "219 2019-11-25 12:32:14+00:00   VJT480         None     None  ...   \n",
      "220 2019-11-25 20:06:01+00:00  VLG64JB       EC-KMI     A320  ...   \n",
      "\n",
      "    total_holding_time_minutes        real_dur real_dur_minutes airline  \\\n",
      "0                     9.683333 0 days 00:12:51        12.850000     ACA   \n",
      "1                     1.300000 0 days 00:03:05         3.083333     AFL   \n",
      "2                     3.850000 0 days 00:07:53         7.883333     AFL   \n",
      "3                     3.550000 0 days 00:08:00         8.000000     AFR   \n",
      "4                     0.000000 0 days 00:03:59         3.983333     AFR   \n",
      "..                         ...             ...              ...     ...   \n",
      "216                   8.600000 0 days 00:11:42        11.700000     UAL   \n",
      "217                   9.266667 0 days 00:13:59        13.983333     UAL   \n",
      "218                   1.466667 0 days 00:00:49         0.816667     VJT   \n",
      "219                   2.000000 0 days 00:01:53         1.883333     VJT   \n",
      "220                   7.833333 0 days 00:08:27         8.450000     VLG   \n",
      "\n",
      "                           hh  hh_num   angle_sum avg_speed mvt_type  \\\n",
      "0   2019-11-25 08:30:00+00:00     8.5  476.671667  1.743934      DEP   \n",
      "1   2019-11-25 21:00:00+00:00    21.0  202.424669  3.943400      DEP   \n",
      "2   2019-11-25 10:30:00+00:00    10.5  570.387772  3.793986      DEP   \n",
      "3   2019-11-25 14:00:00+00:00    14.0  617.152687  4.044188      DEP   \n",
      "4   2019-11-25 17:30:00+00:00    17.5  274.947258  5.971019      DEP   \n",
      "..                        ...     ...         ...       ...      ...   \n",
      "216 2019-11-25 09:00:00+00:00     9.0  238.123995  3.445143      DEP   \n",
      "217 2019-11-25 10:30:00+00:00    10.5  444.881505  3.477910      DEP   \n",
      "218 2019-11-25 18:00:00+00:00    18.0   72.797957  1.619641      DEP   \n",
      "219 2019-11-25 12:30:00+00:00    12.5   73.298687  0.772675      DEP   \n",
      "220 2019-11-25 20:00:00+00:00    20.0  275.633044  1.745552      DEP   \n",
      "\n",
      "                 taxiing_stop  \n",
      "0   2019-11-25 08:45:54+00:00  \n",
      "1   2019-11-25 21:27:37+00:00  \n",
      "2   2019-11-25 11:05:10+00:00  \n",
      "3   2019-11-25 14:22:33+00:00  \n",
      "4   2019-11-25 17:39:36+00:00  \n",
      "..                        ...  \n",
      "216 2019-11-25 09:38:49+00:00  \n",
      "217 2019-11-25 10:56:02+00:00  \n",
      "218 2019-11-25 18:13:21+00:00  \n",
      "219 2019-11-25 12:34:08+00:00  \n",
      "220 2019-11-25 20:14:29+00:00  \n",
      "\n",
      "[221 rows x 36 columns]\n",
      "Loaded  in 0 days 00:00:49.921003 and saved at ../data/samples/traf_sample_25_11_v1_2019-11-25 05:05:21+00:00_2019-11-25 22:03:45+00:00.pkl\n"
     ]
    }
   ],
   "source": [
    "fdf = extract_dep_info(traf_sample, v=1, dir_path='../data/samples/', fn='traf_sample_25_11')"
   ]
  },
  {
   "cell_type": "code",
   "execution_count": 25,
   "id": "d08caf1d-714e-4599-a472-7388f9c05fd4",
   "metadata": {
    "execution": {
     "iopub.execute_input": "2021-07-27T10:18:10.549811Z",
     "iopub.status.busy": "2021-07-27T10:18:10.548910Z",
     "iopub.status.idle": "2021-07-27T10:18:10.563208Z",
     "shell.execute_reply": "2021-07-27T10:18:10.562826Z",
     "shell.execute_reply.started": "2021-07-27T10:18:10.549780Z"
    },
    "tags": []
   },
   "outputs": [
    {
     "name": "stdout",
     "output_type": "stream",
     "text": [
      "<class 'pandas.core.frame.DataFrame'>\n",
      "RangeIndex: 221 entries, 0 to 220\n",
      "Data columns (total 36 columns):\n",
      " #   Column                             Non-Null Count  Dtype              \n",
      "---  ------                             --------------  -----              \n",
      " 0   flight_id                          221 non-null    object             \n",
      " 1   on_runway_time                     221 non-null    datetime64[ns, UTC]\n",
      " 2   taxi_holding_time                  221 non-null    timedelta64[ns]    \n",
      " 3   rwy_holding_time                   0 non-null      object             \n",
      " 4   total_holding_time                 221 non-null    timedelta64[ns]    \n",
      " 5   taxi_holding_time_minutes          221 non-null    float64            \n",
      " 6   first_movement                     221 non-null    datetime64[ns, UTC]\n",
      " 7   callsign                           221 non-null    object             \n",
      " 8   registration                       181 non-null    object             \n",
      " 9   typecode                           181 non-null    object             \n",
      " 10  icao24                             221 non-null    object             \n",
      " 11  firstseen_min                      221 non-null    datetime64[ns, UTC]\n",
      " 12  start                              221 non-null    datetime64[ns, UTC]\n",
      " 13  stop                               221 non-null    datetime64[ns, UTC]\n",
      " 14  duration                           221 non-null    timedelta64[ns]    \n",
      " 15  cumdist_max                        221 non-null    float64            \n",
      " 16  parking_position                   78 non-null     object             \n",
      " 17  parking_position_duration          78 non-null     timedelta64[ns]    \n",
      " 18  runway                             221 non-null    object             \n",
      " 19  pb_duration                        62 non-null     timedelta64[ns]    \n",
      " 20  end_pb                             62 non-null     datetime64[ns, UTC]\n",
      " 21  duration_minutes                   221 non-null    float64            \n",
      " 22  parking_position_duration_minutes  78 non-null     float64            \n",
      " 23  pb_duration_minutes                62 non-null     float64            \n",
      " 24  first_movement_start               221 non-null    datetime64[ns, UTC]\n",
      " 25  taxi_dist                          221 non-null    float64            \n",
      " 26  total_holding_time_minutes         221 non-null    float64            \n",
      " 27  real_dur                           221 non-null    timedelta64[ns]    \n",
      " 28  real_dur_minutes                   221 non-null    float64            \n",
      " 29  airline                            221 non-null    object             \n",
      " 30  hh                                 221 non-null    datetime64[ns, UTC]\n",
      " 31  hh_num                             221 non-null    float64            \n",
      " 32  angle_sum                          210 non-null    float64            \n",
      " 33  avg_speed                          221 non-null    float64            \n",
      " 34  mvt_type                           221 non-null    object             \n",
      " 35  taxiing_stop                       221 non-null    datetime64[ns, UTC]\n",
      "dtypes: datetime64[ns, UTC](9), float64(11), object(10), timedelta64[ns](6)\n",
      "memory usage: 62.3+ KB\n"
     ]
    }
   ],
   "source": [
    "fdf.info()"
   ]
  },
  {
   "cell_type": "code",
   "execution_count": 10,
   "id": "3cb03cb8-5c6d-4094-b69e-201d05ad910d",
   "metadata": {
    "execution": {
     "iopub.execute_input": "2021-07-27T09:41:42.876731Z",
     "iopub.status.busy": "2021-07-27T09:41:42.875344Z",
     "iopub.status.idle": "2021-07-27T09:41:42.901565Z",
     "shell.execute_reply": "2021-07-27T09:41:42.901007Z",
     "shell.execute_reply.started": "2021-07-27T09:41:42.876679Z"
    }
   },
   "outputs": [
    {
     "data": {
      "text/html": [
       "<div>\n",
       "<style scoped>\n",
       "    .dataframe tbody tr th:only-of-type {\n",
       "        vertical-align: middle;\n",
       "    }\n",
       "\n",
       "    .dataframe tbody tr th {\n",
       "        vertical-align: top;\n",
       "    }\n",
       "\n",
       "    .dataframe thead th {\n",
       "        text-align: right;\n",
       "    }\n",
       "</style>\n",
       "<table border=\"1\" class=\"dataframe\">\n",
       "  <thead>\n",
       "    <tr style=\"text-align: right;\">\n",
       "      <th></th>\n",
       "      <th>flight_id</th>\n",
       "      <th>on_runway_time</th>\n",
       "      <th>taxi_holding_time</th>\n",
       "      <th>rwy_holding_time</th>\n",
       "      <th>total_holding_time</th>\n",
       "      <th>taxi_holding_time_minutes</th>\n",
       "      <th>first_movement</th>\n",
       "      <th>callsign</th>\n",
       "      <th>registration</th>\n",
       "      <th>typecode</th>\n",
       "      <th>...</th>\n",
       "      <th>total_holding_time_minutes</th>\n",
       "      <th>real_dur</th>\n",
       "      <th>real_dur_minutes</th>\n",
       "      <th>airline</th>\n",
       "      <th>hh</th>\n",
       "      <th>hh_num</th>\n",
       "      <th>angle_sum</th>\n",
       "      <th>avg_speed</th>\n",
       "      <th>mvt_type</th>\n",
       "      <th>taxiing_stop</th>\n",
       "    </tr>\n",
       "  </thead>\n",
       "  <tbody>\n",
       "  </tbody>\n",
       "</table>\n",
       "<p>0 rows × 36 columns</p>\n",
       "</div>"
      ],
      "text/plain": [
       "Empty DataFrame\n",
       "Columns: [flight_id, on_runway_time, taxi_holding_time, rwy_holding_time, total_holding_time, taxi_holding_time_minutes, first_movement, callsign, registration, typecode, icao24, firstseen_min, start, stop, duration, cumdist_max, parking_position, parking_position_duration, runway, pb_duration, end_pb, duration_minutes, parking_position_duration_minutes, pb_duration_minutes, first_movement_start, taxi_dist, total_holding_time_minutes, real_dur, real_dur_minutes, airline, hh, hh_num, angle_sum, avg_speed, mvt_type, taxiing_stop]\n",
       "Index: []\n",
       "\n",
       "[0 rows x 36 columns]"
      ]
     },
     "execution_count": 10,
     "metadata": {},
     "output_type": "execute_result"
    }
   ],
   "source": [
    "df.loc[(~df.end_pb.isna()) & (~df.first_movement_start.isna())]"
   ]
  },
  {
   "cell_type": "code",
   "execution_count": null,
   "id": "83d8d39b-ff99-428e-b074-bd0731de617a",
   "metadata": {},
   "outputs": [],
   "source": [
    "TXOT\n",
    "MAE\n",
    "RMSE\n",
    "ATM\n",
    "ASQP Airline Service Quality Performance (ASQP) data. The\n",
    "ASQP data include records of the ACARS5 pushback time and takeoff time along with other\n",
    "information such as the scheduled departure and arrival times, the aircraft type, the airline, and\n",
    "the origin and destination airports\n",
    "\n",
    "\n",
    "ANM\n",
    "NMIR\n",
    "(NMOC not neededd)\n",
    "DCNN\n",
    "TMA Extended Terminal Maneuver Area\n",
    "LSI Latent Semantic Indexing Convolutional and Neural Network (LSI and CNN)\n",
    "Airport Collaborative Decision System (A-CDM) \n",
    "QFU\n",
    "AOBT Actual Out of Block Time\n",
    "MSE\n",
    "METAR METeorological Aerodrome Report\n",
    "TAF terminal aerodrome forecast\n",
    "\n",
    " SIFI stands for Surface Instantaneous Flow Indice, AQLI for Aicraft Queue Length Indice and SCFI for Surface Cumulative Flow Indice.\n",
    "\n",
    " forward and backward Sequential Feature Selection (SFS) and Recursive Feature Elimination with Cross-Validation (RFECV).\n",
    "Gradient Boosting Model (GBM) \n",
    "\n",
    "\n",
    "Wake Turbulence Categories (WTC)\n",
    "Air Traffic Management Airport Performance (ATMAP)\n",
    "Arrival Sequencing and Metering Area (ASMA)"
   ]
  },
  {
   "cell_type": "code",
   "execution_count": 35,
   "id": "3cc2bb73-26b0-456f-928c-f4a1eaa6ec3d",
   "metadata": {
    "execution": {
     "iopub.execute_input": "2021-08-11T16:02:23.547093Z",
     "iopub.status.busy": "2021-08-11T16:02:23.546533Z",
     "iopub.status.idle": "2021-08-11T16:02:23.555962Z",
     "shell.execute_reply": "2021-08-11T16:02:23.555142Z",
     "shell.execute_reply.started": "2021-08-11T16:02:23.547043Z"
    },
    "tags": []
   },
   "outputs": [
    {
     "data": {
      "text/plain": [
       "'ANM AOBT AQLI ASMA ASQP ATM ATMAP DCNN GBM LSI MAE METAR MSE NMIR QFU RFECV RMSE SCFI SFS SIFI TAF TMA TXOT WTC'"
      ]
     },
     "execution_count": 35,
     "metadata": {},
     "output_type": "execute_result"
    }
   ],
   "source": [
    "\" \".join(sorted(['TXOT', 'MAE', 'RMSE', 'ATM', 'ASQP', 'ANM', 'NMIR', 'DCNN', 'TMA', 'LSI', 'QFU', 'AOBT', 'MSE', 'METAR', 'TAF', 'SIFI', 'AQLI', 'SCFI', 'SFS', 'RFECV', 'GBM', 'WTC', 'ATMAP', 'ASMA']))"
   ]
  },
  {
   "cell_type": "code",
   "execution_count": null,
   "id": "0e5c2707-d756-4b32-8703-d49524fa258c",
   "metadata": {},
   "outputs": [],
   "source": []
  }
 ],
 "metadata": {
  "kernelspec": {
   "display_name": "Python 3 (ipykernel)",
   "language": "python",
   "name": "python3"
  },
  "language_info": {
   "codemirror_mode": {
    "name": "ipython",
    "version": 3
   },
   "file_extension": ".py",
   "mimetype": "text/x-python",
   "name": "python",
   "nbconvert_exporter": "python",
   "pygments_lexer": "ipython3",
   "version": "3.9.6"
  }
 },
 "nbformat": 4,
 "nbformat_minor": 5
}
